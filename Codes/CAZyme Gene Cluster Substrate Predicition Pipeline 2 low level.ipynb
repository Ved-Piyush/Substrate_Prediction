{
 "cells": [
  {
   "cell_type": "markdown",
   "id": "7182c3d8",
   "metadata": {},
   "source": [
    "# Goal"
   ]
  },
  {
   "cell_type": "markdown",
   "id": "2a1f282d",
   "metadata": {},
   "source": [
    "**Multi-Class Classification** - To classify a sequence of genes into different categories. "
   ]
  },
  {
   "cell_type": "code",
   "execution_count": 1,
   "id": "b6c44589",
   "metadata": {},
   "outputs": [],
   "source": [
    "# set the directory to where the data is\n",
    "import os\n",
    "\n",
    "os.chdir(r\"D:\\Gene_Project\")"
   ]
  },
  {
   "cell_type": "code",
   "execution_count": 2,
   "id": "b1e62277",
   "metadata": {},
   "outputs": [],
   "source": [
    "# pandas for dealing with the data\n",
    "import pandas as pd\n",
    "# setting for seeing the entire string\n",
    "pd.options.display.max_colwidth = None\n",
    "pd.set_option('display.max_rows', 500)"
   ]
  },
  {
   "cell_type": "code",
   "execution_count": 3,
   "id": "6eabff8e",
   "metadata": {},
   "outputs": [],
   "source": [
    "# load the data - new data that was provided\n",
    "data = pd.read_csv(r\"pul_seq_low_high_substr_year_corrected.tsv\", sep = \"\\t\")"
   ]
  },
  {
   "cell_type": "code",
   "execution_count": 4,
   "id": "29ac0652",
   "metadata": {},
   "outputs": [
    {
     "data": {
      "text/html": [
       "<div>\n",
       "<style scoped>\n",
       "    .dataframe tbody tr th:only-of-type {\n",
       "        vertical-align: middle;\n",
       "    }\n",
       "\n",
       "    .dataframe tbody tr th {\n",
       "        vertical-align: top;\n",
       "    }\n",
       "\n",
       "    .dataframe thead th {\n",
       "        text-align: right;\n",
       "    }\n",
       "</style>\n",
       "<table border=\"1\" class=\"dataframe\">\n",
       "  <thead>\n",
       "    <tr style=\"text-align: right;\">\n",
       "      <th></th>\n",
       "      <th>PULid</th>\n",
       "      <th>sig_gene_seq</th>\n",
       "      <th>low_level_substr</th>\n",
       "      <th>high_level_substr</th>\n",
       "      <th>Pub_year</th>\n",
       "    </tr>\n",
       "  </thead>\n",
       "  <tbody>\n",
       "    <tr>\n",
       "      <th>0</th>\n",
       "      <td>PUL0001</td>\n",
       "      <td>GH1,8.A.49,CE2,GH130,GH130,3.A.1,3.A.1,SBP_bac_1,LacI,GH36,GH113</td>\n",
       "      <td>beta-mannan</td>\n",
       "      <td>beta-mannan</td>\n",
       "      <td>2019</td>\n",
       "    </tr>\n",
       "    <tr>\n",
       "      <th>1</th>\n",
       "      <td>PUL0002</td>\n",
       "      <td>GH16</td>\n",
       "      <td>lichenan</td>\n",
       "      <td>beta-glucan</td>\n",
       "      <td>1996</td>\n",
       "    </tr>\n",
       "    <tr>\n",
       "      <th>2</th>\n",
       "      <td>PUL0003</td>\n",
       "      <td>GH30_8,GH43_16|CBM6</td>\n",
       "      <td>xylan</td>\n",
       "      <td>xylan</td>\n",
       "      <td>2016</td>\n",
       "    </tr>\n",
       "    <tr>\n",
       "      <th>3</th>\n",
       "      <td>PUL0004</td>\n",
       "      <td>4.A.1,GH1</td>\n",
       "      <td>glucose,cellobiose,maltose</td>\n",
       "      <td>multiple_substrates</td>\n",
       "      <td>2016</td>\n",
       "    </tr>\n",
       "    <tr>\n",
       "      <th>4</th>\n",
       "      <td>PUL0005</td>\n",
       "      <td>GH94,GH3</td>\n",
       "      <td>beta-glucan,sophorose,laminaribiose</td>\n",
       "      <td>multiple_substrates</td>\n",
       "      <td>2016</td>\n",
       "    </tr>\n",
       "  </tbody>\n",
       "</table>\n",
       "</div>"
      ],
      "text/plain": [
       "     PULid                                                      sig_gene_seq  \\\n",
       "0  PUL0001  GH1,8.A.49,CE2,GH130,GH130,3.A.1,3.A.1,SBP_bac_1,LacI,GH36,GH113   \n",
       "1  PUL0002                                                              GH16   \n",
       "2  PUL0003                                               GH30_8,GH43_16|CBM6   \n",
       "3  PUL0004                                                         4.A.1,GH1   \n",
       "4  PUL0005                                                          GH94,GH3   \n",
       "\n",
       "                      low_level_substr    high_level_substr Pub_year  \n",
       "0                          beta-mannan          beta-mannan     2019  \n",
       "1                             lichenan         beta-glucan      1996  \n",
       "2                                xylan                xylan     2016  \n",
       "3           glucose,cellobiose,maltose  multiple_substrates     2016  \n",
       "4  beta-glucan,sophorose,laminaribiose  multiple_substrates     2016  "
      ]
     },
     "execution_count": 4,
     "metadata": {},
     "output_type": "execute_result"
    }
   ],
   "source": [
    "data.head()"
   ]
  },
  {
   "cell_type": "code",
   "execution_count": 5,
   "id": "0e4918ae",
   "metadata": {},
   "outputs": [],
   "source": [
    "# data[data[\"high_level_substr\"] == 'multiple_substrates'][\"low_level_substr\"].value_counts()"
   ]
  },
  {
   "cell_type": "code",
   "execution_count": 6,
   "id": "4120c0e6",
   "metadata": {},
   "outputs": [],
   "source": [
    "# all_classes = list(data[\"high_level_substr\"].value_counts().keys())"
   ]
  },
  {
   "cell_type": "code",
   "execution_count": 7,
   "id": "3f6cb128",
   "metadata": {},
   "outputs": [],
   "source": [
    "# all_classes"
   ]
  },
  {
   "cell_type": "code",
   "execution_count": 8,
   "id": "83f8f09b",
   "metadata": {},
   "outputs": [],
   "source": [
    "# # correspondence between high and low level\n",
    "\n",
    "# for classes in all_classes: \n",
    "#     print(classes)\n",
    "#     filtered_data = data[data[\"high_level_substr\"] == classes]\n",
    "#     correspondence = np.mean(filtered_data[\"high_level_substr\"].values == filtered_data[\"low_level_substr\"].values)\n",
    "#     print(correspondence)"
   ]
  },
  {
   "cell_type": "code",
   "execution_count": 9,
   "id": "7d405713",
   "metadata": {},
   "outputs": [
    {
     "data": {
      "text/plain": [
       "capsule polysaccharide                                           60\n",
       "O-antigen                                                        37\n",
       "pectin                                                           28\n",
       "xylan                                                            25\n",
       "alginate                                                         21\n",
       "O-glycan,N-glycan                                                21\n",
       "cellobiose                                                       14\n",
       "chitin                                                           14\n",
       "beta-glucan                                                      12\n",
       "cellulose                                                        12\n",
       "N-glycan                                                         12\n",
       "sucrose                                                          12\n",
       "lactose                                                          11\n",
       "galactan                                                         10\n",
       "arabinan                                                         10\n",
       "exopolysaccharide                                                 9\n",
       "alpha-mannan                                                      8\n",
       "carrageenan                                                       8\n",
       "beta-mannan                                                       8\n",
       "starch                                                            8\n",
       "xyloglucan                                                        7\n",
       "host glycan                                                       7\n",
       "N-acetylglucosamine                                               7\n",
       "galactooligosaccharide                                            7\n",
       "mucin,O-glycan                                                    6\n",
       "carboxymethylcellulose,xylan,beta-glucan,lichenan                 6\n",
       "lactose,host glycan                                               6\n",
       "lignocellulose                                                    6\n",
       "plant polysaccharide                                              6\n",
       "galactomannan                                                     6\n",
       "arabinoxylan                                                      6\n",
       "glycosaminoglycan                                                 6\n",
       "mucin                                                             6\n",
       "arabinogalactan                                                   5\n",
       "xylan,beta-glucan,lichenan                                        5\n",
       "hemicellulose                                                     5\n",
       "laminarin                                                         5\n",
       "sucrose,kestose,nystose                                           5\n",
       "rhamnogalacturonan                                                5\n",
       "raffinose                                                         5\n",
       "agar                                                              4\n",
       "beta-glucoside                                                    4\n",
       "beta-galactooligosaccharide                                       4\n",
       "capsule polysaccharide,outer core capsule polysaccharide          4\n",
       "O-glycan                                                          3\n",
       "human milk oligosaccharide                                        3\n",
       "maltose                                                           3\n",
       "glycogen                                                          3\n",
       "arabinan,xylan,levan,pectin,rhamnogalacturonan                    3\n",
       "alpha-glucan                                                      3\n",
       "glucomannan                                                       3\n",
       "glucomannan,galactomannan,glucose                                 3\n",
       "sucrose,kestose                                                   3\n",
       "4-methylumbelliferyl 6-azido-6-deoxy-beta-D-galactoside           3\n",
       "melibiose                                                         3\n",
       "xylan,arabinoxylan                                                3\n",
       "agar,porphyran                                                    3\n",
       "xylooligosaccharide                                               3\n",
       "fructooligosaccharide                                             3\n",
       "sialic acid                                                       2\n",
       "fucose                                                            2\n",
       "glucan                                                            2\n",
       "maltose,maltotriose                                               2\n",
       "maltodextrin                                                      2\n",
       "homogalacturonan                                                  2\n",
       "porphyran                                                         2\n",
       "dextran                                                           2\n",
       "glucomannan,galactomannan                                         2\n",
       "polygalacturonic acid                                             2\n",
       "melibiose,galactose                                               2\n",
       "chitobiose                                                        2\n",
       "fructan,inulin                                                    2\n",
       "glucomannan,glucose                                               2\n",
       "arabinose,arabinan                                                2\n",
       "alginate,ulvan                                                    2\n",
       "trehalose                                                         2\n",
       "xylan,xylose                                                      2\n",
       "arabinose                                                         2\n",
       "xylose                                                            2\n",
       "ribose                                                            2\n",
       "methylglucuronoarabinoxylan                                       2\n",
       "sucrose,kestose,nystose,fructooligosaccharide                     2\n",
       "galactomannooligosaccharide                                       2\n",
       "alpha-glucan,starch                                               2\n",
       "hemicellulose,pectin                                              1\n",
       "mannooligosaccharide                                              1\n",
       "beta-glucan,xylan                                                 1\n",
       "cellobiose,cellotriose                                            1\n",
       "glucose                                                           1\n",
       "acarbose                                                          1\n",
       "carrageenan,agar                                                  1\n",
       "maltose,maltodextrin                                              1\n",
       "pullulan                                                          1\n",
       "xylobiose,xylotriose                                              1\n",
       "host glycan,rhamnogalacturonan                                    1\n",
       "levan,inulin,fructan                                              1\n",
       "inulin                                                            1\n",
       "cellodextrin                                                      1\n",
       "chitin,chitobiose,cellobiose                                      1\n",
       "mucin,human milk oligosaccharide,O-glycan                         1\n",
       "alpha-mannoside,N-glycan                                          1\n",
       "cellobiose,cellulose,cellooligosaccharide                         1\n",
       "arabinoxylan,arabino-xylooligosaccharide                          1\n",
       "chitooligosaccharide                                              1\n",
       "levan                                                             1\n",
       "O-antigen,exopolysaccharide                                       1\n",
       "alpha-galactoside                                                 1\n",
       "xylobiose,xylodextrin                                             1\n",
       "cellobiose,beta-glucan,glucomannan,laminarin                      1\n",
       "N-acetyl-D-galactosamine                                          1\n",
       "mannose                                                           1\n",
       "arabinogalactan,cellobiose                                        1\n",
       "cellobiose,beta-glucan,glucosamine                                1\n",
       "N-acetyl-D-galactosamine,chondrotin sulfate                       1\n",
       "sucrose,kestose,nystose,inulin                                    1\n",
       "fucose,galacturonic acid, rhamnose                                1\n",
       "galactomannan,glucomannan,cellobiose,xyloglucan                   1\n",
       "N-acetyl-D-glucosamine,glucosamine                                1\n",
       "arabinan,pectin                                                   1\n",
       "galactomannan,glucomannan                                         1\n",
       "gentiobiose                                                       1\n",
       "O-antigen,unknown polysaccharide                                  1\n",
       "fructooligosaccharide,fructan                                     1\n",
       "lacto-n-triose                                                    1\n",
       "isomaltose                                                        1\n",
       "arabinofuranooligosaccharide                                      1\n",
       "galactose                                                         1\n",
       "glycosaminoglycan,chondroitin sulfate                             1\n",
       "raffinose,melibiose                                               1\n",
       "alpha-galactoside,beta-galactoside,raffinose,melibiose            1\n",
       "N-glycan,mucin                                                    1\n",
       "laminarin,beta-glucan                                             1\n",
       "arabinofuranose                                                   1\n",
       "raffinose,melibiose,isomaltotriose                                1\n",
       "melibiose,raffinose-oligosaccharide,stachyose                     1\n",
       "oligogalacturonide                                                1\n",
       "cellulose,galactomannan                                           1\n",
       "beta-glucan,galactomannan                                         1\n",
       "emulsan                                                           1\n",
       "kestose                                                           1\n",
       "lichenan,cellobiose,beta-glucoside                                1\n",
       "fructan                                                           1\n",
       "beta-glucan,sophorose,laminaribiose                               1\n",
       "glucose,cellobiose,maltose                                        1\n",
       "galactomannan,glucomannan,glucose,mannose                         1\n",
       "xanthan                                                           1\n",
       "xylan,glucomannan,plant polysaccharide                            1\n",
       "aldouronate                                                       1\n",
       "polysialic acid                                                   1\n",
       "cellulose,xylan,xyloglucan,pectin,mannan                          1\n",
       "acetylated glucuronoxylan                                         1\n",
       "cyclomaltodextrin                                                 1\n",
       "unsaturated hyaluronate disaccharide,chondroitin disaccharide     1\n",
       "N-acetyl-D-galactosamine,d-galactosamine                          1\n",
       "starch,maltodextrin                                               1\n",
       "sialoglycoconjugate                                               1\n",
       "sorbitol                                                          1\n",
       "laminarin,alginate                                                1\n",
       "fucosyllactose                                                    1\n",
       "capsule polysaccharide,heparosan                                  1\n",
       "unknown polysaccharide                                            1\n",
       "exopolysaccharide,lipopolysaccharide,capsule polysaccharide       1\n",
       "isomaltose,panose,raffinose,stachyose,melibiose                   1\n",
       "maltotriose                                                       1\n",
       "xylobiose,xylooligosaccharide                                     1\n",
       "lichenan                                                          1\n",
       "exopolysaccharide,lipopolysaccharide                              1\n",
       "melezitose                                                        1\n",
       "maltooligosaccharide                                              1\n",
       "glucuronoarabinoxylan                                             1\n",
       "Name: low_level_substr, dtype: int64"
      ]
     },
     "execution_count": 9,
     "metadata": {},
     "output_type": "execute_result"
    }
   ],
   "source": [
    "data[\"low_level_substr\"].value_counts()"
   ]
  },
  {
   "cell_type": "code",
   "execution_count": 168,
   "id": "2d2545bf",
   "metadata": {},
   "outputs": [],
   "source": [
    "# data[data[\"high_level_substr\"] == \"multiple_substrates\"]"
   ]
  },
  {
   "cell_type": "markdown",
   "id": "56d8eace",
   "metadata": {},
   "source": [
    "## Some data issues"
   ]
  },
  {
   "cell_type": "code",
   "execution_count": 169,
   "id": "e2d713f1",
   "metadata": {},
   "outputs": [],
   "source": [
    "# there is some null gene sequence\n",
    "# was creating some bugs later in the code\n",
    "# removed it"
   ]
  },
  {
   "cell_type": "code",
   "execution_count": 10,
   "id": "3a19838f",
   "metadata": {},
   "outputs": [
    {
     "data": {
      "text/html": [
       "<div>\n",
       "<style scoped>\n",
       "    .dataframe tbody tr th:only-of-type {\n",
       "        vertical-align: middle;\n",
       "    }\n",
       "\n",
       "    .dataframe tbody tr th {\n",
       "        vertical-align: top;\n",
       "    }\n",
       "\n",
       "    .dataframe thead th {\n",
       "        text-align: right;\n",
       "    }\n",
       "</style>\n",
       "<table border=\"1\" class=\"dataframe\">\n",
       "  <thead>\n",
       "    <tr style=\"text-align: right;\">\n",
       "      <th></th>\n",
       "      <th>PULid</th>\n",
       "      <th>sig_gene_seq</th>\n",
       "      <th>low_level_substr</th>\n",
       "      <th>high_level_substr</th>\n",
       "      <th>Pub_year</th>\n",
       "    </tr>\n",
       "  </thead>\n",
       "  <tbody>\n",
       "    <tr>\n",
       "      <th>75</th>\n",
       "      <td>PUL0076</td>\n",
       "      <td>NaN</td>\n",
       "      <td>capsule polysaccharide,outer core capsule polysaccharide</td>\n",
       "      <td>multiple_substrates</td>\n",
       "      <td>2019</td>\n",
       "    </tr>\n",
       "  </tbody>\n",
       "</table>\n",
       "</div>"
      ],
      "text/plain": [
       "      PULid sig_gene_seq  \\\n",
       "75  PUL0076          NaN   \n",
       "\n",
       "                                            low_level_substr  \\\n",
       "75  capsule polysaccharide,outer core capsule polysaccharide   \n",
       "\n",
       "      high_level_substr Pub_year  \n",
       "75  multiple_substrates     2019  "
      ]
     },
     "execution_count": 10,
     "metadata": {},
     "output_type": "execute_result"
    }
   ],
   "source": [
    "data[data.isnull().sum(axis = 1).astype(bool)]"
   ]
  },
  {
   "cell_type": "code",
   "execution_count": 11,
   "id": "9bc0fed7",
   "metadata": {},
   "outputs": [],
   "source": [
    "data = data.dropna()"
   ]
  },
  {
   "cell_type": "code",
   "execution_count": 12,
   "id": "61a466b3",
   "metadata": {},
   "outputs": [
    {
     "data": {
      "text/html": [
       "<div>\n",
       "<style scoped>\n",
       "    .dataframe tbody tr th:only-of-type {\n",
       "        vertical-align: middle;\n",
       "    }\n",
       "\n",
       "    .dataframe tbody tr th {\n",
       "        vertical-align: top;\n",
       "    }\n",
       "\n",
       "    .dataframe thead th {\n",
       "        text-align: right;\n",
       "    }\n",
       "</style>\n",
       "<table border=\"1\" class=\"dataframe\">\n",
       "  <thead>\n",
       "    <tr style=\"text-align: right;\">\n",
       "      <th></th>\n",
       "      <th>PULid</th>\n",
       "      <th>sig_gene_seq</th>\n",
       "      <th>low_level_substr</th>\n",
       "      <th>high_level_substr</th>\n",
       "      <th>Pub_year</th>\n",
       "    </tr>\n",
       "  </thead>\n",
       "  <tbody>\n",
       "  </tbody>\n",
       "</table>\n",
       "</div>"
      ],
      "text/plain": [
       "Empty DataFrame\n",
       "Columns: [PULid, sig_gene_seq, low_level_substr, high_level_substr, Pub_year]\n",
       "Index: []"
      ]
     },
     "execution_count": 12,
     "metadata": {},
     "output_type": "execute_result"
    }
   ],
   "source": [
    "data[data.isnull().sum(axis = 1).astype(bool)]"
   ]
  },
  {
   "cell_type": "code",
   "execution_count": 173,
   "id": "f56f12e3",
   "metadata": {},
   "outputs": [],
   "source": [
    "# give column names\n",
    "# data.columns = [\"sequence\", \"target\", \"year\"]"
   ]
  },
  {
   "cell_type": "code",
   "execution_count": 174,
   "id": "dd7e40bb",
   "metadata": {},
   "outputs": [],
   "source": [
    "# drop year\n",
    "# data = data.drop(labels = \"year\",axis = 1).sample(frac = 1.0)"
   ]
  },
  {
   "cell_type": "markdown",
   "id": "135494f1",
   "metadata": {},
   "source": [
    "# Exploratory Data Analysis"
   ]
  },
  {
   "cell_type": "markdown",
   "id": "da2a6a9b",
   "metadata": {},
   "source": [
    "1. Check the distribution of the substrates. \n",
    "2. Learn something about the genes that appear in the sequence. "
   ]
  },
  {
   "cell_type": "markdown",
   "id": "773d7667",
   "metadata": {},
   "source": [
    "## Check the target distributions"
   ]
  },
  {
   "cell_type": "code",
   "execution_count": 13,
   "id": "21e50377",
   "metadata": {},
   "outputs": [
    {
     "data": {
      "text/plain": [
       "capsule polysaccharide                                           60\n",
       "O-antigen                                                        37\n",
       "pectin                                                           28\n",
       "xylan                                                            25\n",
       "alginate                                                         21\n",
       "O-glycan,N-glycan                                                21\n",
       "cellobiose                                                       14\n",
       "chitin                                                           14\n",
       "beta-glucan                                                      12\n",
       "cellulose                                                        12\n",
       "N-glycan                                                         12\n",
       "sucrose                                                          12\n",
       "lactose                                                          11\n",
       "galactan                                                         10\n",
       "arabinan                                                         10\n",
       "exopolysaccharide                                                 9\n",
       "alpha-mannan                                                      8\n",
       "carrageenan                                                       8\n",
       "beta-mannan                                                       8\n",
       "starch                                                            8\n",
       "xyloglucan                                                        7\n",
       "host glycan                                                       7\n",
       "N-acetylglucosamine                                               7\n",
       "galactooligosaccharide                                            7\n",
       "mucin,O-glycan                                                    6\n",
       "carboxymethylcellulose,xylan,beta-glucan,lichenan                 6\n",
       "lactose,host glycan                                               6\n",
       "lignocellulose                                                    6\n",
       "plant polysaccharide                                              6\n",
       "mucin                                                             6\n",
       "glycosaminoglycan                                                 6\n",
       "galactomannan                                                     6\n",
       "arabinoxylan                                                      6\n",
       "arabinogalactan                                                   5\n",
       "laminarin                                                         5\n",
       "rhamnogalacturonan                                                5\n",
       "raffinose                                                         5\n",
       "hemicellulose                                                     5\n",
       "sucrose,kestose,nystose                                           5\n",
       "xylan,beta-glucan,lichenan                                        5\n",
       "beta-glucoside                                                    4\n",
       "beta-galactooligosaccharide                                       4\n",
       "agar                                                              4\n",
       "human milk oligosaccharide                                        3\n",
       "O-glycan                                                          3\n",
       "maltose                                                           3\n",
       "arabinan,xylan,levan,pectin,rhamnogalacturonan                    3\n",
       "glycogen                                                          3\n",
       "alpha-glucan                                                      3\n",
       "glucomannan                                                       3\n",
       "glucomannan,galactomannan,glucose                                 3\n",
       "sucrose,kestose                                                   3\n",
       "4-methylumbelliferyl 6-azido-6-deoxy-beta-D-galactoside           3\n",
       "melibiose                                                         3\n",
       "xylan,arabinoxylan                                                3\n",
       "agar,porphyran                                                    3\n",
       "xylooligosaccharide                                               3\n",
       "capsule polysaccharide,outer core capsule polysaccharide          3\n",
       "fructooligosaccharide                                             3\n",
       "sialic acid                                                       2\n",
       "fucose                                                            2\n",
       "glucan                                                            2\n",
       "maltose,maltotriose                                               2\n",
       "homogalacturonan                                                  2\n",
       "maltodextrin                                                      2\n",
       "porphyran                                                         2\n",
       "dextran                                                           2\n",
       "glucomannan,galactomannan                                         2\n",
       "polygalacturonic acid                                             2\n",
       "melibiose,galactose                                               2\n",
       "chitobiose                                                        2\n",
       "fructan,inulin                                                    2\n",
       "glucomannan,glucose                                               2\n",
       "arabinose,arabinan                                                2\n",
       "alginate,ulvan                                                    2\n",
       "trehalose                                                         2\n",
       "xylan,xylose                                                      2\n",
       "arabinose                                                         2\n",
       "xylose                                                            2\n",
       "ribose                                                            2\n",
       "methylglucuronoarabinoxylan                                       2\n",
       "sucrose,kestose,nystose,fructooligosaccharide                     2\n",
       "galactomannooligosaccharide                                       2\n",
       "alpha-glucan,starch                                               2\n",
       "hemicellulose,pectin                                              1\n",
       "mannooligosaccharide                                              1\n",
       "beta-glucan,xylan                                                 1\n",
       "cellobiose,cellotriose                                            1\n",
       "glucose                                                           1\n",
       "acarbose                                                          1\n",
       "carrageenan,agar                                                  1\n",
       "maltose,maltodextrin                                              1\n",
       "pullulan                                                          1\n",
       "xylobiose,xylotriose                                              1\n",
       "host glycan,rhamnogalacturonan                                    1\n",
       "levan,inulin,fructan                                              1\n",
       "inulin                                                            1\n",
       "cellodextrin                                                      1\n",
       "chitin,chitobiose,cellobiose                                      1\n",
       "mucin,human milk oligosaccharide,O-glycan                         1\n",
       "alpha-mannoside,N-glycan                                          1\n",
       "cellobiose,cellulose,cellooligosaccharide                         1\n",
       "arabinoxylan,arabino-xylooligosaccharide                          1\n",
       "chitooligosaccharide                                              1\n",
       "levan                                                             1\n",
       "O-antigen,exopolysaccharide                                       1\n",
       "alpha-galactoside                                                 1\n",
       "xylobiose,xylodextrin                                             1\n",
       "cellobiose,beta-glucan,glucomannan,laminarin                      1\n",
       "N-acetyl-D-galactosamine                                          1\n",
       "mannose                                                           1\n",
       "arabinogalactan,cellobiose                                        1\n",
       "cellobiose,beta-glucan,glucosamine                                1\n",
       "N-acetyl-D-galactosamine,chondrotin sulfate                       1\n",
       "sucrose,kestose,nystose,inulin                                    1\n",
       "fucose,galacturonic acid, rhamnose                                1\n",
       "galactomannan,glucomannan,cellobiose,xyloglucan                   1\n",
       "N-acetyl-D-glucosamine,glucosamine                                1\n",
       "arabinan,pectin                                                   1\n",
       "galactomannan,glucomannan                                         1\n",
       "gentiobiose                                                       1\n",
       "O-antigen,unknown polysaccharide                                  1\n",
       "fructooligosaccharide,fructan                                     1\n",
       "lacto-n-triose                                                    1\n",
       "isomaltose                                                        1\n",
       "arabinofuranooligosaccharide                                      1\n",
       "galactose                                                         1\n",
       "glycosaminoglycan,chondroitin sulfate                             1\n",
       "raffinose,melibiose                                               1\n",
       "alpha-galactoside,beta-galactoside,raffinose,melibiose            1\n",
       "N-glycan,mucin                                                    1\n",
       "laminarin,beta-glucan                                             1\n",
       "arabinofuranose                                                   1\n",
       "raffinose,melibiose,isomaltotriose                                1\n",
       "melibiose,raffinose-oligosaccharide,stachyose                     1\n",
       "oligogalacturonide                                                1\n",
       "cellulose,galactomannan                                           1\n",
       "beta-glucan,galactomannan                                         1\n",
       "emulsan                                                           1\n",
       "kestose                                                           1\n",
       "lichenan,cellobiose,beta-glucoside                                1\n",
       "fructan                                                           1\n",
       "beta-glucan,sophorose,laminaribiose                               1\n",
       "glucose,cellobiose,maltose                                        1\n",
       "galactomannan,glucomannan,glucose,mannose                         1\n",
       "xanthan                                                           1\n",
       "xylan,glucomannan,plant polysaccharide                            1\n",
       "aldouronate                                                       1\n",
       "polysialic acid                                                   1\n",
       "cellulose,xylan,xyloglucan,pectin,mannan                          1\n",
       "acetylated glucuronoxylan                                         1\n",
       "cyclomaltodextrin                                                 1\n",
       "unsaturated hyaluronate disaccharide,chondroitin disaccharide     1\n",
       "N-acetyl-D-galactosamine,d-galactosamine                          1\n",
       "starch,maltodextrin                                               1\n",
       "sialoglycoconjugate                                               1\n",
       "sorbitol                                                          1\n",
       "laminarin,alginate                                                1\n",
       "fucosyllactose                                                    1\n",
       "capsule polysaccharide,heparosan                                  1\n",
       "unknown polysaccharide                                            1\n",
       "exopolysaccharide,lipopolysaccharide,capsule polysaccharide       1\n",
       "isomaltose,panose,raffinose,stachyose,melibiose                   1\n",
       "maltotriose                                                       1\n",
       "xylobiose,xylooligosaccharide                                     1\n",
       "lichenan                                                          1\n",
       "exopolysaccharide,lipopolysaccharide                              1\n",
       "melezitose                                                        1\n",
       "maltooligosaccharide                                              1\n",
       "glucuronoarabinoxylan                                             1\n",
       "Name: low_level_substr, dtype: int64"
      ]
     },
     "execution_count": 13,
     "metadata": {},
     "output_type": "execute_result"
    }
   ],
   "source": [
    "# low level vs high level\n",
    "# low level has 170 categories \n",
    "# probably not amenable for multi class classification\n",
    "data[\"low_level_substr\"].value_counts()"
   ]
  },
  {
   "cell_type": "code",
   "execution_count": 176,
   "id": "a0293d70",
   "metadata": {},
   "outputs": [
    {
     "data": {
      "text/plain": [
       "170"
      ]
     },
     "execution_count": 176,
     "metadata": {},
     "output_type": "execute_result"
    }
   ],
   "source": [
    "len(data[\"low_level_substr\"].value_counts())"
   ]
  },
  {
   "cell_type": "code",
   "execution_count": 177,
   "id": "fdf1cca7",
   "metadata": {},
   "outputs": [],
   "source": [
    "# what is the missing class? that is the one which just says \"-\"?"
   ]
  },
  {
   "cell_type": "code",
   "execution_count": 14,
   "id": "77766c4f",
   "metadata": {},
   "outputs": [
    {
     "data": {
      "text/html": [
       "<div>\n",
       "<style scoped>\n",
       "    .dataframe tbody tr th:only-of-type {\n",
       "        vertical-align: middle;\n",
       "    }\n",
       "\n",
       "    .dataframe tbody tr th {\n",
       "        vertical-align: top;\n",
       "    }\n",
       "\n",
       "    .dataframe thead th {\n",
       "        text-align: right;\n",
       "    }\n",
       "</style>\n",
       "<table border=\"1\" class=\"dataframe\">\n",
       "  <thead>\n",
       "    <tr style=\"text-align: right;\">\n",
       "      <th></th>\n",
       "      <th>PULid</th>\n",
       "      <th>sig_gene_seq</th>\n",
       "      <th>low_level_substr</th>\n",
       "      <th>high_level_substr</th>\n",
       "      <th>Pub_year</th>\n",
       "    </tr>\n",
       "  </thead>\n",
       "  <tbody>\n",
       "    <tr>\n",
       "      <th>35</th>\n",
       "      <td>PUL0036</td>\n",
       "      <td>8.A.3,1.B.18,PL12,GT4,9.B.18,Aminotran_1_2,9.B.18</td>\n",
       "      <td>emulsan</td>\n",
       "      <td>-</td>\n",
       "      <td>2001</td>\n",
       "    </tr>\n",
       "    <tr>\n",
       "      <th>227</th>\n",
       "      <td>PUL0229</td>\n",
       "      <td>HTH_AraC,8.A.59,3.A.1,3.A.1,3.A.1,GH67,GH10,GH43_12</td>\n",
       "      <td>aldouronate</td>\n",
       "      <td>-</td>\n",
       "      <td>2007</td>\n",
       "    </tr>\n",
       "    <tr>\n",
       "      <th>285</th>\n",
       "      <td>PUL0287</td>\n",
       "      <td>MarR,4.A.3,4.A.3,GH1,4.A.3</td>\n",
       "      <td>unknown polysaccharide</td>\n",
       "      <td>-</td>\n",
       "      <td>2012</td>\n",
       "    </tr>\n",
       "    <tr>\n",
       "      <th>317</th>\n",
       "      <td>PUL0320</td>\n",
       "      <td>PL11|CBM3,CBM66|PL3_1,CBM66|PL9_1,HTH_AraC,GH10|CBM3|CBM3|GH48,GH5_8|CBM3|CBM3|GH44,GH74|GH74|GH74|GH74|CBM3|CBM3|GH48,GT39,GH9|CBM3|CBM3|CBM3|GH5_8,GH5_8|CBM3|CBM3|CBM3|GH5_1,GH9|CBM3|CBM3|CBM3|GH48</td>\n",
       "      <td>glucan</td>\n",
       "      <td>-</td>\n",
       "      <td>2018,2018</td>\n",
       "    </tr>\n",
       "    <tr>\n",
       "      <th>319</th>\n",
       "      <td>PUL0322</td>\n",
       "      <td>PL11|CBM3,CBM66|PL3_1,CBM66|PL9_1,CBM66|PL9_1,CBM66|PL9_1,HTH_AraC,GH74|GH74|GH74|GH74|CBM3|CBM3|GH48,GT39,GH9|CBM3|CBM3|CBM3|GH5_8,CBM22|CBM22|GH10|CBM3|CBM3|GH5_1,GH10|CBM3|GH12|GH48,GH5_8|CBM3|CBM3|GH44,GH9|CBM3|CBM3|CBM3|GH48</td>\n",
       "      <td>glucan</td>\n",
       "      <td>-</td>\n",
       "      <td>2018</td>\n",
       "    </tr>\n",
       "    <tr>\n",
       "      <th>344</th>\n",
       "      <td>PUL0347</td>\n",
       "      <td>HTH_AraC,2.A.1,MarR,Glyoxalase,2.A.1,GH13_11</td>\n",
       "      <td>sorbitol</td>\n",
       "      <td>-</td>\n",
       "      <td>2014</td>\n",
       "    </tr>\n",
       "    <tr>\n",
       "      <th>406</th>\n",
       "      <td>PUL0409</td>\n",
       "      <td>SIS|CBS,8.A.4,1.B.18,9.A.41,9.A.41,GT38,3.A.1,3.A.1</td>\n",
       "      <td>polysialic acid</td>\n",
       "      <td>-</td>\n",
       "      <td>2011</td>\n",
       "    </tr>\n",
       "    <tr>\n",
       "      <th>431</th>\n",
       "      <td>PUL0434</td>\n",
       "      <td>CBM4|GH9,GH9,GH5_17,CBM4|GH9,CBM4,2.A.69</td>\n",
       "      <td>mannooligosaccharide</td>\n",
       "      <td>-</td>\n",
       "      <td>2000</td>\n",
       "    </tr>\n",
       "    <tr>\n",
       "      <th>451</th>\n",
       "      <td>PUL0454</td>\n",
       "      <td>GH13_13|CBM41|CBM41,3.A.1,GT5,NUDIX,GT5,GH77,PfkB,GH13_13|CBM41|CBM41,GH13_2|CBM20</td>\n",
       "      <td>acarbose</td>\n",
       "      <td>-</td>\n",
       "      <td>2013</td>\n",
       "    </tr>\n",
       "  </tbody>\n",
       "</table>\n",
       "</div>"
      ],
      "text/plain": [
       "       PULid  \\\n",
       "35   PUL0036   \n",
       "227  PUL0229   \n",
       "285  PUL0287   \n",
       "317  PUL0320   \n",
       "319  PUL0322   \n",
       "344  PUL0347   \n",
       "406  PUL0409   \n",
       "431  PUL0434   \n",
       "451  PUL0454   \n",
       "\n",
       "                                                                                                                                                                                                                              sig_gene_seq  \\\n",
       "35                                                                                                                                                                                       8.A.3,1.B.18,PL12,GT4,9.B.18,Aminotran_1_2,9.B.18   \n",
       "227                                                                                                                                                                                    HTH_AraC,8.A.59,3.A.1,3.A.1,3.A.1,GH67,GH10,GH43_12   \n",
       "285                                                                                                                                                                                                             MarR,4.A.3,4.A.3,GH1,4.A.3   \n",
       "317                                PL11|CBM3,CBM66|PL3_1,CBM66|PL9_1,HTH_AraC,GH10|CBM3|CBM3|GH48,GH5_8|CBM3|CBM3|GH44,GH74|GH74|GH74|GH74|CBM3|CBM3|GH48,GT39,GH9|CBM3|CBM3|CBM3|GH5_8,GH5_8|CBM3|CBM3|CBM3|GH5_1,GH9|CBM3|CBM3|CBM3|GH48   \n",
       "319  PL11|CBM3,CBM66|PL3_1,CBM66|PL9_1,CBM66|PL9_1,CBM66|PL9_1,HTH_AraC,GH74|GH74|GH74|GH74|CBM3|CBM3|GH48,GT39,GH9|CBM3|CBM3|CBM3|GH5_8,CBM22|CBM22|GH10|CBM3|CBM3|GH5_1,GH10|CBM3|GH12|GH48,GH5_8|CBM3|CBM3|GH44,GH9|CBM3|CBM3|CBM3|GH48   \n",
       "344                                                                                                                                                                                           HTH_AraC,2.A.1,MarR,Glyoxalase,2.A.1,GH13_11   \n",
       "406                                                                                                                                                                                    SIS|CBS,8.A.4,1.B.18,9.A.41,9.A.41,GT38,3.A.1,3.A.1   \n",
       "431                                                                                                                                                                                               CBM4|GH9,GH9,GH5_17,CBM4|GH9,CBM4,2.A.69   \n",
       "451                                                                                                                                                     GH13_13|CBM41|CBM41,3.A.1,GT5,NUDIX,GT5,GH77,PfkB,GH13_13|CBM41|CBM41,GH13_2|CBM20   \n",
       "\n",
       "           low_level_substr high_level_substr   Pub_year  \n",
       "35                  emulsan                 -       2001  \n",
       "227             aldouronate                 -       2007  \n",
       "285  unknown polysaccharide                 -       2012  \n",
       "317                  glucan                 -  2018,2018  \n",
       "319                  glucan                 -       2018  \n",
       "344                sorbitol                 -       2014  \n",
       "406         polysialic acid                 -       2011  \n",
       "431    mannooligosaccharide                 -       2000  \n",
       "451                acarbose                 -       2013  "
      ]
     },
     "execution_count": 14,
     "metadata": {},
     "output_type": "execute_result"
    }
   ],
   "source": [
    "data[data[\"high_level_substr\"] == \"-\"]"
   ]
  },
  {
   "cell_type": "code",
   "execution_count": 15,
   "id": "5723ba15",
   "metadata": {},
   "outputs": [
    {
     "data": {
      "text/plain": [
       "multiple_substrates           138\n",
       "mono/di/trisaccharide          78\n",
       "capsule polysaccharide         60\n",
       "algal glycans                  40\n",
       "pectin                         38\n",
       "xylan                          38\n",
       "O-antigen                      37\n",
       "galactan                       36\n",
       "alpha-glucan                   23\n",
       "beta-mannan                    19\n",
       "cellulose                      18\n",
       "chitin                         15\n",
       "glycosaminoglycan              14\n",
       "beta-glucan                    13\n",
       "N-glycan                       12\n",
       "exopolysaccharide              10\n",
       "-                               9\n",
       "fructan                         8\n",
       "alpha-mannan                    8\n",
       "host glycan                     7\n",
       "xyloglucan                      7\n",
       "plant polysaccharide            6\n",
       "glycoprotein                    6\n",
       "human milk oligosaccharide      5\n",
       "hemicellulose                   5\n",
       "O-glycan                        3\n",
       "Name: high_level_substr, dtype: int64"
      ]
     },
     "execution_count": 15,
     "metadata": {},
     "output_type": "execute_result"
    }
   ],
   "source": [
    "data[\"high_level_substr\"].value_counts()"
   ]
  },
  {
   "cell_type": "code",
   "execution_count": 16,
   "id": "f5ab19f4",
   "metadata": {},
   "outputs": [
    {
     "data": {
      "text/plain": [
       "170"
      ]
     },
     "execution_count": 16,
     "metadata": {},
     "output_type": "execute_result"
    }
   ],
   "source": [
    "# how many are there? \n",
    "# much more manageable - 26\n",
    "# this is what we will use for the multi class classification\n",
    "len(data[\"low_level_substr\"].value_counts())"
   ]
  },
  {
   "cell_type": "code",
   "execution_count": 17,
   "id": "536cf53c",
   "metadata": {},
   "outputs": [],
   "source": [
    "# get the frequency counts\n",
    "D = data.low_level_substr.value_counts()"
   ]
  },
  {
   "cell_type": "code",
   "execution_count": 18,
   "id": "dd5fbd9d",
   "metadata": {},
   "outputs": [],
   "source": [
    "# convert to a dictionary\n",
    "D = dict(D)"
   ]
  },
  {
   "cell_type": "code",
   "execution_count": 19,
   "id": "33876692",
   "metadata": {},
   "outputs": [],
   "source": [
    "# import the plotting packages\n",
    "import matplotlib as mpl\n",
    "import matplotlib.pyplot as plt"
   ]
  },
  {
   "cell_type": "code",
   "execution_count": 20,
   "id": "31457d58",
   "metadata": {},
   "outputs": [],
   "source": [
    "# some parameters for improved plotting aesthetics\n",
    "mpl.rcParams['xtick.labelsize'] = 15 \n",
    "plt.rcParams[\"font.weight\"] = \"bold\""
   ]
  },
  {
   "cell_type": "code",
   "execution_count": 22,
   "id": "fb18eeb9",
   "metadata": {},
   "outputs": [
    {
     "data": {
      "image/png": "[encoded data removed]",
      "text/plain": [
       "<Figure size 720x432 with 1 Axes>"
      ]
     },
     "metadata": {
      "needs_background": "light"
     },
     "output_type": "display_data"
    }
   ],
   "source": [
    "# define the plotting area\n",
    "plt.figure(figsize = (10,6))\n",
    "# need a bar plot\n",
    "plt.bar(range(len(D)), list(D.values()), align='center')\n",
    "# put the labels but rotate them\n",
    "# plt.xticks(range(len(D)), list(D.keys()), rotation = 90, weight = \"bold\")\n",
    "# increase the ticks on y\n",
    "plt.yticks(fontsize=14)\n",
    "# give labels to x\n",
    "plt.xlabel(\"Target Classes\", weight = \"bold\", fontsize = 20)\n",
    "# give labels to y\n",
    "plt.ylabel(\"Frequency\", weight = \"bold\", fontsize = 20)\n",
    "# put the title\n",
    "plt.title(\"Frequencies for the target classes\", weight = \"bold\", fontsize = 20)\n",
    "plt.show()"
   ]
  },
  {
   "cell_type": "markdown",
   "id": "23ca71ee",
   "metadata": {},
   "source": [
    "## What about the genes in the sequence?"
   ]
  },
  {
   "cell_type": "code",
   "execution_count": 23,
   "id": "30849619",
   "metadata": {},
   "outputs": [],
   "source": [
    "# collect all the genes from each sequence\n",
    "all_genes_per_sequence = [str(seq).split(\",\") for seq in data[\"sig_gene_seq\"]]\n",
    "# loop over the list of genes and flatten it\n",
    "all_genes = [gene for list_genes in all_genes_per_sequence for gene in list_genes]"
   ]
  },
  {
   "cell_type": "code",
   "execution_count": 24,
   "id": "f19538b0",
   "metadata": {},
   "outputs": [],
   "source": [
    "# import numpy to deal with arrays\n",
    "import numpy as np"
   ]
  },
  {
   "cell_type": "code",
   "execution_count": 25,
   "id": "354d66e6",
   "metadata": {},
   "outputs": [
    {
     "data": {
      "text/plain": [
       "525"
      ]
     },
     "execution_count": 25,
     "metadata": {},
     "output_type": "execute_result"
    }
   ],
   "source": [
    "# how many unique genes? \n",
    "len(np.unique(all_genes))"
   ]
  },
  {
   "cell_type": "code",
   "execution_count": 26,
   "id": "b9a5e6f1",
   "metadata": {},
   "outputs": [],
   "source": [
    "# import counter function\n",
    "from collections import Counter"
   ]
  },
  {
   "cell_type": "code",
   "execution_count": 27,
   "id": "b2081394",
   "metadata": {},
   "outputs": [],
   "source": [
    "# get the frequency counts\n",
    "freq_count = Counter(all_genes)"
   ]
  },
  {
   "cell_type": "code",
   "execution_count": 28,
   "id": "7a46d393",
   "metadata": {},
   "outputs": [
    {
     "data": {
      "text/plain": [
       "Counter({'GH1': 34,\n",
       "         '8.A.49': 8,\n",
       "         'CE2': 3,\n",
       "         'GH130': 29,\n",
       "         '3.A.1': 392,\n",
       "         'SBP_bac_1': 48,\n",
       "         'LacI': 94,\n",
       "         'GH36': 30,\n",
       "         'GH113': 1,\n",
       "         'GH16': 47,\n",
       "         'GH30_8': 4,\n",
       "         'GH43_16|CBM6': 4,\n",
       "         '4.A.1': 19,\n",
       "         'GH94': 8,\n",
       "         'GH3': 71,\n",
       "         'SIS|HTH_6': 1,\n",
       "         '8.A.59': 17,\n",
       "         'HTH_18|Response_reg|HTH_AraC': 1,\n",
       "         'GH53': 9,\n",
       "         '2.A.2': 44,\n",
       "         'GH42': 18,\n",
       "         'HTH_AraC': 152,\n",
       "         'PfkB': 52,\n",
       "         '2.A.1': 61,\n",
       "         'GH32': 37,\n",
       "         '8.A.46': 93,\n",
       "         '1.B.14': 300,\n",
       "         'PL8': 4,\n",
       "         'GH88': 12,\n",
       "         'GH43_11': 10,\n",
       "         'GH10': 35,\n",
       "         '9.B.28': 11,\n",
       "         'GntR': 48,\n",
       "         'GH39': 4,\n",
       "         'GH67': 19,\n",
       "         'GH52': 4,\n",
       "         'CE4': 17,\n",
       "         'GH51': 26,\n",
       "         'GH48': 3,\n",
       "         'GH8': 8,\n",
       "         'GH9|CBM3': 7,\n",
       "         'CBM4|GH9': 5,\n",
       "         'GH20': 45,\n",
       "         'GH9': 23,\n",
       "         'HATPase_c|HisKA|PAS|Response_reg': 1,\n",
       "         'GH43_5': 2,\n",
       "         'GH43_4': 17,\n",
       "         'GH127': 16,\n",
       "         'AAA': 5,\n",
       "         'HTH_DeoR': 5,\n",
       "         'PL1_6': 1,\n",
       "         'GH105': 28,\n",
       "         'SIS': 9,\n",
       "         '4.A.3': 55,\n",
       "         'HTH_6|SIS': 1,\n",
       "         '3.A.9': 1,\n",
       "         'CBM70|PL8_1': 1,\n",
       "         '4.A.6': 40,\n",
       "         'PL12_1': 5,\n",
       "         'Mga|HTH_11': 4,\n",
       "         'GH4': 9,\n",
       "         'TrmB': 8,\n",
       "         'CHASE2': 1,\n",
       "         'DeoRC': 1,\n",
       "         'HTH_1': 6,\n",
       "         'HTH_3': 14,\n",
       "         '2.A.40': 1,\n",
       "         '8.A.3': 38,\n",
       "         '1.B.18': 29,\n",
       "         'GT2': 146,\n",
       "         'GT4': 128,\n",
       "         '9.B.18': 70,\n",
       "         'GH35': 11,\n",
       "         'PL5_1': 2,\n",
       "         'MerR': 2,\n",
       "         'CBM40|GH33': 1,\n",
       "         'GH140': 7,\n",
       "         'MarR': 16,\n",
       "         'GH43_24': 6,\n",
       "         'GH30_5': 2,\n",
       "         '2.A.3': 7,\n",
       "         'HTH_11': 7,\n",
       "         'GH146': 10,\n",
       "         'GH43_22|GH43_34': 3,\n",
       "         'GH43_22|GH43_26': 3,\n",
       "         'GH43_27': 4,\n",
       "         'GH43_22': 7,\n",
       "         'GH27': 11,\n",
       "         'CE7': 7,\n",
       "         'GH13_18': 8,\n",
       "         'GH13_29': 2,\n",
       "         'CE10': 1,\n",
       "         '1.B.35': 3,\n",
       "         'PL2_2': 1,\n",
       "         'PL12': 4,\n",
       "         'Aminotran_1_2': 20,\n",
       "         '9.B.67': 3,\n",
       "         'GH13': 9,\n",
       "         'HTH_18|AraC_binding': 2,\n",
       "         'GH5_17': 4,\n",
       "         'PL11': 9,\n",
       "         'GH5_1': 3,\n",
       "         'GH13_4': 2,\n",
       "         '9.B.146': 11,\n",
       "         'GH43_10': 18,\n",
       "         'GH43_12': 22,\n",
       "         'GH31': 22,\n",
       "         'GH97': 29,\n",
       "         'GH43_29|CBM6': 15,\n",
       "         'GH98|CBM35': 1,\n",
       "         'GH115': 14,\n",
       "         'CE6|CE1': 4,\n",
       "         'GH95': 19,\n",
       "         'HTH_8|HTH_AraC': 1,\n",
       "         'GH30': 1,\n",
       "         'GH43_1': 11,\n",
       "         '2.A.66': 34,\n",
       "         'AraC_binding': 14,\n",
       "         'GT4|GT4': 2,\n",
       "         'GH43_17': 5,\n",
       "         'PALP': 2,\n",
       "         'GH26': 28,\n",
       "         'GH5_4': 13,\n",
       "         '2.A.28': 1,\n",
       "         'PL6|PL6_1': 16,\n",
       "         'PL17_2|PL17': 12,\n",
       "         'PL6': 3,\n",
       "         'CBM48|GH13_9': 3,\n",
       "         'GT5': 6,\n",
       "         'GT35': 7,\n",
       "         '2.A.14': 10,\n",
       "         'GH2': 100,\n",
       "         'Reg_prop': 1,\n",
       "         'GT0': 4,\n",
       "         'GT52': 2,\n",
       "         'GT14': 4,\n",
       "         'GT25': 3,\n",
       "         '4.D.1': 12,\n",
       "         'CBM22|GH10': 1,\n",
       "         '2.A.21': 24,\n",
       "         'PL9_1': 4,\n",
       "         'PL22|PL22': 1,\n",
       "         'CBM3|cohesin|cohesin|cohesin|cohesin|cohesin|cohesin': 1,\n",
       "         'GH5_7': 8,\n",
       "         'GH10|CBM6': 4,\n",
       "         'CE1|CBM6': 5,\n",
       "         'GH43_10|CBM6': 4,\n",
       "         'GH62|CBM6': 4,\n",
       "         'GH27|CBM6': 4,\n",
       "         'GH59|CBM6': 4,\n",
       "         'GH62|CBM6|CE6': 3,\n",
       "         'GH95|CBM32': 1,\n",
       "         'GH30_8|CBM6': 3,\n",
       "         'PL10_1': 4,\n",
       "         'CE8': 13,\n",
       "         'GH9|CBM3|CBM3': 1,\n",
       "         '8.A.9': 14,\n",
       "         'CE9': 12,\n",
       "         'GH92': 45,\n",
       "         'GH33': 16,\n",
       "         'PIG-L': 6,\n",
       "         '2.A.6': 7,\n",
       "         '1.C.105': 1,\n",
       "         'HATPase_c': 4,\n",
       "         'Trans_reg_C': 9,\n",
       "         'HD': 1,\n",
       "         '1.B.42': 2,\n",
       "         'GH29': 18,\n",
       "         'CBM27|GH26|CBM23': 1,\n",
       "         'CBM67|GH78': 14,\n",
       "         '2.A.7': 7,\n",
       "         '2.A.4': 4,\n",
       "         'Pribosyltran': 4,\n",
       "         '2.A.115': 5,\n",
       "         'GerE': 35,\n",
       "         'Response_reg|HTH_18': 1,\n",
       "         'HisKA': 3,\n",
       "         'Sigma70_r2|Sigma70_r4_2': 6,\n",
       "         'Sigma70_r4_2|Sigma70_r2': 4,\n",
       "         '9.B.156': 1,\n",
       "         '1.C.39': 2,\n",
       "         'GH146|CBM22': 3,\n",
       "         'GH2|CBM6': 3,\n",
       "         'GH95|CBM32|CBM6': 2,\n",
       "         'TetR_N': 5,\n",
       "         'GH163': 3,\n",
       "         'FecR': 23,\n",
       "         'GH158': 7,\n",
       "         'GerE|Y_Y_Y': 1,\n",
       "         'GH29|CBM32': 2,\n",
       "         'GH18|CBM14': 1,\n",
       "         'Fer4': 9,\n",
       "         'GH13_23': 2,\n",
       "         'AsnC_trans_reg': 1,\n",
       "         '2.A.88': 1,\n",
       "         '1.C.113': 1,\n",
       "         'GH63': 2,\n",
       "         '9.B.34': 2,\n",
       "         'CbiA': 3,\n",
       "         '2.A.119': 1,\n",
       "         'PL7_5': 7,\n",
       "         'SKI': 1,\n",
       "         'CBM32|PL7_5': 2,\n",
       "         'PL6_3': 3,\n",
       "         'Pkinase': 1,\n",
       "         'CBM4': 3,\n",
       "         'Pyr_redox': 5,\n",
       "         '2.A.56': 17,\n",
       "         'GH28': 32,\n",
       "         'GH28|PL9_1': 2,\n",
       "         'CE12': 11,\n",
       "         'CE10|CE8': 2,\n",
       "         'PL1_2': 25,\n",
       "         'CE8|PL1_5': 1,\n",
       "         'Peripla_BP_3|LacI': 2,\n",
       "         'GH13_30': 1,\n",
       "         'GT32': 8,\n",
       "         'GH18': 20,\n",
       "         'PL8_2': 5,\n",
       "         'PL29': 2,\n",
       "         'Response_reg|Reg_prop|HTH_18|HisKA|Y_Y_Y|HATPase_c': 1,\n",
       "         'GH150': 1,\n",
       "         'GH129': 1,\n",
       "         'GH110': 2,\n",
       "         'PL7': 5,\n",
       "         '3.D.2': 3,\n",
       "         'PL15_1': 4,\n",
       "         'GH43_34': 5,\n",
       "         'GH125': 10,\n",
       "         'CBM32': 4,\n",
       "         'GH76': 13,\n",
       "         '3.A.7': 3,\n",
       "         'GH99': 2,\n",
       "         '9.B.14': 1,\n",
       "         'GH38|CBM32': 2,\n",
       "         'GH5_2': 9,\n",
       "         'GH13_10': 3,\n",
       "         'HTH_6': 1,\n",
       "         '8.A.5': 2,\n",
       "         'GH43_29': 6,\n",
       "         'GH121': 1,\n",
       "         'NUDIX': 12,\n",
       "         'GH31|CBM20': 1,\n",
       "         'GH31|CBM35': 1,\n",
       "         'GH15': 1,\n",
       "         '2.A.38': 2,\n",
       "         'TrkA_C': 1,\n",
       "         '9.B.97': 7,\n",
       "         '2.A.64': 1,\n",
       "         '2.A.123': 2,\n",
       "         'CBM54|GH16|CBM4|CBM4|CBM6|CBM4|CBM4': 1,\n",
       "         'CBM67|GH78|GH33': 3,\n",
       "         'GH43_18': 6,\n",
       "         'CE12|CE8': 3,\n",
       "         'GH106': 7,\n",
       "         'GH43_18|GH43_34|CBM32': 1,\n",
       "         'PL26': 2,\n",
       "         'CE12|CE12': 3,\n",
       "         'PL11_1': 4,\n",
       "         'GH117|GH117': 7,\n",
       "         'GH38': 3,\n",
       "         '3.A.23': 1,\n",
       "         '9.B.207': 1,\n",
       "         'GH77': 5,\n",
       "         'CBM16|CBM32|PL18': 1,\n",
       "         'SBP_bac_3': 2,\n",
       "         'GH66': 3,\n",
       "         'AA10|CBM5|CBM5': 2,\n",
       "         'GH18|CBM5|CBM5': 2,\n",
       "         '1.B.3': 3,\n",
       "         '3.A.3': 7,\n",
       "         '9.B.36': 1,\n",
       "         'peroxidase': 1,\n",
       "         'PL5|PL7': 2,\n",
       "         'GH5_36': 1,\n",
       "         'GH146|GH97': 1,\n",
       "         'GH51|GH43_29': 1,\n",
       "         'GH30_1': 5,\n",
       "         'GH17': 1,\n",
       "         'GH149': 1,\n",
       "         '9.B.33': 2,\n",
       "         'HTH_8': 5,\n",
       "         'GH50': 17,\n",
       "         'GH105|GH154': 2,\n",
       "         'GH86': 6,\n",
       "         '9.B.30': 1,\n",
       "         'GT94': 7,\n",
       "         'GT70': 1,\n",
       "         'GT26': 5,\n",
       "         'HTH_12': 1,\n",
       "         'GH65': 6,\n",
       "         'CBM34|GH13_20': 3,\n",
       "         'GH13_36': 2,\n",
       "         'GH13_7': 1,\n",
       "         '2.A.50': 2,\n",
       "         'PL5': 1,\n",
       "         'GH26|GH5_4': 1,\n",
       "         'GH5_38': 1,\n",
       "         'GH98|CBM47|CBM47|CBM47': 1,\n",
       "         'CBM51|CBM51|GH98': 1,\n",
       "         'PL12_3': 1,\n",
       "         'cNMP_binding': 1,\n",
       "         'GT101': 3,\n",
       "         'PL15': 1,\n",
       "         'GT8': 2,\n",
       "         'GH5_21': 4,\n",
       "         'CE1': 15,\n",
       "         'CE6|GH95': 2,\n",
       "         'HTH_18': 3,\n",
       "         'LacI|Peripla_BP_1|Peripla_BP_3': 1,\n",
       "         'GH13_31': 4,\n",
       "         'HTH_5': 5,\n",
       "         'Pyr_redox_2': 7,\n",
       "         'GH13_39': 1,\n",
       "         'GH13_1': 1,\n",
       "         'CBM5': 1,\n",
       "         'CBM5|GH18': 1,\n",
       "         '9.B.42': 1,\n",
       "         '1.B.66': 1,\n",
       "         'HTH_IclR': 1,\n",
       "         'Mga|HTH_Mga|PRD_Mga': 2,\n",
       "         'TPR_2': 5,\n",
       "         '9.B.142': 1,\n",
       "         '4.D.2': 4,\n",
       "         '1.B.52': 2,\n",
       "         'GH53|CBM61': 2,\n",
       "         '1.A.30': 3,\n",
       "         'GH120': 1,\n",
       "         'GH43_26': 5,\n",
       "         '9.B.116': 2,\n",
       "         'LytTR': 4,\n",
       "         'GH147': 4,\n",
       "         '1.E.2': 2,\n",
       "         'AA10': 1,\n",
       "         '4.D.3': 2,\n",
       "         '1.B.55': 1,\n",
       "         'GH68': 2,\n",
       "         'GH16|CBM16': 1,\n",
       "         'TPR_1': 2,\n",
       "         'GH5_42': 1,\n",
       "         'PL11|CBM3': 3,\n",
       "         'CBM66|PL3_1': 3,\n",
       "         'CBM66|PL9_1': 5,\n",
       "         'GH10|CBM3|CBM3|GH48': 2,\n",
       "         'GH5_8|CBM3|CBM3|GH44': 3,\n",
       "         'GH74|GH74|GH74|GH74|CBM3|CBM3|GH48': 3,\n",
       "         'GT39': 3,\n",
       "         'GH9|CBM3|CBM3|CBM3|GH5_8': 3,\n",
       "         'GH5_8|CBM3|CBM3|CBM3|GH5_1': 2,\n",
       "         'GH9|CBM3|CBM3|CBM3|GH48': 3,\n",
       "         'CBM22|CBM22|GH10|CBM3|CBM3|GH5_1': 1,\n",
       "         'GH10|CBM3|GH12|GH48': 1,\n",
       "         'LacI|Peripla_BP_3': 5,\n",
       "         'CBS': 1,\n",
       "         'GH30_3': 5,\n",
       "         'GH73': 1,\n",
       "         'Peptidase_M23': 2,\n",
       "         '9.B.154': 1,\n",
       "         'GH5_13': 2,\n",
       "         'CE15': 1,\n",
       "         'ATPase_2': 3,\n",
       "         'Glyoxalase': 3,\n",
       "         '3.B.1': 3,\n",
       "         '1.A.43': 4,\n",
       "         '2.A.107': 3,\n",
       "         '2.A.35': 2,\n",
       "         '3.A.12': 3,\n",
       "         'HTH_psq': 3,\n",
       "         'HMA': 3,\n",
       "         'HisKA|HATPase_c': 5,\n",
       "         'Sigma70_r4_2': 2,\n",
       "         'GH91': 3,\n",
       "         'GH10|CE1': 1,\n",
       "         'GH18|GH18': 3,\n",
       "         'GH10|GH43_12': 1,\n",
       "         'GH13_11': 1,\n",
       "         'GH20|CBM32': 1,\n",
       "         'GH0': 3,\n",
       "         'GH93': 1,\n",
       "         'GH43_31': 3,\n",
       "         'GH30_4': 2,\n",
       "         'GH43_19': 1,\n",
       "         'GH43_9|GH43_19': 1,\n",
       "         'GH13_20': 2,\n",
       "         'GH13_2': 1,\n",
       "         'Nitroreductase': 4,\n",
       "         'HATPase_c|Response_reg|HisKA': 1,\n",
       "         'GH109': 1,\n",
       "         'GH89': 4,\n",
       "         'PL15_2': 1,\n",
       "         'PL12_2': 2,\n",
       "         'CBM22|CBM22|GH10|CBM9|CBM9': 1,\n",
       "         'GH13_14': 1,\n",
       "         'CBM6|GH86|GH86': 1,\n",
       "         'GH16|CBM6': 2,\n",
       "         'HTH_18|Response_reg': 1,\n",
       "         'GntR|Peripla_BP_3': 1,\n",
       "         '1.B.1': 1,\n",
       "         'PL1_5|PL1_5': 1,\n",
       "         '1.E.19': 1,\n",
       "         '9.B.105': 1,\n",
       "         'SIS|CBS': 1,\n",
       "         '8.A.4': 1,\n",
       "         '9.A.41': 2,\n",
       "         'GT38': 1,\n",
       "         'GH44': 1,\n",
       "         'CE6|GH151': 1,\n",
       "         'CE6': 3,\n",
       "         'GH5_5': 2,\n",
       "         'GH144': 3,\n",
       "         'ComK': 1,\n",
       "         '4.C.1': 1,\n",
       "         '2.A.121': 1,\n",
       "         '2.A.69': 1,\n",
       "         'CBM32|CBM32': 1,\n",
       "         'DUF24': 1,\n",
       "         'GH43_26|CBM13': 1,\n",
       "         'GH18|CBM6': 1,\n",
       "         'Y_Y_Y': 1,\n",
       "         'CBM6|CBM6': 1,\n",
       "         'GH19': 1,\n",
       "         'GH13_13|CBM41|CBM41': 2,\n",
       "         'GH13_2|CBM20': 2,\n",
       "         'GH16|CBM16|CBM16': 1,\n",
       "         '3.D.1': 3,\n",
       "         'GH96': 4,\n",
       "         'Sigma70_r4': 1,\n",
       "         'GH86|GH86|CBM6': 1,\n",
       "         '1.B.6': 2,\n",
       "         'GH82': 1,\n",
       "         'Crp': 1,\n",
       "         'Fe_dep_repress': 1,\n",
       "         '1.A.23': 1,\n",
       "         'TPR_2|TPR_1': 1,\n",
       "         'GH43_8': 1,\n",
       "         'GH13|CBM26': 1,\n",
       "         'CBM2|GH18': 1,\n",
       "         'HTH_AraC|HTH_11': 1,\n",
       "         'GH29|CBM32|CBM32': 1,\n",
       "         'GH43_19|GH43_34': 1,\n",
       "         'GH142': 1,\n",
       "         'GH143': 1,\n",
       "         'GH139': 3,\n",
       "         'GH137': 1,\n",
       "         'GH78': 3,\n",
       "         'GH117': 3,\n",
       "         'PL10_1|CE8': 1,\n",
       "         'GT11': 7,\n",
       "         '9.A.29': 1,\n",
       "         'GT46': 2,\n",
       "         'GT10': 3,\n",
       "         'AA10|CBM5': 1,\n",
       "         'GH18|CBM5': 1,\n",
       "         '9.A.25': 3,\n",
       "         '9.B.183': 1,\n",
       "         '9.B.174': 1,\n",
       "         'GH137|GH2|CBM57': 2,\n",
       "         'GH138': 2,\n",
       "         'GH141': 3,\n",
       "         'GH143|GH142': 3,\n",
       "         'GH133': 2,\n",
       "         'GH43_24|GH16': 1,\n",
       "         'GH157': 1,\n",
       "         'GH26|GH26': 1,\n",
       "         'GH2|CBM57': 2,\n",
       "         'GH43_2|CBM6': 4,\n",
       "         'GH43_7|GH43_7': 4,\n",
       "         'HTH_18|HisKA|HATPase_c|Y_Y_Y|Reg_prop|Response_reg': 1,\n",
       "         'GH154': 2,\n",
       "         'PL33_1': 1,\n",
       "         'PL27': 1,\n",
       "         'GH16|GH43_24': 1,\n",
       "         'GH145': 1,\n",
       "         'GH43_18|GH42': 1,\n",
       "         'CBM35': 1,\n",
       "         'PL9': 1,\n",
       "         '1.B.13': 1,\n",
       "         'GH84': 1,\n",
       "         'GH112': 1,\n",
       "         'HisKA|Response_reg|dCache_1|HATPase_c|PAS': 1,\n",
       "         'Glucokinase': 1,\n",
       "         'CE0': 1,\n",
       "         '1.B.25': 1,\n",
       "         'CBM34|GH13_39': 1,\n",
       "         'CBM82|CBM83|GH13_41': 1,\n",
       "         'dCache_1|HATPase_c': 1,\n",
       "         'CBM48|GH13_11': 1,\n",
       "         'GH16_11': 2,\n",
       "         'GH16_14': 1,\n",
       "         'GH136': 2,\n",
       "         'GH43_15|CBM6': 1,\n",
       "         'CBM4|CBM4|GH10': 1,\n",
       "         'GH13_19': 1,\n",
       "         'GH13_38': 2,\n",
       "         '1.A.8': 1,\n",
       "         'PL38|GH88': 1,\n",
       "         'GH43_35': 1,\n",
       "         'PL1': 1,\n",
       "         'GH128': 2,\n",
       "         'GH51|GH43_19': 2,\n",
       "         'GH57': 1,\n",
       "         'GH43_7': 1,\n",
       "         'CE1|CE1': 2,\n",
       "         'GH11': 1,\n",
       "         '3.A.2': 4,\n",
       "         'GH32|CBM66': 1,\n",
       "         'PadR': 1,\n",
       "         'CBM86|CBM22|GH10|CBM9': 1,\n",
       "         'CBM61|GH53': 1,\n",
       "         'GH13_9': 1,\n",
       "         '1.B.73': 1,\n",
       "         'GH39|CBM35': 1,\n",
       "         'GH16_16|CBM6|CBM6': 1,\n",
       "         'CBM6': 1,\n",
       "         'GH16_16|CBM13': 1,\n",
       "         '2.A.98': 1,\n",
       "         'Sigma70_r2|Sigma70_r4': 1,\n",
       "         'GH16_3': 1,\n",
       "         'HATPase_c|SBP_bac_3': 1,\n",
       "         'GH167': 1,\n",
       "         'CBM6|CBM6|GH86|GH86': 1,\n",
       "         'GH16_16': 1,\n",
       "         'BLUF': 1,\n",
       "         'Response_reg': 1,\n",
       "         'GH166': 1})"
      ]
     },
     "execution_count": 28,
     "metadata": {},
     "output_type": "execute_result"
    }
   ],
   "source": [
    "freq_count"
   ]
  },
  {
   "cell_type": "code",
   "execution_count": 29,
   "id": "bc3753bd",
   "metadata": {},
   "outputs": [
    {
     "data": {
      "text/plain": [
       "False"
      ]
     },
     "execution_count": 29,
     "metadata": {},
     "output_type": "execute_result"
    }
   ],
   "source": [
    "\"-\" in freq_count.keys()"
   ]
  },
  {
   "cell_type": "code",
   "execution_count": 30,
   "id": "77ad7464",
   "metadata": {},
   "outputs": [],
   "source": [
    "# sort in descending order\n",
    "D =dict(sorted(freq_count.items(), key=lambda item: item[1], reverse = True))"
   ]
  },
  {
   "cell_type": "code",
   "execution_count": 31,
   "id": "06335d4f",
   "metadata": {},
   "outputs": [],
   "source": [
    "# manipulate for plotting\n",
    "first2pairs = {k: D[k] for k in list(D)}"
   ]
  },
  {
   "cell_type": "code",
   "execution_count": 32,
   "id": "80661f31",
   "metadata": {},
   "outputs": [],
   "source": [
    "# variable assignment\n",
    "D = first2pairs"
   ]
  },
  {
   "cell_type": "code",
   "execution_count": 33,
   "id": "7491f7d6",
   "metadata": {},
   "outputs": [],
   "source": [
    "# some parameters for improved plotting aesthetics\n",
    "mpl.rcParams['xtick.labelsize'] = 15 \n",
    "plt.rcParams[\"font.weight\"] = \"bold\""
   ]
  },
  {
   "cell_type": "code",
   "execution_count": 34,
   "id": "63d87243",
   "metadata": {
    "scrolled": false
   },
   "outputs": [
    {
     "data": {
      "image/png": "[encoded data removed]",
      "text/plain": [
       "<Figure size 720x360 with 1 Axes>"
      ]
     },
     "metadata": {
      "needs_background": "light"
     },
     "output_type": "display_data"
    }
   ],
   "source": [
    "plt.figure(figsize = (10,5))\n",
    "plt.bar(range(len(D)), list(D.values()), align='center')\n",
    "plt.title(\"Frequency distribution for genes\", fontsize = 20)\n",
    "plt.xlabel(\"Gene Index\", fontsize = 20)\n",
    "plt.ylabel(\"Frequency\", fontsize = 20)\n",
    "plt.show()"
   ]
  },
  {
   "cell_type": "code",
   "execution_count": 35,
   "id": "c05ce665",
   "metadata": {},
   "outputs": [],
   "source": [
    "# visualize the cdf\n",
    "cdf_vec = np.cumsum(list(D.values()))/np.cumsum(list(D.values()))[-1]"
   ]
  },
  {
   "cell_type": "code",
   "execution_count": 36,
   "id": "4f6d55bb",
   "metadata": {},
   "outputs": [
    {
     "data": {
      "image/png": "[encoded data removed]",
      "text/plain": [
       "<Figure size 720x360 with 1 Axes>"
      ]
     },
     "metadata": {
      "needs_background": "light"
     },
     "output_type": "display_data"
    }
   ],
   "source": [
    "# make the plot for the cdf\n",
    "plt.figure(figsize = (10,5))\n",
    "plt.bar(range(len(cdf_vec)), cdf_vec, align='center')\n",
    "plt.title(\"CDF for the Frequency Counts\", fontsize = 20)\n",
    "plt.xlabel(\"Gene Index\", fontsize = 20)\n",
    "plt.ylabel(\"Frequency\", fontsize = 20)\n",
    "plt.show()\n"
   ]
  },
  {
   "cell_type": "markdown",
   "id": "fa0c3250",
   "metadata": {},
   "source": [
    "# Prediction Models"
   ]
  },
  {
   "cell_type": "markdown",
   "id": "9fbe297f",
   "metadata": {},
   "source": [
    "## How many classes can we handle for greater than 80% accuracy?"
   ]
  },
  {
   "cell_type": "code",
   "execution_count": 81,
   "id": "7d717292",
   "metadata": {},
   "outputs": [],
   "source": [
    "# preprocessor\n",
    "from sklearn.feature_extraction.text import CountVectorizer"
   ]
  },
  {
   "cell_type": "code",
   "execution_count": 82,
   "id": "2ca7e214",
   "metadata": {},
   "outputs": [],
   "source": [
    "# import the requisite packages\n",
    "from sklearn.model_selection import GridSearchCV\n",
    "from sklearn.pipeline import make_pipeline, Pipeline\n",
    "from sklearn.ensemble import RandomForestClassifier"
   ]
  },
  {
   "cell_type": "code",
   "execution_count": 83,
   "id": "df33e2fa",
   "metadata": {},
   "outputs": [],
   "source": [
    "# generic function that takes in the data and number of classes\n",
    "def model_by_classes(num_classes, data, both = False, split_on_bar = False): \n",
    "    # get the frequency counts\n",
    "    all_classes = list(data.low_level_substr.value_counts().keys())\n",
    "    # remove multiple substrates\n",
    "#     all_classes = [classes for classes in all_classes if classes not in [\"multiple_substrates\"]]\n",
    "    # suppose using the top 2\n",
    "    keep_these_many = num_classes\n",
    "    # top_k_classes\n",
    "    top_k = all_classes[:keep_these_many]\n",
    "    # not top two\n",
    "    not_top_k = [target for target in all_classes if target not in top_k]\n",
    "    # get the data for the top k classes\n",
    "    top_k_data = data[data.low_level_substr.isin(top_k)].reset_index(drop = True)\n",
    "    # get the data for the non top_k classes\n",
    "    not_top_k_data = data[data.low_level_substr.isin(not_top_k)].reset_index(drop = True)\n",
    "    # give the same label to all the targets of the not_top_k_data\n",
    "    not_top_k_data[\"low_level_substr\"] = \"other\"\n",
    "    # stack the top k and the not top k data together\n",
    "    all_data = pd.concat([top_k_data, not_top_k_data], ignore_index = True)\n",
    "    \n",
    "    if split_on_bar == False:\n",
    "        # instantiate the vectorizer again\n",
    "        vectorizer = CountVectorizer(tokenizer=lambda x: str(x).split(','), lowercase = False)\n",
    "    \n",
    "    else: \n",
    "        vectorizer = CountVectorizer(tokenizer=lambda x: str(x).replace(\"|\", \",\").split(','), lowercase = False)\n",
    "    \n",
    "    # pipeline\n",
    "    clf = Pipeline([('countvectorizer',vectorizer),('rf',RandomForestClassifier(n_jobs = 6))])\n",
    "    # Parameters of pipelines can be set using ‘__’ separated parameter names:\n",
    "    param_grid = {\n",
    "    'countvectorizer__min_df': [1,2],\n",
    "    'rf__n_estimators': [100,200,400], \n",
    "    'rf__max_features': [\"auto\", \"log2\"]\n",
    "    }\n",
    "    # fit the search\n",
    "    search = GridSearchCV(clf, param_grid, n_jobs=7 , verbose = 3, cv = 3, scoring = \"accuracy\")\n",
    "    \n",
    "    # if both gene seq and category seq\n",
    "    \n",
    "    if both == True: \n",
    "        # fit the grid search\n",
    "        search.fit(all_data[\"sig_gene_seq\"] + \",\" + all_data[\"category_sequence\"], all_data[\"low_level_substr\"])\n",
    "    else: \n",
    "        search.fit(all_data[\"sig_gene_seq\"], all_data[\"low_level_substr\"])\n",
    "    # best score\n",
    "    best_score = search.best_score_\n",
    "    # std error\n",
    "    std_accuracy = search.cv_results_['std_test_score'][np.argmax(search.cv_results_['mean_test_score'])]\n",
    "    vectorizer.fit_transform(all_data[\"sig_gene_seq\"])\n",
    "    print(len(vectorizer.vocabulary_))\n",
    "    return num_classes, best_score, std_accuracy"
   ]
  },
  {
   "cell_type": "code",
   "execution_count": 84,
   "id": "3c36f733",
   "metadata": {},
   "outputs": [],
   "source": [
    "# functions that can help us do parallel computation\n",
    "from joblib import Parallel, delayed"
   ]
  },
  {
   "cell_type": "markdown",
   "id": "528b2825",
   "metadata": {},
   "source": [
    "### only using gene data and not splitting on bar (\"|\")"
   ]
  },
  {
   "cell_type": "code",
   "execution_count": 97,
   "id": "d2dc1fb7",
   "metadata": {},
   "outputs": [
    {
     "name": "stderr",
     "output_type": "stream",
     "text": [
      "[Parallel(n_jobs=7)]: Using backend LokyBackend with 7 concurrent workers.\n",
      "[Parallel(n_jobs=7)]: Done  18 out of  20 | elapsed:  1.8min remaining:   12.0s\n",
      "[Parallel(n_jobs=7)]: Done  20 out of  20 | elapsed:  1.8min finished\n"
     ]
    }
   ],
   "source": [
    "# run the function in parallel\n",
    "all_results = Parallel(n_jobs=7, verbose = 2)(delayed(model_by_classes)(i, data, False, False) for i in range(25, 45))"
   ]
  },
  {
   "cell_type": "code",
   "execution_count": 98,
   "id": "5cea1a86",
   "metadata": {},
   "outputs": [],
   "source": [
    "# get the error ranges\n",
    "err_ranges = np.array(all_results)[:,2]*3"
   ]
  },
  {
   "cell_type": "code",
   "execution_count": 99,
   "id": "c1271a8a",
   "metadata": {},
   "outputs": [],
   "source": [
    "# put everything in a dataframe\n",
    "df = pd.DataFrame(all_results)"
   ]
  },
  {
   "cell_type": "code",
   "execution_count": 100,
   "id": "bb687b2f",
   "metadata": {},
   "outputs": [],
   "source": [
    "# give column names\n",
    "df.columns = [\"num_classes\", \"mean_accuracy\", \"std_error_accuracy\"]"
   ]
  },
  {
   "cell_type": "code",
   "execution_count": 101,
   "id": "7e0a10c2",
   "metadata": {},
   "outputs": [],
   "source": [
    "# how much data do these classes cover\n",
    "coverage = pd.DataFrame(data.low_level_substr.value_counts().cumsum()/data.low_level_substr.value_counts().cumsum()[-1])[\"low_level_substr\"].values[25:45]"
   ]
  },
  {
   "cell_type": "code",
   "execution_count": 102,
   "id": "9ad61852",
   "metadata": {},
   "outputs": [],
   "source": [
    "# round the coverage\n",
    "coverage = np.round(coverage,2).astype(str)"
   ]
  },
  {
   "cell_type": "code",
   "execution_count": 103,
   "id": "a6ee4ddc",
   "metadata": {},
   "outputs": [
    {
     "data": {
      "text/plain": [
       "array(['0.58', '0.59', '0.6', '0.61', '0.62', '0.63', '0.64', '0.65',\n",
       "       '0.65', '0.66', '0.67', '0.68', '0.68', '0.69', '0.7', '0.71',\n",
       "       '0.71', '0.72', '0.72', '0.73'], dtype='<U32')"
      ]
     },
     "execution_count": 103,
     "metadata": {},
     "output_type": "execute_result"
    }
   ],
   "source": [
    "coverage"
   ]
  },
  {
   "cell_type": "code",
   "execution_count": 105,
   "id": "4b4c3f35",
   "metadata": {},
   "outputs": [
    {
     "data": {
      "image/png": "[encoded data removed]",
      "text/plain": [
       "<Figure size 720x720 with 1 Axes>"
      ]
     },
     "metadata": {
      "needs_background": "light"
     },
     "output_type": "display_data"
    }
   ],
   "source": [
    "# create a plot\n",
    "plt.figure(figsize = (10,10))\n",
    "plt.errorbar(df[\"num_classes\"],np.array(all_results)[:,1], \n",
    "             err_ranges, linestyle='None', marker='^', linewidth = 2)\n",
    "plt.xlabel(\"Number of Classes\", weight = \"bold\", fontsize = 20)\n",
    "plt.ylabel(\"Accuracy\", weight = \"bold\", fontsize = 20)\n",
    "plt.yticks(fontsize=14)\n",
    "plt.xticks(df[\"num_classes\"])\n",
    "counter = 1\n",
    "plt.title(\"mean accuracy with +- 3 SD\", weight = \"bold\", fontsize = 20)\n",
    "# for text in coverage: \n",
    "#     plt.text(counter, 1, text)\n",
    "#     counter+=1\n",
    "plt.show()"
   ]
  },
  {
   "cell_type": "code",
   "execution_count": 106,
   "id": "10127906",
   "metadata": {},
   "outputs": [],
   "source": [
    "# make a new column for coverage\n",
    "df[\"coverage\"] = coverage"
   ]
  },
  {
   "cell_type": "code",
   "execution_count": 107,
   "id": "06407cc7",
   "metadata": {},
   "outputs": [],
   "source": [
    "df[\"num_classes\"] = df[\"num_classes\"]  + 1"
   ]
  },
  {
   "cell_type": "code",
   "execution_count": 108,
   "id": "4873406a",
   "metadata": {},
   "outputs": [
    {
     "data": {
      "text/html": [
       "<div>\n",
       "<style scoped>\n",
       "    .dataframe tbody tr th:only-of-type {\n",
       "        vertical-align: middle;\n",
       "    }\n",
       "\n",
       "    .dataframe tbody tr th {\n",
       "        vertical-align: top;\n",
       "    }\n",
       "\n",
       "    .dataframe thead th {\n",
       "        text-align: right;\n",
       "    }\n",
       "</style>\n",
       "<table border=\"1\" class=\"dataframe\">\n",
       "  <thead>\n",
       "    <tr style=\"text-align: right;\">\n",
       "      <th></th>\n",
       "      <th>num_classes</th>\n",
       "      <th>mean_accuracy</th>\n",
       "      <th>std_error_accuracy</th>\n",
       "      <th>coverage</th>\n",
       "    </tr>\n",
       "  </thead>\n",
       "  <tbody>\n",
       "    <tr>\n",
       "      <th>0</th>\n",
       "      <td>26</td>\n",
       "      <td>0.586501</td>\n",
       "      <td>0.033572</td>\n",
       "      <td>0.58</td>\n",
       "    </tr>\n",
       "    <tr>\n",
       "      <th>1</th>\n",
       "      <td>27</td>\n",
       "      <td>0.577319</td>\n",
       "      <td>0.023667</td>\n",
       "      <td>0.59</td>\n",
       "    </tr>\n",
       "    <tr>\n",
       "      <th>2</th>\n",
       "      <td>28</td>\n",
       "      <td>0.568124</td>\n",
       "      <td>0.023212</td>\n",
       "      <td>0.6</td>\n",
       "    </tr>\n",
       "    <tr>\n",
       "      <th>3</th>\n",
       "      <td>29</td>\n",
       "      <td>0.565038</td>\n",
       "      <td>0.029811</td>\n",
       "      <td>0.61</td>\n",
       "    </tr>\n",
       "    <tr>\n",
       "      <th>4</th>\n",
       "      <td>30</td>\n",
       "      <td>0.560450</td>\n",
       "      <td>0.028985</td>\n",
       "      <td>0.62</td>\n",
       "    </tr>\n",
       "    <tr>\n",
       "      <th>5</th>\n",
       "      <td>31</td>\n",
       "      <td>0.555863</td>\n",
       "      <td>0.025519</td>\n",
       "      <td>0.63</td>\n",
       "    </tr>\n",
       "    <tr>\n",
       "      <th>6</th>\n",
       "      <td>32</td>\n",
       "      <td>0.558942</td>\n",
       "      <td>0.027259</td>\n",
       "      <td>0.64</td>\n",
       "    </tr>\n",
       "    <tr>\n",
       "      <th>7</th>\n",
       "      <td>33</td>\n",
       "      <td>0.537479</td>\n",
       "      <td>0.026223</td>\n",
       "      <td>0.65</td>\n",
       "    </tr>\n",
       "    <tr>\n",
       "      <th>8</th>\n",
       "      <td>34</td>\n",
       "      <td>0.543603</td>\n",
       "      <td>0.031146</td>\n",
       "      <td>0.65</td>\n",
       "    </tr>\n",
       "    <tr>\n",
       "      <th>9</th>\n",
       "      <td>35</td>\n",
       "      <td>0.532871</td>\n",
       "      <td>0.031134</td>\n",
       "      <td>0.66</td>\n",
       "    </tr>\n",
       "    <tr>\n",
       "      <th>10</th>\n",
       "      <td>36</td>\n",
       "      <td>0.526741</td>\n",
       "      <td>0.030926</td>\n",
       "      <td>0.67</td>\n",
       "    </tr>\n",
       "    <tr>\n",
       "      <th>11</th>\n",
       "      <td>37</td>\n",
       "      <td>0.528326</td>\n",
       "      <td>0.024436</td>\n",
       "      <td>0.68</td>\n",
       "    </tr>\n",
       "    <tr>\n",
       "      <th>12</th>\n",
       "      <td>38</td>\n",
       "      <td>0.514530</td>\n",
       "      <td>0.015703</td>\n",
       "      <td>0.68</td>\n",
       "    </tr>\n",
       "    <tr>\n",
       "      <th>13</th>\n",
       "      <td>39</td>\n",
       "      <td>0.508378</td>\n",
       "      <td>0.030477</td>\n",
       "      <td>0.69</td>\n",
       "    </tr>\n",
       "    <tr>\n",
       "      <th>14</th>\n",
       "      <td>40</td>\n",
       "      <td>0.499204</td>\n",
       "      <td>0.023442</td>\n",
       "      <td>0.7</td>\n",
       "    </tr>\n",
       "    <tr>\n",
       "      <th>15</th>\n",
       "      <td>41</td>\n",
       "      <td>0.503784</td>\n",
       "      <td>0.039504</td>\n",
       "      <td>0.71</td>\n",
       "    </tr>\n",
       "    <tr>\n",
       "      <th>16</th>\n",
       "      <td>42</td>\n",
       "      <td>0.493081</td>\n",
       "      <td>0.021303</td>\n",
       "      <td>0.71</td>\n",
       "    </tr>\n",
       "    <tr>\n",
       "      <th>17</th>\n",
       "      <td>43</td>\n",
       "      <td>0.490008</td>\n",
       "      <td>0.029909</td>\n",
       "      <td>0.72</td>\n",
       "    </tr>\n",
       "    <tr>\n",
       "      <th>18</th>\n",
       "      <td>44</td>\n",
       "      <td>0.491537</td>\n",
       "      <td>0.032062</td>\n",
       "      <td>0.72</td>\n",
       "    </tr>\n",
       "    <tr>\n",
       "      <th>19</th>\n",
       "      <td>45</td>\n",
       "      <td>0.485407</td>\n",
       "      <td>0.027868</td>\n",
       "      <td>0.73</td>\n",
       "    </tr>\n",
       "  </tbody>\n",
       "</table>\n",
       "</div>"
      ],
      "text/plain": [
       "    num_classes  mean_accuracy  std_error_accuracy coverage\n",
       "0            26       0.586501            0.033572     0.58\n",
       "1            27       0.577319            0.023667     0.59\n",
       "2            28       0.568124            0.023212      0.6\n",
       "3            29       0.565038            0.029811     0.61\n",
       "4            30       0.560450            0.028985     0.62\n",
       "5            31       0.555863            0.025519     0.63\n",
       "6            32       0.558942            0.027259     0.64\n",
       "7            33       0.537479            0.026223     0.65\n",
       "8            34       0.543603            0.031146     0.65\n",
       "9            35       0.532871            0.031134     0.66\n",
       "10           36       0.526741            0.030926     0.67\n",
       "11           37       0.528326            0.024436     0.68\n",
       "12           38       0.514530            0.015703     0.68\n",
       "13           39       0.508378            0.030477     0.69\n",
       "14           40       0.499204            0.023442      0.7\n",
       "15           41       0.503784            0.039504     0.71\n",
       "16           42       0.493081            0.021303     0.71\n",
       "17           43       0.490008            0.029909     0.72\n",
       "18           44       0.491537            0.032062     0.72\n",
       "19           45       0.485407            0.027868     0.73"
      ]
     },
     "execution_count": 108,
     "metadata": {},
     "output_type": "execute_result"
    }
   ],
   "source": [
    "df"
   ]
  },
  {
   "cell_type": "markdown",
   "id": "5dc0fa2a",
   "metadata": {},
   "source": [
    "## remove multiple substrates"
   ]
  },
  {
   "cell_type": "code",
   "execution_count": 51,
   "id": "4ee24fd7",
   "metadata": {},
   "outputs": [],
   "source": [
    "# generic function that takes in the data and number of classes\n",
    "def model_by_classes(num_classes, data, both = False, split_on_bar = False): \n",
    "    # get the frequency counts\n",
    "    all_classes = list(data.low_level_substr.value_counts().keys())\n",
    "    # remove multiple substrates\n",
    "#     all_classes = [classes for classes in all_classes if classes not in [\"multiple_substrates\"]]\n",
    "    # suppose using the top 2\n",
    "    keep_these_many = num_classes\n",
    "    # top_k_classes\n",
    "    top_k = all_classes[:keep_these_many]\n",
    "    # not top two\n",
    "    not_top_k = [target for target in all_classes if target not in top_k]\n",
    "    # get the data for the top k classes\n",
    "    top_k_data = data[data.low_level_substr.isin(top_k)].reset_index(drop = True)\n",
    "    # get the data for the non top_k classes\n",
    "    not_top_k_data = data[data.low_level_substr.isin(not_top_k)].reset_index(drop = True)\n",
    "    # give the same label to all the targets of the not_top_k_data\n",
    "    not_top_k_data[\"low_level_substr\"] = \"other\"\n",
    "    # stack the top k and the not top k data together\n",
    "    all_data = pd.concat([top_k_data, not_top_k_data], ignore_index = True)\n",
    "    \n",
    "    if split_on_bar == False:\n",
    "        # instantiate the vectorizer again\n",
    "        vectorizer = CountVectorizer(tokenizer=lambda x: str(x).split(','), lowercase = False)\n",
    "    \n",
    "    else: \n",
    "        vectorizer = CountVectorizer(tokenizer=lambda x: str(x).replace(\"|\", \",\").split(','), lowercase = False)\n",
    "    \n",
    "    # pipeline\n",
    "    clf = Pipeline([('countvectorizer',vectorizer),('rf',RandomForestClassifier(n_jobs = 6))])\n",
    "    # Parameters of pipelines can be set using ‘__’ separated parameter names:\n",
    "    param_grid = {\n",
    "    'countvectorizer__min_df': [1,2],\n",
    "    'rf__n_estimators': [100,200,400], \n",
    "    'rf__max_features': [\"auto\", \"log2\"]\n",
    "    }\n",
    "    # fit the search\n",
    "    search = GridSearchCV(clf, param_grid, n_jobs=7 , verbose = 3, cv = 5, scoring = \"accuracy\")\n",
    "    \n",
    "    # if both gene seq and category seq\n",
    "    \n",
    "    if both == True: \n",
    "        # fit the grid search\n",
    "        search.fit(all_data[\"sig_gene_seq\"] + \",\" + all_data[\"category_sequence\"], all_data[\"low_level_substr\"])\n",
    "    else: \n",
    "        search.fit(all_data[\"sig_gene_seq\"], all_data[\"low_level_substr\"])\n",
    "    # best score\n",
    "    best_score = search.best_score_\n",
    "    # std error\n",
    "    std_accuracy = search.cv_results_['std_test_score'][np.argmax(search.cv_results_['mean_test_score'])]\n",
    "    vectorizer.fit_transform(all_data[\"sig_gene_seq\"])\n",
    "    print(len(vectorizer.vocabulary_))\n",
    "    return num_classes, best_score, std_accuracy"
   ]
  },
  {
   "cell_type": "code",
   "execution_count": 52,
   "id": "cac21404",
   "metadata": {},
   "outputs": [],
   "source": [
    "# functions that can help us do parallel computation\n",
    "from joblib import Parallel, delayed"
   ]
  },
  {
   "cell_type": "markdown",
   "id": "984ece20",
   "metadata": {},
   "source": [
    "### only using gene data and not splitting on bar (\"|\")"
   ]
  },
  {
   "cell_type": "code",
   "execution_count": 53,
   "id": "e82ddfc8",
   "metadata": {},
   "outputs": [
    {
     "name": "stderr",
     "output_type": "stream",
     "text": [
      "[Parallel(n_jobs=7)]: Using backend LokyBackend with 7 concurrent workers.\n",
      "[Parallel(n_jobs=7)]: Done   6 out of   9 | elapsed:   45.6s remaining:   22.8s\n",
      "[Parallel(n_jobs=7)]: Done   9 out of   9 | elapsed:  1.2min finished\n"
     ]
    }
   ],
   "source": [
    "# run the function in parallel\n",
    "all_results = Parallel(n_jobs=7, verbose = 2)(delayed(model_by_classes)(i, data, False, False) for i in range(1, 10))"
   ]
  },
  {
   "cell_type": "code",
   "execution_count": 54,
   "id": "25236417",
   "metadata": {},
   "outputs": [],
   "source": [
    "# get the error ranges\n",
    "err_ranges = np.array(all_results)[:,2]*3"
   ]
  },
  {
   "cell_type": "code",
   "execution_count": 55,
   "id": "c58e9a35",
   "metadata": {},
   "outputs": [],
   "source": [
    "# put everything in a dataframe\n",
    "df = pd.DataFrame(all_results)"
   ]
  },
  {
   "cell_type": "code",
   "execution_count": 56,
   "id": "ae4deff8",
   "metadata": {},
   "outputs": [],
   "source": [
    "# give column names\n",
    "df.columns = [\"num_classes\", \"mean_accuracy\", \"std_error_accuracy\"]"
   ]
  },
  {
   "cell_type": "code",
   "execution_count": 57,
   "id": "4fdb2de1",
   "metadata": {},
   "outputs": [],
   "source": [
    "# how much data do these classes cover\n",
    "coverage = pd.DataFrame(data.high_level_substr.value_counts().cumsum()/data.high_level_substr.value_counts().cumsum()[-1])[\"high_level_substr\"].values[1:10]"
   ]
  },
  {
   "cell_type": "code",
   "execution_count": 221,
   "id": "99be5b6c",
   "metadata": {},
   "outputs": [],
   "source": [
    "# round the coverage\n",
    "coverage = np.round(coverage,2).astype(str)"
   ]
  },
  {
   "cell_type": "code",
   "execution_count": 222,
   "id": "a4074c25",
   "metadata": {},
   "outputs": [
    {
     "data": {
      "image/png": "[encoded data removed]",
      "text/plain": [
       "<Figure size 720x720 with 1 Axes>"
      ]
     },
     "metadata": {
      "needs_background": "light"
     },
     "output_type": "display_data"
    }
   ],
   "source": [
    "# create a plot\n",
    "plt.figure(figsize = (10,10))\n",
    "plt.errorbar(df[\"num_classes\"],np.array(all_results)[:,1], \n",
    "             err_ranges, linestyle='None', marker='^', linewidth = 2)\n",
    "plt.xlabel(\"Number of Classes\", weight = \"bold\", fontsize = 20)\n",
    "plt.ylabel(\"Accuracy\", weight = \"bold\", fontsize = 20)\n",
    "plt.yticks(fontsize=14)\n",
    "plt.xticks(df[\"num_classes\"])\n",
    "counter = 1\n",
    "plt.title(\"mean accuracy with +- 3 SD\", weight = \"bold\", fontsize = 20)\n",
    "for text in coverage: \n",
    "    plt.text(counter, 1, text)\n",
    "    counter+=1\n",
    "plt.show()"
   ]
  },
  {
   "cell_type": "code",
   "execution_count": 223,
   "id": "10127906",
   "metadata": {},
   "outputs": [],
   "source": [
    "# make a new column for coverage\n",
    "df[\"coverage\"] = coverage"
   ]
  },
  {
   "cell_type": "code",
   "execution_count": 224,
   "id": "06407cc7",
   "metadata": {},
   "outputs": [],
   "source": [
    "df[\"num_classes\"] = df[\"num_classes\"]  + 1"
   ]
  },
  {
   "cell_type": "code",
   "execution_count": 225,
   "id": "4873406a",
   "metadata": {},
   "outputs": [
    {
     "data": {
      "text/html": [
       "<div>\n",
       "<style scoped>\n",
       "    .dataframe tbody tr th:only-of-type {\n",
       "        vertical-align: middle;\n",
       "    }\n",
       "\n",
       "    .dataframe tbody tr th {\n",
       "        vertical-align: top;\n",
       "    }\n",
       "\n",
       "    .dataframe thead th {\n",
       "        text-align: right;\n",
       "    }\n",
       "</style>\n",
       "<table border=\"1\" class=\"dataframe\">\n",
       "  <thead>\n",
       "    <tr style=\"text-align: right;\">\n",
       "      <th></th>\n",
       "      <th>num_classes</th>\n",
       "      <th>mean_accuracy</th>\n",
       "      <th>std_error_accuracy</th>\n",
       "      <th>coverage</th>\n",
       "    </tr>\n",
       "  </thead>\n",
       "  <tbody>\n",
       "    <tr>\n",
       "      <th>0</th>\n",
       "      <td>2</td>\n",
       "      <td>0.899029</td>\n",
       "      <td>0.034517</td>\n",
       "      <td>0.33</td>\n",
       "    </tr>\n",
       "    <tr>\n",
       "      <th>1</th>\n",
       "      <td>3</td>\n",
       "      <td>0.862136</td>\n",
       "      <td>0.024867</td>\n",
       "      <td>0.42</td>\n",
       "    </tr>\n",
       "    <tr>\n",
       "      <th>2</th>\n",
       "      <td>4</td>\n",
       "      <td>0.821359</td>\n",
       "      <td>0.016928</td>\n",
       "      <td>0.48</td>\n",
       "    </tr>\n",
       "    <tr>\n",
       "      <th>3</th>\n",
       "      <td>5</td>\n",
       "      <td>0.778641</td>\n",
       "      <td>0.016704</td>\n",
       "      <td>0.54</td>\n",
       "    </tr>\n",
       "    <tr>\n",
       "      <th>4</th>\n",
       "      <td>6</td>\n",
       "      <td>0.730097</td>\n",
       "      <td>0.035487</td>\n",
       "      <td>0.6</td>\n",
       "    </tr>\n",
       "    <tr>\n",
       "      <th>5</th>\n",
       "      <td>7</td>\n",
       "      <td>0.716505</td>\n",
       "      <td>0.047324</td>\n",
       "      <td>0.66</td>\n",
       "    </tr>\n",
       "    <tr>\n",
       "      <th>6</th>\n",
       "      <td>8</td>\n",
       "      <td>0.700971</td>\n",
       "      <td>0.056744</td>\n",
       "      <td>0.71</td>\n",
       "    </tr>\n",
       "    <tr>\n",
       "      <th>7</th>\n",
       "      <td>9</td>\n",
       "      <td>0.667961</td>\n",
       "      <td>0.046521</td>\n",
       "      <td>0.75</td>\n",
       "    </tr>\n",
       "    <tr>\n",
       "      <th>8</th>\n",
       "      <td>10</td>\n",
       "      <td>0.667961</td>\n",
       "      <td>0.053319</td>\n",
       "      <td>0.78</td>\n",
       "    </tr>\n",
       "  </tbody>\n",
       "</table>\n",
       "</div>"
      ],
      "text/plain": [
       "   num_classes  mean_accuracy  std_error_accuracy coverage\n",
       "0            2       0.899029            0.034517     0.33\n",
       "1            3       0.862136            0.024867     0.42\n",
       "2            4       0.821359            0.016928     0.48\n",
       "3            5       0.778641            0.016704     0.54\n",
       "4            6       0.730097            0.035487      0.6\n",
       "5            7       0.716505            0.047324     0.66\n",
       "6            8       0.700971            0.056744     0.71\n",
       "7            9       0.667961            0.046521     0.75\n",
       "8           10       0.667961            0.053319     0.78"
      ]
     },
     "execution_count": 225,
     "metadata": {},
     "output_type": "execute_result"
    }
   ],
   "source": [
    "df"
   ]
  },
  {
   "cell_type": "markdown",
   "id": "4ab1c0fd",
   "metadata": {},
   "source": [
    "We could decide to work with the top 2 or 3 most frequent classes because those models have an accuracy of over 70% but the issue is that the top 2 or 3 most frequent classes only cover about ~50% of the data which I do not think is enough coverage."
   ]
  },
  {
   "cell_type": "markdown",
   "id": "49e53463",
   "metadata": {},
   "source": [
    "We got some more data which essentially maps each gene to a reference. We will do the same kind of exercise as done above, but with the addition of this signature gene reference data."
   ]
  },
  {
   "cell_type": "markdown",
   "id": "528b2825",
   "metadata": {},
   "source": [
    "### only using gene data and splitting on bar (\"|\")"
   ]
  },
  {
   "cell_type": "code",
   "execution_count": 226,
   "id": "d2dc1fb7",
   "metadata": {},
   "outputs": [
    {
     "name": "stderr",
     "output_type": "stream",
     "text": [
      "[Parallel(n_jobs=7)]: Using backend LokyBackend with 7 concurrent workers.\n",
      "[Parallel(n_jobs=7)]: Done   6 out of   9 | elapsed:   47.4s remaining:   23.7s\n",
      "[Parallel(n_jobs=7)]: Done   9 out of   9 | elapsed:  1.2min finished\n"
     ]
    }
   ],
   "source": [
    "# run the function in parallel\n",
    "all_results = Parallel(n_jobs=7, verbose = 2)(delayed(model_by_classes)(i, data, False, True) for i in range(1, 10))"
   ]
  },
  {
   "cell_type": "code",
   "execution_count": 227,
   "id": "5cea1a86",
   "metadata": {},
   "outputs": [],
   "source": [
    "# get the error ranges\n",
    "err_ranges = np.array(all_results)[:,2]*3"
   ]
  },
  {
   "cell_type": "code",
   "execution_count": 228,
   "id": "c1271a8a",
   "metadata": {},
   "outputs": [],
   "source": [
    "# put everything in a dataframe\n",
    "df = pd.DataFrame(all_results)"
   ]
  },
  {
   "cell_type": "code",
   "execution_count": 229,
   "id": "bb687b2f",
   "metadata": {},
   "outputs": [],
   "source": [
    "# give column names\n",
    "df.columns = [\"num_classes\", \"mean_accuracy\", \"std_error_accuracy\"]"
   ]
  },
  {
   "cell_type": "code",
   "execution_count": 230,
   "id": "7e0a10c2",
   "metadata": {},
   "outputs": [],
   "source": [
    "# how much data do these classes cover\n",
    "coverage = pd.DataFrame(data.high_level_substr.value_counts().cumsum()/data.high_level_substr.value_counts().cumsum()[-1])[\"high_level_substr\"].values[1:10]"
   ]
  },
  {
   "cell_type": "code",
   "execution_count": 231,
   "id": "9ad61852",
   "metadata": {},
   "outputs": [],
   "source": [
    "# round the coverage\n",
    "coverage = np.round(coverage,2).astype(str)"
   ]
  },
  {
   "cell_type": "code",
   "execution_count": 232,
   "id": "4b4c3f35",
   "metadata": {},
   "outputs": [
    {
     "data": {
      "image/png": "[encoded data removed]",
      "text/plain": [
       "<Figure size 720x720 with 1 Axes>"
      ]
     },
     "metadata": {
      "needs_background": "light"
     },
     "output_type": "display_data"
    }
   ],
   "source": [
    "# create a plot\n",
    "plt.figure(figsize = (10,10))\n",
    "plt.errorbar(df[\"num_classes\"],np.array(all_results)[:,1], \n",
    "             err_ranges, linestyle='None', marker='^', linewidth = 2)\n",
    "plt.xlabel(\"Number of Classes\", weight = \"bold\", fontsize = 20)\n",
    "plt.ylabel(\"Accuracy\", weight = \"bold\", fontsize = 20)\n",
    "plt.yticks(fontsize=14)\n",
    "plt.xticks(df[\"num_classes\"])\n",
    "counter = 1\n",
    "plt.title(\"mean accuracy with +- 3 SD\", weight = \"bold\", fontsize = 20)\n",
    "for text in coverage: \n",
    "    plt.text(counter, 1, text)\n",
    "    counter+=1\n",
    "plt.show()"
   ]
  },
  {
   "cell_type": "code",
   "execution_count": 233,
   "id": "10127906",
   "metadata": {},
   "outputs": [],
   "source": [
    "# make a new column for coverage\n",
    "df[\"coverage\"] = coverage"
   ]
  },
  {
   "cell_type": "code",
   "execution_count": 234,
   "id": "06407cc7",
   "metadata": {},
   "outputs": [],
   "source": [
    "df[\"num_classes\"] = df[\"num_classes\"]  + 1"
   ]
  },
  {
   "cell_type": "code",
   "execution_count": 235,
   "id": "4873406a",
   "metadata": {},
   "outputs": [
    {
     "data": {
      "text/html": [
       "<div>\n",
       "<style scoped>\n",
       "    .dataframe tbody tr th:only-of-type {\n",
       "        vertical-align: middle;\n",
       "    }\n",
       "\n",
       "    .dataframe tbody tr th {\n",
       "        vertical-align: top;\n",
       "    }\n",
       "\n",
       "    .dataframe thead th {\n",
       "        text-align: right;\n",
       "    }\n",
       "</style>\n",
       "<table border=\"1\" class=\"dataframe\">\n",
       "  <thead>\n",
       "    <tr style=\"text-align: right;\">\n",
       "      <th></th>\n",
       "      <th>num_classes</th>\n",
       "      <th>mean_accuracy</th>\n",
       "      <th>std_error_accuracy</th>\n",
       "      <th>coverage</th>\n",
       "    </tr>\n",
       "  </thead>\n",
       "  <tbody>\n",
       "    <tr>\n",
       "      <th>0</th>\n",
       "      <td>2</td>\n",
       "      <td>0.893204</td>\n",
       "      <td>0.037350</td>\n",
       "      <td>0.33</td>\n",
       "    </tr>\n",
       "    <tr>\n",
       "      <th>1</th>\n",
       "      <td>3</td>\n",
       "      <td>0.858252</td>\n",
       "      <td>0.029830</td>\n",
       "      <td>0.42</td>\n",
       "    </tr>\n",
       "    <tr>\n",
       "      <th>2</th>\n",
       "      <td>4</td>\n",
       "      <td>0.827184</td>\n",
       "      <td>0.026339</td>\n",
       "      <td>0.48</td>\n",
       "    </tr>\n",
       "    <tr>\n",
       "      <th>3</th>\n",
       "      <td>5</td>\n",
       "      <td>0.786408</td>\n",
       "      <td>0.019417</td>\n",
       "      <td>0.54</td>\n",
       "    </tr>\n",
       "    <tr>\n",
       "      <th>4</th>\n",
       "      <td>6</td>\n",
       "      <td>0.741748</td>\n",
       "      <td>0.039604</td>\n",
       "      <td>0.6</td>\n",
       "    </tr>\n",
       "    <tr>\n",
       "      <th>5</th>\n",
       "      <td>7</td>\n",
       "      <td>0.722330</td>\n",
       "      <td>0.041007</td>\n",
       "      <td>0.66</td>\n",
       "    </tr>\n",
       "    <tr>\n",
       "      <th>6</th>\n",
       "      <td>8</td>\n",
       "      <td>0.700971</td>\n",
       "      <td>0.043157</td>\n",
       "      <td>0.71</td>\n",
       "    </tr>\n",
       "    <tr>\n",
       "      <th>7</th>\n",
       "      <td>9</td>\n",
       "      <td>0.673786</td>\n",
       "      <td>0.056143</td>\n",
       "      <td>0.75</td>\n",
       "    </tr>\n",
       "    <tr>\n",
       "      <th>8</th>\n",
       "      <td>10</td>\n",
       "      <td>0.677670</td>\n",
       "      <td>0.048115</td>\n",
       "      <td>0.78</td>\n",
       "    </tr>\n",
       "  </tbody>\n",
       "</table>\n",
       "</div>"
      ],
      "text/plain": [
       "   num_classes  mean_accuracy  std_error_accuracy coverage\n",
       "0            2       0.893204            0.037350     0.33\n",
       "1            3       0.858252            0.029830     0.42\n",
       "2            4       0.827184            0.026339     0.48\n",
       "3            5       0.786408            0.019417     0.54\n",
       "4            6       0.741748            0.039604      0.6\n",
       "5            7       0.722330            0.041007     0.66\n",
       "6            8       0.700971            0.043157     0.71\n",
       "7            9       0.673786            0.056143     0.75\n",
       "8           10       0.677670            0.048115     0.78"
      ]
     },
     "execution_count": 235,
     "metadata": {},
     "output_type": "execute_result"
    }
   ],
   "source": [
    "df"
   ]
  },
  {
   "cell_type": "markdown",
   "id": "4ab1c0fd",
   "metadata": {},
   "source": [
    "We could decide to work with the top 2 or 3 most frequent classes because those models have an accuracy of over 70% but the issue is that the top 2 or 3 most frequent classes only cover about ~50% of the data which I do not think is enough coverage."
   ]
  },
  {
   "cell_type": "markdown",
   "id": "49e53463",
   "metadata": {},
   "source": [
    "We got some more data which essentially maps each gene to a reference. We will do the same kind of exercise as done above, but with the addition of this signature gene reference data."
   ]
  },
  {
   "cell_type": "markdown",
   "id": "286a90a5",
   "metadata": {},
   "source": [
    "## adding the metadata"
   ]
  },
  {
   "cell_type": "code",
   "execution_count": 236,
   "id": "a15e5a29",
   "metadata": {},
   "outputs": [],
   "source": [
    "# read the signature gene reference data\n",
    "sig_gene_reference = pd.read_csv(r\"signature_gene_reference.tsv\", sep = \"\\t\", header = None)"
   ]
  },
  {
   "cell_type": "code",
   "execution_count": 237,
   "id": "a48a7717",
   "metadata": {},
   "outputs": [],
   "source": [
    "# name the columns\n",
    "sig_gene_reference.columns = [\"category\", \"gene\"]"
   ]
  },
  {
   "cell_type": "code",
   "execution_count": 238,
   "id": "6f83d04e",
   "metadata": {},
   "outputs": [
    {
     "data": {
      "text/html": [
       "<div>\n",
       "<style scoped>\n",
       "    .dataframe tbody tr th:only-of-type {\n",
       "        vertical-align: middle;\n",
       "    }\n",
       "\n",
       "    .dataframe tbody tr th {\n",
       "        vertical-align: top;\n",
       "    }\n",
       "\n",
       "    .dataframe thead th {\n",
       "        text-align: right;\n",
       "    }\n",
       "</style>\n",
       "<table border=\"1\" class=\"dataframe\">\n",
       "  <thead>\n",
       "    <tr style=\"text-align: right;\">\n",
       "      <th></th>\n",
       "      <th>category</th>\n",
       "      <th>gene</th>\n",
       "    </tr>\n",
       "  </thead>\n",
       "  <tbody>\n",
       "    <tr>\n",
       "      <th>0</th>\n",
       "      <td>CAZyme</td>\n",
       "      <td>AA0</td>\n",
       "    </tr>\n",
       "    <tr>\n",
       "      <th>1</th>\n",
       "      <td>CAZyme</td>\n",
       "      <td>AA10</td>\n",
       "    </tr>\n",
       "    <tr>\n",
       "      <th>2</th>\n",
       "      <td>CAZyme</td>\n",
       "      <td>AA1_3</td>\n",
       "    </tr>\n",
       "    <tr>\n",
       "      <th>3</th>\n",
       "      <td>CAZyme</td>\n",
       "      <td>AA2</td>\n",
       "    </tr>\n",
       "    <tr>\n",
       "      <th>4</th>\n",
       "      <td>CAZyme</td>\n",
       "      <td>AA3</td>\n",
       "    </tr>\n",
       "  </tbody>\n",
       "</table>\n",
       "</div>"
      ],
      "text/plain": [
       "  category   gene\n",
       "0   CAZyme    AA0\n",
       "1   CAZyme   AA10\n",
       "2   CAZyme  AA1_3\n",
       "3   CAZyme    AA2\n",
       "4   CAZyme    AA3"
      ]
     },
     "execution_count": 238,
     "metadata": {},
     "output_type": "execute_result"
    }
   ],
   "source": [
    "# first few rows of the data\n",
    "sig_gene_reference.head()"
   ]
  },
  {
   "cell_type": "code",
   "execution_count": 239,
   "id": "f2e505f5",
   "metadata": {},
   "outputs": [
    {
     "data": {
      "text/plain": [
       "TC        525\n",
       "CAZyme    499\n",
       "STP       176\n",
       "TF         47\n",
       "Name: category, dtype: int64"
      ]
     },
     "execution_count": 239,
     "metadata": {},
     "output_type": "execute_result"
    }
   ],
   "source": [
    "# what are the distinctive categories\n",
    "sig_gene_reference[\"category\"].value_counts()"
   ]
  },
  {
   "cell_type": "code",
   "execution_count": 240,
   "id": "c257118b",
   "metadata": {},
   "outputs": [],
   "source": [
    "# write a function to map the genes to the category\n",
    "def map_genes_to_categories(sequence): \n",
    "    # instantiate an empty string\n",
    "    category_sequence = \"\"\n",
    "    # the category data has individual genes like A and B and not A|B\n",
    "    # thus to have all the genes mapped we would need to replace \"|\" by \",\"\n",
    "    \n",
    "    # replace \"|\" with a \",\" and then split on the \",\"\n",
    "    # iterate over all those genes\n",
    "    for gene in str(sequence).replace(\"|\", \",\").split(\",\"):\n",
    "        # map out the category reference for the gene\n",
    "        categories = sig_gene_reference[sig_gene_reference[\"gene\"] == gene][\"category\"].values\n",
    "        # sometimes one gene can have different categories\n",
    "        # in such a case loop over the multiple categories found\n",
    "        for i in categories: \n",
    "            # iteratively add to the empty string\n",
    "#             if len(i) > 0:\n",
    "            category_sequence = category_sequence + \",\" + i\n",
    "    # there would be a weird comma at the very start character\n",
    "    # remove that and keep the rest\n",
    "    return category_sequence[1:]"
   ]
  },
  {
   "cell_type": "code",
   "execution_count": 241,
   "id": "1189d141",
   "metadata": {},
   "outputs": [],
   "source": [
    "from tqdm.notebook import tqdm"
   ]
  },
  {
   "cell_type": "code",
   "execution_count": 242,
   "id": "e6d10d24",
   "metadata": {},
   "outputs": [
    {
     "data": {
      "application/vnd.jupyter.widget-view+json": {
       "model_id": "73e858982e0c441a84e5b1bab735bdea",
       "version_major": 2,
       "version_minor": 0
      },
      "text/plain": [
       "  0%|          | 0/653 [00:00<?, ?it/s]"
      ]
     },
     "metadata": {},
     "output_type": "display_data"
    }
   ],
   "source": [
    "category_sequence = []\n",
    "for sequence in tqdm(data[\"sig_gene_seq\"].values): \n",
    "    category_sequence.append(map_genes_to_categories(sequence))"
   ]
  },
  {
   "cell_type": "code",
   "execution_count": 243,
   "id": "9a3579d6",
   "metadata": {},
   "outputs": [],
   "source": [
    "data[\"category_sequence\"] = category_sequence"
   ]
  },
  {
   "cell_type": "code",
   "execution_count": 244,
   "id": "1b589019",
   "metadata": {},
   "outputs": [
    {
     "data": {
      "text/html": [
       "<div>\n",
       "<style scoped>\n",
       "    .dataframe tbody tr th:only-of-type {\n",
       "        vertical-align: middle;\n",
       "    }\n",
       "\n",
       "    .dataframe tbody tr th {\n",
       "        vertical-align: top;\n",
       "    }\n",
       "\n",
       "    .dataframe thead th {\n",
       "        text-align: right;\n",
       "    }\n",
       "</style>\n",
       "<table border=\"1\" class=\"dataframe\">\n",
       "  <thead>\n",
       "    <tr style=\"text-align: right;\">\n",
       "      <th></th>\n",
       "      <th>PULid</th>\n",
       "      <th>sig_gene_seq</th>\n",
       "      <th>low_level_substr</th>\n",
       "      <th>high_level_substr</th>\n",
       "      <th>Pub_year</th>\n",
       "      <th>category_sequence</th>\n",
       "    </tr>\n",
       "  </thead>\n",
       "  <tbody>\n",
       "    <tr>\n",
       "      <th>0</th>\n",
       "      <td>PUL0001</td>\n",
       "      <td>GH1,8.A.49,CE2,GH130,GH130,3.A.1,3.A.1,SBP_bac_1,LacI,GH36,GH113</td>\n",
       "      <td>beta-mannan</td>\n",
       "      <td>beta-mannan</td>\n",
       "      <td>2019</td>\n",
       "      <td>CAZyme,CAZyme,CAZyme,CAZyme,TC,TC,STP,STP,TF,CAZyme,CAZyme</td>\n",
       "    </tr>\n",
       "    <tr>\n",
       "      <th>1</th>\n",
       "      <td>PUL0002</td>\n",
       "      <td>GH16</td>\n",
       "      <td>lichenan</td>\n",
       "      <td>beta-glucan</td>\n",
       "      <td>1996</td>\n",
       "      <td>CAZyme</td>\n",
       "    </tr>\n",
       "    <tr>\n",
       "      <th>2</th>\n",
       "      <td>PUL0003</td>\n",
       "      <td>GH30_8,GH43_16|CBM6</td>\n",
       "      <td>xylan</td>\n",
       "      <td>xylan</td>\n",
       "      <td>2016</td>\n",
       "      <td>CAZyme,CAZyme,CAZyme</td>\n",
       "    </tr>\n",
       "    <tr>\n",
       "      <th>3</th>\n",
       "      <td>PUL0004</td>\n",
       "      <td>4.A.1,GH1</td>\n",
       "      <td>glucose,cellobiose,maltose</td>\n",
       "      <td>multiple_substrates</td>\n",
       "      <td>2016</td>\n",
       "      <td>TC,CAZyme</td>\n",
       "    </tr>\n",
       "    <tr>\n",
       "      <th>4</th>\n",
       "      <td>PUL0005</td>\n",
       "      <td>GH94,GH3</td>\n",
       "      <td>beta-glucan,sophorose,laminaribiose</td>\n",
       "      <td>multiple_substrates</td>\n",
       "      <td>2016</td>\n",
       "      <td>CAZyme,CAZyme</td>\n",
       "    </tr>\n",
       "  </tbody>\n",
       "</table>\n",
       "</div>"
      ],
      "text/plain": [
       "     PULid                                                      sig_gene_seq  \\\n",
       "0  PUL0001  GH1,8.A.49,CE2,GH130,GH130,3.A.1,3.A.1,SBP_bac_1,LacI,GH36,GH113   \n",
       "1  PUL0002                                                              GH16   \n",
       "2  PUL0003                                               GH30_8,GH43_16|CBM6   \n",
       "3  PUL0004                                                         4.A.1,GH1   \n",
       "4  PUL0005                                                          GH94,GH3   \n",
       "\n",
       "                      low_level_substr    high_level_substr Pub_year  \\\n",
       "0                          beta-mannan          beta-mannan     2019   \n",
       "1                             lichenan         beta-glucan      1996   \n",
       "2                                xylan                xylan     2016   \n",
       "3           glucose,cellobiose,maltose  multiple_substrates     2016   \n",
       "4  beta-glucan,sophorose,laminaribiose  multiple_substrates     2016   \n",
       "\n",
       "                                            category_sequence  \n",
       "0  CAZyme,CAZyme,CAZyme,CAZyme,TC,TC,STP,STP,TF,CAZyme,CAZyme  \n",
       "1                                                      CAZyme  \n",
       "2                                        CAZyme,CAZyme,CAZyme  \n",
       "3                                                   TC,CAZyme  \n",
       "4                                               CAZyme,CAZyme  "
      ]
     },
     "execution_count": 244,
     "metadata": {},
     "output_type": "execute_result"
    }
   ],
   "source": [
    "data.head()"
   ]
  },
  {
   "cell_type": "markdown",
   "id": "44959ece",
   "metadata": {},
   "source": [
    "### Using both gene and category data and not splitting on bar (\"|\")"
   ]
  },
  {
   "cell_type": "code",
   "execution_count": 245,
   "id": "5ca288c8",
   "metadata": {},
   "outputs": [
    {
     "name": "stderr",
     "output_type": "stream",
     "text": [
      "[Parallel(n_jobs=7)]: Using backend LokyBackend with 7 concurrent workers.\n",
      "[Parallel(n_jobs=7)]: Done   6 out of   9 | elapsed:   48.8s remaining:   24.3s\n",
      "[Parallel(n_jobs=7)]: Done   9 out of   9 | elapsed:  1.2min finished\n"
     ]
    }
   ],
   "source": [
    "# run the function in parallel\n",
    "all_results = Parallel(n_jobs=7, verbose = 2)(delayed(model_by_classes)(i, data, True, False) for i in range(1, 10))\n",
    "\n",
    "# get the error ranges\n",
    "err_ranges = np.array(all_results)[:,2]*3\n",
    "\n",
    "# put everything in a dataframe\n",
    "df = pd.DataFrame(all_results)\n",
    "\n",
    "# give column names\n",
    "df.columns = [\"num_classes\", \"mean_accuracy\", \"std_error_accuracy\"]"
   ]
  },
  {
   "cell_type": "code",
   "execution_count": 246,
   "id": "313a8ec8",
   "metadata": {},
   "outputs": [
    {
     "data": {
      "image/png": "[encoded data removed]",
      "text/plain": [
       "<Figure size 720x720 with 1 Axes>"
      ]
     },
     "metadata": {
      "needs_background": "light"
     },
     "output_type": "display_data"
    }
   ],
   "source": [
    "# how much data do these classes cover\n",
    "coverage = pd.DataFrame(data.high_level_substr.value_counts().cumsum()/data.high_level_substr.value_counts().cumsum()[-1])[\"high_level_substr\"].values[1:10]\n",
    "\n",
    "# round the coverage\n",
    "coverage = np.round(coverage,2).astype(str)\n",
    "\n",
    "# create a plot\n",
    "plt.figure(figsize = (10,10))\n",
    "plt.errorbar(df[\"num_classes\"],np.array(all_results)[:,1], \n",
    "             err_ranges, linestyle='None', marker='^', linewidth = 2)\n",
    "plt.xlabel(\"Number of Classes\", weight = \"bold\", fontsize = 20)\n",
    "plt.ylabel(\"Accuracy\", weight = \"bold\", fontsize = 20)\n",
    "plt.yticks(fontsize=14)\n",
    "plt.xticks(df[\"num_classes\"])\n",
    "counter = 1\n",
    "plt.title(\"mean accuracy with +- 3 SD\", weight = \"bold\", fontsize = 20)\n",
    "for text in coverage: \n",
    "    plt.text(counter, 1, text)\n",
    "    counter+=1\n",
    "plt.show()"
   ]
  },
  {
   "cell_type": "code",
   "execution_count": 247,
   "id": "6c229bc7",
   "metadata": {},
   "outputs": [
    {
     "data": {
      "text/html": [
       "<div>\n",
       "<style scoped>\n",
       "    .dataframe tbody tr th:only-of-type {\n",
       "        vertical-align: middle;\n",
       "    }\n",
       "\n",
       "    .dataframe tbody tr th {\n",
       "        vertical-align: top;\n",
       "    }\n",
       "\n",
       "    .dataframe thead th {\n",
       "        text-align: right;\n",
       "    }\n",
       "</style>\n",
       "<table border=\"1\" class=\"dataframe\">\n",
       "  <thead>\n",
       "    <tr style=\"text-align: right;\">\n",
       "      <th></th>\n",
       "      <th>num_classes</th>\n",
       "      <th>mean_accuracy</th>\n",
       "      <th>std_error_accuracy</th>\n",
       "      <th>coverage</th>\n",
       "    </tr>\n",
       "  </thead>\n",
       "  <tbody>\n",
       "    <tr>\n",
       "      <th>0</th>\n",
       "      <td>2</td>\n",
       "      <td>0.908738</td>\n",
       "      <td>0.027869</td>\n",
       "      <td>0.33</td>\n",
       "    </tr>\n",
       "    <tr>\n",
       "      <th>1</th>\n",
       "      <td>3</td>\n",
       "      <td>0.873786</td>\n",
       "      <td>0.021271</td>\n",
       "      <td>0.42</td>\n",
       "    </tr>\n",
       "    <tr>\n",
       "      <th>2</th>\n",
       "      <td>4</td>\n",
       "      <td>0.827184</td>\n",
       "      <td>0.020732</td>\n",
       "      <td>0.48</td>\n",
       "    </tr>\n",
       "    <tr>\n",
       "      <th>3</th>\n",
       "      <td>5</td>\n",
       "      <td>0.782524</td>\n",
       "      <td>0.032838</td>\n",
       "      <td>0.54</td>\n",
       "    </tr>\n",
       "    <tr>\n",
       "      <th>4</th>\n",
       "      <td>6</td>\n",
       "      <td>0.735922</td>\n",
       "      <td>0.024096</td>\n",
       "      <td>0.6</td>\n",
       "    </tr>\n",
       "    <tr>\n",
       "      <th>5</th>\n",
       "      <td>7</td>\n",
       "      <td>0.714563</td>\n",
       "      <td>0.046196</td>\n",
       "      <td>0.66</td>\n",
       "    </tr>\n",
       "    <tr>\n",
       "      <th>6</th>\n",
       "      <td>8</td>\n",
       "      <td>0.689320</td>\n",
       "      <td>0.071344</td>\n",
       "      <td>0.71</td>\n",
       "    </tr>\n",
       "    <tr>\n",
       "      <th>7</th>\n",
       "      <td>9</td>\n",
       "      <td>0.666019</td>\n",
       "      <td>0.064576</td>\n",
       "      <td>0.75</td>\n",
       "    </tr>\n",
       "    <tr>\n",
       "      <th>8</th>\n",
       "      <td>10</td>\n",
       "      <td>0.660194</td>\n",
       "      <td>0.065848</td>\n",
       "      <td>0.78</td>\n",
       "    </tr>\n",
       "  </tbody>\n",
       "</table>\n",
       "</div>"
      ],
      "text/plain": [
       "   num_classes  mean_accuracy  std_error_accuracy coverage\n",
       "0            2       0.908738            0.027869     0.33\n",
       "1            3       0.873786            0.021271     0.42\n",
       "2            4       0.827184            0.020732     0.48\n",
       "3            5       0.782524            0.032838     0.54\n",
       "4            6       0.735922            0.024096      0.6\n",
       "5            7       0.714563            0.046196     0.66\n",
       "6            8       0.689320            0.071344     0.71\n",
       "7            9       0.666019            0.064576     0.75\n",
       "8           10       0.660194            0.065848     0.78"
      ]
     },
     "execution_count": 247,
     "metadata": {},
     "output_type": "execute_result"
    }
   ],
   "source": [
    "# make a new column for coverage\n",
    "df[\"coverage\"] = coverage\n",
    "\n",
    "df[\"num_classes\"] = df[\"num_classes\"]  + 1\n",
    "\n",
    "df"
   ]
  },
  {
   "cell_type": "markdown",
   "id": "9f2817c7",
   "metadata": {},
   "source": [
    "### Using both gene and category data and splitting on bar (\"|\")"
   ]
  },
  {
   "cell_type": "code",
   "execution_count": 248,
   "id": "9b4e4da4",
   "metadata": {},
   "outputs": [
    {
     "data": {
      "text/plain": [
       "'GH30_8,GH43_16|CBM6'"
      ]
     },
     "execution_count": 248,
     "metadata": {},
     "output_type": "execute_result"
    }
   ],
   "source": [
    "# let's focus on this one\n",
    "data[\"sig_gene_seq\"].values[2]"
   ]
  },
  {
   "cell_type": "code",
   "execution_count": 249,
   "id": "cefc2379",
   "metadata": {},
   "outputs": [
    {
     "data": {
      "text/plain": [
       "['GH30_8', 'GH43_16|CBM6']"
      ]
     },
     "execution_count": 249,
     "metadata": {},
     "output_type": "execute_result"
    }
   ],
   "source": [
    "# This is what we have been doing so far\n",
    "data[\"sig_gene_seq\"].values[2].split(\",\")"
   ]
  },
  {
   "cell_type": "code",
   "execution_count": 250,
   "id": "ef810b27",
   "metadata": {},
   "outputs": [
    {
     "data": {
      "text/plain": [
       "['GH30_8', 'GH43_16', 'CBM6']"
      ]
     },
     "execution_count": 250,
     "metadata": {},
     "output_type": "execute_result"
    }
   ],
   "source": [
    "# Or could there be some basis for doing something like this as well?\n",
    "data[\"sig_gene_seq\"].values[2].replace(\"|\", \",\").split(\",\")"
   ]
  },
  {
   "cell_type": "code",
   "execution_count": 251,
   "id": "f8e675a9",
   "metadata": {},
   "outputs": [
    {
     "name": "stderr",
     "output_type": "stream",
     "text": [
      "[Parallel(n_jobs=7)]: Using backend LokyBackend with 7 concurrent workers.\n",
      "[Parallel(n_jobs=7)]: Done   6 out of   9 | elapsed:   48.8s remaining:   24.3s\n",
      "[Parallel(n_jobs=7)]: Done   9 out of   9 | elapsed:  1.3min finished\n"
     ]
    }
   ],
   "source": [
    "# run the function in parallel\n",
    "all_results = Parallel(n_jobs=7, verbose = 2)(delayed(model_by_classes)(i, data, True, True) for i in range(1, 10))\n",
    "\n",
    "# get the error ranges\n",
    "err_ranges = np.array(all_results)[:,2]*3\n",
    "\n",
    "# put everything in a dataframe\n",
    "df = pd.DataFrame(all_results)\n",
    "\n",
    "# give column names\n",
    "df.columns = [\"num_classes\", \"mean_accuracy\", \"std_error_accuracy\"]"
   ]
  },
  {
   "cell_type": "code",
   "execution_count": 252,
   "id": "a4656602",
   "metadata": {},
   "outputs": [
    {
     "data": {
      "image/png": "[encoded data removed]",
      "text/plain": [
       "<Figure size 720x720 with 1 Axes>"
      ]
     },
     "metadata": {
      "needs_background": "light"
     },
     "output_type": "display_data"
    }
   ],
   "source": [
    "# how much data do these classes cover\n",
    "coverage = pd.DataFrame(data.high_level_substr.value_counts().cumsum()/data.high_level_substr.value_counts().cumsum()[-1])[\"high_level_substr\"].values[1:10]\n",
    "\n",
    "# round the coverage\n",
    "coverage = np.round(coverage,2).astype(str)\n",
    "\n",
    "# create a plot\n",
    "plt.figure(figsize = (10,10))\n",
    "plt.errorbar(df[\"num_classes\"],np.array(all_results)[:,1], \n",
    "             err_ranges, linestyle='None', marker='^', linewidth = 2)\n",
    "plt.xlabel(\"Number of Classes\", weight = \"bold\", fontsize = 20)\n",
    "plt.ylabel(\"Accuracy\", weight = \"bold\", fontsize = 20)\n",
    "plt.yticks(fontsize=14)\n",
    "plt.xticks(df[\"num_classes\"])\n",
    "counter = 1\n",
    "plt.title(\"mean accuracy with +- 3 SD\", weight = \"bold\", fontsize = 20)\n",
    "for text in coverage: \n",
    "    plt.text(counter, 1, text)\n",
    "    counter+=1\n",
    "plt.show()"
   ]
  },
  {
   "cell_type": "code",
   "execution_count": 253,
   "id": "f01fbea7",
   "metadata": {},
   "outputs": [
    {
     "data": {
      "text/html": [
       "<div>\n",
       "<style scoped>\n",
       "    .dataframe tbody tr th:only-of-type {\n",
       "        vertical-align: middle;\n",
       "    }\n",
       "\n",
       "    .dataframe tbody tr th {\n",
       "        vertical-align: top;\n",
       "    }\n",
       "\n",
       "    .dataframe thead th {\n",
       "        text-align: right;\n",
       "    }\n",
       "</style>\n",
       "<table border=\"1\" class=\"dataframe\">\n",
       "  <thead>\n",
       "    <tr style=\"text-align: right;\">\n",
       "      <th></th>\n",
       "      <th>num_classes</th>\n",
       "      <th>mean_accuracy</th>\n",
       "      <th>std_error_accuracy</th>\n",
       "      <th>coverage</th>\n",
       "    </tr>\n",
       "  </thead>\n",
       "  <tbody>\n",
       "    <tr>\n",
       "      <th>0</th>\n",
       "      <td>2</td>\n",
       "      <td>0.902913</td>\n",
       "      <td>0.029448</td>\n",
       "      <td>0.33</td>\n",
       "    </tr>\n",
       "    <tr>\n",
       "      <th>1</th>\n",
       "      <td>3</td>\n",
       "      <td>0.867961</td>\n",
       "      <td>0.024252</td>\n",
       "      <td>0.42</td>\n",
       "    </tr>\n",
       "    <tr>\n",
       "      <th>2</th>\n",
       "      <td>4</td>\n",
       "      <td>0.836893</td>\n",
       "      <td>0.020732</td>\n",
       "      <td>0.48</td>\n",
       "    </tr>\n",
       "    <tr>\n",
       "      <th>3</th>\n",
       "      <td>5</td>\n",
       "      <td>0.788350</td>\n",
       "      <td>0.035487</td>\n",
       "      <td>0.54</td>\n",
       "    </tr>\n",
       "    <tr>\n",
       "      <th>4</th>\n",
       "      <td>6</td>\n",
       "      <td>0.739806</td>\n",
       "      <td>0.035487</td>\n",
       "      <td>0.6</td>\n",
       "    </tr>\n",
       "    <tr>\n",
       "      <th>5</th>\n",
       "      <td>7</td>\n",
       "      <td>0.720388</td>\n",
       "      <td>0.052247</td>\n",
       "      <td>0.66</td>\n",
       "    </tr>\n",
       "    <tr>\n",
       "      <th>6</th>\n",
       "      <td>8</td>\n",
       "      <td>0.687379</td>\n",
       "      <td>0.085393</td>\n",
       "      <td>0.71</td>\n",
       "    </tr>\n",
       "    <tr>\n",
       "      <th>7</th>\n",
       "      <td>9</td>\n",
       "      <td>0.662136</td>\n",
       "      <td>0.070118</td>\n",
       "      <td>0.75</td>\n",
       "    </tr>\n",
       "    <tr>\n",
       "      <th>8</th>\n",
       "      <td>10</td>\n",
       "      <td>0.662136</td>\n",
       "      <td>0.056076</td>\n",
       "      <td>0.78</td>\n",
       "    </tr>\n",
       "  </tbody>\n",
       "</table>\n",
       "</div>"
      ],
      "text/plain": [
       "   num_classes  mean_accuracy  std_error_accuracy coverage\n",
       "0            2       0.902913            0.029448     0.33\n",
       "1            3       0.867961            0.024252     0.42\n",
       "2            4       0.836893            0.020732     0.48\n",
       "3            5       0.788350            0.035487     0.54\n",
       "4            6       0.739806            0.035487      0.6\n",
       "5            7       0.720388            0.052247     0.66\n",
       "6            8       0.687379            0.085393     0.71\n",
       "7            9       0.662136            0.070118     0.75\n",
       "8           10       0.662136            0.056076     0.78"
      ]
     },
     "execution_count": 253,
     "metadata": {},
     "output_type": "execute_result"
    }
   ],
   "source": [
    "# make a new column for coverage\n",
    "df[\"coverage\"] = coverage\n",
    "\n",
    "df[\"num_classes\"] = df[\"num_classes\"]  + 1\n",
    "\n",
    "df"
   ]
  },
  {
   "cell_type": "markdown",
   "id": "335b1d10",
   "metadata": {},
   "source": [
    "Therefore, the roadmap we will use is, we would have a classification model that can classify sequences into these top 6 most frequent classes. We would also have an unknown class in the mix which the model would classify a sequence into if it is not sure. "
   ]
  },
  {
   "cell_type": "markdown",
   "id": "ee281aec",
   "metadata": {},
   "source": [
    "## Implementing the roadmap"
   ]
  },
  {
   "cell_type": "markdown",
   "id": "5f17bed3",
   "metadata": {},
   "source": [
    "### use only gene data, no metadata and split on bars as well"
   ]
  },
  {
   "cell_type": "markdown",
   "id": "2cc96be5",
   "metadata": {},
   "source": [
    "### RandomForest Supervised Learning Model"
   ]
  },
  {
   "cell_type": "code",
   "execution_count": 552,
   "id": "9c6638f9",
   "metadata": {},
   "outputs": [],
   "source": [
    "# import train test split\n",
    "from sklearn.model_selection import train_test_split"
   ]
  },
  {
   "cell_type": "code",
   "execution_count": 553,
   "id": "be151dbe",
   "metadata": {},
   "outputs": [],
   "source": [
    "data = data[~data[\"high_level_substr\"].isin([\"multiple_substrates\"])]"
   ]
  },
  {
   "cell_type": "code",
   "execution_count": 554,
   "id": "298c8619",
   "metadata": {},
   "outputs": [],
   "source": [
    "# make a train and test set\n",
    "X_train, X_test, y_train, y_test = train_test_split(data[\"sig_gene_seq\"], data[\"high_level_substr\"],\n",
    "                                                    test_size=0.40, random_state=42)"
   ]
  },
  {
   "cell_type": "code",
   "execution_count": 558,
   "id": "110c97b1",
   "metadata": {},
   "outputs": [],
   "source": [
    "# generic function that takes in the data and number of classes\n",
    "def model_by_classes(num_classes, data, both = False, split_on_bar = False): \n",
    "    # get the frequency counts\n",
    "    all_classes = list(data.high_level_substr.value_counts().keys())\n",
    "    # remove multiple substrates\n",
    "    all_classes = [classes for classes in all_classes if classes not in [\"multiple_substrates\"]]\n",
    "    # suppose using the top 2\n",
    "    keep_these_many = num_classes\n",
    "    # top_k_classes\n",
    "    top_k = all_classes[:keep_these_many]\n",
    "    # not top two\n",
    "    not_top_k = [target for target in all_classes if target not in top_k]\n",
    "    # get the data for the top k classes\n",
    "    top_k_data = data[data.high_level_substr.isin(top_k)].reset_index(drop = True)\n",
    "    # get the data for the non top_k classes\n",
    "    not_top_k_data = data[data.high_level_substr.isin(not_top_k)].reset_index(drop = True)\n",
    "    # give the same label to all the targets of the not_top_k_data\n",
    "    not_top_k_data[\"high_level_substr\"] = \"other\"\n",
    "    # stack the top k and the not top k data together\n",
    "    all_data = pd.concat([top_k_data, not_top_k_data], ignore_index = True)\n",
    "    \n",
    "    if split_on_bar == False:\n",
    "        # instantiate the vectorizer again\n",
    "        vectorizer = CountVectorizer(tokenizer=lambda x: str(x).split(','), lowercase = False)\n",
    "    \n",
    "    else: \n",
    "        vectorizer = CountVectorizer(tokenizer=lambda x: str(x).replace(\"|\", \",\").split(','), lowercase = False)\n",
    "    \n",
    "    # pipeline\n",
    "    clf = Pipeline([('countvectorizer',vectorizer),('rf',RandomForestClassifier(n_jobs = 6))])\n",
    "    # Parameters of pipelines can be set using ‘__’ separated parameter names:\n",
    "    param_grid = {\n",
    "    'countvectorizer__min_df': [1,2],\n",
    "    'rf__n_estimators': [100,200,400], \n",
    "    'rf__max_features': [\"auto\", \"log2\"]\n",
    "    }\n",
    "    # fit the search\n",
    "    search = GridSearchCV(clf, param_grid, n_jobs=7 , verbose = 3, cv = 5, scoring = \"accuracy\")\n",
    "    \n",
    "    # if both gene seq and category seq\n",
    "    \n",
    "    if both == True: \n",
    "        # fit the grid search\n",
    "        search.fit(all_data[\"sig_gene_seq\"] + \",\" + all_data[\"category_sequence\"], all_data[\"high_level_substr\"])\n",
    "    else: \n",
    "        search.fit(all_data[\"sig_gene_seq\"], all_data[\"high_level_substr\"])\n",
    "    # best score\n",
    "    best_score = search.best_score_\n",
    "    # std error\n",
    "    std_accuracy = search.cv_results_['std_test_score'][np.argmax(search.cv_results_['mean_test_score'])]\n",
    "    vectorizer.fit_transform(all_data[\"sig_gene_seq\"])\n",
    "    print(len(vectorizer.vocabulary_))\n",
    "    return num_classes, best_score, std_accuracy, search.best_estimator_, top_k, not_top_k, vectorizer"
   ]
  },
  {
   "cell_type": "code",
   "execution_count": 559,
   "id": "3e9b8a76",
   "metadata": {},
   "outputs": [],
   "source": [
    "data_train = pd.concat([pd.DataFrame(X_train.values), pd.DataFrame(y_train.values)], ignore_index = True, axis = 1)"
   ]
  },
  {
   "cell_type": "code",
   "execution_count": 560,
   "id": "6ebd4f5b",
   "metadata": {},
   "outputs": [],
   "source": [
    "data_train.columns = [\"sig_gene_seq\", \"high_level_substr\"]"
   ]
  },
  {
   "cell_type": "code",
   "execution_count": 561,
   "id": "fc51b927",
   "metadata": {},
   "outputs": [
    {
     "name": "stdout",
     "output_type": "stream",
     "text": [
      "Fitting 5 folds for each of 12 candidates, totalling 60 fits\n",
      "323\n"
     ]
    }
   ],
   "source": [
    "# use the function with 6 classes and only train data\n",
    "num_classes, best_score, std_accuracy, best_estimator_, top_k, not_top_k, vectorizer = model_by_classes(5, data_train, False, True)"
   ]
  },
  {
   "cell_type": "code",
   "execution_count": 562,
   "id": "57872d4e",
   "metadata": {},
   "outputs": [
    {
     "data": {
      "text/plain": [
       "(0.7995240613432048, 0.035494233080083606)"
      ]
     },
     "execution_count": 562,
     "metadata": {},
     "output_type": "execute_result"
    }
   ],
   "source": [
    "# best score and std error\n",
    "best_score, std_accuracy"
   ]
  },
  {
   "cell_type": "code",
   "execution_count": 563,
   "id": "26c6a38e",
   "metadata": {},
   "outputs": [],
   "source": [
    "best_estimator = best_estimator_"
   ]
  },
  {
   "cell_type": "code",
   "execution_count": 564,
   "id": "b575d693",
   "metadata": {},
   "outputs": [],
   "source": [
    "# column change the original targets to top 6 + unknown\n",
    "targets_train = [target if target in top_k else \"other\" for target in data_train[\"high_level_substr\"]]"
   ]
  },
  {
   "cell_type": "code",
   "execution_count": 565,
   "id": "f9c9df77",
   "metadata": {},
   "outputs": [],
   "source": [
    "vectorizer = vectorizer"
   ]
  },
  {
   "cell_type": "code",
   "execution_count": 566,
   "id": "3e0377a3",
   "metadata": {},
   "outputs": [
    {
     "data": {
      "text/plain": [
       "Pipeline(steps=[('countvectorizer',\n",
       "                 CountVectorizer(lowercase=False,\n",
       "                                 tokenizer=<function model_by_classes.<locals>.<lambda> at 0x00000163396E2EE0>)),\n",
       "                ('rf', RandomForestClassifier(n_estimators=400, n_jobs=6))])"
      ]
     },
     "execution_count": 566,
     "metadata": {},
     "output_type": "execute_result"
    }
   ],
   "source": [
    "# refit this best estimator\n",
    "best_estimator.fit(data_train[[\"sig_gene_seq\"]].values, targets_train)"
   ]
  },
  {
   "cell_type": "code",
   "execution_count": 497,
   "id": "9867fa44",
   "metadata": {},
   "outputs": [],
   "source": [
    "# accuracy_score(targets_train, best_estimator.predict(data_train[[\"sig_gene_seq\"]].values))"
   ]
  },
  {
   "cell_type": "code",
   "execution_count": 567,
   "id": "ac498386",
   "metadata": {},
   "outputs": [],
   "source": [
    "# get the predictions for test\n",
    "y_test_pred = best_estimator.predict(X_test.values)"
   ]
  },
  {
   "cell_type": "code",
   "execution_count": 75,
   "id": "735b140e",
   "metadata": {},
   "outputs": [],
   "source": [
    "# get the confusion matrix "
   ]
  },
  {
   "cell_type": "code",
   "execution_count": 568,
   "id": "e0620242",
   "metadata": {},
   "outputs": [],
   "source": [
    "from sklearn.metrics import confusion_matrix"
   ]
  },
  {
   "cell_type": "code",
   "execution_count": 569,
   "id": "a9b2558e",
   "metadata": {},
   "outputs": [],
   "source": [
    "# column change the original targets to top 6 + unknown\n",
    "targets_test = [target if target in top_k else \"other\" for target in y_test]"
   ]
  },
  {
   "cell_type": "code",
   "execution_count": 570,
   "id": "ce4f78a5",
   "metadata": {},
   "outputs": [],
   "source": [
    "data_test = pd.concat([pd.DataFrame(X_test.values), pd.DataFrame(targets_test)], ignore_index = True, axis = 1)"
   ]
  },
  {
   "cell_type": "code",
   "execution_count": 571,
   "id": "1c091b05",
   "metadata": {},
   "outputs": [],
   "source": [
    "data_test.columns = [\"sig_gene_seq\", \"high_level_substr\"]"
   ]
  },
  {
   "cell_type": "code",
   "execution_count": 438,
   "id": "a73637e5",
   "metadata": {},
   "outputs": [],
   "source": [
    "# column change the original targets to top 6 + unknown\n",
    "# targets_test = [target if target in top_k else \"other\" for target in data_test[\"high_level_substr\"]]"
   ]
  },
  {
   "cell_type": "code",
   "execution_count": 572,
   "id": "675b1487",
   "metadata": {},
   "outputs": [],
   "source": [
    "# get the array oaf confusion matrix\n",
    "cm = confusion_matrix(targets_test, y_test_pred)"
   ]
  },
  {
   "cell_type": "code",
   "execution_count": 573,
   "id": "730b119a",
   "metadata": {},
   "outputs": [],
   "source": [
    "# dataframe for confusion matrix\n",
    "df_cm = pd.DataFrame(cm, index = [i for i in best_estimator.classes_],\n",
    "                  columns = [i for i in best_estimator.classes_])"
   ]
  },
  {
   "cell_type": "code",
   "execution_count": 574,
   "id": "c749fd2c",
   "metadata": {},
   "outputs": [],
   "source": [
    "# seaborn that helps with aesthetically pleasing plots\n",
    "import seaborn as sns"
   ]
  },
  {
   "cell_type": "code",
   "execution_count": 575,
   "id": "95ca5f12",
   "metadata": {},
   "outputs": [
    {
     "data": {
      "image/png": "[encoded data removed]",
      "text/plain": [
       "<Figure size 720x720 with 2 Axes>"
      ]
     },
     "metadata": {
      "needs_background": "light"
     },
     "output_type": "display_data"
    }
   ],
   "source": [
    "# make the plot\n",
    "plt.figure(figsize = (10, 10))\n",
    "sns.heatmap(df_cm, annot = True)\n",
    "plt.title(\"confusion matrix for the test set\", fontsize = 20)\n",
    "plt.xlabel(\"Predicted Label\", fontsize = 20)\n",
    "plt.ylabel(\"True Label\", fontsize = 20)\n",
    "plt.show()\n"
   ]
  },
  {
   "cell_type": "code",
   "execution_count": 576,
   "id": "15a2241b",
   "metadata": {},
   "outputs": [],
   "source": [
    "from sklearn.metrics import accuracy_score"
   ]
  },
  {
   "cell_type": "code",
   "execution_count": 577,
   "id": "292a2d29",
   "metadata": {},
   "outputs": [
    {
     "data": {
      "text/plain": [
       "0.6359223300970874"
      ]
     },
     "execution_count": 577,
     "metadata": {},
     "output_type": "execute_result"
    }
   ],
   "source": [
    "accuracy_score(targets_test, y_test_pred)"
   ]
  },
  {
   "cell_type": "markdown",
   "id": "26175a51",
   "metadata": {},
   "source": [
    "So far, we have a trained random forest classifier which can classify new sequences into the top 6 most frequent classes and an unknown class if it is not sure."
   ]
  },
  {
   "cell_type": "code",
   "execution_count": 578,
   "id": "c9d4d29e",
   "metadata": {},
   "outputs": [
    {
     "data": {
      "text/plain": [
       "['mono/di/trisaccharide',\n",
       " 'capsule polysaccharide',\n",
       " 'O-antigen',\n",
       " 'galactan',\n",
       " 'pectin']"
      ]
     },
     "execution_count": 578,
     "metadata": {},
     "output_type": "execute_result"
    }
   ],
   "source": [
    "top_k"
   ]
  },
  {
   "cell_type": "code",
   "execution_count": 579,
   "id": "5d0aa8ed",
   "metadata": {},
   "outputs": [
    {
     "data": {
      "text/html": [
       "<div>\n",
       "<style scoped>\n",
       "    .dataframe tbody tr th:only-of-type {\n",
       "        vertical-align: middle;\n",
       "    }\n",
       "\n",
       "    .dataframe tbody tr th {\n",
       "        vertical-align: top;\n",
       "    }\n",
       "\n",
       "    .dataframe thead th {\n",
       "        text-align: right;\n",
       "    }\n",
       "</style>\n",
       "<table border=\"1\" class=\"dataframe\">\n",
       "  <thead>\n",
       "    <tr style=\"text-align: right;\">\n",
       "      <th></th>\n",
       "      <th>PULid</th>\n",
       "      <th>sig_gene_seq</th>\n",
       "      <th>low_level_substr</th>\n",
       "      <th>high_level_substr</th>\n",
       "      <th>Pub_year</th>\n",
       "    </tr>\n",
       "  </thead>\n",
       "  <tbody>\n",
       "    <tr>\n",
       "      <th>14</th>\n",
       "      <td>PUL0015</td>\n",
       "      <td>SIS,GH9,4.A.3</td>\n",
       "      <td>cellobiose</td>\n",
       "      <td>mono/di/trisaccharide</td>\n",
       "      <td>2017</td>\n",
       "    </tr>\n",
       "    <tr>\n",
       "      <th>15</th>\n",
       "      <td>PUL0016</td>\n",
       "      <td>4.A.3,4.A.3,HTH_6|SIS,4.A.3,GH1</td>\n",
       "      <td>cellobiose</td>\n",
       "      <td>mono/di/trisaccharide</td>\n",
       "      <td>2017</td>\n",
       "    </tr>\n",
       "    <tr>\n",
       "      <th>16</th>\n",
       "      <td>PUL0017</td>\n",
       "      <td>GH94,3.A.1,3.A.1,SBP_bac_1,HTH_AraC,8.A.59,SBP_bac_1,3.A.9</td>\n",
       "      <td>cellobiose</td>\n",
       "      <td>mono/di/trisaccharide</td>\n",
       "      <td>2017</td>\n",
       "    </tr>\n",
       "    <tr>\n",
       "      <th>21</th>\n",
       "      <td>PUL0022</td>\n",
       "      <td>Mga|HTH_11,GH1,4.A.3,4.A.3</td>\n",
       "      <td>cellobiose</td>\n",
       "      <td>mono/di/trisaccharide</td>\n",
       "      <td>2018</td>\n",
       "    </tr>\n",
       "    <tr>\n",
       "      <th>22</th>\n",
       "      <td>PUL0023</td>\n",
       "      <td>GH1,4.A.3,4.A.3</td>\n",
       "      <td>cellobiose</td>\n",
       "      <td>mono/di/trisaccharide</td>\n",
       "      <td>2018</td>\n",
       "    </tr>\n",
       "    <tr>\n",
       "      <th>...</th>\n",
       "      <td>...</td>\n",
       "      <td>...</td>\n",
       "      <td>...</td>\n",
       "      <td>...</td>\n",
       "      <td>...</td>\n",
       "    </tr>\n",
       "    <tr>\n",
       "      <th>580</th>\n",
       "      <td>PUL0583</td>\n",
       "      <td>4.A.3,4.A.3,CE0,4.A.3</td>\n",
       "      <td>cellobiose</td>\n",
       "      <td>mono/di/trisaccharide</td>\n",
       "      <td>1993</td>\n",
       "    </tr>\n",
       "    <tr>\n",
       "      <th>581</th>\n",
       "      <td>PUL0584</td>\n",
       "      <td>GH13_18,3.A.1,3.A.1,3.A.1,HTH_AraC,GH36,LacI</td>\n",
       "      <td>melibiose</td>\n",
       "      <td>mono/di/trisaccharide</td>\n",
       "      <td>2013</td>\n",
       "    </tr>\n",
       "    <tr>\n",
       "      <th>582</th>\n",
       "      <td>PUL0585</td>\n",
       "      <td>GH1,2.A.123,Mga|HTH_11,4.A.3,4.A.3</td>\n",
       "      <td>cellobiose</td>\n",
       "      <td>mono/di/trisaccharide</td>\n",
       "      <td>2011</td>\n",
       "    </tr>\n",
       "    <tr>\n",
       "      <th>595</th>\n",
       "      <td>PUL0598</td>\n",
       "      <td>GH95</td>\n",
       "      <td>xylose</td>\n",
       "      <td>mono/di/trisaccharide</td>\n",
       "      <td>2015</td>\n",
       "    </tr>\n",
       "    <tr>\n",
       "      <th>644</th>\n",
       "      <td>PUL0647</td>\n",
       "      <td>GT35,GT5,GH13_9</td>\n",
       "      <td>sucrose</td>\n",
       "      <td>mono/di/trisaccharide</td>\n",
       "      <td>2021</td>\n",
       "    </tr>\n",
       "  </tbody>\n",
       "</table>\n",
       "<p>78 rows × 5 columns</p>\n",
       "</div>"
      ],
      "text/plain": [
       "       PULid                                                sig_gene_seq  \\\n",
       "14   PUL0015                                               SIS,GH9,4.A.3   \n",
       "15   PUL0016                             4.A.3,4.A.3,HTH_6|SIS,4.A.3,GH1   \n",
       "16   PUL0017  GH94,3.A.1,3.A.1,SBP_bac_1,HTH_AraC,8.A.59,SBP_bac_1,3.A.9   \n",
       "21   PUL0022                                  Mga|HTH_11,GH1,4.A.3,4.A.3   \n",
       "22   PUL0023                                             GH1,4.A.3,4.A.3   \n",
       "..       ...                                                         ...   \n",
       "580  PUL0583                                       4.A.3,4.A.3,CE0,4.A.3   \n",
       "581  PUL0584                GH13_18,3.A.1,3.A.1,3.A.1,HTH_AraC,GH36,LacI   \n",
       "582  PUL0585                          GH1,2.A.123,Mga|HTH_11,4.A.3,4.A.3   \n",
       "595  PUL0598                                                        GH95   \n",
       "644  PUL0647                                             GT35,GT5,GH13_9   \n",
       "\n",
       "    low_level_substr      high_level_substr Pub_year  \n",
       "14        cellobiose  mono/di/trisaccharide     2017  \n",
       "15        cellobiose  mono/di/trisaccharide     2017  \n",
       "16        cellobiose  mono/di/trisaccharide     2017  \n",
       "21        cellobiose  mono/di/trisaccharide     2018  \n",
       "22        cellobiose  mono/di/trisaccharide     2018  \n",
       "..               ...                    ...      ...  \n",
       "580       cellobiose  mono/di/trisaccharide     1993  \n",
       "581        melibiose  mono/di/trisaccharide     2013  \n",
       "582       cellobiose  mono/di/trisaccharide     2011  \n",
       "595           xylose  mono/di/trisaccharide     2015  \n",
       "644          sucrose  mono/di/trisaccharide     2021  \n",
       "\n",
       "[78 rows x 5 columns]"
      ]
     },
     "execution_count": 579,
     "metadata": {},
     "output_type": "execute_result"
    }
   ],
   "source": [
    "data[data[\"high_level_substr\"] == 'mono/di/trisaccharide']"
   ]
  },
  {
   "cell_type": "code",
   "execution_count": 581,
   "id": "6d9ad1fa",
   "metadata": {},
   "outputs": [
    {
     "data": {
      "text/plain": [
       "cellobiose                                                 14\n",
       "sucrose                                                    12\n",
       "lactose                                                    11\n",
       "raffinose                                                   5\n",
       "beta-glucoside                                              4\n",
       "4-methylumbelliferyl 6-azido-6-deoxy-beta-D-galactoside     3\n",
       "maltose                                                     3\n",
       "melibiose                                                   3\n",
       "trehalose                                                   2\n",
       "chitobiose                                                  2\n",
       "arabinose                                                   2\n",
       "xylose                                                      2\n",
       "ribose                                                      2\n",
       "sialic acid                                                 2\n",
       "fucose                                                      2\n",
       "gentiobiose                                                 1\n",
       "mannose                                                     1\n",
       "glucose                                                     1\n",
       "sialoglycoconjugate                                         1\n",
       "arabinofuranose                                             1\n",
       "melezitose                                                  1\n",
       "isomaltose                                                  1\n",
       "galactose                                                   1\n",
       "alpha-galactoside                                           1\n",
       "Name: low_level_substr, dtype: int64"
      ]
     },
     "execution_count": 581,
     "metadata": {},
     "output_type": "execute_result"
    }
   ],
   "source": [
    "data[data[\"high_level_substr\"] == 'mono/di/trisaccharide'][\"low_level_substr\"].value_counts()"
   ]
  },
  {
   "cell_type": "code",
   "execution_count": 590,
   "id": "9c6638f9",
   "metadata": {},
   "outputs": [],
   "source": [
    "# import train test split\n",
    "from sklearn.model_selection import train_test_split"
   ]
  },
  {
   "cell_type": "code",
   "execution_count": 591,
   "id": "13d2ec00",
   "metadata": {},
   "outputs": [],
   "source": [
    "data = data[~data[\"high_level_substr\"].isin([\"multiple_substrates\", 'mono/di/trisaccharide'])]"
   ]
  },
  {
   "cell_type": "code",
   "execution_count": 592,
   "id": "298c8619",
   "metadata": {},
   "outputs": [],
   "source": [
    "# make a train and test set\n",
    "X_train, X_test, y_train, y_test = train_test_split(data[\"sig_gene_seq\"], data[\"high_level_substr\"],\n",
    "                                                    test_size=0.40, random_state=42)"
   ]
  },
  {
   "cell_type": "code",
   "execution_count": 593,
   "id": "110c97b1",
   "metadata": {},
   "outputs": [],
   "source": [
    "# generic function that takes in the data and number of classes\n",
    "def model_by_classes(num_classes, data, both = False, split_on_bar = False): \n",
    "    # get the frequency counts\n",
    "    all_classes = list(data.high_level_substr.value_counts().keys())\n",
    "    # remove multiple substrates\n",
    "    all_classes = [classes for classes in all_classes if classes not in [\"multiple_substrates\"]]\n",
    "    # suppose using the top 2\n",
    "    keep_these_many = num_classes\n",
    "    # top_k_classes\n",
    "    top_k = all_classes[:keep_these_many]\n",
    "    # not top two\n",
    "    not_top_k = [target for target in all_classes if target not in top_k]\n",
    "    # get the data for the top k classes\n",
    "    top_k_data = data[data.high_level_substr.isin(top_k)].reset_index(drop = True)\n",
    "    # get the data for the non top_k classes\n",
    "    not_top_k_data = data[data.high_level_substr.isin(not_top_k)].reset_index(drop = True)\n",
    "    # give the same label to all the targets of the not_top_k_data\n",
    "    not_top_k_data[\"high_level_substr\"] = \"other\"\n",
    "    # stack the top k and the not top k data together\n",
    "    all_data = pd.concat([top_k_data, not_top_k_data], ignore_index = True)\n",
    "    \n",
    "    if split_on_bar == False:\n",
    "        # instantiate the vectorizer again\n",
    "        vectorizer = CountVectorizer(tokenizer=lambda x: str(x).split(','), lowercase = False)\n",
    "    \n",
    "    else: \n",
    "        vectorizer = CountVectorizer(tokenizer=lambda x: str(x).replace(\"|\", \",\").split(','), lowercase = False)\n",
    "    \n",
    "    # pipeline\n",
    "    clf = Pipeline([('countvectorizer',vectorizer),('rf',RandomForestClassifier(n_jobs = 6))])\n",
    "    # Parameters of pipelines can be set using ‘__’ separated parameter names:\n",
    "    param_grid = {\n",
    "    'countvectorizer__min_df': [1,2],\n",
    "    'rf__n_estimators': [100,200,400], \n",
    "    'rf__max_features': [\"auto\", \"log2\"]\n",
    "    }\n",
    "    # fit the search\n",
    "    search = GridSearchCV(clf, param_grid, n_jobs=7 , verbose = 3, cv = 5, scoring = \"accuracy\")\n",
    "    \n",
    "    # if both gene seq and category seq\n",
    "    \n",
    "    if both == True: \n",
    "        # fit the grid search\n",
    "        search.fit(all_data[\"sig_gene_seq\"] + \",\" + all_data[\"category_sequence\"], all_data[\"high_level_substr\"])\n",
    "    else: \n",
    "        search.fit(all_data[\"sig_gene_seq\"], all_data[\"high_level_substr\"])\n",
    "    # best score\n",
    "    best_score = search.best_score_\n",
    "    # std error\n",
    "    std_accuracy = search.cv_results_['std_test_score'][np.argmax(search.cv_results_['mean_test_score'])]\n",
    "    vectorizer.fit_transform(all_data[\"sig_gene_seq\"])\n",
    "    print(len(vectorizer.vocabulary_))\n",
    "    return num_classes, best_score, std_accuracy, search.best_estimator_, top_k, not_top_k, vectorizer"
   ]
  },
  {
   "cell_type": "code",
   "execution_count": 594,
   "id": "3e9b8a76",
   "metadata": {},
   "outputs": [],
   "source": [
    "data_train = pd.concat([pd.DataFrame(X_train.values), pd.DataFrame(y_train.values)], ignore_index = True, axis = 1)"
   ]
  },
  {
   "cell_type": "code",
   "execution_count": 595,
   "id": "6ebd4f5b",
   "metadata": {},
   "outputs": [],
   "source": [
    "data_train.columns = [\"sig_gene_seq\", \"high_level_substr\"]"
   ]
  },
  {
   "cell_type": "code",
   "execution_count": 597,
   "id": "99415070",
   "metadata": {},
   "outputs": [
    {
     "data": {
      "text/plain": [
       "(437, 5)"
      ]
     },
     "execution_count": 597,
     "metadata": {},
     "output_type": "execute_result"
    }
   ],
   "source": [
    "data.shape"
   ]
  },
  {
   "cell_type": "code",
   "execution_count": 598,
   "id": "fc51b927",
   "metadata": {},
   "outputs": [
    {
     "name": "stdout",
     "output_type": "stream",
     "text": [
      "Fitting 5 folds for each of 12 candidates, totalling 60 fits\n",
      "315\n"
     ]
    }
   ],
   "source": [
    "# use the function with 6 classes and only train data\n",
    "num_classes, best_score, std_accuracy, best_estimator_, top_k, not_top_k, vectorizer = model_by_classes(5, data_train, False, True)"
   ]
  },
  {
   "cell_type": "code",
   "execution_count": 599,
   "id": "57872d4e",
   "metadata": {},
   "outputs": [
    {
     "data": {
      "text/plain": [
       "(0.7978955007256893, 0.024201496855558474)"
      ]
     },
     "execution_count": 599,
     "metadata": {},
     "output_type": "execute_result"
    }
   ],
   "source": [
    "# best score and std error\n",
    "best_score, std_accuracy"
   ]
  },
  {
   "cell_type": "code",
   "execution_count": 600,
   "id": "26c6a38e",
   "metadata": {},
   "outputs": [],
   "source": [
    "best_estimator = best_estimator_"
   ]
  },
  {
   "cell_type": "code",
   "execution_count": 601,
   "id": "b575d693",
   "metadata": {},
   "outputs": [],
   "source": [
    "# column change the original targets to top 6 + unknown\n",
    "targets_train = [target if target in top_k else \"other\" for target in data_train[\"high_level_substr\"]]"
   ]
  },
  {
   "cell_type": "code",
   "execution_count": 602,
   "id": "45174f48",
   "metadata": {},
   "outputs": [],
   "source": [
    "vectorizer = vectorizer"
   ]
  },
  {
   "cell_type": "code",
   "execution_count": 603,
   "id": "3e0377a3",
   "metadata": {},
   "outputs": [
    {
     "data": {
      "text/plain": [
       "Pipeline(steps=[('countvectorizer',\n",
       "                 CountVectorizer(lowercase=False, min_df=2,\n",
       "                                 tokenizer=<function model_by_classes.<locals>.<lambda> at 0x00000163396E2AF0>)),\n",
       "                ('rf', RandomForestClassifier(n_estimators=200, n_jobs=6))])"
      ]
     },
     "execution_count": 603,
     "metadata": {},
     "output_type": "execute_result"
    }
   ],
   "source": [
    "# refit this best estimator\n",
    "best_estimator.fit(data_train[[\"sig_gene_seq\"]].values, targets_train)"
   ]
  },
  {
   "cell_type": "code",
   "execution_count": 497,
   "id": "0e2d0b84",
   "metadata": {},
   "outputs": [],
   "source": [
    "# accuracy_score(targets_train, best_estimator.predict(data_train[[\"sig_gene_seq\"]].values))"
   ]
  },
  {
   "cell_type": "code",
   "execution_count": 604,
   "id": "ac498386",
   "metadata": {},
   "outputs": [],
   "source": [
    "# get the predictions for test\n",
    "y_test_pred = best_estimator.predict(X_test.values)"
   ]
  },
  {
   "cell_type": "code",
   "execution_count": 75,
   "id": "735b140e",
   "metadata": {},
   "outputs": [],
   "source": [
    "# get the confusion matrix "
   ]
  },
  {
   "cell_type": "code",
   "execution_count": 605,
   "id": "e0620242",
   "metadata": {},
   "outputs": [],
   "source": [
    "from sklearn.metrics import confusion_matrix"
   ]
  },
  {
   "cell_type": "code",
   "execution_count": 606,
   "id": "714dddaf",
   "metadata": {},
   "outputs": [],
   "source": [
    "# column change the original targets to top 6 + unknown\n",
    "targets_test = [target if target in top_k else \"other\" for target in y_test]"
   ]
  },
  {
   "cell_type": "code",
   "execution_count": 607,
   "id": "ce4f78a5",
   "metadata": {},
   "outputs": [],
   "source": [
    "data_test = pd.concat([pd.DataFrame(X_test.values), pd.DataFrame(targets_test)], ignore_index = True, axis = 1)"
   ]
  },
  {
   "cell_type": "code",
   "execution_count": 608,
   "id": "1c091b05",
   "metadata": {},
   "outputs": [],
   "source": [
    "data_test.columns = [\"sig_gene_seq\", \"high_level_substr\"]"
   ]
  },
  {
   "cell_type": "code",
   "execution_count": 438,
   "id": "a73637e5",
   "metadata": {},
   "outputs": [],
   "source": [
    "# column change the original targets to top 6 + unknown\n",
    "# targets_test = [target if target in top_k else \"other\" for target in data_test[\"high_level_substr\"]]"
   ]
  },
  {
   "cell_type": "code",
   "execution_count": 609,
   "id": "675b1487",
   "metadata": {},
   "outputs": [],
   "source": [
    "# get the array oaf confusion matrix\n",
    "cm = confusion_matrix(targets_test, y_test_pred)"
   ]
  },
  {
   "cell_type": "code",
   "execution_count": 610,
   "id": "730b119a",
   "metadata": {},
   "outputs": [],
   "source": [
    "# dataframe for confusion matrix\n",
    "df_cm = pd.DataFrame(cm, index = [i for i in best_estimator.classes_],\n",
    "                  columns = [i for i in best_estimator.classes_])"
   ]
  },
  {
   "cell_type": "code",
   "execution_count": 611,
   "id": "c749fd2c",
   "metadata": {},
   "outputs": [],
   "source": [
    "# seaborn that helps with aesthetically pleasing plots\n",
    "import seaborn as sns"
   ]
  },
  {
   "cell_type": "code",
   "execution_count": 612,
   "id": "95ca5f12",
   "metadata": {},
   "outputs": [
    {
     "data": {
      "image/png": "[encoded data removed]",
      "text/plain": [
       "<Figure size 720x720 with 2 Axes>"
      ]
     },
     "metadata": {
      "needs_background": "light"
     },
     "output_type": "display_data"
    }
   ],
   "source": [
    "# make the plot\n",
    "plt.figure(figsize = (10, 10))\n",
    "sns.heatmap(df_cm, annot = True)\n",
    "plt.title(\"confusion matrix for the test set\", fontsize = 20)\n",
    "plt.xlabel(\"Predicted Label\", fontsize = 20)\n",
    "plt.ylabel(\"True Label\", fontsize = 20)\n",
    "plt.show()\n"
   ]
  },
  {
   "cell_type": "code",
   "execution_count": 613,
   "id": "15a2241b",
   "metadata": {},
   "outputs": [],
   "source": [
    "from sklearn.metrics import accuracy_score"
   ]
  },
  {
   "cell_type": "code",
   "execution_count": 614,
   "id": "292a2d29",
   "metadata": {},
   "outputs": [
    {
     "data": {
      "text/plain": [
       "0.8057142857142857"
      ]
     },
     "execution_count": 614,
     "metadata": {},
     "output_type": "execute_result"
    }
   ],
   "source": [
    "accuracy_score(targets_test, y_test_pred)"
   ]
  },
  {
   "cell_type": "markdown",
   "id": "26175a51",
   "metadata": {},
   "source": [
    "So far, we have a trained random forest classifier which can classify new sequences into the top 6 most frequent classes and an unknown class if it is not sure."
   ]
  },
  {
   "cell_type": "code",
   "execution_count": 615,
   "id": "e8e476fa",
   "metadata": {},
   "outputs": [
    {
     "data": {
      "text/plain": [
       "['capsule polysaccharide', 'galactan', 'algal glycans', 'O-antigen', 'pectin']"
      ]
     },
     "execution_count": 615,
     "metadata": {},
     "output_type": "execute_result"
    }
   ],
   "source": [
    "top_k"
   ]
  },
  {
   "cell_type": "markdown",
   "id": "eda5ddc9",
   "metadata": {},
   "source": [
    "### K Nearest Neighbors"
   ]
  },
  {
   "cell_type": "code",
   "execution_count": 509,
   "id": "a8d664f3",
   "metadata": {},
   "outputs": [],
   "source": [
    "from sklearn.neighbors import KNeighborsClassifier"
   ]
  },
  {
   "cell_type": "code",
   "execution_count": 510,
   "id": "2ca6a689",
   "metadata": {},
   "outputs": [],
   "source": [
    "# generic function that takes in the data and number of classes\n",
    "def model_by_classes(num_classes, data, both = True, split_on_bar = False): \n",
    "    # get the frequency counts\n",
    "    all_classes = list(data.high_level_substr.value_counts().keys())\n",
    "    # remove multiple substrates\n",
    "    all_classes = [classes for classes in all_classes if classes not in [\"multiple_substrates\"]]\n",
    "    # suppose using the top 2\n",
    "    keep_these_many = num_classes\n",
    "    # top_k_classes\n",
    "    top_k = all_classes[:keep_these_many]\n",
    "    # not top two\n",
    "    not_top_k = [target for target in all_classes if target not in top_k]\n",
    "    # get the data for the top k classes\n",
    "    top_k_data = data[data.high_level_substr.isin(top_k)].reset_index(drop = True)\n",
    "    # get the data for the non top_k classes\n",
    "    not_top_k_data = data[data.high_level_substr.isin(not_top_k)].reset_index(drop = True)\n",
    "    # give the same label to all the targets of the not_top_k_data\n",
    "    not_top_k_data[\"high_level_substr\"] = \"other\"\n",
    "    # stack the top k and the not top k data together\n",
    "    all_data = pd.concat([top_k_data, not_top_k_data], ignore_index = True)\n",
    "    \n",
    "    if split_on_bar == False:\n",
    "        # instantiate the vectorizer again\n",
    "        vectorizer = CountVectorizer(tokenizer=lambda x: str(x).split(','), lowercase = False)\n",
    "    \n",
    "    else: \n",
    "        vectorizer = CountVectorizer(tokenizer=lambda x: str(x).replace(\"|\", \",\").split(','), lowercase = False)\n",
    "    \n",
    "    # pipeline\n",
    "    clf = Pipeline([('countvectorizer',vectorizer),('nn',KNeighborsClassifier(n_jobs = 6))])\n",
    "    # Parameters of pipelines can be set using ‘__’ separated parameter names:\n",
    "    param_grid = {\n",
    "    'countvectorizer__min_df': [1,2],\n",
    "    'nn__n_neighbors': [5, 10, 15], \n",
    "    'nn__weights': [\"uniform\", \"distance\"]\n",
    "    }\n",
    "    # fit the search\n",
    "    search = GridSearchCV(clf, param_grid, n_jobs=7 , verbose = 3, cv = 5, scoring = \"accuracy\")\n",
    "    \n",
    "    # if both gene seq and category seq\n",
    "    \n",
    "    if both == True: \n",
    "        # fit the grid search\n",
    "        search.fit(all_data[\"sig_gene_seq\"] + \",\" + all_data[\"category_sequence\"], all_data[\"high_level_substr\"])\n",
    "    else: \n",
    "        search.fit(all_data[\"sig_gene_seq\"], all_data[\"high_level_substr\"])\n",
    "    # best score\n",
    "    best_score = search.best_score_\n",
    "    # std error\n",
    "    std_accuracy = search.cv_results_['std_test_score'][np.argmax(search.cv_results_['mean_test_score'])]\n",
    "    return num_classes, best_score, std_accuracy, search.best_estimator_, top_k, not_top_k"
   ]
  },
  {
   "cell_type": "code",
   "execution_count": 511,
   "id": "1097e9a5",
   "metadata": {},
   "outputs": [],
   "source": [
    "data_train = pd.concat([pd.DataFrame(X_train.values), pd.DataFrame(y_train.values)], ignore_index = True, axis = 1)"
   ]
  },
  {
   "cell_type": "code",
   "execution_count": 512,
   "id": "3b4f1ae5",
   "metadata": {},
   "outputs": [],
   "source": [
    "data_train.columns = [\"sig_gene_seq\", \"high_level_substr\"]"
   ]
  },
  {
   "cell_type": "code",
   "execution_count": 513,
   "id": "ff9ed974",
   "metadata": {},
   "outputs": [
    {
     "name": "stdout",
     "output_type": "stream",
     "text": [
      "Fitting 5 folds for each of 12 candidates, totalling 60 fits\n"
     ]
    }
   ],
   "source": [
    "# use the function with 6 classes and only train data\n",
    "num_classes, best_score, std_accuracy, best_estimator_, top_k, not_top_k = model_by_classes(6, data_train, False, True)"
   ]
  },
  {
   "cell_type": "code",
   "execution_count": 514,
   "id": "a55f20c9",
   "metadata": {},
   "outputs": [
    {
     "data": {
      "text/plain": [
       "(0.695928080380751, 0.026390750702335652)"
      ]
     },
     "execution_count": 514,
     "metadata": {},
     "output_type": "execute_result"
    }
   ],
   "source": [
    "# best score and std error\n",
    "best_score, std_accuracy"
   ]
  },
  {
   "cell_type": "code",
   "execution_count": 515,
   "id": "01a80cdd",
   "metadata": {},
   "outputs": [
    {
     "data": {
      "text/plain": [
       "Pipeline(steps=[('countvectorizer',\n",
       "                 CountVectorizer(lowercase=False, min_df=2,\n",
       "                                 tokenizer=<function model_by_classes.<locals>.<lambda> at 0x000001633C243AF0>)),\n",
       "                ('nn',\n",
       "                 KNeighborsClassifier(n_jobs=6, n_neighbors=10,\n",
       "                                      weights='distance'))])"
      ]
     },
     "execution_count": 515,
     "metadata": {},
     "output_type": "execute_result"
    }
   ],
   "source": [
    "best_estimator_"
   ]
  },
  {
   "cell_type": "markdown",
   "id": "21b2750f",
   "metadata": {},
   "source": [
    "### Will SMOTE help?"
   ]
  },
  {
   "cell_type": "code",
   "execution_count": 263,
   "id": "e65ee5d1",
   "metadata": {},
   "outputs": [],
   "source": [
    "from imblearn.over_sampling import SMOTE "
   ]
  },
  {
   "cell_type": "code",
   "execution_count": 264,
   "id": "de8a879a",
   "metadata": {},
   "outputs": [],
   "source": [
    "sm = SMOTE(random_state=42)"
   ]
  },
  {
   "cell_type": "code",
   "execution_count": 265,
   "id": "b04a7ce7",
   "metadata": {},
   "outputs": [],
   "source": [
    "vectorizer = CountVectorizer(tokenizer=lambda x: str(x).split(','), lowercase = False)"
   ]
  },
  {
   "cell_type": "code",
   "execution_count": 270,
   "id": "7dbe71ca",
   "metadata": {},
   "outputs": [
    {
     "data": {
      "text/plain": [
       "CountVectorizer(lowercase=False,\n",
       "                tokenizer=<function <lambda> at 0x0000029D16194820>)"
      ]
     },
     "execution_count": 270,
     "metadata": {},
     "output_type": "execute_result"
    }
   ],
   "source": [
    "vectorizer.fit(data_train[\"sig_gene_seq\"])"
   ]
  },
  {
   "cell_type": "code",
   "execution_count": 271,
   "id": "13b966ad",
   "metadata": {},
   "outputs": [
    {
     "data": {
      "text/plain": [
       "{'HTH_psq': 359,\n",
       " 'GH5_2': 278,\n",
       " '3.A.3': 40,\n",
       " 'HMA': 344,\n",
       " 'Aminotran_1_2': 79,\n",
       " 'HTH_3': 352,\n",
       " 'Trans_reg_C': 426,\n",
       " 'HisKA|HATPase_c': 361,\n",
       " 'MerR': 367,\n",
       " 'Sigma70_r4_2': 420,\n",
       " 'HTH_AraC': 356,\n",
       " '8.A.59': 56,\n",
       " '3.A.1': 37,\n",
       " 'GH67': 293,\n",
       " 'GH10': 133,\n",
       " 'GH43_12': 242,\n",
       " 'GH31': 226,\n",
       " '1.B.14': 4,\n",
       " 'GH19': 207,\n",
       " '8.A.46': 53,\n",
       " 'GH20': 209,\n",
       " '2.A.66': 32,\n",
       " 'GT4': 329,\n",
       " 'AraC_binding': 80,\n",
       " 'GT4|GT4': 331,\n",
       " 'GH16': 188,\n",
       " 'HTH_18': 347,\n",
       " 'GntR': 339,\n",
       " '2.A.1': 16,\n",
       " 'GT2': 323,\n",
       " 'GH166': 190,\n",
       " '2.A.21': 23,\n",
       " 'GH130': 151,\n",
       " 'GH26': 210,\n",
       " 'GH2': 208,\n",
       " 'GH3': 219,\n",
       " 'HisKA': 360,\n",
       " 'Sigma70_r4_2|Sigma70_r2': 421,\n",
       " 'GH28': 214,\n",
       " '8.A.9': 57,\n",
       " 'GH97': 311,\n",
       " 'GH13_18': 161,\n",
       " 'LacI': 363,\n",
       " '9.B.67': 72,\n",
       " 'GH36': 232,\n",
       " 'HTH_11': 346,\n",
       " 'GH13_19': 162,\n",
       " 'GH13_38': 170,\n",
       " 'GH13': 150,\n",
       " 'GH65': 291,\n",
       " '2.A.2': 22,\n",
       " 'GH1': 132,\n",
       " '2.A.123': 20,\n",
       " 'Mga|HTH_11': 368,\n",
       " '4.A.3': 46,\n",
       " 'GH53': 273,\n",
       " 'GH13_31': 168,\n",
       " 'GH4': 236,\n",
       " '8.A.3': 52,\n",
       " '1.B.18': 5,\n",
       " '9.B.18': 64,\n",
       " 'PfkB': 407,\n",
       " 'PL7': 399,\n",
       " 'PL17_2|PL17': 385,\n",
       " 'PL7_5': 400,\n",
       " 'SKI': 417,\n",
       " 'PL6|PL6_1': 398,\n",
       " 'PL11_1': 377,\n",
       " 'GH43_7': 265,\n",
       " 'GT0': 318,\n",
       " 'GH112': 142,\n",
       " 'GH43_10': 239,\n",
       " 'GH29': 215,\n",
       " 'GT35': 327,\n",
       " 'GT5': 332,\n",
       " 'GH13_9': 173,\n",
       " 'CBM48|GH13_11': 91,\n",
       " 'CBM48|GH13_9': 92,\n",
       " 'GH35': 231,\n",
       " 'SIS': 415,\n",
       " 'PIG-L': 373,\n",
       " 'GH18': 202,\n",
       " '4.D.1': 49,\n",
       " 'GT32': 326,\n",
       " 'GH43_19': 248,\n",
       " 'GH43_9|GH43_19': 267,\n",
       " 'GH51': 270,\n",
       " 'PL12_1': 380,\n",
       " '4.A.6': 47,\n",
       " 'GH88': 302,\n",
       " 'TrmB': 427,\n",
       " 'PL8': 401,\n",
       " 'GH31|CBM20': 227,\n",
       " 'GH31|CBM35': 228,\n",
       " 'GH115': 143,\n",
       " 'GH30_8': 224,\n",
       " 'GH43_5': 264,\n",
       " 'SBP_bac_1': 414,\n",
       " 'GH43_4': 263,\n",
       " 'GH127': 147,\n",
       " 'CE4': 116,\n",
       " 'GH52': 272,\n",
       " 'GH39': 235,\n",
       " '9.B.28': 67,\n",
       " 'AAA': 77,\n",
       " 'GH43_11': 241,\n",
       " 'GH32': 229,\n",
       " 'GerE': 336,\n",
       " 'FecR': 129,\n",
       " 'GH0': 131,\n",
       " 'GH92': 306,\n",
       " 'GH13_2': 163,\n",
       " 'PL12_3': 382,\n",
       " 'GH146': 182,\n",
       " 'NUDIX': 370,\n",
       " 'GH43_29': 258,\n",
       " 'GH77': 297,\n",
       " 'MarR': 366,\n",
       " 'GH43_24': 253,\n",
       " 'GH30_5': 223,\n",
       " '2.A.3': 25,\n",
       " 'GH43_22|GH43_34': 252,\n",
       " 'GH43_22|GH43_26': 251,\n",
       " 'GH43_27': 257,\n",
       " 'GH43_22': 250,\n",
       " 'GH13_10': 157,\n",
       " 'GH33': 230,\n",
       " 'GH30_3': 221,\n",
       " 'GH5_7': 285,\n",
       " 'GH27': 212,\n",
       " 'GH43_34': 261,\n",
       " 'GH154': 186,\n",
       " 'GH16|GH43_24': 200,\n",
       " 'GH145': 181,\n",
       " 'GH105': 134,\n",
       " 'HTH_8': 355,\n",
       " 'GH117|GH117': 145,\n",
       " 'GH50': 269,\n",
       " 'GH105|GH154': 135,\n",
       " 'GH86': 301,\n",
       " 'GH42': 237,\n",
       " 'GH53|CBM61': 274,\n",
       " 'CBM70|PL8_1': 105,\n",
       " 'GT25': 324,\n",
       " 'PL11': 376,\n",
       " 'Sigma70_r2|Sigma70_r4_2': 419,\n",
       " 'GH13_14': 160,\n",
       " 'GH94': 307,\n",
       " 'GH9': 304,\n",
       " 'HisKA|Response_reg|dCache_1|HATPase_c|PAS': 362,\n",
       " '2.A.35': 26,\n",
       " 'TPR_2': 423,\n",
       " '2.A.7': 34,\n",
       " '2.A.107': 17,\n",
       " '4.D.2': 50,\n",
       " 'GH158': 187,\n",
       " 'CE9': 122,\n",
       " 'CE8': 120,\n",
       " 'CE12|CE8': 111,\n",
       " 'PL1_2': 386,\n",
       " '9.B.116': 60,\n",
       " 'LytTR': 365,\n",
       " 'GH13_13|CBM41|CBM41': 159,\n",
       " 'GH13_2|CBM20': 167,\n",
       " 'CBM34|GH13_20': 87,\n",
       " 'PL15_2': 384,\n",
       " 'PL12_2': 381,\n",
       " 'SIS|HTH_6': 416,\n",
       " 'HTH_18|Response_reg|HTH_AraC': 351,\n",
       " 'GT46': 330,\n",
       " '-': 0,\n",
       " 'TPR_2|TPR_1': 424,\n",
       " 'Peptidase_M23': 406,\n",
       " 'GH43_26': 255,\n",
       " 'ATPase_2': 78,\n",
       " 'GH76': 296,\n",
       " '3.A.9': 42,\n",
       " 'GH43_17': 244,\n",
       " 'PALP': 372,\n",
       " '4.A.1': 45,\n",
       " 'CBM32|PL7_5': 86,\n",
       " 'PL6_3': 397,\n",
       " 'Pyr_redox_2': 410,\n",
       " '1.A.8': 1,\n",
       " 'PL11|CBM3': 378,\n",
       " 'CBM66|PL3_1': 98,\n",
       " 'CBM66|PL9_1': 99,\n",
       " 'GH10|CBM3|CBM3|GH48': 138,\n",
       " 'GH5_8|CBM3|CBM3|GH44': 287,\n",
       " 'GH74|GH74|GH74|GH74|CBM3|CBM3|GH48': 295,\n",
       " 'GT39': 328,\n",
       " 'GH9|CBM3|CBM3|CBM3|GH5_8': 317,\n",
       " 'GH5_8|CBM3|CBM3|CBM3|GH5_1': 286,\n",
       " 'GH9|CBM3|CBM3|CBM3|GH48': 316,\n",
       " 'GH13_20': 164,\n",
       " 'PL5_1': 394,\n",
       " 'GT11': 321,\n",
       " 'HTH_5': 353,\n",
       " '2.A.28': 24,\n",
       " 'GH11': 140,\n",
       " 'GH43_1': 238,\n",
       " 'GH43_29|CBM6': 259,\n",
       " 'GH5_21': 279,\n",
       " 'CE6|CE1': 118,\n",
       " 'HTH_18|HisKA|HATPase_c|Y_Y_Y|Reg_prop|Response_reg': 349,\n",
       " 'GH95': 308,\n",
       " 'TetR_N': 425,\n",
       " '9.B.97': 73,\n",
       " 'PL33_1': 392,\n",
       " '9.B.33': 69,\n",
       " 'CE2': 115,\n",
       " '9.B.207': 66,\n",
       " 'GH91': 305,\n",
       " 'Nitroreductase': 371,\n",
       " 'GH43_26|CBM13': 256,\n",
       " '8.A.49': 54,\n",
       " '3.A.12': 38,\n",
       " 'GH44': 268,\n",
       " '1.C.39': 13,\n",
       " 'HATPase_c': 341,\n",
       " '9.B.174': 63,\n",
       " 'GH5_4': 282,\n",
       " 'CBM67|GH78': 100,\n",
       " '2.A.4': 28,\n",
       " '2.A.14': 21,\n",
       " 'GH163': 189,\n",
       " 'Fer4': 130,\n",
       " 'GH13_23': 165,\n",
       " 'AsnC_trans_reg': 81,\n",
       " '2.A.88': 35,\n",
       " '9.B.146': 62,\n",
       " '9.B.183': 65,\n",
       " 'GT10': 319,\n",
       " 'CBM4|GH9': 93,\n",
       " 'GH5_17': 277,\n",
       " 'CBM4': 89,\n",
       " '2.A.69': 33,\n",
       " 'ComK': 125,\n",
       " 'CbiA': 124,\n",
       " '4.C.1': 48,\n",
       " 'AA10|CBM5': 75,\n",
       " 'GH18|CBM5': 203,\n",
       " 'HTH_18|AraC_binding': 348,\n",
       " 'GT94': 335,\n",
       " '1.E.2': 15,\n",
       " 'HTH_1': 345,\n",
       " 'AA10': 74,\n",
       " 'GH13|CBM26': 174,\n",
       " 'GH30_1': 220,\n",
       " 'GH89': 303,\n",
       " 'DUF24': 126,\n",
       " '4.D.3': 51,\n",
       " 'LacI|Peripla_BP_1|Peripla_BP_3': 364,\n",
       " 'GH140': 175,\n",
       " 'CE1': 108,\n",
       " '3.D.2': 44,\n",
       " 'CBM5': 94,\n",
       " 'CBM5|GH18': 96,\n",
       " 'GH141': 176,\n",
       " 'GH16_11': 192,\n",
       " 'GH117': 144,\n",
       " 'GH16_14': 193,\n",
       " 'PL10_1': 375,\n",
       " 'Glucokinase': 337,\n",
       " 'CE7': 119,\n",
       " 'GH147': 184,\n",
       " 'GH144': 180,\n",
       " 'GH8': 299,\n",
       " '1.B.55': 9,\n",
       " 'GH30_4': 222,\n",
       " 'GH129': 149,\n",
       " 'GH136': 152,\n",
       " 'GH38': 233,\n",
       " 'GH43_8': 266,\n",
       " 'GH110': 141,\n",
       " 'CE15': 112,\n",
       " 'GH142': 177,\n",
       " 'GH143': 178,\n",
       " 'GH43_18': 245,\n",
       " 'GH139': 156,\n",
       " 'GH106': 136,\n",
       " 'GH137': 153,\n",
       " 'GH78': 298,\n",
       " 'GH66': 292,\n",
       " 'PL8_2': 402,\n",
       " 'PL29': 390,\n",
       " 'Response_reg|Reg_prop|HTH_18|HisKA|Y_Y_Y|HATPase_c': 413,\n",
       " '2.A.6': 31,\n",
       " 'CBM27|GH26|CBM23': 84,\n",
       " 'HATPase_c|Response_reg|HisKA': 342,\n",
       " 'GH125': 146,\n",
       " 'GH5_13': 276,\n",
       " '1.B.52': 8,\n",
       " 'Pyr_redox': 409,\n",
       " '2.A.56': 30,\n",
       " 'CE12': 109,\n",
       " '2.A.119': 19,\n",
       " 'GH18|GH18': 206,\n",
       " 'GH18|CBM6': 205,\n",
       " 'GH16|CBM6': 199,\n",
       " 'GH5_5': 284,\n",
       " 'CE1|CE1': 114,\n",
       " 'GH51|GH43_19': 271,\n",
       " 'GH128': 148,\n",
       " '1.E.19': 14,\n",
       " '9.B.105': 59,\n",
       " '9.B.30': 68,\n",
       " 'GT70': 333,\n",
       " 'GT26': 325,\n",
       " 'Pkinase': 408,\n",
       " 'CBM82|CBM83|GH13_41': 106,\n",
       " 'CBM67|GH78|GH33': 101,\n",
       " 'Y_Y_Y': 428,\n",
       " 'CBM6|CBM6': 102,\n",
       " 'CBM22|CBM22|GH10|CBM9|CBM9': 83,\n",
       " '3.A.2': 39,\n",
       " '2.A.38': 27,\n",
       " '9.B.42': 71,\n",
       " '1.B.66': 10,\n",
       " 'PL5|PL7': 395,\n",
       " 'PL15_1': 383,\n",
       " '9.A.25': 58,\n",
       " 'GH43_16|CBM6': 243,\n",
       " 'GH10|CBM6': 139,\n",
       " 'CE1|CBM6': 113,\n",
       " 'GH43_10|CBM6': 240,\n",
       " 'GH62|CBM6': 288,\n",
       " 'GH146|CBM22': 183,\n",
       " 'GH27|CBM6': 213,\n",
       " 'GH59|CBM6': 275,\n",
       " 'GH2|CBM6': 218,\n",
       " 'GH62|CBM6|CE6': 289,\n",
       " 'GH95|CBM32|CBM6': 309,\n",
       " 'GH30_8|CBM6': 225,\n",
       " 'AA10|CBM5|CBM5': 76,\n",
       " 'GH18|CBM5|CBM5': 204,\n",
       " 'GH26|GH26': 211,\n",
       " 'GH16|CBM16': 197,\n",
       " 'GH13_36': 169,\n",
       " 'GH13_7': 172,\n",
       " '1.B.3': 6,\n",
       " 'GH13_4': 171,\n",
       " 'GT14': 322,\n",
       " 'GT8': 334,\n",
       " 'GH43_24|GH16': 254,\n",
       " 'HTH_AraC|HTH_11': 357,\n",
       " 'GH43_31': 260,\n",
       " 'GH29|CBM32|CBM32': 216,\n",
       " 'GH9|CBM3|CBM3': 315,\n",
       " 'GH9|CBM3': 314,\n",
       " 'GH98|CBM47|CBM47|CBM47': 312,\n",
       " 'HTH_DeoR': 358,\n",
       " '3.A.7': 41,\n",
       " 'PL12': 379,\n",
       " 'GH137|GH2|CBM57': 154,\n",
       " 'GH138': 155,\n",
       " 'GH143|GH142': 179,\n",
       " 'GH43_35': 262,\n",
       " 'GH5_38': 281,\n",
       " '2.A.50': 29,\n",
       " '1.B.13': 3,\n",
       " '1.B.1': 2,\n",
       " '9.B.34': 70,\n",
       " 'GH17': 201,\n",
       " 'GH149': 185,\n",
       " 'CE0': 107,\n",
       " 'GH13_29': 166,\n",
       " 'CE8|PL1_5': 121,\n",
       " 'CBM40|GH33': 90,\n",
       " 'GH84': 300,\n",
       " '2.A.115': 18,\n",
       " 'GH109': 137,\n",
       " '1.B.35': 7,\n",
       " 'HTH_18|Response_reg': 350,\n",
       " 'GntR|Peripla_BP_3': 340,\n",
       " 'CBM2|GH18': 85,\n",
       " 'GT101': 320,\n",
       " 'PL6': 396,\n",
       " '3.D.1': 43,\n",
       " 'GH96': 310,\n",
       " 'BLUF': 82,\n",
       " 'Response_reg': 411,\n",
       " 'GH38|CBM32': 234,\n",
       " 'PL1_5|PL1_5': 387,\n",
       " 'Response_reg|HTH_18': 412,\n",
       " 'GH68': 294,\n",
       " 'CBM6|GH86|GH86': 104,\n",
       " 'PL38|GH88': 393,\n",
       " 'GH2|CBM57': 217,\n",
       " 'PL2_2': 391,\n",
       " 'GH16|CBM16|CBM16': 198,\n",
       " '1.C.105': 11,\n",
       " 'PL1_6': 388,\n",
       " 'TPR_1': 422,\n",
       " 'GH5_42': 283,\n",
       " 'HTH_6': 354,\n",
       " '8.A.5': 55,\n",
       " 'GH16_16|CBM6|CBM6': 195,\n",
       " 'CBM6': 97,\n",
       " 'GH16_16|CBM13': 194,\n",
       " '2.A.98': 36,\n",
       " 'Sigma70_r2|Sigma70_r4': 418,\n",
       " 'GH16_3': 196,\n",
       " 'HATPase_c|SBP_bac_3': 343,\n",
       " 'GH167': 191,\n",
       " 'CBM6|CBM6|GH86|GH86': 103,\n",
       " 'PadR': 405,\n",
       " 'CBM51|CBM51|GH98': 95,\n",
       " 'GH43_18|GH43_34|CBM32': 247,\n",
       " 'PL26': 389,\n",
       " 'CE12|CE12': 110,\n",
       " 'GH43_19|GH43_34': 249,\n",
       " 'GH43_18|GH42': 246,\n",
       " 'CBM35': 88,\n",
       " 'PL9': 403,\n",
       " 'CE6': 117,\n",
       " 'PL9_1': 404,\n",
       " 'Fe_dep_repress': 128,\n",
       " 'GH99': 313,\n",
       " '9.B.14': 61,\n",
       " 'Mga|HTH_Mga|PRD_Mga': 369,\n",
       " 'Glyoxalase': 338,\n",
       " 'GH13_11': 158,\n",
       " 'GH5_36': 280,\n",
       " '1.C.113': 12,\n",
       " 'GH63': 290,\n",
       " 'PL1': 374,\n",
       " 'CHASE2': 123,\n",
       " 'DeoRC': 127}"
      ]
     },
     "execution_count": 271,
     "metadata": {},
     "output_type": "execute_result"
    }
   ],
   "source": [
    "vectorizer.vocabulary_"
   ]
  },
  {
   "cell_type": "code",
   "execution_count": 272,
   "id": "4cbe9f0d",
   "metadata": {},
   "outputs": [],
   "source": [
    "X_train_seq = vectorizer.transform(data_train[\"sig_gene_seq\"])"
   ]
  },
  {
   "cell_type": "code",
   "execution_count": 273,
   "id": "6424920b",
   "metadata": {},
   "outputs": [],
   "source": [
    "X_test_seq = vectorizer.transform(data_test[\"sig_gene_seq\"])"
   ]
  },
  {
   "cell_type": "code",
   "execution_count": 277,
   "id": "978305a6",
   "metadata": {},
   "outputs": [],
   "source": [
    "X_res, y_res = sm.fit_resample(X_train_seq, targets_train)"
   ]
  },
  {
   "cell_type": "code",
   "execution_count": 278,
   "id": "6daa34a7",
   "metadata": {},
   "outputs": [
    {
     "data": {
      "text/plain": [
       "Counter({4: 146, 5: 146, 0: 146, 1: 146, 3: 146, 6: 146, 2: 146})"
      ]
     },
     "execution_count": 278,
     "metadata": {},
     "output_type": "execute_result"
    }
   ],
   "source": [
    "Counter(y_res)"
   ]
  },
  {
   "cell_type": "code",
   "execution_count": 279,
   "id": "7b59e790",
   "metadata": {},
   "outputs": [
    {
     "data": {
      "text/plain": [
       "1022"
      ]
     },
     "execution_count": 279,
     "metadata": {},
     "output_type": "execute_result"
    }
   ],
   "source": [
    "len(y_res)"
   ]
  },
  {
   "cell_type": "code",
   "execution_count": 280,
   "id": "f1ff70d7",
   "metadata": {},
   "outputs": [],
   "source": [
    "rf = RandomForestClassifier(n_jobs = 6)"
   ]
  },
  {
   "cell_type": "code",
   "execution_count": 281,
   "id": "5d612122",
   "metadata": {},
   "outputs": [
    {
     "data": {
      "text/plain": [
       "RandomForestClassifier(n_jobs=6)"
      ]
     },
     "execution_count": 281,
     "metadata": {},
     "output_type": "execute_result"
    }
   ],
   "source": [
    "rf.fit(X_res, y_res)"
   ]
  },
  {
   "cell_type": "code",
   "execution_count": 282,
   "id": "a1bae80e",
   "metadata": {},
   "outputs": [],
   "source": [
    "y_test_preds = rf.predict(X_test_seq)"
   ]
  },
  {
   "cell_type": "code",
   "execution_count": 285,
   "id": "c3a5015a",
   "metadata": {},
   "outputs": [
    {
     "data": {
      "text/plain": [
       "0.5229007633587787"
      ]
     },
     "execution_count": 285,
     "metadata": {},
     "output_type": "execute_result"
    }
   ],
   "source": [
    "np.mean(targets_test == y_test_preds)"
   ]
  },
  {
   "cell_type": "markdown",
   "id": "2d6bf0f7",
   "metadata": {},
   "source": [
    "### Recurrent Neural Network"
   ]
  },
  {
   "cell_type": "code",
   "execution_count": 296,
   "id": "8ec2421a",
   "metadata": {},
   "outputs": [
    {
     "data": {
      "text/plain": [
       "array(['HTH_psq,GH5_2,3.A.3,HMA,Aminotran_1_2,HTH_3,Trans_reg_C,HisKA|HATPase_c,MerR,Sigma70_r4_2,HTH_3,HTH_3,HTH_3',\n",
       "       'HTH_AraC,8.A.59,3.A.1,3.A.1,3.A.1,GH67,GH10,GH43_12',\n",
       "       'GH31,1.B.14,GH19', '8.A.46,1.B.14,GH20,GH20',\n",
       "       '2.A.66,GT4,AraC_binding,3.A.1,GT4|GT4',\n",
       "       'GH16,HTH_18,1.B.14,GntR,GntR,2.A.1,GH16', '2.A.66,GT2,GT2',\n",
       "       'GH166,GT4,2.A.66', 'HTH_AraC,2.A.21,GH130,1.B.14,GH26,GH2,GH3',\n",
       "       'Trans_reg_C,HisKA,3.A.1,GH2,2.A.21,Sigma70_r4_2|Sigma70_r2',\n",
       "       'GH28,2.A.1', '8.A.9,8.A.46,1.B.14,GH97,8.A.9',\n",
       "       '2.A.1,GH13_18,LacI',\n",
       "       '9.B.67,GH13_18,3.A.1,3.A.1,3.A.1,GH36,HTH_AraC,HTH_11',\n",
       "       'GH97,GH13_19,GH13_38,GH31,GH13,GH65,2.A.2,LacI,1.B.14,8.A.46',\n",
       "       'GH1,2.A.123,Mga|HTH_11,4.A.3,4.A.3',\n",
       "       'GH2,GH53,8.A.46,1.B.14,HTH_AraC',\n",
       "       'GH13_18,GH13_31,GH36,3.A.1,3.A.1,3.A.1,GH4,3.A.1,3.A.1,LacI',\n",
       "       '8.A.3,1.B.18,GT2,GT2,9.B.18',\n",
       "       'PfkB,2.A.1,GntR,PL7,1.B.14,AraC_binding,PL17_2|PL17',\n",
       "       'LacI,PL7_5,1.B.14,SKI,PL6|PL6_1',\n",
       "       '2.A.66,Aminotran_1_2,GT2,GT4,9.B.18',\n",
       "       '1.B.14,1.B.14,PL11_1,GH3,GH43_7,PL11_1,GH2',\n",
       "       '9.B.18,Aminotran_1_2,GT0,2.A.66,GT2', 'GH112,3.A.1,3.A.1,3.A.1',\n",
       "       'GH43_10,GH97,GH29,HTH_AraC', 'GT35,GT5,GH13_9', 'GT2',\n",
       "       'GT35,GT5,CBM48|GH13_11,CBM48|GH13_9',\n",
       "       'GH35,SIS,3.A.1,3.A.1,3.A.1,3.A.1,3.A.1,GH1,PIG-L,GH18',\n",
       "       '2.A.66,4.D.1,GT2,GT32,9.B.18', 'GH35,GH43_19,GH43_9|GH43_19,GH51',\n",
       "       'PL12_1,4.A.6,4.A.6,4.A.6,GH88,TrmB,PfkB,PL8',\n",
       "       'GH31|CBM20,GH31|CBM35',\n",
       "       'HTH_AraC,GH115,1.B.14,1.B.14,GH10,GH30_8',\n",
       "       '3.A.1,8.A.59,HTH_AraC,3.A.1,3.A.1,3.A.1,GntR,GH43_5,SBP_bac_1,3.A.1,3.A.1,GH43_4,GH51,GH51,GH127,8.A.59,HTH_AraC,SBP_bac_1,3.A.1,3.A.1,CE4,GH52,GH10,3.A.1,3.A.1,GH67,GH39,PfkB,GntR,9.B.28,AAA,GH43_11',\n",
       "       'PfkB,PfkB,1.B.14,GH35', 'PfkB,GH32,3.A.1,LacI',\n",
       "       'GerE,FecR,1.B.14,8.A.46,GH18', '8.A.46,1.B.14,GH0,GH92,GH92,FecR',\n",
       "       'LacI,GH13_2,2.A.2,GH97,1.B.14,8.A.9',\n",
       "       '9.B.18,9.B.18,PL12_3,8.A.3,1.B.18',\n",
       "       'GH51,GH146,NUDIX,2.A.21,GH43_4,1.B.14,1.B.14,HTH_AraC,GH43_4,GH51,GH43_29',\n",
       "       'SIS,GT4,9.B.18', '8.A.9,GH77,9.B.28,3.A.1,3.A.1,LacI,3.A.1,8.A.9',\n",
       "       'GH2',\n",
       "       '3.A.1,3.A.1,MarR,GH43_24,GH30_5,2.A.3,3.A.1,HTH_11,2.A.3,GH146,GH43_22|GH43_34,GH43_22|GH43_26,GH43_27,GH43_22,GH43_22,9.B.28,3.A.1,3.A.1,LacI,3.A.1',\n",
       "       'GH13_10,8.A.46,1.B.14,GH97,GH13', 'GT4,GT4,4.D.1',\n",
       "       'GH33,GH20,GH2,GH20,GH20,GH2', '1.B.14,GH30_3,GH3',\n",
       "       'GH130,GH5_7,GH27', 'CBM48|GH13_9,GT5,GT35',\n",
       "       'GH127,GH43_34,GH154,HTH_AraC,1.B.14,GH16|GH43_24,GH43_24,GH145,GH105',\n",
       "       'HTH_8,GH16,GH117|GH117,GH2,GH2,2.A.1,GH50,GH105|GH154,GH16,GH86,GH86,1.B.14,HTH_AraC,GH29,GH16,1.B.14,GH2',\n",
       "       '3.A.1,3.A.1,3.A.1,GH42,LacI,GH53|CBM61',\n",
       "       'CBM70|PL8_1,PfkB,4.A.6,GH88,4.A.6,4.A.6,4.A.6,PL12_1',\n",
       "       'GH42,3.A.1,3.A.1', '9.B.18,GT2,GT2,GT2,GT25,2.A.66',\n",
       "       'LacI,GH36,2.A.1', '8.A.3,1.B.18,GT2,9.B.18',\n",
       "       'GH2,PL11,GH28,GH117|GH117,HTH_AraC,1.B.14,8.A.46,PL11,GH28,GH105,1.B.14,1.B.14,GH28',\n",
       "       '8.A.46,1.B.14,Sigma70_r2|Sigma70_r4_2,GH67,2.A.2,GH13_14',\n",
       "       'GH94,GH20,GH9,3.A.1,3.A.1,3.A.1,3.A.1,3.A.1,HisKA|Response_reg|dCache_1|HATPase_c|PAS',\n",
       "       'Aminotran_1_2,GerE,2.A.35,2.A.1,HTH_AraC,TPR_2,2.A.7,2.A.107,4.D.2,GerE,1.B.14,GH16,GH158,GH3',\n",
       "       '1.B.14,8.A.46,GH33,GH20,GH2,GH20,GH20,GH92,GH2,CE9,3.A.1,HTH_AraC,GH29,GH97',\n",
       "       'GT2',\n",
       "       'GH105,CE8,CE12|CE8,HTH_AraC,1.B.14,PL1_2,PL1_2,9.B.116,LytTR,PL1_2,1.B.14,GH28,HTH_AraC',\n",
       "       'GH13_13|CBM41|CBM41,3.A.1,GT5,NUDIX,GT5,GH77,PfkB,GH13_13|CBM41|CBM41,GH13_2|CBM20',\n",
       "       '3.A.1,3.A.1,3.A.1,CBM34|GH13_20', 'GH43_11,2.A.2,HTH_AraC',\n",
       "       'PL15_2,2.A.1,PL12_2,GH88,8.A.46,1.B.14,PL12_2,HTH_AraC',\n",
       "       'GH1,SIS|HTH_6,3.A.1,8.A.59,HTH_18|Response_reg|HTH_AraC,3.A.1,3.A.1,3.A.1',\n",
       "       'GT2', 'GT46,9.B.18,9.B.18', '8.A.3,1.B.18,GT2,9.B.18',\n",
       "       'TPR_2|TPR_1,Peptidase_M23,HTH_AraC,GH43_26,1.B.14,1.B.14,ATPase_2,1.B.14,GH76,1.B.14',\n",
       "       'GH94,3.A.1,3.A.1,SBP_bac_1,HTH_AraC,8.A.59,SBP_bac_1,3.A.9',\n",
       "       'GH43_17,Aminotran_1_2,PALP,GH26,GH16,3.A.1', 'HTH_3,GH32,GerE',\n",
       "       'GH130,GH130,3.A.1,3.A.1,SBP_bac_1,HTH_AraC,8.A.59,GH2',\n",
       "       '4.A.1,GH1',\n",
       "       'PL6|PL6_1,PL17_2|PL17,AraC_binding,2.A.1,PfkB,GntR,CBM32|PL7_5,1.B.14,PL6_3,PL7_5',\n",
       "       '2.A.21,8.A.46,1.B.14,LacI,GH65,GH13_38,Pyr_redox_2,1.A.8',\n",
       "       'PL11|CBM3,CBM66|PL3_1,CBM66|PL9_1,HTH_AraC,GH10|CBM3|CBM3|GH48,GH5_8|CBM3|CBM3|GH44,GH74|GH74|GH74|GH74|CBM3|CBM3|GH48,GT39,GH9|CBM3|CBM3|CBM3|GH5_8,GH5_8|CBM3|CBM3|CBM3|GH5_1,GH9|CBM3|CBM3|CBM3|GH48',\n",
       "       'Aminotran_1_2,GT2,GT4,GT2,1.B.18,8.A.3',\n",
       "       'Aminotran_1_2,2.A.66,GT4', 'GT2',\n",
       "       'GH13_20,8.A.9,3.A.1,3.A.1,3.A.1',\n",
       "       'GH43_4,1.B.14,1.B.14,HTH_AraC,GH43_4,GH51,GH43_29', 'PL5_1',\n",
       "       '9.B.18,GT2,GT2,GT11,GT2,2.A.66',\n",
       "       'HTH_5,3.A.1,3.A.1,3.A.1,3.A.1,GH42,GH36,PfkB',\n",
       "       '2.A.28,PL6|PL6_1,PL17_2|PL17,1.B.14,8.A.46',\n",
       "       '3.A.1,3.A.1,3.A.1,GH36', 'SBP_bac_1,3.A.1,3.A.1,GH42,GH36', 'GH2',\n",
       "       'GH31,GH9,GH26,1.B.14', '1.B.14,GH10,GH115,GH11,2.A.2,GH10,GH43_1',\n",
       "       '4.D.1,2.A.66,GT4,9.B.18',\n",
       "       'GH43_10,GH3,GH43_12,GH31,GH97,GH43_29|CBM6,GH43_12,1.B.14,GH10,GH5_21,CE6|CE1,GH43_29|CBM6,HTH_18|HisKA|HATPase_c|Y_Y_Y|Reg_prop|Response_reg,GH95,GH115',\n",
       "       'TetR_N,4.D.1,CE4,9.B.97',\n",
       "       'GT35,GH77,LacI,3.A.1,3.A.1,3.A.1,3.A.1',\n",
       "       'GH154,GH2,GH20,GH88,PL33_1,1.B.14,HTH_AraC',\n",
       "       'GH42,2.A.2,LacI,GH2', 'LacI,3.A.1,3.A.1,GH32,PfkB',\n",
       "       '2.A.2,GH36,GH2', 'LacI,GH36,2.A.1,GH32',\n",
       "       '9.B.33,3.A.1,HTH_5,GH51', 'GH3,HTH_AraC,GH16,1.B.14,8.A.46,GH3',\n",
       "       'GT4,9.B.18,GT2,GT4',\n",
       "       'CE2,GH3,GH5_7,GH26,GH130,2.A.21,GH26,HTH_AraC,GH5_2,1.B.14,8.A.46,GH27,GH9,GH26',\n",
       "       'PL6|PL6_1,PL7_5,PL6|PL6_1',\n",
       "       'GH20,GntR,SIS,CE9,9.B.207,4.A.6,4.A.6,4.A.6,4.A.6',\n",
       "       'PfkB,2.A.1,GH32,GH91,GH91,1.B.14,GH32',\n",
       "       '4.A.6,4.A.6,4.A.6,GH88,4.A.6,PfkB,Nitroreductase',\n",
       "       '1.B.14,FecR,GerE,GH130,GH43_26|CBM13', '4.A.3,4.A.3,GH1',\n",
       "       'PfkB,1.B.14,GH2',\n",
       "       '3.A.1,8.A.49,3.A.1,3.A.1,AAA,8.A.59,3.A.12,GH44,1.C.39,2.A.21',\n",
       "       'HTH_AraC,8.A.59,3.A.1,3.A.1,3.A.1,GH67,GH10,GH43_12',\n",
       "       '4.A.3,GH1,4.A.3',\n",
       "       'HATPase_c,9.B.174,GH3,GH2,GH31,HTH_AraC,GH9,1.B.14,GH5_4,GH43_12,GH43_12,GH3',\n",
       "       'GH33,MarR,HTH_3,CBM67|GH78,HTH_AraC,2.A.7,2.A.4,GH3,GH115,GH97',\n",
       "       '8.A.46,1.B.14,HTH_AraC,GH97,GH3,GH43_10,GH146,GH115,GH43_12,1.B.14,GH3',\n",
       "       '8.A.3,1.B.18,2.A.66,GT2,GT4,GT2,9.B.18,2.A.14,GntR',\n",
       "       'GH92,GH130,GH163,8.A.46,1.B.14,1.B.14,8.A.46,1.B.14,8.A.46,GH20,FecR,GerE',\n",
       "       'PfkB,GH32,3.A.1,LacI',\n",
       "       '3.A.1,3.A.1,3.A.1,Fer4,GH13_23,GH1,AsnC_trans_reg,2.A.88',\n",
       "       'GerE,1.B.14,8.A.46,GH16,GH16',\n",
       "       '9.B.146,GT2,GT2,9.B.183,GT2,GT11,GT10',\n",
       "       'LacI,SBP_bac_1,3.A.1,3.A.1,GH36,GH39|CBM35',\n",
       "       'PL8,PfkB,GH88,4.A.6,4.A.6,4.A.6,4.A.6,PL12_1', 'GH26,GH130,2.A.2',\n",
       "       'CBM4|GH9,GH9,GH5_17,CBM4|GH9,CBM4,2.A.69',\n",
       "       '1.B.18,ComK,9.B.18,CbiA,GT2,GT2,4.C.1,GT4,GT2',\n",
       "       'GH18,AA10|CBM5,GH18|CBM5',\n",
       "       'LacI,PfkB,PL8,3.A.1,3.A.1,3.A.1,3.A.1,PL8,GH88',\n",
       "       'GT11,GT4,GT2,GT4,CE4,GT4,GT2,9.B.146',\n",
       "       '9.B.67,GH13,3.A.1,3.A.1,3.A.1,HTH_18|AraC_binding',\n",
       "       'LacI,GH13_18,2.A.1', '9.B.18,GT4,GT94,9.B.18,1.B.18',\n",
       "       '1.E.2,1.E.2,GH18,HTH_1,AA10',\n",
       "       'GH13|CBM26,GH97,GH13,8.A.46,1.B.14,FecR,GerE', 'CE9,GntR',\n",
       "       'GH1,4.A.1',\n",
       "       '2.A.66,8.A.3,1.B.18,GT2,GT2,GT4,GT2,9.B.18,2.A.14,GntR',\n",
       "       'GerE,GH1,3.A.1,3.A.1,3.A.1,3.A.1,3.A.1,HTH_AraC',\n",
       "       'GH43_34,GerE,FecR,1.B.14,8.A.46,GH30_1,GH30_3,GH16,1.B.14,FecR,Sigma70_r2|Sigma70_r4_2',\n",
       "       'GT4,9.B.18,GT4,2.A.66', '1.B.14,8.A.46,GH89,DUF24,4.D.3,GH158',\n",
       "       'LacI|Peripla_BP_1|Peripla_BP_3,GH13_31', 'HTH_AraC,GH140,1.B.14',\n",
       "       'GT32,GT2,GT2', '1.B.14,CE1,CE1',\n",
       "       '3.D.2,3.D.2,3.D.2,PfkB,2.A.1,PL6|PL6_1,GntR',\n",
       "       '3.A.1,PIG-L,GH3,3.A.1,3.A.1,SBP_bac_1,HTH_5,CBM5,GH18,CBM5|GH18',\n",
       "       'GH2,GH141,GH105|GH154,1.B.14,GH16_11,GH117,GH16_11,GH16_14,GH29,HTH_AraC',\n",
       "       '1.B.14,CE8,PL10_1', 'Glucokinase,CE9', 'GH36',\n",
       "       'GH5_4,GH26,GH5_4,1.B.14,CE7,GH26,GH130,2.A.2',\n",
       "       'GH53,8.A.46,1.B.14,GH147', 'GH144,GH3,8.A.46,1.B.14',\n",
       "       'GT2,4.D.3,GH8,1.B.55', '2.A.66,GT2',\n",
       "       'GH30_4,1.B.14,HTH_AraC,GH18', '1.B.14,PL7,PL7,GntR',\n",
       "       'GH127,GH127,2.A.1,GH127,GH129,HTH_AraC',\n",
       "       'HTH_AraC,3.A.1,3.A.1,3.A.1,GH136,HTH_AraC,8.A.59',\n",
       "       'GerE,GH38,GH92,GH2,CBM67|GH78,CE1,1.B.14,1.B.14,GH92,GH92,GH130,GH43_8',\n",
       "       'GH94,8.A.49', '4.A.3,GH1', 'GH110,GH110,8.A.46,1.B.14',\n",
       "       '9.B.18,GT4,GT4,9.B.67,GT2,GT4,2.A.66', 'GerE,FecR,1.B.14,GH20',\n",
       "       'GH43_10,GH43_12,GH43_1,1.B.14,LacI,GH3,GH67,GH10,GH115,CE15,2.A.21',\n",
       "       'CBM67|GH78,GH142,GH95,CBM67|GH78,GH143,GH43_18,GH28,GH140,PL1_2,PL1_2,1.B.14,CE8,GH127,PL1_2,GH139,GH106,GH2,GH137,GH78,HTH_AraC',\n",
       "       'HTH_AraC,GH16,1.B.14,8.A.46,GH3', '1.B.14,8.A.46,GH66,GH31,GH97',\n",
       "       '8.A.46,1.B.14,GH33,2.A.1,MarR,HTH_3',\n",
       "       'PL8_2,PL29,8.A.46,1.B.14,Response_reg|Reg_prop|HTH_18|HisKA|Y_Y_Y|HATPase_c,2.A.6,2.A.6,2.A.6,GH2,1.B.14,GH88,PL8_2',\n",
       "       'GH31,GH5_4,GH26,1.B.14', '1.B.14,GH2',\n",
       "       'GH28,GH92,GH92,1.B.14,FecR,GerE', 'CBM27|GH26|CBM23,GH3,GH3',\n",
       "       'HTH_8,HATPase_c|Response_reg|HisKA,GH97,GH67,GH76,1.B.14,HTH_AraC,GH92,GH76,GH125',\n",
       "       'GH127,GH43_26,GH2,GH5_13,1.B.14',\n",
       "       '1.B.52,LacI,3.A.1,3.A.1,3.A.1,GH42',\n",
       "       'SBP_bac_1,3.A.1,3.A.1,GH42,LacI,GH53|CBM61',\n",
       "       'Pyr_redox,GT4,GT2,GT4,GT2',\n",
       "       '2.A.56,2.A.56,2.A.56,LacI,PfkB,CE12,1.B.14,GH105,GH28,CE8',\n",
       "       'GH13_23,CbiA,GH1,2.A.1,2.A.119',\n",
       "       'GH1,2.A.123,Mga|HTH_11,4.A.3,4.A.3',\n",
       "       'GH31,GH31,GH66,8.A.46,1.B.14',\n",
       "       'GH18|GH18,GH18|CBM6,GH16|CBM6,GerE,FecR,1.B.14',\n",
       "       '8.A.9,CBM34|GH13_20,3.A.1,3.A.1,3.A.1',\n",
       "       'SBP_bac_1,3.A.1,3.A.1,GH105,HTH_AraC,CE12,9.B.28,PL11,PL11,CE12,GH42',\n",
       "       'GH5_2,1.B.14,GH5_5,GH2,GH5_5,GH140,GH130,2.A.2,CBM67|GH78',\n",
       "       'GH43_12,GH115,GH43_10,GH97,GH43_29|CBM6,CE1|CE1,GH95,GH115,HTH_AraC,GH30_8,1.B.14',\n",
       "       'GT4,GT94,GT4,GT4,GT2', 'HTH_AraC,GH2,1.B.14,GH30_4,GH51',\n",
       "       '9.B.146,GT4,GT4,GT4,GT2,GT2', 'MarR,CE9,4.A.1',\n",
       "       'GH43_24,GH51|GH43_19,1.B.14,8.A.46,1.B.14,GH128',\n",
       "       'GntR,CBM32|PL7_5,1.B.14,PL6_3,PL7_5,2.A.1,PL6|PL6_1,2.A.1',\n",
       "       '3.A.1,LacI,GH16,GH3,GH18,1.E.19,HTH_5,3.A.3,9.B.105',\n",
       "       'GT35,GH77,3.A.1,3.A.1,3.A.1,LacI', '1.B.14,GH35',\n",
       "       '1.B.18,8.A.3,9.B.18,9.B.30,9.B.97,9.B.97,GT4,GT94,2.A.66,GT70,GT26',\n",
       "       'GH43_29,HTH_AraC,1.B.14,GH43_12,GH43_1,GH10,2.A.2,GH16',\n",
       "       'PL6|PL6_1,PL17_2|PL17,AraC_binding,2.A.1,PfkB',\n",
       "       'GH5_7,GH26,8.A.46,1.B.14',\n",
       "       'AraC_binding,3.A.1,3.A.1,Pkinase,GT4|GT4,GT4,GT4',\n",
       "       'CBM82|CBM83|GH13_41,HTH_1,Pyr_redox_2',\n",
       "       'GH65,GH97,GH31,GH66,8.A.46,1.B.14',\n",
       "       'GH95,GH140,CBM67|GH78|GH33,GH28,CBM67|GH78,GH43_18,PL1_2,1.B.14,GH92',\n",
       "       'GH95',\n",
       "       'GH16,GerE,Sigma70_r4_2|Sigma70_r2,FecR,1.B.14,8.A.46,Y_Y_Y,CBM6|CBM6',\n",
       "       'GH18|GH18,GH20,PIG-L,8.A.46,1.B.14,GH18,8.A.46,1.B.14,LytTR',\n",
       "       'GH20,GH29,8.A.46,1.B.14,GH33,MarR,HTH_3,CBM67|GH78,HTH_AraC',\n",
       "       'LacI,4.A.1,GH32,PfkB',\n",
       "       'GH67,3.A.1,3.A.1,3.A.1,3.A.1,3.A.1,CBM22|CBM22|GH10|CBM9|CBM9,HTH_11,PfkB,GH10,3.A.1,3.A.1,3.A.1,3.A.1,3.A.1,GH3,CE7,3.A.1',\n",
       "       'GH32,3.A.2,3.A.2,3.A.2,3.A.2',\n",
       "       'SBP_bac_1,3.A.1,3.A.1,GH42,LacI,2.A.2',\n",
       "       '2.A.38,GT4,CE4,9.B.42,1.B.66,1.B.18',\n",
       "       '1.B.14,GntR,PL6|PL6_1,PL17_2|PL17,AraC_binding,2.A.1,PfkB',\n",
       "       'PL5|PL7,LacI,3.A.1,3.A.1,3.A.1,3.A.1,3.A.1,PL15_1',\n",
       "       'GT2,GT2,GT2,GT2,GT4,Fer4,GT4,GT26,9.A.25',\n",
       "       'GH43_16|CBM6,GH10|CBM6,GH43_29|CBM6,CE1|CBM6,GH43_10|CBM6,GH62|CBM6,GH43_29|CBM6,GH146|CBM22,GH27|CBM6,GH59|CBM6,GH2|CBM6,GH62|CBM6|CE6,GH95|CBM32|CBM6,GH30_8|CBM6',\n",
       "       'GT4,NUDIX,GT2',\n",
       "       'PL7_5,PL6|PL6_1,PL7_5,PL17_2|PL17,AraC_binding,1.B.14,PL7,PL7,GntR,2.A.1,PfkB,LacI',\n",
       "       'GH18,AA10|CBM5|CBM5,GH18|CBM5|CBM5',\n",
       "       '2.A.2,GH130,GH26,GH26|GH26,1.B.14,GH5_2,GH5_7,CE7,HTH_AraC,GH3',\n",
       "       '4.A.3,4.A.3,GH1,HTH_18|AraC_binding',\n",
       "       'PL8_2,PL29,8.A.46,1.B.14,HTH_AraC,2.A.6,2.A.6,2.A.6,GH2,1.B.14,GH88,PL8_2',\n",
       "       'TetR_N,GH16|CBM16', 'GH51,3.A.1,3.A.1,3.A.1', 'GH1,4.A.3',\n",
       "       'GT4,GT4,NUDIX,GT2', 'GH13,GH13_36,GH65,2.A.2,LacI,1.B.14,GH13_7',\n",
       "       'CBM4,1.B.14,1.B.14', '2.A.2,GH43_11',\n",
       "       'GH13_10,8.A.46,1.B.14,LacI', 'GH1,1.B.3,4.A.3,4.A.3,4.A.3,GntR',\n",
       "       'GH36,3.A.1,3.A.1,3.A.1,GH36',\n",
       "       'GH10,3.A.12,ATPase_2,SBP_bac_1,3.A.1,3.A.1,8.A.49,GH10,Fer4',\n",
       "       'GH13_18,3.A.1,3.A.1,3.A.1,HTH_AraC,GH36,LacI', 'GT2,GT2',\n",
       "       'LacI,2.A.2,GH13_4',\n",
       "       '8.A.3,GT4,GT4,GT4,GT2,GT14,GT14,GT32,GT8,GT2,GT2,2.A.66',\n",
       "       'LacI,3.A.1,3.A.1,GH42,3.A.1',\n",
       "       '1.B.14,8.A.46,GH0,GH92,GH92,FecR,GerE,GH92',\n",
       "       'GT4,GT4,Pyr_redox,GT2', 'GH67,GH3,8.A.59,HTH_AraC,3.A.1',\n",
       "       '1.B.14,GH3,1.B.14,8.A.46',\n",
       "       'GH43_24|GH16,GH16,1.B.14,1.B.14,HTH_AraC',\n",
       "       'HTH_AraC|HTH_11,1.B.14,GH5_13,GH43_18,GH2,GH43_26,GH43_31,GH29|CBM32|CBM32,PIG-L',\n",
       "       '2.A.1,GH32,LacI',\n",
       "       'GT2,GT4,GT2,GT2,GT2,GT10,Nitroreductase,9.B.146',\n",
       "       'GH3,GH158,1.B.14,GerE', 'LacI,2.A.2,GH2',\n",
       "       'GerE,FecR,1.B.14,8.A.46,GH18', 'GH9|CBM3|CBM3,GH9|CBM3',\n",
       "       'GH98|CBM47|CBM47|CBM47,GH95,4.A.6,4.A.6,4.A.6,4.A.6,HTH_DeoR',\n",
       "       'GH97,GH67,GH76,1.B.14,HTH_AraC,GH92,GH76,GH125,3.A.7',\n",
       "       'GH3,HTH_AraC,GH16,1.B.14,8.A.46,GH3',\n",
       "       '8.A.3,1.B.18,PL12,GT4,9.B.18,Aminotran_1_2,9.B.18',\n",
       "       'GT2,3.A.1,4.D.1',\n",
       "       'HTH_AraC,GH2,GH139,GH106,3.A.3,HisKA|HATPase_c,Trans_reg_C,GH2,GH2,HisKA|HATPase_c,HTH_AraC,GH137|GH2|CBM57,GH138,2.A.21,GH78,GH141,GH127,Nitroreductase,GH95,GH105,GH140,CBM67|GH78|GH33,GH28,CBM67|GH78,GH143|GH142,GH43_18,PL1_2,1.B.14,1.B.14',\n",
       "       'PL1_2,CE8,1.B.14,GH3,HTH_AraC',\n",
       "       'GH67,2.A.2,GH10,GH43_1,GH43_35,GH5_21,GH10,1.B.14',\n",
       "       '1.B.14,8.A.46,GH33,GH20,GH2,GH20,GH20,GH92,GH2,CE9,3.A.1',\n",
       "       'HTH_AraC,GH5_38,GH94,2.A.2,1.B.14,8.A.46,GH36',\n",
       "       '1.B.14,2.A.1,GH33,GH20,GH2,GH20,GH20,GH2',\n",
       "       'AraC_binding,2.A.50,PL5_1,1.B.13,4.D.1',\n",
       "       'LacI,1.B.3,GH42,GH53,3.A.1,3.A.1,3.A.1,3.A.1',\n",
       "       'GntR,4.A.1,4.A.1,1.B.1,CE9,SIS',\n",
       "       'GH16,1.B.14,9.B.34,2.A.35,GH3,2.A.1,8.A.49,LacI,2.A.1',\n",
       "       '1.B.14,GH16,GH3', 'GH30_1,GH17,GH3,GH149,GH16,8.A.46,1.B.14',\n",
       "       'GH94,GH3', '4.A.3,4.A.3,CE0,4.A.3',\n",
       "       'GH4,HTH_AraC,4.A.3,4.A.3,4.A.3', '2.A.1,GntR',\n",
       "       '2.A.66,GT8,GT2,GT2,9.B.146', 'GH13_29,4.A.1,GntR',\n",
       "       'LacI,4.A.1,GH13_29', 'GH32,GH32,8.A.46,1.B.14,GH32',\n",
       "       'PfkB,2.A.56,2.A.56,2.A.56,LacI,CE8|PL1_5,PL1_2,GH105,GH105,GH28,1.B.14',\n",
       "       'MerR,CBM40|GH33,3.A.1,3.A.1,SBP_bac_1,HTH_AraC,GH1,GH140',\n",
       "       '3.A.1,3.A.1,GH1,GH84,GntR,GH125,GH38',\n",
       "       'GH36,8.A.9,3.A.1,3.A.1,SBP_bac_1',\n",
       "       'GT2,GT4,GT4,2.A.66,GT10,GT2,Aminotran_1_2',\n",
       "       'GH2,2.A.115,GH109,1.B.14,FecR,Sigma70_r4_2',\n",
       "       '1.B.35,2.A.2,2.A.2,GH31,PfkB,HTH_DeoR', '1.B.14,8.A.46,GH18',\n",
       "       '3.A.1,8.A.59,HTH_18|Response_reg,3.A.1,3.A.1,3.A.1,GntR|Peripla_BP_3,GH43_5,SBP_bac_1,3.A.1,3.A.1,GH43_4,GH51,GH51,GH127',\n",
       "       'GT11,GT2,GT2,GT4,9.B.18',\n",
       "       'GH43_12,LacI,SBP_bac_1,3.A.1,3.A.1,GH43_11,GH43_10',\n",
       "       'GH3,GH2,GH31,HTH_AraC,GH9,1.B.14,GH5_4,GH43_12,GH43_12,GH3',\n",
       "       'LacI,3.A.1,3.A.1,3.A.1,8.A.49,CBM2|GH18',\n",
       "       'AraC_binding,3.A.1,3.A.1,GT4,GT4', 'GH32,4.A.1,GH32,LacI',\n",
       "       'GT2,GT2,GT4,GT101,2.A.66,GT4,GT2,GT2',\n",
       "       '1.B.14,8.A.46,GH43_12,GH5_4,HTH_AraC,GH31,GH2,GH3,GH95',\n",
       "       'SIS,GH9,4.A.3', '4.A.3,4.A.3,GH1', '4.A.1,GH1',\n",
       "       'GT2,GT2,GT2,GT2,Aminotran_1_2,9.B.146', 'GerE,FecR,1.B.14,GH89',\n",
       "       'GH51,GH146,NUDIX,2.A.21,GH43_4,1.B.14,GH43_4,GH51,GH43_29',\n",
       "       '4.A.6,GH32', 'GntR,PL6,PL17_2|PL17,2.A.1',\n",
       "       'GH32,GH91,3.A.1,3.A.1,SBP_bac_1,LacI,3.A.1,TrmB,2.A.115,HTH_psq,GH5_2,3.A.3,HMA,3.A.7',\n",
       "       'LacI,3.A.1,3.A.1,SBP_bac_1,GH29,GH95',\n",
       "       '9.B.18,9.B.18,Fer4,GT4,GT4,1.B.18,8.A.3',\n",
       "       'GerE,FecR,1.B.14,8.A.46,GH18',\n",
       "       'GH2,2.A.21,3.D.1,GH96,GH96,2.A.1,GH50,GH50,GH29,SBP_bac_1,TrmB,1.B.14,GntR,GH50,1.B.14,GH86,3.A.1,3.A.1,3.A.1,3.A.1,PfkB,GH117|GH117',\n",
       "       'GerE,1.B.14,GH144,GH144,CE1,GH3,BLUF,PL6|PL6_1,PL12,PL6|PL6_1,PL17_2|PL17,AraC_binding,1.B.14,8.A.46,GntR,2.A.1,LacI,PfkB,TPR_2,Response_reg',\n",
       "       '2.A.2,GH2,LacI', '8.A.9,8.A.46,1.B.14,GH97,8.A.9',\n",
       "       'GH92,GH38|CBM32,GT32,GT32,GH130,GH125,GH76,GH92,HTH_AraC,1.B.14,GH76',\n",
       "       'GH43_34,GH43_10,GH97,GH29,HTH_AraC,1.B.14',\n",
       "       'TrmB,PL1_2,PL1_5|PL1_5',\n",
       "       'GH3,HTH_AraC,1.B.14,GH10,GH16,GH8,2.A.2',\n",
       "       'GerE,GH1,3.A.1,3.A.1,3.A.1,3.A.1,3.A.1,Response_reg|HTH_18',\n",
       "       'GH68,GH32,2.A.3', 'CBM6|GH86|GH86,1.B.14,GH16|CBM6', 'GH16',\n",
       "       '1.B.14,8.A.46,PL38|GH88,GH2|CBM57',\n",
       "       '2.A.2,GH130,GH36,GH26,GH26,1.B.14,HTH_AraC',\n",
       "       'LacI,SBP_bac_1,3.A.1,3.A.1,GH4',\n",
       "       'GH18,AA10|CBM5|CBM5,GH18|CBM5|CBM5',\n",
       "       '3.A.1,3.A.1,3.A.1,3.A.1,PL2_2', 'GT4,GT94,GT4,GT4,GT2',\n",
       "       'NUDIX,GT26',\n",
       "       'GH16,HTH_1,2.A.1,GntR,GH16|CBM16|CBM16,1.B.52,TrmB,GH16,2.A.21,GH16,GntR',\n",
       "       'GH1,4.A.1',\n",
       "       '2.A.1,PIG-L,HTH_AraC,2.A.6,3.A.1,1.C.105,HATPase_c,Trans_reg_C,CE9,GH2,GH92,GH20,GH20,GH2',\n",
       "       '3.A.7,HMA,3.A.3,GH5_2,HTH_psq,2.A.115,TrmB,3.A.1,LacI,SBP_bac_1,3.A.1,3.A.1',\n",
       "       'PfkB,GH32,LacI,4.A.1', 'GH4,GntR,4.A.1',\n",
       "       'GH20,GH33,8.A.46,1.B.14,2.A.1',\n",
       "       'HTH_DeoR,HTH_AraC,8.A.59,PL1_6,GH105,SBP_bac_1,3.A.1',\n",
       "       'TPR_1,GH5_42', '4.A.1,GH32,LacI,GH13_31',\n",
       "       'PL11|CBM3,CBM66|PL3_1,CBM66|PL9_1,HTH_18,GH10|CBM3|CBM3|GH48,GH5_8|CBM3|CBM3|GH44,GH74|GH74|GH74|GH74|CBM3|CBM3|GH48,GT39,GH9|CBM3|CBM3|CBM3|GH5_8,GH5_8|CBM3|CBM3|CBM3|GH5_1,GH9|CBM3|CBM3|CBM3|GH48',\n",
       "       '8.A.9,GH36,3.A.1,3.A.1,SBP_bac_1,GH36', 'GH2,HTH_6,8.A.5',\n",
       "       'GH16_16|CBM6|CBM6,3.D.1,GH50,1.B.14,CBM6,GH16_16|CBM13,2.A.98,HTH_1,GH50,FecR,Sigma70_r2|Sigma70_r4,Pyr_redox_2,GH117,2.A.21,GH16_3,GH2,SBP_bac_1,GH50,HATPase_c|SBP_bac_3,GerE,GH127,2.A.1,GntR,GH167,HTH_AraC,GntR,CBM6|CBM6|GH86|GH86,GH50,2.A.1,GH86',\n",
       "       'GH5_2,GH27,8.A.46,1.B.14,HTH_AraC,GH26,2.A.2,GH130,GH26,GH5_7,GH97',\n",
       "       'PadR,PfkB,GH32,4.A.1,Sigma70_r2|Sigma70_r4_2,LacI,MarR',\n",
       "       'LacI,3.A.1,3.A.1,3.A.1,GH3',\n",
       "       'CBM51|CBM51|GH98,GH36,GH36,GH29,3.A.1,3.A.1,3.A.1,HTH_DeoR',\n",
       "       '4.A.1,GH1', 'GH2,GH53,8.A.46,1.B.14,GH147,HTH_AraC',\n",
       "       'GH106,GH28,GH28,CE12,GH2,GH43_18|GH43_34|CBM32,GH42,GH28,1.B.14,1.B.14,1.B.14,PL11,PL26,CE12|CE12,GH105,PL11_1,GH105,HTH_AraC',\n",
       "       'GH43_19|GH43_34,GH27,GH2,GH95,GH51,GH28,GH28,2.A.21,GH2,HTH_AraC,GH92,GH92,1.B.14,GH89',\n",
       "       'GT11,GT2,GT2,GT4,9.B.18', '2.A.66,GT2',\n",
       "       'LacI,1.B.14,8.A.46,GH2,GH92,GH92,GH125',\n",
       "       'GH106,GH28,GH28,CE12,GH2,GH43_18|GH42,GH28,CE4,GH28,GH2,CBM35,GH35,1.B.14,8.A.46,1.B.14,PL9,PL26,CE12|CE12,GH105,PL11_1,GH105,HTH_AraC,CE4,CE6,GH2,HTH_AraC,PL9_1',\n",
       "       'Fer4,SIS,GT2,9.B.18,1.B.18,8.A.3', 'Mga|HTH_11,GH1,4.A.3,4.A.3',\n",
       "       'GH16', 'Fe_dep_repress,2.A.1,GH89,1.B.14,CE2',\n",
       "       '1.B.14,GH92,GH99,9.B.14',\n",
       "       'GH32,3.A.1,3.A.1,3.A.1,LacI,Mga|HTH_Mga|PRD_Mga',\n",
       "       'GH20,GH38,GH125,GH92,GH29', 'GT4,GT4,GT2',\n",
       "       'CE6,1.B.14,2.A.1,2.A.1', 'GT2,GT2,GT94,GT2,9.B.18',\n",
       "       'HTH_AraC,2.A.1,MarR,Glyoxalase,2.A.1,GH13_11', 'GH68,GH32',\n",
       "       'GH5_4,CBM4,1.B.14,1.B.14,HTH_AraC',\n",
       "       'CBM67|GH78,HTH_AraC,2.A.7,2.A.4,GH3,GH115,GH97',\n",
       "       '1.B.14,1.B.14,GH16,GH18,HTH_AraC', 'GH5_4', 'GT2,GT4,GT2',\n",
       "       'GH9,1.B.14,GH31,HTH_AraC,GH9,GH9,ATPase_2,CE4,HATPase_c,GerE',\n",
       "       'GH130,3.A.1,3.A.1,3.A.1,LacI,GH5_36',\n",
       "       'Sigma70_r2|Sigma70_r4_2,FecR,1.B.14,1.B.14,8.A.46,GH18',\n",
       "       '1.C.113,3.A.1,GH63,3.A.1,LacI,9.B.34,CBM67|GH78,8.A.49,HTH_3',\n",
       "       'GH36,1.B.14,PL1',\n",
       "       'PL12_1,4.A.6,4.A.6,4.A.6,GH88,CHASE2,PfkB,DeoRC',\n",
       "       '2.A.14,9.B.18,GT2,GT0,Aminotran_1_2,9.B.18,1.B.18,8.A.3',\n",
       "       'Trans_reg_C,HisKA,3.A.1,GH2,2.A.21,Sigma70_r2|Sigma70_r4_2,GH3',\n",
       "       '3.A.1,GH42,3.A.1,3.A.1,LacI', 'GH33,8.A.46,1.B.14,FecR',\n",
       "       '1.B.14,HTH_11,GH33,MarR,HTH_3,CBM67|GH78,HTH_AraC,2.A.7,2.A.4'],\n",
       "      dtype=object)"
      ]
     },
     "execution_count": 296,
     "metadata": {},
     "output_type": "execute_result"
    }
   ],
   "source": [
    "data_train[\"sig_gene_seq\"].values"
   ]
  },
  {
   "cell_type": "code",
   "execution_count": 138,
   "id": "6c35432e",
   "metadata": {},
   "outputs": [],
   "source": [
    "# need to get an idea about the lengths first"
   ]
  },
  {
   "cell_type": "code",
   "execution_count": 297,
   "id": "9656acaf",
   "metadata": {},
   "outputs": [
    {
     "data": {
      "image/png": "[encoded data removed]",
      "text/plain": [
       "<Figure size 432x288 with 1 Axes>"
      ]
     },
     "metadata": {
      "needs_background": "light"
     },
     "output_type": "display_data"
    }
   ],
   "source": [
    "plt.hist([len(seq.split(\",\")) for seq in data_train[\"sig_gene_seq\"].values])\n",
    "plt.show()"
   ]
  },
  {
   "cell_type": "code",
   "execution_count": 298,
   "id": "edec9fbb",
   "metadata": {},
   "outputs": [],
   "source": [
    "import tensorflow as tf"
   ]
  },
  {
   "cell_type": "code",
   "execution_count": 299,
   "id": "98911d19",
   "metadata": {},
   "outputs": [],
   "source": [
    "# have an input layer\n",
    "input_layer = tf.keras.layers.Input(shape = (), dtype = tf.string)"
   ]
  },
  {
   "cell_type": "code",
   "execution_count": 300,
   "id": "d07140a8",
   "metadata": {},
   "outputs": [
    {
     "data": {
      "text/plain": [
       "429"
      ]
     },
     "execution_count": 300,
     "metadata": {},
     "output_type": "execute_result"
    }
   ],
   "source": [
    "len(np.unique([gene for seq in data_train[\"sig_gene_seq\"].values for gene in seq.split(\",\")]))"
   ]
  },
  {
   "cell_type": "code",
   "execution_count": 301,
   "id": "0462fc67",
   "metadata": {},
   "outputs": [],
   "source": [
    "X_train_seq = [seq.replace(\",\", \" \") for seq in data_train[\"sig_gene_seq\"].values]"
   ]
  },
  {
   "cell_type": "code",
   "execution_count": 302,
   "id": "e6a8a28f",
   "metadata": {},
   "outputs": [],
   "source": [
    "X_test_seq = [seq.replace(\",\", \" \") for seq in data_test[\"sig_gene_seq\"].values]"
   ]
  },
  {
   "cell_type": "code",
   "execution_count": 303,
   "id": "4c4a0dde",
   "metadata": {},
   "outputs": [],
   "source": [
    "max_tokens = 300"
   ]
  },
  {
   "cell_type": "code",
   "execution_count": 246,
   "id": "baad0654",
   "metadata": {},
   "outputs": [],
   "source": [
    "# pass this to a vectorization layer\n",
    "# but first make a vectorization layer\n",
    "text_vec_layer = tf.keras.layers.TextVectorization(max_tokens = max_tokens, output_mode = \"int\",\n",
    "                                                  output_sequence_length=15, standardize = None)"
   ]
  },
  {
   "cell_type": "code",
   "execution_count": 247,
   "id": "e1a8c8f0",
   "metadata": {},
   "outputs": [],
   "source": [
    "text_vec_layer.adapt(X_train_seq)"
   ]
  },
  {
   "cell_type": "code",
   "execution_count": 248,
   "id": "161d3b85",
   "metadata": {},
   "outputs": [],
   "source": [
    "# pass the input through this text vectorization layer\n",
    "vectorized_text = text_vec_layer(input_layer)"
   ]
  },
  {
   "cell_type": "code",
   "execution_count": 249,
   "id": "0365aa0c",
   "metadata": {},
   "outputs": [],
   "source": [
    "# instantiate an embedding layer\n",
    "emb_layer = tf.keras.layers.Embedding(max_tokens, 32, mask_zero = True)"
   ]
  },
  {
   "cell_type": "code",
   "execution_count": 250,
   "id": "dbf2ae42",
   "metadata": {},
   "outputs": [],
   "source": [
    "# pass the vectorized text through the embedding layer\n",
    "emb_output = emb_layer(vectorized_text)"
   ]
  },
  {
   "cell_type": "code",
   "execution_count": 251,
   "id": "7408c13f",
   "metadata": {},
   "outputs": [],
   "source": [
    "# instantiate a recurrent layer\n",
    "gru_layer = tf.keras.layers.GRU(16)"
   ]
  },
  {
   "cell_type": "code",
   "execution_count": 252,
   "id": "e3d2d424",
   "metadata": {},
   "outputs": [],
   "source": [
    "# pass the emb output through the gru\n",
    "gru_output = gru_layer(emb_output)"
   ]
  },
  {
   "cell_type": "code",
   "execution_count": 253,
   "id": "d7067429",
   "metadata": {},
   "outputs": [],
   "source": [
    "# classification layer\n",
    "classification_layer = tf.keras.layers.Dense(len(np.unique(targets_train)))"
   ]
  },
  {
   "cell_type": "code",
   "execution_count": 254,
   "id": "8fd9a7e5",
   "metadata": {},
   "outputs": [],
   "source": [
    "# class output\n",
    "class_output = classification_layer(gru_output)"
   ]
  },
  {
   "cell_type": "code",
   "execution_count": 255,
   "id": "76731365",
   "metadata": {},
   "outputs": [],
   "source": [
    "# make the model\n",
    "model = tf.keras.models.Model(input_layer, class_output)"
   ]
  },
  {
   "cell_type": "code",
   "execution_count": 256,
   "id": "5a801073",
   "metadata": {},
   "outputs": [
    {
     "name": "stdout",
     "output_type": "stream",
     "text": [
      "Model: \"model_6\"\n",
      "_________________________________________________________________\n",
      "Layer (type)                 Output Shape              Param #   \n",
      "=================================================================\n",
      "input_2 (InputLayer)         [(None,)]                 0         \n",
      "_________________________________________________________________\n",
      "text_vectorization_5 (TextVe (None, 15)                0         \n",
      "_________________________________________________________________\n",
      "embedding_3 (Embedding)      (None, 15, 32)            9600      \n",
      "_________________________________________________________________\n",
      "gru_3 (GRU)                  (None, 16)                2400      \n",
      "_________________________________________________________________\n",
      "dense_4 (Dense)              (None, 7)                 119       \n",
      "=================================================================\n",
      "Total params: 12,119\n",
      "Trainable params: 12,119\n",
      "Non-trainable params: 0\n",
      "_________________________________________________________________\n"
     ]
    }
   ],
   "source": [
    "model.summary()"
   ]
  },
  {
   "cell_type": "code",
   "execution_count": 257,
   "id": "3811168e",
   "metadata": {},
   "outputs": [],
   "source": [
    "model.compile(loss = tf.keras.losses.SparseCategoricalCrossentropy(from_logits=True), \n",
    "             optimizer = tf.keras.optimizers.Adam(learning_rate = 1e-3), \n",
    "             metrics=tf.keras.metrics.SparseCategoricalAccuracy())"
   ]
  },
  {
   "cell_type": "code",
   "execution_count": 258,
   "id": "ff88ddff",
   "metadata": {},
   "outputs": [],
   "source": [
    "from sklearn.preprocessing import LabelEncoder"
   ]
  },
  {
   "cell_type": "code",
   "execution_count": 259,
   "id": "41974bd4",
   "metadata": {},
   "outputs": [],
   "source": [
    "le = LabelEncoder()"
   ]
  },
  {
   "cell_type": "code",
   "execution_count": 240,
   "id": "7954e680",
   "metadata": {},
   "outputs": [],
   "source": [
    "targets_train = le.fit_transform(targets_train)"
   ]
  },
  {
   "cell_type": "code",
   "execution_count": 241,
   "id": "5bfe6c00",
   "metadata": {},
   "outputs": [],
   "source": [
    "targets_test = le.transform(targets_test)"
   ]
  },
  {
   "cell_type": "code",
   "execution_count": 261,
   "id": "44578ce1",
   "metadata": {},
   "outputs": [
    {
     "data": {
      "text/plain": [
       "Counter({4: 81, 5: 146, 0: 24, 1: 27, 3: 61, 6: 22, 2: 30})"
      ]
     },
     "execution_count": 261,
     "metadata": {},
     "output_type": "execute_result"
    }
   ],
   "source": [
    "Counter(targets_train)"
   ]
  },
  {
   "cell_type": "code",
   "execution_count": 260,
   "id": "bc87a1e1",
   "metadata": {
    "scrolled": false
   },
   "outputs": [
    {
     "name": "stdout",
     "output_type": "stream",
     "text": [
      "Epoch 1/200\n",
      "49/49 [==============================] - 5s 35ms/step - loss: 1.8997 - sparse_categorical_accuracy: 0.3734 - val_loss: 1.8259 - val_sparse_categorical_accuracy: 0.4427\n",
      "Epoch 2/200\n",
      "49/49 [==============================] - 1s 18ms/step - loss: 1.7840 - sparse_categorical_accuracy: 0.3734 - val_loss: 1.6814 - val_sparse_categorical_accuracy: 0.4427\n",
      "Epoch 3/200\n",
      "49/49 [==============================] - 1s 18ms/step - loss: 1.7070 - sparse_categorical_accuracy: 0.3734 - val_loss: 1.6374 - val_sparse_categorical_accuracy: 0.4427\n",
      "Epoch 4/200\n",
      "49/49 [==============================] - 1s 18ms/step - loss: 1.7020 - sparse_categorical_accuracy: 0.3734 - val_loss: 1.6308 - val_sparse_categorical_accuracy: 0.4427\n",
      "Epoch 5/200\n",
      "49/49 [==============================] - 1s 18ms/step - loss: 1.7002 - sparse_categorical_accuracy: 0.3734 - val_loss: 1.6335 - val_sparse_categorical_accuracy: 0.4427\n",
      "Epoch 6/200\n",
      "49/49 [==============================] - 1s 17ms/step - loss: 1.6992 - sparse_categorical_accuracy: 0.3734 - val_loss: 1.6352 - val_sparse_categorical_accuracy: 0.4427\n",
      "Epoch 7/200\n",
      "49/49 [==============================] - 1s 18ms/step - loss: 1.6978 - sparse_categorical_accuracy: 0.3785 - val_loss: 1.6316 - val_sparse_categorical_accuracy: 0.4427\n",
      "Epoch 8/200\n",
      "49/49 [==============================] - 1s 20ms/step - loss: 1.6996 - sparse_categorical_accuracy: 0.3785 - val_loss: 1.6266 - val_sparse_categorical_accuracy: 0.4427\n",
      "Epoch 9/200\n",
      "49/49 [==============================] - 1s 18ms/step - loss: 1.6966 - sparse_categorical_accuracy: 0.3785 - val_loss: 1.6297 - val_sparse_categorical_accuracy: 0.4427\n",
      "Epoch 10/200\n",
      "49/49 [==============================] - 1s 17ms/step - loss: 1.6950 - sparse_categorical_accuracy: 0.3811 - val_loss: 1.6281 - val_sparse_categorical_accuracy: 0.4427\n",
      "Epoch 11/200\n",
      "49/49 [==============================] - 1s 20ms/step - loss: 1.6937 - sparse_categorical_accuracy: 0.3811 - val_loss: 1.6331 - val_sparse_categorical_accuracy: 0.4427\n",
      "Epoch 12/200\n",
      "49/49 [==============================] - 1s 17ms/step - loss: 1.6933 - sparse_categorical_accuracy: 0.3811 - val_loss: 1.6258 - val_sparse_categorical_accuracy: 0.4427\n",
      "Epoch 13/200\n",
      "49/49 [==============================] - 1s 19ms/step - loss: 1.6914 - sparse_categorical_accuracy: 0.3836 - val_loss: 1.6320 - val_sparse_categorical_accuracy: 0.4427\n",
      "Epoch 14/200\n",
      "49/49 [==============================] - 1s 17ms/step - loss: 1.6911 - sparse_categorical_accuracy: 0.3862 - val_loss: 1.6320 - val_sparse_categorical_accuracy: 0.4427\n",
      "Epoch 15/200\n",
      "49/49 [==============================] - 1s 17ms/step - loss: 1.6897 - sparse_categorical_accuracy: 0.3887 - val_loss: 1.6294 - val_sparse_categorical_accuracy: 0.4427\n",
      "Epoch 16/200\n",
      "49/49 [==============================] - 1s 21ms/step - loss: 1.6877 - sparse_categorical_accuracy: 0.3887 - val_loss: 1.6288 - val_sparse_categorical_accuracy: 0.4427\n",
      "Epoch 17/200\n",
      "49/49 [==============================] - 1s 17ms/step - loss: 1.6867 - sparse_categorical_accuracy: 0.3887 - val_loss: 1.6267 - val_sparse_categorical_accuracy: 0.4427\n",
      "Epoch 18/200\n",
      "49/49 [==============================] - 1s 19ms/step - loss: 1.6870 - sparse_categorical_accuracy: 0.3913 - val_loss: 1.6267 - val_sparse_categorical_accuracy: 0.4427\n",
      "Epoch 19/200\n",
      "49/49 [==============================] - 1s 17ms/step - loss: 1.6846 - sparse_categorical_accuracy: 0.3913 - val_loss: 1.6297 - val_sparse_categorical_accuracy: 0.4427\n",
      "Epoch 20/200\n",
      "49/49 [==============================] - 1s 18ms/step - loss: 1.6831 - sparse_categorical_accuracy: 0.3913 - val_loss: 1.6290 - val_sparse_categorical_accuracy: 0.4427\n",
      "Epoch 21/200\n",
      "49/49 [==============================] - 1s 19ms/step - loss: 1.6822 - sparse_categorical_accuracy: 0.3913 - val_loss: 1.6290 - val_sparse_categorical_accuracy: 0.4427\n",
      "Epoch 22/200\n",
      "49/49 [==============================] - 1s 20ms/step - loss: 1.6811 - sparse_categorical_accuracy: 0.3913 - val_loss: 1.6281 - val_sparse_categorical_accuracy: 0.4427\n",
      "Epoch 23/200\n",
      "49/49 [==============================] - 1s 20ms/step - loss: 1.6802 - sparse_categorical_accuracy: 0.3913 - val_loss: 1.6247 - val_sparse_categorical_accuracy: 0.4427\n",
      "Epoch 24/200\n",
      "49/49 [==============================] - 1s 18ms/step - loss: 1.6781 - sparse_categorical_accuracy: 0.3913 - val_loss: 1.6273 - val_sparse_categorical_accuracy: 0.4427\n",
      "Epoch 25/200\n",
      "49/49 [==============================] - 1s 18ms/step - loss: 1.6791 - sparse_categorical_accuracy: 0.3913 - val_loss: 1.6234 - val_sparse_categorical_accuracy: 0.4427\n",
      "Epoch 26/200\n",
      "49/49 [==============================] - 1s 18ms/step - loss: 1.6773 - sparse_categorical_accuracy: 0.3913 - val_loss: 1.6253 - val_sparse_categorical_accuracy: 0.4427\n",
      "Epoch 27/200\n",
      "49/49 [==============================] - 1s 18ms/step - loss: 1.6747 - sparse_categorical_accuracy: 0.3913 - val_loss: 1.6221 - val_sparse_categorical_accuracy: 0.4427\n",
      "Epoch 28/200\n",
      "49/49 [==============================] - 1s 20ms/step - loss: 1.6750 - sparse_categorical_accuracy: 0.3913 - val_loss: 1.6295 - val_sparse_categorical_accuracy: 0.4427\n",
      "Epoch 29/200\n",
      "49/49 [==============================] - 1s 18ms/step - loss: 1.6740 - sparse_categorical_accuracy: 0.3913 - val_loss: 1.6251 - val_sparse_categorical_accuracy: 0.4427\n",
      "Epoch 30/200\n",
      "49/49 [==============================] - 1s 18ms/step - loss: 1.6710 - sparse_categorical_accuracy: 0.3913 - val_loss: 1.6234 - val_sparse_categorical_accuracy: 0.4427\n",
      "Epoch 31/200\n",
      "49/49 [==============================] - 1s 18ms/step - loss: 1.6711 - sparse_categorical_accuracy: 0.3913 - val_loss: 1.6257 - val_sparse_categorical_accuracy: 0.4427\n",
      "Epoch 32/200\n",
      "49/49 [==============================] - 1s 18ms/step - loss: 1.6703 - sparse_categorical_accuracy: 0.3913 - val_loss: 1.6219 - val_sparse_categorical_accuracy: 0.4427\n",
      "Epoch 33/200\n",
      "49/49 [==============================] - 1s 18ms/step - loss: 1.6690 - sparse_categorical_accuracy: 0.3913 - val_loss: 1.6227 - val_sparse_categorical_accuracy: 0.4427\n",
      "Epoch 34/200\n",
      "49/49 [==============================] - 1s 19ms/step - loss: 1.6687 - sparse_categorical_accuracy: 0.3913 - val_loss: 1.6214 - val_sparse_categorical_accuracy: 0.4427\n",
      "Epoch 35/200\n",
      "49/49 [==============================] - 1s 18ms/step - loss: 1.6662 - sparse_categorical_accuracy: 0.3913 - val_loss: 1.6250 - val_sparse_categorical_accuracy: 0.4427\n",
      "Epoch 36/200\n",
      "49/49 [==============================] - 1s 18ms/step - loss: 1.6671 - sparse_categorical_accuracy: 0.3913 - val_loss: 1.6215 - val_sparse_categorical_accuracy: 0.4427\n",
      "Epoch 37/200\n",
      "49/49 [==============================] - 1s 20ms/step - loss: 1.6674 - sparse_categorical_accuracy: 0.3913 - val_loss: 1.6238 - val_sparse_categorical_accuracy: 0.4427\n",
      "Epoch 38/200\n",
      "49/49 [==============================] - 1s 18ms/step - loss: 1.6658 - sparse_categorical_accuracy: 0.3913 - val_loss: 1.6250 - val_sparse_categorical_accuracy: 0.4427\n",
      "Epoch 39/200\n",
      "49/49 [==============================] - 1s 18ms/step - loss: 1.6652 - sparse_categorical_accuracy: 0.3913 - val_loss: 1.6225 - val_sparse_categorical_accuracy: 0.4427\n",
      "Epoch 40/200\n",
      "49/49 [==============================] - 1s 20ms/step - loss: 1.6657 - sparse_categorical_accuracy: 0.3913 - val_loss: 1.6243 - val_sparse_categorical_accuracy: 0.4427\n",
      "Epoch 41/200\n",
      "49/49 [==============================] - 1s 19ms/step - loss: 1.6652 - sparse_categorical_accuracy: 0.3887 - val_loss: 1.6241 - val_sparse_categorical_accuracy: 0.4427\n",
      "Epoch 42/200\n",
      "49/49 [==============================] - 1s 18ms/step - loss: 1.6637 - sparse_categorical_accuracy: 0.3913 - val_loss: 1.6265 - val_sparse_categorical_accuracy: 0.4427\n",
      "Epoch 43/200\n",
      "49/49 [==============================] - 1s 18ms/step - loss: 1.6635 - sparse_categorical_accuracy: 0.3913 - val_loss: 1.6247 - val_sparse_categorical_accuracy: 0.4427\n",
      "Epoch 44/200\n",
      "49/49 [==============================] - 1s 18ms/step - loss: 1.6639 - sparse_categorical_accuracy: 0.3913 - val_loss: 1.6234 - val_sparse_categorical_accuracy: 0.4427\n",
      "Epoch 45/200\n",
      "49/49 [==============================] - 1s 19ms/step - loss: 1.6644 - sparse_categorical_accuracy: 0.3913 - val_loss: 1.6235 - val_sparse_categorical_accuracy: 0.4427\n",
      "Epoch 46/200\n",
      "49/49 [==============================] - 1s 17ms/step - loss: 1.6626 - sparse_categorical_accuracy: 0.3887 - val_loss: 1.6240 - val_sparse_categorical_accuracy: 0.4427\n",
      "Epoch 47/200\n",
      "49/49 [==============================] - 1s 19ms/step - loss: 1.6627 - sparse_categorical_accuracy: 0.3887 - val_loss: 1.6217 - val_sparse_categorical_accuracy: 0.4427\n",
      "Epoch 48/200\n",
      "49/49 [==============================] - 1s 18ms/step - loss: 1.6621 - sparse_categorical_accuracy: 0.3887 - val_loss: 1.6238 - val_sparse_categorical_accuracy: 0.4427\n",
      "Epoch 49/200\n",
      "49/49 [==============================] - 1s 19ms/step - loss: 1.6635 - sparse_categorical_accuracy: 0.3913 - val_loss: 1.6241 - val_sparse_categorical_accuracy: 0.4427\n",
      "Epoch 50/200\n",
      "49/49 [==============================] - 1s 19ms/step - loss: 1.6615 - sparse_categorical_accuracy: 0.3913 - val_loss: 1.6208 - val_sparse_categorical_accuracy: 0.4427\n",
      "Epoch 51/200\n",
      "49/49 [==============================] - 1s 19ms/step - loss: 1.6644 - sparse_categorical_accuracy: 0.3913 - val_loss: 1.6208 - val_sparse_categorical_accuracy: 0.4427\n",
      "Epoch 52/200\n",
      "49/49 [==============================] - 1s 18ms/step - loss: 1.6649 - sparse_categorical_accuracy: 0.3913 - val_loss: 1.6227 - val_sparse_categorical_accuracy: 0.4427\n",
      "Epoch 53/200\n",
      "49/49 [==============================] - 1s 18ms/step - loss: 1.6612 - sparse_categorical_accuracy: 0.3913 - val_loss: 1.6234 - val_sparse_categorical_accuracy: 0.4427\n",
      "Epoch 54/200\n",
      "49/49 [==============================] - 1s 18ms/step - loss: 1.6611 - sparse_categorical_accuracy: 0.3913 - val_loss: 1.6242 - val_sparse_categorical_accuracy: 0.4427\n",
      "Epoch 55/200\n",
      "49/49 [==============================] - 1s 18ms/step - loss: 1.6601 - sparse_categorical_accuracy: 0.3913 - val_loss: 1.6198 - val_sparse_categorical_accuracy: 0.4427\n",
      "Epoch 56/200\n",
      "49/49 [==============================] - 1s 18ms/step - loss: 1.6613 - sparse_categorical_accuracy: 0.3913 - val_loss: 1.6246 - val_sparse_categorical_accuracy: 0.4427\n",
      "Epoch 57/200\n",
      "49/49 [==============================] - 1s 18ms/step - loss: 1.6602 - sparse_categorical_accuracy: 0.3913 - val_loss: 1.6171 - val_sparse_categorical_accuracy: 0.4427\n",
      "Epoch 58/200\n",
      "49/49 [==============================] - 1s 18ms/step - loss: 1.6611 - sparse_categorical_accuracy: 0.3913 - val_loss: 1.6219 - val_sparse_categorical_accuracy: 0.4427\n",
      "Epoch 59/200\n",
      "49/49 [==============================] - 1s 18ms/step - loss: 1.6611 - sparse_categorical_accuracy: 0.3913 - val_loss: 1.6203 - val_sparse_categorical_accuracy: 0.4427\n",
      "Epoch 60/200\n",
      "49/49 [==============================] - 1s 18ms/step - loss: 1.6611 - sparse_categorical_accuracy: 0.3887 - val_loss: 1.6232 - val_sparse_categorical_accuracy: 0.4427\n",
      "Epoch 61/200\n",
      "49/49 [==============================] - 1s 18ms/step - loss: 1.6595 - sparse_categorical_accuracy: 0.3862 - val_loss: 1.6212 - val_sparse_categorical_accuracy: 0.4427\n",
      "Epoch 62/200\n",
      "49/49 [==============================] - 1s 17ms/step - loss: 1.6603 - sparse_categorical_accuracy: 0.3913 - val_loss: 1.6234 - val_sparse_categorical_accuracy: 0.4427\n",
      "Epoch 63/200\n",
      "49/49 [==============================] - 1s 18ms/step - loss: 1.6606 - sparse_categorical_accuracy: 0.3862 - val_loss: 1.6166 - val_sparse_categorical_accuracy: 0.4427\n",
      "Epoch 64/200\n",
      "49/49 [==============================] - 1s 18ms/step - loss: 1.6593 - sparse_categorical_accuracy: 0.3913 - val_loss: 1.6273 - val_sparse_categorical_accuracy: 0.4427\n",
      "Epoch 65/200\n",
      "49/49 [==============================] - 1s 18ms/step - loss: 1.6602 - sparse_categorical_accuracy: 0.3913 - val_loss: 1.6250 - val_sparse_categorical_accuracy: 0.4427\n",
      "Epoch 66/200\n",
      "49/49 [==============================] - 1s 18ms/step - loss: 1.6616 - sparse_categorical_accuracy: 0.3887 - val_loss: 1.6207 - val_sparse_categorical_accuracy: 0.4427\n",
      "Epoch 67/200\n",
      "49/49 [==============================] - 1s 18ms/step - loss: 1.6592 - sparse_categorical_accuracy: 0.3913 - val_loss: 1.6224 - val_sparse_categorical_accuracy: 0.4427\n",
      "Epoch 68/200\n",
      "49/49 [==============================] - 1s 23ms/step - loss: 1.6612 - sparse_categorical_accuracy: 0.3862 - val_loss: 1.6175 - val_sparse_categorical_accuracy: 0.4427\n",
      "Epoch 69/200\n",
      "49/49 [==============================] - 1s 24ms/step - loss: 1.6612 - sparse_categorical_accuracy: 0.3887 - val_loss: 1.6229 - val_sparse_categorical_accuracy: 0.4466\n",
      "Epoch 70/200\n",
      "49/49 [==============================] - 1s 18ms/step - loss: 1.6603 - sparse_categorical_accuracy: 0.3887 - val_loss: 1.6204 - val_sparse_categorical_accuracy: 0.4427\n",
      "Epoch 71/200\n",
      "49/49 [==============================] - 1s 19ms/step - loss: 1.6586 - sparse_categorical_accuracy: 0.3887 - val_loss: 1.6210 - val_sparse_categorical_accuracy: 0.4427\n",
      "Epoch 72/200\n",
      "49/49 [==============================] - 1s 18ms/step - loss: 1.6587 - sparse_categorical_accuracy: 0.3913 - val_loss: 1.6200 - val_sparse_categorical_accuracy: 0.4427\n",
      "Epoch 73/200\n",
      "49/49 [==============================] - 1s 17ms/step - loss: 1.6622 - sparse_categorical_accuracy: 0.3913 - val_loss: 1.6276 - val_sparse_categorical_accuracy: 0.4427\n",
      "Epoch 74/200\n",
      "49/49 [==============================] - 1s 18ms/step - loss: 1.6607 - sparse_categorical_accuracy: 0.3887 - val_loss: 1.6284 - val_sparse_categorical_accuracy: 0.4466\n",
      "Epoch 75/200\n",
      "49/49 [==============================] - 1s 20ms/step - loss: 1.6591 - sparse_categorical_accuracy: 0.3887 - val_loss: 1.6233 - val_sparse_categorical_accuracy: 0.4466\n",
      "Epoch 76/200\n",
      "49/49 [==============================] - 1s 17ms/step - loss: 1.6579 - sparse_categorical_accuracy: 0.3887 - val_loss: 1.6220 - val_sparse_categorical_accuracy: 0.4427\n",
      "Epoch 77/200\n",
      "49/49 [==============================] - 1s 20ms/step - loss: 1.6587 - sparse_categorical_accuracy: 0.3862 - val_loss: 1.6231 - val_sparse_categorical_accuracy: 0.4427\n",
      "Epoch 78/200\n",
      "49/49 [==============================] - 1s 16ms/step - loss: 1.6586 - sparse_categorical_accuracy: 0.3913 - val_loss: 1.6218 - val_sparse_categorical_accuracy: 0.4427\n",
      "Epoch 79/200\n",
      "49/49 [==============================] - 1s 16ms/step - loss: 1.6591 - sparse_categorical_accuracy: 0.3887 - val_loss: 1.6196 - val_sparse_categorical_accuracy: 0.4427\n",
      "Epoch 80/200\n",
      "49/49 [==============================] - 1s 16ms/step - loss: 1.6586 - sparse_categorical_accuracy: 0.3913 - val_loss: 1.6310 - val_sparse_categorical_accuracy: 0.4427\n",
      "Epoch 81/200\n",
      "49/49 [==============================] - 1s 17ms/step - loss: 1.6603 - sparse_categorical_accuracy: 0.3887 - val_loss: 1.6218 - val_sparse_categorical_accuracy: 0.4427\n",
      "Epoch 82/200\n",
      "49/49 [==============================] - 1s 17ms/step - loss: 1.6583 - sparse_categorical_accuracy: 0.3887 - val_loss: 1.6244 - val_sparse_categorical_accuracy: 0.4427\n",
      "Epoch 83/200\n",
      "49/49 [==============================] - 1s 17ms/step - loss: 1.6588 - sparse_categorical_accuracy: 0.3862 - val_loss: 1.6208 - val_sparse_categorical_accuracy: 0.4427\n",
      "Epoch 84/200\n",
      "49/49 [==============================] - 1s 18ms/step - loss: 1.6582 - sparse_categorical_accuracy: 0.3913 - val_loss: 1.6202 - val_sparse_categorical_accuracy: 0.4427\n",
      "Epoch 85/200\n",
      "49/49 [==============================] - 1s 18ms/step - loss: 1.6601 - sparse_categorical_accuracy: 0.3913 - val_loss: 1.6245 - val_sparse_categorical_accuracy: 0.4427\n",
      "Epoch 86/200\n",
      "49/49 [==============================] - 1s 18ms/step - loss: 1.6581 - sparse_categorical_accuracy: 0.3887 - val_loss: 1.6214 - val_sparse_categorical_accuracy: 0.4466\n",
      "Epoch 87/200\n",
      "49/49 [==============================] - 1s 18ms/step - loss: 1.6588 - sparse_categorical_accuracy: 0.3862 - val_loss: 1.6216 - val_sparse_categorical_accuracy: 0.4466\n",
      "Epoch 88/200\n",
      "49/49 [==============================] - 1s 18ms/step - loss: 1.6580 - sparse_categorical_accuracy: 0.3862 - val_loss: 1.6220 - val_sparse_categorical_accuracy: 0.4466\n",
      "Epoch 89/200\n",
      "49/49 [==============================] - 1s 18ms/step - loss: 1.6573 - sparse_categorical_accuracy: 0.3887 - val_loss: 1.6225 - val_sparse_categorical_accuracy: 0.4427\n",
      "Epoch 90/200\n",
      "49/49 [==============================] - 1s 18ms/step - loss: 1.6576 - sparse_categorical_accuracy: 0.3887 - val_loss: 1.6214 - val_sparse_categorical_accuracy: 0.4427\n",
      "Epoch 91/200\n"
     ]
    },
    {
     "name": "stdout",
     "output_type": "stream",
     "text": [
      "49/49 [==============================] - 1s 17ms/step - loss: 1.6593 - sparse_categorical_accuracy: 0.3913 - val_loss: 1.6188 - val_sparse_categorical_accuracy: 0.4427\n",
      "Epoch 92/200\n",
      "49/49 [==============================] - 1s 17ms/step - loss: 1.6595 - sparse_categorical_accuracy: 0.3862 - val_loss: 1.6215 - val_sparse_categorical_accuracy: 0.4427\n",
      "Epoch 93/200\n",
      "49/49 [==============================] - 1s 17ms/step - loss: 1.6570 - sparse_categorical_accuracy: 0.3887 - val_loss: 1.6262 - val_sparse_categorical_accuracy: 0.4427\n",
      "Epoch 94/200\n",
      "49/49 [==============================] - 1s 18ms/step - loss: 1.6588 - sparse_categorical_accuracy: 0.3836 - val_loss: 1.6234 - val_sparse_categorical_accuracy: 0.4427\n",
      "Epoch 95/200\n",
      "49/49 [==============================] - 1s 18ms/step - loss: 1.6621 - sparse_categorical_accuracy: 0.3887 - val_loss: 1.6232 - val_sparse_categorical_accuracy: 0.4427\n",
      "Epoch 96/200\n",
      "49/49 [==============================] - 1s 17ms/step - loss: 1.6574 - sparse_categorical_accuracy: 0.3887 - val_loss: 1.6234 - val_sparse_categorical_accuracy: 0.4466\n",
      "Epoch 97/200\n",
      "49/49 [==============================] - 1s 17ms/step - loss: 1.6590 - sparse_categorical_accuracy: 0.3887 - val_loss: 1.6238 - val_sparse_categorical_accuracy: 0.4427\n",
      "Epoch 98/200\n",
      "49/49 [==============================] - 1s 17ms/step - loss: 1.6580 - sparse_categorical_accuracy: 0.3887 - val_loss: 1.6209 - val_sparse_categorical_accuracy: 0.4466\n",
      "Epoch 99/200\n",
      "49/49 [==============================] - 1s 17ms/step - loss: 1.6579 - sparse_categorical_accuracy: 0.3862 - val_loss: 1.6208 - val_sparse_categorical_accuracy: 0.4427\n",
      "Epoch 100/200\n",
      "49/49 [==============================] - 1s 27ms/step - loss: 1.6579 - sparse_categorical_accuracy: 0.3913 - val_loss: 1.6243 - val_sparse_categorical_accuracy: 0.4466\n",
      "Epoch 101/200\n",
      "49/49 [==============================] - 1s 20ms/step - loss: 1.6588 - sparse_categorical_accuracy: 0.3836 - val_loss: 1.6246 - val_sparse_categorical_accuracy: 0.4466\n",
      "Epoch 102/200\n",
      "49/49 [==============================] - 1s 18ms/step - loss: 1.6599 - sparse_categorical_accuracy: 0.3913 - val_loss: 1.6285 - val_sparse_categorical_accuracy: 0.4427\n",
      "Epoch 103/200\n",
      "49/49 [==============================] - 1s 18ms/step - loss: 1.6577 - sparse_categorical_accuracy: 0.3913 - val_loss: 1.6233 - val_sparse_categorical_accuracy: 0.4427\n",
      "Epoch 104/200\n",
      "49/49 [==============================] - 1s 17ms/step - loss: 1.6569 - sparse_categorical_accuracy: 0.3913 - val_loss: 1.6219 - val_sparse_categorical_accuracy: 0.4427\n",
      "Epoch 105/200\n",
      "49/49 [==============================] - 1s 18ms/step - loss: 1.6564 - sparse_categorical_accuracy: 0.3887 - val_loss: 1.6230 - val_sparse_categorical_accuracy: 0.4427\n",
      "Epoch 106/200\n",
      "49/49 [==============================] - 1s 20ms/step - loss: 1.6579 - sparse_categorical_accuracy: 0.3887 - val_loss: 1.6205 - val_sparse_categorical_accuracy: 0.4427\n",
      "Epoch 107/200\n",
      "49/49 [==============================] - 1s 26ms/step - loss: 1.6565 - sparse_categorical_accuracy: 0.3862 - val_loss: 1.6245 - val_sparse_categorical_accuracy: 0.4427\n",
      "Epoch 108/200\n",
      "49/49 [==============================] - ETA: 0s - loss: 1.6572 - sparse_categorical_accuracy: 0.3887"
     ]
    },
    {
     "ename": "KeyboardInterrupt",
     "evalue": "",
     "output_type": "error",
     "traceback": [
      "\u001b[1;31m---------------------------------------------------------------------------\u001b[0m",
      "\u001b[1;31mKeyboardInterrupt\u001b[0m                         Traceback (most recent call last)",
      "\u001b[1;32m~\\AppData\\Local\\Temp/ipykernel_2868/4023544780.py\u001b[0m in \u001b[0;36m<module>\u001b[1;34m\u001b[0m\n\u001b[0;32m      1\u001b[0m \u001b[1;31m# fit the model\u001b[0m\u001b[1;33m\u001b[0m\u001b[1;33m\u001b[0m\u001b[0m\n\u001b[1;32m----> 2\u001b[1;33m model.fit(data_train[[\"sig_gene_seq\"]].values, np.array(targets_train), verbose = 1, batch_size = 8, \n\u001b[0m\u001b[0;32m      3\u001b[0m          \u001b[0mvalidation_data\u001b[0m \u001b[1;33m=\u001b[0m \u001b[1;33m(\u001b[0m\u001b[0mdata_test\u001b[0m\u001b[1;33m[\u001b[0m\u001b[1;33m[\u001b[0m\u001b[1;34m\"sig_gene_seq\"\u001b[0m\u001b[1;33m]\u001b[0m\u001b[1;33m]\u001b[0m\u001b[1;33m.\u001b[0m\u001b[0mvalues\u001b[0m\u001b[1;33m,\u001b[0m \u001b[0mnp\u001b[0m\u001b[1;33m.\u001b[0m\u001b[0marray\u001b[0m\u001b[1;33m(\u001b[0m\u001b[0mtargets_test\u001b[0m\u001b[1;33m)\u001b[0m\u001b[1;33m)\u001b[0m\u001b[1;33m,\u001b[0m\u001b[1;33m\u001b[0m\u001b[1;33m\u001b[0m\u001b[0m\n\u001b[0;32m      4\u001b[0m          epochs = 200, callbacks = tf.keras.callbacks.EarlyStopping(monitor = \"val_loss\", \n\u001b[0;32m      5\u001b[0m                                                                    \u001b[0mpatience\u001b[0m \u001b[1;33m=\u001b[0m \u001b[1;36m50\u001b[0m\u001b[1;33m,\u001b[0m \u001b[0mmode\u001b[0m \u001b[1;33m=\u001b[0m \u001b[1;34m\"min\"\u001b[0m\u001b[1;33m,\u001b[0m\u001b[1;33m\u001b[0m\u001b[1;33m\u001b[0m\u001b[0m\n",
      "\u001b[1;32m~\\anaconda3\\envs\\newone\\lib\\site-packages\\keras\\engine\\training.py\u001b[0m in \u001b[0;36mfit\u001b[1;34m(self, x, y, batch_size, epochs, verbose, callbacks, validation_split, validation_data, shuffle, class_weight, sample_weight, initial_epoch, steps_per_epoch, validation_steps, validation_batch_size, validation_freq, max_queue_size, workers, use_multiprocessing)\u001b[0m\n\u001b[0;32m   1213\u001b[0m                 \u001b[0mmodel\u001b[0m\u001b[1;33m=\u001b[0m\u001b[0mself\u001b[0m\u001b[1;33m,\u001b[0m\u001b[1;33m\u001b[0m\u001b[1;33m\u001b[0m\u001b[0m\n\u001b[0;32m   1214\u001b[0m                 steps_per_execution=self._steps_per_execution)\n\u001b[1;32m-> 1215\u001b[1;33m           val_logs = self.evaluate(\n\u001b[0m\u001b[0;32m   1216\u001b[0m               \u001b[0mx\u001b[0m\u001b[1;33m=\u001b[0m\u001b[0mval_x\u001b[0m\u001b[1;33m,\u001b[0m\u001b[1;33m\u001b[0m\u001b[1;33m\u001b[0m\u001b[0m\n\u001b[0;32m   1217\u001b[0m               \u001b[0my\u001b[0m\u001b[1;33m=\u001b[0m\u001b[0mval_y\u001b[0m\u001b[1;33m,\u001b[0m\u001b[1;33m\u001b[0m\u001b[1;33m\u001b[0m\u001b[0m\n",
      "\u001b[1;32m~\\anaconda3\\envs\\newone\\lib\\site-packages\\keras\\engine\\training.py\u001b[0m in \u001b[0;36mevaluate\u001b[1;34m(self, x, y, batch_size, verbose, sample_weight, steps, callbacks, max_queue_size, workers, use_multiprocessing, return_dict, **kwargs)\u001b[0m\n\u001b[0;32m   1499\u001b[0m             \u001b[1;32mwith\u001b[0m \u001b[0mtf\u001b[0m\u001b[1;33m.\u001b[0m\u001b[0mprofiler\u001b[0m\u001b[1;33m.\u001b[0m\u001b[0mexperimental\u001b[0m\u001b[1;33m.\u001b[0m\u001b[0mTrace\u001b[0m\u001b[1;33m(\u001b[0m\u001b[1;34m'test'\u001b[0m\u001b[1;33m,\u001b[0m \u001b[0mstep_num\u001b[0m\u001b[1;33m=\u001b[0m\u001b[0mstep\u001b[0m\u001b[1;33m,\u001b[0m \u001b[0m_r\u001b[0m\u001b[1;33m=\u001b[0m\u001b[1;36m1\u001b[0m\u001b[1;33m)\u001b[0m\u001b[1;33m:\u001b[0m\u001b[1;33m\u001b[0m\u001b[1;33m\u001b[0m\u001b[0m\n\u001b[0;32m   1500\u001b[0m               \u001b[0mcallbacks\u001b[0m\u001b[1;33m.\u001b[0m\u001b[0mon_test_batch_begin\u001b[0m\u001b[1;33m(\u001b[0m\u001b[0mstep\u001b[0m\u001b[1;33m)\u001b[0m\u001b[1;33m\u001b[0m\u001b[1;33m\u001b[0m\u001b[0m\n\u001b[1;32m-> 1501\u001b[1;33m               \u001b[0mtmp_logs\u001b[0m \u001b[1;33m=\u001b[0m \u001b[0mself\u001b[0m\u001b[1;33m.\u001b[0m\u001b[0mtest_function\u001b[0m\u001b[1;33m(\u001b[0m\u001b[0miterator\u001b[0m\u001b[1;33m)\u001b[0m\u001b[1;33m\u001b[0m\u001b[1;33m\u001b[0m\u001b[0m\n\u001b[0m\u001b[0;32m   1502\u001b[0m               \u001b[1;32mif\u001b[0m \u001b[0mdata_handler\u001b[0m\u001b[1;33m.\u001b[0m\u001b[0mshould_sync\u001b[0m\u001b[1;33m:\u001b[0m\u001b[1;33m\u001b[0m\u001b[1;33m\u001b[0m\u001b[0m\n\u001b[0;32m   1503\u001b[0m                 \u001b[0mcontext\u001b[0m\u001b[1;33m.\u001b[0m\u001b[0masync_wait\u001b[0m\u001b[1;33m(\u001b[0m\u001b[1;33m)\u001b[0m\u001b[1;33m\u001b[0m\u001b[1;33m\u001b[0m\u001b[0m\n",
      "\u001b[1;32m~\\anaconda3\\envs\\newone\\lib\\site-packages\\tensorflow\\python\\eager\\def_function.py\u001b[0m in \u001b[0;36m__call__\u001b[1;34m(self, *args, **kwds)\u001b[0m\n\u001b[0;32m    883\u001b[0m \u001b[1;33m\u001b[0m\u001b[0m\n\u001b[0;32m    884\u001b[0m       \u001b[1;32mwith\u001b[0m \u001b[0mOptionalXlaContext\u001b[0m\u001b[1;33m(\u001b[0m\u001b[0mself\u001b[0m\u001b[1;33m.\u001b[0m\u001b[0m_jit_compile\u001b[0m\u001b[1;33m)\u001b[0m\u001b[1;33m:\u001b[0m\u001b[1;33m\u001b[0m\u001b[1;33m\u001b[0m\u001b[0m\n\u001b[1;32m--> 885\u001b[1;33m         \u001b[0mresult\u001b[0m \u001b[1;33m=\u001b[0m \u001b[0mself\u001b[0m\u001b[1;33m.\u001b[0m\u001b[0m_call\u001b[0m\u001b[1;33m(\u001b[0m\u001b[1;33m*\u001b[0m\u001b[0margs\u001b[0m\u001b[1;33m,\u001b[0m \u001b[1;33m**\u001b[0m\u001b[0mkwds\u001b[0m\u001b[1;33m)\u001b[0m\u001b[1;33m\u001b[0m\u001b[1;33m\u001b[0m\u001b[0m\n\u001b[0m\u001b[0;32m    886\u001b[0m \u001b[1;33m\u001b[0m\u001b[0m\n\u001b[0;32m    887\u001b[0m       \u001b[0mnew_tracing_count\u001b[0m \u001b[1;33m=\u001b[0m \u001b[0mself\u001b[0m\u001b[1;33m.\u001b[0m\u001b[0mexperimental_get_tracing_count\u001b[0m\u001b[1;33m(\u001b[0m\u001b[1;33m)\u001b[0m\u001b[1;33m\u001b[0m\u001b[1;33m\u001b[0m\u001b[0m\n",
      "\u001b[1;32m~\\anaconda3\\envs\\newone\\lib\\site-packages\\tensorflow\\python\\eager\\def_function.py\u001b[0m in \u001b[0;36m_call\u001b[1;34m(self, *args, **kwds)\u001b[0m\n\u001b[0;32m    922\u001b[0m       \u001b[1;31m# In this case we have not created variables on the first call. So we can\u001b[0m\u001b[1;33m\u001b[0m\u001b[1;33m\u001b[0m\u001b[0m\n\u001b[0;32m    923\u001b[0m       \u001b[1;31m# run the first trace but we should fail if variables are created.\u001b[0m\u001b[1;33m\u001b[0m\u001b[1;33m\u001b[0m\u001b[0m\n\u001b[1;32m--> 924\u001b[1;33m       \u001b[0mresults\u001b[0m \u001b[1;33m=\u001b[0m \u001b[0mself\u001b[0m\u001b[1;33m.\u001b[0m\u001b[0m_stateful_fn\u001b[0m\u001b[1;33m(\u001b[0m\u001b[1;33m*\u001b[0m\u001b[0margs\u001b[0m\u001b[1;33m,\u001b[0m \u001b[1;33m**\u001b[0m\u001b[0mkwds\u001b[0m\u001b[1;33m)\u001b[0m\u001b[1;33m\u001b[0m\u001b[1;33m\u001b[0m\u001b[0m\n\u001b[0m\u001b[0;32m    925\u001b[0m       \u001b[1;32mif\u001b[0m \u001b[0mself\u001b[0m\u001b[1;33m.\u001b[0m\u001b[0m_created_variables\u001b[0m \u001b[1;32mand\u001b[0m \u001b[1;32mnot\u001b[0m \u001b[0mALLOW_DYNAMIC_VARIABLE_CREATION\u001b[0m\u001b[1;33m:\u001b[0m\u001b[1;33m\u001b[0m\u001b[1;33m\u001b[0m\u001b[0m\n\u001b[0;32m    926\u001b[0m         raise ValueError(\"Creating variables on a non-first call to a function\"\n",
      "\u001b[1;32m~\\anaconda3\\envs\\newone\\lib\\site-packages\\tensorflow\\python\\eager\\function.py\u001b[0m in \u001b[0;36m__call__\u001b[1;34m(self, *args, **kwargs)\u001b[0m\n\u001b[0;32m   3037\u001b[0m       (graph_function,\n\u001b[0;32m   3038\u001b[0m        filtered_flat_args) = self._maybe_define_function(args, kwargs)\n\u001b[1;32m-> 3039\u001b[1;33m     return graph_function._call_flat(\n\u001b[0m\u001b[0;32m   3040\u001b[0m         filtered_flat_args, captured_inputs=graph_function.captured_inputs)  # pylint: disable=protected-access\n\u001b[0;32m   3041\u001b[0m \u001b[1;33m\u001b[0m\u001b[0m\n",
      "\u001b[1;32m~\\anaconda3\\envs\\newone\\lib\\site-packages\\tensorflow\\python\\eager\\function.py\u001b[0m in \u001b[0;36m_call_flat\u001b[1;34m(self, args, captured_inputs, cancellation_manager)\u001b[0m\n\u001b[0;32m   1961\u001b[0m         and executing_eagerly):\n\u001b[0;32m   1962\u001b[0m       \u001b[1;31m# No tape is watching; skip to running the function.\u001b[0m\u001b[1;33m\u001b[0m\u001b[1;33m\u001b[0m\u001b[0m\n\u001b[1;32m-> 1963\u001b[1;33m       return self._build_call_outputs(self._inference_function.call(\n\u001b[0m\u001b[0;32m   1964\u001b[0m           ctx, args, cancellation_manager=cancellation_manager))\n\u001b[0;32m   1965\u001b[0m     forward_backward = self._select_forward_and_backward_functions(\n",
      "\u001b[1;32m~\\anaconda3\\envs\\newone\\lib\\site-packages\\tensorflow\\python\\eager\\function.py\u001b[0m in \u001b[0;36mcall\u001b[1;34m(self, ctx, args, cancellation_manager)\u001b[0m\n\u001b[0;32m    589\u001b[0m       \u001b[1;32mwith\u001b[0m \u001b[0m_InterpolateFunctionError\u001b[0m\u001b[1;33m(\u001b[0m\u001b[0mself\u001b[0m\u001b[1;33m)\u001b[0m\u001b[1;33m:\u001b[0m\u001b[1;33m\u001b[0m\u001b[1;33m\u001b[0m\u001b[0m\n\u001b[0;32m    590\u001b[0m         \u001b[1;32mif\u001b[0m \u001b[0mcancellation_manager\u001b[0m \u001b[1;32mis\u001b[0m \u001b[1;32mNone\u001b[0m\u001b[1;33m:\u001b[0m\u001b[1;33m\u001b[0m\u001b[1;33m\u001b[0m\u001b[0m\n\u001b[1;32m--> 591\u001b[1;33m           outputs = execute.execute(\n\u001b[0m\u001b[0;32m    592\u001b[0m               \u001b[0mstr\u001b[0m\u001b[1;33m(\u001b[0m\u001b[0mself\u001b[0m\u001b[1;33m.\u001b[0m\u001b[0msignature\u001b[0m\u001b[1;33m.\u001b[0m\u001b[0mname\u001b[0m\u001b[1;33m)\u001b[0m\u001b[1;33m,\u001b[0m\u001b[1;33m\u001b[0m\u001b[1;33m\u001b[0m\u001b[0m\n\u001b[0;32m    593\u001b[0m               \u001b[0mnum_outputs\u001b[0m\u001b[1;33m=\u001b[0m\u001b[0mself\u001b[0m\u001b[1;33m.\u001b[0m\u001b[0m_num_outputs\u001b[0m\u001b[1;33m,\u001b[0m\u001b[1;33m\u001b[0m\u001b[1;33m\u001b[0m\u001b[0m\n",
      "\u001b[1;32m~\\anaconda3\\envs\\newone\\lib\\site-packages\\tensorflow\\python\\eager\\execute.py\u001b[0m in \u001b[0;36mquick_execute\u001b[1;34m(op_name, num_outputs, inputs, attrs, ctx, name)\u001b[0m\n\u001b[0;32m     57\u001b[0m   \u001b[1;32mtry\u001b[0m\u001b[1;33m:\u001b[0m\u001b[1;33m\u001b[0m\u001b[1;33m\u001b[0m\u001b[0m\n\u001b[0;32m     58\u001b[0m     \u001b[0mctx\u001b[0m\u001b[1;33m.\u001b[0m\u001b[0mensure_initialized\u001b[0m\u001b[1;33m(\u001b[0m\u001b[1;33m)\u001b[0m\u001b[1;33m\u001b[0m\u001b[1;33m\u001b[0m\u001b[0m\n\u001b[1;32m---> 59\u001b[1;33m     tensors = pywrap_tfe.TFE_Py_Execute(ctx._handle, device_name, op_name,\n\u001b[0m\u001b[0;32m     60\u001b[0m                                         inputs, attrs, num_outputs)\n\u001b[0;32m     61\u001b[0m   \u001b[1;32mexcept\u001b[0m \u001b[0mcore\u001b[0m\u001b[1;33m.\u001b[0m\u001b[0m_NotOkStatusException\u001b[0m \u001b[1;32mas\u001b[0m \u001b[0me\u001b[0m\u001b[1;33m:\u001b[0m\u001b[1;33m\u001b[0m\u001b[1;33m\u001b[0m\u001b[0m\n",
      "\u001b[1;31mKeyboardInterrupt\u001b[0m: "
     ]
    }
   ],
   "source": [
    "# fit the model\n",
    "model.fit(data_train[[\"sig_gene_seq\"]].values, np.array(targets_train), verbose = 1, batch_size = 8, \n",
    "         validation_data = (data_test[[\"sig_gene_seq\"]].values, np.array(targets_test)), \n",
    "         epochs = 200, callbacks = tf.keras.callbacks.EarlyStopping(monitor = \"val_loss\", \n",
    "                                                                   patience = 50, mode = \"min\",\n",
    "                                                                    restore_best_weights = True))"
   ]
  },
  {
   "cell_type": "markdown",
   "id": "a2d3f559",
   "metadata": {},
   "source": [
    "### Few Shot Learning"
   ]
  },
  {
   "cell_type": "markdown",
   "id": "4a82d52a",
   "metadata": {},
   "source": [
    "**High Level Goal** - We will handle the classes we lumped in the unknown class using few shot learning. "
   ]
  },
  {
   "cell_type": "code",
   "execution_count": 147,
   "id": "bd74e7bc",
   "metadata": {},
   "outputs": [
    {
     "data": {
      "text/plain": [
       "['beta-mannan',\n",
       " 'pectin',\n",
       " 'beta-glucan',\n",
       " 'galactan',\n",
       " 'cellulose',\n",
       " 'cellooligosaccharide',\n",
       " 'chitin',\n",
       " 'starch',\n",
       " 'other',\n",
       " 'alpha-mannan',\n",
       " 'fructan',\n",
       " 'alpha-glucan',\n",
       " 'glycogen',\n",
       " 'dextran',\n",
       " 'xanthan']"
      ]
     },
     "execution_count": 147,
     "metadata": {},
     "output_type": "execute_result"
    }
   ],
   "source": [
    "# unknown classes\n",
    "not_top_k"
   ]
  },
  {
   "cell_type": "code",
   "execution_count": 148,
   "id": "18b00e9b",
   "metadata": {},
   "outputs": [],
   "source": [
    "# get those data from the train data\n",
    "not_top_k_data_train = data_train[data_train.target.isin(not_top_k)].reset_index(drop = True)"
   ]
  },
  {
   "cell_type": "code",
   "execution_count": 149,
   "id": "4c86f9b0",
   "metadata": {},
   "outputs": [
    {
     "data": {
      "text/html": [
       "<div>\n",
       "<style scoped>\n",
       "    .dataframe tbody tr th:only-of-type {\n",
       "        vertical-align: middle;\n",
       "    }\n",
       "\n",
       "    .dataframe tbody tr th {\n",
       "        vertical-align: top;\n",
       "    }\n",
       "\n",
       "    .dataframe thead th {\n",
       "        text-align: right;\n",
       "    }\n",
       "</style>\n",
       "<table border=\"1\" class=\"dataframe\">\n",
       "  <thead>\n",
       "    <tr style=\"text-align: right;\">\n",
       "      <th></th>\n",
       "      <th>sequence</th>\n",
       "      <th>target</th>\n",
       "    </tr>\n",
       "  </thead>\n",
       "  <tbody>\n",
       "    <tr>\n",
       "      <th>0</th>\n",
       "      <td>4.A.3,4.A.3,4.A.3,8.A.49,GntR,GH26</td>\n",
       "      <td>beta-mannan</td>\n",
       "    </tr>\n",
       "    <tr>\n",
       "      <th>1</th>\n",
       "      <td>GH5,1.B.14,GH5,GH2,GH5,GH140,GH130,2.A.2,GH78|CBM67</td>\n",
       "      <td>other</td>\n",
       "    </tr>\n",
       "    <tr>\n",
       "      <th>2</th>\n",
       "      <td>Pyr_redox_2,GH13|CBM48,GT5,GT35,CBM34|GH13,3.A.1</td>\n",
       "      <td>glycogen</td>\n",
       "    </tr>\n",
       "    <tr>\n",
       "      <th>3</th>\n",
       "      <td>1.B.14,GH30,GH3</td>\n",
       "      <td>beta-glucan</td>\n",
       "    </tr>\n",
       "    <tr>\n",
       "      <th>4</th>\n",
       "      <td>GH16|GH0,GH3,SIS+SIS,GntR,1.A.30,1.A.30,1.B.14</td>\n",
       "      <td>chitin</td>\n",
       "    </tr>\n",
       "  </tbody>\n",
       "</table>\n",
       "</div>"
      ],
      "text/plain": [
       "                                              sequence       target\n",
       "0                   4.A.3,4.A.3,4.A.3,8.A.49,GntR,GH26  beta-mannan\n",
       "1  GH5,1.B.14,GH5,GH2,GH5,GH140,GH130,2.A.2,GH78|CBM67        other\n",
       "2     Pyr_redox_2,GH13|CBM48,GT5,GT35,CBM34|GH13,3.A.1     glycogen\n",
       "3                                      1.B.14,GH30,GH3  beta-glucan\n",
       "4       GH16|GH0,GH3,SIS+SIS,GntR,1.A.30,1.A.30,1.B.14       chitin"
      ]
     },
     "execution_count": 149,
     "metadata": {},
     "output_type": "execute_result"
    }
   ],
   "source": [
    "not_top_k_data_train.head()"
   ]
  },
  {
   "cell_type": "code",
   "execution_count": 150,
   "id": "0edf7a97",
   "metadata": {},
   "outputs": [
    {
     "data": {
      "text/plain": [
       "(109, 2)"
      ]
     },
     "execution_count": 150,
     "metadata": {},
     "output_type": "execute_result"
    }
   ],
   "source": [
    "# shape\n",
    "not_top_k_data_train.shape"
   ]
  },
  {
   "cell_type": "code",
   "execution_count": 151,
   "id": "9d77a536",
   "metadata": {},
   "outputs": [
    {
     "data": {
      "text/plain": [
       "beta-mannan             18\n",
       "pectin                  16\n",
       "beta-glucan             11\n",
       "galactan                10\n",
       "cellulose                9\n",
       "chitin                   8\n",
       "cellooligosaccharide     8\n",
       "starch                   7\n",
       "other                    6\n",
       "alpha-mannan             5\n",
       "fructan                  5\n",
       "alpha-glucan             3\n",
       "glycogen                 1\n",
       "dextran                  1\n",
       "xanthan                  1\n",
       "Name: target, dtype: int64"
      ]
     },
     "execution_count": 151,
     "metadata": {},
     "output_type": "execute_result"
    }
   ],
   "source": [
    "not_top_k_data_train[\"target\"].value_counts()"
   ]
  },
  {
   "cell_type": "code",
   "execution_count": 152,
   "id": "b944b92d",
   "metadata": {},
   "outputs": [],
   "source": [
    "# get those data from the test data\n",
    "not_top_k_data_test = data_test[data_test.target.isin(not_top_k)].reset_index(drop = True)"
   ]
  },
  {
   "cell_type": "code",
   "execution_count": 153,
   "id": "d6c65ec0",
   "metadata": {},
   "outputs": [
    {
     "data": {
      "text/html": [
       "<div>\n",
       "<style scoped>\n",
       "    .dataframe tbody tr th:only-of-type {\n",
       "        vertical-align: middle;\n",
       "    }\n",
       "\n",
       "    .dataframe tbody tr th {\n",
       "        vertical-align: top;\n",
       "    }\n",
       "\n",
       "    .dataframe thead th {\n",
       "        text-align: right;\n",
       "    }\n",
       "</style>\n",
       "<table border=\"1\" class=\"dataframe\">\n",
       "  <thead>\n",
       "    <tr style=\"text-align: right;\">\n",
       "      <th></th>\n",
       "      <th>sequence</th>\n",
       "      <th>target</th>\n",
       "    </tr>\n",
       "  </thead>\n",
       "  <tbody>\n",
       "    <tr>\n",
       "      <th>0</th>\n",
       "      <td>GH3,HTH_AraC,GH16,1.B.14,8.A.46,GH3</td>\n",
       "      <td>beta-glucan</td>\n",
       "    </tr>\n",
       "    <tr>\n",
       "      <th>1</th>\n",
       "      <td>GH130,LacI,GH130,SBP_bac_1,GH27,3.A.1,3.A.1,CE7</td>\n",
       "      <td>beta-mannan</td>\n",
       "    </tr>\n",
       "    <tr>\n",
       "      <th>2</th>\n",
       "      <td>8.A.9,CBM34|GH13,3.A.1,3.A.1,3.A.1</td>\n",
       "      <td>other</td>\n",
       "    </tr>\n",
       "    <tr>\n",
       "      <th>3</th>\n",
       "      <td>GH1,HTH_6+SIS,3.A.1,8.A.59,Response_reg+HTH_18+HTH_AraC,3.A.1,3.A.1,3.A.1</td>\n",
       "      <td>galactan</td>\n",
       "    </tr>\n",
       "    <tr>\n",
       "      <th>4</th>\n",
       "      <td>LacI,1.B.3,GH42,GH53,3.A.1,3.A.1,3.A.1,3.A.1</td>\n",
       "      <td>galactan</td>\n",
       "    </tr>\n",
       "  </tbody>\n",
       "</table>\n",
       "</div>"
      ],
      "text/plain": [
       "                                                                    sequence  \\\n",
       "0                                        GH3,HTH_AraC,GH16,1.B.14,8.A.46,GH3   \n",
       "1                            GH130,LacI,GH130,SBP_bac_1,GH27,3.A.1,3.A.1,CE7   \n",
       "2                                         8.A.9,CBM34|GH13,3.A.1,3.A.1,3.A.1   \n",
       "3  GH1,HTH_6+SIS,3.A.1,8.A.59,Response_reg+HTH_18+HTH_AraC,3.A.1,3.A.1,3.A.1   \n",
       "4                               LacI,1.B.3,GH42,GH53,3.A.1,3.A.1,3.A.1,3.A.1   \n",
       "\n",
       "        target  \n",
       "0  beta-glucan  \n",
       "1  beta-mannan  \n",
       "2        other  \n",
       "3     galactan  \n",
       "4     galactan  "
      ]
     },
     "execution_count": 153,
     "metadata": {},
     "output_type": "execute_result"
    }
   ],
   "source": [
    "not_top_k_data_test.head()"
   ]
  },
  {
   "cell_type": "code",
   "execution_count": 154,
   "id": "dc0a281a",
   "metadata": {},
   "outputs": [
    {
     "data": {
      "text/plain": [
       "(67, 2)"
      ]
     },
     "execution_count": 154,
     "metadata": {},
     "output_type": "execute_result"
    }
   ],
   "source": [
    "# shape\n",
    "not_top_k_data_test.shape"
   ]
  },
  {
   "cell_type": "code",
   "execution_count": 155,
   "id": "ba9c00da",
   "metadata": {},
   "outputs": [],
   "source": [
    "from metric_learn import NCA"
   ]
  },
  {
   "cell_type": "code",
   "execution_count": 156,
   "id": "69d701e1",
   "metadata": {},
   "outputs": [],
   "source": [
    "from sklearn.preprocessing import FunctionTransformer"
   ]
  },
  {
   "cell_type": "code",
   "execution_count": 157,
   "id": "ca143d22",
   "metadata": {},
   "outputs": [],
   "source": [
    "# classifier again\n",
    "clf = Pipeline([('countvectorizer', CountVectorizer(tokenizer=lambda x: x.split(','))),\n",
    "                ('ft', FunctionTransformer(lambda x: x.toarray(), accept_sparse=True)), \n",
    "                ('nca', NCA()),\n",
    "                ('rf', RandomForestClassifier(n_jobs = 6))])"
   ]
  },
  {
   "cell_type": "code",
   "execution_count": 158,
   "id": "c96bd2f3",
   "metadata": {},
   "outputs": [],
   "source": [
    "# Parameters of pipelines can be set using ‘__’ separated parameter names:\n",
    "param_grid = {\n",
    "    'countvectorizer__min_df': [1,2,3],\n",
    "    'rf__n_estimators': [100,200,400], \n",
    "    'rf__max_features': [\"auto\", \"log2\"]\n",
    "}"
   ]
  },
  {
   "cell_type": "code",
   "execution_count": 159,
   "id": "a8397854",
   "metadata": {},
   "outputs": [
    {
     "name": "stdout",
     "output_type": "stream",
     "text": [
      "Fitting 5 folds for each of 18 candidates, totalling 90 fits\n"
     ]
    },
    {
     "name": "stderr",
     "output_type": "stream",
     "text": [
      "C:\\Users\\vedpi\\anaconda3\\envs\\newone\\lib\\site-packages\\sklearn\\model_selection\\_split.py:676: UserWarning: The least populated class in y has only 1 members, which is less than n_splits=5.\n",
      "  warnings.warn(\n"
     ]
    },
    {
     "data": {
      "text/plain": [
       "GridSearchCV(cv=5,\n",
       "             estimator=Pipeline(steps=[('countvectorizer',\n",
       "                                        CountVectorizer(tokenizer=<function <lambda> at 0x00000228B1343310>)),\n",
       "                                       ('ft',\n",
       "                                        FunctionTransformer(accept_sparse=True,\n",
       "                                                            func=<function <lambda> at 0x00000228B14BD790>)),\n",
       "                                       ('nca', NCA()),\n",
       "                                       ('rf',\n",
       "                                        RandomForestClassifier(n_jobs=6))]),\n",
       "             n_jobs=6,\n",
       "             param_grid={'countvectorizer__min_df': [1, 2, 3],\n",
       "                         'rf__max_features': ['auto', 'log2'],\n",
       "                         'rf__n_estimators': [100, 200, 400]},\n",
       "             scoring='accuracy', verbose=3)"
      ]
     },
     "execution_count": 159,
     "metadata": {},
     "output_type": "execute_result"
    }
   ],
   "source": [
    "# fit the search\n",
    "search = GridSearchCV(clf, param_grid, n_jobs=6 , verbose = 3, cv = 5, scoring = \"accuracy\")\n",
    "search.fit(not_top_k_data_train[\"sequence\"], not_top_k_data_train[\"target\"])"
   ]
  },
  {
   "cell_type": "code",
   "execution_count": 160,
   "id": "52216984",
   "metadata": {},
   "outputs": [
    {
     "data": {
      "text/plain": [
       "0.5593073593073592"
      ]
     },
     "execution_count": 160,
     "metadata": {},
     "output_type": "execute_result"
    }
   ],
   "source": [
    "# mean average accuracy\n",
    "search.best_score_"
   ]
  },
  {
   "cell_type": "code",
   "execution_count": 161,
   "id": "88738bf6",
   "metadata": {},
   "outputs": [
    {
     "data": {
      "text/plain": [
       "0.06971713294960137"
      ]
     },
     "execution_count": 161,
     "metadata": {},
     "output_type": "execute_result"
    }
   ],
   "source": [
    "# standard error\n",
    "search.cv_results_['std_test_score'][np.argmax(search.cv_results_['mean_test_score'])]"
   ]
  },
  {
   "cell_type": "code",
   "execution_count": 162,
   "id": "7aea4345",
   "metadata": {},
   "outputs": [
    {
     "data": {
      "text/plain": [
       "{'countvectorizer__min_df': 3,\n",
       " 'rf__max_features': 'log2',\n",
       " 'rf__n_estimators': 100}"
      ]
     },
     "execution_count": 162,
     "metadata": {},
     "output_type": "execute_result"
    }
   ],
   "source": [
    "# best parameters\n",
    "search.best_params_"
   ]
  },
  {
   "cell_type": "code",
   "execution_count": 163,
   "id": "a46b530d",
   "metadata": {},
   "outputs": [],
   "source": [
    "# get the best estimator\n",
    "best_estimator = search.best_estimator_"
   ]
  },
  {
   "cell_type": "code",
   "execution_count": 164,
   "id": "e5532805",
   "metadata": {},
   "outputs": [
    {
     "data": {
      "text/plain": [
       "Pipeline(steps=[('countvectorizer',\n",
       "                 CountVectorizer(min_df=3,\n",
       "                                 tokenizer=<function <lambda> at 0x00000228B1343310>)),\n",
       "                ('ft',\n",
       "                 FunctionTransformer(accept_sparse=True,\n",
       "                                     func=<function <lambda> at 0x00000228B14BD790>)),\n",
       "                ('nca', NCA()),\n",
       "                ('rf', RandomForestClassifier(max_features='log2', n_jobs=6))])"
      ]
     },
     "execution_count": 164,
     "metadata": {},
     "output_type": "execute_result"
    }
   ],
   "source": [
    "# fit again\n",
    "best_estimator.fit(not_top_k_data_train[\"sequence\"], not_top_k_data_train[\"target\"])"
   ]
  },
  {
   "cell_type": "code",
   "execution_count": 165,
   "id": "58912797",
   "metadata": {},
   "outputs": [],
   "source": [
    "# predicitions on test\n",
    "y_test_pred = best_estimator.predict(not_top_k_data_test[\"sequence\"])"
   ]
  },
  {
   "cell_type": "code",
   "execution_count": 166,
   "id": "c8335274",
   "metadata": {},
   "outputs": [],
   "source": [
    "# get the array of confusion matrix\n",
    "cm = confusion_matrix(not_top_k_data_test[\"target\"], y_test_pred)"
   ]
  },
  {
   "cell_type": "code",
   "execution_count": 168,
   "id": "1324a751",
   "metadata": {},
   "outputs": [
    {
     "data": {
      "text/plain": [
       "['alpha-glucan', 'cellooligosaccharide', 'xanthan']"
      ]
     },
     "execution_count": 168,
     "metadata": {},
     "output_type": "execute_result"
    }
   ],
   "source": [
    "# which is the missing class\n",
    "missing_classes = [classes for classes in best_estimator.classes_ if classes not in np.unique(not_top_k_data_test[\"target\"])]\n",
    "\n",
    "missing_classes"
   ]
  },
  {
   "cell_type": "code",
   "execution_count": 169,
   "id": "5151b3ee",
   "metadata": {},
   "outputs": [
    {
     "ename": "ValueError",
     "evalue": "Shape of passed values is (14, 14), indices imply (12, 12)",
     "output_type": "error",
     "traceback": [
      "\u001b[1;31m---------------------------------------------------------------------------\u001b[0m",
      "\u001b[1;31mValueError\u001b[0m                                Traceback (most recent call last)",
      "\u001b[1;32m~\\AppData\\Local\\Temp/ipykernel_8280/2307900344.py\u001b[0m in \u001b[0;36m<module>\u001b[1;34m\u001b[0m\n\u001b[0;32m      1\u001b[0m \u001b[1;31m# dataframe for confusion matrix\u001b[0m\u001b[1;33m\u001b[0m\u001b[1;33m\u001b[0m\u001b[0m\n\u001b[1;32m----> 2\u001b[1;33m df_cm = pd.DataFrame(cm, index = [i for i in best_estimator.classes_ if i not in missing_classes],\n\u001b[0m\u001b[0;32m      3\u001b[0m                   columns = [i for i in best_estimator.classes_ if i not in missing_classes])\n",
      "\u001b[1;32m~\\anaconda3\\envs\\newone\\lib\\site-packages\\pandas\\core\\frame.py\u001b[0m in \u001b[0;36m__init__\u001b[1;34m(self, data, index, columns, dtype, copy)\u001b[0m\n\u001b[0;32m    670\u001b[0m                 )\n\u001b[0;32m    671\u001b[0m             \u001b[1;32melse\u001b[0m\u001b[1;33m:\u001b[0m\u001b[1;33m\u001b[0m\u001b[1;33m\u001b[0m\u001b[0m\n\u001b[1;32m--> 672\u001b[1;33m                 mgr = ndarray_to_mgr(\n\u001b[0m\u001b[0;32m    673\u001b[0m                     \u001b[0mdata\u001b[0m\u001b[1;33m,\u001b[0m\u001b[1;33m\u001b[0m\u001b[1;33m\u001b[0m\u001b[0m\n\u001b[0;32m    674\u001b[0m                     \u001b[0mindex\u001b[0m\u001b[1;33m,\u001b[0m\u001b[1;33m\u001b[0m\u001b[1;33m\u001b[0m\u001b[0m\n",
      "\u001b[1;32m~\\anaconda3\\envs\\newone\\lib\\site-packages\\pandas\\core\\internals\\construction.py\u001b[0m in \u001b[0;36mndarray_to_mgr\u001b[1;34m(values, index, columns, dtype, copy, typ)\u001b[0m\n\u001b[0;32m    322\u001b[0m     )\n\u001b[0;32m    323\u001b[0m \u001b[1;33m\u001b[0m\u001b[0m\n\u001b[1;32m--> 324\u001b[1;33m     \u001b[0m_check_values_indices_shape_match\u001b[0m\u001b[1;33m(\u001b[0m\u001b[0mvalues\u001b[0m\u001b[1;33m,\u001b[0m \u001b[0mindex\u001b[0m\u001b[1;33m,\u001b[0m \u001b[0mcolumns\u001b[0m\u001b[1;33m)\u001b[0m\u001b[1;33m\u001b[0m\u001b[1;33m\u001b[0m\u001b[0m\n\u001b[0m\u001b[0;32m    325\u001b[0m \u001b[1;33m\u001b[0m\u001b[0m\n\u001b[0;32m    326\u001b[0m     \u001b[1;32mif\u001b[0m \u001b[0mtyp\u001b[0m \u001b[1;33m==\u001b[0m \u001b[1;34m\"array\"\u001b[0m\u001b[1;33m:\u001b[0m\u001b[1;33m\u001b[0m\u001b[1;33m\u001b[0m\u001b[0m\n",
      "\u001b[1;32m~\\anaconda3\\envs\\newone\\lib\\site-packages\\pandas\\core\\internals\\construction.py\u001b[0m in \u001b[0;36m_check_values_indices_shape_match\u001b[1;34m(values, index, columns)\u001b[0m\n\u001b[0;32m    391\u001b[0m         \u001b[0mpassed\u001b[0m \u001b[1;33m=\u001b[0m \u001b[0mvalues\u001b[0m\u001b[1;33m.\u001b[0m\u001b[0mshape\u001b[0m\u001b[1;33m\u001b[0m\u001b[1;33m\u001b[0m\u001b[0m\n\u001b[0;32m    392\u001b[0m         \u001b[0mimplied\u001b[0m \u001b[1;33m=\u001b[0m \u001b[1;33m(\u001b[0m\u001b[0mlen\u001b[0m\u001b[1;33m(\u001b[0m\u001b[0mindex\u001b[0m\u001b[1;33m)\u001b[0m\u001b[1;33m,\u001b[0m \u001b[0mlen\u001b[0m\u001b[1;33m(\u001b[0m\u001b[0mcolumns\u001b[0m\u001b[1;33m)\u001b[0m\u001b[1;33m)\u001b[0m\u001b[1;33m\u001b[0m\u001b[1;33m\u001b[0m\u001b[0m\n\u001b[1;32m--> 393\u001b[1;33m         \u001b[1;32mraise\u001b[0m \u001b[0mValueError\u001b[0m\u001b[1;33m(\u001b[0m\u001b[1;34mf\"Shape of passed values is {passed}, indices imply {implied}\"\u001b[0m\u001b[1;33m)\u001b[0m\u001b[1;33m\u001b[0m\u001b[1;33m\u001b[0m\u001b[0m\n\u001b[0m\u001b[0;32m    394\u001b[0m \u001b[1;33m\u001b[0m\u001b[0m\n\u001b[0;32m    395\u001b[0m \u001b[1;33m\u001b[0m\u001b[0m\n",
      "\u001b[1;31mValueError\u001b[0m: Shape of passed values is (14, 14), indices imply (12, 12)"
     ]
    }
   ],
   "source": [
    "# dataframe for confusion matrix\n",
    "df_cm = pd.DataFrame(cm, index = [i for i in best_estimator.classes_ if i not in missing_classes],\n",
    "                  columns = [i for i in best_estimator.classes_ if i not in missing_classes])"
   ]
  },
  {
   "cell_type": "code",
   "execution_count": null,
   "id": "a4b92588",
   "metadata": {},
   "outputs": [],
   "source": [
    "# make the plot\n",
    "plt.figure(figsize = (10, 8))\n",
    "sns.heatmap(df_cm, annot = True)\n",
    "plt.title(\"confusion matrix for the test set\", fontsize = 20)\n",
    "plt.xlabel(\"Predicted Label\", fontsize = 20)\n",
    "plt.ylabel(\"True Label\", fontsize = 20)\n",
    "plt.show()\n"
   ]
  },
  {
   "cell_type": "code",
   "execution_count": null,
   "id": "16905cc6",
   "metadata": {},
   "outputs": [],
   "source": [
    "## get the accuracy"
   ]
  },
  {
   "cell_type": "code",
   "execution_count": null,
   "id": "118337cf",
   "metadata": {},
   "outputs": [],
   "source": [
    "accuracy_score(not_top_k_data_test[\"target\"], y_test_pred)"
   ]
  },
  {
   "cell_type": "markdown",
   "id": "eab9bec3",
   "metadata": {},
   "source": [
    "### Maybe another random forest for the unknowns?"
   ]
  },
  {
   "cell_type": "code",
   "execution_count": null,
   "id": "13391e4a",
   "metadata": {},
   "outputs": [],
   "source": [
    "clf = Pipeline([('countvectorizer',CountVectorizer(tokenizer=lambda x: x.split(','))),\n",
    "                ('rf',RandomForestClassifier(n_jobs = 6))])\n",
    "# Parameters of pipelines can be set using ‘__’ separated parameter names:\n",
    "param_grid = {\n",
    "    'countvectorizer__min_df': [1,2],\n",
    "    'rf__n_estimators': [100,200,400], \n",
    "    'rf__max_features': [\"auto\", \"log2\"]\n",
    "}\n",
    "# fit the search\n",
    "search = GridSearchCV(clf, param_grid, n_jobs=7 , verbose = 3, cv = 5, scoring = \"accuracy\")\n",
    "# fir the grid search\n",
    "search.fit(not_top_k_data_train[\"sequence\"], not_top_k_data_train[\"target\"])"
   ]
  },
  {
   "cell_type": "code",
   "execution_count": null,
   "id": "b7c1e226",
   "metadata": {},
   "outputs": [],
   "source": [
    "# mean average accuracy\n",
    "search.best_score_"
   ]
  },
  {
   "cell_type": "code",
   "execution_count": null,
   "id": "f6e5264d",
   "metadata": {},
   "outputs": [],
   "source": [
    "# standard error\n",
    "search.cv_results_['std_test_score'][np.argmax(search.cv_results_['mean_test_score'])]"
   ]
  },
  {
   "cell_type": "code",
   "execution_count": null,
   "id": "bf8e78cc",
   "metadata": {},
   "outputs": [],
   "source": [
    "# best parameters\n",
    "search.best_params_"
   ]
  },
  {
   "cell_type": "code",
   "execution_count": null,
   "id": "5cd67aa6",
   "metadata": {},
   "outputs": [],
   "source": [
    "# get the best estimator\n",
    "best_estimator = search.best_estimator_"
   ]
  },
  {
   "cell_type": "code",
   "execution_count": null,
   "id": "25ee12bc",
   "metadata": {},
   "outputs": [],
   "source": [
    "# fit again\n",
    "best_estimator.fit(not_top_k_data_train[\"sequence\"], not_top_k_data_train[\"target\"])"
   ]
  },
  {
   "cell_type": "code",
   "execution_count": null,
   "id": "22a7c3b7",
   "metadata": {},
   "outputs": [],
   "source": [
    "# predicitions on test\n",
    "y_test_pred = best_estimator.predict(not_top_k_data_test[\"sequence\"])"
   ]
  },
  {
   "cell_type": "code",
   "execution_count": null,
   "id": "7d74c914",
   "metadata": {},
   "outputs": [],
   "source": [
    "# get the array of confusion matrix\n",
    "cm = confusion_matrix(not_top_k_data_test[\"target\"], y_test_pred)"
   ]
  },
  {
   "cell_type": "code",
   "execution_count": null,
   "id": "91d90e1d",
   "metadata": {},
   "outputs": [],
   "source": [
    "# in train there was one more class than the test\n",
    "best_estimator.classes_"
   ]
  },
  {
   "cell_type": "code",
   "execution_count": null,
   "id": "e8e0c7db",
   "metadata": {},
   "outputs": [],
   "source": [
    "# which is the missing class\n",
    "missing_classes = [classes for classes in best_estimator.classes_ if classes not in np.unique(not_top_k_data_test[\"target\"])]"
   ]
  },
  {
   "cell_type": "code",
   "execution_count": null,
   "id": "3cc3fb17",
   "metadata": {},
   "outputs": [],
   "source": [
    "missing_classes"
   ]
  },
  {
   "cell_type": "code",
   "execution_count": null,
   "id": "1bb70be0",
   "metadata": {},
   "outputs": [],
   "source": [
    "# dataframe for confusion matrix\n",
    "df_cm = pd.DataFrame(cm, index = [i for i in best_estimator.classes_ if i not in missing_classes],\n",
    "                  columns = [i for i in best_estimator.classes_ if i not in missing_classes] )"
   ]
  },
  {
   "cell_type": "code",
   "execution_count": null,
   "id": "ae6dd9eb",
   "metadata": {},
   "outputs": [],
   "source": [
    "# make the plot\n",
    "plt.figure(figsize = (10, 8))\n",
    "sns.heatmap(df_cm, annot = True)\n",
    "plt.title(\"confusion matrix for the test set\", fontsize = 20)\n",
    "plt.xlabel(\"Predicted Label\", fontsize = 20)\n",
    "plt.ylabel(\"True Label\", fontsize = 20)\n",
    "plt.show()\n"
   ]
  },
  {
   "cell_type": "code",
   "execution_count": null,
   "id": "f92719bd",
   "metadata": {},
   "outputs": [],
   "source": [
    "## get the accuracy"
   ]
  },
  {
   "cell_type": "code",
   "execution_count": null,
   "id": "ff1d15b3",
   "metadata": {},
   "outputs": [],
   "source": [
    "accuracy_score(not_top_k_data_test[\"target\"], y_test_pred)"
   ]
  },
  {
   "cell_type": "markdown",
   "id": "8696c38e",
   "metadata": {},
   "source": [
    "### Metric Learning and MDS"
   ]
  },
  {
   "cell_type": "markdown",
   "id": "7d941e09",
   "metadata": {},
   "source": [
    "### Try some semi supervised learning"
   ]
  },
  {
   "cell_type": "code",
   "execution_count": 86,
   "id": "6598a10e",
   "metadata": {},
   "outputs": [],
   "source": [
    "unsupervised = pd.read_csv(\"all_unsupervised_genes.csv\")"
   ]
  },
  {
   "cell_type": "code",
   "execution_count": 87,
   "id": "f8e57635",
   "metadata": {},
   "outputs": [
    {
     "data": {
      "text/html": [
       "<div>\n",
       "<style scoped>\n",
       "    .dataframe tbody tr th:only-of-type {\n",
       "        vertical-align: middle;\n",
       "    }\n",
       "\n",
       "    .dataframe tbody tr th {\n",
       "        vertical-align: top;\n",
       "    }\n",
       "\n",
       "    .dataframe thead th {\n",
       "        text-align: right;\n",
       "    }\n",
       "</style>\n",
       "<table border=\"1\" class=\"dataframe\">\n",
       "  <thead>\n",
       "    <tr style=\"text-align: right;\">\n",
       "      <th></th>\n",
       "      <th>sequence</th>\n",
       "    </tr>\n",
       "  </thead>\n",
       "  <tbody>\n",
       "    <tr>\n",
       "      <th>0</th>\n",
       "      <td>1.A.72,MerR,GH23</td>\n",
       "    </tr>\n",
       "    <tr>\n",
       "      <th>1</th>\n",
       "      <td>3.A.1,CE4</td>\n",
       "    </tr>\n",
       "    <tr>\n",
       "      <th>2</th>\n",
       "      <td>3.A.23,9.A.5,MCPsignal,2.A.21,2.A.22,TetR_N,3.A.1,3.A.1,HATPase_c|HisKA,1.A.8,2.A.25,2.A.66,4.A.1,GH13_29,GntR,3.A.1,GGDEF|PAS,DeoRC|HTH_DeoR,PfkB,4.A.2,2.A.88</td>\n",
       "    </tr>\n",
       "    <tr>\n",
       "      <th>3</th>\n",
       "      <td>CE4,8.A.5,3.A.1,3.A.1,3.A.1</td>\n",
       "    </tr>\n",
       "    <tr>\n",
       "      <th>4</th>\n",
       "      <td>GT51,Peripla_BP_2,3.A.1,3.A.1,9.B.169</td>\n",
       "    </tr>\n",
       "  </tbody>\n",
       "</table>\n",
       "</div>"
      ],
      "text/plain": [
       "                                                                                                                                                          sequence\n",
       "0                                                                                                                                                 1.A.72,MerR,GH23\n",
       "1                                                                                                                                                        3.A.1,CE4\n",
       "2  3.A.23,9.A.5,MCPsignal,2.A.21,2.A.22,TetR_N,3.A.1,3.A.1,HATPase_c|HisKA,1.A.8,2.A.25,2.A.66,4.A.1,GH13_29,GntR,3.A.1,GGDEF|PAS,DeoRC|HTH_DeoR,PfkB,4.A.2,2.A.88\n",
       "3                                                                                                                                      CE4,8.A.5,3.A.1,3.A.1,3.A.1\n",
       "4                                                                                                                            GT51,Peripla_BP_2,3.A.1,3.A.1,9.B.169"
      ]
     },
     "execution_count": 87,
     "metadata": {},
     "output_type": "execute_result"
    }
   ],
   "source": [
    "unsupervised.head()"
   ]
  },
  {
   "cell_type": "code",
   "execution_count": 89,
   "id": "270c9c91",
   "metadata": {},
   "outputs": [],
   "source": [
    "# keep the sequences which have atleast one gene occuring in the training data? "
   ]
  },
  {
   "cell_type": "code",
   "execution_count": 90,
   "id": "832027a0",
   "metadata": {},
   "outputs": [],
   "source": [
    "# training data genes"
   ]
  },
  {
   "cell_type": "code",
   "execution_count": 88,
   "id": "c38eb24a",
   "metadata": {},
   "outputs": [],
   "source": [
    "train_genes = [gene for seq in data_train[\"sig_gene_seq\"].values for gene in seq.split(\",\")]"
   ]
  },
  {
   "cell_type": "code",
   "execution_count": 89,
   "id": "c738a5dd",
   "metadata": {},
   "outputs": [
    {
     "data": {
      "application/vnd.jupyter.widget-view+json": {
       "model_id": "0b375a162f414c8ea253a8745d00b18f",
       "version_major": 2,
       "version_minor": 0
      },
      "text/plain": [
       "  0%|          | 0/771293 [00:00<?, ?it/s]"
      ]
     },
     "metadata": {},
     "output_type": "display_data"
    }
   ],
   "source": [
    "unsupervised_seq_to_supervised = []\n",
    "for seq in tqdm(unsupervised[\"sequence\"]): \n",
    "    unsupervised_genes = seq.split(\",\")\n",
    "    if len(set(unsupervised_genes).intersection(train_genes)) > 3:\n",
    "        unsupervised_seq_to_supervised.append(seq)\n",
    "        "
   ]
  },
  {
   "cell_type": "code",
   "execution_count": 90,
   "id": "2df8ea30",
   "metadata": {},
   "outputs": [
    {
     "data": {
      "text/plain": [
       "288867"
      ]
     },
     "execution_count": 90,
     "metadata": {},
     "output_type": "execute_result"
    }
   ],
   "source": [
    "len(unsupervised_seq_to_supervised)"
   ]
  },
  {
   "cell_type": "code",
   "execution_count": 91,
   "id": "04dfa730",
   "metadata": {},
   "outputs": [],
   "source": [
    "preds = best_estimator.predict(unsupervised_seq_to_supervised)"
   ]
  },
  {
   "cell_type": "code",
   "execution_count": 92,
   "id": "0bcffe3b",
   "metadata": {},
   "outputs": [
    {
     "data": {
      "text/plain": [
       "Counter({'mono/di/trisaccharide': 114698,\n",
       "         'multiple_substrates': 49335,\n",
       "         'other': 51292,\n",
       "         'capsule polysaccharide': 46574,\n",
       "         'O-antigen': 23249,\n",
       "         'algal glycans': 2064,\n",
       "         'pectin': 1655})"
      ]
     },
     "execution_count": 92,
     "metadata": {},
     "output_type": "execute_result"
    }
   ],
   "source": [
    "Counter(preds)"
   ]
  },
  {
   "cell_type": "code",
   "execution_count": 93,
   "id": "304d82ec",
   "metadata": {},
   "outputs": [],
   "source": [
    "preds_proba = best_estimator.predict_proba(unsupervised_seq_to_supervised)"
   ]
  },
  {
   "cell_type": "code",
   "execution_count": 94,
   "id": "79e2e33e",
   "metadata": {},
   "outputs": [],
   "source": [
    "max_probs = preds_proba.max(axis = 1)"
   ]
  },
  {
   "cell_type": "code",
   "execution_count": 95,
   "id": "8a75e4d9",
   "metadata": {},
   "outputs": [
    {
     "data": {
      "text/plain": [
       "(array([1.00960e+04, 5.22030e+04, 1.05492e+05, 6.80790e+04, 2.53810e+04,\n",
       "        1.42860e+04, 7.63000e+03, 3.32000e+03, 2.36400e+03, 1.60000e+01]),\n",
       " array([0.16  , 0.2225, 0.285 , 0.3475, 0.41  , 0.4725, 0.535 , 0.5975,\n",
       "        0.66  , 0.7225, 0.785 ]),\n",
       " <BarContainer object of 10 artists>)"
      ]
     },
     "execution_count": 95,
     "metadata": {},
     "output_type": "execute_result"
    },
    {
     "data": {
      "image/png": "[encoded data removed]",
      "text/plain": [
       "<Figure size 432x288 with 1 Axes>"
      ]
     },
     "metadata": {
      "needs_background": "light"
     },
     "output_type": "display_data"
    }
   ],
   "source": [
    "plt.hist(max_probs)"
   ]
  },
  {
   "cell_type": "code",
   "execution_count": 96,
   "id": "2208f036",
   "metadata": {},
   "outputs": [],
   "source": [
    "zipped = list(zip(unsupervised_seq_to_supervised, preds, max_probs))"
   ]
  },
  {
   "cell_type": "code",
   "execution_count": 102,
   "id": "77d75298",
   "metadata": {},
   "outputs": [],
   "source": [
    "# combine all together\n",
    "unsupervised_data_with_preds = pd.DataFrame(zipped, columns = [\"sig_gene_seq\", \"high_level_substr\", \"prediction_prob\"])"
   ]
  },
  {
   "cell_type": "code",
   "execution_count": 107,
   "id": "b8077a75",
   "metadata": {},
   "outputs": [],
   "source": [
    "unsupervised_data_with_preds_sure = unsupervised_data_with_preds[unsupervised_data_with_preds[\"prediction_prob\"] > 0.4]"
   ]
  },
  {
   "cell_type": "code",
   "execution_count": 108,
   "id": "3e90866c",
   "metadata": {},
   "outputs": [
    {
     "data": {
      "text/plain": [
       "mono/di/trisaccharide     28270\n",
       "capsule polysaccharide    17170\n",
       "other                     10384\n",
       "multiple_substrates        3279\n",
       "pectin                      468\n",
       "O-antigen                   379\n",
       "algal glycans               253\n",
       "Name: high_level_substr, dtype: int64"
      ]
     },
     "execution_count": 108,
     "metadata": {},
     "output_type": "execute_result"
    }
   ],
   "source": [
    "unsupervised_data_with_preds_sure[\"high_level_substr\"].value_counts()"
   ]
  },
  {
   "cell_type": "code",
   "execution_count": 115,
   "id": "05cb3e5f",
   "metadata": {},
   "outputs": [
    {
     "data": {
      "text/html": [
       "<div>\n",
       "<style scoped>\n",
       "    .dataframe tbody tr th:only-of-type {\n",
       "        vertical-align: middle;\n",
       "    }\n",
       "\n",
       "    .dataframe tbody tr th {\n",
       "        vertical-align: top;\n",
       "    }\n",
       "\n",
       "    .dataframe thead th {\n",
       "        text-align: right;\n",
       "    }\n",
       "</style>\n",
       "<table border=\"1\" class=\"dataframe\">\n",
       "  <thead>\n",
       "    <tr style=\"text-align: right;\">\n",
       "      <th></th>\n",
       "      <th>sig_gene_seq</th>\n",
       "      <th>high_level_substr</th>\n",
       "      <th>prediction_prob</th>\n",
       "    </tr>\n",
       "  </thead>\n",
       "  <tbody>\n",
       "    <tr>\n",
       "      <th>6</th>\n",
       "      <td>GH16_3|CBM4|CBM4|CBM4|CBM4,GH161,LacI|Peripla_BP_3,3.A.1,3.A.1,SBP_bac_1,GH1,SpoVT_AbrB,3.A.3,HMA,3.A.1,3.A.1,3.A.1,3.A.1,2.A.21,2.A.21,2.A.15,PALP,2.A.59,STAS,2.A.24,dCache_1|PAS|HATPase_c,2.A.53</td>\n",
       "      <td>multiple_substrates</td>\n",
       "      <td>0.467111</td>\n",
       "    </tr>\n",
       "    <tr>\n",
       "      <th>20</th>\n",
       "      <td>2.A.23,CE0,GH4,HTH_18|AraC_binding,4.A.3,4.A.3,4.A.3</td>\n",
       "      <td>mono/di/trisaccharide</td>\n",
       "      <td>0.690000</td>\n",
       "    </tr>\n",
       "    <tr>\n",
       "      <th>21</th>\n",
       "      <td>GT4,9.B.67,Pyr_redox,2.A.66</td>\n",
       "      <td>O-antigen</td>\n",
       "      <td>0.426556</td>\n",
       "    </tr>\n",
       "    <tr>\n",
       "      <th>22</th>\n",
       "      <td>GT4,2.A.66,9.B.18,GT4,NUDIX,GT2,GT4,GT2,8.A.3,1.B.18,2.A.109,9.B.22,9.B.34</td>\n",
       "      <td>capsule polysaccharide</td>\n",
       "      <td>0.570000</td>\n",
       "    </tr>\n",
       "    <tr>\n",
       "      <th>27</th>\n",
       "      <td>GH103,4.A.4,4.A.4,4.A.4,DeoRC|HTH_DeoR,SIS|CBS,3.A.23,Pyr_redox_2,5.A.3,Peripla_BP_3|LacI,4.A.1,GH1,3.D.1,3.D.1,3.D.1,3.D.1,3.D.1,3.D.1</td>\n",
       "      <td>mono/di/trisaccharide</td>\n",
       "      <td>0.480000</td>\n",
       "    </tr>\n",
       "    <tr>\n",
       "      <th>...</th>\n",
       "      <td>...</td>\n",
       "      <td>...</td>\n",
       "      <td>...</td>\n",
       "    </tr>\n",
       "    <tr>\n",
       "      <th>288840</th>\n",
       "      <td>3.A.1,3.A.23,HTH_18,2.A.1,HxlR,2.A.1,GT4,GT4,GT2,8.A.3,1.B.18,9.B.18</td>\n",
       "      <td>capsule polysaccharide</td>\n",
       "      <td>0.460000</td>\n",
       "    </tr>\n",
       "    <tr>\n",
       "      <th>288850</th>\n",
       "      <td>AA3_2,3.A.1,3.A.1,3.A.1,3.A.1,3.A.1,3.A.1,3.A.1,3.A.1,3.A.1,CbiA,2.A.45,3.A.2,3.A.2,3.A.2,3.A.2,3.A.2,3.A.2,3.A.2,4.C.1,3.A.1,3.A.11,3.A.1</td>\n",
       "      <td>multiple_substrates</td>\n",
       "      <td>0.402944</td>\n",
       "    </tr>\n",
       "    <tr>\n",
       "      <th>288854</th>\n",
       "      <td>3.A.23,GH23,1.B.1,Sigma70_r2|Sigma70_r4_2,FecR,1.B.14,HTH_1|LysR_substrate,Glyoxalase,HTH_1|LysR_substrate,2.A.11</td>\n",
       "      <td>multiple_substrates</td>\n",
       "      <td>0.419333</td>\n",
       "    </tr>\n",
       "    <tr>\n",
       "      <th>288862</th>\n",
       "      <td>1.B.12,Peripla_BP_3|LacI,3.A.1,SBP_bac_1,3.A.1,3.A.1,GH42,2.A.1,GH53,1.B.14,Sigma70_r3|Response_reg|HTH_18,1.B.40,Glyoxalase,MerR,3.A.1,3.A.1,3.A.1,2.A.1,3.A.1,3.A.1,3.A.1,AraC_binding|HTH_18,2.A.86,Peripla_BP_3|HTH_18,3.A.1,3.A.1,3.A.1,1.B.14</td>\n",
       "      <td>other</td>\n",
       "      <td>0.443000</td>\n",
       "    </tr>\n",
       "    <tr>\n",
       "      <th>288864</th>\n",
       "      <td>3.A.1,3.A.1,3.A.1,3.A.1,3.A.1,3.A.1,3.A.1,3.A.1,3.A.1,9.B.143,PTS-HPr,1.B.1,GH114,GH36,2.A.7</td>\n",
       "      <td>mono/di/trisaccharide</td>\n",
       "      <td>0.440000</td>\n",
       "    </tr>\n",
       "  </tbody>\n",
       "</table>\n",
       "<p>60203 rows × 3 columns</p>\n",
       "</div>"
      ],
      "text/plain": [
       "                                                                                                                                                                                                                                               sig_gene_seq  \\\n",
       "6                                                      GH16_3|CBM4|CBM4|CBM4|CBM4,GH161,LacI|Peripla_BP_3,3.A.1,3.A.1,SBP_bac_1,GH1,SpoVT_AbrB,3.A.3,HMA,3.A.1,3.A.1,3.A.1,3.A.1,2.A.21,2.A.21,2.A.15,PALP,2.A.59,STAS,2.A.24,dCache_1|PAS|HATPase_c,2.A.53   \n",
       "20                                                                                                                                                                                                     2.A.23,CE0,GH4,HTH_18|AraC_binding,4.A.3,4.A.3,4.A.3   \n",
       "21                                                                                                                                                                                                                              GT4,9.B.67,Pyr_redox,2.A.66   \n",
       "22                                                                                                                                                                               GT4,2.A.66,9.B.18,GT4,NUDIX,GT2,GT4,GT2,8.A.3,1.B.18,2.A.109,9.B.22,9.B.34   \n",
       "27                                                                                                                  GH103,4.A.4,4.A.4,4.A.4,DeoRC|HTH_DeoR,SIS|CBS,3.A.23,Pyr_redox_2,5.A.3,Peripla_BP_3|LacI,4.A.1,GH1,3.D.1,3.D.1,3.D.1,3.D.1,3.D.1,3.D.1   \n",
       "...                                                                                                                                                                                                                                                     ...   \n",
       "288840                                                                                                                                                                                 3.A.1,3.A.23,HTH_18,2.A.1,HxlR,2.A.1,GT4,GT4,GT2,8.A.3,1.B.18,9.B.18   \n",
       "288850                                                                                                           AA3_2,3.A.1,3.A.1,3.A.1,3.A.1,3.A.1,3.A.1,3.A.1,3.A.1,3.A.1,CbiA,2.A.45,3.A.2,3.A.2,3.A.2,3.A.2,3.A.2,3.A.2,3.A.2,4.C.1,3.A.1,3.A.11,3.A.1   \n",
       "288854                                                                                                                                    3.A.23,GH23,1.B.1,Sigma70_r2|Sigma70_r4_2,FecR,1.B.14,HTH_1|LysR_substrate,Glyoxalase,HTH_1|LysR_substrate,2.A.11   \n",
       "288862  1.B.12,Peripla_BP_3|LacI,3.A.1,SBP_bac_1,3.A.1,3.A.1,GH42,2.A.1,GH53,1.B.14,Sigma70_r3|Response_reg|HTH_18,1.B.40,Glyoxalase,MerR,3.A.1,3.A.1,3.A.1,2.A.1,3.A.1,3.A.1,3.A.1,AraC_binding|HTH_18,2.A.86,Peripla_BP_3|HTH_18,3.A.1,3.A.1,3.A.1,1.B.14   \n",
       "288864                                                                                                                                                         3.A.1,3.A.1,3.A.1,3.A.1,3.A.1,3.A.1,3.A.1,3.A.1,3.A.1,9.B.143,PTS-HPr,1.B.1,GH114,GH36,2.A.7   \n",
       "\n",
       "             high_level_substr  prediction_prob  \n",
       "6          multiple_substrates         0.467111  \n",
       "20       mono/di/trisaccharide         0.690000  \n",
       "21                   O-antigen         0.426556  \n",
       "22      capsule polysaccharide         0.570000  \n",
       "27       mono/di/trisaccharide         0.480000  \n",
       "...                        ...              ...  \n",
       "288840  capsule polysaccharide         0.460000  \n",
       "288850     multiple_substrates         0.402944  \n",
       "288854     multiple_substrates         0.419333  \n",
       "288862                   other         0.443000  \n",
       "288864   mono/di/trisaccharide         0.440000  \n",
       "\n",
       "[60203 rows x 3 columns]"
      ]
     },
     "execution_count": 115,
     "metadata": {},
     "output_type": "execute_result"
    }
   ],
   "source": [
    "unsupervised_data_with_preds_sure"
   ]
  },
  {
   "cell_type": "code",
   "execution_count": 114,
   "id": "9559acee",
   "metadata": {},
   "outputs": [],
   "source": [
    "from imblearn.under_sampling import RandomUnderSampler "
   ]
  },
  {
   "cell_type": "code",
   "execution_count": 116,
   "id": "73593caa",
   "metadata": {},
   "outputs": [],
   "source": [
    "rus = RandomUnderSampler(random_state=42)"
   ]
  },
  {
   "cell_type": "code",
   "execution_count": 123,
   "id": "51237d3a",
   "metadata": {},
   "outputs": [],
   "source": [
    "X_res, y_res = rus.fit_resample(np.array(unsupervised_data_with_preds_sure[\"sig_gene_seq\"]).reshape(-1,1), \n",
    "                unsupervised_data_with_preds_sure[\"high_level_substr\"])"
   ]
  },
  {
   "cell_type": "code",
   "execution_count": 125,
   "id": "8583ecc3",
   "metadata": {},
   "outputs": [
    {
     "data": {
      "text/plain": [
       "Counter({'O-antigen': 253,\n",
       "         'algal glycans': 253,\n",
       "         'capsule polysaccharide': 253,\n",
       "         'mono/di/trisaccharide': 253,\n",
       "         'multiple_substrates': 253,\n",
       "         'other': 253,\n",
       "         'pectin': 253})"
      ]
     },
     "execution_count": 125,
     "metadata": {},
     "output_type": "execute_result"
    }
   ],
   "source": [
    "Counter(y_res)"
   ]
  },
  {
   "cell_type": "code",
   "execution_count": 126,
   "id": "bc85cf96",
   "metadata": {},
   "outputs": [],
   "source": [
    "vectorizer = CountVectorizer(tokenizer=lambda x: str(x).split(','), lowercase = False)"
   ]
  },
  {
   "cell_type": "code",
   "execution_count": 127,
   "id": "5542c6d4",
   "metadata": {},
   "outputs": [],
   "source": [
    "from sklearn.linear_model import LogisticRegression"
   ]
  },
  {
   "cell_type": "code",
   "execution_count": 128,
   "id": "8738e94b",
   "metadata": {},
   "outputs": [
    {
     "name": "stderr",
     "output_type": "stream",
     "text": [
      "C:\\Users\\vedpi\\anaconda3\\envs\\newone\\lib\\site-packages\\sklearn\\feature_extraction\\text.py:516: UserWarning: The parameter 'token_pattern' will not be used since 'tokenizer' is not None'\n",
      "  warnings.warn(\n"
     ]
    },
    {
     "data": {
      "text/plain": [
       "CountVectorizer(lowercase=False,\n",
       "                tokenizer=<function <lambda> at 0x0000029B292123A0>)"
      ]
     },
     "execution_count": 128,
     "metadata": {},
     "output_type": "execute_result"
    }
   ],
   "source": [
    "vectorizer.fit(data_train[\"sig_gene_seq\"])"
   ]
  },
  {
   "cell_type": "code",
   "execution_count": 129,
   "id": "8d317897",
   "metadata": {},
   "outputs": [],
   "source": [
    "X_train_unsupervised = vectorizer.transform(X_res)"
   ]
  },
  {
   "cell_type": "code",
   "execution_count": 130,
   "id": "287b554d",
   "metadata": {},
   "outputs": [],
   "source": [
    "clf = LogisticRegression(random_state=42, n_jobs = 6)"
   ]
  },
  {
   "cell_type": "code",
   "execution_count": 131,
   "id": "5e2e4596",
   "metadata": {},
   "outputs": [
    {
     "data": {
      "text/plain": [
       "LogisticRegression(n_jobs=6, random_state=42)"
      ]
     },
     "execution_count": 131,
     "metadata": {},
     "output_type": "execute_result"
    }
   ],
   "source": [
    "clf.fit(X_train_unsupervised, y_res)"
   ]
  },
  {
   "cell_type": "code",
   "execution_count": 132,
   "id": "ca39087e",
   "metadata": {},
   "outputs": [],
   "source": [
    "X_test_unsupervised = vectorizer.transform(data_test[\"sig_gene_seq\"])"
   ]
  },
  {
   "cell_type": "code",
   "execution_count": 133,
   "id": "862cca84",
   "metadata": {},
   "outputs": [],
   "source": [
    "y_test_pred_from_unsupervised = clf.predict(X_test_unsupervised)"
   ]
  },
  {
   "cell_type": "code",
   "execution_count": 134,
   "id": "93b01ca0",
   "metadata": {},
   "outputs": [
    {
     "data": {
      "text/plain": [
       "0.2366412213740458"
      ]
     },
     "execution_count": 134,
     "metadata": {},
     "output_type": "execute_result"
    }
   ],
   "source": [
    "np.mean(y_test.values == y_test_pred_from_unsupervised)"
   ]
  }
 ],
 "metadata": {
  "kernelspec": {
   "display_name": "newone",
   "language": "python",
   "name": "newone"
  },
  "language_info": {
   "codemirror_mode": {
    "name": "ipython",
    "version": 3
   },
   "file_extension": ".py",
   "mimetype": "text/x-python",
   "name": "python",
   "nbconvert_exporter": "python",
   "pygments_lexer": "ipython3",
   "version": "3.9.7"
  }
 },
 "nbformat": 4,
 "nbformat_minor": 5
}
