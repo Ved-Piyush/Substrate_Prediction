{
 "cells": [
  {
   "cell_type": "markdown",
   "id": "35c75560",
   "metadata": {},
   "source": [
    "### Data Loading"
   ]
  },
  {
   "cell_type": "code",
   "execution_count": 990,
   "id": "cbeb5286",
   "metadata": {},
   "outputs": [],
   "source": [
    "# set the directory to where the data is\n",
    "import os\n",
    "\n",
    "os.chdir(r\"D:\\Gene_Project\")"
   ]
  },
  {
   "cell_type": "code",
   "execution_count": 991,
   "id": "48d6f6d2",
   "metadata": {},
   "outputs": [],
   "source": [
    "# pandas for dealing with the data\n",
    "import pandas as pd\n",
    "# setting for seeing the entire string\n",
    "pd.options.display.max_colwidth = None\n",
    "pd.set_option('display.max_rows', 500)"
   ]
  },
  {
   "cell_type": "code",
   "execution_count": 992,
   "id": "ce7a300b",
   "metadata": {},
   "outputs": [],
   "source": [
    "# load the data - new data that was provided\n",
    "data = pd.read_csv(r\"pul_seq_low_high_substr_year_corrected.tsv\", sep = \"\\t\")"
   ]
  },
  {
   "cell_type": "code",
   "execution_count": 993,
   "id": "6267b1a5",
   "metadata": {},
   "outputs": [
    {
     "data": {
      "text/html": [
       "<div>\n",
       "<style scoped>\n",
       "    .dataframe tbody tr th:only-of-type {\n",
       "        vertical-align: middle;\n",
       "    }\n",
       "\n",
       "    .dataframe tbody tr th {\n",
       "        vertical-align: top;\n",
       "    }\n",
       "\n",
       "    .dataframe thead th {\n",
       "        text-align: right;\n",
       "    }\n",
       "</style>\n",
       "<table border=\"1\" class=\"dataframe\">\n",
       "  <thead>\n",
       "    <tr style=\"text-align: right;\">\n",
       "      <th></th>\n",
       "      <th>PULid</th>\n",
       "      <th>sig_gene_seq</th>\n",
       "      <th>low_level_substr</th>\n",
       "      <th>high_level_substr</th>\n",
       "      <th>Pub_year</th>\n",
       "    </tr>\n",
       "  </thead>\n",
       "  <tbody>\n",
       "    <tr>\n",
       "      <th>0</th>\n",
       "      <td>PUL0001</td>\n",
       "      <td>GH1,8.A.49,CE2,GH130,GH130,3.A.1,3.A.1,SBP_bac_1,LacI,GH36,GH113</td>\n",
       "      <td>beta-mannan</td>\n",
       "      <td>beta-mannan</td>\n",
       "      <td>2019</td>\n",
       "    </tr>\n",
       "    <tr>\n",
       "      <th>1</th>\n",
       "      <td>PUL0002</td>\n",
       "      <td>GH16</td>\n",
       "      <td>lichenan</td>\n",
       "      <td>beta-glucan</td>\n",
       "      <td>1996</td>\n",
       "    </tr>\n",
       "    <tr>\n",
       "      <th>2</th>\n",
       "      <td>PUL0003</td>\n",
       "      <td>GH30_8,GH43_16|CBM6</td>\n",
       "      <td>xylan</td>\n",
       "      <td>xylan</td>\n",
       "      <td>2016</td>\n",
       "    </tr>\n",
       "    <tr>\n",
       "      <th>3</th>\n",
       "      <td>PUL0004</td>\n",
       "      <td>4.A.1,GH1</td>\n",
       "      <td>glucose,cellobiose,maltose</td>\n",
       "      <td>multiple_substrates</td>\n",
       "      <td>2016</td>\n",
       "    </tr>\n",
       "    <tr>\n",
       "      <th>4</th>\n",
       "      <td>PUL0005</td>\n",
       "      <td>GH94,GH3</td>\n",
       "      <td>beta-glucan,sophorose,laminaribiose</td>\n",
       "      <td>multiple_substrates</td>\n",
       "      <td>2016</td>\n",
       "    </tr>\n",
       "  </tbody>\n",
       "</table>\n",
       "</div>"
      ],
      "text/plain": [
       "     PULid                                                      sig_gene_seq  \\\n",
       "0  PUL0001  GH1,8.A.49,CE2,GH130,GH130,3.A.1,3.A.1,SBP_bac_1,LacI,GH36,GH113   \n",
       "1  PUL0002                                                              GH16   \n",
       "2  PUL0003                                               GH30_8,GH43_16|CBM6   \n",
       "3  PUL0004                                                         4.A.1,GH1   \n",
       "4  PUL0005                                                          GH94,GH3   \n",
       "\n",
       "                      low_level_substr    high_level_substr Pub_year  \n",
       "0                          beta-mannan          beta-mannan     2019  \n",
       "1                             lichenan         beta-glucan      1996  \n",
       "2                                xylan                xylan     2016  \n",
       "3           glucose,cellobiose,maltose  multiple_substrates     2016  \n",
       "4  beta-glucan,sophorose,laminaribiose  multiple_substrates     2016  "
      ]
     },
     "execution_count": 993,
     "metadata": {},
     "output_type": "execute_result"
    }
   ],
   "source": [
    "# take a look\n",
    "data.head()"
   ]
  },
  {
   "cell_type": "markdown",
   "id": "428e11ec",
   "metadata": {},
   "source": [
    "### Data Sanity check"
   ]
  },
  {
   "cell_type": "code",
   "execution_count": 994,
   "id": "e927e11f",
   "metadata": {},
   "outputs": [
    {
     "data": {
      "text/html": [
       "<div>\n",
       "<style scoped>\n",
       "    .dataframe tbody tr th:only-of-type {\n",
       "        vertical-align: middle;\n",
       "    }\n",
       "\n",
       "    .dataframe tbody tr th {\n",
       "        vertical-align: top;\n",
       "    }\n",
       "\n",
       "    .dataframe thead th {\n",
       "        text-align: right;\n",
       "    }\n",
       "</style>\n",
       "<table border=\"1\" class=\"dataframe\">\n",
       "  <thead>\n",
       "    <tr style=\"text-align: right;\">\n",
       "      <th></th>\n",
       "      <th>PULid</th>\n",
       "      <th>sig_gene_seq</th>\n",
       "      <th>low_level_substr</th>\n",
       "      <th>high_level_substr</th>\n",
       "      <th>Pub_year</th>\n",
       "    </tr>\n",
       "  </thead>\n",
       "  <tbody>\n",
       "    <tr>\n",
       "      <th>75</th>\n",
       "      <td>PUL0076</td>\n",
       "      <td>NaN</td>\n",
       "      <td>capsule polysaccharide,outer core capsule polysaccharide</td>\n",
       "      <td>multiple_substrates</td>\n",
       "      <td>2019</td>\n",
       "    </tr>\n",
       "  </tbody>\n",
       "</table>\n",
       "</div>"
      ],
      "text/plain": [
       "      PULid sig_gene_seq  \\\n",
       "75  PUL0076          NaN   \n",
       "\n",
       "                                            low_level_substr  \\\n",
       "75  capsule polysaccharide,outer core capsule polysaccharide   \n",
       "\n",
       "      high_level_substr Pub_year  \n",
       "75  multiple_substrates     2019  "
      ]
     },
     "execution_count": 994,
     "metadata": {},
     "output_type": "execute_result"
    }
   ],
   "source": [
    "data[data.isnull().sum(axis = 1).astype(bool)]"
   ]
  },
  {
   "cell_type": "code",
   "execution_count": 995,
   "id": "365a8da0",
   "metadata": {},
   "outputs": [],
   "source": [
    "# remove this row\n",
    "data = data.dropna()"
   ]
  },
  {
   "cell_type": "code",
   "execution_count": 996,
   "id": "5986f26f",
   "metadata": {},
   "outputs": [
    {
     "data": {
      "text/html": [
       "<div>\n",
       "<style scoped>\n",
       "    .dataframe tbody tr th:only-of-type {\n",
       "        vertical-align: middle;\n",
       "    }\n",
       "\n",
       "    .dataframe tbody tr th {\n",
       "        vertical-align: top;\n",
       "    }\n",
       "\n",
       "    .dataframe thead th {\n",
       "        text-align: right;\n",
       "    }\n",
       "</style>\n",
       "<table border=\"1\" class=\"dataframe\">\n",
       "  <thead>\n",
       "    <tr style=\"text-align: right;\">\n",
       "      <th></th>\n",
       "      <th>PULid</th>\n",
       "      <th>sig_gene_seq</th>\n",
       "      <th>low_level_substr</th>\n",
       "      <th>high_level_substr</th>\n",
       "      <th>Pub_year</th>\n",
       "    </tr>\n",
       "  </thead>\n",
       "  <tbody>\n",
       "    <tr>\n",
       "      <th>35</th>\n",
       "      <td>PUL0036</td>\n",
       "      <td>8.A.3,1.B.18,PL12,GT4,9.B.18,Aminotran_1_2,9.B.18</td>\n",
       "      <td>emulsan</td>\n",
       "      <td>-</td>\n",
       "      <td>2001</td>\n",
       "    </tr>\n",
       "    <tr>\n",
       "      <th>227</th>\n",
       "      <td>PUL0229</td>\n",
       "      <td>HTH_AraC,8.A.59,3.A.1,3.A.1,3.A.1,GH67,GH10,GH43_12</td>\n",
       "      <td>aldouronate</td>\n",
       "      <td>-</td>\n",
       "      <td>2007</td>\n",
       "    </tr>\n",
       "    <tr>\n",
       "      <th>285</th>\n",
       "      <td>PUL0287</td>\n",
       "      <td>MarR,4.A.3,4.A.3,GH1,4.A.3</td>\n",
       "      <td>unknown polysaccharide</td>\n",
       "      <td>-</td>\n",
       "      <td>2012</td>\n",
       "    </tr>\n",
       "    <tr>\n",
       "      <th>317</th>\n",
       "      <td>PUL0320</td>\n",
       "      <td>PL11|CBM3,CBM66|PL3_1,CBM66|PL9_1,HTH_AraC,GH10|CBM3|CBM3|GH48,GH5_8|CBM3|CBM3|GH44,GH74|GH74|GH74|GH74|CBM3|CBM3|GH48,GT39,GH9|CBM3|CBM3|CBM3|GH5_8,GH5_8|CBM3|CBM3|CBM3|GH5_1,GH9|CBM3|CBM3|CBM3|GH48</td>\n",
       "      <td>glucan</td>\n",
       "      <td>-</td>\n",
       "      <td>2018,2018</td>\n",
       "    </tr>\n",
       "    <tr>\n",
       "      <th>319</th>\n",
       "      <td>PUL0322</td>\n",
       "      <td>PL11|CBM3,CBM66|PL3_1,CBM66|PL9_1,CBM66|PL9_1,CBM66|PL9_1,HTH_AraC,GH74|GH74|GH74|GH74|CBM3|CBM3|GH48,GT39,GH9|CBM3|CBM3|CBM3|GH5_8,CBM22|CBM22|GH10|CBM3|CBM3|GH5_1,GH10|CBM3|GH12|GH48,GH5_8|CBM3|CBM3|GH44,GH9|CBM3|CBM3|CBM3|GH48</td>\n",
       "      <td>glucan</td>\n",
       "      <td>-</td>\n",
       "      <td>2018</td>\n",
       "    </tr>\n",
       "    <tr>\n",
       "      <th>344</th>\n",
       "      <td>PUL0347</td>\n",
       "      <td>HTH_AraC,2.A.1,MarR,Glyoxalase,2.A.1,GH13_11</td>\n",
       "      <td>sorbitol</td>\n",
       "      <td>-</td>\n",
       "      <td>2014</td>\n",
       "    </tr>\n",
       "    <tr>\n",
       "      <th>406</th>\n",
       "      <td>PUL0409</td>\n",
       "      <td>SIS|CBS,8.A.4,1.B.18,9.A.41,9.A.41,GT38,3.A.1,3.A.1</td>\n",
       "      <td>polysialic acid</td>\n",
       "      <td>-</td>\n",
       "      <td>2011</td>\n",
       "    </tr>\n",
       "    <tr>\n",
       "      <th>431</th>\n",
       "      <td>PUL0434</td>\n",
       "      <td>CBM4|GH9,GH9,GH5_17,CBM4|GH9,CBM4,2.A.69</td>\n",
       "      <td>mannooligosaccharide</td>\n",
       "      <td>-</td>\n",
       "      <td>2000</td>\n",
       "    </tr>\n",
       "    <tr>\n",
       "      <th>451</th>\n",
       "      <td>PUL0454</td>\n",
       "      <td>GH13_13|CBM41|CBM41,3.A.1,GT5,NUDIX,GT5,GH77,PfkB,GH13_13|CBM41|CBM41,GH13_2|CBM20</td>\n",
       "      <td>acarbose</td>\n",
       "      <td>-</td>\n",
       "      <td>2013</td>\n",
       "    </tr>\n",
       "  </tbody>\n",
       "</table>\n",
       "</div>"
      ],
      "text/plain": [
       "       PULid  \\\n",
       "35   PUL0036   \n",
       "227  PUL0229   \n",
       "285  PUL0287   \n",
       "317  PUL0320   \n",
       "319  PUL0322   \n",
       "344  PUL0347   \n",
       "406  PUL0409   \n",
       "431  PUL0434   \n",
       "451  PUL0454   \n",
       "\n",
       "                                                                                                                                                                                                                              sig_gene_seq  \\\n",
       "35                                                                                                                                                                                       8.A.3,1.B.18,PL12,GT4,9.B.18,Aminotran_1_2,9.B.18   \n",
       "227                                                                                                                                                                                    HTH_AraC,8.A.59,3.A.1,3.A.1,3.A.1,GH67,GH10,GH43_12   \n",
       "285                                                                                                                                                                                                             MarR,4.A.3,4.A.3,GH1,4.A.3   \n",
       "317                                PL11|CBM3,CBM66|PL3_1,CBM66|PL9_1,HTH_AraC,GH10|CBM3|CBM3|GH48,GH5_8|CBM3|CBM3|GH44,GH74|GH74|GH74|GH74|CBM3|CBM3|GH48,GT39,GH9|CBM3|CBM3|CBM3|GH5_8,GH5_8|CBM3|CBM3|CBM3|GH5_1,GH9|CBM3|CBM3|CBM3|GH48   \n",
       "319  PL11|CBM3,CBM66|PL3_1,CBM66|PL9_1,CBM66|PL9_1,CBM66|PL9_1,HTH_AraC,GH74|GH74|GH74|GH74|CBM3|CBM3|GH48,GT39,GH9|CBM3|CBM3|CBM3|GH5_8,CBM22|CBM22|GH10|CBM3|CBM3|GH5_1,GH10|CBM3|GH12|GH48,GH5_8|CBM3|CBM3|GH44,GH9|CBM3|CBM3|CBM3|GH48   \n",
       "344                                                                                                                                                                                           HTH_AraC,2.A.1,MarR,Glyoxalase,2.A.1,GH13_11   \n",
       "406                                                                                                                                                                                    SIS|CBS,8.A.4,1.B.18,9.A.41,9.A.41,GT38,3.A.1,3.A.1   \n",
       "431                                                                                                                                                                                               CBM4|GH9,GH9,GH5_17,CBM4|GH9,CBM4,2.A.69   \n",
       "451                                                                                                                                                     GH13_13|CBM41|CBM41,3.A.1,GT5,NUDIX,GT5,GH77,PfkB,GH13_13|CBM41|CBM41,GH13_2|CBM20   \n",
       "\n",
       "           low_level_substr high_level_substr   Pub_year  \n",
       "35                  emulsan                 -       2001  \n",
       "227             aldouronate                 -       2007  \n",
       "285  unknown polysaccharide                 -       2012  \n",
       "317                  glucan                 -  2018,2018  \n",
       "319                  glucan                 -       2018  \n",
       "344                sorbitol                 -       2014  \n",
       "406         polysialic acid                 -       2011  \n",
       "431    mannooligosaccharide                 -       2000  \n",
       "451                acarbose                 -       2013  "
      ]
     },
     "execution_count": 996,
     "metadata": {},
     "output_type": "execute_result"
    }
   ],
   "source": [
    "# there are some rows which do not have a high level substr\n",
    "data[data[\"high_level_substr\"] == \"-\"]"
   ]
  },
  {
   "cell_type": "code",
   "execution_count": 997,
   "id": "df85a45c",
   "metadata": {},
   "outputs": [],
   "source": [
    "# remove these no class rows as well\n",
    "data = data[data[\"high_level_substr\"] != \"-\"].reset_index(drop = True)"
   ]
  },
  {
   "cell_type": "markdown",
   "id": "80997531",
   "metadata": {},
   "source": [
    "### Exploratory Data Analysis"
   ]
  },
  {
   "cell_type": "code",
   "execution_count": 998,
   "id": "212076f8",
   "metadata": {},
   "outputs": [],
   "source": [
    "# get the frequency counts\n",
    "D = data.high_level_substr.value_counts()"
   ]
  },
  {
   "cell_type": "code",
   "execution_count": 999,
   "id": "ad59ac3d",
   "metadata": {},
   "outputs": [],
   "source": [
    "# convert to a dictionary\n",
    "D = dict(D)"
   ]
  },
  {
   "cell_type": "code",
   "execution_count": 1000,
   "id": "e6b4c9bb",
   "metadata": {},
   "outputs": [],
   "source": [
    "# import the plotting packages\n",
    "import matplotlib as mpl\n",
    "import matplotlib.pyplot as plt"
   ]
  },
  {
   "cell_type": "code",
   "execution_count": 1001,
   "id": "c1cd764d",
   "metadata": {},
   "outputs": [],
   "source": [
    "# some parameters for improved plotting aesthetics\n",
    "mpl.rcParams['xtick.labelsize'] = 15 \n",
    "plt.rcParams[\"font.weight\"] = \"bold\""
   ]
  },
  {
   "cell_type": "code",
   "execution_count": 1002,
   "id": "dd85525c",
   "metadata": {},
   "outputs": [
    {
     "data": {
      "image/png": "[encoded data removed]",
      "text/plain": [
       "<Figure size 720x432 with 1 Axes>"
      ]
     },
     "metadata": {
      "needs_background": "light"
     },
     "output_type": "display_data"
    }
   ],
   "source": [
    "# define the plotting area\n",
    "plt.figure(figsize = (10,6))\n",
    "# need a bar plot\n",
    "plt.bar(range(len(D)), list(D.values()), align='center')\n",
    "# put the labels but rotate them\n",
    "plt.xticks(range(len(D)), list(D.keys()), rotation = 90, weight = \"bold\")\n",
    "# increase the ticks on y\n",
    "plt.yticks(fontsize=14)\n",
    "# give labels to x\n",
    "plt.xlabel(\"Target Classes\", weight = \"bold\", fontsize = 20)\n",
    "# give labels to y\n",
    "plt.ylabel(\"Frequency\", weight = \"bold\", fontsize = 20)\n",
    "# put the title\n",
    "plt.title(\"Frequencies for the target classes\", weight = \"bold\", fontsize = 20)\n",
    "plt.show()"
   ]
  },
  {
   "cell_type": "code",
   "execution_count": 1003,
   "id": "49a64319",
   "metadata": {},
   "outputs": [],
   "source": [
    "# collect all the genes from each sequence\n",
    "all_genes_per_sequence = [str(seq).split(\",\") for seq in data[\"sig_gene_seq\"]]\n",
    "# loop over the list of genes and flatten it\n",
    "all_genes = [gene for list_genes in all_genes_per_sequence for gene in list_genes]"
   ]
  },
  {
   "cell_type": "code",
   "execution_count": 1004,
   "id": "ce8c1652",
   "metadata": {},
   "outputs": [],
   "source": [
    "# import numpy to deal with arrays\n",
    "import numpy as np"
   ]
  },
  {
   "cell_type": "code",
   "execution_count": 1005,
   "id": "0d388833",
   "metadata": {},
   "outputs": [],
   "source": [
    "# import counter function\n",
    "from collections import Counter"
   ]
  },
  {
   "cell_type": "code",
   "execution_count": 1006,
   "id": "a8c8c929",
   "metadata": {},
   "outputs": [],
   "source": [
    "# get the frequency counts\n",
    "freq_count = Counter(all_genes)"
   ]
  },
  {
   "cell_type": "code",
   "execution_count": 1007,
   "id": "66f8961b",
   "metadata": {},
   "outputs": [],
   "source": [
    "# sort in descending order\n",
    "D =dict(sorted(freq_count.items(), key=lambda item: item[1], reverse = True))"
   ]
  },
  {
   "cell_type": "code",
   "execution_count": 1008,
   "id": "0b4fa20c",
   "metadata": {},
   "outputs": [],
   "source": [
    "# manipulate for plotting\n",
    "first2pairs = {k: D[k] for k in list(D)}"
   ]
  },
  {
   "cell_type": "code",
   "execution_count": 1009,
   "id": "15c3d295",
   "metadata": {},
   "outputs": [],
   "source": [
    "# variable assignment\n",
    "D = first2pairs"
   ]
  },
  {
   "cell_type": "code",
   "execution_count": 1010,
   "id": "cff2cc5b",
   "metadata": {},
   "outputs": [],
   "source": [
    "# some parameters for improved plotting aesthetics\n",
    "mpl.rcParams['xtick.labelsize'] = 15 \n",
    "plt.rcParams[\"font.weight\"] = \"bold\""
   ]
  },
  {
   "cell_type": "code",
   "execution_count": 1011,
   "id": "14487ddd",
   "metadata": {},
   "outputs": [
    {
     "data": {
      "image/png": "[encoded data removed]",
      "text/plain": [
       "<Figure size 720x360 with 1 Axes>"
      ]
     },
     "metadata": {
      "needs_background": "light"
     },
     "output_type": "display_data"
    }
   ],
   "source": [
    "plt.figure(figsize = (10,5))\n",
    "plt.bar(range(len(D)), list(D.values()), align='center')\n",
    "plt.title(\"Frequency distribution for genes\", fontsize = 20)\n",
    "plt.xlabel(\"Gene Index\", fontsize = 20)\n",
    "plt.ylabel(\"Frequency\", fontsize = 20)\n",
    "plt.show()"
   ]
  },
  {
   "cell_type": "code",
   "execution_count": 1012,
   "id": "1e5700e5",
   "metadata": {},
   "outputs": [],
   "source": [
    "# visualize the cdf\n",
    "cdf_vec = np.cumsum(list(D.values()))/np.cumsum(list(D.values()))[-1]"
   ]
  },
  {
   "cell_type": "code",
   "execution_count": 1013,
   "id": "74d8877e",
   "metadata": {},
   "outputs": [
    {
     "data": {
      "image/png": "[encoded data removed]",
      "text/plain": [
       "<Figure size 720x360 with 1 Axes>"
      ]
     },
     "metadata": {
      "needs_background": "light"
     },
     "output_type": "display_data"
    }
   ],
   "source": [
    "# make the plot for the cdf\n",
    "plt.figure(figsize = (10,5))\n",
    "plt.bar(range(len(cdf_vec)), cdf_vec, align='center')\n",
    "plt.title(\"CDF for the Frequency Counts\", fontsize = 20)\n",
    "plt.xlabel(\"Gene Index\", fontsize = 20)\n",
    "plt.ylabel(\"Frequency\", fontsize = 20)\n",
    "plt.show()\n"
   ]
  },
  {
   "cell_type": "markdown",
   "id": "4fded2a3",
   "metadata": {},
   "source": [
    "### Prediction Models"
   ]
  },
  {
   "cell_type": "markdown",
   "id": "c5275f12",
   "metadata": {},
   "source": [
    "#### read in the metadata available"
   ]
  },
  {
   "cell_type": "code",
   "execution_count": 1014,
   "id": "b5bd3dac",
   "metadata": {},
   "outputs": [],
   "source": [
    "# read the signature gene reference data\n",
    "sig_gene_reference = pd.read_csv(r\"signature_gene_reference.tsv\", sep = \"\\t\", header = None)"
   ]
  },
  {
   "cell_type": "code",
   "execution_count": 1015,
   "id": "d23199b1",
   "metadata": {},
   "outputs": [],
   "source": [
    "# name the columns\n",
    "sig_gene_reference.columns = [\"category\", \"gene\"]"
   ]
  },
  {
   "cell_type": "code",
   "execution_count": 1016,
   "id": "a8714823",
   "metadata": {},
   "outputs": [
    {
     "data": {
      "text/html": [
       "<div>\n",
       "<style scoped>\n",
       "    .dataframe tbody tr th:only-of-type {\n",
       "        vertical-align: middle;\n",
       "    }\n",
       "\n",
       "    .dataframe tbody tr th {\n",
       "        vertical-align: top;\n",
       "    }\n",
       "\n",
       "    .dataframe thead th {\n",
       "        text-align: right;\n",
       "    }\n",
       "</style>\n",
       "<table border=\"1\" class=\"dataframe\">\n",
       "  <thead>\n",
       "    <tr style=\"text-align: right;\">\n",
       "      <th></th>\n",
       "      <th>category</th>\n",
       "      <th>gene</th>\n",
       "    </tr>\n",
       "  </thead>\n",
       "  <tbody>\n",
       "    <tr>\n",
       "      <th>0</th>\n",
       "      <td>CAZyme</td>\n",
       "      <td>AA0</td>\n",
       "    </tr>\n",
       "    <tr>\n",
       "      <th>1</th>\n",
       "      <td>CAZyme</td>\n",
       "      <td>AA10</td>\n",
       "    </tr>\n",
       "    <tr>\n",
       "      <th>2</th>\n",
       "      <td>CAZyme</td>\n",
       "      <td>AA1_3</td>\n",
       "    </tr>\n",
       "    <tr>\n",
       "      <th>3</th>\n",
       "      <td>CAZyme</td>\n",
       "      <td>AA2</td>\n",
       "    </tr>\n",
       "    <tr>\n",
       "      <th>4</th>\n",
       "      <td>CAZyme</td>\n",
       "      <td>AA3</td>\n",
       "    </tr>\n",
       "  </tbody>\n",
       "</table>\n",
       "</div>"
      ],
      "text/plain": [
       "  category   gene\n",
       "0   CAZyme    AA0\n",
       "1   CAZyme   AA10\n",
       "2   CAZyme  AA1_3\n",
       "3   CAZyme    AA2\n",
       "4   CAZyme    AA3"
      ]
     },
     "execution_count": 1016,
     "metadata": {},
     "output_type": "execute_result"
    }
   ],
   "source": [
    "# first few rows of the data\n",
    "sig_gene_reference.head()"
   ]
  },
  {
   "cell_type": "code",
   "execution_count": 1017,
   "id": "67746f84",
   "metadata": {},
   "outputs": [
    {
     "data": {
      "text/plain": [
       "TC        525\n",
       "CAZyme    499\n",
       "STP       176\n",
       "TF         47\n",
       "Name: category, dtype: int64"
      ]
     },
     "execution_count": 1017,
     "metadata": {},
     "output_type": "execute_result"
    }
   ],
   "source": [
    "# what are the distinctive categories\n",
    "sig_gene_reference[\"category\"].value_counts()"
   ]
  },
  {
   "cell_type": "code",
   "execution_count": 1018,
   "id": "d52c757a",
   "metadata": {},
   "outputs": [],
   "source": [
    "# write a function to map the genes to the category\n",
    "def map_genes_to_categories(sequence): \n",
    "    # instantiate an empty string\n",
    "    category_sequence = \"\"\n",
    "    # the category data has individual genes like A and B and not A|B\n",
    "    # thus to have all the genes mapped we would need to replace \"|\" by \",\"\n",
    "    \n",
    "    # replace \"|\" with a \",\" and then split on the \",\"\n",
    "    # iterate over all those genes\n",
    "    for gene in str(sequence).replace(\"|\", \",\").split(\",\"):\n",
    "        # map out the category reference for the gene\n",
    "        categories = sig_gene_reference[sig_gene_reference[\"gene\"] == gene][\"category\"].values\n",
    "        # sometimes one gene can have different categories\n",
    "        # in such a case loop over the multiple categories found\n",
    "        for i in categories: \n",
    "            # iteratively add to the empty string\n",
    "#             if len(i) > 0:\n",
    "            category_sequence = category_sequence + \",\" + i\n",
    "    # there would be a weird comma at the very start character\n",
    "    # remove that and keep the rest\n",
    "    return category_sequence[1:]"
   ]
  },
  {
   "cell_type": "code",
   "execution_count": 1019,
   "id": "bf9ff0ae",
   "metadata": {},
   "outputs": [],
   "source": [
    "from tqdm.notebook import tqdm"
   ]
  },
  {
   "cell_type": "code",
   "execution_count": 1020,
   "id": "996e8e9f",
   "metadata": {},
   "outputs": [
    {
     "data": {
      "application/vnd.jupyter.widget-view+json": {
       "model_id": "162b2a9e0e064a00be53cc6e6eade257",
       "version_major": 2,
       "version_minor": 0
      },
      "text/plain": [
       "  0%|          | 0/644 [00:00<?, ?it/s]"
      ]
     },
     "metadata": {},
     "output_type": "display_data"
    }
   ],
   "source": [
    "category_sequence = []\n",
    "for sequence in tqdm(data[\"sig_gene_seq\"].values): \n",
    "    category_sequence.append(map_genes_to_categories(sequence))"
   ]
  },
  {
   "cell_type": "code",
   "execution_count": 1021,
   "id": "d63a1824",
   "metadata": {},
   "outputs": [],
   "source": [
    "data[\"category_sequence\"] = category_sequence"
   ]
  },
  {
   "cell_type": "code",
   "execution_count": 1022,
   "id": "f413403c",
   "metadata": {},
   "outputs": [
    {
     "data": {
      "text/html": [
       "<div>\n",
       "<style scoped>\n",
       "    .dataframe tbody tr th:only-of-type {\n",
       "        vertical-align: middle;\n",
       "    }\n",
       "\n",
       "    .dataframe tbody tr th {\n",
       "        vertical-align: top;\n",
       "    }\n",
       "\n",
       "    .dataframe thead th {\n",
       "        text-align: right;\n",
       "    }\n",
       "</style>\n",
       "<table border=\"1\" class=\"dataframe\">\n",
       "  <thead>\n",
       "    <tr style=\"text-align: right;\">\n",
       "      <th></th>\n",
       "      <th>PULid</th>\n",
       "      <th>sig_gene_seq</th>\n",
       "      <th>low_level_substr</th>\n",
       "      <th>high_level_substr</th>\n",
       "      <th>Pub_year</th>\n",
       "      <th>category_sequence</th>\n",
       "    </tr>\n",
       "  </thead>\n",
       "  <tbody>\n",
       "    <tr>\n",
       "      <th>0</th>\n",
       "      <td>PUL0001</td>\n",
       "      <td>GH1,8.A.49,CE2,GH130,GH130,3.A.1,3.A.1,SBP_bac_1,LacI,GH36,GH113</td>\n",
       "      <td>beta-mannan</td>\n",
       "      <td>beta-mannan</td>\n",
       "      <td>2019</td>\n",
       "      <td>CAZyme,CAZyme,CAZyme,CAZyme,TC,TC,STP,STP,TF,CAZyme,CAZyme</td>\n",
       "    </tr>\n",
       "    <tr>\n",
       "      <th>1</th>\n",
       "      <td>PUL0002</td>\n",
       "      <td>GH16</td>\n",
       "      <td>lichenan</td>\n",
       "      <td>beta-glucan</td>\n",
       "      <td>1996</td>\n",
       "      <td>CAZyme</td>\n",
       "    </tr>\n",
       "    <tr>\n",
       "      <th>2</th>\n",
       "      <td>PUL0003</td>\n",
       "      <td>GH30_8,GH43_16|CBM6</td>\n",
       "      <td>xylan</td>\n",
       "      <td>xylan</td>\n",
       "      <td>2016</td>\n",
       "      <td>CAZyme,CAZyme,CAZyme</td>\n",
       "    </tr>\n",
       "    <tr>\n",
       "      <th>3</th>\n",
       "      <td>PUL0004</td>\n",
       "      <td>4.A.1,GH1</td>\n",
       "      <td>glucose,cellobiose,maltose</td>\n",
       "      <td>multiple_substrates</td>\n",
       "      <td>2016</td>\n",
       "      <td>TC,CAZyme</td>\n",
       "    </tr>\n",
       "    <tr>\n",
       "      <th>4</th>\n",
       "      <td>PUL0005</td>\n",
       "      <td>GH94,GH3</td>\n",
       "      <td>beta-glucan,sophorose,laminaribiose</td>\n",
       "      <td>multiple_substrates</td>\n",
       "      <td>2016</td>\n",
       "      <td>CAZyme,CAZyme</td>\n",
       "    </tr>\n",
       "  </tbody>\n",
       "</table>\n",
       "</div>"
      ],
      "text/plain": [
       "     PULid                                                      sig_gene_seq  \\\n",
       "0  PUL0001  GH1,8.A.49,CE2,GH130,GH130,3.A.1,3.A.1,SBP_bac_1,LacI,GH36,GH113   \n",
       "1  PUL0002                                                              GH16   \n",
       "2  PUL0003                                               GH30_8,GH43_16|CBM6   \n",
       "3  PUL0004                                                         4.A.1,GH1   \n",
       "4  PUL0005                                                          GH94,GH3   \n",
       "\n",
       "                      low_level_substr    high_level_substr Pub_year  \\\n",
       "0                          beta-mannan          beta-mannan     2019   \n",
       "1                             lichenan         beta-glucan      1996   \n",
       "2                                xylan                xylan     2016   \n",
       "3           glucose,cellobiose,maltose  multiple_substrates     2016   \n",
       "4  beta-glucan,sophorose,laminaribiose  multiple_substrates     2016   \n",
       "\n",
       "                                            category_sequence  \n",
       "0  CAZyme,CAZyme,CAZyme,CAZyme,TC,TC,STP,STP,TF,CAZyme,CAZyme  \n",
       "1                                                      CAZyme  \n",
       "2                                        CAZyme,CAZyme,CAZyme  \n",
       "3                                                   TC,CAZyme  \n",
       "4                                               CAZyme,CAZyme  "
      ]
     },
     "execution_count": 1022,
     "metadata": {},
     "output_type": "execute_result"
    }
   ],
   "source": [
    "data.head()"
   ]
  },
  {
   "cell_type": "code",
   "execution_count": 1023,
   "id": "9e999294",
   "metadata": {},
   "outputs": [],
   "source": [
    "# import the requisite packages\n",
    "from sklearn.model_selection import GridSearchCV\n",
    "from sklearn.pipeline import make_pipeline, Pipeline\n",
    "from sklearn.ensemble import RandomForestClassifier"
   ]
  },
  {
   "cell_type": "code",
   "execution_count": 1024,
   "id": "6ba47eb0",
   "metadata": {},
   "outputs": [],
   "source": [
    "# generic function that takes in the data and number of classes\n",
    "def model_by_classes(num_classes, data, both = False, split_on_bar = False): \n",
    "    # get the frequency counts\n",
    "    all_classes = list(data.high_level_substr.value_counts().keys())\n",
    "    # remove multiple substrates\n",
    "#     all_classes = [classes for classes in all_classes if classes not in [\"multiple_substrates\"]]\n",
    "    # suppose using the top 2\n",
    "    keep_these_many = num_classes\n",
    "    # top_k_classes\n",
    "    top_k = all_classes[:keep_these_many]\n",
    "    # not top two\n",
    "    not_top_k = [target for target in all_classes if target not in top_k]\n",
    "    # get the data for the top k classes\n",
    "    top_k_data = data[data.high_level_substr.isin(top_k)].reset_index(drop = True)\n",
    "    # get the data for the non top_k classes\n",
    "    not_top_k_data = data[data.high_level_substr.isin(not_top_k)].reset_index(drop = True)\n",
    "    # give the same label to all the targets of the not_top_k_data\n",
    "    not_top_k_data[\"high_level_substr\"] = \"others\"\n",
    "    # stack the top k and the not top k data together\n",
    "    all_data = pd.concat([top_k_data, not_top_k_data], ignore_index = True)\n",
    "    \n",
    "    if split_on_bar == False:\n",
    "        # instantiate the vectorizer again\n",
    "        vectorizer = CountVectorizer(tokenizer=lambda x: str(x).split(','), lowercase = False)\n",
    "    \n",
    "    else: \n",
    "        vectorizer = CountVectorizer(tokenizer=lambda x: str(x).replace(\"|\", \",\").split(','), lowercase = False)\n",
    "    \n",
    "    \n",
    "    # class weights\n",
    "    class_weights = dict(1/(all_data[\"high_level_substr\"].value_counts()/all_data[\"high_level_substr\"].value_counts().cumsum()[-1]))\n",
    "    \n",
    "    \n",
    "    # pipeline\n",
    "    clf = Pipeline([('countvectorizer',vectorizer),('rf',RandomForestClassifier(n_jobs = 6, class_weight = class_weights))])\n",
    "    # Parameters of pipelines can be set using ‘__’ separated parameter names:\n",
    "    param_grid = {\n",
    "    'countvectorizer__min_df': [1,2],\n",
    "    'rf__n_estimators': [100,200,400], \n",
    "    'rf__max_features': [\"auto\", \"log2\"]\n",
    "    }\n",
    "    # fit the search\n",
    "    search = GridSearchCV(clf, param_grid, n_jobs=7 , verbose = 3, cv = 5, scoring = \"accuracy\")\n",
    "    \n",
    "    # if both gene seq and category seq\n",
    "    \n",
    "    if both == True: \n",
    "        # fit the grid search\n",
    "        search.fit(all_data[\"sig_gene_seq\"] + \",\" + all_data[\"category_sequence\"], all_data[\"high_level_substr\"])\n",
    "    else: \n",
    "        search.fit(all_data[\"sig_gene_seq\"], all_data[\"high_level_substr\"])\n",
    "    # best score\n",
    "    best_score = search.best_score_\n",
    "    # std error\n",
    "    std_accuracy = search.cv_results_['std_test_score'][np.argmax(search.cv_results_['mean_test_score'])]\n",
    "    vectorizer.fit_transform(all_data[\"sig_gene_seq\"])\n",
    "    print(len(vectorizer.vocabulary_))\n",
    "    return num_classes, best_score, std_accuracy, search.best_estimator_, top_k, not_top_k, vectorizer"
   ]
  },
  {
   "cell_type": "code",
   "execution_count": 1025,
   "id": "d9bebb91",
   "metadata": {},
   "outputs": [],
   "source": [
    "# functions that can help us do parallel computation\n",
    "from joblib import Parallel, delayed"
   ]
  },
  {
   "cell_type": "markdown",
   "id": "6b4bdbdd",
   "metadata": {},
   "source": [
    "#### Using both gene and category data and splitting on bar (\"|\")"
   ]
  },
  {
   "cell_type": "code",
   "execution_count": 1026,
   "id": "6ba01440",
   "metadata": {},
   "outputs": [],
   "source": [
    "# preprocessor\n",
    "from sklearn.feature_extraction.text import CountVectorizer"
   ]
  },
  {
   "cell_type": "code",
   "execution_count": 1027,
   "id": "a72e3e26",
   "metadata": {},
   "outputs": [
    {
     "name": "stderr",
     "output_type": "stream",
     "text": [
      "[Parallel(n_jobs=7)]: Using backend LokyBackend with 7 concurrent workers.\n",
      "[Parallel(n_jobs=7)]: Done   6 out of   9 | elapsed:   54.8s remaining:   27.4s\n",
      "[Parallel(n_jobs=7)]: Done   9 out of   9 | elapsed:  1.4min finished\n"
     ]
    }
   ],
   "source": [
    "# run the function in parallel\n",
    "all_results = Parallel(n_jobs=7, verbose = 2)(delayed(model_by_classes)(i, data, True, True) for i in range(1, 10))\n",
    "\n",
    "# filter\n",
    "all_results = [ar[:3] for ar in all_results]\n",
    "\n",
    "# get the error ranges\n",
    "err_ranges = np.array(all_results)[:,2]*3\n",
    "\n",
    "# put everything in a dataframe\n",
    "df = pd.DataFrame(all_results)\n",
    "\n",
    "# give column names\n",
    "df.columns = [\"num_classes\", \"mean_accuracy\", \"std_error_accuracy\"]"
   ]
  },
  {
   "cell_type": "code",
   "execution_count": 1028,
   "id": "0ac35078",
   "metadata": {},
   "outputs": [
    {
     "data": {
      "image/png": "[encoded data removed]",
      "text/plain": [
       "<Figure size 720x720 with 1 Axes>"
      ]
     },
     "metadata": {
      "needs_background": "light"
     },
     "output_type": "display_data"
    }
   ],
   "source": [
    "# how much data do these classes cover\n",
    "coverage = pd.DataFrame(data.high_level_substr.value_counts().cumsum()/data.high_level_substr.value_counts().cumsum()[-1])[\"high_level_substr\"].values[1:10]\n",
    "\n",
    "# round the coverage\n",
    "coverage = np.round(coverage,2).astype(str)\n",
    "\n",
    "# create a plot\n",
    "plt.figure(figsize = (10,10))\n",
    "plt.errorbar(df[\"num_classes\"],np.array(all_results)[:,1], \n",
    "             err_ranges, linestyle='None', marker='^', linewidth = 2)\n",
    "plt.xlabel(\"Number of Classes\", weight = \"bold\", fontsize = 20)\n",
    "plt.ylabel(\"Accuracy\", weight = \"bold\", fontsize = 20)\n",
    "plt.yticks(fontsize=14)\n",
    "plt.xticks(df[\"num_classes\"])\n",
    "counter = 1\n",
    "plt.title(\"mean accuracy with +- 3 SD\", weight = \"bold\", fontsize = 20)\n",
    "for text in coverage: \n",
    "    plt.text(counter, .81, text)\n",
    "    counter+=1\n",
    "plt.show()"
   ]
  },
  {
   "cell_type": "code",
   "execution_count": 1029,
   "id": "e6e5ab18",
   "metadata": {},
   "outputs": [
    {
     "data": {
      "text/html": [
       "<div>\n",
       "<style scoped>\n",
       "    .dataframe tbody tr th:only-of-type {\n",
       "        vertical-align: middle;\n",
       "    }\n",
       "\n",
       "    .dataframe tbody tr th {\n",
       "        vertical-align: top;\n",
       "    }\n",
       "\n",
       "    .dataframe thead th {\n",
       "        text-align: right;\n",
       "    }\n",
       "</style>\n",
       "<table border=\"1\" class=\"dataframe\">\n",
       "  <thead>\n",
       "    <tr style=\"text-align: right;\">\n",
       "      <th></th>\n",
       "      <th>num_classes</th>\n",
       "      <th>mean_accuracy</th>\n",
       "      <th>std_error_accuracy</th>\n",
       "      <th>coverage</th>\n",
       "    </tr>\n",
       "  </thead>\n",
       "  <tbody>\n",
       "    <tr>\n",
       "      <th>0</th>\n",
       "      <td>2</td>\n",
       "      <td>0.781105</td>\n",
       "      <td>0.025299</td>\n",
       "      <td>0.34</td>\n",
       "    </tr>\n",
       "    <tr>\n",
       "      <th>1</th>\n",
       "      <td>3</td>\n",
       "      <td>0.700291</td>\n",
       "      <td>0.038938</td>\n",
       "      <td>0.43</td>\n",
       "    </tr>\n",
       "    <tr>\n",
       "      <th>2</th>\n",
       "      <td>4</td>\n",
       "      <td>0.675509</td>\n",
       "      <td>0.034774</td>\n",
       "      <td>0.49</td>\n",
       "    </tr>\n",
       "    <tr>\n",
       "      <th>3</th>\n",
       "      <td>5</td>\n",
       "      <td>0.644428</td>\n",
       "      <td>0.026777</td>\n",
       "      <td>0.55</td>\n",
       "    </tr>\n",
       "    <tr>\n",
       "      <th>4</th>\n",
       "      <td>6</td>\n",
       "      <td>0.617975</td>\n",
       "      <td>0.041487</td>\n",
       "      <td>0.61</td>\n",
       "    </tr>\n",
       "    <tr>\n",
       "      <th>5</th>\n",
       "      <td>7</td>\n",
       "      <td>0.583794</td>\n",
       "      <td>0.053634</td>\n",
       "      <td>0.67</td>\n",
       "    </tr>\n",
       "    <tr>\n",
       "      <th>6</th>\n",
       "      <td>8</td>\n",
       "      <td>0.588433</td>\n",
       "      <td>0.050916</td>\n",
       "      <td>0.72</td>\n",
       "    </tr>\n",
       "    <tr>\n",
       "      <th>7</th>\n",
       "      <td>9</td>\n",
       "      <td>0.571294</td>\n",
       "      <td>0.070038</td>\n",
       "      <td>0.76</td>\n",
       "    </tr>\n",
       "    <tr>\n",
       "      <th>8</th>\n",
       "      <td>10</td>\n",
       "      <td>0.566667</td>\n",
       "      <td>0.052255</td>\n",
       "      <td>0.79</td>\n",
       "    </tr>\n",
       "  </tbody>\n",
       "</table>\n",
       "</div>"
      ],
      "text/plain": [
       "   num_classes  mean_accuracy  std_error_accuracy coverage\n",
       "0            2       0.781105            0.025299     0.34\n",
       "1            3       0.700291            0.038938     0.43\n",
       "2            4       0.675509            0.034774     0.49\n",
       "3            5       0.644428            0.026777     0.55\n",
       "4            6       0.617975            0.041487     0.61\n",
       "5            7       0.583794            0.053634     0.67\n",
       "6            8       0.588433            0.050916     0.72\n",
       "7            9       0.571294            0.070038     0.76\n",
       "8           10       0.566667            0.052255     0.79"
      ]
     },
     "execution_count": 1029,
     "metadata": {},
     "output_type": "execute_result"
    }
   ],
   "source": [
    "# make a new column for coverage\n",
    "df[\"coverage\"] = coverage\n",
    "\n",
    "df[\"num_classes\"] = df[\"num_classes\"]  + 1\n",
    "\n",
    "df"
   ]
  },
  {
   "cell_type": "markdown",
   "id": "29fa3171",
   "metadata": {},
   "source": [
    "#### Now with train test split"
   ]
  },
  {
   "cell_type": "code",
   "execution_count": 1093,
   "id": "9f5b628a",
   "metadata": {},
   "outputs": [],
   "source": [
    "# import train test split\n",
    "from sklearn.model_selection import train_test_split"
   ]
  },
  {
   "cell_type": "code",
   "execution_count": 1094,
   "id": "0a2ae519",
   "metadata": {},
   "outputs": [],
   "source": [
    "# make a train and test set\n",
    "X_train, X_test, y_train, y_test = train_test_split( data[[\"sig_gene_seq\", \"category_sequence\"]], data[\"high_level_substr\"],\n",
    "                                                    test_size=0.30, random_state=42, stratify = data[\"high_level_substr\"])"
   ]
  },
  {
   "cell_type": "code",
   "execution_count": 1095,
   "id": "0664218a",
   "metadata": {},
   "outputs": [],
   "source": [
    "data_train = pd.concat([pd.DataFrame(X_train.values), pd.DataFrame(y_train.values)], ignore_index = True, axis = 1)"
   ]
  },
  {
   "cell_type": "code",
   "execution_count": 1096,
   "id": "59293072",
   "metadata": {},
   "outputs": [],
   "source": [
    "data_train.columns = [\"sig_gene_seq\", \"category_sequence\" ,\"high_level_substr\"]"
   ]
  },
  {
   "cell_type": "code",
   "execution_count": 1097,
   "id": "415a7d59",
   "metadata": {},
   "outputs": [
    {
     "name": "stdout",
     "output_type": "stream",
     "text": [
      "Fitting 5 folds for each of 12 candidates, totalling 60 fits\n",
      "377\n"
     ]
    }
   ],
   "source": [
    "# use the function with 6 classes and only train data\n",
    "num_classes, best_score, std_accuracy, best_estimator_, top_k, not_top_k, vectorizer = model_by_classes(5, data_train, True, True)"
   ]
  },
  {
   "cell_type": "code",
   "execution_count": 1098,
   "id": "5b41e255",
   "metadata": {},
   "outputs": [],
   "source": [
    "# column change the original targets to top 6 + unknown\n",
    "targets_train = [target if target in top_k else \"others\" for target in data_train[\"high_level_substr\"]]"
   ]
  },
  {
   "cell_type": "code",
   "execution_count": 1099,
   "id": "c00ab7c3",
   "metadata": {},
   "outputs": [
    {
     "data": {
      "text/plain": [
       "450"
      ]
     },
     "execution_count": 1099,
     "metadata": {},
     "output_type": "execute_result"
    }
   ],
   "source": [
    "len(targets_train)"
   ]
  },
  {
   "cell_type": "code",
   "execution_count": 1100,
   "id": "d7884bbb",
   "metadata": {},
   "outputs": [
    {
     "data": {
      "text/plain": [
       "(450, 3)"
      ]
     },
     "execution_count": 1100,
     "metadata": {},
     "output_type": "execute_result"
    }
   ],
   "source": [
    "data_train.shape"
   ]
  },
  {
   "cell_type": "code",
   "execution_count": 1101,
   "id": "fb8d0fd3",
   "metadata": {},
   "outputs": [],
   "source": [
    "best_estimator = best_estimator_"
   ]
  },
  {
   "cell_type": "code",
   "execution_count": 1102,
   "id": "6ac59bef",
   "metadata": {},
   "outputs": [
    {
     "data": {
      "text/plain": [
       "Pipeline(steps=[('countvectorizer',\n",
       "                 CountVectorizer(lowercase=False,\n",
       "                                 tokenizer=<function model_by_classes.<locals>.<lambda> at 0x000001A897EF2B80>)),\n",
       "                ('rf',\n",
       "                 RandomForestClassifier(class_weight={'algal glycans': 16.071428571428573,\n",
       "                                                      'capsule polysaccharide': 10.714285714285714,\n",
       "                                                      'mono/di/trisaccharide': 8.181818181818182,\n",
       "                                                      'multiple_substrates': 4.6875,\n",
       "                                                      'others': 2.227722772277228,\n",
       "                                                      'xylan': 16.666666666666668},\n",
       "                                        max_features='log2', n_estimators=400,\n",
       "                                        n_jobs=6))])"
      ]
     },
     "execution_count": 1102,
     "metadata": {},
     "output_type": "execute_result"
    }
   ],
   "source": [
    "# refit this best estimator\n",
    "best_estimator.fit(np.array(X_train), np.array(targets_train))"
   ]
  },
  {
   "cell_type": "code",
   "execution_count": 1103,
   "id": "1c513e91",
   "metadata": {},
   "outputs": [],
   "source": [
    "# get the predictions for test\n",
    "y_test_pred = best_estimator.predict(np.array(X_test))"
   ]
  },
  {
   "cell_type": "code",
   "execution_count": 1104,
   "id": "b9f19d20",
   "metadata": {},
   "outputs": [],
   "source": [
    "# column change the original targets to top 6 + unknown\n",
    "targets_test = [target if target in top_k else \"others\" for target in y_test]"
   ]
  },
  {
   "cell_type": "code",
   "execution_count": 1105,
   "id": "eff7ce03",
   "metadata": {},
   "outputs": [],
   "source": [
    "from sklearn.metrics import confusion_matrix"
   ]
  },
  {
   "cell_type": "code",
   "execution_count": 1106,
   "id": "c85b0161",
   "metadata": {},
   "outputs": [
    {
     "data": {
      "text/plain": [
       "194"
      ]
     },
     "execution_count": 1106,
     "metadata": {},
     "output_type": "execute_result"
    }
   ],
   "source": [
    "len(targets_test)"
   ]
  },
  {
   "cell_type": "code",
   "execution_count": 1043,
   "id": "44c9e59a",
   "metadata": {},
   "outputs": [],
   "source": [
    "# get the array oaf confusion matrix\n",
    "cm = confusion_matrix(targets_test, y_test_pred, normalize = 'true')"
   ]
  },
  {
   "cell_type": "code",
   "execution_count": 1044,
   "id": "f17c5fac",
   "metadata": {},
   "outputs": [],
   "source": [
    "# dataframe for confusion matrix\n",
    "df_cm = pd.DataFrame(cm, index = [i for i in best_estimator.classes_],\n",
    "                  columns = [i for i in best_estimator.classes_])"
   ]
  },
  {
   "cell_type": "code",
   "execution_count": 1045,
   "id": "3d5a3b8c",
   "metadata": {},
   "outputs": [],
   "source": [
    "# seaborn that helps with aesthetically pleasing plots\n",
    "import seaborn as sns"
   ]
  },
  {
   "cell_type": "code",
   "execution_count": 1046,
   "id": "4d4f935b",
   "metadata": {},
   "outputs": [
    {
     "data": {
      "image/png": "[encoded data removed]",
      "text/plain": [
       "<Figure size 720x576 with 2 Axes>"
      ]
     },
     "metadata": {
      "needs_background": "light"
     },
     "output_type": "display_data"
    }
   ],
   "source": [
    "# make the plot\n",
    "plt.figure(figsize = (10, 8))\n",
    "sns.heatmap(df_cm, annot = True)\n",
    "plt.title(\"confusion matrix for the test set\", fontsize = 20)\n",
    "plt.xlabel(\"Predicted Label\", fontsize = 20)\n",
    "plt.ylabel(\"True Label\", fontsize = 20)\n",
    "plt.show()\n"
   ]
  },
  {
   "cell_type": "code",
   "execution_count": 1047,
   "id": "27daa6fc",
   "metadata": {},
   "outputs": [],
   "source": [
    "from sklearn.metrics import accuracy_score"
   ]
  },
  {
   "cell_type": "code",
   "execution_count": 1048,
   "id": "63317ccb",
   "metadata": {},
   "outputs": [
    {
     "data": {
      "text/plain": [
       "0.5721649484536082"
      ]
     },
     "execution_count": 1048,
     "metadata": {},
     "output_type": "execute_result"
    }
   ],
   "source": [
    "accuracy_score(targets_test, y_test_pred)"
   ]
  },
  {
   "cell_type": "code",
   "execution_count": 1049,
   "id": "b2d37b96",
   "metadata": {},
   "outputs": [
    {
     "data": {
      "text/plain": [
       "['multiple_substrates',\n",
       " 'mono/di/trisaccharide',\n",
       " 'capsule polysaccharide',\n",
       " 'algal glycans',\n",
       " 'xylan']"
      ]
     },
     "execution_count": 1049,
     "metadata": {},
     "output_type": "execute_result"
    }
   ],
   "source": [
    "top_k"
   ]
  },
  {
   "cell_type": "markdown",
   "id": "6b770e6d",
   "metadata": {},
   "source": [
    "#### Try reduced classification"
   ]
  },
  {
   "cell_type": "code",
   "execution_count": 1629,
   "id": "db30611f",
   "metadata": {},
   "outputs": [],
   "source": [
    "# classes to keep\n",
    "to_keep_classes = top_k"
   ]
  },
  {
   "cell_type": "code",
   "execution_count": 1630,
   "id": "28e38d3b",
   "metadata": {},
   "outputs": [],
   "source": [
    "# loop over all these classes and keep all those \n",
    "catch = []\n",
    "for classes in to_keep_classes:\n",
    "    filtered_df = data[data[\"high_level_substr\"] == classes]\n",
    "    low_level_freq = filtered_df[\"low_level_substr\"].value_counts()\n",
    "    to_keep = [k for k, v in low_level_freq.items() if v >= 12]\n",
    "    filtered_df = filtered_df[filtered_df[\"low_level_substr\"].isin(to_keep)]\n",
    "    catch.append(filtered_df)"
   ]
  },
  {
   "cell_type": "code",
   "execution_count": 1631,
   "id": "050bf013",
   "metadata": {},
   "outputs": [],
   "source": [
    "filtered_df = pd.concat(catch)"
   ]
  },
  {
   "cell_type": "code",
   "execution_count": 1632,
   "id": "99b37fa8",
   "metadata": {},
   "outputs": [],
   "source": [
    "other_df = data[~data.index.isin(filtered_df.index)]"
   ]
  },
  {
   "cell_type": "code",
   "execution_count": 1633,
   "id": "88d4df5a",
   "metadata": {},
   "outputs": [],
   "source": [
    "not_keep_df = other_df[~other_df[\"high_level_substr\"].isin(to_keep_classes)]"
   ]
  },
  {
   "cell_type": "code",
   "execution_count": 1634,
   "id": "4e8b22a9",
   "metadata": {},
   "outputs": [
    {
     "name": "stderr",
     "output_type": "stream",
     "text": [
      "C:\\Users\\vedpi\\AppData\\Local\\Temp/ipykernel_14428/3001469651.py:1: SettingWithCopyWarning: \n",
      "A value is trying to be set on a copy of a slice from a DataFrame.\n",
      "Try using .loc[row_indexer,col_indexer] = value instead\n",
      "\n",
      "See the caveats in the documentation: https://pandas.pydata.org/pandas-docs/stable/user_guide/indexing.html#returning-a-view-versus-a-copy\n",
      "  not_keep_df[\"high_level_substr\"] = \"others\"\n"
     ]
    }
   ],
   "source": [
    "not_keep_df[\"high_level_substr\"] = \"others\""
   ]
  },
  {
   "cell_type": "code",
   "execution_count": 1635,
   "id": "02fc5959",
   "metadata": {},
   "outputs": [],
   "source": [
    "combined_df = pd.concat([filtered_df[[\"sig_gene_seq\", \"category_sequence\" ,\"high_level_substr\"]], \n",
    "           not_keep_df[[\"sig_gene_seq\", \"category_sequence\" ,\"high_level_substr\"]]]).sample(frac = 1.0)"
   ]
  },
  {
   "cell_type": "code",
   "execution_count": 1636,
   "id": "2038c15b",
   "metadata": {},
   "outputs": [
    {
     "data": {
      "text/plain": [
       "(443, 3)"
      ]
     },
     "execution_count": 1636,
     "metadata": {},
     "output_type": "execute_result"
    }
   ],
   "source": [
    "combined_df.shape"
   ]
  },
  {
   "cell_type": "code",
   "execution_count": 1058,
   "id": "af7122f1",
   "metadata": {},
   "outputs": [],
   "source": [
    "# from sklearn.preprocessing import LabelEncoder"
   ]
  },
  {
   "cell_type": "code",
   "execution_count": 1059,
   "id": "593b0c14",
   "metadata": {},
   "outputs": [],
   "source": [
    "# le = LabelEncoder()"
   ]
  },
  {
   "cell_type": "code",
   "execution_count": 1637,
   "id": "0f6aea89",
   "metadata": {},
   "outputs": [
    {
     "data": {
      "text/plain": [
       "others                    290\n",
       "capsule polysaccharide     60\n",
       "mono/di/trisaccharide      26\n",
       "xylan                      25\n",
       "algal glycans              21\n",
       "multiple_substrates        21\n",
       "Name: high_level_substr, dtype: int64"
      ]
     },
     "execution_count": 1637,
     "metadata": {},
     "output_type": "execute_result"
    }
   ],
   "source": [
    "combined_df[\"high_level_substr\"].value_counts()"
   ]
  },
  {
   "cell_type": "code",
   "execution_count": 1638,
   "id": "9de54bc2",
   "metadata": {},
   "outputs": [],
   "source": [
    "X_train, X_test, y_train, y_test = train_test_split(combined_df[[\"sig_gene_seq\", \"category_sequence\"]],\n",
    "                                                    combined_df[\"high_level_substr\"], \n",
    "                                                   test_size = 0.3, stratify = combined_df[\"high_level_substr\"])"
   ]
  },
  {
   "cell_type": "code",
   "execution_count": 1639,
   "id": "4305a0c3",
   "metadata": {},
   "outputs": [],
   "source": [
    "from sklearn.feature_extraction.text import CountVectorizer"
   ]
  },
  {
   "cell_type": "code",
   "execution_count": 1640,
   "id": "154ef0c9",
   "metadata": {},
   "outputs": [],
   "source": [
    "vectorizer = CountVectorizer(tokenizer=lambda x: str(x).replace(\"|\", \",\").split(','), lowercase = False)"
   ]
  },
  {
   "cell_type": "code",
   "execution_count": 1641,
   "id": "e2d9a816",
   "metadata": {},
   "outputs": [
    {
     "name": "stderr",
     "output_type": "stream",
     "text": [
      "C:\\Users\\vedpi\\anaconda3\\envs\\newone\\lib\\site-packages\\sklearn\\feature_extraction\\text.py:516: UserWarning: The parameter 'token_pattern' will not be used since 'tokenizer' is not None'\n",
      "  warnings.warn(\n"
     ]
    },
    {
     "data": {
      "text/plain": [
       "CountVectorizer(lowercase=False,\n",
       "                tokenizer=<function <lambda> at 0x000001AA767AFD30>)"
      ]
     },
     "execution_count": 1641,
     "metadata": {},
     "output_type": "execute_result"
    }
   ],
   "source": [
    "vectorizer.fit(X_train[\"sig_gene_seq\"] + \",\" + X_train[\"category_sequence\"])"
   ]
  },
  {
   "cell_type": "code",
   "execution_count": 1642,
   "id": "8d42137f",
   "metadata": {},
   "outputs": [],
   "source": [
    "X_train = vectorizer.transform(X_train[\"sig_gene_seq\"] + \",\" + X_train[\"category_sequence\"])"
   ]
  },
  {
   "cell_type": "code",
   "execution_count": 1643,
   "id": "ad493c0b",
   "metadata": {},
   "outputs": [],
   "source": [
    "X_test = vectorizer.transform(X_test[\"sig_gene_seq\"] + \",\" + X_test[\"category_sequence\"])"
   ]
  },
  {
   "cell_type": "code",
   "execution_count": 1644,
   "id": "61bb3717",
   "metadata": {},
   "outputs": [],
   "source": [
    "from sklearn.ensemble import RandomForestClassifier"
   ]
  },
  {
   "cell_type": "code",
   "execution_count": 1645,
   "id": "0627b21b",
   "metadata": {},
   "outputs": [],
   "source": [
    "class_weights = dict(1/(y_train.value_counts()/y_train.value_counts().cumsum()[-1]))"
   ]
  },
  {
   "cell_type": "code",
   "execution_count": 1646,
   "id": "3d9bf577",
   "metadata": {},
   "outputs": [],
   "source": [
    "rf = RandomForestClassifier(n_jobs = 6, class_weight = class_weights)"
   ]
  },
  {
   "cell_type": "code",
   "execution_count": 1647,
   "id": "3463d965",
   "metadata": {},
   "outputs": [
    {
     "data": {
      "text/plain": [
       "RandomForestClassifier(class_weight={'algal glycans': 20.666666666666668,\n",
       "                                     'capsule polysaccharide': 7.3809523809523805,\n",
       "                                     'mono/di/trisaccharide': 17.22222222222222,\n",
       "                                     'multiple_substrates': 20.666666666666668,\n",
       "                                     'others': 1.5270935960591134,\n",
       "                                     'xylan': 18.235294117647058},\n",
       "                       n_jobs=6)"
      ]
     },
     "execution_count": 1647,
     "metadata": {},
     "output_type": "execute_result"
    }
   ],
   "source": [
    "rf.fit(X_train, y_train)"
   ]
  },
  {
   "cell_type": "code",
   "execution_count": 1648,
   "id": "0a2a71ff",
   "metadata": {},
   "outputs": [],
   "source": [
    "y_test_pred = rf.predict(X_test)"
   ]
  },
  {
   "cell_type": "code",
   "execution_count": 1649,
   "id": "2f3259a7",
   "metadata": {},
   "outputs": [],
   "source": [
    "import numpy as np"
   ]
  },
  {
   "cell_type": "code",
   "execution_count": 1650,
   "id": "e6bd0eaf",
   "metadata": {},
   "outputs": [],
   "source": [
    "from sklearn.metrics import confusion_matrix"
   ]
  },
  {
   "cell_type": "code",
   "execution_count": 1651,
   "id": "8b1965c4",
   "metadata": {},
   "outputs": [
    {
     "data": {
      "text/plain": [
       "133"
      ]
     },
     "execution_count": 1651,
     "metadata": {},
     "output_type": "execute_result"
    }
   ],
   "source": [
    "len(y_test)"
   ]
  },
  {
   "cell_type": "code",
   "execution_count": 1652,
   "id": "2333c483",
   "metadata": {},
   "outputs": [],
   "source": [
    "# get the array oaf confusion matrix\n",
    "cm = confusion_matrix(y_test, y_test_pred, normalize = 'true')"
   ]
  },
  {
   "cell_type": "code",
   "execution_count": 1653,
   "id": "fe35b36d",
   "metadata": {},
   "outputs": [],
   "source": [
    "# dataframe for confusion matrix\n",
    "df_cm = pd.DataFrame(cm, index = [i for i in rf.classes_],\n",
    "                  columns = [i for i in rf.classes_])"
   ]
  },
  {
   "cell_type": "code",
   "execution_count": 1654,
   "id": "ffc9014f",
   "metadata": {},
   "outputs": [],
   "source": [
    "# seaborn that helps with aesthetically pleasing plots\n",
    "import seaborn as sns"
   ]
  },
  {
   "cell_type": "code",
   "execution_count": 1655,
   "id": "d2ce3325",
   "metadata": {},
   "outputs": [],
   "source": [
    "import matplotlib.pyplot as plt"
   ]
  },
  {
   "cell_type": "code",
   "execution_count": 1656,
   "id": "8d9cbb74",
   "metadata": {},
   "outputs": [
    {
     "data": {
      "image/png": "[encoded data removed]",
      "text/plain": [
       "<Figure size 720x720 with 2 Axes>"
      ]
     },
     "metadata": {
      "needs_background": "light"
     },
     "output_type": "display_data"
    }
   ],
   "source": [
    "# make the plot\n",
    "plt.figure(figsize = (10, 10))\n",
    "sns.heatmap(df_cm, annot = True)\n",
    "plt.title(\"confusion matrix for the test set\", fontsize = 20)\n",
    "plt.xlabel(\"Predicted Label\", fontsize = 20)\n",
    "plt.ylabel(\"True Label\", fontsize = 20)\n",
    "plt.show()\n"
   ]
  },
  {
   "cell_type": "code",
   "execution_count": 1166,
   "id": "f1ff1ce6",
   "metadata": {},
   "outputs": [
    {
     "data": {
      "text/plain": [
       "0.825"
      ]
     },
     "execution_count": 1166,
     "metadata": {},
     "output_type": "execute_result"
    }
   ],
   "source": [
    "accuracy_score(y_test, y_test_pred)"
   ]
  },
  {
   "cell_type": "markdown",
   "id": "14344214",
   "metadata": {},
   "source": [
    "#### demonstration of Metric Learning Idea"
   ]
  },
  {
   "cell_type": "code",
   "execution_count": 1089,
   "id": "3306f8b5",
   "metadata": {},
   "outputs": [],
   "source": [
    "# get the classes we are not handling\n"
   ]
  },
  {
   "cell_type": "code",
   "execution_count": 1197,
   "id": "db424c7a",
   "metadata": {},
   "outputs": [],
   "source": [
    "not_top_k = [classes for classes in np.unique(data[\"high_level_substr\"]) if classes not in top_k]"
   ]
  },
  {
   "cell_type": "code",
   "execution_count": 1198,
   "id": "1331b93d",
   "metadata": {},
   "outputs": [],
   "source": [
    "# get those data from the test data\n",
    "not_top_k_data = data[data.high_level_substr.isin(not_top_k)].reset_index(drop = True)"
   ]
  },
  {
   "cell_type": "code",
   "execution_count": 1199,
   "id": "93575d6f",
   "metadata": {},
   "outputs": [
    {
     "data": {
      "text/plain": [
       "(290, 6)"
      ]
     },
     "execution_count": 1199,
     "metadata": {},
     "output_type": "execute_result"
    }
   ],
   "source": [
    "not_top_k_data.shape"
   ]
  },
  {
   "cell_type": "code",
   "execution_count": 1200,
   "id": "9eaad31a",
   "metadata": {},
   "outputs": [],
   "source": [
    "to_keep = not_top_k_data[\"high_level_substr\"].value_counts()[:11].keys()"
   ]
  },
  {
   "cell_type": "code",
   "execution_count": 1201,
   "id": "bd835982",
   "metadata": {},
   "outputs": [],
   "source": [
    "not_top_k_data = not_top_k_data[not_top_k_data[\"high_level_substr\"].isin(to_keep)]"
   ]
  },
  {
   "cell_type": "code",
   "execution_count": 1202,
   "id": "ea4e6c3e",
   "metadata": {},
   "outputs": [],
   "source": [
    "X_train, X_test, y_train, y_test = train_test_split(not_top_k_data[[\"sig_gene_seq\", \"category_sequence\"]],\n",
    "                                                    not_top_k_data[\"high_level_substr\"], \n",
    "                                                   test_size = 0.3, stratify = not_top_k_data[\"high_level_substr\"])"
   ]
  },
  {
   "cell_type": "code",
   "execution_count": 1203,
   "id": "656a2c79",
   "metadata": {},
   "outputs": [],
   "source": [
    "from metric_learn import NCA"
   ]
  },
  {
   "cell_type": "code",
   "execution_count": 1204,
   "id": "22690b3d",
   "metadata": {},
   "outputs": [],
   "source": [
    "from sklearn.preprocessing import FunctionTransformer"
   ]
  },
  {
   "cell_type": "code",
   "execution_count": 1205,
   "id": "9ccebba9",
   "metadata": {},
   "outputs": [],
   "source": [
    "X_train = X_train[\"sig_gene_seq\"] + \",\" + X_train[\"category_sequence\"]"
   ]
  },
  {
   "cell_type": "code",
   "execution_count": 1206,
   "id": "a99d7f6b",
   "metadata": {},
   "outputs": [],
   "source": [
    "X_test = X_test[\"sig_gene_seq\"] + \",\" + X_test[\"category_sequence\"]"
   ]
  },
  {
   "cell_type": "code",
   "execution_count": 1207,
   "id": "b040eb4d",
   "metadata": {},
   "outputs": [],
   "source": [
    "# classifier again\n",
    "clf = Pipeline([('countvectorizer', CountVectorizer(tokenizer=lambda x: x.split(','))),\n",
    "                ('ft', FunctionTransformer(lambda x: x.toarray(), accept_sparse=True)), \n",
    "                ('nca', NCA()),\n",
    "                ('rf', RandomForestClassifier(n_jobs = 6))])"
   ]
  },
  {
   "cell_type": "code",
   "execution_count": 1208,
   "id": "bdd16ae0",
   "metadata": {},
   "outputs": [],
   "source": [
    "# Parameters of pipelines can be set using ‘__’ separated parameter names:\n",
    "param_grid = {\n",
    "    'countvectorizer__min_df': [1,2,3],\n",
    "    'rf__n_estimators': [100,200,400], \n",
    "    'rf__max_features': [\"auto\", \"log2\"]\n",
    "}"
   ]
  },
  {
   "cell_type": "code",
   "execution_count": 1209,
   "id": "35db4b9b",
   "metadata": {},
   "outputs": [
    {
     "name": "stdout",
     "output_type": "stream",
     "text": [
      "Fitting 5 folds for each of 18 candidates, totalling 90 fits\n"
     ]
    },
    {
     "data": {
      "text/plain": [
       "GridSearchCV(cv=5,\n",
       "             estimator=Pipeline(steps=[('countvectorizer',\n",
       "                                        CountVectorizer(tokenizer=<function <lambda> at 0x000001A897DEE4C0>)),\n",
       "                                       ('ft',\n",
       "                                        FunctionTransformer(accept_sparse=True,\n",
       "                                                            func=<function <lambda> at 0x000001A89C700790>)),\n",
       "                                       ('nca', NCA()),\n",
       "                                       ('rf',\n",
       "                                        RandomForestClassifier(n_jobs=6))]),\n",
       "             n_jobs=6,\n",
       "             param_grid={'countvectorizer__min_df': [1, 2, 3],\n",
       "                         'rf__max_features': ['auto', 'log2'],\n",
       "                         'rf__n_estimators': [100, 200, 400]},\n",
       "             scoring='accuracy', verbose=3)"
      ]
     },
     "execution_count": 1209,
     "metadata": {},
     "output_type": "execute_result"
    }
   ],
   "source": [
    "# fit the search\n",
    "search = GridSearchCV(clf, param_grid, n_jobs=6 , verbose = 3, cv = 5, scoring = \"accuracy\")\n",
    "search.fit(X_train, y_train)"
   ]
  },
  {
   "cell_type": "code",
   "execution_count": 1210,
   "id": "7c24cf2c",
   "metadata": {},
   "outputs": [
    {
     "data": {
      "text/plain": [
       "0.5543560606060606"
      ]
     },
     "execution_count": 1210,
     "metadata": {},
     "output_type": "execute_result"
    }
   ],
   "source": [
    "# mean average accuracy\n",
    "search.best_score_"
   ]
  },
  {
   "cell_type": "code",
   "execution_count": 1211,
   "id": "e8e681b8",
   "metadata": {},
   "outputs": [
    {
     "data": {
      "text/plain": [
       "0.08568396160542745"
      ]
     },
     "execution_count": 1211,
     "metadata": {},
     "output_type": "execute_result"
    }
   ],
   "source": [
    "# standard error\n",
    "search.cv_results_['std_test_score'][np.argmax(search.cv_results_['mean_test_score'])]"
   ]
  },
  {
   "cell_type": "code",
   "execution_count": 1212,
   "id": "ca323147",
   "metadata": {},
   "outputs": [],
   "source": [
    "best_estimator = search.best_estimator_"
   ]
  },
  {
   "cell_type": "code",
   "execution_count": 1213,
   "id": "dae501ef",
   "metadata": {},
   "outputs": [
    {
     "data": {
      "text/plain": [
       "Pipeline(steps=[('countvectorizer',\n",
       "                 CountVectorizer(tokenizer=<function <lambda> at 0x000001A897DEE4C0>)),\n",
       "                ('ft',\n",
       "                 FunctionTransformer(accept_sparse=True,\n",
       "                                     func=<function <lambda> at 0x000001A89C700790>)),\n",
       "                ('nca', NCA()), ('rf', RandomForestClassifier(n_jobs=6))])"
      ]
     },
     "execution_count": 1213,
     "metadata": {},
     "output_type": "execute_result"
    }
   ],
   "source": [
    "# fit again\n",
    "best_estimator.fit(X_train, y_train)"
   ]
  },
  {
   "cell_type": "code",
   "execution_count": 1214,
   "id": "38f6775a",
   "metadata": {},
   "outputs": [],
   "source": [
    "# predicitions on test\n",
    "y_test_pred = best_estimator.predict(X_test)"
   ]
  },
  {
   "cell_type": "code",
   "execution_count": 1218,
   "id": "1305f16d",
   "metadata": {},
   "outputs": [],
   "source": [
    "# get the array of confusion matrix\n",
    "cm = confusion_matrix(y_test, y_test_pred, normalize = 'true')"
   ]
  },
  {
   "cell_type": "code",
   "execution_count": 1219,
   "id": "7e30f845",
   "metadata": {},
   "outputs": [],
   "source": [
    "# dataframe for confusion matrix\n",
    "df_cm = pd.DataFrame(cm, index = [i for i in best_estimator.classes_ ],\n",
    "                  columns = [i for i in best_estimator.classes_ ])"
   ]
  },
  {
   "cell_type": "code",
   "execution_count": 1220,
   "id": "cbde1583",
   "metadata": {},
   "outputs": [
    {
     "data": {
      "image/png": "[encoded data removed]",
      "text/plain": [
       "<Figure size 720x576 with 2 Axes>"
      ]
     },
     "metadata": {
      "needs_background": "light"
     },
     "output_type": "display_data"
    }
   ],
   "source": [
    "# make the plot\n",
    "plt.figure(figsize = (10, 8))\n",
    "sns.heatmap(df_cm, annot = True)\n",
    "plt.title(\"confusion matrix for the test set\", fontsize = 20)\n",
    "plt.xlabel(\"Predicted Label\", fontsize = 20)\n",
    "plt.ylabel(\"True Label\", fontsize = 20)\n",
    "plt.show()\n"
   ]
  },
  {
   "cell_type": "markdown",
   "id": "419cc76c",
   "metadata": {},
   "source": [
    "#### LSTM for sequential feature extraction"
   ]
  },
  {
   "cell_type": "code",
   "execution_count": 1594,
   "id": "45c06c8e",
   "metadata": {},
   "outputs": [],
   "source": [
    "# Let's use the combined df which we have created by artificially reducing the noise within classes"
   ]
  },
  {
   "cell_type": "code",
   "execution_count": 1595,
   "id": "249e9899",
   "metadata": {},
   "outputs": [
    {
     "data": {
      "text/plain": [
       "(443, 3)"
      ]
     },
     "execution_count": 1595,
     "metadata": {},
     "output_type": "execute_result"
    }
   ],
   "source": [
    "combined_df.shape"
   ]
  },
  {
   "cell_type": "code",
   "execution_count": 1596,
   "id": "6c35432e",
   "metadata": {},
   "outputs": [],
   "source": [
    "# need to get an idea about the lengths first"
   ]
  },
  {
   "cell_type": "code",
   "execution_count": 1597,
   "id": "9656acaf",
   "metadata": {},
   "outputs": [
    {
     "data": {
      "image/png": "[encoded data removed]",
      "text/plain": [
       "<Figure size 432x288 with 1 Axes>"
      ]
     },
     "metadata": {
      "needs_background": "light"
     },
     "output_type": "display_data"
    }
   ],
   "source": [
    "plt.hist([len(seq.split(\",\")) for seq in combined_df[\"sig_gene_seq\"].values])\n",
    "plt.show()"
   ]
  },
  {
   "cell_type": "code",
   "execution_count": 1598,
   "id": "edec9fbb",
   "metadata": {},
   "outputs": [],
   "source": [
    "import tensorflow as tf"
   ]
  },
  {
   "cell_type": "code",
   "execution_count": 1599,
   "id": "98911d19",
   "metadata": {},
   "outputs": [],
   "source": [
    "# have an input layer\n",
    "input_layer = tf.keras.layers.Input(shape = (), dtype = tf.string)"
   ]
  },
  {
   "cell_type": "code",
   "execution_count": 1600,
   "id": "d07140a8",
   "metadata": {},
   "outputs": [
    {
     "data": {
      "text/plain": [
       "397"
      ]
     },
     "execution_count": 1600,
     "metadata": {},
     "output_type": "execute_result"
    }
   ],
   "source": [
    "len(np.unique([gene for seq in combined_df[\"sig_gene_seq\"].values for gene in seq.split(\",\")]))"
   ]
  },
  {
   "cell_type": "code",
   "execution_count": 1601,
   "id": "a712decf",
   "metadata": {},
   "outputs": [],
   "source": [
    "from sklearn.preprocessing import LabelEncoder"
   ]
  },
  {
   "cell_type": "code",
   "execution_count": 1602,
   "id": "1de2ad29",
   "metadata": {},
   "outputs": [],
   "source": [
    "le = LabelEncoder()"
   ]
  },
  {
   "cell_type": "code",
   "execution_count": 1603,
   "id": "ad17f507",
   "metadata": {},
   "outputs": [],
   "source": [
    "combined_df[\"high_level_substr\"] = le.fit_transform(combined_df[\"high_level_substr\"])"
   ]
  },
  {
   "cell_type": "code",
   "execution_count": 1604,
   "id": "357fbef0",
   "metadata": {},
   "outputs": [],
   "source": [
    "X_train, X_test, y_train, y_test = train_test_split(combined_df[[\"sig_gene_seq\"]],\n",
    "                                                    combined_df[\"high_level_substr\"], \n",
    "                                                   test_size = 0.3, stratify = combined_df[\"high_level_substr\"])"
   ]
  },
  {
   "cell_type": "code",
   "execution_count": 1605,
   "id": "d6218a26",
   "metadata": {},
   "outputs": [
    {
     "data": {
      "text/plain": [
       "310"
      ]
     },
     "execution_count": 1605,
     "metadata": {},
     "output_type": "execute_result"
    }
   ],
   "source": [
    "np.array(y_train.value_counts().cumsum())[-1]"
   ]
  },
  {
   "cell_type": "code",
   "execution_count": 1606,
   "id": "60c2d9e3",
   "metadata": {},
   "outputs": [],
   "source": [
    "class_weights = dict(1/(y_train.value_counts()/np.array(y_train.value_counts().cumsum())[-1]))"
   ]
  },
  {
   "cell_type": "code",
   "execution_count": 1607,
   "id": "0462fc67",
   "metadata": {},
   "outputs": [],
   "source": [
    "X_train_seq = [seq.replace(\",\", \" \") for seq in X_train[\"sig_gene_seq\"].values]"
   ]
  },
  {
   "cell_type": "code",
   "execution_count": 1608,
   "id": "e6a8a28f",
   "metadata": {},
   "outputs": [],
   "source": [
    "X_test_seq = [seq.replace(\",\", \" \") for seq in X_test[\"sig_gene_seq\"].values]"
   ]
  },
  {
   "cell_type": "code",
   "execution_count": 1609,
   "id": "4c4a0dde",
   "metadata": {},
   "outputs": [],
   "source": [
    "max_tokens = 40"
   ]
  },
  {
   "cell_type": "code",
   "execution_count": 1610,
   "id": "baad0654",
   "metadata": {},
   "outputs": [],
   "source": [
    "# pass this to a vectorization layer\n",
    "# but first make a vectorization layer\n",
    "text_vec_layer = tf.keras.layers.TextVectorization(max_tokens = max_tokens, output_mode = \"int\",\n",
    "                                                  output_sequence_length=15, standardize = None)"
   ]
  },
  {
   "cell_type": "code",
   "execution_count": 1611,
   "id": "e1a8c8f0",
   "metadata": {},
   "outputs": [],
   "source": [
    "text_vec_layer.adapt(X_train_seq)"
   ]
  },
  {
   "cell_type": "code",
   "execution_count": 1612,
   "id": "161d3b85",
   "metadata": {},
   "outputs": [],
   "source": [
    "# pass the input through this text vectorization layer\n",
    "vectorized_text = text_vec_layer(input_layer)"
   ]
  },
  {
   "cell_type": "code",
   "execution_count": 1613,
   "id": "0365aa0c",
   "metadata": {},
   "outputs": [],
   "source": [
    "# instantiate an embedding layer\n",
    "emb_layer = tf.keras.layers.Embedding(max_tokens, 32, mask_zero = True)"
   ]
  },
  {
   "cell_type": "code",
   "execution_count": 1614,
   "id": "dbf2ae42",
   "metadata": {},
   "outputs": [],
   "source": [
    "# pass the vectorized text through the embedding layer\n",
    "emb_output = emb_layer(vectorized_text)"
   ]
  },
  {
   "cell_type": "code",
   "execution_count": 1615,
   "id": "7408c13f",
   "metadata": {},
   "outputs": [],
   "source": [
    "# instantiate a recurrent layer\n",
    "gru_layer = tf.keras.layers.GRU(16)"
   ]
  },
  {
   "cell_type": "code",
   "execution_count": 1616,
   "id": "e3d2d424",
   "metadata": {},
   "outputs": [],
   "source": [
    "# pass the emb output through the gru\n",
    "gru_output = gru_layer(emb_output)"
   ]
  },
  {
   "cell_type": "code",
   "execution_count": 1617,
   "id": "d7067429",
   "metadata": {},
   "outputs": [],
   "source": [
    "# classification layer\n",
    "classification_layer = tf.keras.layers.Dense(len(np.unique(targets_train)))"
   ]
  },
  {
   "cell_type": "code",
   "execution_count": 1618,
   "id": "8fd9a7e5",
   "metadata": {},
   "outputs": [],
   "source": [
    "# class output\n",
    "class_output = classification_layer(gru_output)"
   ]
  },
  {
   "cell_type": "code",
   "execution_count": 1619,
   "id": "76731365",
   "metadata": {},
   "outputs": [],
   "source": [
    "# make the model\n",
    "model = tf.keras.models.Model(input_layer, class_output)"
   ]
  },
  {
   "cell_type": "code",
   "execution_count": 1620,
   "id": "5a801073",
   "metadata": {},
   "outputs": [
    {
     "name": "stdout",
     "output_type": "stream",
     "text": [
      "Model: \"model_11\"\n",
      "_________________________________________________________________\n",
      "Layer (type)                 Output Shape              Param #   \n",
      "=================================================================\n",
      "input_13 (InputLayer)        [(None,)]                 0         \n",
      "_________________________________________________________________\n",
      "text_vectorization_11 (TextV (None, 15)                0         \n",
      "_________________________________________________________________\n",
      "embedding_11 (Embedding)     (None, 15, 32)            1280      \n",
      "_________________________________________________________________\n",
      "gru_8 (GRU)                  (None, 16)                2400      \n",
      "_________________________________________________________________\n",
      "dense_11 (Dense)             (None, 6)                 102       \n",
      "=================================================================\n",
      "Total params: 3,782\n",
      "Trainable params: 3,782\n",
      "Non-trainable params: 0\n",
      "_________________________________________________________________\n"
     ]
    }
   ],
   "source": [
    "model.summary()"
   ]
  },
  {
   "cell_type": "code",
   "execution_count": 1621,
   "id": "f8a2b0bc",
   "metadata": {},
   "outputs": [
    {
     "data": {
      "image/png": "[encoded data removed]",
      "text/plain": [
       "<IPython.core.display.Image object>"
      ]
     },
     "execution_count": 1621,
     "metadata": {},
     "output_type": "execute_result"
    }
   ],
   "source": [
    "tf.keras.utils.plot_model(model, show_shapes = True)"
   ]
  },
  {
   "cell_type": "code",
   "execution_count": 1622,
   "id": "3811168e",
   "metadata": {},
   "outputs": [],
   "source": [
    "model.compile(loss = tf.keras.losses.SparseCategoricalCrossentropy(from_logits=True), \n",
    "             optimizer = tf.keras.optimizers.Adam(learning_rate = 1e-3), \n",
    "             metrics=tf.keras.metrics.SparseCategoricalAccuracy())"
   ]
  },
  {
   "cell_type": "code",
   "execution_count": 1623,
   "id": "bc87a1e1",
   "metadata": {
    "scrolled": false
   },
   "outputs": [],
   "source": [
    "# fit the model\n",
    "history = model.fit(X_train.values, np.array(y_train), verbose = 0, batch_size = 8, \n",
    "         validation_data = (X_test.values, np.array(y_test)), \n",
    "         epochs = 200, callbacks = tf.keras.callbacks.EarlyStopping(monitor = \"val_sparse_categorical_accuracy\", \n",
    "                                                                   patience = 50, mode = \"max\",\n",
    "                                                                    restore_best_weights = True), \n",
    "         class_weight=class_weights)"
   ]
  },
  {
   "cell_type": "code",
   "execution_count": 1624,
   "id": "d1ff0585",
   "metadata": {},
   "outputs": [],
   "source": [
    "y_test = model.predict(X_test.values)"
   ]
  },
  {
   "cell_type": "code",
   "execution_count": 1625,
   "id": "d763a5cc",
   "metadata": {},
   "outputs": [],
   "source": [
    "y_test = np.argmax(y_test, axis = 1)"
   ]
  },
  {
   "cell_type": "code",
   "execution_count": 1626,
   "id": "3bc11220",
   "metadata": {},
   "outputs": [
    {
     "data": {
      "text/plain": [
       "array([4, 4, 4, 4, 4, 4, 4, 4, 4, 4, 4, 4, 4, 4, 4, 4, 4, 4, 4, 4, 4, 4,\n",
       "       4, 4, 4, 4, 4, 4, 4, 4, 4, 4, 4, 4, 4, 4, 4, 4, 4, 4, 4, 4, 4, 4,\n",
       "       4, 4, 4, 4, 4, 4, 4, 4, 4, 4, 4, 4, 4, 4, 4, 4, 4, 4, 4, 4, 4, 4,\n",
       "       4, 4, 4, 4, 4, 4, 4, 4, 4, 4, 4, 4, 4, 4, 4, 4, 4, 4, 4, 4, 4, 4,\n",
       "       4, 4, 4, 4, 4, 4, 4, 4, 4, 4, 4, 4, 4, 4, 4, 4, 4, 4, 4, 4, 4, 4,\n",
       "       4, 4, 4, 4, 4, 4, 4, 4, 4, 4, 4, 4, 4, 4, 4, 4, 4, 4, 4, 4, 4, 4,\n",
       "       4], dtype=int64)"
      ]
     },
     "execution_count": 1626,
     "metadata": {},
     "output_type": "execute_result"
    }
   ],
   "source": [
    "y_test"
   ]
  },
  {
   "cell_type": "code",
   "execution_count": 1627,
   "id": "74202cbf",
   "metadata": {},
   "outputs": [
    {
     "data": {
      "image/png": "[encoded data removed]",
      "text/plain": [
       "<Figure size 432x288 with 1 Axes>"
      ]
     },
     "metadata": {
      "needs_background": "light"
     },
     "output_type": "display_data"
    }
   ],
   "source": [
    "plt.plot(history.history['sparse_categorical_accuracy'])\n",
    "plt.plot(history.history['val_sparse_categorical_accuracy'])\n",
    "plt.title('model accuracy')\n",
    "plt.ylabel('accuracy')\n",
    "plt.xlabel('epoch')\n",
    "plt.legend(['train', 'val'], loc='upper left')\n",
    "plt.show()"
   ]
  },
  {
   "cell_type": "code",
   "execution_count": 1628,
   "id": "3b00f1e8",
   "metadata": {},
   "outputs": [],
   "source": [
    "# very weird learning curves"
   ]
  }
 ],
 "metadata": {
  "kernelspec": {
   "display_name": "newone",
   "language": "python",
   "name": "newone"
  },
  "language_info": {
   "codemirror_mode": {
    "name": "ipython",
    "version": 3
   },
   "file_extension": ".py",
   "mimetype": "text/x-python",
   "name": "python",
   "nbconvert_exporter": "python",
   "pygments_lexer": "ipython3",
   "version": "3.9.7"
  }
 },
 "nbformat": 4,
 "nbformat_minor": 5
}
