{
 "cells": [
  {
   "cell_type": "code",
   "execution_count": 1,
   "id": "c025e2d8",
   "metadata": {},
   "outputs": [],
   "source": [
    "import os"
   ]
  },
  {
   "cell_type": "code",
   "execution_count": 2,
   "id": "c5a61f58",
   "metadata": {},
   "outputs": [],
   "source": [
    "os.chdir(r\"D:\\Gene_Project\")"
   ]
  },
  {
   "cell_type": "code",
   "execution_count": 3,
   "id": "0d539895",
   "metadata": {},
   "outputs": [],
   "source": [
    "import pandas as pd"
   ]
  },
  {
   "cell_type": "code",
   "execution_count": 4,
   "id": "749957e5",
   "metadata": {},
   "outputs": [],
   "source": [
    "# load the data - new data that was provided\n",
    "data = pd.read_csv(r\"pul_seq_low_high_substr_year_corrected.tsv\", sep = \"\\t\").dropna().sample(frac = 1.0)"
   ]
  },
  {
   "cell_type": "code",
   "execution_count": 5,
   "id": "252d5cbe",
   "metadata": {},
   "outputs": [],
   "source": [
    "supervised_gene_seqs = [seq.replace(\",\", \" \") for seq in data[\"sig_gene_seq\"]]"
   ]
  },
  {
   "cell_type": "code",
   "execution_count": 6,
   "id": "94e3de86",
   "metadata": {},
   "outputs": [],
   "source": [
    "all_files = os.listdir(r\"unsupervised_CGC\\output\")"
   ]
  },
  {
   "cell_type": "code",
   "execution_count": 7,
   "id": "e84a39bd",
   "metadata": {},
   "outputs": [],
   "source": [
    "unsupervised_file_path = r\"unsupervised_CGC\\output\\\\\""
   ]
  },
  {
   "cell_type": "code",
   "execution_count": 8,
   "id": "f9a7278f",
   "metadata": {},
   "outputs": [],
   "source": [
    "def read_the_data(file):\n",
    "    # read one file\n",
    "    data = pd.read_csv(unsupervised_file_path + file, sep = \" \", header = None)\n",
    "    return data"
   ]
  },
  {
   "cell_type": "code",
   "execution_count": 9,
   "id": "aff09d29",
   "metadata": {},
   "outputs": [],
   "source": [
    "from joblib import Parallel, delayed"
   ]
  },
  {
   "cell_type": "code",
   "execution_count": 10,
   "id": "7805e219",
   "metadata": {},
   "outputs": [
    {
     "name": "stderr",
     "output_type": "stream",
     "text": [
      "[Parallel(n_jobs=6)]: Using backend LokyBackend with 6 concurrent workers.\n",
      "[Parallel(n_jobs=6)]: Done  20 tasks      | elapsed:    0.8s\n",
      "[Parallel(n_jobs=6)]: Done 2572 tasks      | elapsed:    1.9s\n",
      "[Parallel(n_jobs=6)]: Done 19148 tasks      | elapsed:    7.5s\n",
      "[Parallel(n_jobs=6)]: Done 19582 out of 19582 | elapsed:    7.6s finished\n"
     ]
    }
   ],
   "source": [
    "all_files_df = Parallel(n_jobs=6, verbose = 3)(delayed(read_the_data)(i) for i in all_files)"
   ]
  },
  {
   "cell_type": "code",
   "execution_count": 11,
   "id": "53623a49",
   "metadata": {},
   "outputs": [
    {
     "data": {
      "text/plain": [
       "19582"
      ]
     },
     "execution_count": 11,
     "metadata": {},
     "output_type": "execute_result"
    }
   ],
   "source": [
    "len(all_files_df)"
   ]
  },
  {
   "cell_type": "code",
   "execution_count": 12,
   "id": "59f93a84",
   "metadata": {},
   "outputs": [],
   "source": [
    "all_unsupervised = pd.concat(all_files_df, ignore_index = True)"
   ]
  },
  {
   "cell_type": "code",
   "execution_count": 13,
   "id": "911af46c",
   "metadata": {},
   "outputs": [],
   "source": [
    "all_unsupervised.columns = [\"sequence\"]"
   ]
  },
  {
   "cell_type": "code",
   "execution_count": 14,
   "id": "bb1a8d51",
   "metadata": {},
   "outputs": [
    {
     "data": {
      "text/html": [
       "<div>\n",
       "<style scoped>\n",
       "    .dataframe tbody tr th:only-of-type {\n",
       "        vertical-align: middle;\n",
       "    }\n",
       "\n",
       "    .dataframe tbody tr th {\n",
       "        vertical-align: top;\n",
       "    }\n",
       "\n",
       "    .dataframe thead th {\n",
       "        text-align: right;\n",
       "    }\n",
       "</style>\n",
       "<table border=\"1\" class=\"dataframe\">\n",
       "  <thead>\n",
       "    <tr style=\"text-align: right;\">\n",
       "      <th></th>\n",
       "      <th>sequence</th>\n",
       "    </tr>\n",
       "  </thead>\n",
       "  <tbody>\n",
       "    <tr>\n",
       "      <th>0</th>\n",
       "      <td>1.A.72,MerR,GH23</td>\n",
       "    </tr>\n",
       "    <tr>\n",
       "      <th>1</th>\n",
       "      <td>3.A.1,CE4</td>\n",
       "    </tr>\n",
       "    <tr>\n",
       "      <th>2</th>\n",
       "      <td>3.A.23,9.A.5,MCPsignal,2.A.21,2.A.22,TetR_N,3....</td>\n",
       "    </tr>\n",
       "    <tr>\n",
       "      <th>3</th>\n",
       "      <td>CE4,8.A.5,3.A.1,3.A.1,3.A.1</td>\n",
       "    </tr>\n",
       "    <tr>\n",
       "      <th>4</th>\n",
       "      <td>GT51,Peripla_BP_2,3.A.1,3.A.1,9.B.169</td>\n",
       "    </tr>\n",
       "  </tbody>\n",
       "</table>\n",
       "</div>"
      ],
      "text/plain": [
       "                                            sequence\n",
       "0                                   1.A.72,MerR,GH23\n",
       "1                                          3.A.1,CE4\n",
       "2  3.A.23,9.A.5,MCPsignal,2.A.21,2.A.22,TetR_N,3....\n",
       "3                        CE4,8.A.5,3.A.1,3.A.1,3.A.1\n",
       "4              GT51,Peripla_BP_2,3.A.1,3.A.1,9.B.169"
      ]
     },
     "execution_count": 14,
     "metadata": {},
     "output_type": "execute_result"
    }
   ],
   "source": [
    "all_unsupervised.head()"
   ]
  },
  {
   "cell_type": "code",
   "execution_count": 15,
   "id": "98ce018e",
   "metadata": {},
   "outputs": [],
   "source": [
    "all_unsupervised.to_csv(\"all_unsupervised_genes.csv\", index = False)"
   ]
  },
  {
   "cell_type": "code",
   "execution_count": 16,
   "id": "74fbaba3",
   "metadata": {},
   "outputs": [],
   "source": [
    "all_unsupervised_split = [seq.split(\",\") for seq in all_unsupervised[\"sequence\"]]"
   ]
  },
  {
   "cell_type": "code",
   "execution_count": 17,
   "id": "f836745e",
   "metadata": {},
   "outputs": [],
   "source": [
    "# get the lengths\n",
    "len_gene_seqs = [len(seq) for seq in all_unsupervised_split]"
   ]
  },
  {
   "cell_type": "code",
   "execution_count": 18,
   "id": "966ad323",
   "metadata": {},
   "outputs": [],
   "source": [
    "import matplotlib.pyplot as plt"
   ]
  },
  {
   "cell_type": "code",
   "execution_count": 19,
   "id": "d56f8eaf",
   "metadata": {},
   "outputs": [
    {
     "data": {
      "image/png": "[encoded data removed]",
      "text/plain": [
       "<Figure size 432x288 with 1 Axes>"
      ]
     },
     "metadata": {
      "needs_background": "light"
     },
     "output_type": "display_data"
    }
   ],
   "source": [
    "plt.hist(len_gene_seqs)\n",
    "plt.show()"
   ]
  },
  {
   "cell_type": "code",
   "execution_count": 20,
   "id": "633a9e45",
   "metadata": {},
   "outputs": [],
   "source": [
    "all_genes = [gene for seq_split in all_unsupervised_split for gene in seq_split]"
   ]
  },
  {
   "cell_type": "code",
   "execution_count": 21,
   "id": "871307fe",
   "metadata": {},
   "outputs": [],
   "source": [
    "from collections import Counter"
   ]
  },
  {
   "cell_type": "code",
   "execution_count": 22,
   "id": "5a87e811",
   "metadata": {},
   "outputs": [],
   "source": [
    "unsupervised_genes = Counter(all_genes)"
   ]
  },
  {
   "cell_type": "code",
   "execution_count": 23,
   "id": "4f1ee430",
   "metadata": {},
   "outputs": [
    {
     "data": {
      "text/plain": [
       "6927"
      ]
     },
     "execution_count": 23,
     "metadata": {},
     "output_type": "execute_result"
    }
   ],
   "source": [
    "len(Counter(all_genes))"
   ]
  },
  {
   "cell_type": "code",
   "execution_count": 24,
   "id": "4b0c5002",
   "metadata": {},
   "outputs": [],
   "source": [
    "# what if we also split on the |"
   ]
  },
  {
   "cell_type": "code",
   "execution_count": 25,
   "id": "1c338afd",
   "metadata": {},
   "outputs": [],
   "source": [
    "# all_unsupervised_split_1 = [seq.replace(\"|\", \",\").split(\",\") for seq in all_unsupervised[\"sequence\"]]"
   ]
  },
  {
   "cell_type": "code",
   "execution_count": 26,
   "id": "81fc1df9",
   "metadata": {},
   "outputs": [],
   "source": [
    "# all_genes_1 = [gene for seq_split in all_unsupervised_split_1 for gene in seq_split]"
   ]
  },
  {
   "cell_type": "code",
   "execution_count": 27,
   "id": "d88026f0",
   "metadata": {},
   "outputs": [],
   "source": [
    "# unsupervised_genes_1 = Counter(all_genes_1)"
   ]
  },
  {
   "cell_type": "code",
   "execution_count": 28,
   "id": "f4eb69d4",
   "metadata": {},
   "outputs": [],
   "source": [
    "# len(Counter(unsupervised_genes_1))"
   ]
  },
  {
   "cell_type": "code",
   "execution_count": 29,
   "id": "b5d7ba83",
   "metadata": {},
   "outputs": [],
   "source": [
    "all_genes = [k for k, v in unsupervised_genes.items() if v>= 2]"
   ]
  },
  {
   "cell_type": "code",
   "execution_count": 30,
   "id": "11e8863d",
   "metadata": {},
   "outputs": [
    {
     "data": {
      "text/plain": [
       "4565"
      ]
     },
     "execution_count": 30,
     "metadata": {},
     "output_type": "execute_result"
    }
   ],
   "source": [
    "len(all_genes)"
   ]
  },
  {
   "cell_type": "code",
   "execution_count": 31,
   "id": "9c990723",
   "metadata": {},
   "outputs": [],
   "source": [
    "# vocab_genes"
   ]
  },
  {
   "cell_type": "code",
   "execution_count": 32,
   "id": "ed5fb6b1",
   "metadata": {},
   "outputs": [],
   "source": [
    "# quite a significant difference"
   ]
  },
  {
   "cell_type": "code",
   "execution_count": 33,
   "id": "eedef417",
   "metadata": {},
   "outputs": [],
   "source": [
    "all_unsupervised = [seq.replace(\",\", \" \") for seq in all_unsupervised[\"sequence\"]]"
   ]
  },
  {
   "cell_type": "code",
   "execution_count": 34,
   "id": "6ba79bf0",
   "metadata": {},
   "outputs": [],
   "source": [
    "# check the lengths\n",
    "len_all_unsupervised_split = [len(seq.split()) for seq in all_unsupervised]"
   ]
  },
  {
   "cell_type": "code",
   "execution_count": 35,
   "id": "fb97d4c7",
   "metadata": {},
   "outputs": [
    {
     "data": {
      "image/png": "[encoded data removed]",
      "text/plain": [
       "<Figure size 432x288 with 1 Axes>"
      ]
     },
     "metadata": {
      "needs_background": "light"
     },
     "output_type": "display_data"
    }
   ],
   "source": [
    "plt.hist(len_all_unsupervised_split)\n",
    "plt.show()"
   ]
  },
  {
   "cell_type": "code",
   "execution_count": 36,
   "id": "7b3d8575",
   "metadata": {},
   "outputs": [],
   "source": [
    "all_supervised_genes = [gene for seq in supervised_gene_seqs for gene in seq.split()]"
   ]
  },
  {
   "cell_type": "code",
   "execution_count": 37,
   "id": "de9d844d",
   "metadata": {},
   "outputs": [],
   "source": [
    "import numpy as np"
   ]
  },
  {
   "cell_type": "code",
   "execution_count": 38,
   "id": "e4187a81",
   "metadata": {},
   "outputs": [
    {
     "data": {
      "text/plain": [
       "0.940952380952381"
      ]
     },
     "execution_count": 38,
     "metadata": {},
     "output_type": "execute_result"
    }
   ],
   "source": [
    "len(set(all_supervised_genes).intersection(all_genes))/len(np.unique(all_supervised_genes))"
   ]
  },
  {
   "cell_type": "code",
   "execution_count": 39,
   "id": "60638dad",
   "metadata": {},
   "outputs": [],
   "source": [
    "# split the sequences into train and test\n",
    "# generate some random indexes\n",
    "import random"
   ]
  },
  {
   "cell_type": "code",
   "execution_count": 40,
   "id": "5122abc1",
   "metadata": {},
   "outputs": [],
   "source": [
    "import numpy as np\n"
   ]
  },
  {
   "cell_type": "code",
   "execution_count": 41,
   "id": "f6a1de11",
   "metadata": {},
   "outputs": [],
   "source": [
    "# train_idxs = random.sample(range(0, len(all_unsupervised)), int(len(all_unsupervised)*0.8))"
   ]
  },
  {
   "cell_type": "code",
   "execution_count": 42,
   "id": "dcb591b8",
   "metadata": {},
   "outputs": [],
   "source": [
    "# train_sequences = np.array(all_unsupervised)[train_idxs]"
   ]
  },
  {
   "cell_type": "code",
   "execution_count": 43,
   "id": "cf517a50",
   "metadata": {},
   "outputs": [],
   "source": [
    "# val_idxs = list(set(range(0, len(all_unsupervised))).difference(train_idxs))"
   ]
  },
  {
   "cell_type": "code",
   "execution_count": 44,
   "id": "1c9e8d62",
   "metadata": {},
   "outputs": [],
   "source": [
    "# val_sequences = np.array(all_unsupervised)[val_idxs]"
   ]
  },
  {
   "cell_type": "code",
   "execution_count": 45,
   "id": "a1e2c3f4",
   "metadata": {},
   "outputs": [],
   "source": [
    "# len(train_sequences), len(val_sequences)"
   ]
  },
  {
   "cell_type": "code",
   "execution_count": 46,
   "id": "35aa73cb",
   "metadata": {},
   "outputs": [],
   "source": [
    "# maybe can cut it off around 30"
   ]
  },
  {
   "cell_type": "code",
   "execution_count": 47,
   "id": "da61436f",
   "metadata": {},
   "outputs": [],
   "source": [
    "import tensorflow as tf"
   ]
  },
  {
   "cell_type": "code",
   "execution_count": 48,
   "id": "3aa58ded",
   "metadata": {},
   "outputs": [],
   "source": [
    "text_vec_layer = tf.keras.layers.TextVectorization(max_tokens = len(all_genes), standardize = None, \n",
    "                                                  ngrams = None, output_mode = \"int\", \n",
    "                                                  output_sequence_length = 30, pad_to_max_tokens = True)"
   ]
  },
  {
   "cell_type": "code",
   "execution_count": 49,
   "id": "94970680",
   "metadata": {},
   "outputs": [],
   "source": [
    "text_vec_layer.adapt(all_unsupervised, batch_size = 100000)"
   ]
  },
  {
   "cell_type": "code",
   "execution_count": 50,
   "id": "59685583",
   "metadata": {},
   "outputs": [],
   "source": [
    "# make the input layer\n",
    "input_layer = tf.keras.layers.Input(shape = (), dtype = tf.string)"
   ]
  },
  {
   "cell_type": "code",
   "execution_count": 51,
   "id": "82ce5904",
   "metadata": {},
   "outputs": [],
   "source": [
    "# pass through text vec\n",
    "text_vec_output = text_vec_layer(input_layer)"
   ]
  },
  {
   "cell_type": "code",
   "execution_count": 52,
   "id": "ac7e18b6",
   "metadata": {},
   "outputs": [],
   "source": [
    "# emb layer\n",
    "emb_layer = tf.keras.layers.Embedding(len(all_genes), 256, mask_zero = True)"
   ]
  },
  {
   "cell_type": "code",
   "execution_count": 53,
   "id": "a385e92b",
   "metadata": {},
   "outputs": [],
   "source": [
    "# emb output\n",
    "emb_output = emb_layer(text_vec_output)"
   ]
  },
  {
   "cell_type": "code",
   "execution_count": 54,
   "id": "8265e900",
   "metadata": {},
   "outputs": [],
   "source": [
    "# pass through lstm\n",
    "lstm_layer = tf.keras.layers.LSTM(128,return_state = True)"
   ]
  },
  {
   "cell_type": "code",
   "execution_count": 55,
   "id": "bdb7e78f",
   "metadata": {},
   "outputs": [],
   "source": [
    "# pass through lstm\n",
    "lstm_output, lstm_hidden, lstm_carry = lstm_layer(emb_output)"
   ]
  },
  {
   "cell_type": "code",
   "execution_count": 56,
   "id": "f6b15f7d",
   "metadata": {},
   "outputs": [],
   "source": [
    "# encoder hidden state\n",
    "encoder_state = [lstm_hidden, lstm_carry]"
   ]
  },
  {
   "cell_type": "code",
   "execution_count": 57,
   "id": "722f6741",
   "metadata": {},
   "outputs": [],
   "source": [
    "# repeat vector\n",
    "repeat_vec_output = tf.keras.layers.RepeatVector(30)(lstm_output)"
   ]
  },
  {
   "cell_type": "code",
   "execution_count": 58,
   "id": "d7024179",
   "metadata": {},
   "outputs": [],
   "source": [
    "# decoder lstm\n",
    "decoder_lstm_output = tf.keras.layers.LSTM(128, return_sequences = True)(repeat_vec_output, initial_state = encoder_state)"
   ]
  },
  {
   "cell_type": "code",
   "execution_count": 59,
   "id": "ec2980be",
   "metadata": {},
   "outputs": [],
   "source": [
    "# time distributed dense\n",
    "time_distributed_output = tf.keras.layers.TimeDistributed(tf.keras.layers.Dense(len(all_genes),\n",
    "                                                                               activation = \"softmax\"))(decoder_lstm_output)"
   ]
  },
  {
   "cell_type": "code",
   "execution_count": 60,
   "id": "bff43161",
   "metadata": {},
   "outputs": [],
   "source": [
    "model = tf.keras.models.Model(input_layer, time_distributed_output)"
   ]
  },
  {
   "cell_type": "code",
   "execution_count": 61,
   "id": "66500623",
   "metadata": {},
   "outputs": [
    {
     "name": "stdout",
     "output_type": "stream",
     "text": [
      "Model: \"model\"\n",
      "__________________________________________________________________________________________________\n",
      "Layer (type)                    Output Shape         Param #     Connected to                     \n",
      "==================================================================================================\n",
      "input_1 (InputLayer)            [(None,)]            0                                            \n",
      "__________________________________________________________________________________________________\n",
      "text_vectorization (TextVectori (None, 30)           0           input_1[0][0]                    \n",
      "__________________________________________________________________________________________________\n",
      "embedding (Embedding)           (None, 30, 256)      1168640     text_vectorization[0][0]         \n",
      "__________________________________________________________________________________________________\n",
      "lstm (LSTM)                     [(None, 128), (None, 197120      embedding[0][0]                  \n",
      "__________________________________________________________________________________________________\n",
      "repeat_vector (RepeatVector)    (None, 30, 128)      0           lstm[0][0]                       \n",
      "__________________________________________________________________________________________________\n",
      "lstm_1 (LSTM)                   (None, 30, 128)      131584      repeat_vector[0][0]              \n",
      "                                                                 lstm[0][1]                       \n",
      "                                                                 lstm[0][2]                       \n",
      "__________________________________________________________________________________________________\n",
      "time_distributed (TimeDistribut (None, 30, 4565)     588885      lstm_1[0][0]                     \n",
      "==================================================================================================\n",
      "Total params: 2,086,229\n",
      "Trainable params: 2,086,229\n",
      "Non-trainable params: 0\n",
      "__________________________________________________________________________________________________\n"
     ]
    }
   ],
   "source": [
    "model.summary()"
   ]
  },
  {
   "cell_type": "code",
   "execution_count": 62,
   "id": "f7efaf56",
   "metadata": {},
   "outputs": [
    {
     "data": {
      "image/png": "[encoded data removed]",
      "text/plain": [
       "<IPython.core.display.Image object>"
      ]
     },
     "execution_count": 62,
     "metadata": {},
     "output_type": "execute_result"
    }
   ],
   "source": [
    "tf.keras.utils.plot_model(model, show_shapes = True)"
   ]
  },
  {
   "cell_type": "code",
   "execution_count": 63,
   "id": "fb31db7f",
   "metadata": {},
   "outputs": [],
   "source": [
    "model.compile(loss = \"sparse_categorical_crossentropy\", optimizer = tf.keras.optimizers.Adam(), \n",
    "             metrics = tf.keras.metrics.SparseCategoricalAccuracy())"
   ]
  },
  {
   "cell_type": "code",
   "execution_count": 64,
   "id": "9362ce36",
   "metadata": {},
   "outputs": [],
   "source": [
    "# we need to create the numeric outputs\n",
    "train_ints = text_vec_layer(all_unsupervised)"
   ]
  },
  {
   "cell_type": "code",
   "execution_count": 65,
   "id": "9b9d94fd",
   "metadata": {},
   "outputs": [],
   "source": [
    "val_ints = text_vec_layer(supervised_gene_seqs)"
   ]
  },
  {
   "cell_type": "code",
   "execution_count": 66,
   "id": "844cab7a",
   "metadata": {},
   "outputs": [],
   "source": [
    "import numpy as np"
   ]
  },
  {
   "cell_type": "code",
   "execution_count": 67,
   "id": "b7698525",
   "metadata": {},
   "outputs": [
    {
     "name": "stdout",
     "output_type": "stream",
     "text": [
      "Epoch 1/500\n",
      "377/377 [==============================] - 283s 736ms/step - loss: 1.8795 - sparse_categorical_accuracy: 0.7578 - val_loss: 1.4595 - val_sparse_categorical_accuracy: 0.7993\n",
      "Epoch 2/500\n",
      "377/377 [==============================] - 274s 728ms/step - loss: 1.3199 - sparse_categorical_accuracy: 0.7777 - val_loss: 1.3181 - val_sparse_categorical_accuracy: 0.8093\n",
      "Epoch 3/500\n",
      "377/377 [==============================] - 282s 748ms/step - loss: 1.0912 - sparse_categorical_accuracy: 0.8002 - val_loss: 1.1205 - val_sparse_categorical_accuracy: 0.8318\n",
      "Epoch 4/500\n",
      "377/377 [==============================] - 282s 748ms/step - loss: 0.8797 - sparse_categorical_accuracy: 0.8270 - val_loss: 0.9779 - val_sparse_categorical_accuracy: 0.8423\n",
      "Epoch 5/500\n",
      "377/377 [==============================] - 282s 748ms/step - loss: 0.7350 - sparse_categorical_accuracy: 0.8478 - val_loss: 0.8711 - val_sparse_categorical_accuracy: 0.8520\n",
      "Epoch 6/500\n",
      "377/377 [==============================] - 283s 750ms/step - loss: 0.6267 - sparse_categorical_accuracy: 0.8649 - val_loss: 0.7955 - val_sparse_categorical_accuracy: 0.8609\n",
      "Epoch 7/500\n",
      "377/377 [==============================] - 283s 750ms/step - loss: 0.5480 - sparse_categorical_accuracy: 0.8785 - val_loss: 0.7313 - val_sparse_categorical_accuracy: 0.8671\n",
      "Epoch 8/500\n",
      "377/377 [==============================] - 283s 750ms/step - loss: 0.4873 - sparse_categorical_accuracy: 0.8898 - val_loss: 0.6869 - val_sparse_categorical_accuracy: 0.8723\n",
      "Epoch 9/500\n",
      "377/377 [==============================] - 283s 751ms/step - loss: 0.4395 - sparse_categorical_accuracy: 0.8992 - val_loss: 0.6498 - val_sparse_categorical_accuracy: 0.8777\n",
      "Epoch 10/500\n",
      "377/377 [==============================] - 283s 751ms/step - loss: 0.4007 - sparse_categorical_accuracy: 0.9072 - val_loss: 0.6117 - val_sparse_categorical_accuracy: 0.8818\n",
      "Epoch 11/500\n",
      "377/377 [==============================] - 283s 751ms/step - loss: 0.3686 - sparse_categorical_accuracy: 0.9139 - val_loss: 0.5804 - val_sparse_categorical_accuracy: 0.8862\n",
      "Epoch 12/500\n",
      "377/377 [==============================] - 283s 751ms/step - loss: 0.3418 - sparse_categorical_accuracy: 0.9198 - val_loss: 0.5526 - val_sparse_categorical_accuracy: 0.8903\n",
      "Epoch 13/500\n",
      "377/377 [==============================] - 283s 750ms/step - loss: 0.3188 - sparse_categorical_accuracy: 0.9248 - val_loss: 0.5304 - val_sparse_categorical_accuracy: 0.8942\n",
      "Epoch 14/500\n",
      "377/377 [==============================] - 283s 751ms/step - loss: 0.2991 - sparse_categorical_accuracy: 0.9293 - val_loss: 0.5128 - val_sparse_categorical_accuracy: 0.8969\n",
      "Epoch 15/500\n",
      "377/377 [==============================] - 283s 750ms/step - loss: 0.2822 - sparse_categorical_accuracy: 0.9332 - val_loss: 0.4905 - val_sparse_categorical_accuracy: 0.8986\n",
      "Epoch 16/500\n",
      "377/377 [==============================] - 283s 750ms/step - loss: 0.2672 - sparse_categorical_accuracy: 0.9365 - val_loss: 0.4768 - val_sparse_categorical_accuracy: 0.9023\n",
      "Epoch 17/500\n",
      "377/377 [==============================] - 283s 750ms/step - loss: 0.2541 - sparse_categorical_accuracy: 0.9395 - val_loss: 0.4630 - val_sparse_categorical_accuracy: 0.9047\n",
      "Epoch 18/500\n",
      "377/377 [==============================] - 283s 751ms/step - loss: 0.2424 - sparse_categorical_accuracy: 0.9421 - val_loss: 0.4537 - val_sparse_categorical_accuracy: 0.9054\n",
      "Epoch 19/500\n",
      "377/377 [==============================] - 283s 750ms/step - loss: 0.2322 - sparse_categorical_accuracy: 0.9445 - val_loss: 0.4422 - val_sparse_categorical_accuracy: 0.9070\n",
      "Epoch 20/500\n",
      "377/377 [==============================] - 283s 751ms/step - loss: 0.2226 - sparse_categorical_accuracy: 0.9467 - val_loss: 0.4338 - val_sparse_categorical_accuracy: 0.9089\n",
      "Epoch 21/500\n",
      "377/377 [==============================] - 283s 750ms/step - loss: 0.2141 - sparse_categorical_accuracy: 0.9487 - val_loss: 0.4293 - val_sparse_categorical_accuracy: 0.9103\n",
      "Epoch 22/500\n",
      "377/377 [==============================] - 283s 751ms/step - loss: 0.2063 - sparse_categorical_accuracy: 0.9505 - val_loss: 0.4189 - val_sparse_categorical_accuracy: 0.9111\n",
      "Epoch 23/500\n",
      "377/377 [==============================] - 283s 750ms/step - loss: 0.1991 - sparse_categorical_accuracy: 0.9521 - val_loss: 0.4116 - val_sparse_categorical_accuracy: 0.9118\n",
      "Epoch 24/500\n",
      "377/377 [==============================] - 283s 751ms/step - loss: 0.1925 - sparse_categorical_accuracy: 0.9537 - val_loss: 0.4076 - val_sparse_categorical_accuracy: 0.9137\n",
      "Epoch 25/500\n",
      "377/377 [==============================] - 283s 751ms/step - loss: 0.1865 - sparse_categorical_accuracy: 0.9551 - val_loss: 0.3994 - val_sparse_categorical_accuracy: 0.9145\n",
      "Epoch 26/500\n",
      "377/377 [==============================] - 283s 751ms/step - loss: 0.1809 - sparse_categorical_accuracy: 0.9564 - val_loss: 0.3944 - val_sparse_categorical_accuracy: 0.9147\n",
      "Epoch 27/500\n",
      "377/377 [==============================] - 283s 752ms/step - loss: 0.1756 - sparse_categorical_accuracy: 0.9576 - val_loss: 0.3915 - val_sparse_categorical_accuracy: 0.9148\n",
      "Epoch 28/500\n",
      "377/377 [==============================] - 283s 751ms/step - loss: 0.1710 - sparse_categorical_accuracy: 0.9587 - val_loss: 0.3859 - val_sparse_categorical_accuracy: 0.9161\n",
      "Epoch 29/500\n",
      "377/377 [==============================] - 283s 751ms/step - loss: 0.1664 - sparse_categorical_accuracy: 0.9597 - val_loss: 0.3838 - val_sparse_categorical_accuracy: 0.9161\n",
      "Epoch 30/500\n",
      "377/377 [==============================] - 283s 752ms/step - loss: 0.1623 - sparse_categorical_accuracy: 0.9607 - val_loss: 0.3811 - val_sparse_categorical_accuracy: 0.9161\n",
      "Epoch 31/500\n",
      "377/377 [==============================] - 283s 750ms/step - loss: 0.1584 - sparse_categorical_accuracy: 0.9616 - val_loss: 0.3729 - val_sparse_categorical_accuracy: 0.9183\n",
      "Epoch 32/500\n",
      "377/377 [==============================] - 281s 745ms/step - loss: 0.1548 - sparse_categorical_accuracy: 0.9624 - val_loss: 0.3695 - val_sparse_categorical_accuracy: 0.9187\n",
      "Epoch 33/500\n",
      "377/377 [==============================] - 281s 744ms/step - loss: 0.1512 - sparse_categorical_accuracy: 0.9633 - val_loss: 0.3701 - val_sparse_categorical_accuracy: 0.9195\n",
      "Epoch 34/500\n",
      "377/377 [==============================] - 280s 743ms/step - loss: 0.1478 - sparse_categorical_accuracy: 0.9641 - val_loss: 0.3661 - val_sparse_categorical_accuracy: 0.9207\n",
      "Epoch 35/500\n",
      "377/377 [==============================] - 280s 742ms/step - loss: 0.1448 - sparse_categorical_accuracy: 0.9648 - val_loss: 0.3633 - val_sparse_categorical_accuracy: 0.9214\n",
      "Epoch 36/500\n",
      "377/377 [==============================] - 280s 742ms/step - loss: 0.1420 - sparse_categorical_accuracy: 0.9654 - val_loss: 0.3599 - val_sparse_categorical_accuracy: 0.9209\n",
      "Epoch 37/500\n",
      "377/377 [==============================] - 280s 742ms/step - loss: 0.1390 - sparse_categorical_accuracy: 0.9662 - val_loss: 0.3589 - val_sparse_categorical_accuracy: 0.9213\n",
      "Epoch 38/500\n",
      "377/377 [==============================] - 280s 742ms/step - loss: 0.1364 - sparse_categorical_accuracy: 0.9667 - val_loss: 0.3585 - val_sparse_categorical_accuracy: 0.9216\n",
      "Epoch 39/500\n",
      "377/377 [==============================] - 280s 744ms/step - loss: 0.1335 - sparse_categorical_accuracy: 0.9674 - val_loss: 0.3522 - val_sparse_categorical_accuracy: 0.9228\n",
      "Epoch 40/500\n",
      "377/377 [==============================] - 281s 744ms/step - loss: 0.1312 - sparse_categorical_accuracy: 0.9679 - val_loss: 0.3511 - val_sparse_categorical_accuracy: 0.9239\n",
      "Epoch 41/500\n",
      "377/377 [==============================] - 280s 743ms/step - loss: 0.1290 - sparse_categorical_accuracy: 0.9684 - val_loss: 0.3482 - val_sparse_categorical_accuracy: 0.9241\n",
      "Epoch 42/500\n",
      "377/377 [==============================] - 280s 743ms/step - loss: 0.1264 - sparse_categorical_accuracy: 0.9690 - val_loss: 0.3442 - val_sparse_categorical_accuracy: 0.9251\n",
      "Epoch 43/500\n",
      "377/377 [==============================] - 280s 743ms/step - loss: 0.1242 - sparse_categorical_accuracy: 0.9695 - val_loss: 0.3499 - val_sparse_categorical_accuracy: 0.9243\n",
      "Epoch 44/500\n",
      "377/377 [==============================] - 280s 743ms/step - loss: 0.1225 - sparse_categorical_accuracy: 0.9699 - val_loss: 0.3454 - val_sparse_categorical_accuracy: 0.9246\n",
      "Epoch 45/500\n"
     ]
    },
    {
     "name": "stdout",
     "output_type": "stream",
     "text": [
      "377/377 [==============================] - 280s 742ms/step - loss: 0.1203 - sparse_categorical_accuracy: 0.9704 - val_loss: 0.3439 - val_sparse_categorical_accuracy: 0.9252\n",
      "Epoch 46/500\n",
      "377/377 [==============================] - 280s 743ms/step - loss: 0.1185 - sparse_categorical_accuracy: 0.9708 - val_loss: 0.3421 - val_sparse_categorical_accuracy: 0.9256\n",
      "Epoch 47/500\n",
      "377/377 [==============================] - 280s 742ms/step - loss: 0.1167 - sparse_categorical_accuracy: 0.9713 - val_loss: 0.3392 - val_sparse_categorical_accuracy: 0.9262\n",
      "Epoch 48/500\n",
      "377/377 [==============================] - 280s 742ms/step - loss: 0.1150 - sparse_categorical_accuracy: 0.9716 - val_loss: 0.3368 - val_sparse_categorical_accuracy: 0.9265\n",
      "Epoch 49/500\n",
      "377/377 [==============================] - 280s 742ms/step - loss: 0.1143 - sparse_categorical_accuracy: 0.9717 - val_loss: 0.3370 - val_sparse_categorical_accuracy: 0.9271\n",
      "Epoch 50/500\n",
      "377/377 [==============================] - 280s 742ms/step - loss: 0.1116 - sparse_categorical_accuracy: 0.9724 - val_loss: 0.3354 - val_sparse_categorical_accuracy: 0.9278\n",
      "Epoch 51/500\n",
      "377/377 [==============================] - 279s 741ms/step - loss: 0.1103 - sparse_categorical_accuracy: 0.9727 - val_loss: 0.3345 - val_sparse_categorical_accuracy: 0.9258\n",
      "Epoch 52/500\n",
      "377/377 [==============================] - 280s 742ms/step - loss: 0.1090 - sparse_categorical_accuracy: 0.9730 - val_loss: 0.3358 - val_sparse_categorical_accuracy: 0.9281\n",
      "Epoch 53/500\n",
      "377/377 [==============================] - 280s 742ms/step - loss: 0.1074 - sparse_categorical_accuracy: 0.9734 - val_loss: 0.3306 - val_sparse_categorical_accuracy: 0.9285\n",
      "Epoch 54/500\n",
      "377/377 [==============================] - 280s 742ms/step - loss: 0.1063 - sparse_categorical_accuracy: 0.9736 - val_loss: 0.3349 - val_sparse_categorical_accuracy: 0.9292\n",
      "Epoch 55/500\n",
      "377/377 [==============================] - 280s 743ms/step - loss: 0.1050 - sparse_categorical_accuracy: 0.9739 - val_loss: 0.3289 - val_sparse_categorical_accuracy: 0.9294\n",
      "Epoch 56/500\n",
      "377/377 [==============================] - 280s 742ms/step - loss: 0.1038 - sparse_categorical_accuracy: 0.9742 - val_loss: 0.3296 - val_sparse_categorical_accuracy: 0.9282\n",
      "Epoch 57/500\n",
      "377/377 [==============================] - 280s 742ms/step - loss: 0.1026 - sparse_categorical_accuracy: 0.9745 - val_loss: 0.3333 - val_sparse_categorical_accuracy: 0.9289\n",
      "Epoch 58/500\n",
      "377/377 [==============================] - 280s 742ms/step - loss: 0.1013 - sparse_categorical_accuracy: 0.9748 - val_loss: 0.3290 - val_sparse_categorical_accuracy: 0.9292\n",
      "Epoch 59/500\n",
      "377/377 [==============================] - 280s 742ms/step - loss: 0.1002 - sparse_categorical_accuracy: 0.9750 - val_loss: 0.3294 - val_sparse_categorical_accuracy: 0.9276\n",
      "Epoch 60/500\n",
      "377/377 [==============================] - 280s 742ms/step - loss: 0.0992 - sparse_categorical_accuracy: 0.9753 - val_loss: 0.3324 - val_sparse_categorical_accuracy: 0.9282\n"
     ]
    },
    {
     "data": {
      "text/plain": [
       "<keras.callbacks.History at 0x1e2a3ae95e0>"
      ]
     },
     "execution_count": 67,
     "metadata": {},
     "output_type": "execute_result"
    }
   ],
   "source": [
    "model.fit(np.array(all_unsupervised), train_ints, batch_size = 2048, epochs = 500, shuffle = True, \n",
    "          validation_data = (np.array(supervised_gene_seqs), val_ints), verbose = 1, \n",
    "         callbacks = tf.keras.callbacks.EarlyStopping(monitor = \"val_loss\", patience = 5, mode = \"min\", \n",
    "                                                     restore_best_weights=True), \n",
    "         validation_batch_size = 1000)"
   ]
  },
  {
   "cell_type": "code",
   "execution_count": 68,
   "id": "47668e3e",
   "metadata": {},
   "outputs": [
    {
     "name": "stderr",
     "output_type": "stream",
     "text": [
      "WARNING:absl:Found untraced functions such as lstm_cell_layer_call_and_return_conditional_losses, lstm_cell_layer_call_fn, lstm_cell_1_layer_call_and_return_conditional_losses, lstm_cell_1_layer_call_fn, lstm_cell_layer_call_fn while saving (showing 5 of 10). These functions will not be directly callable after loading.\n"
     ]
    },
    {
     "name": "stdout",
     "output_type": "stream",
     "text": [
      "INFO:tensorflow:Assets written to: autoencoder\\assets\n"
     ]
    },
    {
     "name": "stderr",
     "output_type": "stream",
     "text": [
      "INFO:tensorflow:Assets written to: autoencoder\\assets\n"
     ]
    }
   ],
   "source": [
    "model.save(\"autoencoder\")"
   ]
  },
  {
   "cell_type": "code",
   "execution_count": 69,
   "id": "37731fb5",
   "metadata": {},
   "outputs": [
    {
     "data": {
      "text/plain": [
       "<KerasTensor: shape=(None, 128) dtype=float32 (created by layer 'lstm')>"
      ]
     },
     "execution_count": 69,
     "metadata": {},
     "output_type": "execute_result"
    }
   ],
   "source": [
    "model.layers[3].output[0]"
   ]
  },
  {
   "cell_type": "code",
   "execution_count": 70,
   "id": "6639439d",
   "metadata": {},
   "outputs": [],
   "source": [
    "model_extract = tf.keras.models.Model(input_layer, model.layers[3].output[0] )"
   ]
  },
  {
   "cell_type": "code",
   "execution_count": 71,
   "id": "91eaf7f7",
   "metadata": {},
   "outputs": [],
   "source": [
    "# read the data in"
   ]
  },
  {
   "cell_type": "code",
   "execution_count": 72,
   "id": "cd58ff86",
   "metadata": {},
   "outputs": [],
   "source": [
    "# set the directory to where the data is\n",
    "import os\n",
    "\n",
    "os.chdir(r\"D:\\Gene_Project\")"
   ]
  },
  {
   "cell_type": "code",
   "execution_count": 73,
   "id": "11964368",
   "metadata": {},
   "outputs": [],
   "source": [
    "# pandas for dealing with the data\n",
    "import pandas as pd\n",
    "# setting for seeing the entire string\n",
    "pd.options.display.max_colwidth = None\n",
    "pd.set_option('display.max_rows', 500)"
   ]
  },
  {
   "cell_type": "code",
   "execution_count": 74,
   "id": "93164546",
   "metadata": {},
   "outputs": [],
   "source": [
    "# load the data - new data that was provided\n",
    "data = pd.read_csv(r\"pul_seq_low_high_substr_year_corrected.tsv\", sep = \"\\t\").dropna().sample(frac = 1.0)"
   ]
  },
  {
   "cell_type": "code",
   "execution_count": 75,
   "id": "67f6cf05",
   "metadata": {},
   "outputs": [
    {
     "data": {
      "text/html": [
       "<div>\n",
       "<style scoped>\n",
       "    .dataframe tbody tr th:only-of-type {\n",
       "        vertical-align: middle;\n",
       "    }\n",
       "\n",
       "    .dataframe tbody tr th {\n",
       "        vertical-align: top;\n",
       "    }\n",
       "\n",
       "    .dataframe thead th {\n",
       "        text-align: right;\n",
       "    }\n",
       "</style>\n",
       "<table border=\"1\" class=\"dataframe\">\n",
       "  <thead>\n",
       "    <tr style=\"text-align: right;\">\n",
       "      <th></th>\n",
       "      <th>PULid</th>\n",
       "      <th>sig_gene_seq</th>\n",
       "      <th>low_level_substr</th>\n",
       "      <th>high_level_substr</th>\n",
       "      <th>Pub_year</th>\n",
       "    </tr>\n",
       "  </thead>\n",
       "  <tbody>\n",
       "    <tr>\n",
       "      <th>100</th>\n",
       "      <td>PUL0101</td>\n",
       "      <td>CBM67|GH78,HTH_AraC,2.A.7,2.A.4,GH3,GH115,GH97</td>\n",
       "      <td>O-glycan,N-glycan</td>\n",
       "      <td>multiple_substrates</td>\n",
       "      <td>2019</td>\n",
       "    </tr>\n",
       "    <tr>\n",
       "      <th>153</th>\n",
       "      <td>PUL0154</td>\n",
       "      <td>4.A.3,4.A.3,GH1</td>\n",
       "      <td>lactose</td>\n",
       "      <td>mono/di/trisaccharide</td>\n",
       "      <td>2018</td>\n",
       "    </tr>\n",
       "    <tr>\n",
       "      <th>651</th>\n",
       "      <td>PUL0654</td>\n",
       "      <td>GerE,1.B.14,GH144,GH144,CE1,GH3,BLUF,PL6|PL6_1,PL12,PL6|PL6_1,PL17_2|PL17,AraC_binding,1.B.14,8.A.46,GntR,2.A.1,LacI,PfkB,TPR_2,Response_reg</td>\n",
       "      <td>alginate</td>\n",
       "      <td>algal glycans</td>\n",
       "      <td>2021</td>\n",
       "    </tr>\n",
       "    <tr>\n",
       "      <th>157</th>\n",
       "      <td>PUL0158</td>\n",
       "      <td>4.A.3,4.A.3,GH1</td>\n",
       "      <td>lactose</td>\n",
       "      <td>mono/di/trisaccharide</td>\n",
       "      <td>2018</td>\n",
       "    </tr>\n",
       "    <tr>\n",
       "      <th>512</th>\n",
       "      <td>PUL0515</td>\n",
       "      <td>GT46,9.B.18,9.B.18</td>\n",
       "      <td>capsule polysaccharide</td>\n",
       "      <td>capsule polysaccharide</td>\n",
       "      <td>2010</td>\n",
       "    </tr>\n",
       "  </tbody>\n",
       "</table>\n",
       "</div>"
      ],
      "text/plain": [
       "       PULid  \\\n",
       "100  PUL0101   \n",
       "153  PUL0154   \n",
       "651  PUL0654   \n",
       "157  PUL0158   \n",
       "512  PUL0515   \n",
       "\n",
       "                                                                                                                                     sig_gene_seq  \\\n",
       "100                                                                                                CBM67|GH78,HTH_AraC,2.A.7,2.A.4,GH3,GH115,GH97   \n",
       "153                                                                                                                               4.A.3,4.A.3,GH1   \n",
       "651  GerE,1.B.14,GH144,GH144,CE1,GH3,BLUF,PL6|PL6_1,PL12,PL6|PL6_1,PL17_2|PL17,AraC_binding,1.B.14,8.A.46,GntR,2.A.1,LacI,PfkB,TPR_2,Response_reg   \n",
       "157                                                                                                                               4.A.3,4.A.3,GH1   \n",
       "512                                                                                                                            GT46,9.B.18,9.B.18   \n",
       "\n",
       "           low_level_substr       high_level_substr Pub_year  \n",
       "100       O-glycan,N-glycan     multiple_substrates     2019  \n",
       "153                 lactose   mono/di/trisaccharide     2018  \n",
       "651                alginate           algal glycans     2021  \n",
       "157                 lactose   mono/di/trisaccharide     2018  \n",
       "512  capsule polysaccharide  capsule polysaccharide     2010  "
      ]
     },
     "execution_count": 75,
     "metadata": {},
     "output_type": "execute_result"
    }
   ],
   "source": [
    "data.head()"
   ]
  },
  {
   "cell_type": "code",
   "execution_count": 76,
   "id": "499d78fb",
   "metadata": {},
   "outputs": [],
   "source": [
    "to_keep = data[\"high_level_substr\"].value_counts()[:5].keys()"
   ]
  },
  {
   "cell_type": "code",
   "execution_count": 77,
   "id": "e9bb0aa9",
   "metadata": {},
   "outputs": [],
   "source": [
    "classes = [classes if classes in to_keep else \"others\" for classes in data[\"high_level_substr\"]]"
   ]
  },
  {
   "cell_type": "code",
   "execution_count": 78,
   "id": "752b24d7",
   "metadata": {},
   "outputs": [],
   "source": [
    "data[\"high_level_substr\"] = classes"
   ]
  },
  {
   "cell_type": "code",
   "execution_count": 79,
   "id": "f234f030",
   "metadata": {},
   "outputs": [
    {
     "data": {
      "text/plain": [
       "others                    299\n",
       "multiple_substrates       138\n",
       "mono/di/trisaccharide      78\n",
       "capsule polysaccharide     60\n",
       "algal glycans              40\n",
       "pectin                     38\n",
       "Name: high_level_substr, dtype: int64"
      ]
     },
     "execution_count": 79,
     "metadata": {},
     "output_type": "execute_result"
    }
   ],
   "source": [
    "data[\"high_level_substr\"].value_counts()"
   ]
  },
  {
   "cell_type": "code",
   "execution_count": 80,
   "id": "e0e18e01",
   "metadata": {},
   "outputs": [],
   "source": [
    "all_supervised = [seq.replace(\",\", \" \") for seq in data[\"sig_gene_seq\"]]"
   ]
  },
  {
   "cell_type": "code",
   "execution_count": 81,
   "id": "b149f973",
   "metadata": {},
   "outputs": [
    {
     "data": {
      "text/plain": [
       "653"
      ]
     },
     "execution_count": 81,
     "metadata": {},
     "output_type": "execute_result"
    }
   ],
   "source": [
    "len(all_supervised)"
   ]
  },
  {
   "cell_type": "code",
   "execution_count": 82,
   "id": "c4e12f6e",
   "metadata": {},
   "outputs": [
    {
     "data": {
      "text/plain": [
       "(653, 5)"
      ]
     },
     "execution_count": 82,
     "metadata": {},
     "output_type": "execute_result"
    }
   ],
   "source": [
    "data.shape"
   ]
  },
  {
   "cell_type": "code",
   "execution_count": 83,
   "id": "5c1f97ee",
   "metadata": {},
   "outputs": [],
   "source": [
    "# model_extract = tf.keras.models.load_model(r\"autoencoder\")"
   ]
  },
  {
   "cell_type": "code",
   "execution_count": 84,
   "id": "702d8785",
   "metadata": {},
   "outputs": [],
   "source": [
    "data_extract = model_extract(np.array(all_supervised))"
   ]
  },
  {
   "cell_type": "code",
   "execution_count": 85,
   "id": "b0df3408",
   "metadata": {},
   "outputs": [],
   "source": [
    "np.save(\"data_extract.npy\", data_extract)"
   ]
  },
  {
   "cell_type": "code",
   "execution_count": 86,
   "id": "56eb72f1",
   "metadata": {},
   "outputs": [],
   "source": [
    "import numpy as np"
   ]
  },
  {
   "cell_type": "code",
   "execution_count": 87,
   "id": "3e54e142",
   "metadata": {},
   "outputs": [],
   "source": [
    "data_extract = np.load(\"data_extract.npy\")"
   ]
  },
  {
   "cell_type": "code",
   "execution_count": 88,
   "id": "39022e82",
   "metadata": {},
   "outputs": [],
   "source": [
    "from sklearn.ensemble import RandomForestClassifier\n",
    "\n",
    "rf = RandomForestClassifier(n_jobs = 6)"
   ]
  },
  {
   "cell_type": "code",
   "execution_count": 89,
   "id": "8ba00efc",
   "metadata": {},
   "outputs": [],
   "source": [
    "from sklearn.model_selection import GridSearchCV"
   ]
  },
  {
   "cell_type": "code",
   "execution_count": 90,
   "id": "992e4a63",
   "metadata": {},
   "outputs": [],
   "source": [
    "param_grid = {\"n_estimators\": [100]}"
   ]
  },
  {
   "cell_type": "code",
   "execution_count": 91,
   "id": "c286cb14",
   "metadata": {},
   "outputs": [],
   "source": [
    "search = GridSearchCV(rf, param_grid, n_jobs=6 , verbose = 3, cv = 5, scoring = \"accuracy\")"
   ]
  },
  {
   "cell_type": "code",
   "execution_count": 92,
   "id": "63a7dffb",
   "metadata": {},
   "outputs": [
    {
     "data": {
      "text/plain": [
       "others                    0.457887\n",
       "multiple_substrates       0.211332\n",
       "mono/di/trisaccharide     0.119449\n",
       "capsule polysaccharide    0.091884\n",
       "algal glycans             0.061256\n",
       "pectin                    0.058193\n",
       "Name: high_level_substr, dtype: float64"
      ]
     },
     "execution_count": 92,
     "metadata": {},
     "output_type": "execute_result"
    }
   ],
   "source": [
    "data[\"high_level_substr\"].value_counts()/(data[\"high_level_substr\"].value_counts().cumsum())[-1]"
   ]
  },
  {
   "cell_type": "code",
   "execution_count": 93,
   "id": "abd1c64b",
   "metadata": {},
   "outputs": [
    {
     "name": "stdout",
     "output_type": "stream",
     "text": [
      "Fitting 5 folds for each of 1 candidates, totalling 5 fits\n"
     ]
    },
    {
     "data": {
      "text/plain": [
       "GridSearchCV(cv=5, estimator=RandomForestClassifier(n_jobs=6), n_jobs=6,\n",
       "             param_grid={'n_estimators': [100]}, scoring='accuracy', verbose=3)"
      ]
     },
     "execution_count": 93,
     "metadata": {},
     "output_type": "execute_result"
    }
   ],
   "source": [
    "search.fit(data_extract, data[\"high_level_substr\"])"
   ]
  },
  {
   "cell_type": "code",
   "execution_count": 94,
   "id": "b0b43fcc",
   "metadata": {},
   "outputs": [
    {
     "data": {
      "text/plain": [
       "0.5604697592483852"
      ]
     },
     "execution_count": 94,
     "metadata": {},
     "output_type": "execute_result"
    }
   ],
   "source": [
    "search.best_score_"
   ]
  }
 ],
 "metadata": {
  "kernelspec": {
   "display_name": "newone",
   "language": "python",
   "name": "newone"
  },
  "language_info": {
   "codemirror_mode": {
    "name": "ipython",
    "version": 3
   },
   "file_extension": ".py",
   "mimetype": "text/x-python",
   "name": "python",
   "nbconvert_exporter": "python",
   "pygments_lexer": "ipython3",
   "version": "3.9.7"
  }
 },
 "nbformat": 4,
 "nbformat_minor": 5
}
