{
 "cells": [
  {
   "cell_type": "code",
   "execution_count": 1,
   "id": "c025e2d8",
   "metadata": {},
   "outputs": [],
   "source": [
    "import os"
   ]
  },
  {
   "cell_type": "code",
   "execution_count": 2,
   "id": "c5a61f58",
   "metadata": {},
   "outputs": [],
   "source": [
    "os.chdir(r\"D:\\Gene_Project\")"
   ]
  },
  {
   "cell_type": "code",
   "execution_count": 1,
   "id": "0d539895",
   "metadata": {},
   "outputs": [],
   "source": [
    "import pandas as pd"
   ]
  },
  {
   "cell_type": "code",
   "execution_count": 4,
   "id": "94e3de86",
   "metadata": {},
   "outputs": [],
   "source": [
    "all_files = os.listdir(r\"unsupervised_CGC\\output\")"
   ]
  },
  {
   "cell_type": "code",
   "execution_count": 5,
   "id": "e84a39bd",
   "metadata": {},
   "outputs": [],
   "source": [
    "unsupervised_file_path = r\"unsupervised_CGC\\output\\\\\""
   ]
  },
  {
   "cell_type": "code",
   "execution_count": 6,
   "id": "f9a7278f",
   "metadata": {},
   "outputs": [],
   "source": [
    "def read_the_data(file):\n",
    "    # read one file\n",
    "    data = pd.read_csv(unsupervised_file_path + file, sep = \" \", header = None)\n",
    "    return data"
   ]
  },
  {
   "cell_type": "code",
   "execution_count": 7,
   "id": "aff09d29",
   "metadata": {},
   "outputs": [],
   "source": [
    "from joblib import Parallel, delayed"
   ]
  },
  {
   "cell_type": "code",
   "execution_count": 8,
   "id": "7805e219",
   "metadata": {},
   "outputs": [
    {
     "name": "stderr",
     "output_type": "stream",
     "text": [
      "[Parallel(n_jobs=6)]: Using backend LokyBackend with 6 concurrent workers.\n",
      "[Parallel(n_jobs=6)]: Done  20 tasks      | elapsed:    1.0s\n",
      "[Parallel(n_jobs=6)]: Done 908 tasks      | elapsed:    2.8s\n",
      "[Parallel(n_jobs=6)]: Done 4428 tasks      | elapsed:    6.3s\n",
      "[Parallel(n_jobs=6)]: Done 11596 tasks      | elapsed:   16.4s\n",
      "[Parallel(n_jobs=6)]: Done 19492 tasks      | elapsed:   28.8s\n",
      "[Parallel(n_jobs=6)]: Done 19582 out of 19582 | elapsed:   29.0s finished\n"
     ]
    }
   ],
   "source": [
    "all_files_df = Parallel(n_jobs=6, verbose = 3)(delayed(read_the_data)(i) for i in all_files)"
   ]
  },
  {
   "cell_type": "code",
   "execution_count": 9,
   "id": "53623a49",
   "metadata": {},
   "outputs": [
    {
     "data": {
      "text/plain": [
       "19582"
      ]
     },
     "execution_count": 9,
     "metadata": {},
     "output_type": "execute_result"
    }
   ],
   "source": [
    "len(all_files_df)"
   ]
  },
  {
   "cell_type": "code",
   "execution_count": 10,
   "id": "59f93a84",
   "metadata": {},
   "outputs": [],
   "source": [
    "all_unsupervised = pd.concat(all_files_df, ignore_index = True)"
   ]
  },
  {
   "cell_type": "code",
   "execution_count": 11,
   "id": "911af46c",
   "metadata": {},
   "outputs": [],
   "source": [
    "all_unsupervised.columns = [\"sequence\"]"
   ]
  },
  {
   "cell_type": "code",
   "execution_count": 12,
   "id": "bb1a8d51",
   "metadata": {},
   "outputs": [
    {
     "data": {
      "text/html": [
       "<div>\n",
       "<style scoped>\n",
       "    .dataframe tbody tr th:only-of-type {\n",
       "        vertical-align: middle;\n",
       "    }\n",
       "\n",
       "    .dataframe tbody tr th {\n",
       "        vertical-align: top;\n",
       "    }\n",
       "\n",
       "    .dataframe thead th {\n",
       "        text-align: right;\n",
       "    }\n",
       "</style>\n",
       "<table border=\"1\" class=\"dataframe\">\n",
       "  <thead>\n",
       "    <tr style=\"text-align: right;\">\n",
       "      <th></th>\n",
       "      <th>sequence</th>\n",
       "    </tr>\n",
       "  </thead>\n",
       "  <tbody>\n",
       "    <tr>\n",
       "      <th>0</th>\n",
       "      <td>1.A.72,MerR,GH23</td>\n",
       "    </tr>\n",
       "    <tr>\n",
       "      <th>1</th>\n",
       "      <td>3.A.1,CE4</td>\n",
       "    </tr>\n",
       "    <tr>\n",
       "      <th>2</th>\n",
       "      <td>3.A.23,9.A.5,MCPsignal,2.A.21,2.A.22,TetR_N,3....</td>\n",
       "    </tr>\n",
       "    <tr>\n",
       "      <th>3</th>\n",
       "      <td>CE4,8.A.5,3.A.1,3.A.1,3.A.1</td>\n",
       "    </tr>\n",
       "    <tr>\n",
       "      <th>4</th>\n",
       "      <td>GT51,Peripla_BP_2,3.A.1,3.A.1,9.B.169</td>\n",
       "    </tr>\n",
       "  </tbody>\n",
       "</table>\n",
       "</div>"
      ],
      "text/plain": [
       "                                            sequence\n",
       "0                                   1.A.72,MerR,GH23\n",
       "1                                          3.A.1,CE4\n",
       "2  3.A.23,9.A.5,MCPsignal,2.A.21,2.A.22,TetR_N,3....\n",
       "3                        CE4,8.A.5,3.A.1,3.A.1,3.A.1\n",
       "4              GT51,Peripla_BP_2,3.A.1,3.A.1,9.B.169"
      ]
     },
     "execution_count": 12,
     "metadata": {},
     "output_type": "execute_result"
    }
   ],
   "source": [
    "all_unsupervised.head()"
   ]
  },
  {
   "cell_type": "code",
   "execution_count": 31,
   "id": "98ce018e",
   "metadata": {},
   "outputs": [],
   "source": [
    "all_unsupervised.to_csv(\"all_unsupervised_genes.csv\", index = False)"
   ]
  },
  {
   "cell_type": "code",
   "execution_count": 13,
   "id": "74fbaba3",
   "metadata": {},
   "outputs": [],
   "source": [
    "all_unsupervised_split = [seq.split(\",\") for seq in all_unsupervised[\"sequence\"]]"
   ]
  },
  {
   "cell_type": "code",
   "execution_count": 14,
   "id": "633a9e45",
   "metadata": {},
   "outputs": [],
   "source": [
    "all_genes = [gene for seq_split in all_unsupervised_split for gene in seq_split]"
   ]
  },
  {
   "cell_type": "code",
   "execution_count": 15,
   "id": "871307fe",
   "metadata": {},
   "outputs": [],
   "source": [
    "from collections import Counter"
   ]
  },
  {
   "cell_type": "code",
   "execution_count": 16,
   "id": "5a87e811",
   "metadata": {},
   "outputs": [],
   "source": [
    "unsupervised_genes = Counter(all_genes)"
   ]
  },
  {
   "cell_type": "code",
   "execution_count": 17,
   "id": "4f1ee430",
   "metadata": {},
   "outputs": [
    {
     "data": {
      "text/plain": [
       "6927"
      ]
     },
     "execution_count": 17,
     "metadata": {},
     "output_type": "execute_result"
    }
   ],
   "source": [
    "len(Counter(all_genes))"
   ]
  },
  {
   "cell_type": "code",
   "execution_count": 18,
   "id": "a1a09b68",
   "metadata": {},
   "outputs": [],
   "source": [
    "sig_gene = pd.read_csv(r\"signature_gene_reference.tsv\", sep = \"\\t\", header = None)"
   ]
  },
  {
   "cell_type": "code",
   "execution_count": 19,
   "id": "49e026ed",
   "metadata": {},
   "outputs": [
    {
     "data": {
      "text/html": [
       "<div>\n",
       "<style scoped>\n",
       "    .dataframe tbody tr th:only-of-type {\n",
       "        vertical-align: middle;\n",
       "    }\n",
       "\n",
       "    .dataframe tbody tr th {\n",
       "        vertical-align: top;\n",
       "    }\n",
       "\n",
       "    .dataframe thead th {\n",
       "        text-align: right;\n",
       "    }\n",
       "</style>\n",
       "<table border=\"1\" class=\"dataframe\">\n",
       "  <thead>\n",
       "    <tr style=\"text-align: right;\">\n",
       "      <th></th>\n",
       "      <th>0</th>\n",
       "      <th>1</th>\n",
       "    </tr>\n",
       "  </thead>\n",
       "  <tbody>\n",
       "    <tr>\n",
       "      <th>1141</th>\n",
       "      <td>STP</td>\n",
       "      <td>Nitroreductase</td>\n",
       "    </tr>\n",
       "  </tbody>\n",
       "</table>\n",
       "</div>"
      ],
      "text/plain": [
       "        0               1\n",
       "1141  STP  Nitroreductase"
      ]
     },
     "execution_count": 19,
     "metadata": {},
     "output_type": "execute_result"
    }
   ],
   "source": [
    "sig_gene[sig_gene[1] == \"Nitroreductase\"]"
   ]
  },
  {
   "cell_type": "code",
   "execution_count": 41,
   "id": "49ca0255",
   "metadata": {},
   "outputs": [],
   "source": [
    "# read the new data"
   ]
  },
  {
   "cell_type": "code",
   "execution_count": 20,
   "id": "adccc227",
   "metadata": {},
   "outputs": [],
   "source": [
    "latest_seq_data = pd.read_csv(r\"pul_seq_low_high_substr_year.tsv\", sep = \"\\t\")"
   ]
  },
  {
   "cell_type": "code",
   "execution_count": 21,
   "id": "a6a2e47a",
   "metadata": {},
   "outputs": [
    {
     "data": {
      "text/html": [
       "<div>\n",
       "<style scoped>\n",
       "    .dataframe tbody tr th:only-of-type {\n",
       "        vertical-align: middle;\n",
       "    }\n",
       "\n",
       "    .dataframe tbody tr th {\n",
       "        vertical-align: top;\n",
       "    }\n",
       "\n",
       "    .dataframe thead th {\n",
       "        text-align: right;\n",
       "    }\n",
       "</style>\n",
       "<table border=\"1\" class=\"dataframe\">\n",
       "  <thead>\n",
       "    <tr style=\"text-align: right;\">\n",
       "      <th></th>\n",
       "      <th>PULid</th>\n",
       "      <th>sig_gene_seq</th>\n",
       "      <th>low_level_substr</th>\n",
       "      <th>high_level_substr</th>\n",
       "      <th>Pub_year</th>\n",
       "    </tr>\n",
       "  </thead>\n",
       "  <tbody>\n",
       "    <tr>\n",
       "      <th>0</th>\n",
       "      <td>PUL0001</td>\n",
       "      <td>GH1,8.A.49,CE2,GH130,GH130,3.A.1,3.A.1,SBP_bac...</td>\n",
       "      <td>beta-mannan</td>\n",
       "      <td>beta-mannan</td>\n",
       "      <td>2019</td>\n",
       "    </tr>\n",
       "    <tr>\n",
       "      <th>1</th>\n",
       "      <td>PUL0002</td>\n",
       "      <td>GH16</td>\n",
       "      <td>lichenan</td>\n",
       "      <td>beta-glucan</td>\n",
       "      <td>1996</td>\n",
       "    </tr>\n",
       "    <tr>\n",
       "      <th>2</th>\n",
       "      <td>PUL0003</td>\n",
       "      <td>GH30_8,GH43_16|CBM6</td>\n",
       "      <td>xylan</td>\n",
       "      <td>xylan</td>\n",
       "      <td>2016</td>\n",
       "    </tr>\n",
       "    <tr>\n",
       "      <th>3</th>\n",
       "      <td>PUL0004</td>\n",
       "      <td>4.A.1,GH1</td>\n",
       "      <td>glucose,cellobiose,maltose</td>\n",
       "      <td>multiple_substrates</td>\n",
       "      <td>2016</td>\n",
       "    </tr>\n",
       "    <tr>\n",
       "      <th>4</th>\n",
       "      <td>PUL0005</td>\n",
       "      <td>GH94,GH3</td>\n",
       "      <td>beta-glucan,sophorose,laminaribiose</td>\n",
       "      <td>multiple_substrates</td>\n",
       "      <td>2016</td>\n",
       "    </tr>\n",
       "  </tbody>\n",
       "</table>\n",
       "</div>"
      ],
      "text/plain": [
       "     PULid                                       sig_gene_seq  \\\n",
       "0  PUL0001  GH1,8.A.49,CE2,GH130,GH130,3.A.1,3.A.1,SBP_bac...   \n",
       "1  PUL0002                                               GH16   \n",
       "2  PUL0003                                GH30_8,GH43_16|CBM6   \n",
       "3  PUL0004                                          4.A.1,GH1   \n",
       "4  PUL0005                                           GH94,GH3   \n",
       "\n",
       "                      low_level_substr    high_level_substr Pub_year  \n",
       "0                          beta-mannan          beta-mannan     2019  \n",
       "1                             lichenan         beta-glucan      1996  \n",
       "2                                xylan                xylan     2016  \n",
       "3           glucose,cellobiose,maltose  multiple_substrates     2016  \n",
       "4  beta-glucan,sophorose,laminaribiose  multiple_substrates     2016  "
      ]
     },
     "execution_count": 21,
     "metadata": {},
     "output_type": "execute_result"
    }
   ],
   "source": [
    "latest_seq_data.head()"
   ]
  },
  {
   "cell_type": "code",
   "execution_count": 53,
   "id": "484fc9b6",
   "metadata": {},
   "outputs": [
    {
     "data": {
      "text/plain": [
       "capsule polysaccharide                  60\n",
       "O-antigen                               37\n",
       "pectin                                  28\n",
       "xylan                                   25\n",
       "alginate                                21\n",
       "                                        ..\n",
       "lichenan                                 1\n",
       "exopolysaccharide,lipopolysaccharide     1\n",
       "melezitose                               1\n",
       "maltooligosaccharide                     1\n",
       "glucuronoarabinoxylan                    1\n",
       "Name: low_level_substr, Length: 170, dtype: int64"
      ]
     },
     "execution_count": 53,
     "metadata": {},
     "output_type": "execute_result"
    }
   ],
   "source": [
    "latest_seq_data[\"low_level_substr\"].value_counts()"
   ]
  },
  {
   "cell_type": "code",
   "execution_count": 22,
   "id": "4290fa28",
   "metadata": {},
   "outputs": [
    {
     "data": {
      "text/plain": [
       "multiple_substrates           139\n",
       "mono/di/trisaccharide          78\n",
       "capsule polysaccharide         60\n",
       "algal glycans                  40\n",
       "pectin                         38\n",
       "xylan                          38\n",
       "O-antigen                      37\n",
       "galactan                       36\n",
       "alpha-glucan                   23\n",
       "beta-mannan                    19\n",
       "cellulose                      18\n",
       "chitin                         15\n",
       "glycosaminoglycan              14\n",
       "beta-glucan                    13\n",
       "N-glycan                       12\n",
       "exopolysaccharide              10\n",
       "-                               9\n",
       "fructan                         8\n",
       "alpha-mannan                    8\n",
       "host glycan                     7\n",
       "xyloglucan                      7\n",
       "plant polysaccharide            6\n",
       "glycoprotein                    6\n",
       "human milk oligosaccharide      5\n",
       "hemicellulose                   5\n",
       "O-glycan                        3\n",
       "Name: high_level_substr, dtype: int64"
      ]
     },
     "execution_count": 22,
     "metadata": {},
     "output_type": "execute_result"
    }
   ],
   "source": [
    "latest_seq_data[\"high_level_substr\"].value_counts()"
   ]
  },
  {
   "cell_type": "code",
   "execution_count": 23,
   "id": "61fc7644",
   "metadata": {},
   "outputs": [],
   "source": [
    "# all genes available\n",
    "split_genes_supervised = [seq.split(\",\") for seq in latest_seq_data[\"sig_gene_seq\"].astype(\"str\")]"
   ]
  },
  {
   "cell_type": "code",
   "execution_count": 24,
   "id": "cd64ce76",
   "metadata": {},
   "outputs": [],
   "source": [
    "# all genes\n",
    "all_genes_supervised = [gene for seq in split_genes_supervised for gene in seq]"
   ]
  },
  {
   "cell_type": "code",
   "execution_count": 25,
   "id": "ba154bf6",
   "metadata": {},
   "outputs": [],
   "source": [
    "# count\n",
    "supervised_genes = Counter(all_genes_supervised)"
   ]
  },
  {
   "cell_type": "code",
   "execution_count": 26,
   "id": "c8962d1c",
   "metadata": {},
   "outputs": [
    {
     "data": {
      "text/plain": [
       "526"
      ]
     },
     "execution_count": 26,
     "metadata": {},
     "output_type": "execute_result"
    }
   ],
   "source": [
    "len(supervised_genes)"
   ]
  },
  {
   "cell_type": "code",
   "execution_count": 1,
   "id": "b3f0e430",
   "metadata": {},
   "outputs": [],
   "source": [
    "# unsupervised_genes"
   ]
  },
  {
   "cell_type": "code",
   "execution_count": 28,
   "id": "ead1d89c",
   "metadata": {},
   "outputs": [],
   "source": [
    "supervised_in_unsupervised = dict((k, v) for k, v in unsupervised_genes.items() if k in supervised_genes.keys())"
   ]
  },
  {
   "cell_type": "code",
   "execution_count": 2,
   "id": "b864331c",
   "metadata": {},
   "outputs": [],
   "source": [
    "# supervised_in_unsupervised"
   ]
  },
  {
   "cell_type": "code",
   "execution_count": 30,
   "id": "4078e776",
   "metadata": {},
   "outputs": [
    {
     "data": {
      "text/plain": [
       "500"
      ]
     },
     "execution_count": 30,
     "metadata": {},
     "output_type": "execute_result"
    }
   ],
   "source": [
    "len(supervised_in_unsupervised)"
   ]
  },
  {
   "cell_type": "code",
   "execution_count": 31,
   "id": "26bb1aa0",
   "metadata": {},
   "outputs": [],
   "source": [
    "missing_genes = dict((k, v) for k, v in supervised_genes.items() if k not in unsupervised_genes.keys())"
   ]
  },
  {
   "cell_type": "code",
   "execution_count": 32,
   "id": "7cd3cd84",
   "metadata": {},
   "outputs": [
    {
     "data": {
      "text/plain": [
       "{'CE10': 1,\n",
       " 'HTH_8|HTH_AraC': 1,\n",
       " 'nan': 1,\n",
       " 'GH18|CBM14': 1,\n",
       " 'CE10|CE8': 2,\n",
       " 'Response_reg|Reg_prop|HTH_18|HisKA|Y_Y_Y|HATPase_c': 1,\n",
       " 'CBM54|GH16|CBM4|CBM4|CBM6|CBM4|CBM4': 1,\n",
       " 'GH43_18|GH43_34|CBM32': 1,\n",
       " 'PL5|PL7': 2,\n",
       " 'GH146|GH97': 1,\n",
       " 'GH51|GH43_29': 1,\n",
       " 'GH26|GH5_4': 1,\n",
       " 'Mga|HTH_Mga|PRD_Mga': 2,\n",
       " 'GH16|CBM16': 1,\n",
       " 'GH5_8|CBM3|CBM3|CBM3|GH5_1': 2,\n",
       " 'CBM22|CBM22|GH10|CBM3|CBM3|GH5_1': 1,\n",
       " 'GH10|CBM3|GH12|GH48': 1,\n",
       " 'CE6|GH151': 1,\n",
       " 'GH16|CBM16|CBM16': 1,\n",
       " 'HTH_AraC|HTH_11': 1,\n",
       " 'GT46': 2,\n",
       " 'GH43_24|GH16': 1,\n",
       " 'GH16|GH43_24': 1,\n",
       " 'CBM82|CBM83|GH13_41': 1,\n",
       " 'CBM4|CBM4|GH10': 1,\n",
       " '-': 2}"
      ]
     },
     "execution_count": 32,
     "metadata": {},
     "output_type": "execute_result"
    }
   ],
   "source": [
    "missing_genes"
   ]
  },
  {
   "cell_type": "code",
   "execution_count": 33,
   "id": "bc0b6baf",
   "metadata": {},
   "outputs": [],
   "source": [
    "from gensim.test.utils import datapath\n",
    "from gensim import utils\n"
   ]
  },
  {
   "cell_type": "code",
   "execution_count": 82,
   "id": "8f0561dd",
   "metadata": {},
   "outputs": [],
   "source": [
    "# class MyCorpus:\n",
    "#     \"\"\"An iterator that yields sentences (lists of str).\"\"\"\n",
    "\n",
    "#     def __iter__(self):\n",
    "#         corpus_path = all_unsupervised[\"sequence\"].values\n",
    "#         for line in corpus_path:\n",
    "#             # assume there's one document per line, tokens separated by whitespace\n",
    "#             yield utils.simple_preprocess(line)"
   ]
  },
  {
   "cell_type": "code",
   "execution_count": 34,
   "id": "4319c86f",
   "metadata": {},
   "outputs": [],
   "source": [
    "import gensim.models\n",
    "\n",
    "# sentences = MyCorpus()"
   ]
  },
  {
   "cell_type": "code",
   "execution_count": 35,
   "id": "62e9efc8",
   "metadata": {},
   "outputs": [],
   "source": [
    "from gensim.models import Phrases"
   ]
  },
  {
   "cell_type": "code",
   "execution_count": 36,
   "id": "a16ca2cd",
   "metadata": {},
   "outputs": [],
   "source": [
    "bigram_transformer = Phrases(all_unsupervised_split)"
   ]
  },
  {
   "cell_type": "code",
   "execution_count": 37,
   "id": "5ec29ba8",
   "metadata": {},
   "outputs": [
    {
     "data": {
      "text/plain": [
       "762"
      ]
     },
     "execution_count": 37,
     "metadata": {},
     "output_type": "execute_result"
    }
   ],
   "source": [
    "len(bigram_transformer.export_phrases())"
   ]
  },
  {
   "cell_type": "code",
   "execution_count": 38,
   "id": "3cd96d2f",
   "metadata": {},
   "outputs": [],
   "source": [
    "model = gensim.models.Word2Vec(sentences=bigram_transformer[all_unsupervised_split], epochs = 6, workers = 6, vector_size = 100)"
   ]
  },
  {
   "cell_type": "code",
   "execution_count": 39,
   "id": "df3393b7",
   "metadata": {},
   "outputs": [
    {
     "data": {
      "text/plain": [
       "[('Peripla_BP_3|LacI', 0.9932994842529297),\n",
       " ('LacI|Peripla_BP_1', 0.5442603826522827),\n",
       " ('Peripla_BP_1|LacI', 0.5279130935668945),\n",
       " ('LacI|Peripla_BP_3|Peripla_BP_1', 0.5088406205177307),\n",
       " ('Peripla_BP_1|LacI|Peripla_BP_3', 0.4964331388473511),\n",
       " ('Peripla_BP_3|Peripla_BP_1|LacI', 0.4933910369873047),\n",
       " ('Peripla_BP_1|Peripla_BP_3|LacI', 0.4923916161060333),\n",
       " ('Peripla_BP_3|LacI|Peripla_BP_1', 0.4862915277481079),\n",
       " ('GH85|CBM32', 0.45317068696022034),\n",
       " ('LacI|Peripla_BP_1|Peripla_BP_3', 0.4333457946777344)]"
      ]
     },
     "execution_count": 39,
     "metadata": {},
     "output_type": "execute_result"
    }
   ],
   "source": [
    "model.wv.most_similar(positive = [ 'LacI|Peripla_BP_3'])"
   ]
  },
  {
   "cell_type": "code",
   "execution_count": 40,
   "id": "4b46d96d",
   "metadata": {},
   "outputs": [
    {
     "data": {
      "text/plain": [
       "4055"
      ]
     },
     "execution_count": 40,
     "metadata": {},
     "output_type": "execute_result"
    }
   ],
   "source": [
    "len(model.wv.key_to_index)"
   ]
  },
  {
   "cell_type": "code",
   "execution_count": 41,
   "id": "9e8a54e8",
   "metadata": {},
   "outputs": [],
   "source": [
    "split_genes_supervised_phrases = bigram_transformer[split_genes_supervised]"
   ]
  },
  {
   "cell_type": "code",
   "execution_count": 42,
   "id": "daac5c9b",
   "metadata": {},
   "outputs": [],
   "source": [
    "catch_supervised_with_ngrams = []\n",
    "\n",
    "for i in range(0, len(split_genes_supervised)): \n",
    "    catch_supervised_with_ngrams.append(split_genes_supervised_phrases[i])"
   ]
  },
  {
   "cell_type": "code",
   "execution_count": 43,
   "id": "dc8f25d6",
   "metadata": {},
   "outputs": [],
   "source": [
    "tokenized_supervised_seqs = catch_supervised_with_ngrams"
   ]
  },
  {
   "cell_type": "code",
   "execution_count": 44,
   "id": "55861fc0",
   "metadata": {},
   "outputs": [
    {
     "data": {
      "text/plain": [
       "654"
      ]
     },
     "execution_count": 44,
     "metadata": {},
     "output_type": "execute_result"
    }
   ],
   "source": [
    "len(tokenized_supervised_seqs)"
   ]
  },
  {
   "cell_type": "code",
   "execution_count": 45,
   "id": "1eba6ed2",
   "metadata": {},
   "outputs": [],
   "source": [
    "supervised_unique_genes = [gene for split_genes in tokenized_supervised_seqs for gene in split_genes]"
   ]
  },
  {
   "cell_type": "code",
   "execution_count": 46,
   "id": "5363a115",
   "metadata": {},
   "outputs": [
    {
     "data": {
      "text/plain": [
       "4253"
      ]
     },
     "execution_count": 46,
     "metadata": {},
     "output_type": "execute_result"
    }
   ],
   "source": [
    "len(supervised_unique_genes)"
   ]
  },
  {
   "cell_type": "code",
   "execution_count": 47,
   "id": "28dadeee",
   "metadata": {},
   "outputs": [],
   "source": [
    "word2vec_index = model.wv.index_to_key"
   ]
  },
  {
   "cell_type": "code",
   "execution_count": 3,
   "id": "25d32b5a",
   "metadata": {},
   "outputs": [],
   "source": [
    "# word2vec_index"
   ]
  },
  {
   "cell_type": "code",
   "execution_count": 4,
   "id": "8de45237",
   "metadata": {},
   "outputs": [],
   "source": [
    "# model.wv.key_to_index"
   ]
  },
  {
   "cell_type": "code",
   "execution_count": 50,
   "id": "02ab07f1",
   "metadata": {},
   "outputs": [
    {
     "data": {
      "text/plain": [
       "array([ 0.12659074, -0.09510124,  0.15970372, -0.8029479 , -0.6253466 ,\n",
       "       -0.46601698,  0.44897443,  0.3036746 ,  1.2778811 , -0.96759725,\n",
       "       -0.2380571 , -0.44331366,  1.5555876 , -0.4288723 ,  0.5845584 ,\n",
       "        0.91753423, -0.18391268, -0.5322133 ,  0.48250985,  0.3295316 ,\n",
       "       -0.3022187 ,  0.7132207 ,  1.260019  , -1.3358107 , -1.3056176 ,\n",
       "       -0.16846363,  0.17787117,  1.0617414 , -0.77237   ,  0.65428644,\n",
       "       -0.7843513 , -0.44390485,  0.9641004 ,  0.35507268, -0.46157923,\n",
       "        0.18406269, -1.3676366 , -0.9302938 , -0.74472725,  0.07356495,\n",
       "       -0.8849165 , -0.22421247,  0.90953726, -1.435987  , -1.3562899 ,\n",
       "        1.6576016 ,  1.0095739 , -0.7544265 , -0.5913958 , -1.8287057 ,\n",
       "        1.4473157 ,  1.6175896 , -0.78792614,  0.4287036 , -0.40822038,\n",
       "       -0.04388471, -1.3559475 ,  0.0662647 , -0.26487038,  1.2185138 ,\n",
       "       -0.7122932 , -0.16895469, -0.28428933, -1.526949  ,  0.8039583 ,\n",
       "       -0.08726908, -1.3048252 , -0.97025895,  0.81603897, -0.81343645,\n",
       "        0.5117242 , -1.2469379 , -0.86692345,  0.25153142, -0.31791848,\n",
       "       -0.8693079 ,  0.63827026,  1.2673842 ,  0.03878562,  0.46352723,\n",
       "        0.15106446, -0.37769794, -0.2171653 ,  1.2201109 , -0.26445824,\n",
       "        1.2019056 ,  0.10015871, -1.0312169 , -1.8137156 , -1.3443062 ,\n",
       "        0.26391274,  1.449185  , -0.08518233, -0.01658812,  0.36214745,\n",
       "       -0.073415  , -0.879316  , -1.6107796 , -0.27258176,  0.37711456],\n",
       "      dtype=float32)"
      ]
     },
     "execution_count": 50,
     "metadata": {},
     "output_type": "execute_result"
    }
   ],
   "source": [
    "model.wv.vectors[0]"
   ]
  },
  {
   "cell_type": "code",
   "execution_count": 51,
   "id": "b38a3657",
   "metadata": {},
   "outputs": [],
   "source": [
    "word_2_vec_dict = {}\n",
    "for word in supervised_unique_genes: \n",
    "    if word in word2vec_index: \n",
    "        index = model.wv.key_to_index[word]\n",
    "        word_vec = model.wv.vectors[index]\n",
    "        word_2_vec_dict[word] = word_vec"
   ]
  },
  {
   "cell_type": "code",
   "execution_count": 1,
   "id": "aba4ff3a",
   "metadata": {},
   "outputs": [],
   "source": [
    "# word_2_vec_dict"
   ]
  }
 ],
 "metadata": {
  "kernelspec": {
   "display_name": "newone",
   "language": "python",
   "name": "newone"
  },
  "language_info": {
   "codemirror_mode": {
    "name": "ipython",
    "version": 3
   },
   "file_extension": ".py",
   "mimetype": "text/x-python",
   "name": "python",
   "nbconvert_exporter": "python",
   "pygments_lexer": "ipython3",
   "version": "3.9.7"
  }
 },
 "nbformat": 4,
 "nbformat_minor": 5
}
