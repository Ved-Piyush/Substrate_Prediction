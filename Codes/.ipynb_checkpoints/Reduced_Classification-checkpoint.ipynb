{
 "cells": [
  {
   "cell_type": "code",
   "execution_count": 961,
   "id": "cd58ff86",
   "metadata": {},
   "outputs": [],
   "source": [
    "# set the directory to where the data is\n",
    "import os\n",
    "\n",
    "os.chdir(r\"D:\\Gene_Project\")"
   ]
  },
  {
   "cell_type": "code",
   "execution_count": 962,
   "id": "11964368",
   "metadata": {},
   "outputs": [],
   "source": [
    "# pandas for dealing with the data\n",
    "import pandas as pd\n",
    "# setting for seeing the entire string\n",
    "pd.options.display.max_colwidth = None\n",
    "pd.set_option('display.max_rows', 500)"
   ]
  },
  {
   "cell_type": "code",
   "execution_count": 963,
   "id": "93164546",
   "metadata": {},
   "outputs": [],
   "source": [
    "# load the data - new data that was provided\n",
    "data = pd.read_csv(r\"pul_seq_low_high_substr_year_corrected.tsv\", sep = \"\\t\").dropna().sample(frac = 1.0)"
   ]
  },
  {
   "cell_type": "code",
   "execution_count": 964,
   "id": "67f6cf05",
   "metadata": {},
   "outputs": [
    {
     "data": {
      "text/html": [
       "<div>\n",
       "<style scoped>\n",
       "    .dataframe tbody tr th:only-of-type {\n",
       "        vertical-align: middle;\n",
       "    }\n",
       "\n",
       "    .dataframe tbody tr th {\n",
       "        vertical-align: top;\n",
       "    }\n",
       "\n",
       "    .dataframe thead th {\n",
       "        text-align: right;\n",
       "    }\n",
       "</style>\n",
       "<table border=\"1\" class=\"dataframe\">\n",
       "  <thead>\n",
       "    <tr style=\"text-align: right;\">\n",
       "      <th></th>\n",
       "      <th>PULid</th>\n",
       "      <th>sig_gene_seq</th>\n",
       "      <th>low_level_substr</th>\n",
       "      <th>high_level_substr</th>\n",
       "      <th>Pub_year</th>\n",
       "    </tr>\n",
       "  </thead>\n",
       "  <tbody>\n",
       "    <tr>\n",
       "      <th>25</th>\n",
       "      <td>PUL0026</td>\n",
       "      <td>PfkB,PfkB,1.B.14,GH35</td>\n",
       "      <td>ribose</td>\n",
       "      <td>mono/di/trisaccharide</td>\n",
       "      <td>2020</td>\n",
       "    </tr>\n",
       "    <tr>\n",
       "      <th>638</th>\n",
       "      <td>PUL0641</td>\n",
       "      <td>PadR,PfkB,GH32,4.A.1,Sigma70_r2|Sigma70_r4_2,LacI,MarR</td>\n",
       "      <td>sucrose,kestose</td>\n",
       "      <td>multiple_substrates</td>\n",
       "      <td>2021</td>\n",
       "    </tr>\n",
       "    <tr>\n",
       "      <th>216</th>\n",
       "      <td>PUL0218</td>\n",
       "      <td>GH51,GH146|GH97,NUDIX,2.A.21,GH43_4,1.B.14,1.B.14,HTH_AraC,GH43_4,GH51|GH43_29,AAA</td>\n",
       "      <td>arabinose,arabinan</td>\n",
       "      <td>multiple_substrates</td>\n",
       "      <td>2015</td>\n",
       "    </tr>\n",
       "    <tr>\n",
       "      <th>616</th>\n",
       "      <td>PUL0619</td>\n",
       "      <td>1.B.14,GH35</td>\n",
       "      <td>xylan</td>\n",
       "      <td>xylan</td>\n",
       "      <td>2020</td>\n",
       "    </tr>\n",
       "    <tr>\n",
       "      <th>334</th>\n",
       "      <td>PUL0337</td>\n",
       "      <td>Aminotran_1_2,GerE,2.A.35,2.A.1,HTH_AraC,TPR_2,2.A.7,2.A.107,4.D.2,GerE,1.B.14,GH16,GH158,GH3</td>\n",
       "      <td>xylan,beta-glucan,lichenan</td>\n",
       "      <td>multiple_substrates</td>\n",
       "      <td>2017</td>\n",
       "    </tr>\n",
       "  </tbody>\n",
       "</table>\n",
       "</div>"
      ],
      "text/plain": [
       "       PULid  \\\n",
       "25   PUL0026   \n",
       "638  PUL0641   \n",
       "216  PUL0218   \n",
       "616  PUL0619   \n",
       "334  PUL0337   \n",
       "\n",
       "                                                                                      sig_gene_seq  \\\n",
       "25                                                                           PfkB,PfkB,1.B.14,GH35   \n",
       "638                                         PadR,PfkB,GH32,4.A.1,Sigma70_r2|Sigma70_r4_2,LacI,MarR   \n",
       "216             GH51,GH146|GH97,NUDIX,2.A.21,GH43_4,1.B.14,1.B.14,HTH_AraC,GH43_4,GH51|GH43_29,AAA   \n",
       "616                                                                                    1.B.14,GH35   \n",
       "334  Aminotran_1_2,GerE,2.A.35,2.A.1,HTH_AraC,TPR_2,2.A.7,2.A.107,4.D.2,GerE,1.B.14,GH16,GH158,GH3   \n",
       "\n",
       "               low_level_substr      high_level_substr Pub_year  \n",
       "25                       ribose  mono/di/trisaccharide     2020  \n",
       "638             sucrose,kestose    multiple_substrates     2021  \n",
       "216          arabinose,arabinan    multiple_substrates     2015  \n",
       "616                       xylan                  xylan     2020  \n",
       "334  xylan,beta-glucan,lichenan    multiple_substrates     2017  "
      ]
     },
     "execution_count": 964,
     "metadata": {},
     "output_type": "execute_result"
    }
   ],
   "source": [
    "data.head()"
   ]
  },
  {
   "cell_type": "code",
   "execution_count": 965,
   "id": "9df21462",
   "metadata": {},
   "outputs": [
    {
     "data": {
      "text/plain": [
       "multiple_substrates           138\n",
       "mono/di/trisaccharide          78\n",
       "capsule polysaccharide         60\n",
       "algal glycans                  40\n",
       "xylan                          38\n",
       "pectin                         38\n",
       "O-antigen                      37\n",
       "galactan                       36\n",
       "alpha-glucan                   23\n",
       "beta-mannan                    19\n",
       "cellulose                      18\n",
       "chitin                         15\n",
       "glycosaminoglycan              14\n",
       "beta-glucan                    13\n",
       "N-glycan                       12\n",
       "exopolysaccharide              10\n",
       "-                               9\n",
       "alpha-mannan                    8\n",
       "fructan                         8\n",
       "xyloglucan                      7\n",
       "host glycan                     7\n",
       "plant polysaccharide            6\n",
       "glycoprotein                    6\n",
       "human milk oligosaccharide      5\n",
       "hemicellulose                   5\n",
       "O-glycan                        3\n",
       "Name: high_level_substr, dtype: int64"
      ]
     },
     "execution_count": 965,
     "metadata": {},
     "output_type": "execute_result"
    }
   ],
   "source": [
    "# get the class distributions\n",
    "data[\"high_level_substr\"].value_counts()"
   ]
  },
  {
   "cell_type": "code",
   "execution_count": 966,
   "id": "4107fb43",
   "metadata": {},
   "outputs": [
    {
     "data": {
      "text/plain": [
       "O-glycan,N-glycan                                                21\n",
       "carboxymethylcellulose,xylan,beta-glucan,lichenan                 6\n",
       "lactose,host glycan                                               6\n",
       "mucin,O-glycan                                                    6\n",
       "xylan,beta-glucan,lichenan                                        5\n",
       "sucrose,kestose,nystose                                           5\n",
       "sucrose,kestose                                                   3\n",
       "glucomannan,galactomannan,glucose                                 3\n",
       "capsule polysaccharide,outer core capsule polysaccharide          3\n",
       "xylan,arabinoxylan                                                3\n",
       "agar,porphyran                                                    3\n",
       "arabinan,xylan,levan,pectin,rhamnogalacturonan                    3\n",
       "glucomannan,glucose                                               2\n",
       "sucrose,kestose,nystose,fructooligosaccharide                     2\n",
       "glucomannan,galactomannan                                         2\n",
       "melibiose,galactose                                               2\n",
       "arabinose,arabinan                                                2\n",
       "alpha-glucan,starch                                               2\n",
       "fructan,inulin                                                    2\n",
       "maltose,maltotriose                                               2\n",
       "alginate,ulvan                                                    2\n",
       "xylan,xylose                                                      2\n",
       "cellobiose,beta-glucan,glucosamine                                1\n",
       "melibiose,raffinose-oligosaccharide,stachyose                     1\n",
       "xylobiose,xylotriose                                              1\n",
       "N-acetyl-D-galactosamine,d-galactosamine                          1\n",
       "lichenan,cellobiose,beta-glucoside                                1\n",
       "cellobiose,cellotriose                                            1\n",
       "beta-glucan,sophorose,laminaribiose                               1\n",
       "cellobiose,beta-glucan,glucomannan,laminarin                      1\n",
       "arabinogalactan,cellobiose                                        1\n",
       "galactomannan,glucomannan,cellobiose,xyloglucan                   1\n",
       "laminarin,alginate                                                1\n",
       "isomaltose,panose,raffinose,stachyose,melibiose                   1\n",
       "beta-glucan,galactomannan                                         1\n",
       "cellobiose,cellulose,cellooligosaccharide                         1\n",
       "capsule polysaccharide,heparosan                                  1\n",
       "hemicellulose,pectin                                              1\n",
       "cellulose,galactomannan                                           1\n",
       "xylobiose,xylodextrin                                             1\n",
       "host glycan,rhamnogalacturonan                                    1\n",
       "N-acetyl-D-galactosamine,chondrotin sulfate                       1\n",
       "chitin,chitobiose,cellobiose                                      1\n",
       "fucose,galacturonic acid, rhamnose                                1\n",
       "mucin,human milk oligosaccharide,O-glycan                         1\n",
       "N-acetyl-D-glucosamine,glucosamine                                1\n",
       "raffinose,melibiose,isomaltotriose                                1\n",
       "N-glycan,mucin                                                    1\n",
       "arabinan,pectin                                                   1\n",
       "fructooligosaccharide,fructan                                     1\n",
       "xylan,glucomannan,plant polysaccharide                            1\n",
       "glucose,cellobiose,maltose                                        1\n",
       "maltose,maltodextrin                                              1\n",
       "exopolysaccharide,lipopolysaccharide                              1\n",
       "xylobiose,xylooligosaccharide                                     1\n",
       "galactomannan,glucomannan,glucose,mannose                         1\n",
       "cellulose,xylan,xyloglucan,pectin,mannan                          1\n",
       "O-antigen,exopolysaccharide                                       1\n",
       "beta-glucan,xylan                                                 1\n",
       "O-antigen,unknown polysaccharide                                  1\n",
       "levan,inulin,fructan                                              1\n",
       "carrageenan,agar                                                  1\n",
       "alpha-galactoside,beta-galactoside,raffinose,melibiose            1\n",
       "unsaturated hyaluronate disaccharide,chondroitin disaccharide     1\n",
       "glycosaminoglycan,chondroitin sulfate                             1\n",
       "exopolysaccharide,lipopolysaccharide,capsule polysaccharide       1\n",
       "raffinose,melibiose                                               1\n",
       "alpha-mannoside,N-glycan                                          1\n",
       "laminarin,beta-glucan                                             1\n",
       "galactomannan,glucomannan                                         1\n",
       "arabinoxylan,arabino-xylooligosaccharide                          1\n",
       "starch,maltodextrin                                               1\n",
       "sucrose,kestose,nystose,inulin                                    1\n",
       "Name: low_level_substr, dtype: int64"
      ]
     },
     "execution_count": 966,
     "metadata": {},
     "output_type": "execute_result"
    }
   ],
   "source": [
    "# so basically we need to lump some from the top two\n",
    "data[data[\"high_level_substr\"] == \"multiple_substrates\"][\"low_level_substr\"].value_counts()"
   ]
  },
  {
   "cell_type": "code",
   "execution_count": 967,
   "id": "1c8bf85a",
   "metadata": {},
   "outputs": [
    {
     "data": {
      "text/plain": [
       "cellobiose                                                 14\n",
       "sucrose                                                    12\n",
       "lactose                                                    11\n",
       "raffinose                                                   5\n",
       "beta-glucoside                                              4\n",
       "melibiose                                                   3\n",
       "maltose                                                     3\n",
       "4-methylumbelliferyl 6-azido-6-deoxy-beta-D-galactoside     3\n",
       "chitobiose                                                  2\n",
       "sialic acid                                                 2\n",
       "arabinose                                                   2\n",
       "ribose                                                      2\n",
       "trehalose                                                   2\n",
       "fucose                                                      2\n",
       "xylose                                                      2\n",
       "melezitose                                                  1\n",
       "gentiobiose                                                 1\n",
       "arabinofuranose                                             1\n",
       "galactose                                                   1\n",
       "glucose                                                     1\n",
       "mannose                                                     1\n",
       "alpha-galactoside                                           1\n",
       "isomaltose                                                  1\n",
       "sialoglycoconjugate                                         1\n",
       "Name: low_level_substr, dtype: int64"
      ]
     },
     "execution_count": 967,
     "metadata": {},
     "output_type": "execute_result"
    }
   ],
   "source": [
    "# so basically we need to lump some from the top two\n",
    "data[data[\"high_level_substr\"] == \"mono/di/trisaccharide\"][\"low_level_substr\"].value_counts()"
   ]
  },
  {
   "cell_type": "code",
   "execution_count": 968,
   "id": "9afbfe3f",
   "metadata": {},
   "outputs": [
    {
     "data": {
      "text/plain": [
       "capsule polysaccharide    60\n",
       "Name: low_level_substr, dtype: int64"
      ]
     },
     "execution_count": 968,
     "metadata": {},
     "output_type": "execute_result"
    }
   ],
   "source": [
    "# so basically we need to lump some from the top two\n",
    "data[data[\"high_level_substr\"] == \"capsule polysaccharide\"][\"low_level_substr\"].value_counts()"
   ]
  },
  {
   "cell_type": "code",
   "execution_count": 969,
   "id": "f6897a47",
   "metadata": {},
   "outputs": [
    {
     "data": {
      "text/plain": [
       "alginate       21\n",
       "carrageenan     8\n",
       "laminarin       5\n",
       "agar            4\n",
       "porphyran       2\n",
       "Name: low_level_substr, dtype: int64"
      ]
     },
     "execution_count": 969,
     "metadata": {},
     "output_type": "execute_result"
    }
   ],
   "source": [
    "# so basically we need to lump some from the top two\n",
    "data[data[\"high_level_substr\"] == \"algal glycans\"][\"low_level_substr\"].value_counts()"
   ]
  },
  {
   "cell_type": "code",
   "execution_count": 970,
   "id": "2f38e7d3",
   "metadata": {},
   "outputs": [
    {
     "data": {
      "text/plain": [
       "xylan                          25\n",
       "arabinoxylan                    6\n",
       "xylooligosaccharide             3\n",
       "methylglucuronoarabinoxylan     2\n",
       "glucuronoarabinoxylan           1\n",
       "acetylated glucuronoxylan       1\n",
       "Name: low_level_substr, dtype: int64"
      ]
     },
     "execution_count": 970,
     "metadata": {},
     "output_type": "execute_result"
    }
   ],
   "source": [
    "# so basically we need to lump some from the top two\n",
    "data[data[\"high_level_substr\"] == \"xylan\"][\"low_level_substr\"].value_counts()"
   ]
  },
  {
   "cell_type": "code",
   "execution_count": 971,
   "id": "e2870035",
   "metadata": {},
   "outputs": [
    {
     "data": {
      "text/plain": [
       "pectin                   28\n",
       "rhamnogalacturonan        5\n",
       "polygalacturonic acid     2\n",
       "homogalacturonan          2\n",
       "oligogalacturonide        1\n",
       "Name: low_level_substr, dtype: int64"
      ]
     },
     "execution_count": 971,
     "metadata": {},
     "output_type": "execute_result"
    }
   ],
   "source": [
    "# so basically we need to lump some from the top two\n",
    "data[data[\"high_level_substr\"] == \"pectin\"][\"low_level_substr\"].value_counts()"
   ]
  },
  {
   "cell_type": "code",
   "execution_count": 972,
   "id": "ec5b356a",
   "metadata": {},
   "outputs": [
    {
     "data": {
      "text/plain": [
       "O-antigen    37\n",
       "Name: low_level_substr, dtype: int64"
      ]
     },
     "execution_count": 972,
     "metadata": {},
     "output_type": "execute_result"
    }
   ],
   "source": [
    "# so basically we need to lump some from the top two\n",
    "data[data[\"high_level_substr\"] == \"O-antigen\"][\"low_level_substr\"].value_counts()"
   ]
  },
  {
   "cell_type": "code",
   "execution_count": 973,
   "id": "92da82de",
   "metadata": {},
   "outputs": [
    {
     "data": {
      "text/plain": [
       "galactan                       10\n",
       "arabinan                       10\n",
       "galactooligosaccharide          7\n",
       "arabinogalactan                 5\n",
       "beta-galactooligosaccharide     4\n",
       "Name: low_level_substr, dtype: int64"
      ]
     },
     "execution_count": 973,
     "metadata": {},
     "output_type": "execute_result"
    }
   ],
   "source": [
    "# so basically we need to lump some from the top two\n",
    "data[data[\"high_level_substr\"] == \"galactan\"][\"low_level_substr\"].value_counts()"
   ]
  },
  {
   "cell_type": "code",
   "execution_count": 974,
   "id": "5c83dbdd",
   "metadata": {},
   "outputs": [
    {
     "data": {
      "text/plain": [
       "starch                  8\n",
       "glycogen                3\n",
       "alpha-glucan            3\n",
       "maltodextrin            2\n",
       "dextran                 2\n",
       "maltooligosaccharide    1\n",
       "cyclomaltodextrin       1\n",
       "cellodextrin            1\n",
       "pullulan                1\n",
       "maltotriose             1\n",
       "Name: low_level_substr, dtype: int64"
      ]
     },
     "execution_count": 974,
     "metadata": {},
     "output_type": "execute_result"
    }
   ],
   "source": [
    "# so basically we need to lump some from the top two\n",
    "data[data[\"high_level_substr\"] == \"alpha-glucan\"][\"low_level_substr\"].value_counts()"
   ]
  },
  {
   "cell_type": "code",
   "execution_count": 975,
   "id": "e565a75e",
   "metadata": {},
   "outputs": [
    {
     "data": {
      "text/plain": [
       "beta-mannan                    8\n",
       "galactomannan                  6\n",
       "glucomannan                    3\n",
       "galactomannooligosaccharide    2\n",
       "Name: low_level_substr, dtype: int64"
      ]
     },
     "execution_count": 975,
     "metadata": {},
     "output_type": "execute_result"
    }
   ],
   "source": [
    "# so basically we need to lump some from the top two\n",
    "data[data[\"high_level_substr\"] == \"beta-mannan\"][\"low_level_substr\"].value_counts()"
   ]
  },
  {
   "cell_type": "code",
   "execution_count": 976,
   "id": "a20c1df7",
   "metadata": {},
   "outputs": [
    {
     "data": {
      "text/plain": [
       "beta-mannan                    8\n",
       "galactomannan                  6\n",
       "glucomannan                    3\n",
       "galactomannooligosaccharide    2\n",
       "Name: low_level_substr, dtype: int64"
      ]
     },
     "execution_count": 976,
     "metadata": {},
     "output_type": "execute_result"
    }
   ],
   "source": [
    "data[data[\"high_level_substr\"] == \"beta-mannan\"][\"low_level_substr\"].value_counts() "
   ]
  },
  {
   "cell_type": "code",
   "execution_count": 977,
   "id": "3463ef2f",
   "metadata": {},
   "outputs": [],
   "source": [
    "# classes to keep\n",
    "to_keep_classes = data[\"high_level_substr\"].value_counts()[:10].keys().tolist()"
   ]
  },
  {
   "cell_type": "code",
   "execution_count": 978,
   "id": "9eb51bfe",
   "metadata": {},
   "outputs": [],
   "source": [
    "# loop over all these classes and keep all those \n",
    "catch = []\n",
    "for classes in to_keep_classes:\n",
    "    filtered_df = data[data[\"high_level_substr\"] == classes]\n",
    "    low_level_freq = filtered_df[\"low_level_substr\"].value_counts()\n",
    "    to_keep = [k for k, v in low_level_freq.items() if v >= 8]\n",
    "    filtered_df = filtered_df[filtered_df[\"low_level_substr\"].isin(to_keep)]\n",
    "    catch.append(filtered_df)"
   ]
  },
  {
   "cell_type": "code",
   "execution_count": 979,
   "id": "52a54ebe",
   "metadata": {},
   "outputs": [],
   "source": [
    "filtered_df = pd.concat(catch)"
   ]
  },
  {
   "cell_type": "code",
   "execution_count": 980,
   "id": "a946d490",
   "metadata": {},
   "outputs": [],
   "source": [
    "other_df = data[~data.index.isin(filtered_df.index)]"
   ]
  },
  {
   "cell_type": "code",
   "execution_count": 981,
   "id": "4452239d",
   "metadata": {},
   "outputs": [
    {
     "data": {
      "text/plain": [
       "chitin                                                           14\n",
       "cellulose                                                        12\n",
       "N-glycan                                                         12\n",
       "beta-glucan                                                      12\n",
       "exopolysaccharide                                                 9\n",
       "alpha-mannan                                                      8\n",
       "galactooligosaccharide                                            7\n",
       "host glycan                                                       7\n",
       "xyloglucan                                                        7\n",
       "N-acetylglucosamine                                               7\n",
       "carboxymethylcellulose,xylan,beta-glucan,lichenan                 6\n",
       "galactomannan                                                     6\n",
       "mucin                                                             6\n",
       "plant polysaccharide                                              6\n",
       "lignocellulose                                                    6\n",
       "glycosaminoglycan                                                 6\n",
       "lactose,host glycan                                               6\n",
       "arabinoxylan                                                      6\n",
       "mucin,O-glycan                                                    6\n",
       "sucrose,kestose,nystose                                           5\n",
       "raffinose                                                         5\n",
       "arabinogalactan                                                   5\n",
       "rhamnogalacturonan                                                5\n",
       "laminarin                                                         5\n",
       "xylan,beta-glucan,lichenan                                        5\n",
       "hemicellulose                                                     5\n",
       "beta-galactooligosaccharide                                       4\n",
       "agar                                                              4\n",
       "beta-glucoside                                                    4\n",
       "O-glycan                                                          3\n",
       "glucomannan                                                       3\n",
       "arabinan,xylan,levan,pectin,rhamnogalacturonan                    3\n",
       "xylan,arabinoxylan                                                3\n",
       "xylooligosaccharide                                               3\n",
       "melibiose                                                         3\n",
       "fructooligosaccharide                                             3\n",
       "human milk oligosaccharide                                        3\n",
       "alpha-glucan                                                      3\n",
       "maltose                                                           3\n",
       "capsule polysaccharide,outer core capsule polysaccharide          3\n",
       "glucomannan,galactomannan,glucose                                 3\n",
       "4-methylumbelliferyl 6-azido-6-deoxy-beta-D-galactoside           3\n",
       "agar,porphyran                                                    3\n",
       "sucrose,kestose                                                   3\n",
       "glycogen                                                          3\n",
       "galactomannooligosaccharide                                       2\n",
       "arabinose                                                         2\n",
       "methylglucuronoarabinoxylan                                       2\n",
       "alpha-glucan,starch                                               2\n",
       "fructan,inulin                                                    2\n",
       "glucomannan,glucose                                               2\n",
       "sucrose,kestose,nystose,fructooligosaccharide                     2\n",
       "chitobiose                                                        2\n",
       "porphyran                                                         2\n",
       "glucomannan,galactomannan                                         2\n",
       "melibiose,galactose                                               2\n",
       "maltodextrin                                                      2\n",
       "dextran                                                           2\n",
       "ribose                                                            2\n",
       "alginate,ulvan                                                    2\n",
       "homogalacturonan                                                  2\n",
       "arabinose,arabinan                                                2\n",
       "xylose                                                            2\n",
       "glucan                                                            2\n",
       "maltose,maltotriose                                               2\n",
       "fucose                                                            2\n",
       "polygalacturonic acid                                             2\n",
       "xylan,xylose                                                      2\n",
       "sialic acid                                                       2\n",
       "trehalose                                                         2\n",
       "mucin,human milk oligosaccharide,O-glycan                         1\n",
       "melezitose                                                        1\n",
       "arabinogalactan,cellobiose                                        1\n",
       "melibiose,raffinose-oligosaccharide,stachyose                     1\n",
       "cellobiose,beta-glucan,glucomannan,laminarin                      1\n",
       "sialoglycoconjugate                                               1\n",
       "sucrose,kestose,nystose,inulin                                    1\n",
       "polysialic acid                                                   1\n",
       "lichenan,cellobiose,beta-glucoside                                1\n",
       "chitin,chitobiose,cellobiose                                      1\n",
       "cellobiose,beta-glucan,glucosamine                                1\n",
       "acarbose                                                          1\n",
       "glucose                                                           1\n",
       "fructan                                                           1\n",
       "N-acetyl-D-galactosamine,d-galactosamine                          1\n",
       "xylobiose,xylodextrin                                             1\n",
       "cellobiose,cellotriose                                            1\n",
       "acetylated glucuronoxylan                                         1\n",
       "beta-glucan,sophorose,laminaribiose                               1\n",
       "capsule polysaccharide,heparosan                                  1\n",
       "gentiobiose                                                       1\n",
       "cellobiose,cellulose,cellooligosaccharide                         1\n",
       "galactomannan,glucomannan,cellobiose,xyloglucan                   1\n",
       "arabinofuranose                                                   1\n",
       "levan                                                             1\n",
       "pullulan                                                          1\n",
       "laminarin,alginate                                                1\n",
       "inulin                                                            1\n",
       "emulsan                                                           1\n",
       "fucose,galacturonic acid, rhamnose                                1\n",
       "hemicellulose,pectin                                              1\n",
       "isomaltose,panose,raffinose,stachyose,melibiose                   1\n",
       "N-acetyl-D-galactosamine,chondrotin sulfate                       1\n",
       "xylobiose,xylotriose                                              1\n",
       "beta-glucan,galactomannan                                         1\n",
       "cellodextrin                                                      1\n",
       "host glycan,rhamnogalacturonan                                    1\n",
       "sorbitol                                                          1\n",
       "cellulose,galactomannan                                           1\n",
       "raffinose,melibiose,isomaltotriose                                1\n",
       "O-antigen,unknown polysaccharide                                  1\n",
       "N-glycan,mucin                                                    1\n",
       "unknown polysaccharide                                            1\n",
       "beta-glucan,xylan                                                 1\n",
       "maltooligosaccharide                                              1\n",
       "O-antigen,exopolysaccharide                                       1\n",
       "cellulose,xylan,xyloglucan,pectin,mannan                          1\n",
       "galactomannan,glucomannan,glucose,mannose                         1\n",
       "xylobiose,xylooligosaccharide                                     1\n",
       "exopolysaccharide,lipopolysaccharide                              1\n",
       "aldouronate                                                       1\n",
       "arabinofuranooligosaccharide                                      1\n",
       "isomaltose                                                        1\n",
       "maltose,maltodextrin                                              1\n",
       "kestose                                                           1\n",
       "lacto-n-triose                                                    1\n",
       "xanthan                                                           1\n",
       "glucose,cellobiose,maltose                                        1\n",
       "xylan,glucomannan,plant polysaccharide                            1\n",
       "fructooligosaccharide,fructan                                     1\n",
       "arabinan,pectin                                                   1\n",
       "lichenan                                                          1\n",
       "carrageenan,agar                                                  1\n",
       "galactose                                                         1\n",
       "oligogalacturonide                                                1\n",
       "levan,inulin,fructan                                              1\n",
       "N-acetyl-D-galactosamine                                          1\n",
       "chitooligosaccharide                                              1\n",
       "starch,maltodextrin                                               1\n",
       "mannose                                                           1\n",
       "arabinoxylan,arabino-xylooligosaccharide                          1\n",
       "galactomannan,glucomannan                                         1\n",
       "mannooligosaccharide                                              1\n",
       "cyclomaltodextrin                                                 1\n",
       "laminarin,beta-glucan                                             1\n",
       "fucosyllactose                                                    1\n",
       "N-acetyl-D-glucosamine,glucosamine                                1\n",
       "glucuronoarabinoxylan                                             1\n",
       "alpha-mannoside,N-glycan                                          1\n",
       "raffinose,melibiose                                               1\n",
       "exopolysaccharide,lipopolysaccharide,capsule polysaccharide       1\n",
       "glycosaminoglycan,chondroitin sulfate                             1\n",
       "alpha-galactoside                                                 1\n",
       "unsaturated hyaluronate disaccharide,chondroitin disaccharide     1\n",
       "alpha-galactoside,beta-galactoside,raffinose,melibiose            1\n",
       "maltotriose                                                       1\n",
       "Name: low_level_substr, dtype: int64"
      ]
     },
     "execution_count": 981,
     "metadata": {},
     "output_type": "execute_result"
    }
   ],
   "source": [
    "other_df[\"low_level_substr\"].value_counts()"
   ]
  },
  {
   "cell_type": "code",
   "execution_count": 982,
   "id": "782688ba",
   "metadata": {},
   "outputs": [
    {
     "data": {
      "text/plain": [
       "capsule polysaccharide    60\n",
       "O-antigen                 37\n",
       "pectin                    28\n",
       "xylan                     25\n",
       "O-glycan,N-glycan         21\n",
       "alginate                  21\n",
       "cellobiose                14\n",
       "sucrose                   12\n",
       "lactose                   11\n",
       "galactan                  10\n",
       "arabinan                  10\n",
       "carrageenan                8\n",
       "starch                     8\n",
       "beta-mannan                8\n",
       "Name: low_level_substr, dtype: int64"
      ]
     },
     "execution_count": 982,
     "metadata": {},
     "output_type": "execute_result"
    }
   ],
   "source": [
    "filtered_df[\"low_level_substr\"].value_counts()"
   ]
  },
  {
   "cell_type": "code",
   "execution_count": 983,
   "id": "0bdc75cc",
   "metadata": {},
   "outputs": [
    {
     "data": {
      "text/plain": [
       "capsule polysaccharide    60\n",
       "mono/di/trisaccharide     37\n",
       "O-antigen                 37\n",
       "algal glycans             29\n",
       "pectin                    28\n",
       "xylan                     25\n",
       "multiple_substrates       21\n",
       "galactan                  20\n",
       "alpha-glucan               8\n",
       "beta-mannan                8\n",
       "Name: high_level_substr, dtype: int64"
      ]
     },
     "execution_count": 983,
     "metadata": {},
     "output_type": "execute_result"
    }
   ],
   "source": [
    "filtered_df[\"high_level_substr\"].value_counts()"
   ]
  },
  {
   "cell_type": "code",
   "execution_count": 984,
   "id": "1768c2af",
   "metadata": {},
   "outputs": [
    {
     "data": {
      "text/plain": [
       "(273, 5)"
      ]
     },
     "execution_count": 984,
     "metadata": {},
     "output_type": "execute_result"
    }
   ],
   "source": [
    "filtered_df.shape"
   ]
  },
  {
   "cell_type": "code",
   "execution_count": 985,
   "id": "cb3aa2ba",
   "metadata": {},
   "outputs": [
    {
     "data": {
      "text/plain": [
       "(380, 5)"
      ]
     },
     "execution_count": 985,
     "metadata": {},
     "output_type": "execute_result"
    }
   ],
   "source": [
    "other_df.shape"
   ]
  },
  {
   "cell_type": "code",
   "execution_count": 986,
   "id": "9617fc86",
   "metadata": {},
   "outputs": [],
   "source": [
    "not_keep_df = other_df[~other_df[\"high_level_substr\"].isin(to_keep_classes)]"
   ]
  },
  {
   "cell_type": "code",
   "execution_count": 987,
   "id": "ce3dd2c1",
   "metadata": {},
   "outputs": [],
   "source": [
    "not_keep_df = not_keep_df.sample(n = filtered_df[\"high_level_substr\"].value_counts()[0])"
   ]
  },
  {
   "cell_type": "code",
   "execution_count": 988,
   "id": "45a8a328",
   "metadata": {},
   "outputs": [],
   "source": [
    "not_keep_df[\"high_level_substr\"] = \"others\""
   ]
  },
  {
   "cell_type": "code",
   "execution_count": 989,
   "id": "c029db93",
   "metadata": {},
   "outputs": [],
   "source": [
    "combined_df = pd.concat([filtered_df[[\"sig_gene_seq\", \"high_level_substr\"]], \n",
    "           not_keep_df[[\"sig_gene_seq\", \"high_level_substr\"]]]).sample(frac = 1.0)"
   ]
  },
  {
   "cell_type": "code",
   "execution_count": 990,
   "id": "f82b1e03",
   "metadata": {},
   "outputs": [
    {
     "data": {
      "text/plain": [
       "(333, 2)"
      ]
     },
     "execution_count": 990,
     "metadata": {},
     "output_type": "execute_result"
    }
   ],
   "source": [
    "combined_df.shape"
   ]
  },
  {
   "cell_type": "code",
   "execution_count": 991,
   "id": "d5f5c550",
   "metadata": {},
   "outputs": [],
   "source": [
    "from sklearn.preprocessing import LabelEncoder"
   ]
  },
  {
   "cell_type": "code",
   "execution_count": 992,
   "id": "7ab5d427",
   "metadata": {},
   "outputs": [],
   "source": [
    "le = LabelEncoder()"
   ]
  },
  {
   "cell_type": "code",
   "execution_count": 993,
   "id": "f2db265a",
   "metadata": {},
   "outputs": [],
   "source": [
    "combined_df[\"high_level_substr\"] = le.fit_transform(combined_df[\"high_level_substr\"])"
   ]
  },
  {
   "cell_type": "code",
   "execution_count": 994,
   "id": "d84c15eb",
   "metadata": {},
   "outputs": [],
   "source": [
    "# rest\n",
    "removed_df = data[~data.index.isin(combined_df.index)]"
   ]
  },
  {
   "cell_type": "code",
   "execution_count": 995,
   "id": "16822147",
   "metadata": {},
   "outputs": [
    {
     "data": {
      "text/plain": [
       "multiple_substrates           117\n",
       "mono/di/trisaccharide          41\n",
       "galactan                       16\n",
       "alpha-glucan                   15\n",
       "cellulose                      14\n",
       "xylan                          13\n",
       "glycosaminoglycan              12\n",
       "algal glycans                  11\n",
       "beta-mannan                    11\n",
       "pectin                         10\n",
       "exopolysaccharide               8\n",
       "N-glycan                        8\n",
       "chitin                          8\n",
       "human milk oligosaccharide      5\n",
       "fructan                         5\n",
       "plant polysaccharide            4\n",
       "glycoprotein                    4\n",
       "-                               4\n",
       "beta-glucan                     4\n",
       "host glycan                     3\n",
       "xyloglucan                      3\n",
       "hemicellulose                   2\n",
       "O-glycan                        1\n",
       "alpha-mannan                    1\n",
       "Name: high_level_substr, dtype: int64"
      ]
     },
     "execution_count": 995,
     "metadata": {},
     "output_type": "execute_result"
    }
   ],
   "source": [
    "removed_df[\"high_level_substr\"].value_counts()"
   ]
  },
  {
   "cell_type": "code",
   "execution_count": 996,
   "id": "7f711265",
   "metadata": {},
   "outputs": [
    {
     "data": {
      "text/plain": [
       "(320, 5)"
      ]
     },
     "execution_count": 996,
     "metadata": {},
     "output_type": "execute_result"
    }
   ],
   "source": [
    "removed_df.shape"
   ]
  },
  {
   "cell_type": "code",
   "execution_count": 997,
   "id": "4e5a703e",
   "metadata": {},
   "outputs": [],
   "source": [
    "from sklearn.model_selection import train_test_split"
   ]
  },
  {
   "cell_type": "code",
   "execution_count": 998,
   "id": "59288aac",
   "metadata": {},
   "outputs": [],
   "source": [
    "X_train, X_test, y_train, y_test = train_test_split(combined_df[\"sig_gene_seq\"].values,\n",
    "                                                    combined_df[\"high_level_substr\"].values, \n",
    "                                                   test_size = 0.3, stratify = combined_df[\"high_level_substr\"].values)"
   ]
  },
  {
   "cell_type": "code",
   "execution_count": 999,
   "id": "d429a094",
   "metadata": {},
   "outputs": [],
   "source": [
    "from sklearn.feature_extraction.text import CountVectorizer"
   ]
  },
  {
   "cell_type": "code",
   "execution_count": 1000,
   "id": "b03792d9",
   "metadata": {},
   "outputs": [],
   "source": [
    "vectorizer = CountVectorizer(tokenizer=lambda x: str(x).replace(\"|\", \",\").split(','), lowercase = False)"
   ]
  },
  {
   "cell_type": "code",
   "execution_count": 1001,
   "id": "3ea0bcd3",
   "metadata": {},
   "outputs": [
    {
     "name": "stderr",
     "output_type": "stream",
     "text": [
      "C:\\Users\\vedpi\\anaconda3\\envs\\newone\\lib\\site-packages\\sklearn\\feature_extraction\\text.py:516: UserWarning: The parameter 'token_pattern' will not be used since 'tokenizer' is not None'\n",
      "  warnings.warn(\n"
     ]
    },
    {
     "data": {
      "text/plain": [
       "CountVectorizer(lowercase=False,\n",
       "                tokenizer=<function <lambda> at 0x0000023BC872D5E0>)"
      ]
     },
     "execution_count": 1001,
     "metadata": {},
     "output_type": "execute_result"
    }
   ],
   "source": [
    "vectorizer.fit(X_train)"
   ]
  },
  {
   "cell_type": "code",
   "execution_count": 1002,
   "id": "e5a7dcca",
   "metadata": {},
   "outputs": [],
   "source": [
    "X_train = vectorizer.transform(X_train)"
   ]
  },
  {
   "cell_type": "code",
   "execution_count": 1003,
   "id": "ee9e661d",
   "metadata": {},
   "outputs": [],
   "source": [
    "X_test = vectorizer.transform(X_test)"
   ]
  },
  {
   "cell_type": "code",
   "execution_count": 1004,
   "id": "fd3cfb42",
   "metadata": {},
   "outputs": [],
   "source": [
    "from sklearn.ensemble import RandomForestClassifier"
   ]
  },
  {
   "cell_type": "code",
   "execution_count": 1005,
   "id": "efcc2232",
   "metadata": {},
   "outputs": [],
   "source": [
    "rf = RandomForestClassifier(n_jobs = 6)"
   ]
  },
  {
   "cell_type": "code",
   "execution_count": 1006,
   "id": "565ce9b4",
   "metadata": {},
   "outputs": [
    {
     "data": {
      "text/plain": [
       "RandomForestClassifier(n_jobs=6)"
      ]
     },
     "execution_count": 1006,
     "metadata": {},
     "output_type": "execute_result"
    }
   ],
   "source": [
    "rf.fit(X_train, y_train)"
   ]
  },
  {
   "cell_type": "code",
   "execution_count": 1007,
   "id": "dbf35472",
   "metadata": {},
   "outputs": [],
   "source": [
    "y_test_pred = rf.predict(X_test)"
   ]
  },
  {
   "cell_type": "code",
   "execution_count": 1008,
   "id": "fe536e17",
   "metadata": {},
   "outputs": [],
   "source": [
    "import numpy as np"
   ]
  },
  {
   "cell_type": "code",
   "execution_count": 1009,
   "id": "72248e1c",
   "metadata": {},
   "outputs": [
    {
     "data": {
      "text/plain": [
       "0.72"
      ]
     },
     "execution_count": 1009,
     "metadata": {},
     "output_type": "execute_result"
    }
   ],
   "source": [
    "np.mean(y_test == y_test_pred)"
   ]
  },
  {
   "cell_type": "code",
   "execution_count": 1010,
   "id": "cd0a50c7",
   "metadata": {},
   "outputs": [],
   "source": [
    "from sklearn.metrics import confusion_matrix"
   ]
  },
  {
   "cell_type": "code",
   "execution_count": 1011,
   "id": "35f66392",
   "metadata": {},
   "outputs": [
    {
     "data": {
      "text/plain": [
       "array(['O-antigen', 'algal glycans', 'alpha-glucan', 'beta-mannan',\n",
       "       'capsule polysaccharide', 'galactan', 'mono/di/trisaccharide',\n",
       "       'multiple_substrates', 'others', 'pectin', 'xylan'], dtype=object)"
      ]
     },
     "execution_count": 1011,
     "metadata": {},
     "output_type": "execute_result"
    }
   ],
   "source": [
    "le.classes_"
   ]
  },
  {
   "cell_type": "code",
   "execution_count": 1012,
   "id": "cf40f458",
   "metadata": {},
   "outputs": [],
   "source": [
    "# y_test_labeled = [le.inverse_transform([label])[0] for label in y_test]"
   ]
  },
  {
   "cell_type": "code",
   "execution_count": 1013,
   "id": "3fe9dac7",
   "metadata": {},
   "outputs": [],
   "source": [
    "# y_test_pred_labeled = [le.inverse_transform([label])[0] for label in y_test_pred]"
   ]
  },
  {
   "cell_type": "code",
   "execution_count": 1014,
   "id": "e2a79888",
   "metadata": {},
   "outputs": [],
   "source": [
    "# get the array oaf confusion matrix\n",
    "cm = confusion_matrix(y_test, y_test_pred, normalize = 'true')"
   ]
  },
  {
   "cell_type": "code",
   "execution_count": 1015,
   "id": "817e3ffb",
   "metadata": {},
   "outputs": [],
   "source": [
    "# dataframe for confusion matrix\n",
    "df_cm = pd.DataFrame(cm, index = [i for i in le.classes_],\n",
    "                  columns = [i for i in le.classes_])"
   ]
  },
  {
   "cell_type": "code",
   "execution_count": 1016,
   "id": "87f131cb",
   "metadata": {},
   "outputs": [],
   "source": [
    "# seaborn that helps with aesthetically pleasing plots\n",
    "import seaborn as sns"
   ]
  },
  {
   "cell_type": "code",
   "execution_count": 1017,
   "id": "b6c75ecd",
   "metadata": {},
   "outputs": [],
   "source": [
    "import matplotlib.pyplot as plt"
   ]
  },
  {
   "cell_type": "code",
   "execution_count": 1018,
   "id": "589a58ca",
   "metadata": {},
   "outputs": [
    {
     "data": {
      "image/png": "[encoded data removed]",
      "text/plain": [
       "<Figure size 720x720 with 2 Axes>"
      ]
     },
     "metadata": {
      "needs_background": "light"
     },
     "output_type": "display_data"
    }
   ],
   "source": [
    "# make the plot\n",
    "plt.figure(figsize = (10, 10))\n",
    "sns.heatmap(df_cm, annot = True)\n",
    "plt.title(\"confusion matrix for the test set\", fontsize = 20)\n",
    "plt.xlabel(\"Predicted Label\", fontsize = 20)\n",
    "plt.ylabel(\"True Label\", fontsize = 20)\n",
    "plt.show()\n"
   ]
  },
  {
   "cell_type": "code",
   "execution_count": 1019,
   "id": "dc7d4f35",
   "metadata": {},
   "outputs": [
    {
     "data": {
      "image/png": "[encoded data removed]",
      "text/plain": [
       "<Figure size 720x720 with 2 Axes>"
      ]
     },
     "metadata": {
      "needs_background": "light"
     },
     "output_type": "display_data"
    }
   ],
   "source": [
    "# get the array oaf confusion matrix\n",
    "cm = confusion_matrix(y_test, y_test_pred)\n",
    "\n",
    "# dataframe for confusion matrix\n",
    "df_cm = pd.DataFrame(cm, index = [i for i in le.classes_],\n",
    "                  columns = [i for i in le.classes_])\n",
    "\n",
    "# seaborn that helps with aesthetically pleasing plots\n",
    "import seaborn as sns\n",
    "\n",
    "import matplotlib.pyplot as plt\n",
    "\n",
    "# make the plot\n",
    "plt.figure(figsize = (10, 10))\n",
    "sns.heatmap(df_cm, annot = True)\n",
    "plt.title(\"confusion matrix for the test set\", fontsize = 20)\n",
    "plt.xlabel(\"Predicted Label\", fontsize = 20)\n",
    "plt.ylabel(\"True Label\", fontsize = 20)\n",
    "plt.show()\n"
   ]
  },
  {
   "cell_type": "code",
   "execution_count": 1020,
   "id": "11c518eb",
   "metadata": {},
   "outputs": [],
   "source": [
    "removed_df_not_keep = removed_df[~removed_df[\"high_level_substr\"].isin(le.classes_)]"
   ]
  },
  {
   "cell_type": "code",
   "execution_count": 1021,
   "id": "d4654b50",
   "metadata": {},
   "outputs": [
    {
     "name": "stderr",
     "output_type": "stream",
     "text": [
      "C:\\Users\\vedpi\\AppData\\Local\\Temp/ipykernel_15632/117425192.py:1: SettingWithCopyWarning: \n",
      "A value is trying to be set on a copy of a slice from a DataFrame.\n",
      "Try using .loc[row_indexer,col_indexer] = value instead\n",
      "\n",
      "See the caveats in the documentation: https://pandas.pydata.org/pandas-docs/stable/user_guide/indexing.html#returning-a-view-versus-a-copy\n",
      "  removed_df_not_keep[\"high_level_substr\"] = \"others\"\n"
     ]
    }
   ],
   "source": [
    "removed_df_not_keep[\"high_level_substr\"] = \"others\""
   ]
  },
  {
   "cell_type": "code",
   "execution_count": 1022,
   "id": "8ba8d0f2",
   "metadata": {},
   "outputs": [],
   "source": [
    "removed_df_keep = removed_df[removed_df[\"high_level_substr\"].isin(le.classes_)]"
   ]
  },
  {
   "cell_type": "code",
   "execution_count": 1023,
   "id": "a0697565",
   "metadata": {},
   "outputs": [],
   "source": [
    "removed_df_combined = pd.concat([removed_df_keep, removed_df_not_keep])"
   ]
  },
  {
   "cell_type": "code",
   "execution_count": 1024,
   "id": "e6164f5e",
   "metadata": {},
   "outputs": [
    {
     "data": {
      "text/plain": [
       "multiple_substrates      117\n",
       "others                    86\n",
       "mono/di/trisaccharide     41\n",
       "galactan                  16\n",
       "alpha-glucan              15\n",
       "xylan                     13\n",
       "beta-mannan               11\n",
       "algal glycans             11\n",
       "pectin                    10\n",
       "Name: high_level_substr, dtype: int64"
      ]
     },
     "execution_count": 1024,
     "metadata": {},
     "output_type": "execute_result"
    }
   ],
   "source": [
    "removed_df_combined[\"high_level_substr\"].value_counts()"
   ]
  },
  {
   "cell_type": "code",
   "execution_count": 1025,
   "id": "31524564",
   "metadata": {},
   "outputs": [],
   "source": [
    "removed_df_combined_classes = le.transform(removed_df_combined[\"high_level_substr\"])"
   ]
  },
  {
   "cell_type": "code",
   "execution_count": 1026,
   "id": "2c857ffc",
   "metadata": {},
   "outputs": [],
   "source": [
    "removed_df_combined_seqs = vectorizer.transform(removed_df_combined[\"sig_gene_seq\"].values)"
   ]
  },
  {
   "cell_type": "code",
   "execution_count": 1027,
   "id": "0b85bdab",
   "metadata": {},
   "outputs": [],
   "source": [
    "removed_df_combined_pred_classes = rf.predict(removed_df_combined_seqs)"
   ]
  },
  {
   "cell_type": "code",
   "execution_count": 1028,
   "id": "e1cdd2b3",
   "metadata": {},
   "outputs": [
    {
     "data": {
      "text/plain": [
       "0.31875"
      ]
     },
     "execution_count": 1028,
     "metadata": {},
     "output_type": "execute_result"
    }
   ],
   "source": [
    "np.mean(removed_df_combined_classes == removed_df_combined_pred_classes )"
   ]
  },
  {
   "cell_type": "code",
   "execution_count": 1029,
   "id": "9bb416ba",
   "metadata": {},
   "outputs": [
    {
     "data": {
      "image/png": "[encoded data removed]",
      "text/plain": [
       "<Figure size 720x720 with 2 Axes>"
      ]
     },
     "metadata": {
      "needs_background": "light"
     },
     "output_type": "display_data"
    }
   ],
   "source": [
    "# get the array oaf confusion matrix\n",
    "cm = confusion_matrix(removed_df_combined_classes, removed_df_combined_pred_classes, normalize = 'true')\n",
    "\n",
    "# dataframe for confusion matrix\n",
    "df_cm = pd.DataFrame(cm, index = [i for i in le.classes_],\n",
    "                  columns = [i for i in le.classes_])\n",
    "\n",
    "# seaborn that helps with aesthetically pleasing plots\n",
    "import seaborn as sns\n",
    "\n",
    "import matplotlib.pyplot as plt\n",
    "\n",
    "# make the plot\n",
    "plt.figure(figsize = (10, 10))\n",
    "sns.heatmap(df_cm, annot = True)\n",
    "plt.title(\"confusion matrix for the test set\", fontsize = 20)\n",
    "plt.xlabel(\"Predicted Label\", fontsize = 20)\n",
    "plt.ylabel(\"True Label\", fontsize = 20)\n",
    "plt.show()\n"
   ]
  }
 ],
 "metadata": {
  "kernelspec": {
   "display_name": "newone",
   "language": "python",
   "name": "newone"
  },
  "language_info": {
   "codemirror_mode": {
    "name": "ipython",
    "version": 3
   },
   "file_extension": ".py",
   "mimetype": "text/x-python",
   "name": "python",
   "nbconvert_exporter": "python",
   "pygments_lexer": "ipython3",
   "version": "3.9.7"
  }
 },
 "nbformat": 4,
 "nbformat_minor": 5
}
