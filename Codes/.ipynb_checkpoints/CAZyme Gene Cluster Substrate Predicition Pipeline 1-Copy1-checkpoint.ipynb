{
 "cells": [
  {
   "cell_type": "markdown",
   "id": "7182c3d8",
   "metadata": {},
   "source": [
    "# Goal"
   ]
  },
  {
   "cell_type": "markdown",
   "id": "2a1f282d",
   "metadata": {},
   "source": [
    "**Multi-Class Classification** - To classify a sequence of genes into different categories. "
   ]
  },
  {
   "cell_type": "code",
   "execution_count": 3,
   "id": "b1e62277",
   "metadata": {},
   "outputs": [],
   "source": [
    "# pandas for dealing with the data\n",
    "import pandas as pd\n",
    "# setting for seeing the entire string\n",
    "pd.options.display.max_colwidth = None"
   ]
  },
  {
   "cell_type": "code",
   "execution_count": 4,
   "id": "6eabff8e",
   "metadata": {},
   "outputs": [],
   "source": [
    "# load the data\n",
    "data = pd.read_csv(r\"D:\\Sequential_Project\\dbCAN_pul_subs_all_sed_update_year_rem_single.tsv\", sep = \"\\t\", header = None)"
   ]
  },
  {
   "cell_type": "code",
   "execution_count": 5,
   "id": "f56f12e3",
   "metadata": {},
   "outputs": [],
   "source": [
    "# give column names\n",
    "data.columns = [\"sequence\", \"target\", \"year\"]"
   ]
  },
  {
   "cell_type": "code",
   "execution_count": 6,
   "id": "dd7e40bb",
   "metadata": {},
   "outputs": [],
   "source": [
    "# drop year\n",
    "data = data.drop(labels = \"year\",axis = 1).sample(frac = 1.0)"
   ]
  },
  {
   "cell_type": "code",
   "execution_count": 7,
   "id": "334c2dc1",
   "metadata": {},
   "outputs": [
    {
     "data": {
      "text/html": [
       "<div>\n",
       "<style scoped>\n",
       "    .dataframe tbody tr th:only-of-type {\n",
       "        vertical-align: middle;\n",
       "    }\n",
       "\n",
       "    .dataframe tbody tr th {\n",
       "        vertical-align: top;\n",
       "    }\n",
       "\n",
       "    .dataframe thead th {\n",
       "        text-align: right;\n",
       "    }\n",
       "</style>\n",
       "<table border=\"1\" class=\"dataframe\">\n",
       "  <thead>\n",
       "    <tr style=\"text-align: right;\">\n",
       "      <th></th>\n",
       "      <th>sequence</th>\n",
       "      <th>target</th>\n",
       "    </tr>\n",
       "  </thead>\n",
       "  <tbody>\n",
       "    <tr>\n",
       "      <th>304</th>\n",
       "      <td>GH1,1.B.3,4.A.3,4.A.3,4.A.3,GntR</td>\n",
       "      <td>mono/di/trisaccaride</td>\n",
       "    </tr>\n",
       "    <tr>\n",
       "      <th>395</th>\n",
       "      <td>GH28,2.A.1</td>\n",
       "      <td>pectin</td>\n",
       "    </tr>\n",
       "    <tr>\n",
       "      <th>410</th>\n",
       "      <td>GH53,8.A.46,1.B.14,GH147</td>\n",
       "      <td>other</td>\n",
       "    </tr>\n",
       "    <tr>\n",
       "      <th>319</th>\n",
       "      <td>1.A.43,GH3,GH158,GH16,1.B.14,GerE,4.D.2,2.A.107,2.A.7,TPR_2,HTH_AraC+HTH_AraC,2.A.1</td>\n",
       "      <td>multiple substrates</td>\n",
       "    </tr>\n",
       "    <tr>\n",
       "      <th>535</th>\n",
       "      <td>1.B.14,PL1|CE8,GH43,GH142|GH143,GH78|CBM67</td>\n",
       "      <td>hemicellulose</td>\n",
       "    </tr>\n",
       "  </tbody>\n",
       "</table>\n",
       "</div>"
      ],
      "text/plain": [
       "                                                                                sequence  \\\n",
       "304                                                     GH1,1.B.3,4.A.3,4.A.3,4.A.3,GntR   \n",
       "395                                                                           GH28,2.A.1   \n",
       "410                                                             GH53,8.A.46,1.B.14,GH147   \n",
       "319  1.A.43,GH3,GH158,GH16,1.B.14,GerE,4.D.2,2.A.107,2.A.7,TPR_2,HTH_AraC+HTH_AraC,2.A.1   \n",
       "535                                           1.B.14,PL1|CE8,GH43,GH142|GH143,GH78|CBM67   \n",
       "\n",
       "                   target  \n",
       "304  mono/di/trisaccaride  \n",
       "395                pectin  \n",
       "410                 other  \n",
       "319   multiple substrates  \n",
       "535         hemicellulose  "
      ]
     },
     "execution_count": 7,
     "metadata": {},
     "output_type": "execute_result"
    }
   ],
   "source": [
    "# see the data\n",
    "data.head()"
   ]
  },
  {
   "cell_type": "markdown",
   "id": "135494f1",
   "metadata": {},
   "source": [
    "# Exploratory Data Analysis"
   ]
  },
  {
   "cell_type": "markdown",
   "id": "da2a6a9b",
   "metadata": {},
   "source": [
    "1. Check the distribution of the substrates. \n",
    "2. Learn something about the genes that appear in the sequence. "
   ]
  },
  {
   "cell_type": "markdown",
   "id": "773d7667",
   "metadata": {},
   "source": [
    "## Check the target distributions"
   ]
  },
  {
   "cell_type": "code",
   "execution_count": 95,
   "id": "536cf53c",
   "metadata": {},
   "outputs": [],
   "source": [
    "# get the frequency counts\n",
    "D = data.target.value_counts()"
   ]
  },
  {
   "cell_type": "code",
   "execution_count": 96,
   "id": "dd5fbd9d",
   "metadata": {},
   "outputs": [],
   "source": [
    "# convert to a dictionary\n",
    "D = dict(D)"
   ]
  },
  {
   "cell_type": "code",
   "execution_count": 97,
   "id": "33876692",
   "metadata": {},
   "outputs": [],
   "source": [
    "# import the plotting packages\n",
    "import matplotlib as mpl\n",
    "import matplotlib.pyplot as plt"
   ]
  },
  {
   "cell_type": "code",
   "execution_count": 98,
   "id": "31457d58",
   "metadata": {},
   "outputs": [],
   "source": [
    "# some parameters for improved plotting aesthetics\n",
    "mpl.rcParams['xtick.labelsize'] = 15 \n",
    "plt.rcParams[\"font.weight\"] = \"bold\""
   ]
  },
  {
   "cell_type": "code",
   "execution_count": 99,
   "id": "fb18eeb9",
   "metadata": {},
   "outputs": [
    {
     "data": {
      "image/png": "[encoded data removed]",
      "text/plain": [
       "<Figure size 720x432 with 1 Axes>"
      ]
     },
     "metadata": {
      "needs_background": "light"
     },
     "output_type": "display_data"
    }
   ],
   "source": [
    "# define the plotting area\n",
    "plt.figure(figsize = (10,6))\n",
    "# need a bar plot\n",
    "plt.bar(range(len(D)), list(D.values()), align='center')\n",
    "# put the labels but rotate them\n",
    "plt.xticks(range(len(D)), list(D.keys()), rotation = 90, weight = \"bold\")\n",
    "# increase the ticks on y\n",
    "plt.yticks(fontsize=14)\n",
    "# give labels to x\n",
    "plt.xlabel(\"Target Classes\", weight = \"bold\", fontsize = 20)\n",
    "# give labels to y\n",
    "plt.ylabel(\"Frequency\", weight = \"bold\", fontsize = 20)\n",
    "# put the title\n",
    "plt.title(\"Frequencies for the target classes\", weight = \"bold\", fontsize = 20)\n",
    "plt.show()"
   ]
  },
  {
   "cell_type": "markdown",
   "id": "23ca71ee",
   "metadata": {},
   "source": [
    "## What about the genes in the sequence?"
   ]
  },
  {
   "cell_type": "code",
   "execution_count": 100,
   "id": "30849619",
   "metadata": {},
   "outputs": [],
   "source": [
    "# collect all the genes from each sequence\n",
    "all_genes_per_sequence = [seq.split(\",\") for seq in data[\"sequence\"]]\n",
    "# loop over the list of genes and flatten it\n",
    "all_genes = [gene for list_genes in all_genes_per_sequence for gene in list_genes]"
   ]
  },
  {
   "cell_type": "code",
   "execution_count": 101,
   "id": "f19538b0",
   "metadata": {},
   "outputs": [],
   "source": [
    "# import numpy to deal with arrays\n",
    "import numpy as np"
   ]
  },
  {
   "cell_type": "code",
   "execution_count": 102,
   "id": "354d66e6",
   "metadata": {},
   "outputs": [
    {
     "data": {
      "text/plain": [
       "458"
      ]
     },
     "execution_count": 102,
     "metadata": {},
     "output_type": "execute_result"
    }
   ],
   "source": [
    "# how many unique genes? \n",
    "len(np.unique(all_genes))"
   ]
  },
  {
   "cell_type": "code",
   "execution_count": 103,
   "id": "b9a5e6f1",
   "metadata": {},
   "outputs": [],
   "source": [
    "# import counter function\n",
    "from collections import Counter"
   ]
  },
  {
   "cell_type": "code",
   "execution_count": 104,
   "id": "b2081394",
   "metadata": {},
   "outputs": [],
   "source": [
    "# get the frequency counts\n",
    "freq_count = Counter(all_genes)"
   ]
  },
  {
   "cell_type": "code",
   "execution_count": 105,
   "id": "77ad7464",
   "metadata": {},
   "outputs": [],
   "source": [
    "# sort in descending order\n",
    "D =dict(sorted(freq_count.items(), key=lambda item: item[1], reverse = True))"
   ]
  },
  {
   "cell_type": "code",
   "execution_count": 106,
   "id": "06335d4f",
   "metadata": {},
   "outputs": [],
   "source": [
    "# manipulate for plotting\n",
    "first2pairs = {k: D[k] for k in list(D)}"
   ]
  },
  {
   "cell_type": "code",
   "execution_count": 107,
   "id": "80661f31",
   "metadata": {},
   "outputs": [],
   "source": [
    "# variable assignment\n",
    "D = first2pairs"
   ]
  },
  {
   "cell_type": "code",
   "execution_count": 108,
   "id": "7491f7d6",
   "metadata": {},
   "outputs": [],
   "source": [
    "# some parameters for improved plotting aesthetics\n",
    "mpl.rcParams['xtick.labelsize'] = 15 \n",
    "plt.rcParams[\"font.weight\"] = \"bold\""
   ]
  },
  {
   "cell_type": "code",
   "execution_count": 109,
   "id": "63d87243",
   "metadata": {
    "scrolled": false
   },
   "outputs": [
    {
     "data": {
      "image/png": "[encoded data removed]",
      "text/plain": [
       "<Figure size 720x360 with 1 Axes>"
      ]
     },
     "metadata": {
      "needs_background": "light"
     },
     "output_type": "display_data"
    }
   ],
   "source": [
    "plt.figure(figsize = (10,5))\n",
    "plt.bar(range(len(D)), list(D.values()), align='center')\n",
    "plt.title(\"Frequency distribution for genes\", fontsize = 20)\n",
    "plt.xlabel(\"Gene Index\", fontsize = 20)\n",
    "plt.ylabel(\"Frequency\", fontsize = 20)\n",
    "plt.show()"
   ]
  },
  {
   "cell_type": "code",
   "execution_count": 110,
   "id": "c05ce665",
   "metadata": {},
   "outputs": [],
   "source": [
    "# visualize the cdf\n",
    "cdf_vec = np.cumsum(list(D.values()))/np.cumsum(list(D.values()))[-1]"
   ]
  },
  {
   "cell_type": "code",
   "execution_count": 111,
   "id": "4f6d55bb",
   "metadata": {},
   "outputs": [
    {
     "data": {
      "image/png": "[encoded data removed]",
      "text/plain": [
       "<Figure size 720x360 with 1 Axes>"
      ]
     },
     "metadata": {
      "needs_background": "light"
     },
     "output_type": "display_data"
    }
   ],
   "source": [
    "# make the plot for the cdf\n",
    "plt.figure(figsize = (10,5))\n",
    "plt.bar(range(len(cdf_vec)), cdf_vec, align='center')\n",
    "plt.title(\"CDF for the Frequency Counts\", fontsize = 20)\n",
    "plt.xlabel(\"Gene Index\", fontsize = 20)\n",
    "plt.ylabel(\"Frequency\", fontsize = 20)\n",
    "plt.show()\n"
   ]
  },
  {
   "cell_type": "markdown",
   "id": "fa0c3250",
   "metadata": {},
   "source": [
    "# Prediction Models"
   ]
  },
  {
   "cell_type": "markdown",
   "id": "9fbe297f",
   "metadata": {},
   "source": [
    "## How many classes can we handle for greater than 80% accuracy?"
   ]
  },
  {
   "cell_type": "code",
   "execution_count": 112,
   "id": "7d717292",
   "metadata": {},
   "outputs": [],
   "source": [
    "# preprocessor\n",
    "from sklearn.feature_extraction.text import CountVectorizer"
   ]
  },
  {
   "cell_type": "code",
   "execution_count": 113,
   "id": "2ca7e214",
   "metadata": {},
   "outputs": [],
   "source": [
    "# import the requisite packages\n",
    "from sklearn.model_selection import GridSearchCV\n",
    "from sklearn.pipeline import make_pipeline, Pipeline\n",
    "from sklearn.ensemble import RandomForestClassifier"
   ]
  },
  {
   "cell_type": "code",
   "execution_count": 114,
   "id": "df33e2fa",
   "metadata": {},
   "outputs": [],
   "source": [
    "# generic function that takes in the data and number of classes\n",
    "def model_by_classes(num_classes, data): \n",
    "    # get the frequency counts\n",
    "    all_classes = list(data.target.value_counts().keys())\n",
    "    # suppose using the top 2\n",
    "    keep_these_many = num_classes\n",
    "    # top_k_classes\n",
    "    top_k = all_classes[:keep_these_many]\n",
    "    # not top two\n",
    "    not_top_k = [target for target in all_classes if target not in top_k]\n",
    "    # get the data for the top k classes\n",
    "    top_k_data = data[data.target.isin(top_k)].reset_index(drop = True)\n",
    "    # get the data for the non top_k classes\n",
    "    not_top_k_data = data[data.target.isin(not_top_k)].reset_index(drop = True)\n",
    "    # give the same label to all the targets of the not_top_k_data\n",
    "    not_top_k_data[\"target\"] = \"unknown\"\n",
    "    # stack the top k and the not top k data together\n",
    "    all_data = pd.concat([top_k_data, not_top_k_data], ignore_index = True)\n",
    "    # instantiate the vectorizer again\n",
    "    vectorizer = CountVectorizer(tokenizer=lambda x: x.split(','))\n",
    "    # pipeline\n",
    "    clf = Pipeline([('countvectorizer',vectorizer),('rf',RandomForestClassifier(n_jobs = 6))])\n",
    "    # Parameters of pipelines can be set using ‘__’ separated parameter names:\n",
    "    param_grid = {\n",
    "    'countvectorizer__min_df': [1,2],\n",
    "    'rf__n_estimators': [100,200,400], \n",
    "    'rf__max_features': [\"auto\", \"log2\"]\n",
    "    }\n",
    "    # fit the search\n",
    "    search = GridSearchCV(clf, param_grid, n_jobs=7 , verbose = 3, cv = 5, scoring = \"accuracy\")\n",
    "    # fir the grid search\n",
    "    search.fit(all_data[\"sequence\"], all_data[\"target\"])\n",
    "    # best score\n",
    "    best_score = search.best_score_\n",
    "    # std error\n",
    "    std_accuracy = search.cv_results_['std_test_score'][np.argmax(search.cv_results_['mean_test_score'])]\n",
    "    return num_classes, best_score, std_accuracy"
   ]
  },
  {
   "cell_type": "code",
   "execution_count": 115,
   "id": "3c36f733",
   "metadata": {},
   "outputs": [],
   "source": [
    "# functions that can help us do parallel computation\n",
    "from joblib import Parallel, delayed"
   ]
  },
  {
   "cell_type": "code",
   "execution_count": 116,
   "id": "d2dc1fb7",
   "metadata": {},
   "outputs": [
    {
     "name": "stderr",
     "output_type": "stream",
     "text": [
      "[Parallel(n_jobs=7)]: Using backend LokyBackend with 7 concurrent workers.\n",
      "[Parallel(n_jobs=7)]: Done   6 out of   9 | elapsed:  1.8min remaining:   52.6s\n",
      "[Parallel(n_jobs=7)]: Done   9 out of   9 | elapsed:  3.1min finished\n"
     ]
    }
   ],
   "source": [
    "# run the function in parallel\n",
    "all_results = Parallel(n_jobs=7, verbose = 2)(delayed(model_by_classes)(i, data) for i in range(1, 10))"
   ]
  },
  {
   "cell_type": "code",
   "execution_count": 117,
   "id": "5cea1a86",
   "metadata": {},
   "outputs": [],
   "source": [
    "# get the error ranges\n",
    "err_ranges = np.array(all_results)[:,2]*3"
   ]
  },
  {
   "cell_type": "code",
   "execution_count": 118,
   "id": "c1271a8a",
   "metadata": {},
   "outputs": [],
   "source": [
    "# put everything in a dataframe\n",
    "df = pd.DataFrame(all_results)"
   ]
  },
  {
   "cell_type": "code",
   "execution_count": 119,
   "id": "bb687b2f",
   "metadata": {},
   "outputs": [],
   "source": [
    "# give column names\n",
    "df.columns = [\"num_classes\", \"mean_accuracy\", \"std_error_accuracy\"]"
   ]
  },
  {
   "cell_type": "code",
   "execution_count": 120,
   "id": "7e0a10c2",
   "metadata": {},
   "outputs": [],
   "source": [
    "# how much data do these classes cover\n",
    "coverage = pd.DataFrame(data.target.value_counts().cumsum()/data.target.value_counts().cumsum()[-1])[\"target\"].values[1:10]"
   ]
  },
  {
   "cell_type": "code",
   "execution_count": 121,
   "id": "9ad61852",
   "metadata": {},
   "outputs": [],
   "source": [
    "# round the coverage\n",
    "coverage = np.round(coverage,2).astype(str)"
   ]
  },
  {
   "cell_type": "code",
   "execution_count": 122,
   "id": "4b4c3f35",
   "metadata": {},
   "outputs": [
    {
     "data": {
      "image/png": "[encoded data removed]",
      "text/plain": [
       "<Figure size 720x720 with 1 Axes>"
      ]
     },
     "metadata": {
      "needs_background": "light"
     },
     "output_type": "display_data"
    }
   ],
   "source": [
    "# create a plot\n",
    "plt.figure(figsize = (10,10))\n",
    "plt.errorbar(df[\"num_classes\"],np.array(all_results)[:,1], \n",
    "             err_ranges, linestyle='None', marker='^', linewidth = 2)\n",
    "plt.xlabel(\"Number of Classes\", weight = \"bold\", fontsize = 20)\n",
    "plt.ylabel(\"Accuracy\", weight = \"bold\", fontsize = 20)\n",
    "plt.yticks(fontsize=14)\n",
    "plt.xticks(df[\"num_classes\"])\n",
    "counter = 1\n",
    "plt.title(\"mean accuracy with +- 3 SD\", weight = \"bold\", fontsize = 20)\n",
    "for text in coverage: \n",
    "    plt.text(counter, 1, text)\n",
    "    counter+=1\n",
    "plt.show()"
   ]
  },
  {
   "cell_type": "code",
   "execution_count": 123,
   "id": "10127906",
   "metadata": {},
   "outputs": [],
   "source": [
    "# make a new column for coverage\n",
    "df[\"coverage\"] = coverage"
   ]
  },
  {
   "cell_type": "code",
   "execution_count": 124,
   "id": "06407cc7",
   "metadata": {},
   "outputs": [
    {
     "data": {
      "text/html": [
       "<div>\n",
       "<style scoped>\n",
       "    .dataframe tbody tr th:only-of-type {\n",
       "        vertical-align: middle;\n",
       "    }\n",
       "\n",
       "    .dataframe tbody tr th {\n",
       "        vertical-align: top;\n",
       "    }\n",
       "\n",
       "    .dataframe thead th {\n",
       "        text-align: right;\n",
       "    }\n",
       "</style>\n",
       "<table border=\"1\" class=\"dataframe\">\n",
       "  <thead>\n",
       "    <tr style=\"text-align: right;\">\n",
       "      <th></th>\n",
       "      <th>num_classes</th>\n",
       "      <th>mean_accuracy</th>\n",
       "      <th>std_error_accuracy</th>\n",
       "      <th>coverage</th>\n",
       "    </tr>\n",
       "  </thead>\n",
       "  <tbody>\n",
       "    <tr>\n",
       "      <th>0</th>\n",
       "      <td>1</td>\n",
       "      <td>0.984615</td>\n",
       "      <td>0.006396</td>\n",
       "      <td>0.33</td>\n",
       "    </tr>\n",
       "    <tr>\n",
       "      <th>1</th>\n",
       "      <td>2</td>\n",
       "      <td>0.909402</td>\n",
       "      <td>0.016749</td>\n",
       "      <td>0.46</td>\n",
       "    </tr>\n",
       "    <tr>\n",
       "      <th>2</th>\n",
       "      <td>3</td>\n",
       "      <td>0.818803</td>\n",
       "      <td>0.031705</td>\n",
       "      <td>0.57</td>\n",
       "    </tr>\n",
       "    <tr>\n",
       "      <th>3</th>\n",
       "      <td>4</td>\n",
       "      <td>0.782906</td>\n",
       "      <td>0.027350</td>\n",
       "      <td>0.63</td>\n",
       "    </tr>\n",
       "    <tr>\n",
       "      <th>4</th>\n",
       "      <td>5</td>\n",
       "      <td>0.738462</td>\n",
       "      <td>0.019188</td>\n",
       "      <td>0.7</td>\n",
       "    </tr>\n",
       "    <tr>\n",
       "      <th>5</th>\n",
       "      <td>6</td>\n",
       "      <td>0.721368</td>\n",
       "      <td>0.025698</td>\n",
       "      <td>0.75</td>\n",
       "    </tr>\n",
       "    <tr>\n",
       "      <th>6</th>\n",
       "      <td>7</td>\n",
       "      <td>0.699145</td>\n",
       "      <td>0.018251</td>\n",
       "      <td>0.79</td>\n",
       "    </tr>\n",
       "    <tr>\n",
       "      <th>7</th>\n",
       "      <td>8</td>\n",
       "      <td>0.682051</td>\n",
       "      <td>0.014705</td>\n",
       "      <td>0.83</td>\n",
       "    </tr>\n",
       "    <tr>\n",
       "      <th>8</th>\n",
       "      <td>9</td>\n",
       "      <td>0.678632</td>\n",
       "      <td>0.018411</td>\n",
       "      <td>0.85</td>\n",
       "    </tr>\n",
       "  </tbody>\n",
       "</table>\n",
       "</div>"
      ],
      "text/plain": [
       "   num_classes  mean_accuracy  std_error_accuracy coverage\n",
       "0            1       0.984615            0.006396     0.33\n",
       "1            2       0.909402            0.016749     0.46\n",
       "2            3       0.818803            0.031705     0.57\n",
       "3            4       0.782906            0.027350     0.63\n",
       "4            5       0.738462            0.019188      0.7\n",
       "5            6       0.721368            0.025698     0.75\n",
       "6            7       0.699145            0.018251     0.79\n",
       "7            8       0.682051            0.014705     0.83\n",
       "8            9       0.678632            0.018411     0.85"
      ]
     },
     "execution_count": 124,
     "metadata": {},
     "output_type": "execute_result"
    }
   ],
   "source": [
    "df"
   ]
  },
  {
   "cell_type": "markdown",
   "id": "4ab1c0fd",
   "metadata": {},
   "source": [
    "We could decide to work with the top 3 most frequent classes because that model has an accuracy of over 80% but the issue is that the top 3 most frequent classes only cover about 57% of the data which I do not think is enough coverage. Therefore, I decide to work with the top six most frequent classes. The model for the top 6 most frequent classes has an accuracy of ~72% but covers 75% of the data. "
   ]
  },
  {
   "cell_type": "markdown",
   "id": "335b1d10",
   "metadata": {},
   "source": [
    "Therefore, the roadmap we will use is, we would have a classification model that can classify sequences into these top 6 most frequent classes. We would also have an unknown class in the mix which the model would classify a sequence into if it is not sure. "
   ]
  },
  {
   "cell_type": "markdown",
   "id": "ee281aec",
   "metadata": {},
   "source": [
    "## Implementing the roadmap"
   ]
  },
  {
   "cell_type": "markdown",
   "id": "2cc96be5",
   "metadata": {},
   "source": [
    "### RandomForest Supervised Learning Model"
   ]
  },
  {
   "cell_type": "code",
   "execution_count": 1,
   "id": "9c6638f9",
   "metadata": {},
   "outputs": [],
   "source": [
    "# import train test split\n",
    "from sklearn.model_selection import train_test_split"
   ]
  },
  {
   "cell_type": "code",
   "execution_count": 126,
   "id": "298c8619",
   "metadata": {},
   "outputs": [],
   "source": [
    "# make a train and test set\n",
    "X_train, X_test, y_train, y_test = train_test_split( data[\"sequence\"], data[\"target\"],\n",
    "                                                    test_size=0.40, random_state=42)"
   ]
  },
  {
   "cell_type": "code",
   "execution_count": 127,
   "id": "110c97b1",
   "metadata": {},
   "outputs": [],
   "source": [
    "# generic function that takes in the data and number of classes\n",
    "def model_by_classes_train(num_classes, data): \n",
    "    # get the frequency counts\n",
    "    all_classes = list(data.target.value_counts().keys())\n",
    "    # suppose using the top 2\n",
    "    keep_these_many = num_classes\n",
    "    # top_k_classes\n",
    "    top_k = all_classes[:keep_these_many]\n",
    "    # not top two\n",
    "    not_top_k = [target for target in all_classes if target not in top_k]\n",
    "    # get the data for the top k classes\n",
    "    top_k_data = data[data.target.isin(top_k)].reset_index(drop = True)\n",
    "    # get the data for the non top_k classes\n",
    "    not_top_k_data = data[data.target.isin(not_top_k)].reset_index(drop = True)\n",
    "    # give the same label to all the targets of the not_top_k_data\n",
    "    not_top_k_data[\"target\"] = \"unknown\"\n",
    "    # stack the top k and the not top k data together\n",
    "    all_data = pd.concat([top_k_data, not_top_k_data], ignore_index = True)\n",
    "    # instantiate the vectorizer again\n",
    "    vectorizer = CountVectorizer(tokenizer=lambda x: x.split(','))\n",
    "    # pipeline\n",
    "    clf = Pipeline([('countvectorizer',vectorizer),('rf',RandomForestClassifier(n_jobs = 6, class_weights = \"balanced_subsample\"))])\n",
    "    # Parameters of pipelines can be set using ‘__’ separated parameter names:\n",
    "    param_grid = {\n",
    "    'countvectorizer__min_df': [1,2],\n",
    "    'rf__n_estimators': [100,200,400], \n",
    "    'rf__max_features': [\"auto\", \"log2\"]\n",
    "    }\n",
    "    # fit the search\n",
    "    search = GridSearchCV(clf, param_grid, n_jobs=7 , verbose = 3, cv = 5, scoring = \"accuracy\")\n",
    "    # fir the grid search\n",
    "    search.fit(all_data[\"sequence\"], all_data[\"target\"])\n",
    "    # best score\n",
    "    best_score = search.best_score_\n",
    "    # std error\n",
    "    std_accuracy = search.cv_results_['std_test_score'][np.argmax(search.cv_results_['mean_test_score'])]\n",
    "    return num_classes, best_score, std_accuracy, search.best_estimator_, top_k, not_top_k"
   ]
  },
  {
   "cell_type": "code",
   "execution_count": 128,
   "id": "3e9b8a76",
   "metadata": {},
   "outputs": [],
   "source": [
    "data_train = pd.concat([pd.DataFrame(X_train.values), pd.DataFrame(y_train.values)], ignore_index = True, axis = 1)"
   ]
  },
  {
   "cell_type": "code",
   "execution_count": 129,
   "id": "6ebd4f5b",
   "metadata": {},
   "outputs": [],
   "source": [
    "data_train.columns = [\"sequence\", \"target\"]"
   ]
  },
  {
   "cell_type": "code",
   "execution_count": 130,
   "id": "fc51b927",
   "metadata": {},
   "outputs": [
    {
     "name": "stdout",
     "output_type": "stream",
     "text": [
      "Fitting 5 folds for each of 12 candidates, totalling 60 fits\n"
     ]
    }
   ],
   "source": [
    "# use the function with 6 classes and only train data\n",
    "num_classes, best_score, std_accuracy, best_estimator_, top_k, not_top_k = model_by_classes_train(6, data_train)"
   ]
  },
  {
   "cell_type": "code",
   "execution_count": 131,
   "id": "57872d4e",
   "metadata": {},
   "outputs": [
    {
     "data": {
      "text/plain": [
       "(0.6951307847082495, 0.02673116795220182)"
      ]
     },
     "execution_count": 131,
     "metadata": {},
     "output_type": "execute_result"
    }
   ],
   "source": [
    "# best score and std error\n",
    "best_score, std_accuracy"
   ]
  },
  {
   "cell_type": "code",
   "execution_count": 132,
   "id": "26c6a38e",
   "metadata": {},
   "outputs": [],
   "source": [
    "best_estimator = best_estimator_"
   ]
  },
  {
   "cell_type": "code",
   "execution_count": 133,
   "id": "b575d693",
   "metadata": {},
   "outputs": [],
   "source": [
    "# column change the original targets to top 6 + unknown\n",
    "targets_train = [target if target in top_k else \"unknown\" for target in data_train[\"target\"]]"
   ]
  },
  {
   "cell_type": "code",
   "execution_count": 134,
   "id": "3e0377a3",
   "metadata": {},
   "outputs": [
    {
     "data": {
      "text/plain": [
       "Pipeline(steps=[('countvectorizer',\n",
       "                 CountVectorizer(min_df=2,\n",
       "                                 tokenizer=<function model_by_classes_train.<locals>.<lambda> at 0x00000228B1AB00D0>)),\n",
       "                ('rf', RandomForestClassifier(n_jobs=6))])"
      ]
     },
     "execution_count": 134,
     "metadata": {},
     "output_type": "execute_result"
    }
   ],
   "source": [
    "# refit this best estimator\n",
    "best_estimator.fit(data_train[\"sequence\"], targets_train)"
   ]
  },
  {
   "cell_type": "code",
   "execution_count": 135,
   "id": "ac498386",
   "metadata": {},
   "outputs": [],
   "source": [
    "# get the predictions for test\n",
    "y_test_pred = best_estimator.predict(X_test)"
   ]
  },
  {
   "cell_type": "code",
   "execution_count": 136,
   "id": "735b140e",
   "metadata": {},
   "outputs": [],
   "source": [
    "# get the confusion matrix "
   ]
  },
  {
   "cell_type": "code",
   "execution_count": 137,
   "id": "e0620242",
   "metadata": {},
   "outputs": [],
   "source": [
    "from sklearn.metrics import confusion_matrix"
   ]
  },
  {
   "cell_type": "code",
   "execution_count": 138,
   "id": "ce4f78a5",
   "metadata": {},
   "outputs": [],
   "source": [
    "data_test = pd.concat([pd.DataFrame(X_test.values), pd.DataFrame(y_test.values)], ignore_index = True, axis = 1)"
   ]
  },
  {
   "cell_type": "code",
   "execution_count": 139,
   "id": "1c091b05",
   "metadata": {},
   "outputs": [],
   "source": [
    "data_test.columns = [\"sequence\", \"target\"]"
   ]
  },
  {
   "cell_type": "code",
   "execution_count": 140,
   "id": "a73637e5",
   "metadata": {},
   "outputs": [],
   "source": [
    "# column change the original targets to top 6 + unknown\n",
    "targets_test = [target if target in top_k else \"unknown\" for target in data_test[\"target\"]]"
   ]
  },
  {
   "cell_type": "code",
   "execution_count": 141,
   "id": "675b1487",
   "metadata": {},
   "outputs": [],
   "source": [
    "# get the array oaf confusion matrix\n",
    "cm = confusion_matrix(targets_test, y_test_pred)"
   ]
  },
  {
   "cell_type": "code",
   "execution_count": 142,
   "id": "730b119a",
   "metadata": {},
   "outputs": [],
   "source": [
    "# dataframe for confusion matrix\n",
    "df_cm = pd.DataFrame(cm, index = [i for i in best_estimator.classes_],\n",
    "                  columns = [i for i in best_estimator.classes_])"
   ]
  },
  {
   "cell_type": "code",
   "execution_count": 143,
   "id": "c749fd2c",
   "metadata": {},
   "outputs": [],
   "source": [
    "# seaborn that helps with aesthetically pleasing plots\n",
    "import seaborn as sns"
   ]
  },
  {
   "cell_type": "code",
   "execution_count": 144,
   "id": "95ca5f12",
   "metadata": {},
   "outputs": [
    {
     "data": {
      "image/png": "[encoded data removed]",
      "text/plain": [
       "<Figure size 720x576 with 2 Axes>"
      ]
     },
     "metadata": {
      "needs_background": "light"
     },
     "output_type": "display_data"
    }
   ],
   "source": [
    "# make the plot\n",
    "plt.figure(figsize = (10, 8))\n",
    "sns.heatmap(df_cm, annot = True)\n",
    "plt.title(\"confusion matrix for the test set\", fontsize = 20)\n",
    "plt.xlabel(\"Predicted Label\", fontsize = 20)\n",
    "plt.ylabel(\"True Label\", fontsize = 20)\n",
    "plt.show()\n"
   ]
  },
  {
   "cell_type": "code",
   "execution_count": 145,
   "id": "15a2241b",
   "metadata": {},
   "outputs": [],
   "source": [
    "from sklearn.metrics import accuracy_score"
   ]
  },
  {
   "cell_type": "code",
   "execution_count": 146,
   "id": "292a2d29",
   "metadata": {},
   "outputs": [
    {
     "data": {
      "text/plain": [
       "0.7051282051282052"
      ]
     },
     "execution_count": 146,
     "metadata": {},
     "output_type": "execute_result"
    }
   ],
   "source": [
    "accuracy_score(targets_test, y_test_pred)"
   ]
  },
  {
   "cell_type": "markdown",
   "id": "26175a51",
   "metadata": {},
   "source": [
    "So far, we have a trained random forest classifier which can classify new sequences into the top 6 most frequent classes and an unknown class if it is not sure."
   ]
  },
  {
   "cell_type": "markdown",
   "id": "a2d3f559",
   "metadata": {},
   "source": [
    "### Few Shot Learning"
   ]
  },
  {
   "cell_type": "markdown",
   "id": "4a82d52a",
   "metadata": {},
   "source": [
    "**High Level Goal** - We will handle the classes we lumped in the unknown class using few shot learning. "
   ]
  },
  {
   "cell_type": "code",
   "execution_count": 147,
   "id": "bd74e7bc",
   "metadata": {},
   "outputs": [
    {
     "data": {
      "text/plain": [
       "['beta-mannan',\n",
       " 'pectin',\n",
       " 'beta-glucan',\n",
       " 'galactan',\n",
       " 'cellulose',\n",
       " 'cellooligosaccharide',\n",
       " 'chitin',\n",
       " 'starch',\n",
       " 'other',\n",
       " 'alpha-mannan',\n",
       " 'fructan',\n",
       " 'alpha-glucan',\n",
       " 'glycogen',\n",
       " 'dextran',\n",
       " 'xanthan']"
      ]
     },
     "execution_count": 147,
     "metadata": {},
     "output_type": "execute_result"
    }
   ],
   "source": [
    "# unknown classes\n",
    "not_top_k"
   ]
  },
  {
   "cell_type": "code",
   "execution_count": 148,
   "id": "18b00e9b",
   "metadata": {},
   "outputs": [],
   "source": [
    "# get those data from the train data\n",
    "not_top_k_data_train = data_train[data_train.target.isin(not_top_k)].reset_index(drop = True)"
   ]
  },
  {
   "cell_type": "code",
   "execution_count": 149,
   "id": "4c86f9b0",
   "metadata": {},
   "outputs": [
    {
     "data": {
      "text/html": [
       "<div>\n",
       "<style scoped>\n",
       "    .dataframe tbody tr th:only-of-type {\n",
       "        vertical-align: middle;\n",
       "    }\n",
       "\n",
       "    .dataframe tbody tr th {\n",
       "        vertical-align: top;\n",
       "    }\n",
       "\n",
       "    .dataframe thead th {\n",
       "        text-align: right;\n",
       "    }\n",
       "</style>\n",
       "<table border=\"1\" class=\"dataframe\">\n",
       "  <thead>\n",
       "    <tr style=\"text-align: right;\">\n",
       "      <th></th>\n",
       "      <th>sequence</th>\n",
       "      <th>target</th>\n",
       "    </tr>\n",
       "  </thead>\n",
       "  <tbody>\n",
       "    <tr>\n",
       "      <th>0</th>\n",
       "      <td>4.A.3,4.A.3,4.A.3,8.A.49,GntR,GH26</td>\n",
       "      <td>beta-mannan</td>\n",
       "    </tr>\n",
       "    <tr>\n",
       "      <th>1</th>\n",
       "      <td>GH5,1.B.14,GH5,GH2,GH5,GH140,GH130,2.A.2,GH78|CBM67</td>\n",
       "      <td>other</td>\n",
       "    </tr>\n",
       "    <tr>\n",
       "      <th>2</th>\n",
       "      <td>Pyr_redox_2,GH13|CBM48,GT5,GT35,CBM34|GH13,3.A.1</td>\n",
       "      <td>glycogen</td>\n",
       "    </tr>\n",
       "    <tr>\n",
       "      <th>3</th>\n",
       "      <td>1.B.14,GH30,GH3</td>\n",
       "      <td>beta-glucan</td>\n",
       "    </tr>\n",
       "    <tr>\n",
       "      <th>4</th>\n",
       "      <td>GH16|GH0,GH3,SIS+SIS,GntR,1.A.30,1.A.30,1.B.14</td>\n",
       "      <td>chitin</td>\n",
       "    </tr>\n",
       "  </tbody>\n",
       "</table>\n",
       "</div>"
      ],
      "text/plain": [
       "                                              sequence       target\n",
       "0                   4.A.3,4.A.3,4.A.3,8.A.49,GntR,GH26  beta-mannan\n",
       "1  GH5,1.B.14,GH5,GH2,GH5,GH140,GH130,2.A.2,GH78|CBM67        other\n",
       "2     Pyr_redox_2,GH13|CBM48,GT5,GT35,CBM34|GH13,3.A.1     glycogen\n",
       "3                                      1.B.14,GH30,GH3  beta-glucan\n",
       "4       GH16|GH0,GH3,SIS+SIS,GntR,1.A.30,1.A.30,1.B.14       chitin"
      ]
     },
     "execution_count": 149,
     "metadata": {},
     "output_type": "execute_result"
    }
   ],
   "source": [
    "not_top_k_data_train.head()"
   ]
  },
  {
   "cell_type": "code",
   "execution_count": 150,
   "id": "0edf7a97",
   "metadata": {},
   "outputs": [
    {
     "data": {
      "text/plain": [
       "(109, 2)"
      ]
     },
     "execution_count": 150,
     "metadata": {},
     "output_type": "execute_result"
    }
   ],
   "source": [
    "# shape\n",
    "not_top_k_data_train.shape"
   ]
  },
  {
   "cell_type": "code",
   "execution_count": 151,
   "id": "9d77a536",
   "metadata": {},
   "outputs": [
    {
     "data": {
      "text/plain": [
       "beta-mannan             18\n",
       "pectin                  16\n",
       "beta-glucan             11\n",
       "galactan                10\n",
       "cellulose                9\n",
       "chitin                   8\n",
       "cellooligosaccharide     8\n",
       "starch                   7\n",
       "other                    6\n",
       "alpha-mannan             5\n",
       "fructan                  5\n",
       "alpha-glucan             3\n",
       "glycogen                 1\n",
       "dextran                  1\n",
       "xanthan                  1\n",
       "Name: target, dtype: int64"
      ]
     },
     "execution_count": 151,
     "metadata": {},
     "output_type": "execute_result"
    }
   ],
   "source": [
    "not_top_k_data_train[\"target\"].value_counts()"
   ]
  },
  {
   "cell_type": "code",
   "execution_count": 152,
   "id": "b944b92d",
   "metadata": {},
   "outputs": [],
   "source": [
    "# get those data from the test data\n",
    "not_top_k_data_test = data_test[data_test.target.isin(not_top_k)].reset_index(drop = True)"
   ]
  },
  {
   "cell_type": "code",
   "execution_count": 153,
   "id": "d6c65ec0",
   "metadata": {},
   "outputs": [
    {
     "data": {
      "text/html": [
       "<div>\n",
       "<style scoped>\n",
       "    .dataframe tbody tr th:only-of-type {\n",
       "        vertical-align: middle;\n",
       "    }\n",
       "\n",
       "    .dataframe tbody tr th {\n",
       "        vertical-align: top;\n",
       "    }\n",
       "\n",
       "    .dataframe thead th {\n",
       "        text-align: right;\n",
       "    }\n",
       "</style>\n",
       "<table border=\"1\" class=\"dataframe\">\n",
       "  <thead>\n",
       "    <tr style=\"text-align: right;\">\n",
       "      <th></th>\n",
       "      <th>sequence</th>\n",
       "      <th>target</th>\n",
       "    </tr>\n",
       "  </thead>\n",
       "  <tbody>\n",
       "    <tr>\n",
       "      <th>0</th>\n",
       "      <td>GH3,HTH_AraC,GH16,1.B.14,8.A.46,GH3</td>\n",
       "      <td>beta-glucan</td>\n",
       "    </tr>\n",
       "    <tr>\n",
       "      <th>1</th>\n",
       "      <td>GH130,LacI,GH130,SBP_bac_1,GH27,3.A.1,3.A.1,CE7</td>\n",
       "      <td>beta-mannan</td>\n",
       "    </tr>\n",
       "    <tr>\n",
       "      <th>2</th>\n",
       "      <td>8.A.9,CBM34|GH13,3.A.1,3.A.1,3.A.1</td>\n",
       "      <td>other</td>\n",
       "    </tr>\n",
       "    <tr>\n",
       "      <th>3</th>\n",
       "      <td>GH1,HTH_6+SIS,3.A.1,8.A.59,Response_reg+HTH_18+HTH_AraC,3.A.1,3.A.1,3.A.1</td>\n",
       "      <td>galactan</td>\n",
       "    </tr>\n",
       "    <tr>\n",
       "      <th>4</th>\n",
       "      <td>LacI,1.B.3,GH42,GH53,3.A.1,3.A.1,3.A.1,3.A.1</td>\n",
       "      <td>galactan</td>\n",
       "    </tr>\n",
       "  </tbody>\n",
       "</table>\n",
       "</div>"
      ],
      "text/plain": [
       "                                                                    sequence  \\\n",
       "0                                        GH3,HTH_AraC,GH16,1.B.14,8.A.46,GH3   \n",
       "1                            GH130,LacI,GH130,SBP_bac_1,GH27,3.A.1,3.A.1,CE7   \n",
       "2                                         8.A.9,CBM34|GH13,3.A.1,3.A.1,3.A.1   \n",
       "3  GH1,HTH_6+SIS,3.A.1,8.A.59,Response_reg+HTH_18+HTH_AraC,3.A.1,3.A.1,3.A.1   \n",
       "4                               LacI,1.B.3,GH42,GH53,3.A.1,3.A.1,3.A.1,3.A.1   \n",
       "\n",
       "        target  \n",
       "0  beta-glucan  \n",
       "1  beta-mannan  \n",
       "2        other  \n",
       "3     galactan  \n",
       "4     galactan  "
      ]
     },
     "execution_count": 153,
     "metadata": {},
     "output_type": "execute_result"
    }
   ],
   "source": [
    "not_top_k_data_test.head()"
   ]
  },
  {
   "cell_type": "code",
   "execution_count": 154,
   "id": "dc0a281a",
   "metadata": {},
   "outputs": [
    {
     "data": {
      "text/plain": [
       "(67, 2)"
      ]
     },
     "execution_count": 154,
     "metadata": {},
     "output_type": "execute_result"
    }
   ],
   "source": [
    "# shape\n",
    "not_top_k_data_test.shape"
   ]
  },
  {
   "cell_type": "code",
   "execution_count": 155,
   "id": "ba9c00da",
   "metadata": {},
   "outputs": [],
   "source": [
    "from metric_learn import NCA"
   ]
  },
  {
   "cell_type": "code",
   "execution_count": 156,
   "id": "69d701e1",
   "metadata": {},
   "outputs": [],
   "source": [
    "from sklearn.preprocessing import FunctionTransformer"
   ]
  },
  {
   "cell_type": "code",
   "execution_count": 157,
   "id": "ca143d22",
   "metadata": {},
   "outputs": [],
   "source": [
    "# classifier again\n",
    "clf = Pipeline([('countvectorizer', CountVectorizer(tokenizer=lambda x: x.split(','))),\n",
    "                ('ft', FunctionTransformer(lambda x: x.toarray(), accept_sparse=True)), \n",
    "                ('nca', NCA()),\n",
    "                ('rf', RandomForestClassifier(n_jobs = 6))])"
   ]
  },
  {
   "cell_type": "code",
   "execution_count": 158,
   "id": "c96bd2f3",
   "metadata": {},
   "outputs": [],
   "source": [
    "# Parameters of pipelines can be set using ‘__’ separated parameter names:\n",
    "param_grid = {\n",
    "    'countvectorizer__min_df': [1,2,3],\n",
    "    'rf__n_estimators': [100,200,400], \n",
    "    'rf__max_features': [\"auto\", \"log2\"]\n",
    "}"
   ]
  },
  {
   "cell_type": "code",
   "execution_count": 159,
   "id": "a8397854",
   "metadata": {},
   "outputs": [
    {
     "name": "stdout",
     "output_type": "stream",
     "text": [
      "Fitting 5 folds for each of 18 candidates, totalling 90 fits\n"
     ]
    },
    {
     "name": "stderr",
     "output_type": "stream",
     "text": [
      "C:\\Users\\vedpi\\anaconda3\\envs\\newone\\lib\\site-packages\\sklearn\\model_selection\\_split.py:676: UserWarning: The least populated class in y has only 1 members, which is less than n_splits=5.\n",
      "  warnings.warn(\n"
     ]
    },
    {
     "data": {
      "text/plain": [
       "GridSearchCV(cv=5,\n",
       "             estimator=Pipeline(steps=[('countvectorizer',\n",
       "                                        CountVectorizer(tokenizer=<function <lambda> at 0x00000228B1343310>)),\n",
       "                                       ('ft',\n",
       "                                        FunctionTransformer(accept_sparse=True,\n",
       "                                                            func=<function <lambda> at 0x00000228B14BD790>)),\n",
       "                                       ('nca', NCA()),\n",
       "                                       ('rf',\n",
       "                                        RandomForestClassifier(n_jobs=6))]),\n",
       "             n_jobs=6,\n",
       "             param_grid={'countvectorizer__min_df': [1, 2, 3],\n",
       "                         'rf__max_features': ['auto', 'log2'],\n",
       "                         'rf__n_estimators': [100, 200, 400]},\n",
       "             scoring='accuracy', verbose=3)"
      ]
     },
     "execution_count": 159,
     "metadata": {},
     "output_type": "execute_result"
    }
   ],
   "source": [
    "# fit the search\n",
    "search = GridSearchCV(clf, param_grid, n_jobs=6 , verbose = 3, cv = 5, scoring = \"accuracy\")\n",
    "search.fit(not_top_k_data_train[\"sequence\"], not_top_k_data_train[\"target\"])"
   ]
  },
  {
   "cell_type": "code",
   "execution_count": 160,
   "id": "52216984",
   "metadata": {},
   "outputs": [
    {
     "data": {
      "text/plain": [
       "0.5593073593073592"
      ]
     },
     "execution_count": 160,
     "metadata": {},
     "output_type": "execute_result"
    }
   ],
   "source": [
    "# mean average accuracy\n",
    "search.best_score_"
   ]
  },
  {
   "cell_type": "code",
   "execution_count": 161,
   "id": "88738bf6",
   "metadata": {},
   "outputs": [
    {
     "data": {
      "text/plain": [
       "0.06971713294960137"
      ]
     },
     "execution_count": 161,
     "metadata": {},
     "output_type": "execute_result"
    }
   ],
   "source": [
    "# standard error\n",
    "search.cv_results_['std_test_score'][np.argmax(search.cv_results_['mean_test_score'])]"
   ]
  },
  {
   "cell_type": "code",
   "execution_count": 162,
   "id": "7aea4345",
   "metadata": {},
   "outputs": [
    {
     "data": {
      "text/plain": [
       "{'countvectorizer__min_df': 3,\n",
       " 'rf__max_features': 'log2',\n",
       " 'rf__n_estimators': 100}"
      ]
     },
     "execution_count": 162,
     "metadata": {},
     "output_type": "execute_result"
    }
   ],
   "source": [
    "# best parameters\n",
    "search.best_params_"
   ]
  },
  {
   "cell_type": "code",
   "execution_count": 163,
   "id": "a46b530d",
   "metadata": {},
   "outputs": [],
   "source": [
    "# get the best estimator\n",
    "best_estimator = search.best_estimator_"
   ]
  },
  {
   "cell_type": "code",
   "execution_count": 164,
   "id": "e5532805",
   "metadata": {},
   "outputs": [
    {
     "data": {
      "text/plain": [
       "Pipeline(steps=[('countvectorizer',\n",
       "                 CountVectorizer(min_df=3,\n",
       "                                 tokenizer=<function <lambda> at 0x00000228B1343310>)),\n",
       "                ('ft',\n",
       "                 FunctionTransformer(accept_sparse=True,\n",
       "                                     func=<function <lambda> at 0x00000228B14BD790>)),\n",
       "                ('nca', NCA()),\n",
       "                ('rf', RandomForestClassifier(max_features='log2', n_jobs=6))])"
      ]
     },
     "execution_count": 164,
     "metadata": {},
     "output_type": "execute_result"
    }
   ],
   "source": [
    "# fit again\n",
    "best_estimator.fit(not_top_k_data_train[\"sequence\"], not_top_k_data_train[\"target\"])"
   ]
  },
  {
   "cell_type": "code",
   "execution_count": 165,
   "id": "58912797",
   "metadata": {},
   "outputs": [],
   "source": [
    "# predicitions on test\n",
    "y_test_pred = best_estimator.predict(not_top_k_data_test[\"sequence\"])"
   ]
  },
  {
   "cell_type": "code",
   "execution_count": 166,
   "id": "c8335274",
   "metadata": {},
   "outputs": [],
   "source": [
    "# get the array of confusion matrix\n",
    "cm = confusion_matrix(not_top_k_data_test[\"target\"], y_test_pred)"
   ]
  },
  {
   "cell_type": "code",
   "execution_count": 168,
   "id": "1324a751",
   "metadata": {},
   "outputs": [
    {
     "data": {
      "text/plain": [
       "['alpha-glucan', 'cellooligosaccharide', 'xanthan']"
      ]
     },
     "execution_count": 168,
     "metadata": {},
     "output_type": "execute_result"
    }
   ],
   "source": [
    "# which is the missing class\n",
    "missing_classes = [classes for classes in best_estimator.classes_ if classes not in np.unique(not_top_k_data_test[\"target\"])]\n",
    "\n",
    "missing_classes"
   ]
  },
  {
   "cell_type": "code",
   "execution_count": 169,
   "id": "5151b3ee",
   "metadata": {},
   "outputs": [
    {
     "ename": "ValueError",
     "evalue": "Shape of passed values is (14, 14), indices imply (12, 12)",
     "output_type": "error",
     "traceback": [
      "\u001b[1;31m---------------------------------------------------------------------------\u001b[0m",
      "\u001b[1;31mValueError\u001b[0m                                Traceback (most recent call last)",
      "\u001b[1;32m~\\AppData\\Local\\Temp/ipykernel_8280/2307900344.py\u001b[0m in \u001b[0;36m<module>\u001b[1;34m\u001b[0m\n\u001b[0;32m      1\u001b[0m \u001b[1;31m# dataframe for confusion matrix\u001b[0m\u001b[1;33m\u001b[0m\u001b[1;33m\u001b[0m\u001b[0m\n\u001b[1;32m----> 2\u001b[1;33m df_cm = pd.DataFrame(cm, index = [i for i in best_estimator.classes_ if i not in missing_classes],\n\u001b[0m\u001b[0;32m      3\u001b[0m                   columns = [i for i in best_estimator.classes_ if i not in missing_classes])\n",
      "\u001b[1;32m~\\anaconda3\\envs\\newone\\lib\\site-packages\\pandas\\core\\frame.py\u001b[0m in \u001b[0;36m__init__\u001b[1;34m(self, data, index, columns, dtype, copy)\u001b[0m\n\u001b[0;32m    670\u001b[0m                 )\n\u001b[0;32m    671\u001b[0m             \u001b[1;32melse\u001b[0m\u001b[1;33m:\u001b[0m\u001b[1;33m\u001b[0m\u001b[1;33m\u001b[0m\u001b[0m\n\u001b[1;32m--> 672\u001b[1;33m                 mgr = ndarray_to_mgr(\n\u001b[0m\u001b[0;32m    673\u001b[0m                     \u001b[0mdata\u001b[0m\u001b[1;33m,\u001b[0m\u001b[1;33m\u001b[0m\u001b[1;33m\u001b[0m\u001b[0m\n\u001b[0;32m    674\u001b[0m                     \u001b[0mindex\u001b[0m\u001b[1;33m,\u001b[0m\u001b[1;33m\u001b[0m\u001b[1;33m\u001b[0m\u001b[0m\n",
      "\u001b[1;32m~\\anaconda3\\envs\\newone\\lib\\site-packages\\pandas\\core\\internals\\construction.py\u001b[0m in \u001b[0;36mndarray_to_mgr\u001b[1;34m(values, index, columns, dtype, copy, typ)\u001b[0m\n\u001b[0;32m    322\u001b[0m     )\n\u001b[0;32m    323\u001b[0m \u001b[1;33m\u001b[0m\u001b[0m\n\u001b[1;32m--> 324\u001b[1;33m     \u001b[0m_check_values_indices_shape_match\u001b[0m\u001b[1;33m(\u001b[0m\u001b[0mvalues\u001b[0m\u001b[1;33m,\u001b[0m \u001b[0mindex\u001b[0m\u001b[1;33m,\u001b[0m \u001b[0mcolumns\u001b[0m\u001b[1;33m)\u001b[0m\u001b[1;33m\u001b[0m\u001b[1;33m\u001b[0m\u001b[0m\n\u001b[0m\u001b[0;32m    325\u001b[0m \u001b[1;33m\u001b[0m\u001b[0m\n\u001b[0;32m    326\u001b[0m     \u001b[1;32mif\u001b[0m \u001b[0mtyp\u001b[0m \u001b[1;33m==\u001b[0m \u001b[1;34m\"array\"\u001b[0m\u001b[1;33m:\u001b[0m\u001b[1;33m\u001b[0m\u001b[1;33m\u001b[0m\u001b[0m\n",
      "\u001b[1;32m~\\anaconda3\\envs\\newone\\lib\\site-packages\\pandas\\core\\internals\\construction.py\u001b[0m in \u001b[0;36m_check_values_indices_shape_match\u001b[1;34m(values, index, columns)\u001b[0m\n\u001b[0;32m    391\u001b[0m         \u001b[0mpassed\u001b[0m \u001b[1;33m=\u001b[0m \u001b[0mvalues\u001b[0m\u001b[1;33m.\u001b[0m\u001b[0mshape\u001b[0m\u001b[1;33m\u001b[0m\u001b[1;33m\u001b[0m\u001b[0m\n\u001b[0;32m    392\u001b[0m         \u001b[0mimplied\u001b[0m \u001b[1;33m=\u001b[0m \u001b[1;33m(\u001b[0m\u001b[0mlen\u001b[0m\u001b[1;33m(\u001b[0m\u001b[0mindex\u001b[0m\u001b[1;33m)\u001b[0m\u001b[1;33m,\u001b[0m \u001b[0mlen\u001b[0m\u001b[1;33m(\u001b[0m\u001b[0mcolumns\u001b[0m\u001b[1;33m)\u001b[0m\u001b[1;33m)\u001b[0m\u001b[1;33m\u001b[0m\u001b[1;33m\u001b[0m\u001b[0m\n\u001b[1;32m--> 393\u001b[1;33m         \u001b[1;32mraise\u001b[0m \u001b[0mValueError\u001b[0m\u001b[1;33m(\u001b[0m\u001b[1;34mf\"Shape of passed values is {passed}, indices imply {implied}\"\u001b[0m\u001b[1;33m)\u001b[0m\u001b[1;33m\u001b[0m\u001b[1;33m\u001b[0m\u001b[0m\n\u001b[0m\u001b[0;32m    394\u001b[0m \u001b[1;33m\u001b[0m\u001b[0m\n\u001b[0;32m    395\u001b[0m \u001b[1;33m\u001b[0m\u001b[0m\n",
      "\u001b[1;31mValueError\u001b[0m: Shape of passed values is (14, 14), indices imply (12, 12)"
     ]
    }
   ],
   "source": [
    "# dataframe for confusion matrix\n",
    "df_cm = pd.DataFrame(cm, index = [i for i in best_estimator.classes_ if i not in missing_classes],\n",
    "                  columns = [i for i in best_estimator.classes_ if i not in missing_classes])"
   ]
  },
  {
   "cell_type": "code",
   "execution_count": null,
   "id": "a4b92588",
   "metadata": {},
   "outputs": [],
   "source": [
    "# make the plot\n",
    "plt.figure(figsize = (10, 8))\n",
    "sns.heatmap(df_cm, annot = True)\n",
    "plt.title(\"confusion matrix for the test set\", fontsize = 20)\n",
    "plt.xlabel(\"Predicted Label\", fontsize = 20)\n",
    "plt.ylabel(\"True Label\", fontsize = 20)\n",
    "plt.show()\n"
   ]
  },
  {
   "cell_type": "code",
   "execution_count": null,
   "id": "16905cc6",
   "metadata": {},
   "outputs": [],
   "source": [
    "## get the accuracy"
   ]
  },
  {
   "cell_type": "code",
   "execution_count": null,
   "id": "118337cf",
   "metadata": {},
   "outputs": [],
   "source": [
    "accuracy_score(not_top_k_data_test[\"target\"], y_test_pred)"
   ]
  },
  {
   "cell_type": "markdown",
   "id": "eab9bec3",
   "metadata": {},
   "source": [
    "### Maybe another random forest for the unknowns?"
   ]
  },
  {
   "cell_type": "code",
   "execution_count": null,
   "id": "13391e4a",
   "metadata": {},
   "outputs": [],
   "source": [
    "clf = Pipeline([('countvectorizer',CountVectorizer(tokenizer=lambda x: x.split(','))),\n",
    "                ('rf',RandomForestClassifier(n_jobs = 6))])\n",
    "# Parameters of pipelines can be set using ‘__’ separated parameter names:\n",
    "param_grid = {\n",
    "    'countvectorizer__min_df': [1,2],\n",
    "    'rf__n_estimators': [100,200,400], \n",
    "    'rf__max_features': [\"auto\", \"log2\"]\n",
    "}\n",
    "# fit the search\n",
    "search = GridSearchCV(clf, param_grid, n_jobs=7 , verbose = 3, cv = 5, scoring = \"accuracy\")\n",
    "# fir the grid search\n",
    "search.fit(not_top_k_data_train[\"sequence\"], not_top_k_data_train[\"target\"])"
   ]
  },
  {
   "cell_type": "code",
   "execution_count": null,
   "id": "b7c1e226",
   "metadata": {},
   "outputs": [],
   "source": [
    "# mean average accuracy\n",
    "search.best_score_"
   ]
  },
  {
   "cell_type": "code",
   "execution_count": null,
   "id": "f6e5264d",
   "metadata": {},
   "outputs": [],
   "source": [
    "# standard error\n",
    "search.cv_results_['std_test_score'][np.argmax(search.cv_results_['mean_test_score'])]"
   ]
  },
  {
   "cell_type": "code",
   "execution_count": null,
   "id": "bf8e78cc",
   "metadata": {},
   "outputs": [],
   "source": [
    "# best parameters\n",
    "search.best_params_"
   ]
  },
  {
   "cell_type": "code",
   "execution_count": null,
   "id": "5cd67aa6",
   "metadata": {},
   "outputs": [],
   "source": [
    "# get the best estimator\n",
    "best_estimator = search.best_estimator_"
   ]
  },
  {
   "cell_type": "code",
   "execution_count": null,
   "id": "25ee12bc",
   "metadata": {},
   "outputs": [],
   "source": [
    "# fit again\n",
    "best_estimator.fit(not_top_k_data_train[\"sequence\"], not_top_k_data_train[\"target\"])"
   ]
  },
  {
   "cell_type": "code",
   "execution_count": null,
   "id": "22a7c3b7",
   "metadata": {},
   "outputs": [],
   "source": [
    "# predicitions on test\n",
    "y_test_pred = best_estimator.predict(not_top_k_data_test[\"sequence\"])"
   ]
  },
  {
   "cell_type": "code",
   "execution_count": null,
   "id": "7d74c914",
   "metadata": {},
   "outputs": [],
   "source": [
    "# get the array of confusion matrix\n",
    "cm = confusion_matrix(not_top_k_data_test[\"target\"], y_test_pred)"
   ]
  },
  {
   "cell_type": "code",
   "execution_count": null,
   "id": "91d90e1d",
   "metadata": {},
   "outputs": [],
   "source": [
    "# in train there was one more class than the test\n",
    "best_estimator.classes_"
   ]
  },
  {
   "cell_type": "code",
   "execution_count": null,
   "id": "e8e0c7db",
   "metadata": {},
   "outputs": [],
   "source": [
    "# which is the missing class\n",
    "missing_classes = [classes for classes in best_estimator.classes_ if classes not in np.unique(not_top_k_data_test[\"target\"])]"
   ]
  },
  {
   "cell_type": "code",
   "execution_count": null,
   "id": "3cc3fb17",
   "metadata": {},
   "outputs": [],
   "source": [
    "missing_classes"
   ]
  },
  {
   "cell_type": "code",
   "execution_count": null,
   "id": "1bb70be0",
   "metadata": {},
   "outputs": [],
   "source": [
    "# dataframe for confusion matrix\n",
    "df_cm = pd.DataFrame(cm, index = [i for i in best_estimator.classes_ if i not in missing_classes],\n",
    "                  columns = [i for i in best_estimator.classes_ if i not in missing_classes] )"
   ]
  },
  {
   "cell_type": "code",
   "execution_count": null,
   "id": "ae6dd9eb",
   "metadata": {},
   "outputs": [],
   "source": [
    "# make the plot\n",
    "plt.figure(figsize = (10, 8))\n",
    "sns.heatmap(df_cm, annot = True)\n",
    "plt.title(\"confusion matrix for the test set\", fontsize = 20)\n",
    "plt.xlabel(\"Predicted Label\", fontsize = 20)\n",
    "plt.ylabel(\"True Label\", fontsize = 20)\n",
    "plt.show()\n"
   ]
  },
  {
   "cell_type": "code",
   "execution_count": null,
   "id": "f92719bd",
   "metadata": {},
   "outputs": [],
   "source": [
    "## get the accuracy"
   ]
  },
  {
   "cell_type": "code",
   "execution_count": null,
   "id": "ff1d15b3",
   "metadata": {},
   "outputs": [],
   "source": [
    "accuracy_score(not_top_k_data_test[\"target\"], y_test_pred)"
   ]
  },
  {
   "cell_type": "markdown",
   "id": "8696c38e",
   "metadata": {},
   "source": [
    "### Metric Learning and MDS"
   ]
  },
  {
   "cell_type": "code",
   "execution_count": null,
   "id": "3245387c",
   "metadata": {},
   "outputs": [],
   "source": []
  }
 ],
 "metadata": {
  "kernelspec": {
   "display_name": "newone",
   "language": "python",
   "name": "newone"
  },
  "language_info": {
   "codemirror_mode": {
    "name": "ipython",
    "version": 3
   },
   "file_extension": ".py",
   "mimetype": "text/x-python",
   "name": "python",
   "nbconvert_exporter": "python",
   "pygments_lexer": "ipython3",
   "version": "3.9.7"
  }
 },
 "nbformat": 4,
 "nbformat_minor": 5
}
