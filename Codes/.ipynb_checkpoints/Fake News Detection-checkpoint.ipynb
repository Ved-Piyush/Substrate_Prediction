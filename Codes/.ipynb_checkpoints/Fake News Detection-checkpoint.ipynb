{
 "cells": [
  {
   "cell_type": "code",
   "execution_count": 337,
   "id": "d4f63d37",
   "metadata": {},
   "outputs": [],
   "source": [
    "import tensorflow as tf"
   ]
  },
  {
   "cell_type": "code",
   "execution_count": 338,
   "id": "e28fccf7",
   "metadata": {},
   "outputs": [],
   "source": [
    "import pandas as pd"
   ]
  },
  {
   "cell_type": "code",
   "execution_count": 339,
   "id": "fc8a79b9",
   "metadata": {},
   "outputs": [],
   "source": [
    "# read all the data in"
   ]
  },
  {
   "cell_type": "code",
   "execution_count": 340,
   "id": "104a9930",
   "metadata": {},
   "outputs": [],
   "source": [
    "# read the train\n",
    "train = pd.read_csv(r\"D:\\Fake News\\fake news detection(FakeNewsNet)\\fnn_train.csv\")"
   ]
  },
  {
   "cell_type": "code",
   "execution_count": 341,
   "id": "7df55a8f",
   "metadata": {},
   "outputs": [],
   "source": [
    "# validation\n",
    "validation = pd.read_csv(r\"D:\\Fake News\\fake news detection(FakeNewsNet)\\fnn_dev.csv\")"
   ]
  },
  {
   "cell_type": "code",
   "execution_count": 342,
   "id": "53e44486",
   "metadata": {},
   "outputs": [],
   "source": [
    "# test\n",
    "test = pd.read_csv(r\"D:\\Fake News\\fake news detection(FakeNewsNet)\\fnn_test.csv\")"
   ]
  },
  {
   "cell_type": "code",
   "execution_count": 343,
   "id": "b02a2369",
   "metadata": {},
   "outputs": [],
   "source": [
    "# have an input layer\n",
    "input_layer = tf.keras.layers.Input(shape = (), dtype = tf.string)"
   ]
  },
  {
   "cell_type": "code",
   "execution_count": 344,
   "id": "109d4138",
   "metadata": {},
   "outputs": [],
   "source": [
    "max_tokens = 1000"
   ]
  },
  {
   "cell_type": "code",
   "execution_count": 345,
   "id": "96593b0b",
   "metadata": {},
   "outputs": [],
   "source": [
    "# pass this to a vectorization layer\n",
    "# but first make a vectorization layer\n",
    "text_vec_layer = tf.keras.layers.TextVectorization(max_tokens = max_tokens, output_mode = \"int\",\n",
    "                                                  output_sequence_length=100)"
   ]
  },
  {
   "cell_type": "code",
   "execution_count": 346,
   "id": "d2cf31bc",
   "metadata": {},
   "outputs": [],
   "source": [
    "text_vec_layer.adapt(train[\"fullText_based_content\"], batch_size = 1000)"
   ]
  },
  {
   "cell_type": "code",
   "execution_count": 347,
   "id": "dc3794e4",
   "metadata": {},
   "outputs": [],
   "source": [
    "# pass the input through this text vectorization layer\n",
    "vectorized_text = text_vec_layer(input_layer)"
   ]
  },
  {
   "cell_type": "code",
   "execution_count": 348,
   "id": "cfda0588",
   "metadata": {},
   "outputs": [],
   "source": [
    "# instantiate an embedding layer\n",
    "emb_layer = tf.keras.layers.Embedding(max_tokens, 100, mask_zero = True)"
   ]
  },
  {
   "cell_type": "code",
   "execution_count": 349,
   "id": "07e01f28",
   "metadata": {},
   "outputs": [],
   "source": [
    "# pass the vectorized text through the embedding layer\n",
    "emb_output = emb_layer(vectorized_text)"
   ]
  },
  {
   "cell_type": "code",
   "execution_count": 350,
   "id": "b8b23777",
   "metadata": {},
   "outputs": [],
   "source": [
    "# some spatial dropout?\n",
    "# spatial_dropout = tf.keras.layers.SpatialDropout1D(0.5)"
   ]
  },
  {
   "cell_type": "code",
   "execution_count": 351,
   "id": "c5c0550e",
   "metadata": {},
   "outputs": [],
   "source": [
    "# spatial dropout output\n",
    "# spatial_dropout_output = spatial_dropout(emb_output)"
   ]
  },
  {
   "cell_type": "code",
   "execution_count": 352,
   "id": "62f42718",
   "metadata": {},
   "outputs": [],
   "source": [
    "# instantiate a recurrent layer\n",
    "gru_layer = tf.keras.layers.LSTM(50, dropout = 0.5)"
   ]
  },
  {
   "cell_type": "code",
   "execution_count": 353,
   "id": "cca35b48",
   "metadata": {},
   "outputs": [],
   "source": [
    "# pass the emb output through the gru\n",
    "gru_output = gru_layer(emb_output)"
   ]
  },
  {
   "cell_type": "code",
   "execution_count": 354,
   "id": "3c301f05",
   "metadata": {},
   "outputs": [],
   "source": [
    "# dropout layer\n",
    "dropout_layer = tf.keras.layers.Dropout(0.5)"
   ]
  },
  {
   "cell_type": "code",
   "execution_count": 355,
   "id": "12f44482",
   "metadata": {},
   "outputs": [],
   "source": [
    "# dropout output\n",
    "dropout_output = dropout_layer(gru_output)"
   ]
  },
  {
   "cell_type": "code",
   "execution_count": 356,
   "id": "cc95ab09",
   "metadata": {},
   "outputs": [],
   "source": [
    "# classification layer\n",
    "classification_layer = tf.keras.layers.Dense(1)"
   ]
  },
  {
   "cell_type": "code",
   "execution_count": 357,
   "id": "d466a799",
   "metadata": {},
   "outputs": [],
   "source": [
    "# class output\n",
    "class_output = classification_layer(gru_output)"
   ]
  },
  {
   "cell_type": "code",
   "execution_count": 358,
   "id": "923093fe",
   "metadata": {},
   "outputs": [],
   "source": [
    "# make the model\n",
    "model = tf.keras.models.Model(input_layer, class_output)"
   ]
  },
  {
   "cell_type": "code",
   "execution_count": 359,
   "id": "a3641a5b",
   "metadata": {},
   "outputs": [
    {
     "name": "stdout",
     "output_type": "stream",
     "text": [
      "Model: \"model_10\"\n",
      "_________________________________________________________________\n",
      "Layer (type)                 Output Shape              Param #   \n",
      "=================================================================\n",
      "input_11 (InputLayer)        [(None,)]                 0         \n",
      "_________________________________________________________________\n",
      "text_vectorization_10 (TextV (None, 50)                0         \n",
      "_________________________________________________________________\n",
      "embedding_10 (Embedding)     (None, 50, 32)            32000     \n",
      "_________________________________________________________________\n",
      "lstm_11 (LSTM)               (None, 16)                3136      \n",
      "_________________________________________________________________\n",
      "dense_10 (Dense)             (None, 1)                 17        \n",
      "=================================================================\n",
      "Total params: 35,153\n",
      "Trainable params: 35,153\n",
      "Non-trainable params: 0\n",
      "_________________________________________________________________\n"
     ]
    }
   ],
   "source": [
    "model.summary()"
   ]
  },
  {
   "cell_type": "code",
   "execution_count": 360,
   "id": "4a2283d6",
   "metadata": {},
   "outputs": [],
   "source": [
    "model.compile(loss = tf.keras.losses.BinaryCrossentropy(from_logits=True), \n",
    "             optimizer = tf.keras.optimizers.Adam(learning_rate = 1e-4), \n",
    "             metrics=tf.keras.metrics.BinaryAccuracy())"
   ]
  },
  {
   "cell_type": "code",
   "execution_count": 361,
   "id": "a94a15ba",
   "metadata": {},
   "outputs": [],
   "source": [
    "from sklearn.preprocessing import LabelEncoder"
   ]
  },
  {
   "cell_type": "code",
   "execution_count": 362,
   "id": "56268b9b",
   "metadata": {},
   "outputs": [],
   "source": [
    "le = LabelEncoder()"
   ]
  },
  {
   "cell_type": "code",
   "execution_count": 363,
   "id": "24f9cdf2",
   "metadata": {},
   "outputs": [],
   "source": [
    "targets_train = le.fit_transform(train[\"label_fnn\"])"
   ]
  },
  {
   "cell_type": "code",
   "execution_count": 364,
   "id": "83ad58c1",
   "metadata": {},
   "outputs": [],
   "source": [
    "targets_valid = le.transform(validation[\"label_fnn\"])"
   ]
  },
  {
   "cell_type": "code",
   "execution_count": 365,
   "id": "2bdb7c13",
   "metadata": {},
   "outputs": [],
   "source": [
    "train_validation_combined = pd.concat([train[\"fullText_based_content\"], validation[\"fullText_based_content\"]], \n",
    "                                     ignore_index = True)"
   ]
  },
  {
   "cell_type": "code",
   "execution_count": 366,
   "id": "73992bff",
   "metadata": {},
   "outputs": [],
   "source": [
    "train_valid_target = pd.concat([pd.DataFrame(targets_train), pd.DataFrame(targets_valid)], ignore_index = True)"
   ]
  },
  {
   "cell_type": "code",
   "execution_count": 367,
   "id": "9b3cf127",
   "metadata": {},
   "outputs": [],
   "source": [
    "train_valid_target.columns = [\"fnn_label\"]"
   ]
  },
  {
   "cell_type": "code",
   "execution_count": 368,
   "id": "dd613be1",
   "metadata": {},
   "outputs": [],
   "source": [
    "targets_test = le.transform(test[\"label_fnn\"])"
   ]
  },
  {
   "cell_type": "code",
   "execution_count": 369,
   "id": "9a8f35a9",
   "metadata": {},
   "outputs": [],
   "source": [
    "import numpy as np"
   ]
  },
  {
   "cell_type": "code",
   "execution_count": 370,
   "id": "86c4e649",
   "metadata": {
    "scrolled": false
   },
   "outputs": [
    {
     "name": "stdout",
     "output_type": "stream",
     "text": [
      "Epoch 1/200\n",
      "115/115 [==============================] - 12s 78ms/step - loss: 0.6870 - binary_accuracy: 0.5009 - val_loss: 0.6515 - val_binary_accuracy: 0.5034\n",
      "Epoch 2/200\n",
      "115/115 [==============================] - 8s 71ms/step - loss: 0.6553 - binary_accuracy: 0.5222 - val_loss: 0.6442 - val_binary_accuracy: 0.5415\n",
      "Epoch 3/200\n",
      "115/115 [==============================] - 8s 71ms/step - loss: 0.6393 - binary_accuracy: 0.5679 - val_loss: 0.6417 - val_binary_accuracy: 0.5962\n",
      "Epoch 4/200\n",
      "115/115 [==============================] - 8s 71ms/step - loss: 0.6319 - binary_accuracy: 0.5932 - val_loss: 0.6415 - val_binary_accuracy: 0.5655\n",
      "Epoch 5/200\n",
      "115/115 [==============================] - 8s 70ms/step - loss: 0.6247 - binary_accuracy: 0.5965 - val_loss: 0.6445 - val_binary_accuracy: 0.5894\n",
      "Epoch 6/200\n",
      "115/115 [==============================] - 8s 72ms/step - loss: 0.6211 - binary_accuracy: 0.6071 - val_loss: 0.6461 - val_binary_accuracy: 0.5907\n",
      "Epoch 7/200\n",
      "115/115 [==============================] - 8s 70ms/step - loss: 0.6135 - binary_accuracy: 0.6145 - val_loss: 0.6489 - val_binary_accuracy: 0.5771\n",
      "Epoch 8/200\n",
      "115/115 [==============================] - 8s 72ms/step - loss: 0.6091 - binary_accuracy: 0.6199 - val_loss: 0.6524 - val_binary_accuracy: 0.5845\n",
      "Epoch 9/200\n",
      "115/115 [==============================] - 8s 71ms/step - loss: 0.6023 - binary_accuracy: 0.6346 - val_loss: 0.6567 - val_binary_accuracy: 0.5765\n",
      "Epoch 10/200\n",
      "115/115 [==============================] - 8s 71ms/step - loss: 0.5999 - binary_accuracy: 0.6379 - val_loss: 0.6567 - val_binary_accuracy: 0.5685\n",
      "Epoch 11/200\n",
      "115/115 [==============================] - 8s 71ms/step - loss: 0.5919 - binary_accuracy: 0.6418 - val_loss: 0.6659 - val_binary_accuracy: 0.5704\n",
      "Epoch 12/200\n",
      "115/115 [==============================] - 8s 71ms/step - loss: 0.5919 - binary_accuracy: 0.6424 - val_loss: 0.6591 - val_binary_accuracy: 0.5864\n",
      "Epoch 13/200\n",
      "115/115 [==============================] - 8s 71ms/step - loss: 0.5832 - binary_accuracy: 0.6538 - val_loss: 0.6801 - val_binary_accuracy: 0.5796\n"
     ]
    },
    {
     "data": {
      "text/plain": [
       "<keras.callbacks.History at 0x177918e0730>"
      ]
     },
     "execution_count": 370,
     "metadata": {},
     "output_type": "execute_result"
    }
   ],
   "source": [
    "# fit the model\n",
    "model.fit(train_validation_combined.values, np.array(train_valid_target[\"fnn_label\"]), verbose = 1, batch_size = 128, \n",
    "         validation_split = 0.1, \n",
    "         epochs = 200, callbacks = tf.keras.callbacks.EarlyStopping(monitor = \"val_binary_accuracy\", \n",
    "                                                                   patience = 10, mode = \"max\",\n",
    "                                                                    restore_best_weights = True))"
   ]
  },
  {
   "cell_type": "code",
   "execution_count": 371,
   "id": "b455b77c",
   "metadata": {},
   "outputs": [],
   "source": [
    "from collections import Counter"
   ]
  },
  {
   "cell_type": "code",
   "execution_count": 372,
   "id": "913480a4",
   "metadata": {},
   "outputs": [
    {
     "data": {
      "text/plain": [
       "Counter({1: 636, 0: 418})"
      ]
     },
     "execution_count": 372,
     "metadata": {},
     "output_type": "execute_result"
    }
   ],
   "source": [
    "Counter(targets_test)"
   ]
  },
  {
   "cell_type": "code",
   "execution_count": 373,
   "id": "9a8da132",
   "metadata": {},
   "outputs": [
    {
     "data": {
      "text/plain": [
       "0.603415559772296"
      ]
     },
     "execution_count": 373,
     "metadata": {},
     "output_type": "execute_result"
    }
   ],
   "source": [
    "636/(636 + 418)"
   ]
  },
  {
   "cell_type": "code",
   "execution_count": 374,
   "id": "a371cc9d",
   "metadata": {},
   "outputs": [
    {
     "name": "stdout",
     "output_type": "stream",
     "text": [
      "33/33 [==============================] - 1s 20ms/step - loss: 0.5061 - binary_accuracy: 0.5731\n"
     ]
    },
    {
     "data": {
      "text/plain": [
       "[0.5060544013977051, 0.5730550289154053]"
      ]
     },
     "execution_count": 374,
     "metadata": {},
     "output_type": "execute_result"
    }
   ],
   "source": [
    "model.evaluate(test[\"fullText_based_content\"].values, targets_test)"
   ]
  }
 ],
 "metadata": {
  "kernelspec": {
   "display_name": "newone",
   "language": "python",
   "name": "newone"
  },
  "language_info": {
   "codemirror_mode": {
    "name": "ipython",
    "version": 3
   },
   "file_extension": ".py",
   "mimetype": "text/x-python",
   "name": "python",
   "nbconvert_exporter": "python",
   "pygments_lexer": "ipython3",
   "version": "3.9.7"
  }
 },
 "nbformat": 4,
 "nbformat_minor": 5
}
