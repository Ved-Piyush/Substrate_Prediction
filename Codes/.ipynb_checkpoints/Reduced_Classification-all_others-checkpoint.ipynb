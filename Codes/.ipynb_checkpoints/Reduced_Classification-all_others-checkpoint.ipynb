{
 "cells": [
  {
   "cell_type": "code",
   "execution_count": 107,
   "id": "cd58ff86",
   "metadata": {},
   "outputs": [],
   "source": [
    "# set the directory to where the data is\n",
    "import os\n",
    "\n",
    "os.chdir(r\"D:\\Gene_Project\")"
   ]
  },
  {
   "cell_type": "code",
   "execution_count": 108,
   "id": "11964368",
   "metadata": {},
   "outputs": [],
   "source": [
    "# pandas for dealing with the data\n",
    "import pandas as pd\n",
    "# setting for seeing the entire string\n",
    "pd.options.display.max_colwidth = None\n",
    "pd.set_option('display.max_rows', 500)"
   ]
  },
  {
   "cell_type": "code",
   "execution_count": 109,
   "id": "93164546",
   "metadata": {},
   "outputs": [],
   "source": [
    "# load the data - new data that was provided\n",
    "data = pd.read_csv(r\"pul_seq_low_high_substr_year_corrected.tsv\", sep = \"\\t\").dropna().sample(frac = 1.0)"
   ]
  },
  {
   "cell_type": "code",
   "execution_count": 110,
   "id": "67f6cf05",
   "metadata": {},
   "outputs": [
    {
     "data": {
      "text/html": [
       "<div>\n",
       "<style scoped>\n",
       "    .dataframe tbody tr th:only-of-type {\n",
       "        vertical-align: middle;\n",
       "    }\n",
       "\n",
       "    .dataframe tbody tr th {\n",
       "        vertical-align: top;\n",
       "    }\n",
       "\n",
       "    .dataframe thead th {\n",
       "        text-align: right;\n",
       "    }\n",
       "</style>\n",
       "<table border=\"1\" class=\"dataframe\">\n",
       "  <thead>\n",
       "    <tr style=\"text-align: right;\">\n",
       "      <th></th>\n",
       "      <th>PULid</th>\n",
       "      <th>sig_gene_seq</th>\n",
       "      <th>low_level_substr</th>\n",
       "      <th>high_level_substr</th>\n",
       "      <th>Pub_year</th>\n",
       "    </tr>\n",
       "  </thead>\n",
       "  <tbody>\n",
       "    <tr>\n",
       "      <th>370</th>\n",
       "      <td>PUL0373</td>\n",
       "      <td>LacI,GH32,4.A.1,1.B.3,PfkB</td>\n",
       "      <td>sucrose</td>\n",
       "      <td>mono/di/trisaccharide</td>\n",
       "      <td>2009</td>\n",
       "    </tr>\n",
       "    <tr>\n",
       "      <th>323</th>\n",
       "      <td>PUL0326</td>\n",
       "      <td>GH73,Peptidase_M23,9.B.154</td>\n",
       "      <td>beta-glucan</td>\n",
       "      <td>beta-glucan</td>\n",
       "      <td>2017</td>\n",
       "    </tr>\n",
       "    <tr>\n",
       "      <th>414</th>\n",
       "      <td>PUL0417</td>\n",
       "      <td>CE6,1.B.14,2.A.1,2.A.1</td>\n",
       "      <td>plant polysaccharide</td>\n",
       "      <td>plant polysaccharide</td>\n",
       "      <td>2011</td>\n",
       "    </tr>\n",
       "    <tr>\n",
       "      <th>492</th>\n",
       "      <td>PUL0495</td>\n",
       "      <td>GT2,GT2,GT94,GT2,9.B.18</td>\n",
       "      <td>capsule polysaccharide</td>\n",
       "      <td>capsule polysaccharide</td>\n",
       "      <td>2010</td>\n",
       "    </tr>\n",
       "    <tr>\n",
       "      <th>557</th>\n",
       "      <td>PUL0560</td>\n",
       "      <td>PL27,GH43_24,GH43_24,HTH_AraC,1.B.14,1.A.30,GH35</td>\n",
       "      <td>arabinogalactan</td>\n",
       "      <td>galactan</td>\n",
       "      <td>2008,2011</td>\n",
       "    </tr>\n",
       "  </tbody>\n",
       "</table>\n",
       "</div>"
      ],
      "text/plain": [
       "       PULid                                      sig_gene_seq  \\\n",
       "370  PUL0373                        LacI,GH32,4.A.1,1.B.3,PfkB   \n",
       "323  PUL0326                        GH73,Peptidase_M23,9.B.154   \n",
       "414  PUL0417                            CE6,1.B.14,2.A.1,2.A.1   \n",
       "492  PUL0495                           GT2,GT2,GT94,GT2,9.B.18   \n",
       "557  PUL0560  PL27,GH43_24,GH43_24,HTH_AraC,1.B.14,1.A.30,GH35   \n",
       "\n",
       "           low_level_substr       high_level_substr   Pub_year  \n",
       "370                 sucrose   mono/di/trisaccharide       2009  \n",
       "323             beta-glucan            beta-glucan        2017  \n",
       "414    plant polysaccharide    plant polysaccharide       2011  \n",
       "492  capsule polysaccharide  capsule polysaccharide       2010  \n",
       "557         arabinogalactan                galactan  2008,2011  "
      ]
     },
     "execution_count": 110,
     "metadata": {},
     "output_type": "execute_result"
    }
   ],
   "source": [
    "data.head()"
   ]
  },
  {
   "cell_type": "code",
   "execution_count": 111,
   "id": "6d57b4fa",
   "metadata": {},
   "outputs": [
    {
     "data": {
      "text/plain": [
       "multiple_substrates           138\n",
       "mono/di/trisaccharide          78\n",
       "capsule polysaccharide         60\n",
       "algal glycans                  40\n",
       "pectin                         38\n",
       "xylan                          38\n",
       "O-antigen                      37\n",
       "galactan                       36\n",
       "alpha-glucan                   23\n",
       "beta-mannan                    19\n",
       "cellulose                      18\n",
       "chitin                         15\n",
       "glycosaminoglycan              14\n",
       "beta-glucan                    13\n",
       "N-glycan                       12\n",
       "exopolysaccharide              10\n",
       "-                               9\n",
       "alpha-mannan                    8\n",
       "fructan                         8\n",
       "xyloglucan                      7\n",
       "host glycan                     7\n",
       "plant polysaccharide            6\n",
       "glycoprotein                    6\n",
       "human milk oligosaccharide      5\n",
       "hemicellulose                   5\n",
       "O-glycan                        3\n",
       "Name: high_level_substr, dtype: int64"
      ]
     },
     "execution_count": 111,
     "metadata": {},
     "output_type": "execute_result"
    }
   ],
   "source": [
    "# get the class distributions\n",
    "data[\"high_level_substr\"].value_counts()"
   ]
  },
  {
   "cell_type": "code",
   "execution_count": 112,
   "id": "ea035bb1",
   "metadata": {},
   "outputs": [
    {
     "data": {
      "text/plain": [
       "O-glycan,N-glycan                                                21\n",
       "carboxymethylcellulose,xylan,beta-glucan,lichenan                 6\n",
       "lactose,host glycan                                               6\n",
       "mucin,O-glycan                                                    6\n",
       "xylan,beta-glucan,lichenan                                        5\n",
       "sucrose,kestose,nystose                                           5\n",
       "xylan,arabinoxylan                                                3\n",
       "sucrose,kestose                                                   3\n",
       "capsule polysaccharide,outer core capsule polysaccharide          3\n",
       "agar,porphyran                                                    3\n",
       "arabinan,xylan,levan,pectin,rhamnogalacturonan                    3\n",
       "glucomannan,galactomannan,glucose                                 3\n",
       "xylan,xylose                                                      2\n",
       "fructan,inulin                                                    2\n",
       "alginate,ulvan                                                    2\n",
       "melibiose,galactose                                               2\n",
       "alpha-glucan,starch                                               2\n",
       "glucomannan,glucose                                               2\n",
       "sucrose,kestose,nystose,fructooligosaccharide                     2\n",
       "glucomannan,galactomannan                                         2\n",
       "arabinose,arabinan                                                2\n",
       "maltose,maltotriose                                               2\n",
       "capsule polysaccharide,heparosan                                  1\n",
       "N-glycan,mucin                                                    1\n",
       "O-antigen,unknown polysaccharide                                  1\n",
       "N-acetyl-D-galactosamine,d-galactosamine                          1\n",
       "exopolysaccharide,lipopolysaccharide,capsule polysaccharide       1\n",
       "beta-glucan,sophorose,laminaribiose                               1\n",
       "hemicellulose,pectin                                              1\n",
       "xylobiose,xylotriose                                              1\n",
       "alpha-galactoside,beta-galactoside,raffinose,melibiose            1\n",
       "levan,inulin,fructan                                              1\n",
       "cellobiose,beta-glucan,glucosamine                                1\n",
       "cellulose,xylan,xyloglucan,pectin,mannan                          1\n",
       "arabinogalactan,cellobiose                                        1\n",
       "isomaltose,panose,raffinose,stachyose,melibiose                   1\n",
       "N-acetyl-D-galactosamine,chondrotin sulfate                       1\n",
       "xylobiose,xylodextrin                                             1\n",
       "cellobiose,beta-glucan,glucomannan,laminarin                      1\n",
       "beta-glucan,xylan                                                 1\n",
       "laminarin,beta-glucan                                             1\n",
       "mucin,human milk oligosaccharide,O-glycan                         1\n",
       "xylobiose,xylooligosaccharide                                     1\n",
       "lichenan,cellobiose,beta-glucoside                                1\n",
       "fucose,galacturonic acid, rhamnose                                1\n",
       "maltose,maltodextrin                                              1\n",
       "galactomannan,glucomannan,cellobiose,xyloglucan                   1\n",
       "glycosaminoglycan,chondroitin sulfate                             1\n",
       "galactomannan,glucomannan                                         1\n",
       "chitin,chitobiose,cellobiose                                      1\n",
       "galactomannan,glucomannan,glucose,mannose                         1\n",
       "beta-glucan,galactomannan                                         1\n",
       "exopolysaccharide,lipopolysaccharide                              1\n",
       "raffinose,melibiose                                               1\n",
       "O-antigen,exopolysaccharide                                       1\n",
       "glucose,cellobiose,maltose                                        1\n",
       "arabinan,pectin                                                   1\n",
       "carrageenan,agar                                                  1\n",
       "host glycan,rhamnogalacturonan                                    1\n",
       "cellobiose,cellulose,cellooligosaccharide                         1\n",
       "laminarin,alginate                                                1\n",
       "raffinose,melibiose,isomaltotriose                                1\n",
       "fructooligosaccharide,fructan                                     1\n",
       "cellobiose,cellotriose                                            1\n",
       "starch,maltodextrin                                               1\n",
       "N-acetyl-D-glucosamine,glucosamine                                1\n",
       "unsaturated hyaluronate disaccharide,chondroitin disaccharide     1\n",
       "arabinoxylan,arabino-xylooligosaccharide                          1\n",
       "cellulose,galactomannan                                           1\n",
       "sucrose,kestose,nystose,inulin                                    1\n",
       "melibiose,raffinose-oligosaccharide,stachyose                     1\n",
       "xylan,glucomannan,plant polysaccharide                            1\n",
       "alpha-mannoside,N-glycan                                          1\n",
       "Name: low_level_substr, dtype: int64"
      ]
     },
     "execution_count": 112,
     "metadata": {},
     "output_type": "execute_result"
    }
   ],
   "source": [
    "# so basically we need to lump some from the top two\n",
    "data[data[\"high_level_substr\"] == \"multiple_substrates\"][\"low_level_substr\"].value_counts()"
   ]
  },
  {
   "cell_type": "code",
   "execution_count": 113,
   "id": "336273ab",
   "metadata": {},
   "outputs": [
    {
     "data": {
      "text/plain": [
       "cellobiose                                                 14\n",
       "sucrose                                                    12\n",
       "lactose                                                    11\n",
       "raffinose                                                   5\n",
       "beta-glucoside                                              4\n",
       "4-methylumbelliferyl 6-azido-6-deoxy-beta-D-galactoside     3\n",
       "maltose                                                     3\n",
       "melibiose                                                   3\n",
       "arabinose                                                   2\n",
       "ribose                                                      2\n",
       "trehalose                                                   2\n",
       "sialic acid                                                 2\n",
       "xylose                                                      2\n",
       "chitobiose                                                  2\n",
       "fucose                                                      2\n",
       "glucose                                                     1\n",
       "sialoglycoconjugate                                         1\n",
       "alpha-galactoside                                           1\n",
       "arabinofuranose                                             1\n",
       "melezitose                                                  1\n",
       "galactose                                                   1\n",
       "mannose                                                     1\n",
       "isomaltose                                                  1\n",
       "gentiobiose                                                 1\n",
       "Name: low_level_substr, dtype: int64"
      ]
     },
     "execution_count": 113,
     "metadata": {},
     "output_type": "execute_result"
    }
   ],
   "source": [
    "# so basically we need to lump some from the top two\n",
    "data[data[\"high_level_substr\"] == \"mono/di/trisaccharide\"][\"low_level_substr\"].value_counts()"
   ]
  },
  {
   "cell_type": "code",
   "execution_count": 114,
   "id": "0a010899",
   "metadata": {},
   "outputs": [
    {
     "data": {
      "text/plain": [
       "capsule polysaccharide    60\n",
       "Name: low_level_substr, dtype: int64"
      ]
     },
     "execution_count": 114,
     "metadata": {},
     "output_type": "execute_result"
    }
   ],
   "source": [
    "# so basically we need to lump some from the top two\n",
    "data[data[\"high_level_substr\"] == \"capsule polysaccharide\"][\"low_level_substr\"].value_counts()"
   ]
  },
  {
   "cell_type": "code",
   "execution_count": 115,
   "id": "ad1afdca",
   "metadata": {},
   "outputs": [
    {
     "data": {
      "text/plain": [
       "alginate       21\n",
       "carrageenan     8\n",
       "laminarin       5\n",
       "agar            4\n",
       "porphyran       2\n",
       "Name: low_level_substr, dtype: int64"
      ]
     },
     "execution_count": 115,
     "metadata": {},
     "output_type": "execute_result"
    }
   ],
   "source": [
    "# so basically we need to lump some from the top two\n",
    "data[data[\"high_level_substr\"] == \"algal glycans\"][\"low_level_substr\"].value_counts()"
   ]
  },
  {
   "cell_type": "code",
   "execution_count": 116,
   "id": "eea307fc",
   "metadata": {},
   "outputs": [
    {
     "data": {
      "text/plain": [
       "xylan                          25\n",
       "arabinoxylan                    6\n",
       "xylooligosaccharide             3\n",
       "methylglucuronoarabinoxylan     2\n",
       "acetylated glucuronoxylan       1\n",
       "glucuronoarabinoxylan           1\n",
       "Name: low_level_substr, dtype: int64"
      ]
     },
     "execution_count": 116,
     "metadata": {},
     "output_type": "execute_result"
    }
   ],
   "source": [
    "# so basically we need to lump some from the top two\n",
    "data[data[\"high_level_substr\"] == \"xylan\"][\"low_level_substr\"].value_counts()"
   ]
  },
  {
   "cell_type": "code",
   "execution_count": 117,
   "id": "bb78fff4",
   "metadata": {},
   "outputs": [
    {
     "data": {
      "text/plain": [
       "pectin                   28\n",
       "rhamnogalacturonan        5\n",
       "homogalacturonan          2\n",
       "polygalacturonic acid     2\n",
       "oligogalacturonide        1\n",
       "Name: low_level_substr, dtype: int64"
      ]
     },
     "execution_count": 117,
     "metadata": {},
     "output_type": "execute_result"
    }
   ],
   "source": [
    "# so basically we need to lump some from the top two\n",
    "data[data[\"high_level_substr\"] == \"pectin\"][\"low_level_substr\"].value_counts()"
   ]
  },
  {
   "cell_type": "code",
   "execution_count": 118,
   "id": "99b82ca2",
   "metadata": {},
   "outputs": [
    {
     "data": {
      "text/plain": [
       "O-antigen    37\n",
       "Name: low_level_substr, dtype: int64"
      ]
     },
     "execution_count": 118,
     "metadata": {},
     "output_type": "execute_result"
    }
   ],
   "source": [
    "# so basically we need to lump some from the top two\n",
    "data[data[\"high_level_substr\"] == \"O-antigen\"][\"low_level_substr\"].value_counts()"
   ]
  },
  {
   "cell_type": "code",
   "execution_count": 119,
   "id": "2d11a4d8",
   "metadata": {},
   "outputs": [
    {
     "data": {
      "text/plain": [
       "galactan                       10\n",
       "arabinan                       10\n",
       "galactooligosaccharide          7\n",
       "arabinogalactan                 5\n",
       "beta-galactooligosaccharide     4\n",
       "Name: low_level_substr, dtype: int64"
      ]
     },
     "execution_count": 119,
     "metadata": {},
     "output_type": "execute_result"
    }
   ],
   "source": [
    "# so basically we need to lump some from the top two\n",
    "data[data[\"high_level_substr\"] == \"galactan\"][\"low_level_substr\"].value_counts()"
   ]
  },
  {
   "cell_type": "code",
   "execution_count": 120,
   "id": "8653a22a",
   "metadata": {},
   "outputs": [
    {
     "data": {
      "text/plain": [
       "starch                  8\n",
       "alpha-glucan            3\n",
       "glycogen                3\n",
       "dextran                 2\n",
       "maltodextrin            2\n",
       "cellodextrin            1\n",
       "maltooligosaccharide    1\n",
       "pullulan                1\n",
       "maltotriose             1\n",
       "cyclomaltodextrin       1\n",
       "Name: low_level_substr, dtype: int64"
      ]
     },
     "execution_count": 120,
     "metadata": {},
     "output_type": "execute_result"
    }
   ],
   "source": [
    "# so basically we need to lump some from the top two\n",
    "data[data[\"high_level_substr\"] == \"alpha-glucan\"][\"low_level_substr\"].value_counts()"
   ]
  },
  {
   "cell_type": "code",
   "execution_count": 121,
   "id": "64ad2a56",
   "metadata": {},
   "outputs": [
    {
     "data": {
      "text/plain": [
       "beta-mannan                    8\n",
       "galactomannan                  6\n",
       "glucomannan                    3\n",
       "galactomannooligosaccharide    2\n",
       "Name: low_level_substr, dtype: int64"
      ]
     },
     "execution_count": 121,
     "metadata": {},
     "output_type": "execute_result"
    }
   ],
   "source": [
    "# so basically we need to lump some from the top two\n",
    "data[data[\"high_level_substr\"] == \"beta-mannan\"][\"low_level_substr\"].value_counts()"
   ]
  },
  {
   "cell_type": "code",
   "execution_count": 122,
   "id": "f0132a3b",
   "metadata": {},
   "outputs": [
    {
     "data": {
      "text/plain": [
       "beta-mannan                    8\n",
       "galactomannan                  6\n",
       "glucomannan                    3\n",
       "galactomannooligosaccharide    2\n",
       "Name: low_level_substr, dtype: int64"
      ]
     },
     "execution_count": 122,
     "metadata": {},
     "output_type": "execute_result"
    }
   ],
   "source": [
    "data[data[\"high_level_substr\"] == \"beta-mannan\"][\"low_level_substr\"].value_counts() "
   ]
  },
  {
   "cell_type": "code",
   "execution_count": 123,
   "id": "0805b31b",
   "metadata": {},
   "outputs": [],
   "source": [
    "# classes to keep\n",
    "to_keep_classes = data[\"high_level_substr\"].value_counts()[:10].keys().tolist()"
   ]
  },
  {
   "cell_type": "code",
   "execution_count": 124,
   "id": "bc24ebaa",
   "metadata": {},
   "outputs": [],
   "source": [
    "# loop over all these classes and keep all those \n",
    "catch = []\n",
    "for classes in to_keep_classes:\n",
    "    filtered_df = data[data[\"high_level_substr\"] == classes]\n",
    "    low_level_freq = filtered_df[\"low_level_substr\"].value_counts()\n",
    "    to_keep = [k for k, v in low_level_freq.items() if v >= 12]\n",
    "    filtered_df = filtered_df[filtered_df[\"low_level_substr\"].isin(to_keep)]\n",
    "    catch.append(filtered_df)"
   ]
  },
  {
   "cell_type": "code",
   "execution_count": 125,
   "id": "8d50804b",
   "metadata": {},
   "outputs": [],
   "source": [
    "filtered_df = pd.concat(catch)"
   ]
  },
  {
   "cell_type": "code",
   "execution_count": 126,
   "id": "b5640195",
   "metadata": {},
   "outputs": [],
   "source": [
    "other_df = data[~data.index.isin(filtered_df.index)]"
   ]
  },
  {
   "cell_type": "code",
   "execution_count": 127,
   "id": "01dc8d28",
   "metadata": {},
   "outputs": [
    {
     "data": {
      "text/plain": [
       "chitin                                                           14\n",
       "beta-glucan                                                      12\n",
       "N-glycan                                                         12\n",
       "cellulose                                                        12\n",
       "lactose                                                          11\n",
       "arabinan                                                         10\n",
       "galactan                                                         10\n",
       "exopolysaccharide                                                 9\n",
       "starch                                                            8\n",
       "alpha-mannan                                                      8\n",
       "carrageenan                                                       8\n",
       "beta-mannan                                                       8\n",
       "galactooligosaccharide                                            7\n",
       "N-acetylglucosamine                                               7\n",
       "xyloglucan                                                        7\n",
       "host glycan                                                       7\n",
       "arabinoxylan                                                      6\n",
       "plant polysaccharide                                              6\n",
       "lignocellulose                                                    6\n",
       "mucin,O-glycan                                                    6\n",
       "carboxymethylcellulose,xylan,beta-glucan,lichenan                 6\n",
       "glycosaminoglycan                                                 6\n",
       "lactose,host glycan                                               6\n",
       "galactomannan                                                     6\n",
       "mucin                                                             6\n",
       "hemicellulose                                                     5\n",
       "sucrose,kestose,nystose                                           5\n",
       "arabinogalactan                                                   5\n",
       "xylan,beta-glucan,lichenan                                        5\n",
       "raffinose                                                         5\n",
       "rhamnogalacturonan                                                5\n",
       "laminarin                                                         5\n",
       "beta-glucoside                                                    4\n",
       "beta-galactooligosaccharide                                       4\n",
       "agar                                                              4\n",
       "agar,porphyran                                                    3\n",
       "human milk oligosaccharide                                        3\n",
       "glucomannan                                                       3\n",
       "melibiose                                                         3\n",
       "O-glycan                                                          3\n",
       "arabinan,xylan,levan,pectin,rhamnogalacturonan                    3\n",
       "4-methylumbelliferyl 6-azido-6-deoxy-beta-D-galactoside           3\n",
       "xylooligosaccharide                                               3\n",
       "xylan,arabinoxylan                                                3\n",
       "fructooligosaccharide                                             3\n",
       "sucrose,kestose                                                   3\n",
       "alpha-glucan                                                      3\n",
       "glycogen                                                          3\n",
       "glucomannan,galactomannan,glucose                                 3\n",
       "capsule polysaccharide,outer core capsule polysaccharide          3\n",
       "maltose                                                           3\n",
       "xylan,xylose                                                      2\n",
       "glucan                                                            2\n",
       "chitobiose                                                        2\n",
       "sucrose,kestose,nystose,fructooligosaccharide                     2\n",
       "melibiose,galactose                                               2\n",
       "maltose,maltotriose                                               2\n",
       "porphyran                                                         2\n",
       "maltodextrin                                                      2\n",
       "alginate,ulvan                                                    2\n",
       "galactomannooligosaccharide                                       2\n",
       "alpha-glucan,starch                                               2\n",
       "polygalacturonic acid                                             2\n",
       "fucose                                                            2\n",
       "trehalose                                                         2\n",
       "glucomannan,galactomannan                                         2\n",
       "methylglucuronoarabinoxylan                                       2\n",
       "sialic acid                                                       2\n",
       "xylose                                                            2\n",
       "glucomannan,glucose                                               2\n",
       "homogalacturonan                                                  2\n",
       "ribose                                                            2\n",
       "fructan,inulin                                                    2\n",
       "dextran                                                           2\n",
       "arabinose,arabinan                                                2\n",
       "arabinose                                                         2\n",
       "laminarin,beta-glucan                                             1\n",
       "N-glycan,mucin                                                    1\n",
       "hemicellulose,pectin                                              1\n",
       "arabinofuranose                                                   1\n",
       "cellobiose,beta-glucan,glucosamine                                1\n",
       "N-acetyl-D-galactosamine,d-galactosamine                          1\n",
       "gentiobiose                                                       1\n",
       "cellobiose,beta-glucan,glucomannan,laminarin                      1\n",
       "melezitose                                                        1\n",
       "polysialic acid                                                   1\n",
       "cyclomaltodextrin                                                 1\n",
       "arabinogalactan,cellobiose                                        1\n",
       "O-antigen,unknown polysaccharide                                  1\n",
       "capsule polysaccharide,heparosan                                  1\n",
       "N-acetyl-D-galactosamine                                          1\n",
       "maltotriose                                                       1\n",
       "levan,inulin,fructan                                              1\n",
       "arabinofuranooligosaccharide                                      1\n",
       "acarbose                                                          1\n",
       "pullulan                                                          1\n",
       "beta-glucan,xylan                                                 1\n",
       "mucin,human milk oligosaccharide,O-glycan                         1\n",
       "sorbitol                                                          1\n",
       "cellodextrin                                                      1\n",
       "glucose                                                           1\n",
       "xylobiose,xylooligosaccharide                                     1\n",
       "xylobiose,xylodextrin                                             1\n",
       "sialoglycoconjugate                                               1\n",
       "isomaltose,panose,raffinose,stachyose,melibiose                   1\n",
       "lichenan,cellobiose,beta-glucoside                                1\n",
       "cellulose,xylan,xyloglucan,pectin,mannan                          1\n",
       "alpha-galactoside,beta-galactoside,raffinose,melibiose            1\n",
       "kestose                                                           1\n",
       "xylobiose,xylotriose                                              1\n",
       "aldouronate                                                       1\n",
       "maltooligosaccharide                                              1\n",
       "lichenan                                                          1\n",
       "lacto-n-triose                                                    1\n",
       "exopolysaccharide,lipopolysaccharide,capsule polysaccharide       1\n",
       "beta-glucan,sophorose,laminaribiose                               1\n",
       "fructooligosaccharide,fructan                                     1\n",
       "raffinose,melibiose,isomaltotriose                                1\n",
       "mannose                                                           1\n",
       "cellobiose,cellulose,cellooligosaccharide                         1\n",
       "isomaltose                                                        1\n",
       "mannooligosaccharide                                              1\n",
       "acetylated glucuronoxylan                                         1\n",
       "glycosaminoglycan,chondroitin sulfate                             1\n",
       "oligogalacturonide                                                1\n",
       "host glycan,rhamnogalacturonan                                    1\n",
       "carrageenan,agar                                                  1\n",
       "arabinan,pectin                                                   1\n",
       "glucose,cellobiose,maltose                                        1\n",
       "O-antigen,exopolysaccharide                                       1\n",
       "raffinose,melibiose                                               1\n",
       "exopolysaccharide,lipopolysaccharide                              1\n",
       "beta-glucan,galactomannan                                         1\n",
       "chitooligosaccharide                                              1\n",
       "galactomannan,glucomannan,glucose,mannose                         1\n",
       "chitin,chitobiose,cellobiose                                      1\n",
       "galactomannan,glucomannan                                         1\n",
       "cellobiose,cellotriose                                            1\n",
       "inulin                                                            1\n",
       "starch,maltodextrin                                               1\n",
       "melibiose,raffinose-oligosaccharide,stachyose                     1\n",
       "fucose,galacturonic acid, rhamnose                                1\n",
       "galactose                                                         1\n",
       "N-acetyl-D-galactosamine,chondrotin sulfate                       1\n",
       "galactomannan,glucomannan,cellobiose,xyloglucan                   1\n",
       "laminarin,alginate                                                1\n",
       "unknown polysaccharide                                            1\n",
       "xylan,glucomannan,plant polysaccharide                            1\n",
       "emulsan                                                           1\n",
       "fructan                                                           1\n",
       "xanthan                                                           1\n",
       "fucosyllactose                                                    1\n",
       "sucrose,kestose,nystose,inulin                                    1\n",
       "glucuronoarabinoxylan                                             1\n",
       "cellulose,galactomannan                                           1\n",
       "alpha-galactoside                                                 1\n",
       "maltose,maltodextrin                                              1\n",
       "arabinoxylan,arabino-xylooligosaccharide                          1\n",
       "levan                                                             1\n",
       "unsaturated hyaluronate disaccharide,chondroitin disaccharide     1\n",
       "N-acetyl-D-glucosamine,glucosamine                                1\n",
       "alpha-mannoside,N-glycan                                          1\n",
       "Name: low_level_substr, dtype: int64"
      ]
     },
     "execution_count": 127,
     "metadata": {},
     "output_type": "execute_result"
    }
   ],
   "source": [
    "other_df[\"low_level_substr\"].value_counts()"
   ]
  },
  {
   "cell_type": "code",
   "execution_count": 128,
   "id": "a09290f9",
   "metadata": {},
   "outputs": [
    {
     "data": {
      "text/plain": [
       "capsule polysaccharide    60\n",
       "O-antigen                 37\n",
       "pectin                    28\n",
       "xylan                     25\n",
       "O-glycan,N-glycan         21\n",
       "alginate                  21\n",
       "cellobiose                14\n",
       "sucrose                   12\n",
       "Name: low_level_substr, dtype: int64"
      ]
     },
     "execution_count": 128,
     "metadata": {},
     "output_type": "execute_result"
    }
   ],
   "source": [
    "filtered_df[\"low_level_substr\"].value_counts()"
   ]
  },
  {
   "cell_type": "code",
   "execution_count": 129,
   "id": "42f50d73",
   "metadata": {},
   "outputs": [
    {
     "data": {
      "text/plain": [
       "capsule polysaccharide    60\n",
       "O-antigen                 37\n",
       "pectin                    28\n",
       "mono/di/trisaccharide     26\n",
       "xylan                     25\n",
       "multiple_substrates       21\n",
       "algal glycans             21\n",
       "Name: high_level_substr, dtype: int64"
      ]
     },
     "execution_count": 129,
     "metadata": {},
     "output_type": "execute_result"
    }
   ],
   "source": [
    "filtered_df[\"high_level_substr\"].value_counts()"
   ]
  },
  {
   "cell_type": "code",
   "execution_count": 130,
   "id": "5222a233",
   "metadata": {},
   "outputs": [
    {
     "data": {
      "text/plain": [
       "(218, 5)"
      ]
     },
     "execution_count": 130,
     "metadata": {},
     "output_type": "execute_result"
    }
   ],
   "source": [
    "filtered_df.shape"
   ]
  },
  {
   "cell_type": "code",
   "execution_count": 131,
   "id": "7022bafb",
   "metadata": {},
   "outputs": [
    {
     "data": {
      "text/plain": [
       "(435, 5)"
      ]
     },
     "execution_count": 131,
     "metadata": {},
     "output_type": "execute_result"
    }
   ],
   "source": [
    "other_df.shape"
   ]
  },
  {
   "cell_type": "code",
   "execution_count": 132,
   "id": "095c56bc",
   "metadata": {},
   "outputs": [],
   "source": [
    "not_keep_df = other_df[~other_df[\"high_level_substr\"].isin(to_keep_classes)]"
   ]
  },
  {
   "cell_type": "code",
   "execution_count": 133,
   "id": "5dc43e98",
   "metadata": {},
   "outputs": [],
   "source": [
    "# not_keep_df = not_keep_df.sample(n = filtered_df[\"high_level_substr\"].value_counts()[0])"
   ]
  },
  {
   "cell_type": "code",
   "execution_count": 134,
   "id": "d4431a1b",
   "metadata": {},
   "outputs": [
    {
     "name": "stderr",
     "output_type": "stream",
     "text": [
      "C:\\Users\\vedpi\\AppData\\Local\\Temp/ipykernel_13356/3001469651.py:1: SettingWithCopyWarning: \n",
      "A value is trying to be set on a copy of a slice from a DataFrame.\n",
      "Try using .loc[row_indexer,col_indexer] = value instead\n",
      "\n",
      "See the caveats in the documentation: https://pandas.pydata.org/pandas-docs/stable/user_guide/indexing.html#returning-a-view-versus-a-copy\n",
      "  not_keep_df[\"high_level_substr\"] = \"others\"\n"
     ]
    }
   ],
   "source": [
    "not_keep_df[\"high_level_substr\"] = \"others\""
   ]
  },
  {
   "cell_type": "code",
   "execution_count": 135,
   "id": "5570227d",
   "metadata": {},
   "outputs": [],
   "source": [
    "combined_df = pd.concat([filtered_df[[\"sig_gene_seq\", \"high_level_substr\"]], \n",
    "           not_keep_df[[\"sig_gene_seq\", \"high_level_substr\"]]]).sample(frac = 1.0)"
   ]
  },
  {
   "cell_type": "code",
   "execution_count": 136,
   "id": "827f7547",
   "metadata": {},
   "outputs": [
    {
     "data": {
      "text/plain": [
       "(364, 2)"
      ]
     },
     "execution_count": 136,
     "metadata": {},
     "output_type": "execute_result"
    }
   ],
   "source": [
    "combined_df.shape"
   ]
  },
  {
   "cell_type": "code",
   "execution_count": 137,
   "id": "0c453811",
   "metadata": {},
   "outputs": [],
   "source": [
    "from sklearn.preprocessing import LabelEncoder"
   ]
  },
  {
   "cell_type": "code",
   "execution_count": 138,
   "id": "c9f23ec4",
   "metadata": {},
   "outputs": [],
   "source": [
    "le = LabelEncoder()"
   ]
  },
  {
   "cell_type": "code",
   "execution_count": 139,
   "id": "7678aad7",
   "metadata": {},
   "outputs": [
    {
     "data": {
      "text/plain": [
       "others                    146\n",
       "capsule polysaccharide     60\n",
       "O-antigen                  37\n",
       "pectin                     28\n",
       "mono/di/trisaccharide      26\n",
       "xylan                      25\n",
       "multiple_substrates        21\n",
       "algal glycans              21\n",
       "Name: high_level_substr, dtype: int64"
      ]
     },
     "execution_count": 139,
     "metadata": {},
     "output_type": "execute_result"
    }
   ],
   "source": [
    "combined_df[\"high_level_substr\"].value_counts()"
   ]
  },
  {
   "cell_type": "code",
   "execution_count": 140,
   "id": "2a76c64f",
   "metadata": {},
   "outputs": [],
   "source": [
    "combined_df[\"high_level_substr\"] = le.fit_transform(combined_df[\"high_level_substr\"])"
   ]
  },
  {
   "cell_type": "code",
   "execution_count": 141,
   "id": "78787dc0",
   "metadata": {},
   "outputs": [],
   "source": [
    "# rest\n",
    "removed_df = data[~data.index.isin(combined_df.index)]"
   ]
  },
  {
   "cell_type": "code",
   "execution_count": 142,
   "id": "81a8aed1",
   "metadata": {},
   "outputs": [
    {
     "data": {
      "text/plain": [
       "multiple_substrates      117\n",
       "mono/di/trisaccharide     52\n",
       "galactan                  36\n",
       "alpha-glucan              23\n",
       "beta-mannan               19\n",
       "algal glycans             19\n",
       "xylan                     13\n",
       "pectin                    10\n",
       "Name: high_level_substr, dtype: int64"
      ]
     },
     "execution_count": 142,
     "metadata": {},
     "output_type": "execute_result"
    }
   ],
   "source": [
    "removed_df[\"high_level_substr\"].value_counts()"
   ]
  },
  {
   "cell_type": "code",
   "execution_count": 143,
   "id": "c31a8919",
   "metadata": {},
   "outputs": [
    {
     "data": {
      "text/plain": [
       "(289, 5)"
      ]
     },
     "execution_count": 143,
     "metadata": {},
     "output_type": "execute_result"
    }
   ],
   "source": [
    "removed_df.shape"
   ]
  },
  {
   "cell_type": "code",
   "execution_count": 144,
   "id": "70ea9ecb",
   "metadata": {},
   "outputs": [],
   "source": [
    "from sklearn.model_selection import train_test_split"
   ]
  },
  {
   "cell_type": "code",
   "execution_count": 145,
   "id": "b17c3737",
   "metadata": {},
   "outputs": [],
   "source": [
    "X_train, X_test, y_train, y_test = train_test_split(combined_df[\"sig_gene_seq\"].values,\n",
    "                                                    combined_df[\"high_level_substr\"].values, \n",
    "                                                   test_size = 0.3, stratify = combined_df[\"high_level_substr\"].values)"
   ]
  },
  {
   "cell_type": "code",
   "execution_count": 146,
   "id": "4305a0c3",
   "metadata": {},
   "outputs": [],
   "source": [
    "from sklearn.feature_extraction.text import CountVectorizer"
   ]
  },
  {
   "cell_type": "code",
   "execution_count": 147,
   "id": "154ef0c9",
   "metadata": {},
   "outputs": [],
   "source": [
    "vectorizer = CountVectorizer(tokenizer=lambda x: str(x).replace(\"|\", \",\").split(','), lowercase = False)"
   ]
  },
  {
   "cell_type": "code",
   "execution_count": 148,
   "id": "e2d9a816",
   "metadata": {},
   "outputs": [
    {
     "name": "stderr",
     "output_type": "stream",
     "text": [
      "C:\\Users\\vedpi\\anaconda3\\envs\\newone\\lib\\site-packages\\sklearn\\feature_extraction\\text.py:516: UserWarning: The parameter 'token_pattern' will not be used since 'tokenizer' is not None'\n",
      "  warnings.warn(\n"
     ]
    },
    {
     "data": {
      "text/plain": [
       "CountVectorizer(lowercase=False,\n",
       "                tokenizer=<function <lambda> at 0x000001D67F3CBD30>)"
      ]
     },
     "execution_count": 148,
     "metadata": {},
     "output_type": "execute_result"
    }
   ],
   "source": [
    "vectorizer.fit(X_train)"
   ]
  },
  {
   "cell_type": "code",
   "execution_count": 149,
   "id": "8d42137f",
   "metadata": {},
   "outputs": [],
   "source": [
    "X_train = vectorizer.transform(X_train)"
   ]
  },
  {
   "cell_type": "code",
   "execution_count": 150,
   "id": "ad493c0b",
   "metadata": {},
   "outputs": [],
   "source": [
    "X_test = vectorizer.transform(X_test)"
   ]
  },
  {
   "cell_type": "code",
   "execution_count": 151,
   "id": "61bb3717",
   "metadata": {},
   "outputs": [],
   "source": [
    "from sklearn.ensemble import RandomForestClassifier"
   ]
  },
  {
   "cell_type": "code",
   "execution_count": 152,
   "id": "3d9bf577",
   "metadata": {},
   "outputs": [],
   "source": [
    "rf = RandomForestClassifier(n_jobs = 6)"
   ]
  },
  {
   "cell_type": "code",
   "execution_count": 153,
   "id": "3463d965",
   "metadata": {},
   "outputs": [
    {
     "data": {
      "text/plain": [
       "RandomForestClassifier(n_jobs=6)"
      ]
     },
     "execution_count": 153,
     "metadata": {},
     "output_type": "execute_result"
    }
   ],
   "source": [
    "rf.fit(X_train, y_train)"
   ]
  },
  {
   "cell_type": "code",
   "execution_count": 154,
   "id": "0a2a71ff",
   "metadata": {},
   "outputs": [],
   "source": [
    "y_test_pred = rf.predict(X_test)"
   ]
  },
  {
   "cell_type": "code",
   "execution_count": 155,
   "id": "2f3259a7",
   "metadata": {},
   "outputs": [],
   "source": [
    "import numpy as np"
   ]
  },
  {
   "cell_type": "code",
   "execution_count": 156,
   "id": "fd57d7d2",
   "metadata": {},
   "outputs": [
    {
     "data": {
      "text/plain": [
       "0.7545454545454545"
      ]
     },
     "execution_count": 156,
     "metadata": {},
     "output_type": "execute_result"
    }
   ],
   "source": [
    "np.mean(y_test == y_test_pred)"
   ]
  },
  {
   "cell_type": "code",
   "execution_count": 157,
   "id": "e6bd0eaf",
   "metadata": {},
   "outputs": [],
   "source": [
    "from sklearn.metrics import confusion_matrix"
   ]
  },
  {
   "cell_type": "code",
   "execution_count": 158,
   "id": "c2935c7a",
   "metadata": {},
   "outputs": [
    {
     "data": {
      "text/plain": [
       "array(['O-antigen', 'algal glycans', 'capsule polysaccharide',\n",
       "       'mono/di/trisaccharide', 'multiple_substrates', 'others', 'pectin',\n",
       "       'xylan'], dtype=object)"
      ]
     },
     "execution_count": 158,
     "metadata": {},
     "output_type": "execute_result"
    }
   ],
   "source": [
    "le.classes_"
   ]
  },
  {
   "cell_type": "code",
   "execution_count": 159,
   "id": "394be238",
   "metadata": {},
   "outputs": [],
   "source": [
    "# y_test_labeled = [le.inverse_transform([label])[0] for label in y_test]"
   ]
  },
  {
   "cell_type": "code",
   "execution_count": 160,
   "id": "de474a6d",
   "metadata": {},
   "outputs": [],
   "source": [
    "# y_test_pred_labeled = [le.inverse_transform([label])[0] for label in y_test_pred]"
   ]
  },
  {
   "cell_type": "code",
   "execution_count": 161,
   "id": "2333c483",
   "metadata": {},
   "outputs": [],
   "source": [
    "# get the array oaf confusion matrix\n",
    "cm = confusion_matrix(y_test, y_test_pred, normalize = 'true')"
   ]
  },
  {
   "cell_type": "code",
   "execution_count": 162,
   "id": "fe35b36d",
   "metadata": {},
   "outputs": [],
   "source": [
    "# dataframe for confusion matrix\n",
    "df_cm = pd.DataFrame(cm, index = [i for i in le.classes_],\n",
    "                  columns = [i for i in le.classes_])"
   ]
  },
  {
   "cell_type": "code",
   "execution_count": 163,
   "id": "ffc9014f",
   "metadata": {},
   "outputs": [],
   "source": [
    "# seaborn that helps with aesthetically pleasing plots\n",
    "import seaborn as sns"
   ]
  },
  {
   "cell_type": "code",
   "execution_count": 164,
   "id": "d2ce3325",
   "metadata": {},
   "outputs": [],
   "source": [
    "import matplotlib.pyplot as plt"
   ]
  },
  {
   "cell_type": "code",
   "execution_count": 165,
   "id": "8d9cbb74",
   "metadata": {},
   "outputs": [
    {
     "data": {
      "image/png": "[encoded data removed]",
      "text/plain": [
       "<Figure size 720x720 with 2 Axes>"
      ]
     },
     "metadata": {
      "needs_background": "light"
     },
     "output_type": "display_data"
    }
   ],
   "source": [
    "# make the plot\n",
    "plt.figure(figsize = (10, 10))\n",
    "sns.heatmap(df_cm, annot = True)\n",
    "plt.title(\"confusion matrix for the test set\", fontsize = 20)\n",
    "plt.xlabel(\"Predicted Label\", fontsize = 20)\n",
    "plt.ylabel(\"True Label\", fontsize = 20)\n",
    "plt.show()\n"
   ]
  },
  {
   "cell_type": "code",
   "execution_count": 166,
   "id": "81d54cfe",
   "metadata": {},
   "outputs": [
    {
     "data": {
      "image/png": "[encoded data removed]",
      "text/plain": [
       "<Figure size 720x720 with 2 Axes>"
      ]
     },
     "metadata": {
      "needs_background": "light"
     },
     "output_type": "display_data"
    }
   ],
   "source": [
    "# get the array oaf confusion matrix\n",
    "cm = confusion_matrix(y_test, y_test_pred)\n",
    "\n",
    "# dataframe for confusion matrix\n",
    "df_cm = pd.DataFrame(cm, index = [i for i in le.classes_],\n",
    "                  columns = [i for i in le.classes_])\n",
    "\n",
    "# seaborn that helps with aesthetically pleasing plots\n",
    "import seaborn as sns\n",
    "\n",
    "import matplotlib.pyplot as plt\n",
    "\n",
    "# make the plot\n",
    "plt.figure(figsize = (10, 10))\n",
    "sns.heatmap(df_cm, annot = True)\n",
    "plt.title(\"confusion matrix for the test set\", fontsize = 20)\n",
    "plt.xlabel(\"Predicted Label\", fontsize = 20)\n",
    "plt.ylabel(\"True Label\", fontsize = 20)\n",
    "plt.show()\n"
   ]
  },
  {
   "cell_type": "code",
   "execution_count": 167,
   "id": "e95d1438",
   "metadata": {},
   "outputs": [],
   "source": [
    "removed_df_not_keep = removed_df[~removed_df[\"high_level_substr\"].isin(le.classes_)]"
   ]
  },
  {
   "cell_type": "code",
   "execution_count": 168,
   "id": "6d284847",
   "metadata": {},
   "outputs": [
    {
     "name": "stderr",
     "output_type": "stream",
     "text": [
      "C:\\Users\\vedpi\\AppData\\Local\\Temp/ipykernel_13356/117425192.py:1: SettingWithCopyWarning: \n",
      "A value is trying to be set on a copy of a slice from a DataFrame.\n",
      "Try using .loc[row_indexer,col_indexer] = value instead\n",
      "\n",
      "See the caveats in the documentation: https://pandas.pydata.org/pandas-docs/stable/user_guide/indexing.html#returning-a-view-versus-a-copy\n",
      "  removed_df_not_keep[\"high_level_substr\"] = \"others\"\n"
     ]
    }
   ],
   "source": [
    "removed_df_not_keep[\"high_level_substr\"] = \"others\""
   ]
  },
  {
   "cell_type": "code",
   "execution_count": 169,
   "id": "81d7bbd8",
   "metadata": {},
   "outputs": [],
   "source": [
    "removed_df_keep = removed_df[removed_df[\"high_level_substr\"].isin(le.classes_)]"
   ]
  },
  {
   "cell_type": "code",
   "execution_count": 170,
   "id": "a286f687",
   "metadata": {},
   "outputs": [],
   "source": [
    "removed_df_combined = pd.concat([removed_df_keep, removed_df_not_keep])"
   ]
  },
  {
   "cell_type": "code",
   "execution_count": 171,
   "id": "aaf0f389",
   "metadata": {},
   "outputs": [
    {
     "data": {
      "text/plain": [
       "multiple_substrates      117\n",
       "others                    78\n",
       "mono/di/trisaccharide     52\n",
       "algal glycans             19\n",
       "xylan                     13\n",
       "pectin                    10\n",
       "Name: high_level_substr, dtype: int64"
      ]
     },
     "execution_count": 171,
     "metadata": {},
     "output_type": "execute_result"
    }
   ],
   "source": [
    "removed_df_combined[\"high_level_substr\"].value_counts()"
   ]
  },
  {
   "cell_type": "code",
   "execution_count": 172,
   "id": "115ecc02",
   "metadata": {},
   "outputs": [],
   "source": [
    "removed_df_combined_classes = le.transform(removed_df_combined[\"high_level_substr\"])"
   ]
  },
  {
   "cell_type": "code",
   "execution_count": 173,
   "id": "ab5c8e12",
   "metadata": {},
   "outputs": [],
   "source": [
    "removed_df_combined_seqs = vectorizer.transform(removed_df_combined[\"sig_gene_seq\"].values)"
   ]
  },
  {
   "cell_type": "code",
   "execution_count": 174,
   "id": "3557538a",
   "metadata": {},
   "outputs": [],
   "source": [
    "removed_df_combined_pred_classes = rf.predict(removed_df_combined_seqs)"
   ]
  },
  {
   "cell_type": "code",
   "execution_count": 175,
   "id": "3d74d443",
   "metadata": {},
   "outputs": [
    {
     "data": {
      "text/plain": [
       "0.3391003460207612"
      ]
     },
     "execution_count": 175,
     "metadata": {},
     "output_type": "execute_result"
    }
   ],
   "source": [
    "np.mean(removed_df_combined_classes == removed_df_combined_pred_classes )"
   ]
  },
  {
   "cell_type": "code",
   "execution_count": 176,
   "id": "cc8280b1",
   "metadata": {},
   "outputs": [
    {
     "data": {
      "image/png": "[encoded data removed]",
      "text/plain": [
       "<Figure size 720x720 with 2 Axes>"
      ]
     },
     "metadata": {
      "needs_background": "light"
     },
     "output_type": "display_data"
    }
   ],
   "source": [
    "# get the array oaf confusion matrix\n",
    "cm = confusion_matrix(removed_df_combined_classes, removed_df_combined_pred_classes, normalize = 'true')\n",
    "\n",
    "# dataframe for confusion matrix\n",
    "df_cm = pd.DataFrame(cm, index = [i for i in le.classes_],\n",
    "                  columns = [i for i in le.classes_])\n",
    "\n",
    "# seaborn that helps with aesthetically pleasing plots\n",
    "import seaborn as sns\n",
    "\n",
    "import matplotlib.pyplot as plt\n",
    "\n",
    "# make the plot\n",
    "plt.figure(figsize = (10, 10))\n",
    "sns.heatmap(df_cm, annot = True)\n",
    "plt.title(\"confusion matrix for the test set\", fontsize = 20)\n",
    "plt.xlabel(\"Predicted Label\", fontsize = 20)\n",
    "plt.ylabel(\"True Label\", fontsize = 20)\n",
    "plt.show()\n"
   ]
  }
 ],
 "metadata": {
  "kernelspec": {
   "display_name": "newone",
   "language": "python",
   "name": "newone"
  },
  "language_info": {
   "codemirror_mode": {
    "name": "ipython",
    "version": 3
   },
   "file_extension": ".py",
   "mimetype": "text/x-python",
   "name": "python",
   "nbconvert_exporter": "python",
   "pygments_lexer": "ipython3",
   "version": "3.9.7"
  }
 },
 "nbformat": 4,
 "nbformat_minor": 5
}
