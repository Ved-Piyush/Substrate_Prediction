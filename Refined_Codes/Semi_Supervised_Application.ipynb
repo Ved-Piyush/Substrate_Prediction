{
 "cells": [
  {
   "cell_type": "code",
   "execution_count": 1,
   "id": "20fe1aab",
   "metadata": {},
   "outputs": [],
   "source": [
    "import pandas as pd"
   ]
  },
  {
   "cell_type": "code",
   "execution_count": 2,
   "id": "0e3d8279",
   "metadata": {},
   "outputs": [],
   "source": [
    "# set the directory to where the data is\n",
    "import os\n",
    "\n",
    "os.chdir(r\"D:\\Gene_Project\")"
   ]
  },
  {
   "cell_type": "code",
   "execution_count": 3,
   "id": "d571549a",
   "metadata": {},
   "outputs": [],
   "source": [
    "unsupervised_data = pd.read_csv(r\"all_unsupervised_genes.csv\")"
   ]
  },
  {
   "cell_type": "code",
   "execution_count": 4,
   "id": "fc2e8097",
   "metadata": {},
   "outputs": [
    {
     "data": {
      "text/html": [
       "<div>\n",
       "<style scoped>\n",
       "    .dataframe tbody tr th:only-of-type {\n",
       "        vertical-align: middle;\n",
       "    }\n",
       "\n",
       "    .dataframe tbody tr th {\n",
       "        vertical-align: top;\n",
       "    }\n",
       "\n",
       "    .dataframe thead th {\n",
       "        text-align: right;\n",
       "    }\n",
       "</style>\n",
       "<table border=\"1\" class=\"dataframe\">\n",
       "  <thead>\n",
       "    <tr style=\"text-align: right;\">\n",
       "      <th></th>\n",
       "      <th>sequence</th>\n",
       "    </tr>\n",
       "  </thead>\n",
       "  <tbody>\n",
       "    <tr>\n",
       "      <th>0</th>\n",
       "      <td>1.A.72,MerR,GH23</td>\n",
       "    </tr>\n",
       "    <tr>\n",
       "      <th>1</th>\n",
       "      <td>3.A.1,CE4</td>\n",
       "    </tr>\n",
       "    <tr>\n",
       "      <th>2</th>\n",
       "      <td>3.A.23,9.A.5,MCPsignal,2.A.21,2.A.22,TetR_N,3....</td>\n",
       "    </tr>\n",
       "    <tr>\n",
       "      <th>3</th>\n",
       "      <td>CE4,8.A.5,3.A.1,3.A.1,3.A.1</td>\n",
       "    </tr>\n",
       "    <tr>\n",
       "      <th>4</th>\n",
       "      <td>GT51,Peripla_BP_2,3.A.1,3.A.1,9.B.169</td>\n",
       "    </tr>\n",
       "  </tbody>\n",
       "</table>\n",
       "</div>"
      ],
      "text/plain": [
       "                                            sequence\n",
       "0                                   1.A.72,MerR,GH23\n",
       "1                                          3.A.1,CE4\n",
       "2  3.A.23,9.A.5,MCPsignal,2.A.21,2.A.22,TetR_N,3....\n",
       "3                        CE4,8.A.5,3.A.1,3.A.1,3.A.1\n",
       "4              GT51,Peripla_BP_2,3.A.1,3.A.1,9.B.169"
      ]
     },
     "execution_count": 4,
     "metadata": {},
     "output_type": "execute_result"
    }
   ],
   "source": [
    "unsupervised_data.head()"
   ]
  },
  {
   "cell_type": "code",
   "execution_count": 5,
   "id": "77e8c97c",
   "metadata": {},
   "outputs": [
    {
     "data": {
      "text/plain": [
       "(240622, 1)"
      ]
     },
     "execution_count": 5,
     "metadata": {},
     "output_type": "execute_result"
    }
   ],
   "source": [
    "unsupervised_data.shape"
   ]
  },
  {
   "cell_type": "code",
   "execution_count": 6,
   "id": "d08104d1",
   "metadata": {},
   "outputs": [],
   "source": [
    "# load the data - new data that was provided\n",
    "supervised_data = pd.read_csv(r\"pul_seq_low_high_substr_year_corrected.csv\")"
   ]
  },
  {
   "cell_type": "code",
   "execution_count": 7,
   "id": "618f3ca5",
   "metadata": {},
   "outputs": [],
   "source": [
    "supervised_strings = supervised_data[\"sig_gene_seq\"]"
   ]
  },
  {
   "cell_type": "code",
   "execution_count": 8,
   "id": "7782e31b",
   "metadata": {},
   "outputs": [],
   "source": [
    "from sklearn.preprocessing import LabelEncoder"
   ]
  },
  {
   "cell_type": "code",
   "execution_count": 9,
   "id": "da918e88",
   "metadata": {},
   "outputs": [],
   "source": [
    "le = LabelEncoder()"
   ]
  },
  {
   "cell_type": "code",
   "execution_count": 10,
   "id": "a7499d8d",
   "metadata": {},
   "outputs": [
    {
     "data": {
      "text/plain": [
       "multiple_substrates           139\n",
       "mono/di/trisaccharide          78\n",
       "capsule polysaccharide         60\n",
       "algal glycans                  40\n",
       "pectin                         38\n",
       "xylan                          38\n",
       "O-antigen                      37\n",
       "galactan                       36\n",
       "alpha-glucan                   23\n",
       "beta-mannan                    19\n",
       "cellulose                      18\n",
       "chitin                         15\n",
       "glycosaminoglycan              14\n",
       "beta-glucan                    13\n",
       "N-glycan                       12\n",
       "exopolysaccharide              10\n",
       "-                               9\n",
       "fructan                         8\n",
       "alpha-mannan                    8\n",
       "host glycan                     7\n",
       "xyloglucan                      7\n",
       "plant polysaccharide            6\n",
       "glycoprotein                    6\n",
       "human milk oligosaccharide      5\n",
       "hemicellulose                   5\n",
       "O-glycan                        3\n",
       "Name: high_level_substr, dtype: int64"
      ]
     },
     "execution_count": 10,
     "metadata": {},
     "output_type": "execute_result"
    }
   ],
   "source": [
    "supervised_data[\"high_level_substr\"].value_counts()"
   ]
  },
  {
   "cell_type": "code",
   "execution_count": 11,
   "id": "cf933f3f",
   "metadata": {},
   "outputs": [],
   "source": [
    "to_keep = supervised_data[\"high_level_substr\"].value_counts().keys()[:5].tolist()"
   ]
  },
  {
   "cell_type": "code",
   "execution_count": 12,
   "id": "82a8cc88",
   "metadata": {},
   "outputs": [],
   "source": [
    "supervised_data[\"high_level_substr\"] = [label if label in to_keep else \"others\" for label in supervised_data[\"high_level_substr\"]]"
   ]
  },
  {
   "cell_type": "code",
   "execution_count": 13,
   "id": "fffeb945",
   "metadata": {},
   "outputs": [
    {
     "data": {
      "text/plain": [
       "LabelEncoder()"
      ]
     },
     "execution_count": 13,
     "metadata": {},
     "output_type": "execute_result"
    }
   ],
   "source": [
    "le.fit(supervised_data[\"high_level_substr\"])"
   ]
  },
  {
   "cell_type": "code",
   "execution_count": 14,
   "id": "982f39a7",
   "metadata": {},
   "outputs": [],
   "source": [
    "supervised_data[\"high_level_substr\"]  = le.transform(supervised_data[\"high_level_substr\"])"
   ]
  },
  {
   "cell_type": "code",
   "execution_count": 15,
   "id": "f01ed1cd",
   "metadata": {},
   "outputs": [],
   "source": [
    "from sklearn.model_selection import train_test_split"
   ]
  },
  {
   "cell_type": "code",
   "execution_count": 16,
   "id": "7e9d7cc2",
   "metadata": {},
   "outputs": [],
   "source": [
    "X_train, X_test, y_train, y_test = train_test_split(supervised_data[[\"sig_gene_seq\"]],\n",
    "                                                    supervised_data[[\"high_level_substr\"]], \n",
    "                                                   test_size=0.4, \n",
    "                                                   stratify = supervised_data[\"high_level_substr\"], \n",
    "                                                   random_state = 42)"
   ]
  },
  {
   "cell_type": "code",
   "execution_count": 17,
   "id": "9c4d4e82",
   "metadata": {},
   "outputs": [],
   "source": [
    "from sklearn.model_selection import PredefinedSplit"
   ]
  },
  {
   "cell_type": "code",
   "execution_count": 18,
   "id": "a430cae1",
   "metadata": {},
   "outputs": [],
   "source": [
    "import numpy as np"
   ]
  },
  {
   "cell_type": "code",
   "execution_count": 19,
   "id": "d34590ba",
   "metadata": {},
   "outputs": [],
   "source": [
    "unsup_data = unsupervised_data[[\"sequence\"]].sample(frac = 1.0)"
   ]
  },
  {
   "cell_type": "code",
   "execution_count": 20,
   "id": "753d0297",
   "metadata": {},
   "outputs": [
    {
     "data": {
      "text/plain": [
       "(240622, 1)"
      ]
     },
     "execution_count": 20,
     "metadata": {},
     "output_type": "execute_result"
    }
   ],
   "source": [
    "unsup_data.shape"
   ]
  },
  {
   "cell_type": "code",
   "execution_count": 21,
   "id": "fce3cb17",
   "metadata": {},
   "outputs": [],
   "source": [
    "X_train = np.vstack((X_train, unsup_data))"
   ]
  },
  {
   "cell_type": "code",
   "execution_count": 22,
   "id": "ba22a879",
   "metadata": {},
   "outputs": [],
   "source": [
    "y_train = np.vstack((y_train, np.repeat(-1, len(unsup_data)).reshape(-1,1)))"
   ]
  },
  {
   "cell_type": "code",
   "execution_count": 23,
   "id": "93c5c718",
   "metadata": {},
   "outputs": [],
   "source": [
    "X_train_test = np.vstack((X_train, X_test))"
   ]
  },
  {
   "cell_type": "code",
   "execution_count": 24,
   "id": "6c728014",
   "metadata": {},
   "outputs": [],
   "source": [
    "y_train_test = np.vstack((y_train, \n",
    "           y_test))"
   ]
  },
  {
   "cell_type": "code",
   "execution_count": 25,
   "id": "f40706b3",
   "metadata": {},
   "outputs": [],
   "source": [
    "test_fold = np.hstack((np.repeat(-1, X_train.shape[0]), \n",
    "           np.repeat(0, X_test.shape[0])))"
   ]
  },
  {
   "cell_type": "code",
   "execution_count": 26,
   "id": "2bb15640",
   "metadata": {},
   "outputs": [],
   "source": [
    "pds = PredefinedSplit(test_fold)"
   ]
  },
  {
   "cell_type": "code",
   "execution_count": 27,
   "id": "2ed8ceea",
   "metadata": {},
   "outputs": [],
   "source": [
    "from sklearn.ensemble import RandomForestClassifier"
   ]
  },
  {
   "cell_type": "code",
   "execution_count": 28,
   "id": "7be231c1",
   "metadata": {},
   "outputs": [],
   "source": [
    "from sklearn.model_selection import GridSearchCV\n",
    "from sklearn.pipeline import make_pipeline, Pipeline"
   ]
  },
  {
   "cell_type": "code",
   "execution_count": 29,
   "id": "41f10f3c",
   "metadata": {},
   "outputs": [],
   "source": [
    "from sklearn.feature_extraction.text import CountVectorizer"
   ]
  },
  {
   "cell_type": "code",
   "execution_count": 30,
   "id": "26970862",
   "metadata": {},
   "outputs": [],
   "source": [
    "from sklearn.semi_supervised import SelfTrainingClassifier"
   ]
  },
  {
   "cell_type": "code",
   "execution_count": 31,
   "id": "ec152053",
   "metadata": {},
   "outputs": [],
   "source": [
    "# SelfTraining Pipeline\n",
    "st_pipeline = Pipeline(\n",
    "    [\n",
    "        (\"vect\", CountVectorizer(tokenizer=lambda x: str(x).replace(\"|\", \",\").split(','),\n",
    "                                              lowercase = False)),\n",
    "        (\"clf\", SelfTrainingClassifier(RandomForestClassifier(n_jobs = 7), verbose=True, threshold = 0.95))\n",
    "    ]\n",
    ")"
   ]
  },
  {
   "cell_type": "code",
   "execution_count": 32,
   "id": "4f004dae",
   "metadata": {},
   "outputs": [],
   "source": [
    "from sklearn.model_selection import cross_val_score"
   ]
  },
  {
   "cell_type": "code",
   "execution_count": 33,
   "id": "2c194f83",
   "metadata": {},
   "outputs": [
    {
     "data": {
      "text/plain": [
       "0.6068702290076335"
      ]
     },
     "execution_count": 33,
     "metadata": {},
     "output_type": "execute_result"
    }
   ],
   "source": [
    "cross_val_score(st_pipeline, X_train_test, y_train_test, cv = pds, n_jobs = 7)[0]"
   ]
  },
  {
   "cell_type": "code",
   "execution_count": 34,
   "id": "089bc500",
   "metadata": {},
   "outputs": [],
   "source": [
    "from sklearn.semi_supervised import LabelSpreading, LabelPropagation"
   ]
  },
  {
   "cell_type": "code",
   "execution_count": 35,
   "id": "d7a0f29e",
   "metadata": {},
   "outputs": [],
   "source": [
    "from sklearn.preprocessing import FunctionTransformer"
   ]
  },
  {
   "cell_type": "code",
   "execution_count": 36,
   "id": "7b202d17",
   "metadata": {},
   "outputs": [],
   "source": [
    "# SelfTraining Pipeline\n",
    "st_pipeline = Pipeline(\n",
    "    [\n",
    "        (\"vect\", CountVectorizer(tokenizer=lambda x: str(x).replace(\"|\", \",\").split(','),\n",
    "                                              lowercase = False)),\n",
    "         (\"todense\", FunctionTransformer(lambda x: x.todense())),\n",
    "        (\"clf\", LabelPropagation( kernel = \"knn\", n_jobs = 7))\n",
    "    ]\n",
    ")"
   ]
  },
  {
   "cell_type": "code",
   "execution_count": null,
   "id": "f1044360",
   "metadata": {
    "scrolled": true
   },
   "outputs": [],
   "source": [
    "cross_val_score(st_pipeline, X_train_test, y_train_test, cv = pds, n_jobs = 7)[0]"
   ]
  }
 ],
 "metadata": {
  "kernelspec": {
   "display_name": "newone",
   "language": "python",
   "name": "newone"
  },
  "language_info": {
   "codemirror_mode": {
    "name": "ipython",
    "version": 3
   },
   "file_extension": ".py",
   "mimetype": "text/x-python",
   "name": "python",
   "nbconvert_exporter": "python",
   "pygments_lexer": "ipython3",
   "version": "3.9.7"
  }
 },
 "nbformat": 4,
 "nbformat_minor": 5
}
