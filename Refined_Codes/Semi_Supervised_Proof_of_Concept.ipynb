{
 "cells": [
  {
   "cell_type": "code",
   "execution_count": 316,
   "id": "20fe1aab",
   "metadata": {},
   "outputs": [],
   "source": [
    "import pandas as pd"
   ]
  },
  {
   "cell_type": "code",
   "execution_count": 317,
   "id": "0e3d8279",
   "metadata": {},
   "outputs": [],
   "source": [
    "# set the directory to where the data is\n",
    "import os\n",
    "\n",
    "os.chdir(r\"D:\\Gene_Project\")"
   ]
  },
  {
   "cell_type": "code",
   "execution_count": 318,
   "id": "d571549a",
   "metadata": {},
   "outputs": [],
   "source": [
    "unsupervised_data = pd.read_csv(r\"all_unsupervised_genes.csv\")"
   ]
  },
  {
   "cell_type": "code",
   "execution_count": 319,
   "id": "fc2e8097",
   "metadata": {},
   "outputs": [
    {
     "data": {
      "text/html": [
       "<div>\n",
       "<style scoped>\n",
       "    .dataframe tbody tr th:only-of-type {\n",
       "        vertical-align: middle;\n",
       "    }\n",
       "\n",
       "    .dataframe tbody tr th {\n",
       "        vertical-align: top;\n",
       "    }\n",
       "\n",
       "    .dataframe thead th {\n",
       "        text-align: right;\n",
       "    }\n",
       "</style>\n",
       "<table border=\"1\" class=\"dataframe\">\n",
       "  <thead>\n",
       "    <tr style=\"text-align: right;\">\n",
       "      <th></th>\n",
       "      <th>sequence</th>\n",
       "    </tr>\n",
       "  </thead>\n",
       "  <tbody>\n",
       "    <tr>\n",
       "      <th>0</th>\n",
       "      <td>1.A.72,MerR,GH23</td>\n",
       "    </tr>\n",
       "    <tr>\n",
       "      <th>1</th>\n",
       "      <td>3.A.1,CE4</td>\n",
       "    </tr>\n",
       "    <tr>\n",
       "      <th>2</th>\n",
       "      <td>3.A.23,9.A.5,MCPsignal,2.A.21,2.A.22,TetR_N,3....</td>\n",
       "    </tr>\n",
       "    <tr>\n",
       "      <th>3</th>\n",
       "      <td>CE4,8.A.5,3.A.1,3.A.1,3.A.1</td>\n",
       "    </tr>\n",
       "    <tr>\n",
       "      <th>4</th>\n",
       "      <td>GT51,Peripla_BP_2,3.A.1,3.A.1,9.B.169</td>\n",
       "    </tr>\n",
       "  </tbody>\n",
       "</table>\n",
       "</div>"
      ],
      "text/plain": [
       "                                            sequence\n",
       "0                                   1.A.72,MerR,GH23\n",
       "1                                          3.A.1,CE4\n",
       "2  3.A.23,9.A.5,MCPsignal,2.A.21,2.A.22,TetR_N,3....\n",
       "3                        CE4,8.A.5,3.A.1,3.A.1,3.A.1\n",
       "4              GT51,Peripla_BP_2,3.A.1,3.A.1,9.B.169"
      ]
     },
     "execution_count": 319,
     "metadata": {},
     "output_type": "execute_result"
    }
   ],
   "source": [
    "unsupervised_data.head()"
   ]
  },
  {
   "cell_type": "code",
   "execution_count": 320,
   "id": "d08104d1",
   "metadata": {},
   "outputs": [],
   "source": [
    "# load the data - new data that was provided\n",
    "supervised_data = pd.read_csv(r\"pul_seq_low_high_substr_year_corrected.csv\")"
   ]
  },
  {
   "cell_type": "code",
   "execution_count": 321,
   "id": "618f3ca5",
   "metadata": {},
   "outputs": [],
   "source": [
    "supervised_strings = supervised_data[\"sig_gene_seq\"]"
   ]
  },
  {
   "cell_type": "code",
   "execution_count": 322,
   "id": "7782e31b",
   "metadata": {},
   "outputs": [],
   "source": [
    "from sklearn.preprocessing import LabelEncoder"
   ]
  },
  {
   "cell_type": "code",
   "execution_count": 323,
   "id": "da918e88",
   "metadata": {},
   "outputs": [],
   "source": [
    "le = LabelEncoder()"
   ]
  },
  {
   "cell_type": "code",
   "execution_count": 324,
   "id": "a7499d8d",
   "metadata": {},
   "outputs": [
    {
     "data": {
      "text/plain": [
       "multiple_substrates           139\n",
       "mono/di/trisaccharide          78\n",
       "capsule polysaccharide         60\n",
       "algal glycans                  40\n",
       "pectin                         38\n",
       "xylan                          38\n",
       "O-antigen                      37\n",
       "galactan                       36\n",
       "alpha-glucan                   23\n",
       "beta-mannan                    19\n",
       "cellulose                      18\n",
       "chitin                         15\n",
       "glycosaminoglycan              14\n",
       "beta-glucan                    13\n",
       "N-glycan                       12\n",
       "exopolysaccharide              10\n",
       "-                               9\n",
       "fructan                         8\n",
       "alpha-mannan                    8\n",
       "host glycan                     7\n",
       "xyloglucan                      7\n",
       "plant polysaccharide            6\n",
       "glycoprotein                    6\n",
       "human milk oligosaccharide      5\n",
       "hemicellulose                   5\n",
       "O-glycan                        3\n",
       "Name: high_level_substr, dtype: int64"
      ]
     },
     "execution_count": 324,
     "metadata": {},
     "output_type": "execute_result"
    }
   ],
   "source": [
    "supervised_data[\"high_level_substr\"].value_counts()"
   ]
  },
  {
   "cell_type": "code",
   "execution_count": 325,
   "id": "cf933f3f",
   "metadata": {},
   "outputs": [],
   "source": [
    "to_keep = supervised_data[\"high_level_substr\"].value_counts().keys()[:5].tolist()"
   ]
  },
  {
   "cell_type": "code",
   "execution_count": 326,
   "id": "82a8cc88",
   "metadata": {},
   "outputs": [],
   "source": [
    "supervised_data[\"high_level_substr\"] = [label if label in to_keep else \"others\" for label in supervised_data[\"high_level_substr\"]]"
   ]
  },
  {
   "cell_type": "code",
   "execution_count": 327,
   "id": "fffeb945",
   "metadata": {},
   "outputs": [
    {
     "data": {
      "text/plain": [
       "LabelEncoder()"
      ]
     },
     "execution_count": 327,
     "metadata": {},
     "output_type": "execute_result"
    }
   ],
   "source": [
    "le.fit(supervised_data[\"high_level_substr\"])"
   ]
  },
  {
   "cell_type": "code",
   "execution_count": 328,
   "id": "982f39a7",
   "metadata": {},
   "outputs": [],
   "source": [
    "supervised_data[\"high_level_substr\"]  = le.transform(supervised_data[\"high_level_substr\"])"
   ]
  },
  {
   "cell_type": "code",
   "execution_count": 329,
   "id": "f01ed1cd",
   "metadata": {},
   "outputs": [],
   "source": [
    "from sklearn.model_selection import train_test_split"
   ]
  },
  {
   "cell_type": "code",
   "execution_count": 371,
   "id": "7e9d7cc2",
   "metadata": {},
   "outputs": [],
   "source": [
    "X_train, X_test, y_train, y_test = train_test_split(supervised_data[\"sig_gene_seq\"],\n",
    "                                                    supervised_data[\"high_level_substr\"], \n",
    "                                                   test_size=0.4, \n",
    "                                                   stratify = supervised_data[\"high_level_substr\"], \n",
    "                                                   random_state = 42)"
   ]
  },
  {
   "cell_type": "code",
   "execution_count": 372,
   "id": "9c4d4e82",
   "metadata": {},
   "outputs": [],
   "source": [
    "from sklearn.model_selection import PredefinedSplit"
   ]
  },
  {
   "cell_type": "code",
   "execution_count": 373,
   "id": "a430cae1",
   "metadata": {},
   "outputs": [],
   "source": [
    "import numpy as np"
   ]
  },
  {
   "cell_type": "code",
   "execution_count": 374,
   "id": "93c5c718",
   "metadata": {},
   "outputs": [],
   "source": [
    "X_train_test = np.hstack((X_train, X_test))"
   ]
  },
  {
   "cell_type": "code",
   "execution_count": 375,
   "id": "f40706b3",
   "metadata": {},
   "outputs": [],
   "source": [
    "test_fold = np.hstack((np.repeat(-1, X_train.shape[0]), \n",
    "           np.repeat(0, X_test.shape[0])))"
   ]
  },
  {
   "cell_type": "code",
   "execution_count": 376,
   "id": "2bb15640",
   "metadata": {},
   "outputs": [],
   "source": [
    "pds = PredefinedSplit(test_fold)"
   ]
  },
  {
   "cell_type": "code",
   "execution_count": 377,
   "id": "2ed8ceea",
   "metadata": {},
   "outputs": [],
   "source": [
    "from sklearn.ensemble import RandomForestClassifier"
   ]
  },
  {
   "cell_type": "code",
   "execution_count": 378,
   "id": "7be231c1",
   "metadata": {},
   "outputs": [],
   "source": [
    "from sklearn.model_selection import GridSearchCV\n",
    "from sklearn.pipeline import make_pipeline, Pipeline"
   ]
  },
  {
   "cell_type": "code",
   "execution_count": 379,
   "id": "41f10f3c",
   "metadata": {},
   "outputs": [],
   "source": [
    "from sklearn.feature_extraction.text import CountVectorizer"
   ]
  },
  {
   "cell_type": "code",
   "execution_count": 380,
   "id": "26970862",
   "metadata": {},
   "outputs": [],
   "source": [
    "from sklearn.semi_supervised import SelfTrainingClassifier"
   ]
  },
  {
   "cell_type": "code",
   "execution_count": 381,
   "id": "ec152053",
   "metadata": {},
   "outputs": [],
   "source": [
    "# SelfTraining Pipeline\n",
    "st_pipeline = Pipeline(\n",
    "    [\n",
    "        (\"vect\", CountVectorizer(tokenizer=lambda x: str(x).replace(\"|\", \",\").split(','),\n",
    "                                              lowercase = False)),\n",
    "        (\"clf\", SelfTrainingClassifier(RandomForestClassifier(n_jobs = 6), verbose=True))\n",
    "    ]\n",
    ")"
   ]
  },
  {
   "cell_type": "code",
   "execution_count": 382,
   "id": "4f004dae",
   "metadata": {},
   "outputs": [],
   "source": [
    "from sklearn.model_selection import cross_val_score"
   ]
  },
  {
   "cell_type": "code",
   "execution_count": 383,
   "id": "e243f4d0",
   "metadata": {},
   "outputs": [],
   "source": [
    "from tqdm.notebook import tqdm"
   ]
  },
  {
   "cell_type": "code",
   "execution_count": 387,
   "id": "8699dbf8",
   "metadata": {},
   "outputs": [],
   "source": [
    "y_mask = np.random.rand(len(y_train)) < 0.5"
   ]
  },
  {
   "cell_type": "code",
   "execution_count": 388,
   "id": "3d67d890",
   "metadata": {},
   "outputs": [],
   "source": [
    "y_temp = y_train.copy()"
   ]
  },
  {
   "cell_type": "code",
   "execution_count": 390,
   "id": "f501b830",
   "metadata": {},
   "outputs": [],
   "source": [
    "y_temp[~y_mask] = -1"
   ]
  },
  {
   "cell_type": "code",
   "execution_count": 392,
   "id": "2457abbd",
   "metadata": {},
   "outputs": [],
   "source": [
    "y_train_test = np.hstack((y_temp, \n",
    "           y_test))"
   ]
  },
  {
   "cell_type": "code",
   "execution_count": 393,
   "id": "49ff3883",
   "metadata": {},
   "outputs": [
    {
     "name": "stdout",
     "output_type": "stream",
     "text": [
      "End of iteration 1, added 58 new labels.\n",
      "End of iteration 2, added 10 new labels.\n",
      "End of iteration 3, added 10 new labels.\n",
      "End of iteration 4, added 6 new labels.\n",
      "End of iteration 5, added 1 new labels.\n",
      "End of iteration 6, added 3 new labels.\n",
      "End of iteration 7, added 3 new labels.\n",
      "End of iteration 8, added 3 new labels.\n",
      "End of iteration 9, added 2 new labels.\n",
      "End of iteration 10, added 1 new labels.\n"
     ]
    },
    {
     "data": {
      "text/plain": [
       "array([0.6221374])"
      ]
     },
     "execution_count": 393,
     "metadata": {},
     "output_type": "execute_result"
    }
   ],
   "source": [
    "cross_val_score(st_pipeline, X_train_test, y_train_test, cv = pds)"
   ]
  },
  {
   "cell_type": "code",
   "execution_count": 403,
   "id": "b1e62565",
   "metadata": {
    "scrolled": true
   },
   "outputs": [
    {
     "data": {
      "application/vnd.jupyter.widget-view+json": {
       "model_id": "107c3358a4e141b6a196853732556dc4",
       "version_major": 2,
       "version_minor": 0
      },
      "text/plain": [
       "  0%|          | 0/11 [00:00<?, ?it/s]"
      ]
     },
     "metadata": {},
     "output_type": "display_data"
    },
    {
     "name": "stdout",
     "output_type": "stream",
     "text": [
      "0.009\n",
      "End of iteration 1, added 342 new labels.\n",
      "End of iteration 2, added 44 new labels.\n",
      "End of iteration 3, added 3 new labels.\n",
      "End of iteration 1, added 356 new labels.\n",
      "End of iteration 2, added 33 new labels.\n",
      "0.4580152671755725\n",
      "0.1\n",
      "End of iteration 1, added 68 new labels.\n",
      "End of iteration 2, added 78 new labels.\n",
      "End of iteration 3, added 63 new labels.\n",
      "End of iteration 4, added 76 new labels.\n",
      "End of iteration 5, added 20 new labels.\n",
      "End of iteration 6, added 6 new labels.\n",
      "End of iteration 7, added 6 new labels.\n",
      "End of iteration 8, added 5 new labels.\n",
      "End of iteration 9, added 2 new labels.\n",
      "End of iteration 10, added 1 new labels.\n",
      "End of iteration 1, added 49 new labels.\n",
      "End of iteration 2, added 92 new labels.\n",
      "End of iteration 3, added 59 new labels.\n",
      "End of iteration 4, added 67 new labels.\n",
      "End of iteration 5, added 28 new labels.\n",
      "End of iteration 6, added 2 new labels.\n",
      "End of iteration 7, added 4 new labels.\n",
      "End of iteration 8, added 3 new labels.\n",
      "End of iteration 9, added 5 new labels.\n",
      "End of iteration 10, added 2 new labels.\n",
      "0.549618320610687\n",
      "0.2\n",
      "End of iteration 1, added 14 new labels.\n",
      "End of iteration 2, added 14 new labels.\n",
      "End of iteration 3, added 22 new labels.\n",
      "End of iteration 4, added 60 new labels.\n",
      "End of iteration 5, added 41 new labels.\n",
      "End of iteration 6, added 17 new labels.\n",
      "End of iteration 7, added 26 new labels.\n",
      "End of iteration 8, added 17 new labels.\n",
      "End of iteration 9, added 9 new labels.\n",
      "End of iteration 10, added 3 new labels.\n",
      "End of iteration 1, added 18 new labels.\n",
      "End of iteration 2, added 31 new labels.\n",
      "End of iteration 3, added 45 new labels.\n",
      "End of iteration 4, added 45 new labels.\n",
      "End of iteration 5, added 19 new labels.\n",
      "End of iteration 6, added 25 new labels.\n",
      "End of iteration 7, added 11 new labels.\n",
      "End of iteration 8, added 19 new labels.\n",
      "End of iteration 9, added 14 new labels.\n",
      "End of iteration 10, added 3 new labels.\n",
      "0.5534351145038168\n",
      "0.3\n",
      "End of iteration 1, added 61 new labels.\n",
      "End of iteration 2, added 36 new labels.\n",
      "End of iteration 3, added 17 new labels.\n",
      "End of iteration 4, added 4 new labels.\n",
      "End of iteration 5, added 4 new labels.\n",
      "End of iteration 6, added 8 new labels.\n",
      "End of iteration 7, added 1 new labels.\n",
      "End of iteration 8, added 1 new labels.\n",
      "End of iteration 9, added 3 new labels.\n",
      "End of iteration 10, added 6 new labels.\n",
      "End of iteration 1, added 62 new labels.\n",
      "End of iteration 2, added 31 new labels.\n",
      "End of iteration 3, added 11 new labels.\n",
      "End of iteration 4, added 9 new labels.\n",
      "End of iteration 5, added 4 new labels.\n",
      "End of iteration 6, added 11 new labels.\n",
      "End of iteration 7, added 3 new labels.\n",
      "End of iteration 8, added 3 new labels.\n",
      "End of iteration 9, added 2 new labels.\n",
      "End of iteration 10, added 1 new labels.\n",
      "0.6106870229007634\n",
      "0.4\n",
      "End of iteration 1, added 59 new labels.\n",
      "End of iteration 2, added 21 new labels.\n",
      "End of iteration 3, added 19 new labels.\n",
      "End of iteration 4, added 20 new labels.\n",
      "End of iteration 5, added 11 new labels.\n",
      "End of iteration 6, added 6 new labels.\n",
      "End of iteration 7, added 7 new labels.\n",
      "End of iteration 8, added 5 new labels.\n",
      "End of iteration 9, added 2 new labels.\n",
      "End of iteration 1, added 61 new labels.\n",
      "End of iteration 2, added 23 new labels.\n",
      "End of iteration 3, added 15 new labels.\n",
      "End of iteration 4, added 16 new labels.\n",
      "End of iteration 5, added 14 new labels.\n",
      "End of iteration 6, added 6 new labels.\n",
      "End of iteration 7, added 5 new labels.\n",
      "End of iteration 8, added 5 new labels.\n",
      "End of iteration 9, added 6 new labels.\n",
      "End of iteration 10, added 1 new labels.\n",
      "0.5916030534351145\n",
      "0.5\n",
      "End of iteration 1, added 48 new labels.\n",
      "End of iteration 2, added 18 new labels.\n",
      "End of iteration 3, added 7 new labels.\n",
      "End of iteration 4, added 3 new labels.\n",
      "End of iteration 5, added 8 new labels.\n",
      "End of iteration 1, added 55 new labels.\n",
      "End of iteration 2, added 10 new labels.\n",
      "End of iteration 3, added 10 new labels.\n",
      "End of iteration 4, added 6 new labels.\n",
      "End of iteration 5, added 4 new labels.\n",
      "End of iteration 6, added 2 new labels.\n",
      "0.6374045801526718\n",
      "0.6\n",
      "End of iteration 1, added 46 new labels.\n",
      "End of iteration 2, added 5 new labels.\n",
      "End of iteration 3, added 2 new labels.\n",
      "End of iteration 4, added 4 new labels.\n",
      "End of iteration 5, added 1 new labels.\n",
      "End of iteration 6, added 4 new labels.\n",
      "End of iteration 7, added 1 new labels.\n",
      "End of iteration 8, added 1 new labels.\n",
      "End of iteration 9, added 1 new labels.\n",
      "End of iteration 1, added 48 new labels.\n",
      "End of iteration 2, added 6 new labels.\n",
      "End of iteration 3, added 2 new labels.\n",
      "0.6603053435114504\n",
      "0.7\n",
      "End of iteration 1, added 27 new labels.\n",
      "End of iteration 2, added 5 new labels.\n",
      "End of iteration 3, added 4 new labels.\n",
      "End of iteration 4, added 3 new labels.\n",
      "End of iteration 5, added 6 new labels.\n",
      "End of iteration 6, added 3 new labels.\n",
      "End of iteration 7, added 1 new labels.\n",
      "End of iteration 8, added 2 new labels.\n",
      "End of iteration 9, added 1 new labels.\n",
      "End of iteration 1, added 31 new labels.\n",
      "End of iteration 2, added 7 new labels.\n",
      "End of iteration 3, added 4 new labels.\n",
      "End of iteration 4, added 4 new labels.\n",
      "End of iteration 5, added 1 new labels.\n",
      "End of iteration 6, added 2 new labels.\n",
      "End of iteration 7, added 2 new labels.\n",
      "End of iteration 8, added 3 new labels.\n",
      "End of iteration 9, added 1 new labels.\n",
      "End of iteration 10, added 3 new labels.\n",
      "0.6335877862595419\n",
      "0.8\n",
      "End of iteration 1, added 23 new labels.\n",
      "End of iteration 2, added 8 new labels.\n",
      "End of iteration 3, added 1 new labels.\n",
      "End of iteration 4, added 3 new labels.\n",
      "End of iteration 5, added 1 new labels.\n",
      "End of iteration 6, added 3 new labels.\n",
      "End of iteration 1, added 32 new labels.\n",
      "End of iteration 2, added 6 new labels.\n",
      "End of iteration 3, added 2 new labels.\n",
      "End of iteration 4, added 2 new labels.\n",
      "0.6603053435114504\n",
      "0.9\n",
      "End of iteration 1, added 15 new labels.\n",
      "End of iteration 2, added 2 new labels.\n",
      "End of iteration 3, added 2 new labels.\n",
      "End of iteration 4, added 1 new labels.\n",
      "End of iteration 1, added 13 new labels.\n",
      "End of iteration 2, added 2 new labels.\n",
      "End of iteration 3, added 3 new labels.\n",
      "End of iteration 4, added 1 new labels.\n",
      "End of iteration 5, added 1 new labels.\n",
      "0.6564885496183206\n",
      "1.0\n"
     ]
    },
    {
     "name": "stderr",
     "output_type": "stream",
     "text": [
      "C:\\Users\\vedpi\\anaconda3\\envs\\newone\\lib\\site-packages\\sklearn\\semi_supervised\\_self_training.py:205: UserWarning: y contains no unlabeled samples\n",
      "  warnings.warn(\"y contains no unlabeled samples\", UserWarning)\n"
     ]
    },
    {
     "name": "stdout",
     "output_type": "stream",
     "text": [
      "0.6526717557251909\n"
     ]
    },
    {
     "name": "stderr",
     "output_type": "stream",
     "text": [
      "C:\\Users\\vedpi\\anaconda3\\envs\\newone\\lib\\site-packages\\sklearn\\semi_supervised\\_self_training.py:205: UserWarning: y contains no unlabeled samples\n",
      "  warnings.warn(\"y contains no unlabeled samples\", UserWarning)\n"
     ]
    }
   ],
   "source": [
    "np.random.seed(42)\n",
    "catch = []\n",
    "for prop in tqdm([min(prop,1) if prop > 1 else max(0.009, prop) for prop in np.arange(0,11,1)/10]):\n",
    "    print(prop)\n",
    "    y_mask = np.random.rand(len(y_train)) < prop\n",
    "    y_temp = y_train.copy()\n",
    "    y_temp[~y_mask] = -1\n",
    "    y_train_test = np.hstack((y_temp, \n",
    "           y_test))\n",
    "    catch.append(cross_val_score(st_pipeline, X_train_test, y_train_test, cv = pds)[0])\n",
    "    print(cross_val_score(st_pipeline, X_train_test, y_train_test, cv = pds)[0])"
   ]
  },
  {
   "cell_type": "code",
   "execution_count": 405,
   "id": "d1dea91e",
   "metadata": {},
   "outputs": [],
   "source": [
    "import matplotlib.pyplot as plt"
   ]
  },
  {
   "cell_type": "code",
   "execution_count": 408,
   "id": "09bf2722",
   "metadata": {},
   "outputs": [
    {
     "data": {
      "image/png": "[encoded data removed]",
      "text/plain": [
       "<Figure size 432x288 with 1 Axes>"
      ]
     },
     "metadata": {
      "needs_background": "light"
     },
     "output_type": "display_data"
    }
   ],
   "source": [
    "plt.plot([min(prop,1) if prop > 1 else max(0.009, prop) for prop in np.arange(0,11,1)/10], catch)\n",
    "plt.show()"
   ]
  }
 ],
 "metadata": {
  "kernelspec": {
   "display_name": "newone",
   "language": "python",
   "name": "newone"
  },
  "language_info": {
   "codemirror_mode": {
    "name": "ipython",
    "version": 3
   },
   "file_extension": ".py",
   "mimetype": "text/x-python",
   "name": "python",
   "nbconvert_exporter": "python",
   "pygments_lexer": "ipython3",
   "version": "3.9.7"
  }
 },
 "nbformat": 4,
 "nbformat_minor": 5
}
