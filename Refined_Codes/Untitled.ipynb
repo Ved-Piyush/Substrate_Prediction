{
 "cells": [
  {
   "cell_type": "code",
   "execution_count": 270,
   "id": "cbeb5286",
   "metadata": {},
   "outputs": [],
   "source": [
    "# set the directory to where the data is\n",
    "import os\n",
    "\n",
    "os.chdir(r\"D:\\Gene_Project\")"
   ]
  },
  {
   "cell_type": "code",
   "execution_count": 271,
   "id": "48d6f6d2",
   "metadata": {},
   "outputs": [],
   "source": [
    "# pandas for dealing with the data\n",
    "import pandas as pd\n",
    "# setting for seeing the entire string\n",
    "# pd.options.display.max_colwidth = None\n",
    "# pd.set_option('display.max_rows', 500)"
   ]
  },
  {
   "cell_type": "code",
   "execution_count": 400,
   "id": "ce7a300b",
   "metadata": {},
   "outputs": [],
   "source": [
    "# load the data - new data that was provided\n",
    "data = pd.read_csv(r\"pul_seq_low_high_substr_year_corrected.csv\")"
   ]
  },
  {
   "cell_type": "code",
   "execution_count": 401,
   "id": "6267b1a5",
   "metadata": {},
   "outputs": [
    {
     "data": {
      "text/html": [
       "<div>\n",
       "<style scoped>\n",
       "    .dataframe tbody tr th:only-of-type {\n",
       "        vertical-align: middle;\n",
       "    }\n",
       "\n",
       "    .dataframe tbody tr th {\n",
       "        vertical-align: top;\n",
       "    }\n",
       "\n",
       "    .dataframe thead th {\n",
       "        text-align: right;\n",
       "    }\n",
       "</style>\n",
       "<table border=\"1\" class=\"dataframe\">\n",
       "  <thead>\n",
       "    <tr style=\"text-align: right;\">\n",
       "      <th></th>\n",
       "      <th>PULid</th>\n",
       "      <th>sig_gene_seq</th>\n",
       "      <th>low_level_substr</th>\n",
       "      <th>high_level_substr</th>\n",
       "      <th>Pub_year</th>\n",
       "    </tr>\n",
       "  </thead>\n",
       "  <tbody>\n",
       "    <tr>\n",
       "      <th>0</th>\n",
       "      <td>PUL0001</td>\n",
       "      <td>GH1,8.A.49,CE2,GH130,GH130,3.A.1,3.A.1,SBP_bac...</td>\n",
       "      <td>beta-mannan</td>\n",
       "      <td>beta-mannan</td>\n",
       "      <td>2019</td>\n",
       "    </tr>\n",
       "    <tr>\n",
       "      <th>1</th>\n",
       "      <td>PUL0002</td>\n",
       "      <td>GH16</td>\n",
       "      <td>lichenan</td>\n",
       "      <td>beta-glucan</td>\n",
       "      <td>1996</td>\n",
       "    </tr>\n",
       "    <tr>\n",
       "      <th>2</th>\n",
       "      <td>PUL0003</td>\n",
       "      <td>GH30_8,GH43_16|CBM6</td>\n",
       "      <td>xylan</td>\n",
       "      <td>xylan</td>\n",
       "      <td>2016</td>\n",
       "    </tr>\n",
       "    <tr>\n",
       "      <th>3</th>\n",
       "      <td>PUL0004</td>\n",
       "      <td>4.A.1,GH1</td>\n",
       "      <td>glucose,cellobiose,maltose</td>\n",
       "      <td>multiple_substrates</td>\n",
       "      <td>2016</td>\n",
       "    </tr>\n",
       "    <tr>\n",
       "      <th>4</th>\n",
       "      <td>PUL0005</td>\n",
       "      <td>GH94,GH3</td>\n",
       "      <td>beta-glucan,sophorose,laminaribiose</td>\n",
       "      <td>multiple_substrates</td>\n",
       "      <td>2016</td>\n",
       "    </tr>\n",
       "  </tbody>\n",
       "</table>\n",
       "</div>"
      ],
      "text/plain": [
       "     PULid                                       sig_gene_seq  \\\n",
       "0  PUL0001  GH1,8.A.49,CE2,GH130,GH130,3.A.1,3.A.1,SBP_bac...   \n",
       "1  PUL0002                                               GH16   \n",
       "2  PUL0003                                GH30_8,GH43_16|CBM6   \n",
       "3  PUL0004                                          4.A.1,GH1   \n",
       "4  PUL0005                                           GH94,GH3   \n",
       "\n",
       "                      low_level_substr    high_level_substr Pub_year  \n",
       "0                          beta-mannan          beta-mannan     2019  \n",
       "1                             lichenan         beta-glucan      1996  \n",
       "2                                xylan                xylan     2016  \n",
       "3           glucose,cellobiose,maltose  multiple_substrates     2016  \n",
       "4  beta-glucan,sophorose,laminaribiose  multiple_substrates     2016  "
      ]
     },
     "execution_count": 401,
     "metadata": {},
     "output_type": "execute_result"
    }
   ],
   "source": [
    "# take a look\n",
    "data.head()"
   ]
  },
  {
   "cell_type": "code",
   "execution_count": 402,
   "id": "9c894d74",
   "metadata": {},
   "outputs": [],
   "source": [
    "to_keep = data[\"high_level_substr\"].value_counts()[2:12].keys().tolist()"
   ]
  },
  {
   "cell_type": "code",
   "execution_count": 403,
   "id": "244ffab7",
   "metadata": {},
   "outputs": [],
   "source": [
    "data[\"high_level_substr_mod\"] = [substr if substr in to_keep else \"others\" for substr in data[\"high_level_substr\"]]"
   ]
  },
  {
   "cell_type": "code",
   "execution_count": 404,
   "id": "e973ef7d",
   "metadata": {},
   "outputs": [],
   "source": [
    "data = data[data[\"high_level_substr_mod\"]!= \"others\"]"
   ]
  },
  {
   "cell_type": "code",
   "execution_count": 405,
   "id": "ed215c20",
   "metadata": {},
   "outputs": [
    {
     "data": {
      "text/html": [
       "<div>\n",
       "<style scoped>\n",
       "    .dataframe tbody tr th:only-of-type {\n",
       "        vertical-align: middle;\n",
       "    }\n",
       "\n",
       "    .dataframe tbody tr th {\n",
       "        vertical-align: top;\n",
       "    }\n",
       "\n",
       "    .dataframe thead th {\n",
       "        text-align: right;\n",
       "    }\n",
       "</style>\n",
       "<table border=\"1\" class=\"dataframe\">\n",
       "  <thead>\n",
       "    <tr style=\"text-align: right;\">\n",
       "      <th></th>\n",
       "      <th>PULid</th>\n",
       "      <th>sig_gene_seq</th>\n",
       "      <th>low_level_substr</th>\n",
       "      <th>high_level_substr</th>\n",
       "      <th>Pub_year</th>\n",
       "      <th>high_level_substr_mod</th>\n",
       "    </tr>\n",
       "  </thead>\n",
       "  <tbody>\n",
       "    <tr>\n",
       "      <th>0</th>\n",
       "      <td>PUL0001</td>\n",
       "      <td>GH1,8.A.49,CE2,GH130,GH130,3.A.1,3.A.1,SBP_bac...</td>\n",
       "      <td>beta-mannan</td>\n",
       "      <td>beta-mannan</td>\n",
       "      <td>2019</td>\n",
       "      <td>beta-mannan</td>\n",
       "    </tr>\n",
       "    <tr>\n",
       "      <th>2</th>\n",
       "      <td>PUL0003</td>\n",
       "      <td>GH30_8,GH43_16|CBM6</td>\n",
       "      <td>xylan</td>\n",
       "      <td>xylan</td>\n",
       "      <td>2016</td>\n",
       "      <td>xylan</td>\n",
       "    </tr>\n",
       "    <tr>\n",
       "      <th>5</th>\n",
       "      <td>PUL0006</td>\n",
       "      <td>GH1,SIS|HTH_6,3.A.1,8.A.59,HTH_18|Response_reg...</td>\n",
       "      <td>galactan</td>\n",
       "      <td>galactan</td>\n",
       "      <td>2014</td>\n",
       "      <td>galactan</td>\n",
       "    </tr>\n",
       "    <tr>\n",
       "      <th>6</th>\n",
       "      <td>PUL0007</td>\n",
       "      <td>GH53,2.A.2,GH42,LacI</td>\n",
       "      <td>galactan</td>\n",
       "      <td>galactan</td>\n",
       "      <td>2016</td>\n",
       "      <td>galactan</td>\n",
       "    </tr>\n",
       "    <tr>\n",
       "      <th>9</th>\n",
       "      <td>PUL0010</td>\n",
       "      <td>GH43_11,GH10,9.B.28,GntR,PfkB,GH39,GH67,3.A.1,...</td>\n",
       "      <td>xylan</td>\n",
       "      <td>xylan</td>\n",
       "      <td>2017</td>\n",
       "      <td>xylan</td>\n",
       "    </tr>\n",
       "    <tr>\n",
       "      <th>...</th>\n",
       "      <td>...</td>\n",
       "      <td>...</td>\n",
       "      <td>...</td>\n",
       "      <td>...</td>\n",
       "      <td>...</td>\n",
       "      <td>...</td>\n",
       "    </tr>\n",
       "    <tr>\n",
       "      <th>648</th>\n",
       "      <td>PUL0651</td>\n",
       "      <td>GH16_16|CBM6|CBM6,3.D.1,GH50,1.B.14,CBM6,GH16_...</td>\n",
       "      <td>agar</td>\n",
       "      <td>algal glycans</td>\n",
       "      <td>2021</td>\n",
       "      <td>algal glycans</td>\n",
       "    </tr>\n",
       "    <tr>\n",
       "      <th>649</th>\n",
       "      <td>PUL0652</td>\n",
       "      <td>GH2,2.A.21,3.D.1,GH96,GH96,2.A.1,GH50,GH50,GH5...</td>\n",
       "      <td>agar</td>\n",
       "      <td>algal glycans</td>\n",
       "      <td>2021</td>\n",
       "      <td>algal glycans</td>\n",
       "    </tr>\n",
       "    <tr>\n",
       "      <th>650</th>\n",
       "      <td>PUL0653</td>\n",
       "      <td>GH16_16,HTH_8,PfkB,GH2,GH117|GH117,3.A.1,3.A.1...</td>\n",
       "      <td>agar</td>\n",
       "      <td>algal glycans</td>\n",
       "      <td>2021</td>\n",
       "      <td>algal glycans</td>\n",
       "    </tr>\n",
       "    <tr>\n",
       "      <th>651</th>\n",
       "      <td>PUL0654</td>\n",
       "      <td>GerE,1.B.14,GH144,GH144,CE1,GH3,BLUF,PL6|PL6_1...</td>\n",
       "      <td>alginate</td>\n",
       "      <td>algal glycans</td>\n",
       "      <td>2021</td>\n",
       "      <td>algal glycans</td>\n",
       "    </tr>\n",
       "    <tr>\n",
       "      <th>652</th>\n",
       "      <td>PUL0655</td>\n",
       "      <td>1.B.14,PL7,PL7,GntR</td>\n",
       "      <td>alginate</td>\n",
       "      <td>algal glycans</td>\n",
       "      <td>2021</td>\n",
       "      <td>algal glycans</td>\n",
       "    </tr>\n",
       "  </tbody>\n",
       "</table>\n",
       "<p>324 rows × 6 columns</p>\n",
       "</div>"
      ],
      "text/plain": [
       "       PULid                                       sig_gene_seq  \\\n",
       "0    PUL0001  GH1,8.A.49,CE2,GH130,GH130,3.A.1,3.A.1,SBP_bac...   \n",
       "2    PUL0003                                GH30_8,GH43_16|CBM6   \n",
       "5    PUL0006  GH1,SIS|HTH_6,3.A.1,8.A.59,HTH_18|Response_reg...   \n",
       "6    PUL0007                               GH53,2.A.2,GH42,LacI   \n",
       "9    PUL0010  GH43_11,GH10,9.B.28,GntR,PfkB,GH39,GH67,3.A.1,...   \n",
       "..       ...                                                ...   \n",
       "648  PUL0651  GH16_16|CBM6|CBM6,3.D.1,GH50,1.B.14,CBM6,GH16_...   \n",
       "649  PUL0652  GH2,2.A.21,3.D.1,GH96,GH96,2.A.1,GH50,GH50,GH5...   \n",
       "650  PUL0653  GH16_16,HTH_8,PfkB,GH2,GH117|GH117,3.A.1,3.A.1...   \n",
       "651  PUL0654  GerE,1.B.14,GH144,GH144,CE1,GH3,BLUF,PL6|PL6_1...   \n",
       "652  PUL0655                                1.B.14,PL7,PL7,GntR   \n",
       "\n",
       "    low_level_substr high_level_substr Pub_year high_level_substr_mod  \n",
       "0        beta-mannan       beta-mannan     2019           beta-mannan  \n",
       "2              xylan             xylan     2016                 xylan  \n",
       "5           galactan          galactan     2014              galactan  \n",
       "6           galactan          galactan     2016              galactan  \n",
       "9              xylan             xylan     2017                 xylan  \n",
       "..               ...               ...      ...                   ...  \n",
       "648             agar     algal glycans     2021         algal glycans  \n",
       "649             agar     algal glycans     2021         algal glycans  \n",
       "650             agar     algal glycans     2021         algal glycans  \n",
       "651         alginate     algal glycans     2021         algal glycans  \n",
       "652         alginate     algal glycans     2021         algal glycans  \n",
       "\n",
       "[324 rows x 6 columns]"
      ]
     },
     "execution_count": 405,
     "metadata": {},
     "output_type": "execute_result"
    }
   ],
   "source": [
    "data"
   ]
  },
  {
   "cell_type": "code",
   "execution_count": 406,
   "id": "5a62f632",
   "metadata": {},
   "outputs": [],
   "source": [
    "from sklearn.model_selection import train_test_split\n",
    "\n",
    "X_train, X_test, y_train, y_test = train_test_split(data[\"sig_gene_seq\"], data[\"high_level_substr_mod\"], test_size=0.4,\n",
    "                                                    stratify = data[\"high_level_substr_mod\"], \n",
    "                                                   random_state=42)"
   ]
  },
  {
   "cell_type": "code",
   "execution_count": 407,
   "id": "86fa0d76",
   "metadata": {},
   "outputs": [],
   "source": [
    "from sklearn.pipeline import Pipeline, FeatureUnion"
   ]
  },
  {
   "cell_type": "code",
   "execution_count": 408,
   "id": "5b87fcb0",
   "metadata": {},
   "outputs": [],
   "source": [
    "from sklearn.feature_extraction.text import CountVectorizer"
   ]
  },
  {
   "cell_type": "code",
   "execution_count": 409,
   "id": "1e2b2620",
   "metadata": {},
   "outputs": [],
   "source": [
    "vectorizer_word = CountVectorizer(tokenizer=lambda x: str(x).replace(\"|\", \",\").split(','), lowercase = False)"
   ]
  },
  {
   "cell_type": "code",
   "execution_count": 410,
   "id": "2c96c6a2",
   "metadata": {},
   "outputs": [],
   "source": [
    "vectorizer_char = CountVectorizer(preprocessor = None, lowercase = False, analyzer=\"char\")"
   ]
  },
  {
   "cell_type": "code",
   "execution_count": 411,
   "id": "6a232b35",
   "metadata": {},
   "outputs": [],
   "source": [
    "combined_vectorizers = FeatureUnion([(\"vect_word\", vectorizer_word), (\"vect_char\", vectorizer_char)])\n"
   ]
  },
  {
   "cell_type": "code",
   "execution_count": 412,
   "id": "0f9b1595",
   "metadata": {},
   "outputs": [
    {
     "data": {
      "text/plain": [
       "<324x356 sparse matrix of type '<class 'numpy.int64'>'\n",
       "\twith 7223 stored elements in Compressed Sparse Row format>"
      ]
     },
     "execution_count": 412,
     "metadata": {},
     "output_type": "execute_result"
    }
   ],
   "source": [
    "combined_vectorizers.fit_transform(data[\"sig_gene_seq\"])"
   ]
  },
  {
   "cell_type": "code",
   "execution_count": 413,
   "id": "8b2f1327",
   "metadata": {},
   "outputs": [],
   "source": [
    "from sklearn.ensemble import RandomForestClassifier"
   ]
  },
  {
   "cell_type": "code",
   "execution_count": 414,
   "id": "3d89164c",
   "metadata": {},
   "outputs": [],
   "source": [
    "from sklearn.multiclass import OneVsRestClassifier, OneVsOneClassifier"
   ]
  },
  {
   "cell_type": "code",
   "execution_count": 415,
   "id": "c83b7bca",
   "metadata": {},
   "outputs": [],
   "source": [
    "rf = RandomForestClassifier(n_jobs=6)"
   ]
  },
  {
   "cell_type": "code",
   "execution_count": 416,
   "id": "6b8767eb",
   "metadata": {},
   "outputs": [],
   "source": [
    "from sklearn.model_selection import GridSearchCV"
   ]
  },
  {
   "cell_type": "code",
   "execution_count": 417,
   "id": "e46deb55",
   "metadata": {},
   "outputs": [],
   "source": [
    "class_weights = dict(1/y_train.value_counts())\n"
   ]
  },
  {
   "cell_type": "code",
   "execution_count": 418,
   "id": "94b9477d",
   "metadata": {},
   "outputs": [],
   "source": [
    "# pipeline\n",
    "clf = Pipeline([('combo_vectorizers',combined_vectorizers),\n",
    "                ('rf',OneVsOneClassifier(estimator=rf, n_jobs = 6))])\n",
    "# Parameters of pipelines can be set using ‘__’ separated parameter names:\n",
    "param_grid = {\n",
    "'combo_vectorizers__vect_word__min_df': [1,2],\n",
    "'combo_vectorizers__vect_char__min_df': [1,2]\n",
    "# 'rf__n_estimators': [100,200,400], \n",
    "# 'rf__max_features': [\"auto\", \"log2\"]\n",
    "}"
   ]
  },
  {
   "cell_type": "code",
   "execution_count": 419,
   "id": "1072a7af",
   "metadata": {},
   "outputs": [
    {
     "name": "stdout",
     "output_type": "stream",
     "text": [
      "Fitting 5 folds for each of 4 candidates, totalling 20 fits\n"
     ]
    },
    {
     "ename": "KeyboardInterrupt",
     "evalue": "",
     "output_type": "error",
     "traceback": [
      "\u001b[1;31m---------------------------------------------------------------------------\u001b[0m",
      "\u001b[1;31mKeyboardInterrupt\u001b[0m                         Traceback (most recent call last)",
      "\u001b[1;32m~\\AppData\\Local\\Temp/ipykernel_3152/2289140140.py\u001b[0m in \u001b[0;36m<module>\u001b[1;34m\u001b[0m\n\u001b[0;32m      1\u001b[0m \u001b[1;31m# fit the search\u001b[0m\u001b[1;33m\u001b[0m\u001b[1;33m\u001b[0m\u001b[0m\n\u001b[0;32m      2\u001b[0m \u001b[0msearch\u001b[0m \u001b[1;33m=\u001b[0m \u001b[0mGridSearchCV\u001b[0m\u001b[1;33m(\u001b[0m\u001b[0mclf\u001b[0m\u001b[1;33m,\u001b[0m \u001b[0mparam_grid\u001b[0m\u001b[1;33m,\u001b[0m \u001b[0mn_jobs\u001b[0m\u001b[1;33m=\u001b[0m\u001b[1;36m6\u001b[0m \u001b[1;33m,\u001b[0m \u001b[0mverbose\u001b[0m \u001b[1;33m=\u001b[0m \u001b[1;36m3\u001b[0m\u001b[1;33m,\u001b[0m \u001b[0mcv\u001b[0m \u001b[1;33m=\u001b[0m \u001b[1;36m5\u001b[0m\u001b[1;33m,\u001b[0m \u001b[0mscoring\u001b[0m \u001b[1;33m=\u001b[0m \u001b[1;34m\"accuracy\"\u001b[0m\u001b[1;33m)\u001b[0m\u001b[1;33m\u001b[0m\u001b[1;33m\u001b[0m\u001b[0m\n\u001b[1;32m----> 3\u001b[1;33m \u001b[0msearch\u001b[0m\u001b[1;33m.\u001b[0m\u001b[0mfit\u001b[0m\u001b[1;33m(\u001b[0m\u001b[0mX_train\u001b[0m\u001b[1;33m,\u001b[0m \u001b[0my_train\u001b[0m\u001b[1;33m)\u001b[0m\u001b[1;33m\u001b[0m\u001b[1;33m\u001b[0m\u001b[0m\n\u001b[0m",
      "\u001b[1;32m~\\anaconda3\\envs\\newone\\lib\\site-packages\\sklearn\\model_selection\\_search.py\u001b[0m in \u001b[0;36mfit\u001b[1;34m(self, X, y, groups, **fit_params)\u001b[0m\n\u001b[0;32m    889\u001b[0m                 \u001b[1;32mreturn\u001b[0m \u001b[0mresults\u001b[0m\u001b[1;33m\u001b[0m\u001b[1;33m\u001b[0m\u001b[0m\n\u001b[0;32m    890\u001b[0m \u001b[1;33m\u001b[0m\u001b[0m\n\u001b[1;32m--> 891\u001b[1;33m             \u001b[0mself\u001b[0m\u001b[1;33m.\u001b[0m\u001b[0m_run_search\u001b[0m\u001b[1;33m(\u001b[0m\u001b[0mevaluate_candidates\u001b[0m\u001b[1;33m)\u001b[0m\u001b[1;33m\u001b[0m\u001b[1;33m\u001b[0m\u001b[0m\n\u001b[0m\u001b[0;32m    892\u001b[0m \u001b[1;33m\u001b[0m\u001b[0m\n\u001b[0;32m    893\u001b[0m             \u001b[1;31m# multimetric is determined here because in the case of a callable\u001b[0m\u001b[1;33m\u001b[0m\u001b[1;33m\u001b[0m\u001b[0m\n",
      "\u001b[1;32m~\\anaconda3\\envs\\newone\\lib\\site-packages\\sklearn\\model_selection\\_search.py\u001b[0m in \u001b[0;36m_run_search\u001b[1;34m(self, evaluate_candidates)\u001b[0m\n\u001b[0;32m   1390\u001b[0m     \u001b[1;32mdef\u001b[0m \u001b[0m_run_search\u001b[0m\u001b[1;33m(\u001b[0m\u001b[0mself\u001b[0m\u001b[1;33m,\u001b[0m \u001b[0mevaluate_candidates\u001b[0m\u001b[1;33m)\u001b[0m\u001b[1;33m:\u001b[0m\u001b[1;33m\u001b[0m\u001b[1;33m\u001b[0m\u001b[0m\n\u001b[0;32m   1391\u001b[0m         \u001b[1;34m\"\"\"Search all candidates in param_grid\"\"\"\u001b[0m\u001b[1;33m\u001b[0m\u001b[1;33m\u001b[0m\u001b[0m\n\u001b[1;32m-> 1392\u001b[1;33m         \u001b[0mevaluate_candidates\u001b[0m\u001b[1;33m(\u001b[0m\u001b[0mParameterGrid\u001b[0m\u001b[1;33m(\u001b[0m\u001b[0mself\u001b[0m\u001b[1;33m.\u001b[0m\u001b[0mparam_grid\u001b[0m\u001b[1;33m)\u001b[0m\u001b[1;33m)\u001b[0m\u001b[1;33m\u001b[0m\u001b[1;33m\u001b[0m\u001b[0m\n\u001b[0m\u001b[0;32m   1393\u001b[0m \u001b[1;33m\u001b[0m\u001b[0m\n\u001b[0;32m   1394\u001b[0m \u001b[1;33m\u001b[0m\u001b[0m\n",
      "\u001b[1;32m~\\anaconda3\\envs\\newone\\lib\\site-packages\\sklearn\\model_selection\\_search.py\u001b[0m in \u001b[0;36mevaluate_candidates\u001b[1;34m(candidate_params, cv, more_results)\u001b[0m\n\u001b[0;32m    836\u001b[0m                     )\n\u001b[0;32m    837\u001b[0m \u001b[1;33m\u001b[0m\u001b[0m\n\u001b[1;32m--> 838\u001b[1;33m                 out = parallel(\n\u001b[0m\u001b[0;32m    839\u001b[0m                     delayed(_fit_and_score)(\n\u001b[0;32m    840\u001b[0m                         \u001b[0mclone\u001b[0m\u001b[1;33m(\u001b[0m\u001b[0mbase_estimator\u001b[0m\u001b[1;33m)\u001b[0m\u001b[1;33m,\u001b[0m\u001b[1;33m\u001b[0m\u001b[1;33m\u001b[0m\u001b[0m\n",
      "\u001b[1;32m~\\anaconda3\\envs\\newone\\lib\\site-packages\\joblib\\parallel.py\u001b[0m in \u001b[0;36m__call__\u001b[1;34m(self, iterable)\u001b[0m\n\u001b[0;32m   1054\u001b[0m \u001b[1;33m\u001b[0m\u001b[0m\n\u001b[0;32m   1055\u001b[0m             \u001b[1;32mwith\u001b[0m \u001b[0mself\u001b[0m\u001b[1;33m.\u001b[0m\u001b[0m_backend\u001b[0m\u001b[1;33m.\u001b[0m\u001b[0mretrieval_context\u001b[0m\u001b[1;33m(\u001b[0m\u001b[1;33m)\u001b[0m\u001b[1;33m:\u001b[0m\u001b[1;33m\u001b[0m\u001b[1;33m\u001b[0m\u001b[0m\n\u001b[1;32m-> 1056\u001b[1;33m                 \u001b[0mself\u001b[0m\u001b[1;33m.\u001b[0m\u001b[0mretrieve\u001b[0m\u001b[1;33m(\u001b[0m\u001b[1;33m)\u001b[0m\u001b[1;33m\u001b[0m\u001b[1;33m\u001b[0m\u001b[0m\n\u001b[0m\u001b[0;32m   1057\u001b[0m             \u001b[1;31m# Make sure that we get a last message telling us we are done\u001b[0m\u001b[1;33m\u001b[0m\u001b[1;33m\u001b[0m\u001b[0m\n\u001b[0;32m   1058\u001b[0m             \u001b[0melapsed_time\u001b[0m \u001b[1;33m=\u001b[0m \u001b[0mtime\u001b[0m\u001b[1;33m.\u001b[0m\u001b[0mtime\u001b[0m\u001b[1;33m(\u001b[0m\u001b[1;33m)\u001b[0m \u001b[1;33m-\u001b[0m \u001b[0mself\u001b[0m\u001b[1;33m.\u001b[0m\u001b[0m_start_time\u001b[0m\u001b[1;33m\u001b[0m\u001b[1;33m\u001b[0m\u001b[0m\n",
      "\u001b[1;32m~\\anaconda3\\envs\\newone\\lib\\site-packages\\joblib\\parallel.py\u001b[0m in \u001b[0;36mretrieve\u001b[1;34m(self)\u001b[0m\n\u001b[0;32m    933\u001b[0m             \u001b[1;32mtry\u001b[0m\u001b[1;33m:\u001b[0m\u001b[1;33m\u001b[0m\u001b[1;33m\u001b[0m\u001b[0m\n\u001b[0;32m    934\u001b[0m                 \u001b[1;32mif\u001b[0m \u001b[0mgetattr\u001b[0m\u001b[1;33m(\u001b[0m\u001b[0mself\u001b[0m\u001b[1;33m.\u001b[0m\u001b[0m_backend\u001b[0m\u001b[1;33m,\u001b[0m \u001b[1;34m'supports_timeout'\u001b[0m\u001b[1;33m,\u001b[0m \u001b[1;32mFalse\u001b[0m\u001b[1;33m)\u001b[0m\u001b[1;33m:\u001b[0m\u001b[1;33m\u001b[0m\u001b[1;33m\u001b[0m\u001b[0m\n\u001b[1;32m--> 935\u001b[1;33m                     \u001b[0mself\u001b[0m\u001b[1;33m.\u001b[0m\u001b[0m_output\u001b[0m\u001b[1;33m.\u001b[0m\u001b[0mextend\u001b[0m\u001b[1;33m(\u001b[0m\u001b[0mjob\u001b[0m\u001b[1;33m.\u001b[0m\u001b[0mget\u001b[0m\u001b[1;33m(\u001b[0m\u001b[0mtimeout\u001b[0m\u001b[1;33m=\u001b[0m\u001b[0mself\u001b[0m\u001b[1;33m.\u001b[0m\u001b[0mtimeout\u001b[0m\u001b[1;33m)\u001b[0m\u001b[1;33m)\u001b[0m\u001b[1;33m\u001b[0m\u001b[1;33m\u001b[0m\u001b[0m\n\u001b[0m\u001b[0;32m    936\u001b[0m                 \u001b[1;32melse\u001b[0m\u001b[1;33m:\u001b[0m\u001b[1;33m\u001b[0m\u001b[1;33m\u001b[0m\u001b[0m\n\u001b[0;32m    937\u001b[0m                     \u001b[0mself\u001b[0m\u001b[1;33m.\u001b[0m\u001b[0m_output\u001b[0m\u001b[1;33m.\u001b[0m\u001b[0mextend\u001b[0m\u001b[1;33m(\u001b[0m\u001b[0mjob\u001b[0m\u001b[1;33m.\u001b[0m\u001b[0mget\u001b[0m\u001b[1;33m(\u001b[0m\u001b[1;33m)\u001b[0m\u001b[1;33m)\u001b[0m\u001b[1;33m\u001b[0m\u001b[1;33m\u001b[0m\u001b[0m\n",
      "\u001b[1;32m~\\anaconda3\\envs\\newone\\lib\\site-packages\\joblib\\_parallel_backends.py\u001b[0m in \u001b[0;36mwrap_future_result\u001b[1;34m(future, timeout)\u001b[0m\n\u001b[0;32m    540\u001b[0m         AsyncResults.get from multiprocessing.\"\"\"\n\u001b[0;32m    541\u001b[0m         \u001b[1;32mtry\u001b[0m\u001b[1;33m:\u001b[0m\u001b[1;33m\u001b[0m\u001b[1;33m\u001b[0m\u001b[0m\n\u001b[1;32m--> 542\u001b[1;33m             \u001b[1;32mreturn\u001b[0m \u001b[0mfuture\u001b[0m\u001b[1;33m.\u001b[0m\u001b[0mresult\u001b[0m\u001b[1;33m(\u001b[0m\u001b[0mtimeout\u001b[0m\u001b[1;33m=\u001b[0m\u001b[0mtimeout\u001b[0m\u001b[1;33m)\u001b[0m\u001b[1;33m\u001b[0m\u001b[1;33m\u001b[0m\u001b[0m\n\u001b[0m\u001b[0;32m    543\u001b[0m         \u001b[1;32mexcept\u001b[0m \u001b[0mCfTimeoutError\u001b[0m \u001b[1;32mas\u001b[0m \u001b[0me\u001b[0m\u001b[1;33m:\u001b[0m\u001b[1;33m\u001b[0m\u001b[1;33m\u001b[0m\u001b[0m\n\u001b[0;32m    544\u001b[0m             \u001b[1;32mraise\u001b[0m \u001b[0mTimeoutError\u001b[0m \u001b[1;32mfrom\u001b[0m \u001b[0me\u001b[0m\u001b[1;33m\u001b[0m\u001b[1;33m\u001b[0m\u001b[0m\n",
      "\u001b[1;32m~\\anaconda3\\envs\\newone\\lib\\concurrent\\futures\\_base.py\u001b[0m in \u001b[0;36mresult\u001b[1;34m(self, timeout)\u001b[0m\n\u001b[0;32m    438\u001b[0m                     \u001b[1;32mreturn\u001b[0m \u001b[0mself\u001b[0m\u001b[1;33m.\u001b[0m\u001b[0m__get_result\u001b[0m\u001b[1;33m(\u001b[0m\u001b[1;33m)\u001b[0m\u001b[1;33m\u001b[0m\u001b[1;33m\u001b[0m\u001b[0m\n\u001b[0;32m    439\u001b[0m \u001b[1;33m\u001b[0m\u001b[0m\n\u001b[1;32m--> 440\u001b[1;33m                 \u001b[0mself\u001b[0m\u001b[1;33m.\u001b[0m\u001b[0m_condition\u001b[0m\u001b[1;33m.\u001b[0m\u001b[0mwait\u001b[0m\u001b[1;33m(\u001b[0m\u001b[0mtimeout\u001b[0m\u001b[1;33m)\u001b[0m\u001b[1;33m\u001b[0m\u001b[1;33m\u001b[0m\u001b[0m\n\u001b[0m\u001b[0;32m    441\u001b[0m \u001b[1;33m\u001b[0m\u001b[0m\n\u001b[0;32m    442\u001b[0m                 \u001b[1;32mif\u001b[0m \u001b[0mself\u001b[0m\u001b[1;33m.\u001b[0m\u001b[0m_state\u001b[0m \u001b[1;32min\u001b[0m \u001b[1;33m[\u001b[0m\u001b[0mCANCELLED\u001b[0m\u001b[1;33m,\u001b[0m \u001b[0mCANCELLED_AND_NOTIFIED\u001b[0m\u001b[1;33m]\u001b[0m\u001b[1;33m:\u001b[0m\u001b[1;33m\u001b[0m\u001b[1;33m\u001b[0m\u001b[0m\n",
      "\u001b[1;32m~\\anaconda3\\envs\\newone\\lib\\threading.py\u001b[0m in \u001b[0;36mwait\u001b[1;34m(self, timeout)\u001b[0m\n\u001b[0;32m    310\u001b[0m         \u001b[1;32mtry\u001b[0m\u001b[1;33m:\u001b[0m    \u001b[1;31m# restore state no matter what (e.g., KeyboardInterrupt)\u001b[0m\u001b[1;33m\u001b[0m\u001b[1;33m\u001b[0m\u001b[0m\n\u001b[0;32m    311\u001b[0m             \u001b[1;32mif\u001b[0m \u001b[0mtimeout\u001b[0m \u001b[1;32mis\u001b[0m \u001b[1;32mNone\u001b[0m\u001b[1;33m:\u001b[0m\u001b[1;33m\u001b[0m\u001b[1;33m\u001b[0m\u001b[0m\n\u001b[1;32m--> 312\u001b[1;33m                 \u001b[0mwaiter\u001b[0m\u001b[1;33m.\u001b[0m\u001b[0macquire\u001b[0m\u001b[1;33m(\u001b[0m\u001b[1;33m)\u001b[0m\u001b[1;33m\u001b[0m\u001b[1;33m\u001b[0m\u001b[0m\n\u001b[0m\u001b[0;32m    313\u001b[0m                 \u001b[0mgotit\u001b[0m \u001b[1;33m=\u001b[0m \u001b[1;32mTrue\u001b[0m\u001b[1;33m\u001b[0m\u001b[1;33m\u001b[0m\u001b[0m\n\u001b[0;32m    314\u001b[0m             \u001b[1;32melse\u001b[0m\u001b[1;33m:\u001b[0m\u001b[1;33m\u001b[0m\u001b[1;33m\u001b[0m\u001b[0m\n",
      "\u001b[1;31mKeyboardInterrupt\u001b[0m: "
     ]
    }
   ],
   "source": [
    "# fit the search\n",
    "search = GridSearchCV(clf, param_grid, n_jobs=6 , verbose = 3, cv = 5, scoring = \"accuracy\")\n",
    "search.fit(X_train, y_train)"
   ]
  },
  {
   "cell_type": "code",
   "execution_count": null,
   "id": "24ef0b3e",
   "metadata": {},
   "outputs": [],
   "source": [
    "search.best_score_"
   ]
  },
  {
   "cell_type": "code",
   "execution_count": 387,
   "id": "21a4e7a7",
   "metadata": {},
   "outputs": [],
   "source": [
    "y_test_pred = search.predict(X_test)"
   ]
  },
  {
   "cell_type": "code",
   "execution_count": 388,
   "id": "ea7bde05",
   "metadata": {},
   "outputs": [],
   "source": [
    "from sklearn.metrics import confusion_matrix"
   ]
  },
  {
   "cell_type": "code",
   "execution_count": 389,
   "id": "6d665662",
   "metadata": {},
   "outputs": [
    {
     "data": {
      "image/png": "[encoded data removed]",
      "text/plain": [
       "<Figure size 720x720 with 2 Axes>"
      ]
     },
     "metadata": {
      "needs_background": "light"
     },
     "output_type": "display_data"
    }
   ],
   "source": [
    "# get the array oaf confusion matrix\n",
    "cm = confusion_matrix(y_test, y_test_pred, normalize = 'true')\n",
    "\n",
    "# dataframe for confusion matrix\n",
    "df_cm = pd.DataFrame(cm, index = [i for i in search.classes_],\n",
    "                  columns = [i for i in search.classes_])\n",
    "\n",
    "# seaborn that helps with aesthetically pleasing plots\n",
    "import seaborn as sns\n",
    "\n",
    "import matplotlib.pyplot as plt\n",
    "\n",
    "# make the plot\n",
    "plt.figure(figsize = (10, 10))\n",
    "sns.heatmap(df_cm, annot = True)\n",
    "plt.title(\"confusion matrix for the test set\", fontsize = 20)\n",
    "plt.xlabel(\"Predicted Label\", fontsize = 20)\n",
    "plt.ylabel(\"True Label\", fontsize = 20)\n",
    "plt.show()\n"
   ]
  },
  {
   "cell_type": "code",
   "execution_count": 279,
   "id": "b09a98eb",
   "metadata": {},
   "outputs": [],
   "source": [
    "catch = []\n",
    "for substr in data[\"high_level_substr\"].value_counts().keys().tolist(): \n",
    "    data_substr = data[data[\"high_level_substr\"] == substr]\n",
    "    dict1 = [substr , np.mean(data_substr[\"high_level_substr\"] == data_substr[\"low_level_substr\"]), data_substr.shape[0]]\n",
    "    catch.append(dict1)"
   ]
  },
  {
   "cell_type": "code",
   "execution_count": 280,
   "id": "d77a8695",
   "metadata": {},
   "outputs": [],
   "source": [
    "to_keep = [\"O-antigen\", \"N-glycan\", \"capsule polysaccharide\", \"chitin\", \"exopolysaccharide\", \"pectin\", \n",
    "          \"cellulose\", \"xylan\", \"glycosaminoglycan\", \"beta-mannan\"]"
   ]
  },
  {
   "cell_type": "code",
   "execution_count": 281,
   "id": "2a0b629f",
   "metadata": {},
   "outputs": [
    {
     "data": {
      "text/html": [
       "<div>\n",
       "<style scoped>\n",
       "    .dataframe tbody tr th:only-of-type {\n",
       "        vertical-align: middle;\n",
       "    }\n",
       "\n",
       "    .dataframe tbody tr th {\n",
       "        vertical-align: top;\n",
       "    }\n",
       "\n",
       "    .dataframe thead th {\n",
       "        text-align: right;\n",
       "    }\n",
       "</style>\n",
       "<table border=\"1\" class=\"dataframe\">\n",
       "  <thead>\n",
       "    <tr style=\"text-align: right;\">\n",
       "      <th></th>\n",
       "      <th>0</th>\n",
       "      <th>1</th>\n",
       "      <th>2</th>\n",
       "    </tr>\n",
       "  </thead>\n",
       "  <tbody>\n",
       "    <tr>\n",
       "      <th>25</th>\n",
       "      <td>O-glycan</td>\n",
       "      <td>1.000000</td>\n",
       "      <td>3</td>\n",
       "    </tr>\n",
       "    <tr>\n",
       "      <th>6</th>\n",
       "      <td>O-antigen</td>\n",
       "      <td>1.000000</td>\n",
       "      <td>37</td>\n",
       "    </tr>\n",
       "    <tr>\n",
       "      <th>19</th>\n",
       "      <td>host glycan</td>\n",
       "      <td>1.000000</td>\n",
       "      <td>7</td>\n",
       "    </tr>\n",
       "    <tr>\n",
       "      <th>18</th>\n",
       "      <td>alpha-mannan</td>\n",
       "      <td>1.000000</td>\n",
       "      <td>8</td>\n",
       "    </tr>\n",
       "    <tr>\n",
       "      <th>14</th>\n",
       "      <td>N-glycan</td>\n",
       "      <td>1.000000</td>\n",
       "      <td>12</td>\n",
       "    </tr>\n",
       "    <tr>\n",
       "      <th>21</th>\n",
       "      <td>plant polysaccharide</td>\n",
       "      <td>1.000000</td>\n",
       "      <td>6</td>\n",
       "    </tr>\n",
       "    <tr>\n",
       "      <th>20</th>\n",
       "      <td>xyloglucan</td>\n",
       "      <td>1.000000</td>\n",
       "      <td>7</td>\n",
       "    </tr>\n",
       "    <tr>\n",
       "      <th>24</th>\n",
       "      <td>hemicellulose</td>\n",
       "      <td>1.000000</td>\n",
       "      <td>5</td>\n",
       "    </tr>\n",
       "    <tr>\n",
       "      <th>2</th>\n",
       "      <td>capsule polysaccharide</td>\n",
       "      <td>1.000000</td>\n",
       "      <td>60</td>\n",
       "    </tr>\n",
       "    <tr>\n",
       "      <th>11</th>\n",
       "      <td>chitin</td>\n",
       "      <td>0.933333</td>\n",
       "      <td>15</td>\n",
       "    </tr>\n",
       "    <tr>\n",
       "      <th>15</th>\n",
       "      <td>exopolysaccharide</td>\n",
       "      <td>0.900000</td>\n",
       "      <td>10</td>\n",
       "    </tr>\n",
       "    <tr>\n",
       "      <th>4</th>\n",
       "      <td>pectin</td>\n",
       "      <td>0.736842</td>\n",
       "      <td>38</td>\n",
       "    </tr>\n",
       "    <tr>\n",
       "      <th>10</th>\n",
       "      <td>cellulose</td>\n",
       "      <td>0.666667</td>\n",
       "      <td>18</td>\n",
       "    </tr>\n",
       "    <tr>\n",
       "      <th>5</th>\n",
       "      <td>xylan</td>\n",
       "      <td>0.657895</td>\n",
       "      <td>38</td>\n",
       "    </tr>\n",
       "    <tr>\n",
       "      <th>23</th>\n",
       "      <td>human milk oligosaccharide</td>\n",
       "      <td>0.600000</td>\n",
       "      <td>5</td>\n",
       "    </tr>\n",
       "    <tr>\n",
       "      <th>12</th>\n",
       "      <td>glycosaminoglycan</td>\n",
       "      <td>0.428571</td>\n",
       "      <td>14</td>\n",
       "    </tr>\n",
       "    <tr>\n",
       "      <th>9</th>\n",
       "      <td>beta-mannan</td>\n",
       "      <td>0.421053</td>\n",
       "      <td>19</td>\n",
       "    </tr>\n",
       "    <tr>\n",
       "      <th>7</th>\n",
       "      <td>galactan</td>\n",
       "      <td>0.277778</td>\n",
       "      <td>36</td>\n",
       "    </tr>\n",
       "    <tr>\n",
       "      <th>8</th>\n",
       "      <td>alpha-glucan</td>\n",
       "      <td>0.130435</td>\n",
       "      <td>23</td>\n",
       "    </tr>\n",
       "    <tr>\n",
       "      <th>17</th>\n",
       "      <td>fructan</td>\n",
       "      <td>0.125000</td>\n",
       "      <td>8</td>\n",
       "    </tr>\n",
       "    <tr>\n",
       "      <th>22</th>\n",
       "      <td>glycoprotein</td>\n",
       "      <td>0.000000</td>\n",
       "      <td>6</td>\n",
       "    </tr>\n",
       "    <tr>\n",
       "      <th>0</th>\n",
       "      <td>multiple_substrates</td>\n",
       "      <td>0.000000</td>\n",
       "      <td>139</td>\n",
       "    </tr>\n",
       "    <tr>\n",
       "      <th>16</th>\n",
       "      <td>-</td>\n",
       "      <td>0.000000</td>\n",
       "      <td>9</td>\n",
       "    </tr>\n",
       "    <tr>\n",
       "      <th>1</th>\n",
       "      <td>mono/di/trisaccharide</td>\n",
       "      <td>0.000000</td>\n",
       "      <td>78</td>\n",
       "    </tr>\n",
       "    <tr>\n",
       "      <th>3</th>\n",
       "      <td>algal glycans</td>\n",
       "      <td>0.000000</td>\n",
       "      <td>40</td>\n",
       "    </tr>\n",
       "    <tr>\n",
       "      <th>13</th>\n",
       "      <td>beta-glucan</td>\n",
       "      <td>0.000000</td>\n",
       "      <td>13</td>\n",
       "    </tr>\n",
       "  </tbody>\n",
       "</table>\n",
       "</div>"
      ],
      "text/plain": [
       "                             0         1    2\n",
       "25                    O-glycan  1.000000    3\n",
       "6                    O-antigen  1.000000   37\n",
       "19                 host glycan  1.000000    7\n",
       "18                alpha-mannan  1.000000    8\n",
       "14                    N-glycan  1.000000   12\n",
       "21        plant polysaccharide  1.000000    6\n",
       "20                  xyloglucan  1.000000    7\n",
       "24               hemicellulose  1.000000    5\n",
       "2       capsule polysaccharide  1.000000   60\n",
       "11                      chitin  0.933333   15\n",
       "15           exopolysaccharide  0.900000   10\n",
       "4                       pectin  0.736842   38\n",
       "10                   cellulose  0.666667   18\n",
       "5                        xylan  0.657895   38\n",
       "23  human milk oligosaccharide  0.600000    5\n",
       "12           glycosaminoglycan  0.428571   14\n",
       "9                  beta-mannan  0.421053   19\n",
       "7                     galactan  0.277778   36\n",
       "8                 alpha-glucan  0.130435   23\n",
       "17                     fructan  0.125000    8\n",
       "22                glycoprotein  0.000000    6\n",
       "0          multiple_substrates  0.000000  139\n",
       "16                           -  0.000000    9\n",
       "1        mono/di/trisaccharide  0.000000   78\n",
       "3                algal glycans  0.000000   40\n",
       "13                beta-glucan   0.000000   13"
      ]
     },
     "execution_count": 281,
     "metadata": {},
     "output_type": "execute_result"
    }
   ],
   "source": [
    "pd.DataFrame(catch).sort_values(1, ascending = False)"
   ]
  },
  {
   "cell_type": "code",
   "execution_count": 282,
   "id": "cda28343",
   "metadata": {},
   "outputs": [],
   "source": [
    "# to_keep = data[\"high_level_substr\"].value_counts()[2:12].keys().tolist()"
   ]
  },
  {
   "cell_type": "code",
   "execution_count": 283,
   "id": "e18c95e9",
   "metadata": {},
   "outputs": [],
   "source": [
    "# to_keep"
   ]
  },
  {
   "cell_type": "code",
   "execution_count": 284,
   "id": "259fe38d",
   "metadata": {},
   "outputs": [],
   "source": [
    "binary = [1 if substr in to_keep else 0 for substr in data[\"high_level_substr\"]]"
   ]
  },
  {
   "cell_type": "code",
   "execution_count": 285,
   "id": "676983e7",
   "metadata": {},
   "outputs": [],
   "source": [
    "data[\"binary\"] = binary"
   ]
  },
  {
   "cell_type": "code",
   "execution_count": 286,
   "id": "682267ca",
   "metadata": {},
   "outputs": [],
   "source": [
    "data[\"high_level_substr_mod\"] = [substr if substr in to_keep else \"others\" for substr in data[\"high_level_substr\"]]"
   ]
  },
  {
   "cell_type": "code",
   "execution_count": 287,
   "id": "3e0d0714",
   "metadata": {},
   "outputs": [],
   "source": [
    "from sklearn.model_selection import train_test_split"
   ]
  },
  {
   "cell_type": "code",
   "execution_count": 288,
   "id": "35f4a53b",
   "metadata": {},
   "outputs": [],
   "source": [
    "X_train, X_test, y_train, y_test = train_test_split(data[\"sig_gene_seq\"], data[[\"binary\", \"high_level_substr_mod\"]], test_size=0.4, stratify = data[\"binary\"], \n",
    "                                                   random_state=42)"
   ]
  },
  {
   "cell_type": "code",
   "execution_count": 289,
   "id": "fa68bcb1",
   "metadata": {},
   "outputs": [
    {
     "data": {
      "text/plain": [
       "((392,), (262,))"
      ]
     },
     "execution_count": 289,
     "metadata": {},
     "output_type": "execute_result"
    }
   ],
   "source": [
    "X_train.shape,  X_test.shape"
   ]
  },
  {
   "cell_type": "code",
   "execution_count": 290,
   "id": "caf274a3",
   "metadata": {},
   "outputs": [
    {
     "data": {
      "text/plain": [
       "others                    236\n",
       "capsule polysaccharide     35\n",
       "pectin                     28\n",
       "xylan                      23\n",
       "O-antigen                  21\n",
       "cellulose                  10\n",
       "beta-mannan                10\n",
       "chitin                      9\n",
       "glycosaminoglycan           8\n",
       "exopolysaccharide           7\n",
       "N-glycan                    5\n",
       "Name: high_level_substr_mod, dtype: int64"
      ]
     },
     "execution_count": 290,
     "metadata": {},
     "output_type": "execute_result"
    }
   ],
   "source": [
    "y_train[\"high_level_substr_mod\"].value_counts()"
   ]
  },
  {
   "cell_type": "code",
   "execution_count": 291,
   "id": "ed0520db",
   "metadata": {},
   "outputs": [],
   "source": [
    "# import the requisite packages\n",
    "from sklearn.model_selection import GridSearchCV\n",
    "from sklearn.pipeline import make_pipeline, Pipeline\n",
    "from sklearn.ensemble import RandomForestClassifier"
   ]
  },
  {
   "cell_type": "code",
   "execution_count": 292,
   "id": "e7a4a30d",
   "metadata": {},
   "outputs": [],
   "source": [
    "# preprocessor\n",
    "from sklearn.feature_extraction.text import CountVectorizer"
   ]
  },
  {
   "cell_type": "code",
   "execution_count": 293,
   "id": "c961177d",
   "metadata": {},
   "outputs": [],
   "source": [
    "vectorizer = CountVectorizer(tokenizer=lambda x: str(x).replace(\"|\", \",\").split(','), lowercase = False)"
   ]
  },
  {
   "cell_type": "code",
   "execution_count": 296,
   "id": "1dcbf99d",
   "metadata": {},
   "outputs": [],
   "source": [
    "# pipeline\n",
    "clf = Pipeline([('countvectorizer',vectorizer),('rf',RandomForestClassifier(n_jobs = 6))])\n",
    "# Parameters of pipelines can be set using ‘__’ separated parameter names:\n",
    "param_grid = {\n",
    "'countvectorizer__min_df': [1,2],\n",
    "'rf__n_estimators': [100,200,400], \n",
    "'rf__max_features': [\"auto\", \"log2\"]\n",
    "}\n",
    "# fit the search\n",
    "search_binary = GridSearchCV(clf, param_grid, n_jobs=7 , verbose = 3, cv = 5, scoring = \"balanced_accuracy\")"
   ]
  },
  {
   "cell_type": "code",
   "execution_count": 297,
   "id": "8f0b1d52",
   "metadata": {},
   "outputs": [
    {
     "name": "stdout",
     "output_type": "stream",
     "text": [
      "Fitting 5 folds for each of 12 candidates, totalling 60 fits\n"
     ]
    },
    {
     "data": {
      "text/plain": [
       "GridSearchCV(cv=5,\n",
       "             estimator=Pipeline(steps=[('countvectorizer',\n",
       "                                        CountVectorizer(lowercase=False,\n",
       "                                                        tokenizer=<function <lambda> at 0x000001AC4B7F3E50>)),\n",
       "                                       ('rf',\n",
       "                                        RandomForestClassifier(n_jobs=6))]),\n",
       "             n_jobs=7,\n",
       "             param_grid={'countvectorizer__min_df': [1, 2],\n",
       "                         'rf__max_features': ['auto', 'log2'],\n",
       "                         'rf__n_estimators': [100, 200, 400]},\n",
       "             scoring='balanced_accuracy', verbose=3)"
      ]
     },
     "execution_count": 297,
     "metadata": {},
     "output_type": "execute_result"
    }
   ],
   "source": [
    "search_binary.fit(X_train, y_train[\"binary\"])"
   ]
  },
  {
   "cell_type": "code",
   "execution_count": 298,
   "id": "8bab4485",
   "metadata": {},
   "outputs": [
    {
     "data": {
      "text/plain": [
       "0.7774172100205903"
      ]
     },
     "execution_count": 298,
     "metadata": {},
     "output_type": "execute_result"
    }
   ],
   "source": [
    "search_binary.best_score_"
   ]
  },
  {
   "cell_type": "code",
   "execution_count": 299,
   "id": "769343ff",
   "metadata": {},
   "outputs": [
    {
     "data": {
      "text/plain": [
       "{'countvectorizer__min_df': 2,\n",
       " 'rf__max_features': 'auto',\n",
       " 'rf__n_estimators': 200}"
      ]
     },
     "execution_count": 299,
     "metadata": {},
     "output_type": "execute_result"
    }
   ],
   "source": [
    "search_binary.best_params_"
   ]
  },
  {
   "cell_type": "code",
   "execution_count": 300,
   "id": "155dee2f",
   "metadata": {},
   "outputs": [],
   "source": [
    "y_pred = search_binary.predict(X_test)"
   ]
  },
  {
   "cell_type": "code",
   "execution_count": 302,
   "id": "a7badc04",
   "metadata": {},
   "outputs": [],
   "source": [
    "from sklearn.metrics import plot_confusion_matrix"
   ]
  },
  {
   "cell_type": "code",
   "execution_count": 303,
   "id": "a3166ae2",
   "metadata": {},
   "outputs": [],
   "source": [
    "import numpy as np"
   ]
  },
  {
   "cell_type": "code",
   "execution_count": 304,
   "id": "2deef963",
   "metadata": {},
   "outputs": [
    {
     "data": {
      "text/plain": [
       "0.8053435114503816"
      ]
     },
     "execution_count": 304,
     "metadata": {},
     "output_type": "execute_result"
    }
   ],
   "source": [
    "np.mean(y_test[\"binary\"] == y_pred)"
   ]
  },
  {
   "cell_type": "code",
   "execution_count": 305,
   "id": "5b76e5b3",
   "metadata": {},
   "outputs": [
    {
     "name": "stderr",
     "output_type": "stream",
     "text": [
      "C:\\Users\\vedpi\\anaconda3\\envs\\newone\\lib\\site-packages\\sklearn\\utils\\deprecation.py:87: FutureWarning: Function plot_confusion_matrix is deprecated; Function `plot_confusion_matrix` is deprecated in 1.0 and will be removed in 1.2. Use one of the class methods: ConfusionMatrixDisplay.from_predictions or ConfusionMatrixDisplay.from_estimator.\n",
      "  warnings.warn(msg, category=FutureWarning)\n"
     ]
    },
    {
     "data": {
      "text/plain": [
       "<sklearn.metrics._plot.confusion_matrix.ConfusionMatrixDisplay at 0x1ac4b60fd90>"
      ]
     },
     "execution_count": 305,
     "metadata": {},
     "output_type": "execute_result"
    },
    {
     "data": {
      "image/png": "[encoded data removed]",
      "text/plain": [
       "<Figure size 432x288 with 2 Axes>"
      ]
     },
     "metadata": {
      "needs_background": "light"
     },
     "output_type": "display_data"
    }
   ],
   "source": [
    "plot_confusion_matrix(search_binary, X_test, y_test[\"binary\"]) "
   ]
  },
  {
   "cell_type": "code",
   "execution_count": 311,
   "id": "9a6a9f9d",
   "metadata": {},
   "outputs": [],
   "source": [
    "# pipeline\n",
    "clf = Pipeline([('countvectorizer',vectorizer),('rf',RandomForestClassifier(n_jobs = 6))])\n",
    "# Parameters of pipelines can be set using ‘__’ separated parameter names:\n",
    "param_grid = {\n",
    "'countvectorizer__min_df': [1,2],\n",
    "'rf__n_estimators': [100,200,400], \n",
    "'rf__max_features': [\"auto\", \"log2\"]\n",
    "}\n",
    "# fit the search\n",
    "search_multi = GridSearchCV(clf, param_grid, n_jobs=7 , verbose = 3, cv = 5, scoring = \"balanced_accuracy\")"
   ]
  },
  {
   "cell_type": "code",
   "execution_count": 307,
   "id": "eb2cb587",
   "metadata": {},
   "outputs": [
    {
     "name": "stderr",
     "output_type": "stream",
     "text": [
      "C:\\Users\\vedpi\\AppData\\Local\\Temp/ipykernel_3152/3264921360.py:1: FutureWarning: In a future version of pandas all arguments of concat except for the argument 'objs' will be keyword-only\n",
      "  X_train_reduced = pd.concat([pd.DataFrame(X_train), y_train],1)\n"
     ]
    }
   ],
   "source": [
    "X_train_reduced = pd.concat([pd.DataFrame(X_train), y_train],1)"
   ]
  },
  {
   "cell_type": "code",
   "execution_count": 308,
   "id": "2a02b503",
   "metadata": {},
   "outputs": [],
   "source": [
    "known_only = X_train_reduced[X_train_reduced[\"binary\"] == 1]"
   ]
  },
  {
   "cell_type": "code",
   "execution_count": 309,
   "id": "044b6180",
   "metadata": {},
   "outputs": [
    {
     "data": {
      "text/plain": [
       "capsule polysaccharide    35\n",
       "pectin                    28\n",
       "xylan                     23\n",
       "O-antigen                 21\n",
       "cellulose                 10\n",
       "beta-mannan               10\n",
       "chitin                     9\n",
       "glycosaminoglycan          8\n",
       "exopolysaccharide          7\n",
       "N-glycan                   5\n",
       "Name: high_level_substr_mod, dtype: int64"
      ]
     },
     "execution_count": 309,
     "metadata": {},
     "output_type": "execute_result"
    }
   ],
   "source": [
    "known_only[\"high_level_substr_mod\"].value_counts()"
   ]
  },
  {
   "cell_type": "code",
   "execution_count": 312,
   "id": "d3c0c868",
   "metadata": {},
   "outputs": [
    {
     "name": "stdout",
     "output_type": "stream",
     "text": [
      "Fitting 5 folds for each of 12 candidates, totalling 60 fits\n"
     ]
    },
    {
     "data": {
      "text/plain": [
       "GridSearchCV(cv=5,\n",
       "             estimator=Pipeline(steps=[('countvectorizer',\n",
       "                                        CountVectorizer(lowercase=False,\n",
       "                                                        tokenizer=<function <lambda> at 0x000001AC4B7F3E50>)),\n",
       "                                       ('rf',\n",
       "                                        RandomForestClassifier(n_jobs=6))]),\n",
       "             n_jobs=7,\n",
       "             param_grid={'countvectorizer__min_df': [1, 2],\n",
       "                         'rf__max_features': ['auto', 'log2'],\n",
       "                         'rf__n_estimators': [100, 200, 400]},\n",
       "             scoring='balanced_accuracy', verbose=3)"
      ]
     },
     "execution_count": 312,
     "metadata": {},
     "output_type": "execute_result"
    }
   ],
   "source": [
    "search_multi.fit(known_only[\"sig_gene_seq\"], known_only[\"high_level_substr_mod\"])"
   ]
  },
  {
   "cell_type": "code",
   "execution_count": 313,
   "id": "ad5a0e4a",
   "metadata": {},
   "outputs": [
    {
     "data": {
      "text/plain": [
       "0.6035238095238096"
      ]
     },
     "execution_count": 313,
     "metadata": {},
     "output_type": "execute_result"
    }
   ],
   "source": [
    "search_multi.best_score_"
   ]
  },
  {
   "cell_type": "code",
   "execution_count": 314,
   "id": "bc0d65ac",
   "metadata": {},
   "outputs": [],
   "source": [
    "y_binary_pred = search_binary.predict(X_test)"
   ]
  },
  {
   "cell_type": "code",
   "execution_count": 315,
   "id": "6ed8f712",
   "metadata": {},
   "outputs": [],
   "source": [
    "y_multi_pred = search_multi.predict(X_test)"
   ]
  },
  {
   "cell_type": "code",
   "execution_count": 316,
   "id": "2ca33de0",
   "metadata": {},
   "outputs": [
    {
     "data": {
      "text/html": [
       "<div>\n",
       "<style scoped>\n",
       "    .dataframe tbody tr th:only-of-type {\n",
       "        vertical-align: middle;\n",
       "    }\n",
       "\n",
       "    .dataframe tbody tr th {\n",
       "        vertical-align: top;\n",
       "    }\n",
       "\n",
       "    .dataframe thead th {\n",
       "        text-align: right;\n",
       "    }\n",
       "</style>\n",
       "<table border=\"1\" class=\"dataframe\">\n",
       "  <thead>\n",
       "    <tr style=\"text-align: right;\">\n",
       "      <th></th>\n",
       "      <th>binary</th>\n",
       "      <th>high_level_substr_mod</th>\n",
       "    </tr>\n",
       "  </thead>\n",
       "  <tbody>\n",
       "    <tr>\n",
       "      <th>59</th>\n",
       "      <td>1</td>\n",
       "      <td>capsule polysaccharide</td>\n",
       "    </tr>\n",
       "    <tr>\n",
       "      <th>87</th>\n",
       "      <td>0</td>\n",
       "      <td>others</td>\n",
       "    </tr>\n",
       "    <tr>\n",
       "      <th>58</th>\n",
       "      <td>1</td>\n",
       "      <td>O-antigen</td>\n",
       "    </tr>\n",
       "    <tr>\n",
       "      <th>587</th>\n",
       "      <td>0</td>\n",
       "      <td>others</td>\n",
       "    </tr>\n",
       "    <tr>\n",
       "      <th>363</th>\n",
       "      <td>0</td>\n",
       "      <td>others</td>\n",
       "    </tr>\n",
       "    <tr>\n",
       "      <th>...</th>\n",
       "      <td>...</td>\n",
       "      <td>...</td>\n",
       "    </tr>\n",
       "    <tr>\n",
       "      <th>161</th>\n",
       "      <td>0</td>\n",
       "      <td>others</td>\n",
       "    </tr>\n",
       "    <tr>\n",
       "      <th>310</th>\n",
       "      <td>0</td>\n",
       "      <td>others</td>\n",
       "    </tr>\n",
       "    <tr>\n",
       "      <th>477</th>\n",
       "      <td>0</td>\n",
       "      <td>others</td>\n",
       "    </tr>\n",
       "    <tr>\n",
       "      <th>515</th>\n",
       "      <td>1</td>\n",
       "      <td>capsule polysaccharide</td>\n",
       "    </tr>\n",
       "    <tr>\n",
       "      <th>564</th>\n",
       "      <td>1</td>\n",
       "      <td>chitin</td>\n",
       "    </tr>\n",
       "  </tbody>\n",
       "</table>\n",
       "<p>262 rows × 2 columns</p>\n",
       "</div>"
      ],
      "text/plain": [
       "     binary   high_level_substr_mod\n",
       "59        1  capsule polysaccharide\n",
       "87        0                  others\n",
       "58        1               O-antigen\n",
       "587       0                  others\n",
       "363       0                  others\n",
       "..      ...                     ...\n",
       "161       0                  others\n",
       "310       0                  others\n",
       "477       0                  others\n",
       "515       1  capsule polysaccharide\n",
       "564       1                  chitin\n",
       "\n",
       "[262 rows x 2 columns]"
      ]
     },
     "execution_count": 316,
     "metadata": {},
     "output_type": "execute_result"
    }
   ],
   "source": [
    "y_test"
   ]
  },
  {
   "cell_type": "code",
   "execution_count": 317,
   "id": "fdf736eb",
   "metadata": {},
   "outputs": [
    {
     "data": {
      "text/html": [
       "<div>\n",
       "<style scoped>\n",
       "    .dataframe tbody tr th:only-of-type {\n",
       "        vertical-align: middle;\n",
       "    }\n",
       "\n",
       "    .dataframe tbody tr th {\n",
       "        vertical-align: top;\n",
       "    }\n",
       "\n",
       "    .dataframe thead th {\n",
       "        text-align: right;\n",
       "    }\n",
       "</style>\n",
       "<table border=\"1\" class=\"dataframe\">\n",
       "  <thead>\n",
       "    <tr style=\"text-align: right;\">\n",
       "      <th></th>\n",
       "      <th>binary</th>\n",
       "      <th>high_level_substr_mod</th>\n",
       "    </tr>\n",
       "  </thead>\n",
       "  <tbody>\n",
       "    <tr>\n",
       "      <th>59</th>\n",
       "      <td>1</td>\n",
       "      <td>capsule polysaccharide</td>\n",
       "    </tr>\n",
       "    <tr>\n",
       "      <th>87</th>\n",
       "      <td>0</td>\n",
       "      <td>others</td>\n",
       "    </tr>\n",
       "    <tr>\n",
       "      <th>58</th>\n",
       "      <td>1</td>\n",
       "      <td>O-antigen</td>\n",
       "    </tr>\n",
       "    <tr>\n",
       "      <th>587</th>\n",
       "      <td>0</td>\n",
       "      <td>others</td>\n",
       "    </tr>\n",
       "    <tr>\n",
       "      <th>363</th>\n",
       "      <td>0</td>\n",
       "      <td>others</td>\n",
       "    </tr>\n",
       "    <tr>\n",
       "      <th>...</th>\n",
       "      <td>...</td>\n",
       "      <td>...</td>\n",
       "    </tr>\n",
       "    <tr>\n",
       "      <th>161</th>\n",
       "      <td>0</td>\n",
       "      <td>others</td>\n",
       "    </tr>\n",
       "    <tr>\n",
       "      <th>310</th>\n",
       "      <td>0</td>\n",
       "      <td>others</td>\n",
       "    </tr>\n",
       "    <tr>\n",
       "      <th>477</th>\n",
       "      <td>0</td>\n",
       "      <td>others</td>\n",
       "    </tr>\n",
       "    <tr>\n",
       "      <th>515</th>\n",
       "      <td>1</td>\n",
       "      <td>capsule polysaccharide</td>\n",
       "    </tr>\n",
       "    <tr>\n",
       "      <th>564</th>\n",
       "      <td>1</td>\n",
       "      <td>chitin</td>\n",
       "    </tr>\n",
       "  </tbody>\n",
       "</table>\n",
       "<p>262 rows × 2 columns</p>\n",
       "</div>"
      ],
      "text/plain": [
       "     binary   high_level_substr_mod\n",
       "59        1  capsule polysaccharide\n",
       "87        0                  others\n",
       "58        1               O-antigen\n",
       "587       0                  others\n",
       "363       0                  others\n",
       "..      ...                     ...\n",
       "161       0                  others\n",
       "310       0                  others\n",
       "477       0                  others\n",
       "515       1  capsule polysaccharide\n",
       "564       1                  chitin\n",
       "\n",
       "[262 rows x 2 columns]"
      ]
     },
     "execution_count": 317,
     "metadata": {},
     "output_type": "execute_result"
    }
   ],
   "source": [
    "y_test"
   ]
  },
  {
   "cell_type": "code",
   "execution_count": 263,
   "id": "b1257111",
   "metadata": {},
   "outputs": [
    {
     "data": {
      "text/plain": [
       "262"
      ]
     },
     "execution_count": 263,
     "metadata": {},
     "output_type": "execute_result"
    }
   ],
   "source": [
    "len(y_multi_pred)"
   ]
  },
  {
   "cell_type": "code",
   "execution_count": 318,
   "id": "576ed20a",
   "metadata": {},
   "outputs": [
    {
     "name": "stderr",
     "output_type": "stream",
     "text": [
      "C:\\Users\\vedpi\\AppData\\Local\\Temp/ipykernel_3152/814239259.py:1: FutureWarning: In a future version of pandas all arguments of concat except for the argument 'objs' will be keyword-only\n",
      "  test_preds = pd.concat([y_test.reset_index(drop = True), pd.DataFrame(y_binary_pred), pd.DataFrame(y_multi_pred)],1)\n"
     ]
    }
   ],
   "source": [
    "test_preds = pd.concat([y_test.reset_index(drop = True), pd.DataFrame(y_binary_pred), pd.DataFrame(y_multi_pred)],1)"
   ]
  },
  {
   "cell_type": "code",
   "execution_count": 319,
   "id": "f1a2e9e9",
   "metadata": {},
   "outputs": [],
   "source": [
    "test_preds.columns = [\"binary\", \"multi\", \"binary_pred\", \"multi_pred\"]"
   ]
  },
  {
   "cell_type": "code",
   "execution_count": 320,
   "id": "c613b12f",
   "metadata": {},
   "outputs": [
    {
     "data": {
      "text/plain": [
       "0.5833333333333334"
      ]
     },
     "execution_count": 320,
     "metadata": {},
     "output_type": "execute_result"
    }
   ],
   "source": [
    "np.mean(test_preds[test_preds[\"binary_pred\"] == 1][\"multi\"].values == test_preds[test_preds[\"binary_pred\"] == 1][\"multi_pred\"].values)"
   ]
  },
  {
   "cell_type": "code",
   "execution_count": 322,
   "id": "fd5da432",
   "metadata": {},
   "outputs": [],
   "source": [
    "# pipeline\n",
    "clf = Pipeline([('countvectorizer',vectorizer),('rf',RandomForestClassifier(n_jobs = 6))])\n",
    "# Parameters of pipelines can be set using ‘__’ separated parameter names:\n",
    "param_grid = {\n",
    "'countvectorizer__min_df': [1,2],\n",
    "'rf__n_estimators': [100,200,400], \n",
    "'rf__max_features': [\"auto\", \"log2\"]\n",
    "}\n",
    "# fit the search\n",
    "search_multi_all = GridSearchCV(clf, param_grid, n_jobs=7 , verbose = 3, cv = 5, scoring = \"balanced_accuracy\")"
   ]
  },
  {
   "cell_type": "code",
   "execution_count": 323,
   "id": "f8ee5f52",
   "metadata": {},
   "outputs": [
    {
     "name": "stdout",
     "output_type": "stream",
     "text": [
      "Fitting 5 folds for each of 12 candidates, totalling 60 fits\n"
     ]
    },
    {
     "data": {
      "text/plain": [
       "GridSearchCV(cv=5,\n",
       "             estimator=Pipeline(steps=[('countvectorizer',\n",
       "                                        CountVectorizer(lowercase=False,\n",
       "                                                        tokenizer=<function <lambda> at 0x000001AC4B7F3E50>)),\n",
       "                                       ('rf',\n",
       "                                        RandomForestClassifier(n_jobs=6))]),\n",
       "             n_jobs=7,\n",
       "             param_grid={'countvectorizer__min_df': [1, 2],\n",
       "                         'rf__max_features': ['auto', 'log2'],\n",
       "                         'rf__n_estimators': [100, 200, 400]},\n",
       "             scoring='balanced_accuracy', verbose=3)"
      ]
     },
     "execution_count": 323,
     "metadata": {},
     "output_type": "execute_result"
    }
   ],
   "source": [
    "search_multi_all.fit(X_train, y_train[\"high_level_substr_mod\"])"
   ]
  },
  {
   "cell_type": "code",
   "execution_count": 324,
   "id": "a70e260d",
   "metadata": {},
   "outputs": [
    {
     "data": {
      "text/plain": [
       "0.37243598599981576"
      ]
     },
     "execution_count": 324,
     "metadata": {},
     "output_type": "execute_result"
    }
   ],
   "source": [
    "search_multi_all.best_score_"
   ]
  },
  {
   "cell_type": "code",
   "execution_count": 325,
   "id": "4eeb7854",
   "metadata": {},
   "outputs": [
    {
     "data": {
      "text/plain": [
       "122       others\n",
       "31        others\n",
       "243       others\n",
       "636       others\n",
       "282       others\n",
       "         ...    \n",
       "614        xylan\n",
       "123       others\n",
       "541       others\n",
       "280       others\n",
       "447    O-antigen\n",
       "Name: high_level_substr_mod, Length: 392, dtype: object"
      ]
     },
     "execution_count": 325,
     "metadata": {},
     "output_type": "execute_result"
    }
   ],
   "source": [
    "y_train[\"high_level_substr_mod\"]"
   ]
  },
  {
   "cell_type": "code",
   "execution_count": 326,
   "id": "7976a373",
   "metadata": {},
   "outputs": [
    {
     "data": {
      "text/plain": [
       "['1.B.14 GH2',\n",
       " 'TPR_2 GT2 9.B.142 4.D.2 GT4 GT4',\n",
       " '8.A.59 HTH_AraC SBP_bac_1 3.A.1 3.A.1 CE4 GH52 GH10 3.A.1 3.A.1 GH67 GH39 PfkB GntR 9.B.28 AAA GH43_11',\n",
       " 'GH65 GH13 8.A.46 1.B.14 LacI CBM32 CBM32',\n",
       " 'GH43_10 GH43_12 GH43_1 1.B.14 LacI GH3 GH67 GH10 GH115 CE15 2.A.21',\n",
       " 'GT2',\n",
       " 'GH67 3.A.1 3.A.1 3.A.1 3.A.1 3.A.1 CBM22 CBM22 GH10 CBM9 CBM9 HTH_11 PfkB GH10 3.A.1 3.A.1 3.A.1 3.A.1 3.A.1 GH3 CE7 3.A.1',\n",
       " 'GH3 GH158 GH16 1.B.14 GerE Y_Y_Y',\n",
       " 'GH16 1.B.14 9.B.34 2.A.35 GH3 2.A.1 8.A.49 LacI 2.A.1',\n",
       " 'AraC_binding 3.A.1 3.A.1 Pkinase GT4 GT4 GT4 GT4',\n",
       " 'TPR_1 GH5_42',\n",
       " 'GH18 GH18 GH18 CBM6 GH16 CBM6 GerE FecR 1.B.14',\n",
       " 'LacI GH32 4.A.1 1.B.3 PfkB',\n",
       " 'CE4 GT4 GT2',\n",
       " 'HTH_5 3.A.1 3.A.1 3.A.1 3.A.1 GH42 GH36 PfkB',\n",
       " 'GH2 GH53 8.A.46 1.B.14 HTH_AraC',\n",
       " '4.A.3 4.A.3 GH1',\n",
       " 'GH127 GH43_26 GH2 GH5_13 1.B.14',\n",
       " 'GH97 GH67 GH76 1.B.14 HTH_AraC GH92 GH76 GH125',\n",
       " 'GH94 8.A.49',\n",
       " '9.B.18 GT2 GT2 GT11 GT2 2.A.66',\n",
       " '4.A.1 GH32 LacI GH13_31',\n",
       " '3.A.1 3.A.1 3.A.1 GH36',\n",
       " 'GT46 9.B.18 9.B.18',\n",
       " 'HTH_AraC dCache_1 HATPase_c SBP_bac_1 GH43_11 3.A.1 3.A.1 3.A.1',\n",
       " 'GH18 AA10 CBM5 GH18 CBM5',\n",
       " 'GT35 GH77 LacI 3.A.1 3.A.1 3.A.1 3.A.1',\n",
       " '1.B.52 LacI 3.A.1 3.A.1 3.A.1 GH42',\n",
       " 'GH30_4 1.B.14 HTH_AraC GH18',\n",
       " 'GH16',\n",
       " '2.A.2 GH36 GH2',\n",
       " 'GH31 GH31 GH66 8.A.46 1.B.14',\n",
       " 'CE7 2.A.2 GH130 GH26 GH26 1.B.14 HTH_AraC',\n",
       " 'GT11 GT4 GT2 GT4 CE4 GT4 GT2 9.B.146',\n",
       " 'HTH_AraC 1.B.14 8.A.46 PL8_2',\n",
       " 'MerR CBM40 GH33 3.A.1 3.A.1 SBP_bac_1 HTH_AraC GH1 GH140',\n",
       " 'GT4 9.B.18 GT4 2.A.66',\n",
       " '1.B.14 HTH_AraC GH97 GH3 GH43_10 GH146 GH115 CE6 CE1 GH43_12 1.B.14',\n",
       " 'GH5_4 GH26 GH130 2.A.2 GH3 GH94',\n",
       " '2.A.1 HTH_AraC TPR_2 2.A.7 2.A.107 4.D.2 GerE 1.B.14 GH16 GH158 GH3 1.A.43 GH97 Fer4 HTH_AraC Pribosyltran',\n",
       " 'GH20 TetR_N',\n",
       " '1.B.14 CE1 CE1',\n",
       " 'GH1 2.A.123 Mga HTH_11 4.A.3 4.A.3',\n",
       " '9.B.67 GH13_18 3.A.1 3.A.1 3.A.1 GH36 HTH_AraC HTH_11',\n",
       " '4.A.1 GH1',\n",
       " '2.A.66 GT2 GT2',\n",
       " 'GH97 GH67 GH76 1.B.14 HTH_AraC GH92 GH76 GH125 3.A.7',\n",
       " 'GH51 GH146 NUDIX 2.A.21 GH43_4 1.B.14 GH43_4 GH51 GH43_29',\n",
       " '3.A.1 3.A.1 3.A.1 MarR 3.A.1 LacI GH51',\n",
       " '1.B.14 2.A.1 GH33 GH20 GH2 GH20 GH20 GH2',\n",
       " 'GH31 GH9 GH26 1.B.14',\n",
       " '1.B.14 GH5_4 Reg_prop HTH_AraC GH31 GH2 GH3',\n",
       " 'GH2 GH117 GH117 HTH_AraC GerE 1.B.14',\n",
       " 'GH43_16 CBM6 GH10 CBM6 GH43_29 CBM6 CE1 CBM6 GH43_10 CBM6 GH62 CBM6 GH43_29 CBM6 GH146 CBM22 GH27 CBM6 GH59 CBM6 GH2 CBM6',\n",
       " 'GH31 GH35 1.B.14 GH95',\n",
       " '2.A.66 GT2',\n",
       " 'GH13_18 GH13_31 GH36 3.A.1 3.A.1 3.A.1 GH4 3.A.1 3.A.1 LacI',\n",
       " 'LacI PL7_5 1.B.14 SKI PL6 PL6_1',\n",
       " '8.A.9 3.A.1 3.A.1 3.A.1 GH13_20 GH4',\n",
       " 'GH2 GH53 8.A.46 1.B.14 GH147 HTH_AraC',\n",
       " 'GerE 9.B.18 CbiA GT4 PL15 GT4 AraC_binding',\n",
       " 'SBP_bac_3 3.A.1 3.A.1 GH43_4 GH127 GH51 GH27 GH51 3.A.1 3.A.1 3.A.1 GH146',\n",
       " '3.A.1 3.A.1 3.A.1 3.A.1 PL2_2',\n",
       " 'Mga HTH_11 GH1 4.A.3 4.A.3',\n",
       " 'GH16 HTH_1 2.A.1 GntR GH16 CBM16 CBM16 1.B.52 TrmB GH16 2.A.21 GH16 GntR',\n",
       " '1.B.35 2.A.2 2.A.2 GH31 PfkB HTH_DeoR',\n",
       " 'Trans_reg_C HisKA 3.A.1 GH2 2.A.21 Sigma70_r4_2 Sigma70_r2',\n",
       " 'GerE 1.B.14 8.A.46 GH30_1 GH30_1 GH3 GH30_3 GH3',\n",
       " 'GT35 GH77 LacI',\n",
       " '4.A.3 GH1',\n",
       " '3.A.23 4.A.3 4.A.3 4.A.3',\n",
       " '3.A.1 3.A.1 3.A.1 GH3',\n",
       " 'PfkB 2.A.1 GH32 GH91 GH91 1.B.14 GH32',\n",
       " '8.A.46 1.B.14 1.B.14 8.A.46 GH18 GH163 GH130 GH92',\n",
       " 'GH133 GH13_10 8.A.46 1.B.14 GH2 GH53 GH147',\n",
       " '8.A.3 8.A.3 9.B.18 GT4 GT2',\n",
       " 'GH36 8.A.9 3.A.1 3.A.1 SBP_bac_1',\n",
       " 'Pyr_redox_2 CBM48 GH13_9 GT5 GT35 GH13_39 3.A.1',\n",
       " 'GH53 GH42 3.A.1 3.A.1 3.A.1 LacI Peripla_BP_3',\n",
       " 'GH29 CBM32',\n",
       " 'GH31 GH5_4 GH26 1.B.14',\n",
       " 'GH42 3.A.1 GH2 GH36',\n",
       " 'GH30_3 1.B.14 GH2 CBM57 GH88',\n",
       " 'GntR 4.A.1 4.A.1 1.B.1 CE9 SIS',\n",
       " 'CE12 GH28 PL10_1 CE8 GH43_10 GH105 GH105 GH105 8.A.46 1.B.14 GH28 LacI',\n",
       " 'GH26 GH5_4 GH5_7 1.B.14 HTH_AraC 2.A.2 GH130 GH26 CE7 GH36 GH3',\n",
       " 'CBM4 1.B.14 1.B.14',\n",
       " '2.A.21 8.A.46 1.B.14 LacI GH65 GH13_38 Pyr_redox_2 1.A.8',\n",
       " 'GT2 GT4 GT2 GT32 GT2 GT2 Aminotran_1_2 9.B.146',\n",
       " 'PALP 3.A.1 GH9 1.B.14 GH31 HTH_AraC GH9',\n",
       " '3.A.1 3.A.1 Peripla_BP_3 LacI 3.A.1 GH13_30',\n",
       " 'Aminotran_1_2 GT2 GT4 GT2 1.B.18 8.A.3',\n",
       " 'GH43_12 LacI SBP_bac_1 3.A.1 3.A.1 GH43_11 GH43_10 HTH_IclR',\n",
       " 'GH2 2.A.21 3.D.1 GH96 GH96 2.A.1 GH50 GH50 GH29 SBP_bac_1 TrmB 1.B.14 GntR GH50 1.B.14 GH86 3.A.1 3.A.1 3.A.1 3.A.1 PfkB GH117 GH117',\n",
       " 'GH5_4 CBM4 1.B.14 1.B.14 HTH_AraC',\n",
       " 'GH1 2.A.123 Mga HTH_11 4.A.3 4.A.3',\n",
       " 'GH30_1 GH17 GH3 GH149 GH16 8.A.46 1.B.14',\n",
       " '1.B.14 8.A.46 GH18',\n",
       " 'PfkB GH32 3.A.1 LacI',\n",
       " '1.B.14 GH92 GH99',\n",
       " 'GH51 1.B.14 HTH_AraC',\n",
       " 'GH3 GH2 GH31 HTH_AraC GH9 1.B.14 GH5_4 GH43_12 GH43_12 GH3',\n",
       " '8.A.3 1.B.18 GT2 GT2 GT4 GT2 9.B.18 2.A.14 GT4 CE4',\n",
       " '2.A.2 GH2 LacI HTH_AraC',\n",
       " '1.B.14 8.A.46 GH43_12 GH5_4 HTH_AraC GH31 GH2 GH3 GH95',\n",
       " '9.B.146 Pyr_redox GT4 GT2 GT4 GT2',\n",
       " 'PL8_2 PL29 8.A.46 1.B.14 HTH_AraC 2.A.6 2.A.6 2.A.6 GH2 1.B.14 GH88 PL8_2',\n",
       " 'GT4 NUDIX GT2',\n",
       " 'GH9 1.B.14 GH31 HTH_AraC GH9 GH9 ATPase_2 CE4 HATPase_c GerE',\n",
       " '1.B.14 PL1_2',\n",
       " 'Aminotran_1_2 GerE 2.A.35 2.A.1 HTH_AraC TPR_2 2.A.7 2.A.107 4.D.2 GerE 1.B.14 GH16 GH158 GH3',\n",
       " 'Aminotran_1_2 2.A.66 GT4',\n",
       " 'PL6 PL6_1 PL17_2 PL17 2.A.1 PfkB PL6_3 1.B.14 GerE',\n",
       " 'CE2 GH3 GH5_7 GH26 GH130 2.A.21 GH26 HTH_AraC GH5_2 1.B.14 8.A.46 GH27 GH9 GH26',\n",
       " 'GT2',\n",
       " 'PL8 PfkB GH88 4.A.6 4.A.6 4.A.6 4.A.6 PL12_1',\n",
       " 'peroxidase PL5 PL7 LacI 3.A.1 3.A.1 3.A.1 3.A.1 3.A.1 PL15_1',\n",
       " 'CBM27 GH26 CBM23 GH3 GH3',\n",
       " 'GT2 GT2 GT2 GT2 GT4 Fer4 GT4 GT26 9.A.25',\n",
       " 'CBM32 1.B.14 GH29 HTH_AraC',\n",
       " 'LacI 3.A.1 3.A.1 3.A.1 8.A.49 CBM2 GH18',\n",
       " 'GH4 GntR 4.A.1',\n",
       " 'CBM32 1.B.14',\n",
       " 'GT46 9.B.18 9.B.18',\n",
       " 'GH154 GH2 GH20 GH88 PL33_1 1.B.14 HTH_AraC',\n",
       " 'CE4 4.A.3 4.A.3 4.A.3 GH4',\n",
       " 'GH32 3.A.1 3.A.1 3.A.1 LacI Mga HTH_Mga PRD_Mga',\n",
       " '1.B.25 GH20',\n",
       " '2.A.66 Aminotran_1_2 9.B.97 GT4 GT4 GT4 9.B.146',\n",
       " 'HTH_8 HATPase_c Response_reg HisKA GH97 GH67 GH76 1.B.14 HTH_AraC GH92 GH76 GH125',\n",
       " 'GerE FecR 1.B.14 GH20',\n",
       " 'GH36 3.A.1 3.A.1 3.A.1 GH36',\n",
       " '1.B.14 GH30_3 GH3',\n",
       " 'PfkB 1.B.14 GH2',\n",
       " '8.A.46 1.B.14 Sigma70_r2 Sigma70_r4_2 GH67 2.A.2 GH13_14',\n",
       " '2.A.2 GH2 LacI',\n",
       " 'GH127 GH43_34 GH154 HTH_AraC 1.B.14 GH16 GH43_24 GH43_24 GH145 GH105',\n",
       " 'HTH_AraC GH2 GH139 GH106 3.A.3 HisKA HATPase_c Trans_reg_C GH2 GH2 HisKA HATPase_c HTH_AraC GH137 GH2 CBM57 GH138 2.A.21 GH78 GH141 GH127 Nitroreductase GH95 GH105 GH140 CBM67 GH78 GH33 GH28 CBM67 GH78 GH143 GH142 GH43_18 PL1_2 1.B.14 1.B.14',\n",
       " 'GH92 GH130 GH163 8.A.46 1.B.14 1.B.14 8.A.46 1.B.14 8.A.46 GH20 FecR GerE',\n",
       " 'GH43_34 GerE FecR 1.B.14 8.A.46 GH30_1 GH30_3 GH16 1.B.14 FecR Sigma70_r2 Sigma70_r4_2',\n",
       " 'GT32 GT2 GT2',\n",
       " 'GH13_18 3.A.1 3.A.1 3.A.1 HTH_AraC GH36 LacI',\n",
       " 'GH93 1.B.14 GH43_31 HTH_AraC GH43_31',\n",
       " 'GntR GH28 2.A.2 GH105 PfkB TrmB',\n",
       " '3.A.1 3.A.1 MarR CBM22 GH10',\n",
       " 'LacI 4.A.1 GH32 PfkB',\n",
       " 'PL11 CBM3 CBM66 PL3_1 CBM66 PL9_1 HTH_18 GH10 CBM3 CBM3 GH48 GH5_8 CBM3 CBM3 GH44 GH74 GH74 GH74 GH74 CBM3 CBM3 GH48 GT39 GH9 CBM3 CBM3 CBM3 GH5_8 GH5_8 CBM3 CBM3 CBM3 GH5_1 GH9 CBM3 CBM3 CBM3 GH48',\n",
       " 'GH94 GH20 GH9 3.A.1 3.A.1 3.A.1 3.A.1 3.A.1 HisKA Response_reg dCache_1 HATPase_c PAS',\n",
       " '2.A.66 GT4 AraC_binding 3.A.1 GT4 GT4',\n",
       " 'GH13_23 CbiA GH1 2.A.1 2.A.119',\n",
       " 'GT2 9.B.97',\n",
       " 'GerE GH1 3.A.1 3.A.1 3.A.1 3.A.1 3.A.1 HTH_AraC',\n",
       " 'GT4 GT94 GT4 GT4 GT2',\n",
       " 'HTH_AraC 3.A.1 3.A.1 3.A.1 GH136 HTH_AraC 8.A.59',\n",
       " '1.B.14 GH16 GH3',\n",
       " 'GH94 3.A.1 3.A.1 SBP_bac_1 HTH_AraC 8.A.59 SBP_bac_1 3.A.9',\n",
       " 'CE4 GT4 GT2',\n",
       " '2.A.14 9.B.18 GT2 Aminotran_1_2 9.B.18 1.B.18 8.A.3',\n",
       " 'GT2',\n",
       " 'HTH_AraC 2.A.1 MarR Glyoxalase 2.A.1 GH13_11',\n",
       " 'PfkB AraC_binding PL15_1 3.A.1 3.A.1 3.A.1',\n",
       " 'GH48 GH8 GH9 CBM3 CBM4 GH9',\n",
       " '1.B.42 1.B.14 GH27 1.B.14 8.A.46 GH33 GH20 GH2 GH20',\n",
       " 'SBP_bac_1 3.A.1 3.A.1 GH42 LacI GH53 CBM61',\n",
       " '4.A.1 GH1',\n",
       " 'SIS GH9 4.A.3',\n",
       " '2.A.2 GH43_11',\n",
       " '1.B.14 8.A.46',\n",
       " '1.B.14 8.A.46 CE8 PL9_1 PfkB 2.A.56 2.A.56 2.A.56 LacI GH28 GH105 GH43_10 GH28 PL9_1 CE12 CE10 CE8 CE12 PL10_1',\n",
       " 'GH43_4 GntR GH2 GH43_4 GH127 GH51 3.A.1 3.A.1 3.A.1 GH43_26 GH51 GH27 3.A.1 HTH_8',\n",
       " 'GH43_34 GH43_10 GH97 GH29 HTH_AraC 1.B.14',\n",
       " 'Sigma70_r2 Sigma70_r4_2 FecR 1.B.14 1.B.14 8.A.46 GH18',\n",
       " 'PL5_1',\n",
       " 'GT4 9.B.18 GT2 GT4',\n",
       " 'Pribosyltran Trans_reg_C 1.B.14 GH20 GH2 2.A.115 GH2 GH2',\n",
       " 'GT35 GH77 3.A.1 3.A.1 3.A.1 LacI',\n",
       " 'GH112 3.A.1 3.A.1 3.A.1',\n",
       " '1.B.18 8.A.3 GT4 9.B.18 GT4 9.B.18 9.B.18',\n",
       " 'Aminotran_1_2 2.A.66 PL12 9.B.18',\n",
       " 'GH35 GH43_19 GH43_9 GH43_19 GH51',\n",
       " '8.A.3 1.B.18 GT2 2.A.66 9.B.18 1.B.73',\n",
       " 'CBM6 GH86 GH86 1.B.14 GH16 CBM6',\n",
       " 'GH28 2.A.1',\n",
       " 'GH127 GH127 2.A.1 GH127 GH129 HTH_AraC',\n",
       " 'GH95 GH140 CBM67 GH78 GH33 GH28 CBM67 GH78 GH43_18 PL1_2 1.B.14 GH92',\n",
       " 'GH9 CBM3 CBM3 GH9 CBM3',\n",
       " '3.A.1 PIG-L GH3 3.A.1 3.A.1 SBP_bac_1 HTH_5 CBM5 GH18 CBM5 GH18',\n",
       " 'HTH_AraC GH16 1.B.14 8.A.46 GH3',\n",
       " 'GH13_20 8.A.9 3.A.1 3.A.1 3.A.1',\n",
       " 'GH43_10 GH97 GH29 HTH_AraC',\n",
       " 'HTH_psq GH5_2 3.A.3 HMA Aminotran_1_2 HTH_3 Trans_reg_C HisKA HATPase_c MerR Sigma70_r4_2 HTH_3 HTH_3 HTH_3',\n",
       " '1.C.113 3.A.1 GH63 3.A.1 LacI 9.B.34 CBM67 GH78 8.A.49 HTH_3',\n",
       " '3.A.1 8.A.59 HTH_AraC 3.A.1 3.A.1 3.A.1 GntR GH43_5 SBP_bac_1 3.A.1 3.A.1 GH43_4 GH51 GH51 GH127 8.A.59 HTH_AraC SBP_bac_1 3.A.1 3.A.1 CE4 GH52 GH10 3.A.1 3.A.1 GH67 GH39 PfkB GntR 9.B.28 AAA GH43_11',\n",
       " 'GH13_4 LacI',\n",
       " '8.A.9 8.A.46 1.B.14 GH97 8.A.9',\n",
       " 'CBM3 cohesin cohesin cohesin cohesin cohesin cohesin GH48 GH8 GH9 CBM3 CBM4 GH9 GH9 GH9 CBM3 GH5_17 GH9 GH5_7 GH5_1',\n",
       " '1.B.14 1.B.14 GH16 GH18 HTH_AraC',\n",
       " 'GH1',\n",
       " 'GH33 GH20 GH2 GH20 GH20 GH2',\n",
       " '2.A.66 GT2 GT4 9.B.18',\n",
       " 'GH105 CE8 CE12 CE8 HTH_AraC PL1_2 PL1_2 PL1_2 CE8 1.B.14 9.B.116 LytTR PL1_2 PL1_2 1.B.14 8.A.46 CE8 GH28 GH3 GH43_10 HTH_AraC',\n",
       " 'GT4 GT4 4.D.1',\n",
       " 'GH16 1.B.14 GntR 2.A.1 GntR',\n",
       " '8.A.46 1.B.14 HTH_AraC GH97 GH3 GH43_10 GH146 GH115 GH43_12 1.B.14 GH3',\n",
       " '8.A.3 8.A.3 9.B.18 GT4 4.D.1',\n",
       " 'GerE GH1 3.A.1 3.A.1 3.A.1 3.A.1 3.A.1 Response_reg HTH_18',\n",
       " 'GH3 GH158 1.B.14 GerE',\n",
       " '2.A.2 GH130 GH36 GH26 GH26 1.B.14 HTH_AraC',\n",
       " '1.B.14 GH3 HTH_AraC GH57 GT4 GH133',\n",
       " 'GH9 GH27 8.A.46 1.B.14 GH5_2 HTH_AraC GH26 2.A.21 GH130 GH26',\n",
       " 'GH30_1 GH42 2.A.1 TetR_N',\n",
       " 'GH43_12 LacI SBP_bac_1 3.A.1 3.A.1 GH43_11 GH43_10',\n",
       " 'GH1 1.B.3 4.A.3 4.A.3 4.A.3 GntR',\n",
       " 'CE1 GH43_7 GH43_7 1.B.14 CE6 CE1 CE1 GH43_17 GH3 GH43_2 CBM6 HTH_AraC',\n",
       " 'LacI GH13_18 2.A.1',\n",
       " '9.B.18 9.B.18 PL12_3 8.A.3 1.B.18',\n",
       " 'HTH_DeoR HTH_AraC 8.A.59 PL1_6 GH105 SBP_bac_1 3.A.1',\n",
       " '8.A.46 1.B.14 GH0 GH92 GH92 FecR',\n",
       " '1.B.14 GH92 GH99 9.B.14',\n",
       " 'GH65 GH97 GH31 GH66 8.A.46 1.B.14',\n",
       " '3.A.1 3.A.1 3.A.1 3.A.1 HTH_12 GH65 CBM34 GH13_20 8.A.9 LacI',\n",
       " 'PfkB 2.A.56 2.A.56 2.A.56 LacI CE8 PL1_5 PL1_2 GH105 GH105 GH28 1.B.14',\n",
       " 'HTH_AraC HTH_11 1.B.14 GH5_13 GH43_18 GH2 GH43_26 GH43_31 GH29 CBM32 CBM32 PIG-L',\n",
       " 'Fer4 GT2 GT2 GT101 GT2 GT2 GT4 GT4 8.A.3 GH27',\n",
       " 'GH33 MarR HTH_3 CBM67 GH78 HTH_AraC 2.A.7 2.A.4 GH3 GH115 GH97',\n",
       " 'Fer4 SIS GT2 9.B.18 1.B.18 8.A.3',\n",
       " 'GT2',\n",
       " 'GerE FecR 1.B.14 GH89',\n",
       " 'GH2 2.A.21 3.D.1 GH96 GH96 2.A.1 GH50 GH50 GH50 GH29 SBP_bac_1 TrmB 1.B.14 GntR GH50 1.B.14 GH86 3.A.1 3.A.1 3.A.1 3.A.1 PfkB GH117 GH117 Pyr_redox_2',\n",
       " 'GH36 1.B.14 PL1',\n",
       " 'GH2 GH53 8.A.46 1.B.14',\n",
       " '1.B.14 8.A.46 GH66 GH31 GH97',\n",
       " 'LacI 1.B.14 8.A.46 GH2 GH92 GH92 GH125',\n",
       " '8.A.9 CBM34 GH13_20 3.A.1 3.A.1 3.A.1',\n",
       " '1.B.14 GH5_4 HTH_AraC GH36',\n",
       " 'CBM34 GH13_39 3.A.1 3.A.1 3.A.1 GH13_2 CBM20',\n",
       " 'GT4 GT4',\n",
       " 'HTH_AraC GH43_2 CBM6 GH3 GH43_17 GH43_7 GH43_7 CE1 1.B.14',\n",
       " 'GT4 GT4 NUDIX GT2',\n",
       " 'CE9 GntR',\n",
       " 'GT2 GT2 GT101 GT4 2.A.66 GT2 GT2 GT2',\n",
       " 'GT94 GT4 GT4 GT2',\n",
       " '4.A.3 4.A.3 HTH_6 SIS 4.A.3 GH1',\n",
       " 'GntR CBM32 PL7_5 1.B.14 PL6_3 PL7_5 2.A.1 PL6 PL6_1 2.A.1',\n",
       " 'GH26 GH9 GH9',\n",
       " '2.A.2 GH130 GH36 GH26 GH26 1.B.14 HTH_AraC',\n",
       " 'LacI 4.A.1 GH13_29',\n",
       " 'GH5_2 1.B.14 GH5_5 GH2 GH5_5 GH140 GH130 2.A.2 CBM67 GH78',\n",
       " 'HTH_8 GH16 GH117 GH117 GH2 GH2 2.A.1 GH50 GH105 GH154 GH16 GH86 GH86 1.B.14 HTH_AraC GH29 GH16 1.B.14 GH2',\n",
       " 'GH32 GH32 8.A.46 1.B.14 GH32',\n",
       " '1.B.18 ComK 9.B.18 CbiA GT2 GT2 4.C.1 GT4 GT2',\n",
       " 'PL10_1 CE8 PL11',\n",
       " '4.A.3 4.A.3 GH1 HTH_18 AraC_binding',\n",
       " '2.A.66 Aminotran_1_2 GT2 GT4 9.B.18',\n",
       " 'PL6 PL6_1 PL7_5 PL6 PL6_1',\n",
       " 'GH43_24 GH16 GH16 1.B.14 1.B.14 HTH_AraC',\n",
       " 'GT4 GT4 GT2',\n",
       " 'GH130 GH130 3.A.1 3.A.1 SBP_bac_1 HTH_AraC 8.A.59 GH2',\n",
       " 'HTH_3 GH32 GerE',\n",
       " 'GT4 NUDIX GT2',\n",
       " 'GH43_10 GH3 GH43_12 GH31 GH97 GH43_29 CBM6 GH43_12 1.B.14 1.B.14 GH30_8 GH98 CBM35 GH115 CE6 CE1 GH43_29 CBM6 HTH_AraC GH95 HTH_8 HTH_AraC GH30 1.B.14 GH115',\n",
       " '2.A.66 GT2',\n",
       " 'CE9 GH2 GH92 GH20 GH20 GH2',\n",
       " '4.A.6 GH32',\n",
       " '1.B.14 GH29 GH18 GH20 GH2 GH3 GH125 GH92 GH35',\n",
       " 'GH43_29 HTH_AraC 1.B.14 GH43_12 GH43_1 GH10 2.A.2 GH16',\n",
       " '1.B.14 GH1 2.A.2 LacI Peripla_BP_3',\n",
       " 'HTH_8 Glyoxalase 3.B.1 3.B.1 3.B.1 TPR_1 GH13 Pribosyltran HTH_AraC Fer4 GH97 1.A.43 GH3 GH158 GH16',\n",
       " 'HTH_AraC PfkB 2.A.1 GH32 GH32 8.A.46 1.B.14 GH32',\n",
       " 'LacI 3.A.1 3.A.1 GH32 PfkB',\n",
       " 'PfkB PfkB 1.B.14 GH35',\n",
       " 'GH53 8.A.46 1.B.14 GH147',\n",
       " 'GH43_10 GH3 GH43_12 GH31 GH97 GH43_29 CBM6 GH43_12 1.B.14 GH10 GH5_21 CE6 CE1 GH43_29 CBM6 HTH_18 HisKA HATPase_c Y_Y_Y Reg_prop Response_reg GH95 GH115',\n",
       " '4.A.1 GH32 LacI',\n",
       " '8.A.9 8.A.46 1.B.14 GH97 8.A.9',\n",
       " 'LacI 3.A.1 3.A.1 3.A.1 GH3',\n",
       " 'GH67 GH43_1 GH10 2.A.2 GH10 1.B.14 HTH_AraC',\n",
       " '2.A.1 PIG-L HTH_AraC 2.A.6 3.A.1 1.C.105 HATPase_c Trans_reg_C CE9 GH2 GH92 GH20 GH20 GH2',\n",
       " 'GH98 CBM47 CBM47 CBM47 GH95 4.A.6 4.A.6 4.A.6 4.A.6 HTH_DeoR',\n",
       " 'CE10 1.B.35',\n",
       " '1.B.14 GH16',\n",
       " '1.B.18 8.A.3 CBS GT4 GT4 9.B.18',\n",
       " '2.A.1 GH32 LacI',\n",
       " 'GH130 GH5_7 GH27',\n",
       " 'PL11 CBM3 CBM66 PL3_1 CBM66 PL9_1 CBM66 PL9_1 CBM66 PL9_1 HTH_AraC GH74 GH74 GH74 GH74 CBM3 CBM3 GH48 GT39 GH9 CBM3 CBM3 CBM3 GH5_8 CBM22 CBM22 GH10 CBM3 CBM3 GH5_1 GH10 CBM3 GH12 GH48 GH5_8 CBM3 CBM3 GH44 GH9 CBM3 CBM3 CBM3 GH48',\n",
       " 'PfkB 2.A.1 GntR PL7 1.B.14 AraC_binding PL17_2 PL17',\n",
       " '2.A.14 9.B.18 GT2 GT0 Aminotran_1_2 9.B.18 1.B.18 8.A.3',\n",
       " 'GT35 GT5 CBM48 GH13_11 CBM48 GH13_9',\n",
       " 'GT2 GT4 GT2 GT2 GT2 GT10 Nitroreductase 9.B.146',\n",
       " 'GH32 2.A.1 LacI',\n",
       " 'GH31 CBM20 GH31 CBM35',\n",
       " '4.A.3 4.A.3 CE0 4.A.3',\n",
       " 'LacI GH36 2.A.1',\n",
       " 'PL7_5 PL6 PL6_1 PL7_5 PL17_2 PL17 AraC_binding 1.B.14 PL7 PL7 GntR 2.A.1 PfkB LacI',\n",
       " 'GH35 GH105 1.B.14',\n",
       " '1.B.14 8.A.46 PL38 GH88 GH2 CBM57',\n",
       " '8.A.3 1.B.18 GT4 9.B.18 9.B.146 9.B.18',\n",
       " '2.A.2 GH2 LacI',\n",
       " 'GH35 SIS 3.A.1 3.A.1 3.A.1 3.A.1 3.A.1 GH1 PIG-L GH18',\n",
       " 'GH2 1.B.14 HTH_AraC GH76',\n",
       " 'GH94 GH3',\n",
       " 'GH2 GH141 GH105 GH154 1.B.14 GH16_11 GH117 GH16_11 GH16_14 GH29 HTH_AraC',\n",
       " 'GH10 CE1 GH95 GH3 SBP_bac_1 HTH_AraC',\n",
       " 'GH16_16 CBM6 CBM6 3.D.1 GH50 1.B.14 CBM6 GH16_16 CBM13 2.A.98 HTH_1 GH50 FecR Sigma70_r2 Sigma70_r4 Pyr_redox_2 GH117 2.A.21 GH16_3 GH2 SBP_bac_1 GH50 HATPase_c SBP_bac_3 GerE GH127 2.A.1 GntR GH167 HTH_AraC GntR CBM6 CBM6 GH86 GH86 GH50 2.A.1 GH86',\n",
       " '2.A.2 GH2 LacI',\n",
       " 'LacI GH13_2 2.A.2 GH97 1.B.14 8.A.9',\n",
       " 'MarR AraC_binding PfkB 2.A.21 1.B.35 PL9_1 2.A.21 PL22 PL22',\n",
       " 'TetR_N GH16 CBM16',\n",
       " 'PL12_1 4.A.6 4.A.6 4.A.6 GH88 TrmB PfkB PL8',\n",
       " 'GH20 GntR SIS CE9 9.B.207 4.A.6 4.A.6 4.A.6 4.A.6',\n",
       " 'GH3 GH3 1.B.14 GH157 HTH_AraC',\n",
       " '8.A.3 8.A.3 9.B.18 GT4 GT4 GT2 GT2 GT2',\n",
       " '4.D.1 2.A.66 GT4 9.B.18',\n",
       " 'GH13_10 8.A.46 1.B.14 LacI',\n",
       " 'GH128 GH51 GH43_19 1.B.14',\n",
       " 'PadR PfkB GH32 4.A.1 Sigma70_r2 Sigma70_r4_2 LacI MarR',\n",
       " 'GH51 3.A.1 3.A.1 3.A.1',\n",
       " 'GH10 CBM6 GH43_29 CBM6 CE1 CBM6 GH43_10 CBM6 GH62 CBM6 GH43_29 CBM6 GH27 CBM6 GH59 CBM6 GH62 CBM6 CE6 GH95 CBM32 CE1 CBM6 GH30_8 CBM6',\n",
       " 'Fer4 GT2 GT2 GT4 GT4 9.B.146',\n",
       " 'LacI Peripla_BP_3 3.A.1 3.A.1 3.A.1 GH1',\n",
       " 'GH32 3.A.1 3.A.1 3.A.1 LacI Mga HTH_Mga PRD_Mga',\n",
       " '2.A.66 8.A.3 1.B.18 GT2 GT2 GT4 GT2 9.B.18 2.A.14 GntR',\n",
       " '2.A.66 GT8 GT2 GT2 9.B.146',\n",
       " '1.B.14 1.B.14 PL11_1 GH3 GH43_7 PL11_1 GH2',\n",
       " 'LacI 2.A.1 GH13_18',\n",
       " 'Sigma70_r4_2 Sigma70_r2 FecR 1.B.14 8.A.46 GH18',\n",
       " 'PL5 PL7 LacI 3.A.1 3.A.1 3.A.1 3.A.1 3.A.1 PL15_1',\n",
       " 'GH92 GH38 CBM32 GT32 GT32 GH130 GH125 GH76 GH92 HTH_AraC 1.B.14 GH76',\n",
       " 'GH2 GH5_4 8.A.46 1.B.14 GH31 HTH_AraC GH95 GH3 GH43_12',\n",
       " 'GH130 3.A.1 3.A.1 3.A.1 LacI GH5_36',\n",
       " 'PL15_2 2.A.1 PL12_2 GH88 8.A.46 1.B.14 PL12_2 HTH_AraC',\n",
       " 'GT4 GT4 8.A.3 GT94',\n",
       " 'GH18 GH18 GH20 PIG-L 8.A.46 1.B.14 GH18 8.A.46 1.B.14 LytTR 2.A.1',\n",
       " 'GH1 SIS HTH_6 3.A.1 8.A.59 HTH_18 Response_reg HTH_AraC 3.A.1 3.A.1 3.A.1',\n",
       " 'GH43_12 GH115 GH43_10 GH97 GH43_29 CBM6 CE1 CE1 GH95 GH115 HTH_AraC GH30_8 1.B.14',\n",
       " 'HTH_3 4.D.1 2.A.50 PL5',\n",
       " '4.A.3 4.A.3 GH1',\n",
       " 'Mga HTH_11 4.A.3 4.A.3 4.A.3 GH4',\n",
       " '1.B.14 GH2',\n",
       " 'GH144 GH3 8.A.46 1.B.14',\n",
       " 'GH105 CE8 CE12 CE8 AAA HTH_AraC 1.B.14 PL1_2 PL1_2',\n",
       " 'GH13 CBM26 GH97 GH13 8.A.46 1.B.14 FecR GerE',\n",
       " 'SIS GT4 9.B.18',\n",
       " '3.A.1 8.A.59 HTH_18 Response_reg 3.A.1 3.A.1 3.A.1 GntR Peripla_BP_3 GH43_5 SBP_bac_1 3.A.1 3.A.1 GH43_4 GH51 GH51 GH127',\n",
       " '3.A.1 3.A.1 MarR GH43_24 GH30_5 2.A.3 3.A.1 HTH_11 2.A.3 GH146 GH43_22 GH43_34 GH43_22 GH43_26 GH43_27 GH43_22 GH43_22 9.B.28 3.A.1 3.A.1 LacI 3.A.1',\n",
       " 'GH51 GH146 GH97 NUDIX 2.A.21 GH43_4 1.B.14 1.B.14 HTH_AraC GH43_4 GH51 GH43_29 AAA',\n",
       " 'GH5_2 GH27 8.A.46 1.B.14 HTH_AraC GH26 2.A.2 GH130 GH26 GH5_7 GH97',\n",
       " 'GH36',\n",
       " '3.A.1 3.A.1 MarR GH43_24 GH30_5 2.A.3 3.A.1 HTH_11 2.A.3 GH146 GH43_22 GH43_34 GH43_22 GH43_26 GH43_27 GH43_22 GH43_22 9.B.28 3.A.1 3.A.1 LacI 3.A.1',\n",
       " 'GH3 HTH_AraC GH16 1.B.14 8.A.46 GH3',\n",
       " '9.B.33 3.A.1 HTH_5 GH51',\n",
       " 'HTH_AraC GH2 1.B.14 GH30_4 GH51',\n",
       " 'CE6 1.B.14 2.A.1 2.A.1',\n",
       " 'SBP_bac_1 3.A.1 3.A.1 GH42 GH36',\n",
       " '9.B.18 Aminotran_1_2 GT0 2.A.66 GT2',\n",
       " 'GH5_4 GH26 GH5_4 1.B.14 CE7 GH26 GH130 2.A.2',\n",
       " 'PL6 PL6_1 PL17_2 PL17 AraC_binding 2.A.1 PfkB',\n",
       " '1.B.14 GH3 1.B.14 8.A.46',\n",
       " '2.A.1 HTH_AraC 1.B.14 1.B.14 GH43_10 HTH_AraC GH43_1 GH10 2.A.2 GH67',\n",
       " '3.A.7 HMA 3.A.3 GH5_2 HTH_psq 2.A.115 TrmB 3.A.1 LacI SBP_bac_1 3.A.1 3.A.1',\n",
       " 'PL6 PL6_1 1.B.14 PL17_2 PL17',\n",
       " 'GH43_11 2.A.2 2.A.1',\n",
       " '8.A.9 GH77 9.B.28 3.A.1 3.A.1 LacI 3.A.1 8.A.9',\n",
       " 'HTH_AraC GH2 1.B.14',\n",
       " 'Pyr_redox GT4 GT2 GT4 GT2',\n",
       " 'CBM16 CBM32 PL18 PL6 PL6 SBP_bac_3 PfkB 2.A.1 AraC_binding PL17_2 PL17 PL6 PL6_1 PL7_5 GntR',\n",
       " 'GH2 GH29 PfkB GH63 2.A.21 Sigma70_r4 HTH_18 HTH_AraC 1.B.14 GH86 GH86 CBM6 GntR GH50 TetR_N Glyoxalase GH86 GntR GH50 1.B.14 2.A.1 GH117 GH117 PfkB HTH_1 1.B.6 GH50 2.A.56 2.A.56 GH16 HTH_3 GH50 Pyr_redox_2 CE1 2.A.21 HTH_AraC GH16 GH127 GH16 GH82 GH16 GH16 1.B.14 MarR HTH_11 Crp GH16',\n",
       " 'Trans_reg_C HisKA 3.A.1 GH2 2.A.21 Sigma70_r4_2 Sigma70_r2',\n",
       " 'GH94 GH20 GH9 3.A.1 3.A.1 3.A.1 3.A.1 3.A.1 HATPase_c HisKA PAS Response_reg',\n",
       " 'GH95',\n",
       " 'GH2',\n",
       " '2.A.66 8.A.3 1.B.18 9.B.18 Aminotran_1_2 GT52 GT14 GT2 9.B.18 2.A.14 GT25 GT4 4.D.1 CE4',\n",
       " 'GntR 3.A.1 3.A.1 3.A.1 3.A.1 PL15_1',\n",
       " 'GH16_16 HTH_8 PfkB GH2 GH117 GH117 3.A.1 3.A.1 3.A.1 LacI GH50',\n",
       " '8.A.3 1.B.18 2.A.66 GT2 GT4 GT2 9.B.18 2.A.14 GntR',\n",
       " '3.A.1 GH42 3.A.1 3.A.1 LacI',\n",
       " '2.A.1 1.B.14 CE6 GH151',\n",
       " '4.A.3 4.A.3 4.A.3 8.A.49 GntR GH26',\n",
       " 'CBM32 1.B.14 cNMP_binding',\n",
       " '1.B.14 GH10 GH115 GH11 2.A.2 GH10 GH43_1',\n",
       " '9.B.18 GT4 GT4 9.B.67 GT2 GT4 2.A.66',\n",
       " 'PL12_1 4.A.6 4.A.6 4.A.6 GH88 4.A.6',\n",
       " 'GH10 3.A.12 ATPase_2 SBP_bac_1 3.A.1 3.A.1 8.A.49 GH10 Fer4',\n",
       " 'GH51 GH43_4 HTH_AraC 1.B.14 GH43_4 2.A.21 NUDIX GH146 GH51',\n",
       " '3.A.1 HD 1.B.42 1.B.14 GH27 1.B.14 8.A.46 GH33 GH20 GH2 GH20',\n",
       " 'GH97 GH13_19 GH13_38 GH31 GH13 GH65 2.A.2 LacI 1.B.14 8.A.46',\n",
       " '2.A.66 GT2 GT0 Aminotran_1_2 9.B.18 9.B.18',\n",
       " 'GH18 GH18 GH20 PIG-L 8.A.46 1.B.14 GH18 8.A.46 1.B.14 LytTR',\n",
       " '3.A.1 3.A.1 3.A.1 GH42 LacI GH53 CBM61',\n",
       " 'MarR 4.A.3 4.A.3 GH1 4.A.3',\n",
       " 'GT4 CE4',\n",
       " '3.A.1 3.A.1 SBP_bac_1 GH43_26 LacI GH43_27 GH43_4 GH43_4 GH51 3.A.1']"
      ]
     },
     "execution_count": 326,
     "metadata": {},
     "output_type": "execute_result"
    }
   ],
   "source": [
    "X_train_spaces"
   ]
  },
  {
   "cell_type": "code",
   "execution_count": 93,
   "id": "da3b875e",
   "metadata": {},
   "outputs": [],
   "source": [
    "import tensorflow as tf"
   ]
  },
  {
   "cell_type": "code",
   "execution_count": 94,
   "id": "11b9f2f8",
   "metadata": {},
   "outputs": [],
   "source": [
    "input_layer = tf.keras.layers.Input(shape = (), dtype=tf.string)"
   ]
  },
  {
   "cell_type": "code",
   "execution_count": 95,
   "id": "53a32829",
   "metadata": {},
   "outputs": [],
   "source": [
    "text_vec = tf.keras.layers.TextVectorization(standardize=None, output_mode=\"count\")"
   ]
  },
  {
   "cell_type": "code",
   "execution_count": 96,
   "id": "13708e16",
   "metadata": {},
   "outputs": [],
   "source": [
    "X_train_spaces = [seq.replace(\"|\", \",\").replace(\",\", \" \") for seq in X_train.values]"
   ]
  },
  {
   "cell_type": "code",
   "execution_count": 97,
   "id": "0c54135b",
   "metadata": {},
   "outputs": [],
   "source": [
    "text_vec.adapt(np.array(X_train_spaces).reshape(-1,1))"
   ]
  },
  {
   "cell_type": "code",
   "execution_count": 98,
   "id": "2445b9d2",
   "metadata": {},
   "outputs": [],
   "source": [
    "text_vec_output = text_vec(input_layer)"
   ]
  },
  {
   "cell_type": "code",
   "execution_count": 99,
   "id": "a3780bb7",
   "metadata": {},
   "outputs": [],
   "source": [
    "dropout_binary = tf.keras.layers.Dropout(0.5)(text_vec_output)"
   ]
  },
  {
   "cell_type": "code",
   "execution_count": 100,
   "id": "d2291dcb",
   "metadata": {},
   "outputs": [],
   "source": [
    "binary_head = tf.keras.layers.Dense(1, name = \"binary\")(dropout_binary)"
   ]
  },
  {
   "cell_type": "code",
   "execution_count": 101,
   "id": "376b3ae3",
   "metadata": {},
   "outputs": [],
   "source": [
    "multi_classes = len(np.unique(y_train[\"high_level_substr_mod\"]))"
   ]
  },
  {
   "cell_type": "code",
   "execution_count": 102,
   "id": "e9ab8bea",
   "metadata": {},
   "outputs": [],
   "source": [
    "dropout_multi = tf.keras.layers.Dropout(0.5)(text_vec_output)"
   ]
  },
  {
   "cell_type": "code",
   "execution_count": 103,
   "id": "6a5296b9",
   "metadata": {},
   "outputs": [],
   "source": [
    "multi_class_head = tf.keras.layers.Dense(multi_classes, name = \"multi\")(dropout_multi)"
   ]
  },
  {
   "cell_type": "code",
   "execution_count": 104,
   "id": "cf93ffb3",
   "metadata": {},
   "outputs": [],
   "source": [
    "model = tf.keras.models.Model(input_layer, [binary_head, multi_class_head])"
   ]
  },
  {
   "cell_type": "code",
   "execution_count": 105,
   "id": "e47d34b5",
   "metadata": {},
   "outputs": [
    {
     "name": "stdout",
     "output_type": "stream",
     "text": [
      "Model: \"model_2\"\n",
      "__________________________________________________________________________________________________\n",
      "Layer (type)                    Output Shape         Param #     Connected to                     \n",
      "==================================================================================================\n",
      "input_3 (InputLayer)            [(None,)]            0                                            \n",
      "__________________________________________________________________________________________________\n",
      "text_vectorization_3 (TextVecto (None, 358)          0           input_3[0][0]                    \n",
      "__________________________________________________________________________________________________\n",
      "dropout_4 (Dropout)             (None, 358)          0           text_vectorization_3[0][0]       \n",
      "__________________________________________________________________________________________________\n",
      "dropout_5 (Dropout)             (None, 358)          0           text_vectorization_3[0][0]       \n",
      "__________________________________________________________________________________________________\n",
      "binary (Dense)                  (None, 1)            359         dropout_4[0][0]                  \n",
      "__________________________________________________________________________________________________\n",
      "multi (Dense)                   (None, 11)           3949        dropout_5[0][0]                  \n",
      "==================================================================================================\n",
      "Total params: 4,308\n",
      "Trainable params: 4,308\n",
      "Non-trainable params: 0\n",
      "__________________________________________________________________________________________________\n"
     ]
    }
   ],
   "source": [
    "model.summary()"
   ]
  },
  {
   "cell_type": "code",
   "execution_count": 106,
   "id": "78dc54ed",
   "metadata": {},
   "outputs": [],
   "source": [
    "model.compile(optimizer=tf.keras.optimizers.Adam(learning_rate=1e-3), \n",
    "             loss = {\"binary\": tf.keras.losses.BinaryCrossentropy(from_logits=True), \n",
    "                    \"multi\": tf.keras.losses.SparseCategoricalCrossentropy(from_logits=True)}, \n",
    "             metrics = {\"binary\": [tf.keras.metrics.BinaryAccuracy()], \n",
    "                        \"multi\": [tf.keras.metrics.SparseCategoricalAccuracy()]})"
   ]
  },
  {
   "cell_type": "code",
   "execution_count": 89,
   "id": "51dc559e",
   "metadata": {},
   "outputs": [],
   "source": [
    "from sklearn.preprocessing import LabelEncoder"
   ]
  },
  {
   "cell_type": "code",
   "execution_count": 90,
   "id": "383501a1",
   "metadata": {},
   "outputs": [],
   "source": [
    "le = LabelEncoder()"
   ]
  },
  {
   "cell_type": "code",
   "execution_count": 69,
   "id": "d10328f6",
   "metadata": {},
   "outputs": [
    {
     "data": {
      "text/plain": [
       "LabelEncoder()"
      ]
     },
     "execution_count": 69,
     "metadata": {},
     "output_type": "execute_result"
    }
   ],
   "source": [
    "le.fit(y_train[\"high_level_substr_mod\"])"
   ]
  },
  {
   "cell_type": "code",
   "execution_count": 70,
   "id": "eaa63db2",
   "metadata": {},
   "outputs": [],
   "source": [
    "y_train[\"high_level_substr_mod\"] = le.transform(y_train[\"high_level_substr_mod\"])"
   ]
  },
  {
   "cell_type": "code",
   "execution_count": 71,
   "id": "cfa9f14e",
   "metadata": {},
   "outputs": [],
   "source": [
    "y_train = y_train.astype(\"float\")"
   ]
  },
  {
   "cell_type": "code",
   "execution_count": 72,
   "id": "6b3299d6",
   "metadata": {},
   "outputs": [
    {
     "data": {
      "text/plain": [
       "binary                   float64\n",
       "high_level_substr_mod    float64\n",
       "dtype: object"
      ]
     },
     "execution_count": 72,
     "metadata": {},
     "output_type": "execute_result"
    }
   ],
   "source": [
    "y_train.dtypes"
   ]
  },
  {
   "cell_type": "code",
   "execution_count": 73,
   "id": "2ef37128",
   "metadata": {},
   "outputs": [
    {
     "name": "stdout",
     "output_type": "stream",
     "text": [
      "Model: \"model\"\n",
      "__________________________________________________________________________________________________\n",
      "Layer (type)                    Output Shape         Param #     Connected to                     \n",
      "==================================================================================================\n",
      "input_1 (InputLayer)            [(None,)]            0                                            \n",
      "__________________________________________________________________________________________________\n",
      "text_vectorization_1 (TextVecto (None, 100)          0           input_1[0][0]                    \n",
      "__________________________________________________________________________________________________\n",
      "dropout (Dropout)               (None, 100)          0           text_vectorization_1[0][0]       \n",
      "__________________________________________________________________________________________________\n",
      "dropout_1 (Dropout)             (None, 100)          0           text_vectorization_1[0][0]       \n",
      "__________________________________________________________________________________________________\n",
      "binary (Dense)                  (None, 1)            101         dropout[0][0]                    \n",
      "__________________________________________________________________________________________________\n",
      "multi (Dense)                   (None, 11)           1111        dropout_1[0][0]                  \n",
      "==================================================================================================\n",
      "Total params: 1,212\n",
      "Trainable params: 1,212\n",
      "Non-trainable params: 0\n",
      "__________________________________________________________________________________________________\n"
     ]
    }
   ],
   "source": [
    "model.summary()"
   ]
  },
  {
   "cell_type": "code",
   "execution_count": 91,
   "id": "25adf36c",
   "metadata": {},
   "outputs": [
    {
     "ename": "KeyboardInterrupt",
     "evalue": "",
     "output_type": "error",
     "traceback": [
      "\u001b[1;31m---------------------------------------------------------------------------\u001b[0m",
      "\u001b[1;31mKeyboardInterrupt\u001b[0m                         Traceback (most recent call last)",
      "\u001b[1;32m~\\AppData\\Local\\Temp/ipykernel_3152/1154396918.py\u001b[0m in \u001b[0;36m<module>\u001b[1;34m\u001b[0m\n\u001b[1;32m----> 1\u001b[1;33m \u001b[0mtf\u001b[0m\u001b[1;33m.\u001b[0m\u001b[0mkeras\u001b[0m\u001b[1;33m.\u001b[0m\u001b[0mutils\u001b[0m\u001b[1;33m.\u001b[0m\u001b[0mplot_model\u001b[0m\u001b[1;33m(\u001b[0m\u001b[0mmodel\u001b[0m\u001b[1;33m)\u001b[0m\u001b[1;33m\u001b[0m\u001b[1;33m\u001b[0m\u001b[0m\n\u001b[0m",
      "\u001b[1;32m~\\anaconda3\\envs\\newone\\lib\\site-packages\\keras\\utils\\vis_utils.py\u001b[0m in \u001b[0;36mplot_model\u001b[1;34m(model, to_file, show_shapes, show_dtype, show_layer_names, rankdir, expand_nested, dpi, layer_range)\u001b[0m\n\u001b[0;32m    382\u001b[0m     \u001b[0mThis\u001b[0m \u001b[0menables\u001b[0m \u001b[1;32min\u001b[0m\u001b[1;33m-\u001b[0m\u001b[0mline\u001b[0m \u001b[0mdisplay\u001b[0m \u001b[0mof\u001b[0m \u001b[0mthe\u001b[0m \u001b[0mmodel\u001b[0m \u001b[0mplots\u001b[0m \u001b[1;32min\u001b[0m \u001b[0mnotebooks\u001b[0m\u001b[1;33m.\u001b[0m\u001b[1;33m\u001b[0m\u001b[1;33m\u001b[0m\u001b[0m\n\u001b[0;32m    383\u001b[0m   \"\"\"\n\u001b[1;32m--> 384\u001b[1;33m   dot = model_to_dot(\n\u001b[0m\u001b[0;32m    385\u001b[0m       \u001b[0mmodel\u001b[0m\u001b[1;33m,\u001b[0m\u001b[1;33m\u001b[0m\u001b[1;33m\u001b[0m\u001b[0m\n\u001b[0;32m    386\u001b[0m       \u001b[0mshow_shapes\u001b[0m\u001b[1;33m=\u001b[0m\u001b[0mshow_shapes\u001b[0m\u001b[1;33m,\u001b[0m\u001b[1;33m\u001b[0m\u001b[1;33m\u001b[0m\u001b[0m\n",
      "\u001b[1;32m~\\anaconda3\\envs\\newone\\lib\\site-packages\\keras\\utils\\vis_utils.py\u001b[0m in \u001b[0;36mmodel_to_dot\u001b[1;34m(model, show_shapes, show_dtype, show_layer_names, rankdir, expand_nested, dpi, subgraph, layer_range)\u001b[0m\n\u001b[0;32m    136\u001b[0m   \u001b[1;32mfrom\u001b[0m \u001b[0mkeras\u001b[0m\u001b[1;33m.\u001b[0m\u001b[0mengine\u001b[0m \u001b[1;32mimport\u001b[0m \u001b[0mfunctional\u001b[0m\u001b[1;33m\u001b[0m\u001b[1;33m\u001b[0m\u001b[0m\n\u001b[0;32m    137\u001b[0m \u001b[1;33m\u001b[0m\u001b[0m\n\u001b[1;32m--> 138\u001b[1;33m   \u001b[1;32mif\u001b[0m \u001b[1;32mnot\u001b[0m \u001b[0mcheck_pydot\u001b[0m\u001b[1;33m(\u001b[0m\u001b[1;33m)\u001b[0m\u001b[1;33m:\u001b[0m\u001b[1;33m\u001b[0m\u001b[1;33m\u001b[0m\u001b[0m\n\u001b[0m\u001b[0;32m    139\u001b[0m     message = (\n\u001b[0;32m    140\u001b[0m         \u001b[1;34m'You must install pydot (`pip install pydot`) '\u001b[0m\u001b[1;33m\u001b[0m\u001b[1;33m\u001b[0m\u001b[0m\n",
      "\u001b[1;32m~\\anaconda3\\envs\\newone\\lib\\site-packages\\keras\\utils\\vis_utils.py\u001b[0m in \u001b[0;36mcheck_pydot\u001b[1;34m()\u001b[0m\n\u001b[0;32m     48\u001b[0m     \u001b[1;31m# Attempt to create an image of a blank graph\u001b[0m\u001b[1;33m\u001b[0m\u001b[1;33m\u001b[0m\u001b[0m\n\u001b[0;32m     49\u001b[0m     \u001b[1;31m# to check the pydot/graphviz installation.\u001b[0m\u001b[1;33m\u001b[0m\u001b[1;33m\u001b[0m\u001b[0m\n\u001b[1;32m---> 50\u001b[1;33m     \u001b[0mpydot\u001b[0m\u001b[1;33m.\u001b[0m\u001b[0mDot\u001b[0m\u001b[1;33m.\u001b[0m\u001b[0mcreate\u001b[0m\u001b[1;33m(\u001b[0m\u001b[0mpydot\u001b[0m\u001b[1;33m.\u001b[0m\u001b[0mDot\u001b[0m\u001b[1;33m(\u001b[0m\u001b[1;33m)\u001b[0m\u001b[1;33m)\u001b[0m\u001b[1;33m\u001b[0m\u001b[1;33m\u001b[0m\u001b[0m\n\u001b[0m\u001b[0;32m     51\u001b[0m     \u001b[1;32mreturn\u001b[0m \u001b[1;32mTrue\u001b[0m\u001b[1;33m\u001b[0m\u001b[1;33m\u001b[0m\u001b[0m\n\u001b[0;32m     52\u001b[0m   \u001b[1;32mexcept\u001b[0m \u001b[1;33m(\u001b[0m\u001b[0mOSError\u001b[0m\u001b[1;33m,\u001b[0m \u001b[0mpydot\u001b[0m\u001b[1;33m.\u001b[0m\u001b[0mInvocationException\u001b[0m\u001b[1;33m)\u001b[0m\u001b[1;33m:\u001b[0m\u001b[1;33m\u001b[0m\u001b[1;33m\u001b[0m\u001b[0m\n",
      "\u001b[1;32m~\\anaconda3\\envs\\newone\\lib\\site-packages\\pydotplus\\graphviz.py\u001b[0m in \u001b[0;36mcreate\u001b[1;34m(self, prog, format)\u001b[0m\n\u001b[0;32m   2002\u001b[0m         \u001b[0mstdout_output\u001b[0m \u001b[1;33m=\u001b[0m \u001b[0mlist\u001b[0m\u001b[1;33m(\u001b[0m\u001b[1;33m)\u001b[0m\u001b[1;33m\u001b[0m\u001b[1;33m\u001b[0m\u001b[0m\n\u001b[0;32m   2003\u001b[0m         \u001b[1;32mwhile\u001b[0m \u001b[1;32mTrue\u001b[0m\u001b[1;33m:\u001b[0m\u001b[1;33m\u001b[0m\u001b[1;33m\u001b[0m\u001b[0m\n\u001b[1;32m-> 2004\u001b[1;33m             \u001b[0mdata\u001b[0m \u001b[1;33m=\u001b[0m \u001b[0mstdout\u001b[0m\u001b[1;33m.\u001b[0m\u001b[0mread\u001b[0m\u001b[1;33m(\u001b[0m\u001b[1;33m)\u001b[0m\u001b[1;33m\u001b[0m\u001b[1;33m\u001b[0m\u001b[0m\n\u001b[0m\u001b[0;32m   2005\u001b[0m             \u001b[1;32mif\u001b[0m \u001b[1;32mnot\u001b[0m \u001b[0mdata\u001b[0m\u001b[1;33m:\u001b[0m\u001b[1;33m\u001b[0m\u001b[1;33m\u001b[0m\u001b[0m\n\u001b[0;32m   2006\u001b[0m                 \u001b[1;32mbreak\u001b[0m\u001b[1;33m\u001b[0m\u001b[1;33m\u001b[0m\u001b[0m\n",
      "\u001b[1;31mKeyboardInterrupt\u001b[0m: "
     ]
    }
   ],
   "source": [
    "tf.keras.utils.plot_model(model)"
   ]
  },
  {
   "cell_type": "code",
   "execution_count": 107,
   "id": "1025ba79",
   "metadata": {},
   "outputs": [
    {
     "name": "stdout",
     "output_type": "stream",
     "text": [
      "Epoch 1/100\n",
      "30/30 [==============================] - 1s 22ms/step - loss: 2.9430 - binary_loss: 0.6978 - multi_loss: 2.2452 - binary_binary_accuracy: 0.5745 - multi_sparse_categorical_accuracy: 0.3234 - val_loss: 2.9263 - val_binary_loss: 0.6721 - val_multi_loss: 2.2542 - val_binary_binary_accuracy: 0.4650 - val_multi_sparse_categorical_accuracy: 0.3439\n",
      "Epoch 2/100\n",
      "30/30 [==============================] - 0s 13ms/step - loss: 2.8712 - binary_loss: 0.6957 - multi_loss: 2.1754 - binary_binary_accuracy: 0.5745 - multi_sparse_categorical_accuracy: 0.3957 - val_loss: 2.8502 - val_binary_loss: 0.6675 - val_multi_loss: 2.1828 - val_binary_binary_accuracy: 0.4650 - val_multi_sparse_categorical_accuracy: 0.4395\n",
      "Epoch 3/100\n",
      "30/30 [==============================] - 0s 14ms/step - loss: 2.7228 - binary_loss: 0.6597 - multi_loss: 2.0630 - binary_binary_accuracy: 0.5872 - multi_sparse_categorical_accuracy: 0.4979 - val_loss: 2.7843 - val_binary_loss: 0.6634 - val_multi_loss: 2.1209 - val_binary_binary_accuracy: 0.4841 - val_multi_sparse_categorical_accuracy: 0.4904\n",
      "Epoch 4/100\n",
      "30/30 [==============================] - 0s 13ms/step - loss: 2.7253 - binary_loss: 0.6740 - multi_loss: 2.0513 - binary_binary_accuracy: 0.5957 - multi_sparse_categorical_accuracy: 0.5106 - val_loss: 2.7195 - val_binary_loss: 0.6583 - val_multi_loss: 2.0612 - val_binary_binary_accuracy: 0.5032 - val_multi_sparse_categorical_accuracy: 0.5096\n",
      "Epoch 5/100\n",
      "30/30 [==============================] - 0s 12ms/step - loss: 2.5559 - binary_loss: 0.6556 - multi_loss: 1.9003 - binary_binary_accuracy: 0.5915 - multi_sparse_categorical_accuracy: 0.5617 - val_loss: 2.6601 - val_binary_loss: 0.6538 - val_multi_loss: 2.0063 - val_binary_binary_accuracy: 0.5096 - val_multi_sparse_categorical_accuracy: 0.5096\n",
      "Epoch 6/100\n",
      "30/30 [==============================] - 0s 12ms/step - loss: 2.5251 - binary_loss: 0.6313 - multi_loss: 1.8938 - binary_binary_accuracy: 0.6255 - multi_sparse_categorical_accuracy: 0.5532 - val_loss: 2.6072 - val_binary_loss: 0.6503 - val_multi_loss: 1.9570 - val_binary_binary_accuracy: 0.5159 - val_multi_sparse_categorical_accuracy: 0.5096\n",
      "Epoch 7/100\n",
      "30/30 [==============================] - 0s 14ms/step - loss: 2.4609 - binary_loss: 0.6449 - multi_loss: 1.8160 - binary_binary_accuracy: 0.6170 - multi_sparse_categorical_accuracy: 0.5915 - val_loss: 2.5606 - val_binary_loss: 0.6463 - val_multi_loss: 1.9143 - val_binary_binary_accuracy: 0.5159 - val_multi_sparse_categorical_accuracy: 0.5159\n",
      "Epoch 8/100\n",
      "30/30 [==============================] - 0s 13ms/step - loss: 2.3690 - binary_loss: 0.6307 - multi_loss: 1.7383 - binary_binary_accuracy: 0.6426 - multi_sparse_categorical_accuracy: 0.6170 - val_loss: 2.5134 - val_binary_loss: 0.6420 - val_multi_loss: 1.8714 - val_binary_binary_accuracy: 0.5223 - val_multi_sparse_categorical_accuracy: 0.5223\n",
      "Epoch 9/100\n",
      "30/30 [==============================] - 0s 12ms/step - loss: 2.3427 - binary_loss: 0.6382 - multi_loss: 1.7045 - binary_binary_accuracy: 0.6128 - multi_sparse_categorical_accuracy: 0.6255 - val_loss: 2.4758 - val_binary_loss: 0.6398 - val_multi_loss: 1.8359 - val_binary_binary_accuracy: 0.5223 - val_multi_sparse_categorical_accuracy: 0.5287\n",
      "Epoch 10/100\n",
      "30/30 [==============================] - 0s 13ms/step - loss: 2.2608 - binary_loss: 0.6096 - multi_loss: 1.6512 - binary_binary_accuracy: 0.6596 - multi_sparse_categorical_accuracy: 0.6468 - val_loss: 2.4370 - val_binary_loss: 0.6370 - val_multi_loss: 1.7999 - val_binary_binary_accuracy: 0.5223 - val_multi_sparse_categorical_accuracy: 0.5287\n",
      "Epoch 11/100\n",
      "30/30 [==============================] - 0s 13ms/step - loss: 2.2104 - binary_loss: 0.6035 - multi_loss: 1.6069 - binary_binary_accuracy: 0.6596 - multi_sparse_categorical_accuracy: 0.6085 - val_loss: 2.4059 - val_binary_loss: 0.6348 - val_multi_loss: 1.7710 - val_binary_binary_accuracy: 0.5223 - val_multi_sparse_categorical_accuracy: 0.5223\n",
      "Epoch 12/100\n",
      "30/30 [==============================] - 0s 14ms/step - loss: 2.1778 - binary_loss: 0.6038 - multi_loss: 1.5739 - binary_binary_accuracy: 0.6298 - multi_sparse_categorical_accuracy: 0.6383 - val_loss: 2.3718 - val_binary_loss: 0.6328 - val_multi_loss: 1.7390 - val_binary_binary_accuracy: 0.5350 - val_multi_sparse_categorical_accuracy: 0.5414\n",
      "Epoch 13/100\n",
      "30/30 [==============================] - 0s 13ms/step - loss: 2.1212 - binary_loss: 0.5837 - multi_loss: 1.5376 - binary_binary_accuracy: 0.6681 - multi_sparse_categorical_accuracy: 0.6298 - val_loss: 2.3433 - val_binary_loss: 0.6297 - val_multi_loss: 1.7136 - val_binary_binary_accuracy: 0.5287 - val_multi_sparse_categorical_accuracy: 0.5414\n",
      "Epoch 14/100\n",
      "30/30 [==============================] - 0s 13ms/step - loss: 2.1065 - binary_loss: 0.5882 - multi_loss: 1.5183 - binary_binary_accuracy: 0.6383 - multi_sparse_categorical_accuracy: 0.6426 - val_loss: 2.3159 - val_binary_loss: 0.6282 - val_multi_loss: 1.6877 - val_binary_binary_accuracy: 0.5287 - val_multi_sparse_categorical_accuracy: 0.5414\n",
      "Epoch 15/100\n",
      "30/30 [==============================] - 0s 13ms/step - loss: 1.9959 - binary_loss: 0.5696 - multi_loss: 1.4262 - binary_binary_accuracy: 0.6809 - multi_sparse_categorical_accuracy: 0.6809 - val_loss: 2.2881 - val_binary_loss: 0.6248 - val_multi_loss: 1.6633 - val_binary_binary_accuracy: 0.5541 - val_multi_sparse_categorical_accuracy: 0.5478\n",
      "Epoch 16/100\n",
      "30/30 [==============================] - 0s 13ms/step - loss: 2.0049 - binary_loss: 0.5987 - multi_loss: 1.4062 - binary_binary_accuracy: 0.6383 - multi_sparse_categorical_accuracy: 0.6511 - val_loss: 2.2641 - val_binary_loss: 0.6225 - val_multi_loss: 1.6416 - val_binary_binary_accuracy: 0.5605 - val_multi_sparse_categorical_accuracy: 0.5478\n",
      "Epoch 17/100\n",
      "30/30 [==============================] - 0s 13ms/step - loss: 2.0042 - binary_loss: 0.5805 - multi_loss: 1.4236 - binary_binary_accuracy: 0.6553 - multi_sparse_categorical_accuracy: 0.6383 - val_loss: 2.2403 - val_binary_loss: 0.6202 - val_multi_loss: 1.6201 - val_binary_binary_accuracy: 0.5605 - val_multi_sparse_categorical_accuracy: 0.5541\n",
      "Epoch 18/100\n",
      "30/30 [==============================] - 0s 15ms/step - loss: 1.9292 - binary_loss: 0.5774 - multi_loss: 1.3518 - binary_binary_accuracy: 0.6766 - multi_sparse_categorical_accuracy: 0.6723 - val_loss: 2.2199 - val_binary_loss: 0.6183 - val_multi_loss: 1.6016 - val_binary_binary_accuracy: 0.5732 - val_multi_sparse_categorical_accuracy: 0.5541\n",
      "Epoch 19/100\n",
      "30/30 [==============================] - 0s 12ms/step - loss: 1.8972 - binary_loss: 0.5606 - multi_loss: 1.3366 - binary_binary_accuracy: 0.6766 - multi_sparse_categorical_accuracy: 0.6936 - val_loss: 2.1999 - val_binary_loss: 0.6157 - val_multi_loss: 1.5842 - val_binary_binary_accuracy: 0.5732 - val_multi_sparse_categorical_accuracy: 0.5541\n",
      "Epoch 20/100\n",
      "30/30 [==============================] - 0s 13ms/step - loss: 1.8775 - binary_loss: 0.5638 - multi_loss: 1.3136 - binary_binary_accuracy: 0.6723 - multi_sparse_categorical_accuracy: 0.6766 - val_loss: 2.1841 - val_binary_loss: 0.6134 - val_multi_loss: 1.5707 - val_binary_binary_accuracy: 0.5796 - val_multi_sparse_categorical_accuracy: 0.5541\n",
      "Epoch 21/100\n",
      "30/30 [==============================] - 0s 14ms/step - loss: 1.8739 - binary_loss: 0.5599 - multi_loss: 1.3140 - binary_binary_accuracy: 0.6596 - multi_sparse_categorical_accuracy: 0.6851 - val_loss: 2.1698 - val_binary_loss: 0.6123 - val_multi_loss: 1.5575 - val_binary_binary_accuracy: 0.5796 - val_multi_sparse_categorical_accuracy: 0.5541\n",
      "Epoch 22/100\n",
      "30/30 [==============================] - 0s 14ms/step - loss: 1.7937 - binary_loss: 0.5519 - multi_loss: 1.2418 - binary_binary_accuracy: 0.6851 - multi_sparse_categorical_accuracy: 0.6766 - val_loss: 2.1502 - val_binary_loss: 0.6095 - val_multi_loss: 1.5407 - val_binary_binary_accuracy: 0.5860 - val_multi_sparse_categorical_accuracy: 0.5605\n",
      "Epoch 23/100\n",
      "30/30 [==============================] - 0s 14ms/step - loss: 1.8148 - binary_loss: 0.5535 - multi_loss: 1.2614 - binary_binary_accuracy: 0.7106 - multi_sparse_categorical_accuracy: 0.6851 - val_loss: 2.1357 - val_binary_loss: 0.6085 - val_multi_loss: 1.5272 - val_binary_binary_accuracy: 0.5796 - val_multi_sparse_categorical_accuracy: 0.5669\n"
     ]
    },
    {
     "name": "stdout",
     "output_type": "stream",
     "text": [
      "Epoch 24/100\n",
      "30/30 [==============================] - 0s 13ms/step - loss: 1.7755 - binary_loss: 0.5503 - multi_loss: 1.2252 - binary_binary_accuracy: 0.6979 - multi_sparse_categorical_accuracy: 0.6766 - val_loss: 2.1218 - val_binary_loss: 0.6076 - val_multi_loss: 1.5141 - val_binary_binary_accuracy: 0.5860 - val_multi_sparse_categorical_accuracy: 0.5669\n",
      "Epoch 25/100\n",
      "30/30 [==============================] - 0s 13ms/step - loss: 1.7606 - binary_loss: 0.5432 - multi_loss: 1.2174 - binary_binary_accuracy: 0.6894 - multi_sparse_categorical_accuracy: 0.6809 - val_loss: 2.1080 - val_binary_loss: 0.6067 - val_multi_loss: 1.5014 - val_binary_binary_accuracy: 0.5924 - val_multi_sparse_categorical_accuracy: 0.5669\n",
      "Epoch 26/100\n",
      "30/30 [==============================] - 0s 15ms/step - loss: 1.7029 - binary_loss: 0.5174 - multi_loss: 1.1855 - binary_binary_accuracy: 0.6936 - multi_sparse_categorical_accuracy: 0.6851 - val_loss: 2.0962 - val_binary_loss: 0.6057 - val_multi_loss: 1.4905 - val_binary_binary_accuracy: 0.5924 - val_multi_sparse_categorical_accuracy: 0.5669\n",
      "Epoch 27/100\n",
      "30/30 [==============================] - 0s 14ms/step - loss: 1.7118 - binary_loss: 0.5382 - multi_loss: 1.1736 - binary_binary_accuracy: 0.6894 - multi_sparse_categorical_accuracy: 0.6851 - val_loss: 2.0830 - val_binary_loss: 0.6041 - val_multi_loss: 1.4788 - val_binary_binary_accuracy: 0.5924 - val_multi_sparse_categorical_accuracy: 0.5669\n",
      "Epoch 28/100\n",
      "30/30 [==============================] - 0s 13ms/step - loss: 1.7334 - binary_loss: 0.5347 - multi_loss: 1.1987 - binary_binary_accuracy: 0.6851 - multi_sparse_categorical_accuracy: 0.6766 - val_loss: 2.0714 - val_binary_loss: 0.6031 - val_multi_loss: 1.4683 - val_binary_binary_accuracy: 0.5924 - val_multi_sparse_categorical_accuracy: 0.5669\n",
      "Epoch 29/100\n",
      "30/30 [==============================] - 0s 14ms/step - loss: 1.6886 - binary_loss: 0.5305 - multi_loss: 1.1581 - binary_binary_accuracy: 0.7021 - multi_sparse_categorical_accuracy: 0.7021 - val_loss: 2.0585 - val_binary_loss: 0.6013 - val_multi_loss: 1.4572 - val_binary_binary_accuracy: 0.5987 - val_multi_sparse_categorical_accuracy: 0.5669\n",
      "Epoch 30/100\n",
      "30/30 [==============================] - 0s 13ms/step - loss: 1.6679 - binary_loss: 0.5149 - multi_loss: 1.1530 - binary_binary_accuracy: 0.7149 - multi_sparse_categorical_accuracy: 0.6809 - val_loss: 2.0489 - val_binary_loss: 0.5999 - val_multi_loss: 1.4490 - val_binary_binary_accuracy: 0.5987 - val_multi_sparse_categorical_accuracy: 0.5669\n",
      "Epoch 31/100\n",
      "30/30 [==============================] - 0s 14ms/step - loss: 1.6168 - binary_loss: 0.5256 - multi_loss: 1.0912 - binary_binary_accuracy: 0.7021 - multi_sparse_categorical_accuracy: 0.7234 - val_loss: 2.0399 - val_binary_loss: 0.5988 - val_multi_loss: 1.4411 - val_binary_binary_accuracy: 0.6051 - val_multi_sparse_categorical_accuracy: 0.5669\n",
      "Epoch 32/100\n",
      "30/30 [==============================] - 0s 14ms/step - loss: 1.6070 - binary_loss: 0.5059 - multi_loss: 1.1011 - binary_binary_accuracy: 0.7191 - multi_sparse_categorical_accuracy: 0.7234 - val_loss: 2.0285 - val_binary_loss: 0.5965 - val_multi_loss: 1.4320 - val_binary_binary_accuracy: 0.6115 - val_multi_sparse_categorical_accuracy: 0.5732\n",
      "Epoch 33/100\n",
      "30/30 [==============================] - 0s 13ms/step - loss: 1.6355 - binary_loss: 0.5142 - multi_loss: 1.1213 - binary_binary_accuracy: 0.7021 - multi_sparse_categorical_accuracy: 0.7106 - val_loss: 2.0182 - val_binary_loss: 0.5955 - val_multi_loss: 1.4227 - val_binary_binary_accuracy: 0.6178 - val_multi_sparse_categorical_accuracy: 0.5796\n",
      "Epoch 34/100\n",
      "30/30 [==============================] - 0s 14ms/step - loss: 1.5733 - binary_loss: 0.5006 - multi_loss: 1.0727 - binary_binary_accuracy: 0.7277 - multi_sparse_categorical_accuracy: 0.6894 - val_loss: 2.0106 - val_binary_loss: 0.5949 - val_multi_loss: 1.4157 - val_binary_binary_accuracy: 0.6115 - val_multi_sparse_categorical_accuracy: 0.5732\n",
      "Epoch 35/100\n",
      "30/30 [==============================] - 0s 12ms/step - loss: 1.5540 - binary_loss: 0.5112 - multi_loss: 1.0427 - binary_binary_accuracy: 0.7064 - multi_sparse_categorical_accuracy: 0.6936 - val_loss: 2.0035 - val_binary_loss: 0.5931 - val_multi_loss: 1.4104 - val_binary_binary_accuracy: 0.6178 - val_multi_sparse_categorical_accuracy: 0.5732\n",
      "Epoch 36/100\n",
      "30/30 [==============================] - 0s 12ms/step - loss: 1.5778 - binary_loss: 0.5092 - multi_loss: 1.0686 - binary_binary_accuracy: 0.6894 - multi_sparse_categorical_accuracy: 0.6979 - val_loss: 1.9952 - val_binary_loss: 0.5926 - val_multi_loss: 1.4026 - val_binary_binary_accuracy: 0.6178 - val_multi_sparse_categorical_accuracy: 0.5732\n",
      "Epoch 37/100\n",
      "30/30 [==============================] - 0s 13ms/step - loss: 1.5618 - binary_loss: 0.5033 - multi_loss: 1.0586 - binary_binary_accuracy: 0.7404 - multi_sparse_categorical_accuracy: 0.7064 - val_loss: 1.9854 - val_binary_loss: 0.5921 - val_multi_loss: 1.3933 - val_binary_binary_accuracy: 0.6178 - val_multi_sparse_categorical_accuracy: 0.5732\n",
      "Epoch 38/100\n",
      "30/30 [==============================] - 0s 13ms/step - loss: 1.5072 - binary_loss: 0.4886 - multi_loss: 1.0185 - binary_binary_accuracy: 0.7191 - multi_sparse_categorical_accuracy: 0.7234 - val_loss: 1.9799 - val_binary_loss: 0.5921 - val_multi_loss: 1.3878 - val_binary_binary_accuracy: 0.6178 - val_multi_sparse_categorical_accuracy: 0.5860\n",
      "Epoch 39/100\n",
      "30/30 [==============================] - 0s 14ms/step - loss: 1.4860 - binary_loss: 0.4929 - multi_loss: 0.9931 - binary_binary_accuracy: 0.7149 - multi_sparse_categorical_accuracy: 0.7149 - val_loss: 1.9718 - val_binary_loss: 0.5910 - val_multi_loss: 1.3808 - val_binary_binary_accuracy: 0.6178 - val_multi_sparse_categorical_accuracy: 0.5987\n",
      "Epoch 40/100\n",
      "30/30 [==============================] - 0s 14ms/step - loss: 1.5110 - binary_loss: 0.5049 - multi_loss: 1.0062 - binary_binary_accuracy: 0.7064 - multi_sparse_categorical_accuracy: 0.7149 - val_loss: 1.9633 - val_binary_loss: 0.5886 - val_multi_loss: 1.3747 - val_binary_binary_accuracy: 0.6178 - val_multi_sparse_categorical_accuracy: 0.5924\n",
      "Epoch 41/100\n",
      "30/30 [==============================] - 0s 13ms/step - loss: 1.5279 - binary_loss: 0.4996 - multi_loss: 1.0283 - binary_binary_accuracy: 0.7106 - multi_sparse_categorical_accuracy: 0.6894 - val_loss: 1.9572 - val_binary_loss: 0.5879 - val_multi_loss: 1.3693 - val_binary_binary_accuracy: 0.6178 - val_multi_sparse_categorical_accuracy: 0.5987\n",
      "Epoch 42/100\n",
      "30/30 [==============================] - 0s 13ms/step - loss: 1.4632 - binary_loss: 0.4789 - multi_loss: 0.9843 - binary_binary_accuracy: 0.7234 - multi_sparse_categorical_accuracy: 0.7319 - val_loss: 1.9509 - val_binary_loss: 0.5864 - val_multi_loss: 1.3645 - val_binary_binary_accuracy: 0.6178 - val_multi_sparse_categorical_accuracy: 0.5987\n",
      "Epoch 43/100\n",
      "30/30 [==============================] - 0s 13ms/step - loss: 1.4767 - binary_loss: 0.4863 - multi_loss: 0.9904 - binary_binary_accuracy: 0.7191 - multi_sparse_categorical_accuracy: 0.7191 - val_loss: 1.9443 - val_binary_loss: 0.5857 - val_multi_loss: 1.3586 - val_binary_binary_accuracy: 0.6178 - val_multi_sparse_categorical_accuracy: 0.5987\n",
      "Epoch 44/100\n",
      "30/30 [==============================] - 0s 13ms/step - loss: 1.4790 - binary_loss: 0.4752 - multi_loss: 1.0038 - binary_binary_accuracy: 0.7362 - multi_sparse_categorical_accuracy: 0.7021 - val_loss: 1.9388 - val_binary_loss: 0.5844 - val_multi_loss: 1.3544 - val_binary_binary_accuracy: 0.6242 - val_multi_sparse_categorical_accuracy: 0.5987\n",
      "Epoch 45/100\n",
      "30/30 [==============================] - 0s 14ms/step - loss: 1.4231 - binary_loss: 0.4777 - multi_loss: 0.9454 - binary_binary_accuracy: 0.7319 - multi_sparse_categorical_accuracy: 0.7277 - val_loss: 1.9307 - val_binary_loss: 0.5829 - val_multi_loss: 1.3478 - val_binary_binary_accuracy: 0.6306 - val_multi_sparse_categorical_accuracy: 0.5987\n",
      "Epoch 46/100\n",
      "30/30 [==============================] - 0s 12ms/step - loss: 1.3750 - binary_loss: 0.4666 - multi_loss: 0.9085 - binary_binary_accuracy: 0.7617 - multi_sparse_categorical_accuracy: 0.7277 - val_loss: 1.9266 - val_binary_loss: 0.5826 - val_multi_loss: 1.3439 - val_binary_binary_accuracy: 0.6306 - val_multi_sparse_categorical_accuracy: 0.5924\n"
     ]
    },
    {
     "name": "stdout",
     "output_type": "stream",
     "text": [
      "Epoch 47/100\n",
      "30/30 [==============================] - 0s 13ms/step - loss: 1.4326 - binary_loss: 0.4794 - multi_loss: 0.9532 - binary_binary_accuracy: 0.7191 - multi_sparse_categorical_accuracy: 0.7191 - val_loss: 1.9213 - val_binary_loss: 0.5818 - val_multi_loss: 1.3395 - val_binary_binary_accuracy: 0.6306 - val_multi_sparse_categorical_accuracy: 0.5924\n",
      "Epoch 48/100\n",
      "30/30 [==============================] - 0s 13ms/step - loss: 1.3990 - binary_loss: 0.4697 - multi_loss: 0.9294 - binary_binary_accuracy: 0.7617 - multi_sparse_categorical_accuracy: 0.7404 - val_loss: 1.9191 - val_binary_loss: 0.5824 - val_multi_loss: 1.3368 - val_binary_binary_accuracy: 0.6306 - val_multi_sparse_categorical_accuracy: 0.5924\n",
      "Epoch 49/100\n",
      "30/30 [==============================] - 0s 12ms/step - loss: 1.3719 - binary_loss: 0.4725 - multi_loss: 0.8994 - binary_binary_accuracy: 0.7447 - multi_sparse_categorical_accuracy: 0.7191 - val_loss: 1.9146 - val_binary_loss: 0.5828 - val_multi_loss: 1.3318 - val_binary_binary_accuracy: 0.6369 - val_multi_sparse_categorical_accuracy: 0.5924\n",
      "Epoch 50/100\n",
      "30/30 [==============================] - 0s 14ms/step - loss: 1.3890 - binary_loss: 0.4556 - multi_loss: 0.9334 - binary_binary_accuracy: 0.7447 - multi_sparse_categorical_accuracy: 0.7234 - val_loss: 1.9093 - val_binary_loss: 0.5824 - val_multi_loss: 1.3269 - val_binary_binary_accuracy: 0.6369 - val_multi_sparse_categorical_accuracy: 0.5860\n",
      "Epoch 51/100\n",
      "30/30 [==============================] - 0s 14ms/step - loss: 1.3579 - binary_loss: 0.4561 - multi_loss: 0.9017 - binary_binary_accuracy: 0.7489 - multi_sparse_categorical_accuracy: 0.7617 - val_loss: 1.9059 - val_binary_loss: 0.5822 - val_multi_loss: 1.3237 - val_binary_binary_accuracy: 0.6369 - val_multi_sparse_categorical_accuracy: 0.5860\n",
      "Epoch 52/100\n",
      "30/30 [==============================] - 0s 13ms/step - loss: 1.4007 - binary_loss: 0.4639 - multi_loss: 0.9369 - binary_binary_accuracy: 0.7319 - multi_sparse_categorical_accuracy: 0.7532 - val_loss: 1.8980 - val_binary_loss: 0.5816 - val_multi_loss: 1.3164 - val_binary_binary_accuracy: 0.6369 - val_multi_sparse_categorical_accuracy: 0.5860\n",
      "Epoch 53/100\n",
      "30/30 [==============================] - 0s 14ms/step - loss: 1.3700 - binary_loss: 0.4766 - multi_loss: 0.8933 - binary_binary_accuracy: 0.7660 - multi_sparse_categorical_accuracy: 0.7319 - val_loss: 1.8924 - val_binary_loss: 0.5809 - val_multi_loss: 1.3115 - val_binary_binary_accuracy: 0.6433 - val_multi_sparse_categorical_accuracy: 0.5860\n",
      "Epoch 54/100\n",
      "30/30 [==============================] - 0s 13ms/step - loss: 1.3986 - binary_loss: 0.4540 - multi_loss: 0.9445 - binary_binary_accuracy: 0.7447 - multi_sparse_categorical_accuracy: 0.7489 - val_loss: 1.8907 - val_binary_loss: 0.5812 - val_multi_loss: 1.3095 - val_binary_binary_accuracy: 0.6433 - val_multi_sparse_categorical_accuracy: 0.5860\n",
      "Epoch 55/100\n",
      "30/30 [==============================] - 0s 13ms/step - loss: 1.3289 - binary_loss: 0.4486 - multi_loss: 0.8803 - binary_binary_accuracy: 0.7830 - multi_sparse_categorical_accuracy: 0.7319 - val_loss: 1.8836 - val_binary_loss: 0.5793 - val_multi_loss: 1.3043 - val_binary_binary_accuracy: 0.6433 - val_multi_sparse_categorical_accuracy: 0.5924\n",
      "Epoch 56/100\n",
      "30/30 [==============================] - 0s 13ms/step - loss: 1.3327 - binary_loss: 0.4683 - multi_loss: 0.8644 - binary_binary_accuracy: 0.7447 - multi_sparse_categorical_accuracy: 0.7404 - val_loss: 1.8824 - val_binary_loss: 0.5799 - val_multi_loss: 1.3025 - val_binary_binary_accuracy: 0.6433 - val_multi_sparse_categorical_accuracy: 0.5924\n",
      "Epoch 57/100\n",
      "30/30 [==============================] - 0s 12ms/step - loss: 1.2977 - binary_loss: 0.4528 - multi_loss: 0.8449 - binary_binary_accuracy: 0.7447 - multi_sparse_categorical_accuracy: 0.7447 - val_loss: 1.8784 - val_binary_loss: 0.5784 - val_multi_loss: 1.3000 - val_binary_binary_accuracy: 0.6433 - val_multi_sparse_categorical_accuracy: 0.5924\n",
      "Epoch 58/100\n",
      "30/30 [==============================] - 0s 13ms/step - loss: 1.2851 - binary_loss: 0.4429 - multi_loss: 0.8421 - binary_binary_accuracy: 0.7702 - multi_sparse_categorical_accuracy: 0.7574 - val_loss: 1.8745 - val_binary_loss: 0.5775 - val_multi_loss: 1.2970 - val_binary_binary_accuracy: 0.6497 - val_multi_sparse_categorical_accuracy: 0.5924\n",
      "Epoch 59/100\n",
      "30/30 [==============================] - 0s 14ms/step - loss: 1.3242 - binary_loss: 0.4622 - multi_loss: 0.8620 - binary_binary_accuracy: 0.7447 - multi_sparse_categorical_accuracy: 0.7702 - val_loss: 1.8760 - val_binary_loss: 0.5786 - val_multi_loss: 1.2974 - val_binary_binary_accuracy: 0.6433 - val_multi_sparse_categorical_accuracy: 0.5860\n",
      "Epoch 60/100\n",
      "30/30 [==============================] - 0s 13ms/step - loss: 1.2573 - binary_loss: 0.4440 - multi_loss: 0.8133 - binary_binary_accuracy: 0.7532 - multi_sparse_categorical_accuracy: 0.7617 - val_loss: 1.8706 - val_binary_loss: 0.5782 - val_multi_loss: 1.2925 - val_binary_binary_accuracy: 0.6433 - val_multi_sparse_categorical_accuracy: 0.5860\n",
      "Epoch 61/100\n",
      "30/30 [==============================] - 0s 13ms/step - loss: 1.3029 - binary_loss: 0.4510 - multi_loss: 0.8519 - binary_binary_accuracy: 0.7489 - multi_sparse_categorical_accuracy: 0.7362 - val_loss: 1.8640 - val_binary_loss: 0.5773 - val_multi_loss: 1.2867 - val_binary_binary_accuracy: 0.6497 - val_multi_sparse_categorical_accuracy: 0.5860\n",
      "Epoch 62/100\n",
      "30/30 [==============================] - 0s 14ms/step - loss: 1.2860 - binary_loss: 0.4381 - multi_loss: 0.8479 - binary_binary_accuracy: 0.7660 - multi_sparse_categorical_accuracy: 0.7574 - val_loss: 1.8618 - val_binary_loss: 0.5770 - val_multi_loss: 1.2848 - val_binary_binary_accuracy: 0.6497 - val_multi_sparse_categorical_accuracy: 0.5860\n",
      "Epoch 63/100\n",
      "30/30 [==============================] - 0s 13ms/step - loss: 1.2857 - binary_loss: 0.4216 - multi_loss: 0.8640 - binary_binary_accuracy: 0.7915 - multi_sparse_categorical_accuracy: 0.7191 - val_loss: 1.8600 - val_binary_loss: 0.5773 - val_multi_loss: 1.2828 - val_binary_binary_accuracy: 0.6497 - val_multi_sparse_categorical_accuracy: 0.5860\n",
      "Epoch 64/100\n",
      "30/30 [==============================] - 0s 13ms/step - loss: 1.2810 - binary_loss: 0.4361 - multi_loss: 0.8449 - binary_binary_accuracy: 0.7787 - multi_sparse_categorical_accuracy: 0.7404 - val_loss: 1.8559 - val_binary_loss: 0.5774 - val_multi_loss: 1.2785 - val_binary_binary_accuracy: 0.6497 - val_multi_sparse_categorical_accuracy: 0.5924\n",
      "Epoch 65/100\n",
      "30/30 [==============================] - 0s 14ms/step - loss: 1.3052 - binary_loss: 0.4578 - multi_loss: 0.8474 - binary_binary_accuracy: 0.7404 - multi_sparse_categorical_accuracy: 0.7489 - val_loss: 1.8536 - val_binary_loss: 0.5778 - val_multi_loss: 1.2759 - val_binary_binary_accuracy: 0.6497 - val_multi_sparse_categorical_accuracy: 0.5924\n",
      "Epoch 66/100\n",
      "30/30 [==============================] - 0s 12ms/step - loss: 1.2258 - binary_loss: 0.4242 - multi_loss: 0.8017 - binary_binary_accuracy: 0.7787 - multi_sparse_categorical_accuracy: 0.7660 - val_loss: 1.8513 - val_binary_loss: 0.5775 - val_multi_loss: 1.2738 - val_binary_binary_accuracy: 0.6497 - val_multi_sparse_categorical_accuracy: 0.5924\n",
      "Epoch 67/100\n",
      "30/30 [==============================] - 0s 14ms/step - loss: 1.2383 - binary_loss: 0.4392 - multi_loss: 0.7990 - binary_binary_accuracy: 0.7745 - multi_sparse_categorical_accuracy: 0.7574 - val_loss: 1.8535 - val_binary_loss: 0.5782 - val_multi_loss: 1.2753 - val_binary_binary_accuracy: 0.6497 - val_multi_sparse_categorical_accuracy: 0.5924\n",
      "Epoch 68/100\n",
      "30/30 [==============================] - 0s 13ms/step - loss: 1.2645 - binary_loss: 0.4083 - multi_loss: 0.8562 - binary_binary_accuracy: 0.7702 - multi_sparse_categorical_accuracy: 0.7319 - val_loss: 1.8512 - val_binary_loss: 0.5781 - val_multi_loss: 1.2731 - val_binary_binary_accuracy: 0.6497 - val_multi_sparse_categorical_accuracy: 0.5987\n",
      "Epoch 69/100\n",
      "30/30 [==============================] - 0s 13ms/step - loss: 1.2206 - binary_loss: 0.4551 - multi_loss: 0.7655 - binary_binary_accuracy: 0.7617 - multi_sparse_categorical_accuracy: 0.7702 - val_loss: 1.8468 - val_binary_loss: 0.5765 - val_multi_loss: 1.2703 - val_binary_binary_accuracy: 0.6497 - val_multi_sparse_categorical_accuracy: 0.6051\n"
     ]
    },
    {
     "name": "stdout",
     "output_type": "stream",
     "text": [
      "Epoch 70/100\n",
      "30/30 [==============================] - 0s 13ms/step - loss: 1.2098 - binary_loss: 0.4397 - multi_loss: 0.7702 - binary_binary_accuracy: 0.7872 - multi_sparse_categorical_accuracy: 0.7617 - val_loss: 1.8442 - val_binary_loss: 0.5762 - val_multi_loss: 1.2680 - val_binary_binary_accuracy: 0.6497 - val_multi_sparse_categorical_accuracy: 0.6051\n",
      "Epoch 71/100\n",
      "30/30 [==============================] - 0s 12ms/step - loss: 1.2626 - binary_loss: 0.4374 - multi_loss: 0.8252 - binary_binary_accuracy: 0.7532 - multi_sparse_categorical_accuracy: 0.7447 - val_loss: 1.8433 - val_binary_loss: 0.5756 - val_multi_loss: 1.2677 - val_binary_binary_accuracy: 0.6561 - val_multi_sparse_categorical_accuracy: 0.6051\n",
      "Epoch 72/100\n",
      "30/30 [==============================] - 0s 13ms/step - loss: 1.2408 - binary_loss: 0.4313 - multi_loss: 0.8095 - binary_binary_accuracy: 0.7872 - multi_sparse_categorical_accuracy: 0.7702 - val_loss: 1.8399 - val_binary_loss: 0.5747 - val_multi_loss: 1.2652 - val_binary_binary_accuracy: 0.6624 - val_multi_sparse_categorical_accuracy: 0.6115\n",
      "Epoch 73/100\n",
      "30/30 [==============================] - 0s 14ms/step - loss: 1.1780 - binary_loss: 0.4389 - multi_loss: 0.7392 - binary_binary_accuracy: 0.7617 - multi_sparse_categorical_accuracy: 0.7830 - val_loss: 1.8381 - val_binary_loss: 0.5752 - val_multi_loss: 1.2630 - val_binary_binary_accuracy: 0.6624 - val_multi_sparse_categorical_accuracy: 0.6115\n",
      "Epoch 74/100\n",
      "30/30 [==============================] - 0s 12ms/step - loss: 1.1651 - binary_loss: 0.4175 - multi_loss: 0.7476 - binary_binary_accuracy: 0.7702 - multi_sparse_categorical_accuracy: 0.7787 - val_loss: 1.8343 - val_binary_loss: 0.5739 - val_multi_loss: 1.2604 - val_binary_binary_accuracy: 0.6624 - val_multi_sparse_categorical_accuracy: 0.6115\n",
      "Epoch 75/100\n",
      "30/30 [==============================] - 0s 13ms/step - loss: 1.2019 - binary_loss: 0.4272 - multi_loss: 0.7747 - binary_binary_accuracy: 0.7702 - multi_sparse_categorical_accuracy: 0.7702 - val_loss: 1.8356 - val_binary_loss: 0.5747 - val_multi_loss: 1.2609 - val_binary_binary_accuracy: 0.6624 - val_multi_sparse_categorical_accuracy: 0.6242\n",
      "Epoch 76/100\n",
      "30/30 [==============================] - 0s 13ms/step - loss: 1.1706 - binary_loss: 0.4298 - multi_loss: 0.7408 - binary_binary_accuracy: 0.7830 - multi_sparse_categorical_accuracy: 0.7702 - val_loss: 1.8333 - val_binary_loss: 0.5746 - val_multi_loss: 1.2587 - val_binary_binary_accuracy: 0.6688 - val_multi_sparse_categorical_accuracy: 0.6242\n",
      "Epoch 77/100\n",
      "30/30 [==============================] - 0s 13ms/step - loss: 1.2035 - binary_loss: 0.4323 - multi_loss: 0.7712 - binary_binary_accuracy: 0.7872 - multi_sparse_categorical_accuracy: 0.7532 - val_loss: 1.8315 - val_binary_loss: 0.5746 - val_multi_loss: 1.2569 - val_binary_binary_accuracy: 0.6688 - val_multi_sparse_categorical_accuracy: 0.6178\n",
      "Epoch 78/100\n",
      "30/30 [==============================] - 0s 13ms/step - loss: 1.1867 - binary_loss: 0.4055 - multi_loss: 0.7812 - binary_binary_accuracy: 0.7957 - multi_sparse_categorical_accuracy: 0.7532 - val_loss: 1.8318 - val_binary_loss: 0.5753 - val_multi_loss: 1.2565 - val_binary_binary_accuracy: 0.6688 - val_multi_sparse_categorical_accuracy: 0.6115\n",
      "Epoch 79/100\n",
      "30/30 [==============================] - 0s 13ms/step - loss: 1.1836 - binary_loss: 0.4336 - multi_loss: 0.7501 - binary_binary_accuracy: 0.7915 - multi_sparse_categorical_accuracy: 0.7745 - val_loss: 1.8312 - val_binary_loss: 0.5767 - val_multi_loss: 1.2545 - val_binary_binary_accuracy: 0.6688 - val_multi_sparse_categorical_accuracy: 0.6115\n",
      "Epoch 80/100\n",
      "30/30 [==============================] - 0s 13ms/step - loss: 1.1631 - binary_loss: 0.4077 - multi_loss: 0.7553 - binary_binary_accuracy: 0.7915 - multi_sparse_categorical_accuracy: 0.7745 - val_loss: 1.8297 - val_binary_loss: 0.5765 - val_multi_loss: 1.2532 - val_binary_binary_accuracy: 0.6688 - val_multi_sparse_categorical_accuracy: 0.6115\n",
      "Epoch 81/100\n",
      "30/30 [==============================] - 0s 13ms/step - loss: 1.1751 - binary_loss: 0.4146 - multi_loss: 0.7605 - binary_binary_accuracy: 0.7872 - multi_sparse_categorical_accuracy: 0.7489 - val_loss: 1.8285 - val_binary_loss: 0.5774 - val_multi_loss: 1.2511 - val_binary_binary_accuracy: 0.6688 - val_multi_sparse_categorical_accuracy: 0.6115\n",
      "Epoch 82/100\n",
      "30/30 [==============================] - 0s 13ms/step - loss: 1.1421 - binary_loss: 0.4199 - multi_loss: 0.7222 - binary_binary_accuracy: 0.7489 - multi_sparse_categorical_accuracy: 0.7787 - val_loss: 1.8282 - val_binary_loss: 0.5767 - val_multi_loss: 1.2515 - val_binary_binary_accuracy: 0.6752 - val_multi_sparse_categorical_accuracy: 0.6115\n",
      "Epoch 83/100\n",
      "30/30 [==============================] - 0s 13ms/step - loss: 1.1857 - binary_loss: 0.4005 - multi_loss: 0.7851 - binary_binary_accuracy: 0.8000 - multi_sparse_categorical_accuracy: 0.7532 - val_loss: 1.8272 - val_binary_loss: 0.5755 - val_multi_loss: 1.2518 - val_binary_binary_accuracy: 0.6688 - val_multi_sparse_categorical_accuracy: 0.6115\n",
      "Epoch 84/100\n",
      "30/30 [==============================] - 0s 14ms/step - loss: 1.1591 - binary_loss: 0.4249 - multi_loss: 0.7342 - binary_binary_accuracy: 0.7745 - multi_sparse_categorical_accuracy: 0.7489 - val_loss: 1.8250 - val_binary_loss: 0.5757 - val_multi_loss: 1.2492 - val_binary_binary_accuracy: 0.6688 - val_multi_sparse_categorical_accuracy: 0.6115\n",
      "Epoch 85/100\n",
      "30/30 [==============================] - 0s 13ms/step - loss: 1.1394 - binary_loss: 0.4155 - multi_loss: 0.7239 - binary_binary_accuracy: 0.7702 - multi_sparse_categorical_accuracy: 0.7915 - val_loss: 1.8224 - val_binary_loss: 0.5756 - val_multi_loss: 1.2468 - val_binary_binary_accuracy: 0.6688 - val_multi_sparse_categorical_accuracy: 0.6115\n",
      "Epoch 86/100\n",
      "30/30 [==============================] - 0s 13ms/step - loss: 1.1252 - binary_loss: 0.4033 - multi_loss: 0.7219 - binary_binary_accuracy: 0.7872 - multi_sparse_categorical_accuracy: 0.7915 - val_loss: 1.8221 - val_binary_loss: 0.5764 - val_multi_loss: 1.2457 - val_binary_binary_accuracy: 0.6752 - val_multi_sparse_categorical_accuracy: 0.6115\n",
      "Epoch 87/100\n",
      "30/30 [==============================] - 0s 14ms/step - loss: 1.1551 - binary_loss: 0.4432 - multi_loss: 0.7119 - binary_binary_accuracy: 0.7830 - multi_sparse_categorical_accuracy: 0.7617 - val_loss: 1.8213 - val_binary_loss: 0.5762 - val_multi_loss: 1.2450 - val_binary_binary_accuracy: 0.6688 - val_multi_sparse_categorical_accuracy: 0.6115\n",
      "Epoch 88/100\n",
      "30/30 [==============================] - 0s 13ms/step - loss: 1.1790 - binary_loss: 0.4027 - multi_loss: 0.7764 - binary_binary_accuracy: 0.8000 - multi_sparse_categorical_accuracy: 0.7660 - val_loss: 1.8252 - val_binary_loss: 0.5775 - val_multi_loss: 1.2477 - val_binary_binary_accuracy: 0.6752 - val_multi_sparse_categorical_accuracy: 0.6115\n",
      "Epoch 89/100\n",
      "30/30 [==============================] - 0s 14ms/step - loss: 1.1536 - binary_loss: 0.4138 - multi_loss: 0.7398 - binary_binary_accuracy: 0.7872 - multi_sparse_categorical_accuracy: 0.7447 - val_loss: 1.8234 - val_binary_loss: 0.5774 - val_multi_loss: 1.2460 - val_binary_binary_accuracy: 0.6752 - val_multi_sparse_categorical_accuracy: 0.6178\n",
      "Epoch 90/100\n",
      "30/30 [==============================] - 0s 12ms/step - loss: 1.0935 - binary_loss: 0.3980 - multi_loss: 0.6955 - binary_binary_accuracy: 0.7872 - multi_sparse_categorical_accuracy: 0.7957 - val_loss: 1.8242 - val_binary_loss: 0.5780 - val_multi_loss: 1.2463 - val_binary_binary_accuracy: 0.6752 - val_multi_sparse_categorical_accuracy: 0.6178\n",
      "Epoch 91/100\n",
      "30/30 [==============================] - 0s 13ms/step - loss: 1.1205 - binary_loss: 0.4009 - multi_loss: 0.7196 - binary_binary_accuracy: 0.7957 - multi_sparse_categorical_accuracy: 0.7957 - val_loss: 1.8235 - val_binary_loss: 0.5783 - val_multi_loss: 1.2452 - val_binary_binary_accuracy: 0.6752 - val_multi_sparse_categorical_accuracy: 0.6178\n",
      "Epoch 92/100\n",
      "30/30 [==============================] - 0s 14ms/step - loss: 1.1047 - binary_loss: 0.4149 - multi_loss: 0.6898 - binary_binary_accuracy: 0.7872 - multi_sparse_categorical_accuracy: 0.7787 - val_loss: 1.8164 - val_binary_loss: 0.5763 - val_multi_loss: 1.2402 - val_binary_binary_accuracy: 0.6752 - val_multi_sparse_categorical_accuracy: 0.6178\n"
     ]
    },
    {
     "name": "stdout",
     "output_type": "stream",
     "text": [
      "Epoch 93/100\n",
      "30/30 [==============================] - 0s 12ms/step - loss: 1.1262 - binary_loss: 0.4325 - multi_loss: 0.6937 - binary_binary_accuracy: 0.7617 - multi_sparse_categorical_accuracy: 0.7915 - val_loss: 1.8125 - val_binary_loss: 0.5757 - val_multi_loss: 1.2368 - val_binary_binary_accuracy: 0.6815 - val_multi_sparse_categorical_accuracy: 0.6178\n",
      "Epoch 94/100\n",
      "30/30 [==============================] - 0s 13ms/step - loss: 1.0762 - binary_loss: 0.3990 - multi_loss: 0.6772 - binary_binary_accuracy: 0.8085 - multi_sparse_categorical_accuracy: 0.8000 - val_loss: 1.8147 - val_binary_loss: 0.5761 - val_multi_loss: 1.2386 - val_binary_binary_accuracy: 0.6815 - val_multi_sparse_categorical_accuracy: 0.6178\n",
      "Epoch 95/100\n",
      "30/30 [==============================] - 0s 13ms/step - loss: 1.0590 - binary_loss: 0.4061 - multi_loss: 0.6529 - binary_binary_accuracy: 0.7915 - multi_sparse_categorical_accuracy: 0.7957 - val_loss: 1.8118 - val_binary_loss: 0.5749 - val_multi_loss: 1.2369 - val_binary_binary_accuracy: 0.6815 - val_multi_sparse_categorical_accuracy: 0.6242\n",
      "Epoch 96/100\n",
      "30/30 [==============================] - 0s 12ms/step - loss: 1.1340 - binary_loss: 0.4096 - multi_loss: 0.7244 - binary_binary_accuracy: 0.7957 - multi_sparse_categorical_accuracy: 0.7660 - val_loss: 1.8096 - val_binary_loss: 0.5753 - val_multi_loss: 1.2343 - val_binary_binary_accuracy: 0.6815 - val_multi_sparse_categorical_accuracy: 0.6242\n",
      "Epoch 97/100\n",
      "30/30 [==============================] - 0s 13ms/step - loss: 1.0663 - binary_loss: 0.4123 - multi_loss: 0.6540 - binary_binary_accuracy: 0.7957 - multi_sparse_categorical_accuracy: 0.8043 - val_loss: 1.8080 - val_binary_loss: 0.5749 - val_multi_loss: 1.2332 - val_binary_binary_accuracy: 0.6879 - val_multi_sparse_categorical_accuracy: 0.6242\n",
      "Epoch 98/100\n",
      "30/30 [==============================] - 0s 14ms/step - loss: 1.1260 - binary_loss: 0.4003 - multi_loss: 0.7257 - binary_binary_accuracy: 0.8000 - multi_sparse_categorical_accuracy: 0.7362 - val_loss: 1.8045 - val_binary_loss: 0.5740 - val_multi_loss: 1.2305 - val_binary_binary_accuracy: 0.6879 - val_multi_sparse_categorical_accuracy: 0.6178\n",
      "Epoch 99/100\n",
      "30/30 [==============================] - 0s 13ms/step - loss: 1.0649 - binary_loss: 0.4068 - multi_loss: 0.6581 - binary_binary_accuracy: 0.7957 - multi_sparse_categorical_accuracy: 0.8128 - val_loss: 1.8048 - val_binary_loss: 0.5744 - val_multi_loss: 1.2304 - val_binary_binary_accuracy: 0.6879 - val_multi_sparse_categorical_accuracy: 0.6178\n",
      "Epoch 100/100\n",
      "30/30 [==============================] - 0s 13ms/step - loss: 1.0893 - binary_loss: 0.4030 - multi_loss: 0.6863 - binary_binary_accuracy: 0.7957 - multi_sparse_categorical_accuracy: 0.7489 - val_loss: 1.8046 - val_binary_loss: 0.5748 - val_multi_loss: 1.2298 - val_binary_binary_accuracy: 0.6879 - val_multi_sparse_categorical_accuracy: 0.6178\n"
     ]
    },
    {
     "data": {
      "text/plain": [
       "<keras.callbacks.History at 0x1aa9faa8ac0>"
      ]
     },
     "execution_count": 107,
     "metadata": {},
     "output_type": "execute_result"
    }
   ],
   "source": [
    "model.fit(np.array(X_train_spaces), {\"binary\": y_train[\"binary\"].values, \n",
    "                    \"multi\": y_train[\"high_level_substr_mod\"].values}, epochs = 100, batch_size = 8, \n",
    "         validation_split = 0.4)"
   ]
  }
 ],
 "metadata": {
  "kernelspec": {
   "display_name": "newone",
   "language": "python",
   "name": "newone"
  },
  "language_info": {
   "codemirror_mode": {
    "name": "ipython",
    "version": 3
   },
   "file_extension": ".py",
   "mimetype": "text/x-python",
   "name": "python",
   "nbconvert_exporter": "python",
   "pygments_lexer": "ipython3",
   "version": "3.9.7"
  }
 },
 "nbformat": 4,
 "nbformat_minor": 5
}
