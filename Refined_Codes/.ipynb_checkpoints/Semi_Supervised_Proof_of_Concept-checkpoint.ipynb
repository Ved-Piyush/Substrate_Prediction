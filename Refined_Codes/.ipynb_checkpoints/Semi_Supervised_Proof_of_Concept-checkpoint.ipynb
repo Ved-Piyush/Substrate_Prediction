{
 "cells": [
  {
   "cell_type": "code",
   "execution_count": 122,
   "id": "20fe1aab",
   "metadata": {},
   "outputs": [],
   "source": [
    "import pandas as pd"
   ]
  },
  {
   "cell_type": "code",
   "execution_count": 123,
   "id": "0e3d8279",
   "metadata": {},
   "outputs": [],
   "source": [
    "# set the directory to where the data is\n",
    "import os\n",
    "\n",
    "os.chdir(r\"D:\\Gene_Project\")"
   ]
  },
  {
   "cell_type": "code",
   "execution_count": 124,
   "id": "d571549a",
   "metadata": {},
   "outputs": [],
   "source": [
    "unsupervised_data = pd.read_csv(r\"all_unsupervised_genes.csv\")"
   ]
  },
  {
   "cell_type": "code",
   "execution_count": 125,
   "id": "fc2e8097",
   "metadata": {},
   "outputs": [
    {
     "data": {
      "text/html": [
       "<div>\n",
       "<style scoped>\n",
       "    .dataframe tbody tr th:only-of-type {\n",
       "        vertical-align: middle;\n",
       "    }\n",
       "\n",
       "    .dataframe tbody tr th {\n",
       "        vertical-align: top;\n",
       "    }\n",
       "\n",
       "    .dataframe thead th {\n",
       "        text-align: right;\n",
       "    }\n",
       "</style>\n",
       "<table border=\"1\" class=\"dataframe\">\n",
       "  <thead>\n",
       "    <tr style=\"text-align: right;\">\n",
       "      <th></th>\n",
       "      <th>sequence</th>\n",
       "    </tr>\n",
       "  </thead>\n",
       "  <tbody>\n",
       "    <tr>\n",
       "      <th>0</th>\n",
       "      <td>1.A.72,MerR,GH23</td>\n",
       "    </tr>\n",
       "    <tr>\n",
       "      <th>1</th>\n",
       "      <td>3.A.1,CE4</td>\n",
       "    </tr>\n",
       "    <tr>\n",
       "      <th>2</th>\n",
       "      <td>3.A.23,9.A.5,MCPsignal,2.A.21,2.A.22,TetR_N,3....</td>\n",
       "    </tr>\n",
       "    <tr>\n",
       "      <th>3</th>\n",
       "      <td>CE4,8.A.5,3.A.1,3.A.1,3.A.1</td>\n",
       "    </tr>\n",
       "    <tr>\n",
       "      <th>4</th>\n",
       "      <td>GT51,Peripla_BP_2,3.A.1,3.A.1,9.B.169</td>\n",
       "    </tr>\n",
       "  </tbody>\n",
       "</table>\n",
       "</div>"
      ],
      "text/plain": [
       "                                            sequence\n",
       "0                                   1.A.72,MerR,GH23\n",
       "1                                          3.A.1,CE4\n",
       "2  3.A.23,9.A.5,MCPsignal,2.A.21,2.A.22,TetR_N,3....\n",
       "3                        CE4,8.A.5,3.A.1,3.A.1,3.A.1\n",
       "4              GT51,Peripla_BP_2,3.A.1,3.A.1,9.B.169"
      ]
     },
     "execution_count": 125,
     "metadata": {},
     "output_type": "execute_result"
    }
   ],
   "source": [
    "unsupervised_data.head()"
   ]
  },
  {
   "cell_type": "code",
   "execution_count": 126,
   "id": "d08104d1",
   "metadata": {},
   "outputs": [],
   "source": [
    "# load the data - new data that was provided\n",
    "supervised_data = pd.read_csv(r\"pul_seq_low_high_substr_year_corrected.csv\")"
   ]
  },
  {
   "cell_type": "code",
   "execution_count": 127,
   "id": "618f3ca5",
   "metadata": {},
   "outputs": [],
   "source": [
    "supervised_strings = supervised_data[\"sig_gene_seq\"]"
   ]
  },
  {
   "cell_type": "code",
   "execution_count": 128,
   "id": "27ed3338",
   "metadata": {},
   "outputs": [],
   "source": [
    "from sklearn.preprocessing import LabelEncoder"
   ]
  },
  {
   "cell_type": "code",
   "execution_count": 129,
   "id": "b8502be7",
   "metadata": {},
   "outputs": [],
   "source": [
    "le = LabelEncoder()"
   ]
  },
  {
   "cell_type": "code",
   "execution_count": 130,
   "id": "4352fd34",
   "metadata": {},
   "outputs": [
    {
     "data": {
      "text/plain": [
       "multiple_substrates           139\n",
       "mono/di/trisaccharide          78\n",
       "capsule polysaccharide         60\n",
       "algal glycans                  40\n",
       "pectin                         38\n",
       "xylan                          38\n",
       "O-antigen                      37\n",
       "galactan                       36\n",
       "alpha-glucan                   23\n",
       "beta-mannan                    19\n",
       "cellulose                      18\n",
       "chitin                         15\n",
       "glycosaminoglycan              14\n",
       "beta-glucan                    13\n",
       "N-glycan                       12\n",
       "exopolysaccharide              10\n",
       "-                               9\n",
       "fructan                         8\n",
       "alpha-mannan                    8\n",
       "host glycan                     7\n",
       "xyloglucan                      7\n",
       "plant polysaccharide            6\n",
       "glycoprotein                    6\n",
       "human milk oligosaccharide      5\n",
       "hemicellulose                   5\n",
       "O-glycan                        3\n",
       "Name: high_level_substr, dtype: int64"
      ]
     },
     "execution_count": 130,
     "metadata": {},
     "output_type": "execute_result"
    }
   ],
   "source": [
    "supervised_data[\"high_level_substr\"].value_counts()"
   ]
  },
  {
   "cell_type": "code",
   "execution_count": 131,
   "id": "3c4a9315",
   "metadata": {},
   "outputs": [],
   "source": [
    "to_keep = supervised_data[\"high_level_substr\"].value_counts().keys()[:5].tolist()"
   ]
  },
  {
   "cell_type": "code",
   "execution_count": 132,
   "id": "dbafaf5a",
   "metadata": {},
   "outputs": [],
   "source": [
    "supervised_data[\"high_level_substr\"] = [label if label in to_keep else \"others\" for label in supervised_data[\"high_level_substr\"]]"
   ]
  },
  {
   "cell_type": "code",
   "execution_count": 133,
   "id": "7ab0a4a5",
   "metadata": {},
   "outputs": [
    {
     "data": {
      "text/plain": [
       "LabelEncoder()"
      ]
     },
     "execution_count": 133,
     "metadata": {},
     "output_type": "execute_result"
    }
   ],
   "source": [
    "le.fit(supervised_data[\"high_level_substr\"])"
   ]
  },
  {
   "cell_type": "code",
   "execution_count": 134,
   "id": "a3490d2e",
   "metadata": {},
   "outputs": [],
   "source": [
    "supervised_data[\"high_level_substr\"]  = le.transform(supervised_data[\"high_level_substr\"])"
   ]
  },
  {
   "cell_type": "code",
   "execution_count": 135,
   "id": "c2621aed",
   "metadata": {},
   "outputs": [],
   "source": [
    "from sklearn.model_selection import train_test_split"
   ]
  },
  {
   "cell_type": "code",
   "execution_count": 136,
   "id": "22383dc8",
   "metadata": {},
   "outputs": [],
   "source": [
    "X_train, X_test, y_train, y_test = train_test_split(supervised_data[\"sig_gene_seq\"],\n",
    "                                                    supervised_data[\"high_level_substr\"], \n",
    "                                                   test_size=0.4, \n",
    "                                                   stratify = supervised_data[\"high_level_substr\"])"
   ]
  },
  {
   "cell_type": "code",
   "execution_count": 137,
   "id": "d00fca5e",
   "metadata": {},
   "outputs": [],
   "source": [
    "from sklearn.model_selection import PredefinedSplit"
   ]
  },
  {
   "cell_type": "code",
   "execution_count": 138,
   "id": "a2ae1ca2",
   "metadata": {},
   "outputs": [],
   "source": [
    "import numpy as np"
   ]
  },
  {
   "cell_type": "code",
   "execution_count": 139,
   "id": "919b6455",
   "metadata": {},
   "outputs": [],
   "source": [
    "X_train_test = np.hstack((X_train, X_test))"
   ]
  },
  {
   "cell_type": "code",
   "execution_count": 110,
   "id": "a9d9f37e",
   "metadata": {},
   "outputs": [],
   "source": [
    "y_mask = np.random.rand(len(y_train)) < 0.1"
   ]
  },
  {
   "cell_type": "code",
   "execution_count": 111,
   "id": "4b980519",
   "metadata": {},
   "outputs": [],
   "source": [
    "y_train[~y_mask] = -1"
   ]
  },
  {
   "cell_type": "code",
   "execution_count": 112,
   "id": "531564aa",
   "metadata": {},
   "outputs": [],
   "source": [
    "y_train_test = np.hstack((y_train, \n",
    "           y_test))"
   ]
  },
  {
   "cell_type": "code",
   "execution_count": 113,
   "id": "4b841ce5",
   "metadata": {},
   "outputs": [],
   "source": [
    "test_fold = np.hstack((np.repeat(-1, X_train.shape[0]), \n",
    "           np.repeat(0, X_test.shape[0])))"
   ]
  },
  {
   "cell_type": "code",
   "execution_count": 114,
   "id": "c0af3dd8",
   "metadata": {},
   "outputs": [],
   "source": [
    "pds = PredefinedSplit(test_fold)"
   ]
  },
  {
   "cell_type": "code",
   "execution_count": 115,
   "id": "ac29b426",
   "metadata": {},
   "outputs": [],
   "source": [
    "from sklearn.ensemble import RandomForestClassifier"
   ]
  },
  {
   "cell_type": "code",
   "execution_count": 116,
   "id": "4697ccdd",
   "metadata": {},
   "outputs": [],
   "source": [
    "from sklearn.model_selection import GridSearchCV\n",
    "from sklearn.pipeline import make_pipeline, Pipeline"
   ]
  },
  {
   "cell_type": "code",
   "execution_count": 117,
   "id": "299d5ff7",
   "metadata": {},
   "outputs": [],
   "source": [
    "from sklearn.feature_extraction.text import CountVectorizer"
   ]
  },
  {
   "cell_type": "code",
   "execution_count": 118,
   "id": "f3920eb5",
   "metadata": {},
   "outputs": [],
   "source": [
    "from sklearn.semi_supervised import SelfTrainingClassifier"
   ]
  },
  {
   "cell_type": "code",
   "execution_count": 119,
   "id": "ec0bdb95",
   "metadata": {},
   "outputs": [],
   "source": [
    "# SelfTraining Pipeline\n",
    "st_pipeline = Pipeline(\n",
    "    [\n",
    "        (\"vect\", CountVectorizer(tokenizer=lambda x: str(x).replace(\"|\", \",\").split(','),\n",
    "                                              lowercase = False)),\n",
    "        (\"clf\", SelfTrainingClassifier(RandomForestClassifier(n_jobs = 6), verbose=True, \n",
    "                                      criterion = \"k_best\", max_iter = 20))\n",
    "    ]\n",
    ")"
   ]
  },
  {
   "cell_type": "code",
   "execution_count": 120,
   "id": "02e27c45",
   "metadata": {},
   "outputs": [],
   "source": [
    "from sklearn.model_selection import cross_val_score"
   ]
  },
  {
   "cell_type": "code",
   "execution_count": 121,
   "id": "8a01dd55",
   "metadata": {},
   "outputs": [
    {
     "name": "stdout",
     "output_type": "stream",
     "text": [
      "End of iteration 1, added 60 new labels.\n",
      "End of iteration 2, added 16 new labels.\n",
      "End of iteration 3, added 2 new labels.\n",
      "End of iteration 4, added 4 new labels.\n",
      "End of iteration 5, added 3 new labels.\n",
      "End of iteration 6, added 1 new labels.\n",
      "End of iteration 7, added 1 new labels.\n",
      "End of iteration 8, added 4 new labels.\n",
      "End of iteration 9, added 1 new labels.\n",
      "End of iteration 10, added 1 new labels.\n"
     ]
    },
    {
     "data": {
      "text/plain": [
       "array([0.59160305])"
      ]
     },
     "execution_count": 121,
     "metadata": {},
     "output_type": "execute_result"
    }
   ],
   "source": [
    "cross_val_score(st_pipeline, X_train_test, y_train_test, cv = pds)"
   ]
  }
 ],
 "metadata": {
  "kernelspec": {
   "display_name": "newone",
   "language": "python",
   "name": "newone"
  },
  "language_info": {
   "codemirror_mode": {
    "name": "ipython",
    "version": 3
   },
   "file_extension": ".py",
   "mimetype": "text/x-python",
   "name": "python",
   "nbconvert_exporter": "python",
   "pygments_lexer": "ipython3",
   "version": "3.9.7"
  }
 },
 "nbformat": 4,
 "nbformat_minor": 5
}
