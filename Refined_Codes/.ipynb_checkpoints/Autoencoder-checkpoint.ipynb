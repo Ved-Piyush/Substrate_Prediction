{
 "cells": [
  {
   "cell_type": "code",
   "execution_count": 2,
   "id": "c025e2d8",
   "metadata": {},
   "outputs": [],
   "source": [
    "import os"
   ]
  },
  {
   "cell_type": "code",
   "execution_count": 3,
   "id": "c5a61f58",
   "metadata": {},
   "outputs": [],
   "source": [
    "os.chdir(r\"D:\\Gene_Project\")"
   ]
  },
  {
   "cell_type": "code",
   "execution_count": 4,
   "id": "0d539895",
   "metadata": {},
   "outputs": [],
   "source": [
    "import pandas as pd"
   ]
  },
  {
   "cell_type": "code",
   "execution_count": 5,
   "id": "94e3de86",
   "metadata": {},
   "outputs": [],
   "source": [
    "all_files = os.listdir(r\"unsupervised_CGC\\output\")"
   ]
  },
  {
   "cell_type": "code",
   "execution_count": 6,
   "id": "e84a39bd",
   "metadata": {},
   "outputs": [],
   "source": [
    "unsupervised_file_path = r\"unsupervised_CGC\\output\\\\\""
   ]
  },
  {
   "cell_type": "code",
   "execution_count": 7,
   "id": "f9a7278f",
   "metadata": {},
   "outputs": [],
   "source": [
    "def read_the_data(file):\n",
    "    # read one file\n",
    "    data = pd.read_csv(unsupervised_file_path + file, sep = \" \", header = None)\n",
    "    return data"
   ]
  },
  {
   "cell_type": "code",
   "execution_count": 8,
   "id": "aff09d29",
   "metadata": {},
   "outputs": [],
   "source": [
    "from joblib import Parallel, delayed"
   ]
  },
  {
   "cell_type": "code",
   "execution_count": 9,
   "id": "7805e219",
   "metadata": {},
   "outputs": [
    {
     "name": "stderr",
     "output_type": "stream",
     "text": [
      "[Parallel(n_jobs=6)]: Using backend LokyBackend with 6 concurrent workers.\n",
      "[Parallel(n_jobs=6)]: Done  20 tasks      | elapsed:    1.4s\n",
      "[Parallel(n_jobs=6)]: Done 908 tasks      | elapsed:    3.2s\n",
      "[Parallel(n_jobs=6)]: Done 4716 tasks      | elapsed:    7.5s\n",
      "[Parallel(n_jobs=6)]: Done 11884 tasks      | elapsed:   16.2s\n",
      "[Parallel(n_jobs=6)]: Done 19519 tasks      | elapsed:   27.4s\n",
      "[Parallel(n_jobs=6)]: Done 19582 out of 19582 | elapsed:   27.4s finished\n"
     ]
    }
   ],
   "source": [
    "all_files_df = Parallel(n_jobs=6, verbose = 3)(delayed(read_the_data)(i) for i in all_files)"
   ]
  },
  {
   "cell_type": "code",
   "execution_count": 10,
   "id": "53623a49",
   "metadata": {},
   "outputs": [
    {
     "data": {
      "text/plain": [
       "19582"
      ]
     },
     "execution_count": 10,
     "metadata": {},
     "output_type": "execute_result"
    }
   ],
   "source": [
    "len(all_files_df)"
   ]
  },
  {
   "cell_type": "code",
   "execution_count": 11,
   "id": "59f93a84",
   "metadata": {},
   "outputs": [],
   "source": [
    "all_unsupervised = pd.concat(all_files_df, ignore_index = True)"
   ]
  },
  {
   "cell_type": "code",
   "execution_count": 12,
   "id": "911af46c",
   "metadata": {},
   "outputs": [],
   "source": [
    "all_unsupervised.columns = [\"sequence\"]"
   ]
  },
  {
   "cell_type": "code",
   "execution_count": 13,
   "id": "bb1a8d51",
   "metadata": {},
   "outputs": [
    {
     "data": {
      "text/html": [
       "<div>\n",
       "<style scoped>\n",
       "    .dataframe tbody tr th:only-of-type {\n",
       "        vertical-align: middle;\n",
       "    }\n",
       "\n",
       "    .dataframe tbody tr th {\n",
       "        vertical-align: top;\n",
       "    }\n",
       "\n",
       "    .dataframe thead th {\n",
       "        text-align: right;\n",
       "    }\n",
       "</style>\n",
       "<table border=\"1\" class=\"dataframe\">\n",
       "  <thead>\n",
       "    <tr style=\"text-align: right;\">\n",
       "      <th></th>\n",
       "      <th>sequence</th>\n",
       "    </tr>\n",
       "  </thead>\n",
       "  <tbody>\n",
       "    <tr>\n",
       "      <th>0</th>\n",
       "      <td>1.A.72,MerR,GH23</td>\n",
       "    </tr>\n",
       "    <tr>\n",
       "      <th>1</th>\n",
       "      <td>3.A.1,CE4</td>\n",
       "    </tr>\n",
       "    <tr>\n",
       "      <th>2</th>\n",
       "      <td>3.A.23,9.A.5,MCPsignal,2.A.21,2.A.22,TetR_N,3....</td>\n",
       "    </tr>\n",
       "    <tr>\n",
       "      <th>3</th>\n",
       "      <td>CE4,8.A.5,3.A.1,3.A.1,3.A.1</td>\n",
       "    </tr>\n",
       "    <tr>\n",
       "      <th>4</th>\n",
       "      <td>GT51,Peripla_BP_2,3.A.1,3.A.1,9.B.169</td>\n",
       "    </tr>\n",
       "  </tbody>\n",
       "</table>\n",
       "</div>"
      ],
      "text/plain": [
       "                                            sequence\n",
       "0                                   1.A.72,MerR,GH23\n",
       "1                                          3.A.1,CE4\n",
       "2  3.A.23,9.A.5,MCPsignal,2.A.21,2.A.22,TetR_N,3....\n",
       "3                        CE4,8.A.5,3.A.1,3.A.1,3.A.1\n",
       "4              GT51,Peripla_BP_2,3.A.1,3.A.1,9.B.169"
      ]
     },
     "execution_count": 13,
     "metadata": {},
     "output_type": "execute_result"
    }
   ],
   "source": [
    "all_unsupervised.head()"
   ]
  },
  {
   "cell_type": "code",
   "execution_count": 15,
   "id": "8223e5cc",
   "metadata": {},
   "outputs": [
    {
     "data": {
      "text/plain": [
       "(771293, 1)"
      ]
     },
     "execution_count": 15,
     "metadata": {},
     "output_type": "execute_result"
    }
   ],
   "source": [
    "all_unsupervised.shape"
   ]
  },
  {
   "cell_type": "code",
   "execution_count": 16,
   "id": "a2cadef6",
   "metadata": {},
   "outputs": [
    {
     "data": {
      "text/plain": [
       "GT19,1.B.33                                                   2749\n",
       "1.B.33,GT19                                                   2415\n",
       "9.B.146,2.A.103,GT28                                          2152\n",
       "GT28,2.A.103,9.B.146                                          2111\n",
       "2.A.1,GT2                                                     2082\n",
       "                                                              ... \n",
       "2.A.51,GT1                                                       1\n",
       "2.A.7,CE4|GT2                                                    1\n",
       "3.A.1,PAS|SpoIIE|GAF,3.A.1,2.A.4,NUDIX,9.B.106,3.A.16,GT83       1\n",
       "4.B.1,GH18,Sigma70_r4_2|Sigma70_r2,MarR,2.A.1,2.A.40             1\n",
       "GT25,Rhodanese,3.A.3,9.B.105,2.A.1,9.B.27,3.A.3,2.A.6            1\n",
       "Name: sequence, Length: 240622, dtype: int64"
      ]
     },
     "execution_count": 16,
     "metadata": {},
     "output_type": "execute_result"
    }
   ],
   "source": [
    "all_unsupervised[\"sequence\"].value_counts()"
   ]
  },
  {
   "cell_type": "code",
   "execution_count": 17,
   "id": "080064ec",
   "metadata": {},
   "outputs": [],
   "source": [
    "all_unsupervised = all_unsupervised.drop_duplicates()"
   ]
  },
  {
   "cell_type": "code",
   "execution_count": 18,
   "id": "ac01b7f9",
   "metadata": {},
   "outputs": [
    {
     "data": {
      "text/plain": [
       "(240622, 1)"
      ]
     },
     "execution_count": 18,
     "metadata": {},
     "output_type": "execute_result"
    }
   ],
   "source": [
    "all_unsupervised.shape"
   ]
  },
  {
   "cell_type": "code",
   "execution_count": null,
   "id": "98ce018e",
   "metadata": {},
   "outputs": [],
   "source": [
    "all_unsupervised.to_csv(\"all_unsupervised_genes.csv\", index = False)"
   ]
  },
  {
   "cell_type": "code",
   "execution_count": null,
   "id": "74fbaba3",
   "metadata": {},
   "outputs": [],
   "source": [
    "all_unsupervised_split = [seq.split(\",\") for seq in all_unsupervised[\"sequence\"]]"
   ]
  },
  {
   "cell_type": "code",
   "execution_count": null,
   "id": "640f8249",
   "metadata": {},
   "outputs": [],
   "source": [
    "# get the lengths\n",
    "len_gene_seqs = [len(seq) for seq in all_unsupervised_split]"
   ]
  },
  {
   "cell_type": "code",
   "execution_count": null,
   "id": "8b0aa4d8",
   "metadata": {},
   "outputs": [],
   "source": [
    "import matplotlib.pyplot as plt"
   ]
  },
  {
   "cell_type": "code",
   "execution_count": null,
   "id": "e68a2fdc",
   "metadata": {},
   "outputs": [],
   "source": [
    "plt.hist(len_gene_seqs)\n",
    "plt.show()"
   ]
  },
  {
   "cell_type": "code",
   "execution_count": null,
   "id": "633a9e45",
   "metadata": {},
   "outputs": [],
   "source": [
    "all_genes = [gene for seq_split in all_unsupervised_split for gene in seq_split]"
   ]
  },
  {
   "cell_type": "code",
   "execution_count": null,
   "id": "871307fe",
   "metadata": {},
   "outputs": [],
   "source": [
    "from collections import Counter"
   ]
  },
  {
   "cell_type": "code",
   "execution_count": null,
   "id": "5a87e811",
   "metadata": {},
   "outputs": [],
   "source": [
    "unsupervised_genes = Counter(all_genes)"
   ]
  },
  {
   "cell_type": "code",
   "execution_count": null,
   "id": "4f1ee430",
   "metadata": {},
   "outputs": [],
   "source": [
    "len(Counter(all_genes))"
   ]
  },
  {
   "cell_type": "code",
   "execution_count": null,
   "id": "64fcec59",
   "metadata": {},
   "outputs": [],
   "source": [
    "# what if we also split on the |"
   ]
  },
  {
   "cell_type": "code",
   "execution_count": null,
   "id": "c078c11b",
   "metadata": {},
   "outputs": [],
   "source": [
    "all_unsupervised_split_1 = [seq.replace(\"|\", \",\").split(\",\") for seq in all_unsupervised[\"sequence\"]]"
   ]
  },
  {
   "cell_type": "code",
   "execution_count": null,
   "id": "749ce5cb",
   "metadata": {},
   "outputs": [],
   "source": [
    "all_genes_1 = [gene for seq_split in all_unsupervised_split_1 for gene in seq_split]"
   ]
  },
  {
   "cell_type": "code",
   "execution_count": null,
   "id": "47e7120e",
   "metadata": {},
   "outputs": [],
   "source": [
    "unsupervised_genes_1 = Counter(all_genes_1)"
   ]
  },
  {
   "cell_type": "code",
   "execution_count": null,
   "id": "94df72cf",
   "metadata": {},
   "outputs": [],
   "source": [
    "len(Counter(unsupervised_genes_1))"
   ]
  },
  {
   "cell_type": "code",
   "execution_count": null,
   "id": "40e4fed3",
   "metadata": {},
   "outputs": [],
   "source": [
    "vocab_genes = [k for k, v in Counter(unsupervised_genes_1).items() if v>= 10]"
   ]
  },
  {
   "cell_type": "code",
   "execution_count": null,
   "id": "54de6b8d",
   "metadata": {},
   "outputs": [],
   "source": [
    "# vocab_genes"
   ]
  },
  {
   "cell_type": "code",
   "execution_count": null,
   "id": "ff796efe",
   "metadata": {},
   "outputs": [],
   "source": [
    "# quite a significant difference"
   ]
  },
  {
   "cell_type": "code",
   "execution_count": null,
   "id": "5b235c70",
   "metadata": {},
   "outputs": [],
   "source": [
    "all_unsupervised = [seq.replace(\"|\", \",\").replace(\",\", \" \") for seq in all_unsupervised[\"sequence\"]]"
   ]
  },
  {
   "cell_type": "code",
   "execution_count": null,
   "id": "7807a24f",
   "metadata": {},
   "outputs": [],
   "source": [
    "# check the lengths\n",
    "len_all_unsupervised_split = [len(seq.split()) for seq in all_unsupervised]"
   ]
  },
  {
   "cell_type": "code",
   "execution_count": null,
   "id": "e4b1e4bc",
   "metadata": {},
   "outputs": [],
   "source": [
    "plt.hist(len_all_unsupervised_split)\n",
    "plt.show()"
   ]
  },
  {
   "cell_type": "code",
   "execution_count": null,
   "id": "ebc23606",
   "metadata": {},
   "outputs": [],
   "source": [
    "# split the sequences into train and test\n",
    "# generate some random indexes\n",
    "import random"
   ]
  },
  {
   "cell_type": "code",
   "execution_count": null,
   "id": "1afbe644",
   "metadata": {},
   "outputs": [],
   "source": [
    "import numpy as np\n"
   ]
  },
  {
   "cell_type": "code",
   "execution_count": null,
   "id": "208f34fe",
   "metadata": {},
   "outputs": [],
   "source": [
    "train_idxs = random.sample(range(0, len(all_unsupervised)), int(len(all_unsupervised)*0.8))"
   ]
  },
  {
   "cell_type": "code",
   "execution_count": null,
   "id": "4791f3be",
   "metadata": {},
   "outputs": [],
   "source": [
    "train_sequences = np.array(all_unsupervised)[train_idxs]"
   ]
  },
  {
   "cell_type": "code",
   "execution_count": null,
   "id": "e004fcb3",
   "metadata": {},
   "outputs": [],
   "source": [
    "val_idxs = list(set(range(0, len(all_unsupervised))).difference(train_idxs))"
   ]
  },
  {
   "cell_type": "code",
   "execution_count": null,
   "id": "70224177",
   "metadata": {},
   "outputs": [],
   "source": [
    "val_sequences = np.array(all_unsupervised)[val_idxs]"
   ]
  },
  {
   "cell_type": "code",
   "execution_count": null,
   "id": "587a256a",
   "metadata": {},
   "outputs": [],
   "source": [
    "len(train_sequences), len(val_sequences)"
   ]
  },
  {
   "cell_type": "code",
   "execution_count": null,
   "id": "e7a11403",
   "metadata": {},
   "outputs": [],
   "source": [
    "# maybe can cut it off around 30"
   ]
  },
  {
   "cell_type": "code",
   "execution_count": null,
   "id": "002d894b",
   "metadata": {},
   "outputs": [],
   "source": [
    "import tensorflow as tf"
   ]
  },
  {
   "cell_type": "code",
   "execution_count": null,
   "id": "8c66ec7d",
   "metadata": {},
   "outputs": [],
   "source": [
    "text_vec_layer = tf.keras.layers.TextVectorization(max_tokens = 1400, standardize = None, \n",
    "                                                  ngrams = 3, output_mode = \"int\", \n",
    "                                                  output_sequence_length = 20, pad_to_max_tokens = True)"
   ]
  },
  {
   "cell_type": "code",
   "execution_count": null,
   "id": "6d4bdd49",
   "metadata": {},
   "outputs": [],
   "source": [
    "text_vec_layer.adapt(train_sequences, batch_size = 100000)"
   ]
  },
  {
   "cell_type": "code",
   "execution_count": null,
   "id": "98120c8f",
   "metadata": {},
   "outputs": [],
   "source": [
    "# make the input layer\n",
    "input_layer = tf.keras.layers.Input(shape = (), dtype = tf.string)"
   ]
  },
  {
   "cell_type": "code",
   "execution_count": null,
   "id": "4b2530de",
   "metadata": {},
   "outputs": [],
   "source": [
    "# pass through text vec\n",
    "text_vec_output = text_vec_layer(input_layer)"
   ]
  },
  {
   "cell_type": "code",
   "execution_count": null,
   "id": "fc52a051",
   "metadata": {},
   "outputs": [],
   "source": [
    "# emb layer\n",
    "emb_layer = tf.keras.layers.Embedding(1400, 256, mask_zero = True)"
   ]
  },
  {
   "cell_type": "code",
   "execution_count": null,
   "id": "5974f7ee",
   "metadata": {},
   "outputs": [],
   "source": [
    "# emb output\n",
    "emb_output = emb_layer(text_vec_output)"
   ]
  },
  {
   "cell_type": "code",
   "execution_count": null,
   "id": "37346f0a",
   "metadata": {},
   "outputs": [],
   "source": [
    "# pass through lstm\n",
    "lstm_layer = tf.keras.layers.LSTM(128,return_state = True)"
   ]
  },
  {
   "cell_type": "code",
   "execution_count": null,
   "id": "b9425fca",
   "metadata": {},
   "outputs": [],
   "source": [
    "# pass through lstm\n",
    "lstm_output, lstm_hidden, lstm_carry = lstm_layer(emb_output)"
   ]
  },
  {
   "cell_type": "code",
   "execution_count": null,
   "id": "dcf59b6f",
   "metadata": {},
   "outputs": [],
   "source": [
    "# encoder hidden state\n",
    "encoder_state = [lstm_hidden, lstm_carry]"
   ]
  },
  {
   "cell_type": "code",
   "execution_count": null,
   "id": "75e9563f",
   "metadata": {},
   "outputs": [],
   "source": [
    "# repeat vector\n",
    "repeat_vec_output = tf.keras.layers.RepeatVector(20)(lstm_output)"
   ]
  },
  {
   "cell_type": "code",
   "execution_count": null,
   "id": "19bcd2ed",
   "metadata": {},
   "outputs": [],
   "source": [
    "# decoder lstm\n",
    "decoder_lstm_output = tf.keras.layers.LSTM(128, return_sequences = True)(repeat_vec_output, initial_state = encoder_state)"
   ]
  },
  {
   "cell_type": "code",
   "execution_count": null,
   "id": "2993d7fb",
   "metadata": {},
   "outputs": [],
   "source": [
    "# time distributed dense\n",
    "time_distributed_output = tf.keras.layers.TimeDistributed(tf.keras.layers.Dense(1400,\n",
    "                                                                               activation = \"softmax\"))(decoder_lstm_output)"
   ]
  },
  {
   "cell_type": "code",
   "execution_count": null,
   "id": "198865e5",
   "metadata": {},
   "outputs": [],
   "source": [
    "model = tf.keras.models.Model(input_layer, time_distributed_output)"
   ]
  },
  {
   "cell_type": "code",
   "execution_count": null,
   "id": "94f18503",
   "metadata": {},
   "outputs": [],
   "source": [
    "model.summary()"
   ]
  },
  {
   "cell_type": "code",
   "execution_count": null,
   "id": "9fddd2a3",
   "metadata": {},
   "outputs": [],
   "source": [
    "tf.keras.utils.plot_model(model, show_shapes = True)"
   ]
  },
  {
   "cell_type": "code",
   "execution_count": null,
   "id": "4d7b9fa0",
   "metadata": {},
   "outputs": [],
   "source": [
    "model.compile(loss = \"sparse_categorical_crossentropy\", optimizer = tf.keras.optimizers.Adam(), \n",
    "             metrics = tf.keras.metrics.SparseCategoricalAccuracy())"
   ]
  },
  {
   "cell_type": "code",
   "execution_count": null,
   "id": "f26b2e89",
   "metadata": {},
   "outputs": [],
   "source": [
    "# we need to create the numeric outputs\n",
    "train_ints = text_vec_layer(train_sequences)"
   ]
  },
  {
   "cell_type": "code",
   "execution_count": null,
   "id": "2058ac60",
   "metadata": {},
   "outputs": [],
   "source": [
    "val_ints = text_vec_layer(val_sequences)"
   ]
  },
  {
   "cell_type": "code",
   "execution_count": null,
   "id": "acf1b18f",
   "metadata": {},
   "outputs": [],
   "source": [
    "import numpy as np"
   ]
  },
  {
   "cell_type": "code",
   "execution_count": null,
   "id": "de0cda85",
   "metadata": {
    "scrolled": false
   },
   "outputs": [],
   "source": [
    "model.fit(train_sequences, train_ints, batch_size = 256, epochs = 500, shuffle = True, \n",
    "          validation_data = (val_sequences, val_ints), verbose = 1, \n",
    "         callbacks = tf.keras.callbacks.EarlyStopping(monitor = \"val_loss\", patience = 5, mode = \"min\", \n",
    "                                                     restore_best_weights=True), \n",
    "         validation_batch_size = 1000)"
   ]
  },
  {
   "cell_type": "code",
   "execution_count": null,
   "id": "77f31d43",
   "metadata": {},
   "outputs": [],
   "source": [
    "model.save(\"autoencoder\")"
   ]
  },
  {
   "cell_type": "code",
   "execution_count": null,
   "id": "635032fb",
   "metadata": {},
   "outputs": [],
   "source": [
    "model.layers[3].output[0]"
   ]
  },
  {
   "cell_type": "code",
   "execution_count": null,
   "id": "5365c7db",
   "metadata": {},
   "outputs": [],
   "source": [
    "model_extract = tf.keras.models.Model(input_layer, model.layers[3].output[0] )"
   ]
  },
  {
   "cell_type": "code",
   "execution_count": null,
   "id": "6ba6fa4c",
   "metadata": {},
   "outputs": [],
   "source": [
    "# read the data in"
   ]
  },
  {
   "cell_type": "code",
   "execution_count": null,
   "id": "cd58ff86",
   "metadata": {},
   "outputs": [],
   "source": [
    "# set the directory to where the data is\n",
    "import os\n",
    "\n",
    "os.chdir(r\"D:\\Gene_Project\")"
   ]
  },
  {
   "cell_type": "code",
   "execution_count": null,
   "id": "11964368",
   "metadata": {},
   "outputs": [],
   "source": [
    "# pandas for dealing with the data\n",
    "import pandas as pd\n",
    "# setting for seeing the entire string\n",
    "pd.options.display.max_colwidth = None\n",
    "pd.set_option('display.max_rows', 500)"
   ]
  },
  {
   "cell_type": "code",
   "execution_count": null,
   "id": "93164546",
   "metadata": {},
   "outputs": [],
   "source": [
    "# load the data - new data that was provided\n",
    "data = pd.read_csv(r\"pul_seq_low_high_substr_year_corrected.tsv\", sep = \"\\t\").dropna().sample(frac = 1.0)"
   ]
  },
  {
   "cell_type": "code",
   "execution_count": null,
   "id": "67f6cf05",
   "metadata": {},
   "outputs": [],
   "source": [
    "data.head()"
   ]
  },
  {
   "cell_type": "code",
   "execution_count": null,
   "id": "ddb7a216",
   "metadata": {},
   "outputs": [],
   "source": [
    "to_keep = data[\"high_level_substr\"].value_counts()[:5].keys()"
   ]
  },
  {
   "cell_type": "code",
   "execution_count": null,
   "id": "7d5a1ee4",
   "metadata": {},
   "outputs": [],
   "source": [
    "classes = [classes if classes in to_keep else \"others\" for classes in data[\"high_level_substr\"]]"
   ]
  },
  {
   "cell_type": "code",
   "execution_count": null,
   "id": "862144ca",
   "metadata": {},
   "outputs": [],
   "source": [
    "data[\"high_level_substr\"] = classes"
   ]
  },
  {
   "cell_type": "code",
   "execution_count": null,
   "id": "d7c1f3b5",
   "metadata": {},
   "outputs": [],
   "source": [
    "data[\"high_level_substr\"].value_counts()"
   ]
  },
  {
   "cell_type": "code",
   "execution_count": null,
   "id": "0693cbe4",
   "metadata": {},
   "outputs": [],
   "source": [
    "all_supervised = [seq.replace(\"|\", \",\").replace(\",\", \" \") for seq in data[\"sig_gene_seq\"]]"
   ]
  },
  {
   "cell_type": "code",
   "execution_count": null,
   "id": "fe8e3761",
   "metadata": {},
   "outputs": [],
   "source": [
    "len(all_supervised)"
   ]
  },
  {
   "cell_type": "code",
   "execution_count": null,
   "id": "1491fdee",
   "metadata": {},
   "outputs": [],
   "source": [
    "data.shape"
   ]
  },
  {
   "cell_type": "code",
   "execution_count": null,
   "id": "888a63a6",
   "metadata": {},
   "outputs": [],
   "source": [
    "# model_extract = tf.keras.models.load_model(r\"autoencoder\")"
   ]
  },
  {
   "cell_type": "code",
   "execution_count": null,
   "id": "2b76a20c",
   "metadata": {},
   "outputs": [],
   "source": [
    "data_extract = model_extract(np.array(all_supervised))"
   ]
  },
  {
   "cell_type": "code",
   "execution_count": null,
   "id": "5a093925",
   "metadata": {},
   "outputs": [],
   "source": [
    "np.save(\"data_extract.npy\", data_extract)"
   ]
  },
  {
   "cell_type": "code",
   "execution_count": null,
   "id": "a0672bac",
   "metadata": {},
   "outputs": [],
   "source": [
    "import numpy as np"
   ]
  },
  {
   "cell_type": "code",
   "execution_count": null,
   "id": "678af775",
   "metadata": {},
   "outputs": [],
   "source": [
    "data_extract = np.load(\"data_extract.npy\")"
   ]
  },
  {
   "cell_type": "code",
   "execution_count": null,
   "id": "c67e8f11",
   "metadata": {},
   "outputs": [],
   "source": [
    "from sklearn.ensemble import RandomForestClassifier\n",
    "\n",
    "rf = RandomForestClassifier(n_jobs = 6)"
   ]
  },
  {
   "cell_type": "code",
   "execution_count": null,
   "id": "07c15201",
   "metadata": {},
   "outputs": [],
   "source": [
    "from sklearn.model_selection import GridSearchCV"
   ]
  },
  {
   "cell_type": "code",
   "execution_count": null,
   "id": "055acd16",
   "metadata": {},
   "outputs": [],
   "source": [
    "param_grid = {\"n_estimators\": [100]}"
   ]
  },
  {
   "cell_type": "code",
   "execution_count": null,
   "id": "fca8a930",
   "metadata": {},
   "outputs": [],
   "source": [
    "search = GridSearchCV(rf, param_grid, n_jobs=6 , verbose = 3, cv = 5, scoring = \"accuracy\")"
   ]
  },
  {
   "cell_type": "code",
   "execution_count": null,
   "id": "ca4f6daf",
   "metadata": {},
   "outputs": [],
   "source": [
    "data[\"high_level_substr\"].value_counts()"
   ]
  },
  {
   "cell_type": "code",
   "execution_count": null,
   "id": "85c64634",
   "metadata": {},
   "outputs": [],
   "source": [
    "search.fit(data_extract, data[\"high_level_substr\"])"
   ]
  },
  {
   "cell_type": "code",
   "execution_count": null,
   "id": "3b3bc8bd",
   "metadata": {},
   "outputs": [],
   "source": [
    "search.best_score_"
   ]
  }
 ],
 "metadata": {
  "kernelspec": {
   "display_name": "newone",
   "language": "python",
   "name": "newone"
  },
  "language_info": {
   "codemirror_mode": {
    "name": "ipython",
    "version": 3
   },
   "file_extension": ".py",
   "mimetype": "text/x-python",
   "name": "python",
   "nbconvert_exporter": "python",
   "pygments_lexer": "ipython3",
   "version": "3.9.7"
  }
 },
 "nbformat": 4,
 "nbformat_minor": 5
}
