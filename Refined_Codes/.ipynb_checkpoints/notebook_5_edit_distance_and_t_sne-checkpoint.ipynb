{
 "cells": [
  {
   "cell_type": "code",
   "execution_count": 40,
   "id": "20fe1aab",
   "metadata": {},
   "outputs": [],
   "source": [
    "import pandas as pd"
   ]
  },
  {
   "cell_type": "code",
   "execution_count": 41,
   "id": "796d2b2f",
   "metadata": {},
   "outputs": [],
   "source": [
    "# set the directory to where the data is\n",
    "import os\n",
    "\n",
    "os.chdir(r\"D:\\Gene_Project\")"
   ]
  },
  {
   "cell_type": "code",
   "execution_count": 42,
   "id": "d571549a",
   "metadata": {},
   "outputs": [],
   "source": [
    "unsupervised_data = pd.read_csv(r\"all_unsupervised_genes.csv\")"
   ]
  },
  {
   "cell_type": "code",
   "execution_count": 43,
   "id": "fc2e8097",
   "metadata": {},
   "outputs": [
    {
     "data": {
      "text/html": [
       "<div>\n",
       "<style scoped>\n",
       "    .dataframe tbody tr th:only-of-type {\n",
       "        vertical-align: middle;\n",
       "    }\n",
       "\n",
       "    .dataframe tbody tr th {\n",
       "        vertical-align: top;\n",
       "    }\n",
       "\n",
       "    .dataframe thead th {\n",
       "        text-align: right;\n",
       "    }\n",
       "</style>\n",
       "<table border=\"1\" class=\"dataframe\">\n",
       "  <thead>\n",
       "    <tr style=\"text-align: right;\">\n",
       "      <th></th>\n",
       "      <th>sequence</th>\n",
       "    </tr>\n",
       "  </thead>\n",
       "  <tbody>\n",
       "    <tr>\n",
       "      <th>0</th>\n",
       "      <td>1.A.72,MerR,GH23</td>\n",
       "    </tr>\n",
       "    <tr>\n",
       "      <th>1</th>\n",
       "      <td>3.A.1,CE4</td>\n",
       "    </tr>\n",
       "    <tr>\n",
       "      <th>2</th>\n",
       "      <td>3.A.23,9.A.5,MCPsignal,2.A.21,2.A.22,TetR_N,3....</td>\n",
       "    </tr>\n",
       "    <tr>\n",
       "      <th>3</th>\n",
       "      <td>CE4,8.A.5,3.A.1,3.A.1,3.A.1</td>\n",
       "    </tr>\n",
       "    <tr>\n",
       "      <th>4</th>\n",
       "      <td>GT51,Peripla_BP_2,3.A.1,3.A.1,9.B.169</td>\n",
       "    </tr>\n",
       "  </tbody>\n",
       "</table>\n",
       "</div>"
      ],
      "text/plain": [
       "                                            sequence\n",
       "0                                   1.A.72,MerR,GH23\n",
       "1                                          3.A.1,CE4\n",
       "2  3.A.23,9.A.5,MCPsignal,2.A.21,2.A.22,TetR_N,3....\n",
       "3                        CE4,8.A.5,3.A.1,3.A.1,3.A.1\n",
       "4              GT51,Peripla_BP_2,3.A.1,3.A.1,9.B.169"
      ]
     },
     "execution_count": 43,
     "metadata": {},
     "output_type": "execute_result"
    }
   ],
   "source": [
    "unsupervised_data.head()"
   ]
  },
  {
   "cell_type": "code",
   "execution_count": 44,
   "id": "03bae24a",
   "metadata": {},
   "outputs": [
    {
     "data": {
      "text/html": [
       "<div>\n",
       "<style scoped>\n",
       "    .dataframe tbody tr th:only-of-type {\n",
       "        vertical-align: middle;\n",
       "    }\n",
       "\n",
       "    .dataframe tbody tr th {\n",
       "        vertical-align: top;\n",
       "    }\n",
       "\n",
       "    .dataframe thead th {\n",
       "        text-align: right;\n",
       "    }\n",
       "</style>\n",
       "<table border=\"1\" class=\"dataframe\">\n",
       "  <thead>\n",
       "    <tr style=\"text-align: right;\">\n",
       "      <th></th>\n",
       "      <th>sequence</th>\n",
       "    </tr>\n",
       "  </thead>\n",
       "  <tbody>\n",
       "    <tr>\n",
       "      <th>0</th>\n",
       "      <td>1.A.72,MerR,GH23</td>\n",
       "    </tr>\n",
       "    <tr>\n",
       "      <th>1</th>\n",
       "      <td>3.A.1,CE4</td>\n",
       "    </tr>\n",
       "    <tr>\n",
       "      <th>2</th>\n",
       "      <td>3.A.23,9.A.5,MCPsignal,2.A.21,2.A.22,TetR_N,3....</td>\n",
       "    </tr>\n",
       "    <tr>\n",
       "      <th>3</th>\n",
       "      <td>CE4,8.A.5,3.A.1,3.A.1,3.A.1</td>\n",
       "    </tr>\n",
       "    <tr>\n",
       "      <th>4</th>\n",
       "      <td>GT51,Peripla_BP_2,3.A.1,3.A.1,9.B.169</td>\n",
       "    </tr>\n",
       "    <tr>\n",
       "      <th>...</th>\n",
       "      <td>...</td>\n",
       "    </tr>\n",
       "    <tr>\n",
       "      <th>240617</th>\n",
       "      <td>3.A.23,GH23,1.B.1,Sigma70_r2|Sigma70_r4_2,FecR...</td>\n",
       "    </tr>\n",
       "    <tr>\n",
       "      <th>240618</th>\n",
       "      <td>3.A.1,3.A.1,3.A.1,3.A.1,1.B.48,Pyr_redox_2,1.B...</td>\n",
       "    </tr>\n",
       "    <tr>\n",
       "      <th>240619</th>\n",
       "      <td>9.B.145,HTH_1|LysR_substrate,2.A.1,3.A.1,3.A.1...</td>\n",
       "    </tr>\n",
       "    <tr>\n",
       "      <th>240620</th>\n",
       "      <td>1.B.12,Peripla_BP_3|LacI,3.A.1,SBP_bac_1,3.A.1...</td>\n",
       "    </tr>\n",
       "    <tr>\n",
       "      <th>240621</th>\n",
       "      <td>GT25,Rhodanese,3.A.3,9.B.105,2.A.1,9.B.27,3.A....</td>\n",
       "    </tr>\n",
       "  </tbody>\n",
       "</table>\n",
       "<p>240622 rows × 1 columns</p>\n",
       "</div>"
      ],
      "text/plain": [
       "                                                 sequence\n",
       "0                                        1.A.72,MerR,GH23\n",
       "1                                               3.A.1,CE4\n",
       "2       3.A.23,9.A.5,MCPsignal,2.A.21,2.A.22,TetR_N,3....\n",
       "3                             CE4,8.A.5,3.A.1,3.A.1,3.A.1\n",
       "4                   GT51,Peripla_BP_2,3.A.1,3.A.1,9.B.169\n",
       "...                                                   ...\n",
       "240617  3.A.23,GH23,1.B.1,Sigma70_r2|Sigma70_r4_2,FecR...\n",
       "240618  3.A.1,3.A.1,3.A.1,3.A.1,1.B.48,Pyr_redox_2,1.B...\n",
       "240619  9.B.145,HTH_1|LysR_substrate,2.A.1,3.A.1,3.A.1...\n",
       "240620  1.B.12,Peripla_BP_3|LacI,3.A.1,SBP_bac_1,3.A.1...\n",
       "240621  GT25,Rhodanese,3.A.3,9.B.105,2.A.1,9.B.27,3.A....\n",
       "\n",
       "[240622 rows x 1 columns]"
      ]
     },
     "execution_count": 44,
     "metadata": {},
     "output_type": "execute_result"
    }
   ],
   "source": [
    "unsupervised_data.drop_duplicates()"
   ]
  },
  {
   "cell_type": "code",
   "execution_count": 45,
   "id": "efc60230",
   "metadata": {},
   "outputs": [],
   "source": [
    "# unsupervised_data[unsupervised_data.duplicated(keep=False)]"
   ]
  },
  {
   "cell_type": "code",
   "execution_count": 46,
   "id": "a85e524a",
   "metadata": {},
   "outputs": [],
   "source": [
    "import py_stringmatching"
   ]
  },
  {
   "cell_type": "code",
   "execution_count": 47,
   "id": "2692b88c",
   "metadata": {},
   "outputs": [],
   "source": [
    "from py_stringmatching.similarity_measure.monge_elkan import MongeElkan"
   ]
  },
  {
   "cell_type": "code",
   "execution_count": 48,
   "id": "4231069f",
   "metadata": {},
   "outputs": [],
   "source": [
    "# load the data - new data that was provided\n",
    "supervised_data = pd.read_csv(r\"pul_seq_low_high_substr_year_corrected.csv\")"
   ]
  },
  {
   "cell_type": "code",
   "execution_count": 49,
   "id": "90cb8c5d",
   "metadata": {},
   "outputs": [
    {
     "data": {
      "text/html": [
       "<div>\n",
       "<style scoped>\n",
       "    .dataframe tbody tr th:only-of-type {\n",
       "        vertical-align: middle;\n",
       "    }\n",
       "\n",
       "    .dataframe tbody tr th {\n",
       "        vertical-align: top;\n",
       "    }\n",
       "\n",
       "    .dataframe thead th {\n",
       "        text-align: right;\n",
       "    }\n",
       "</style>\n",
       "<table border=\"1\" class=\"dataframe\">\n",
       "  <thead>\n",
       "    <tr style=\"text-align: right;\">\n",
       "      <th></th>\n",
       "      <th>PULid</th>\n",
       "      <th>sig_gene_seq</th>\n",
       "      <th>low_level_substr</th>\n",
       "      <th>high_level_substr</th>\n",
       "      <th>Pub_year</th>\n",
       "    </tr>\n",
       "  </thead>\n",
       "  <tbody>\n",
       "    <tr>\n",
       "      <th>0</th>\n",
       "      <td>PUL0001</td>\n",
       "      <td>GH1,8.A.49,CE2,GH130,GH130,3.A.1,3.A.1,SBP_bac...</td>\n",
       "      <td>beta-mannan</td>\n",
       "      <td>beta-mannan</td>\n",
       "      <td>2019</td>\n",
       "    </tr>\n",
       "    <tr>\n",
       "      <th>1</th>\n",
       "      <td>PUL0002</td>\n",
       "      <td>GH16</td>\n",
       "      <td>lichenan</td>\n",
       "      <td>beta-glucan</td>\n",
       "      <td>1996</td>\n",
       "    </tr>\n",
       "    <tr>\n",
       "      <th>2</th>\n",
       "      <td>PUL0003</td>\n",
       "      <td>GH30_8,GH43_16|CBM6</td>\n",
       "      <td>xylan</td>\n",
       "      <td>xylan</td>\n",
       "      <td>2016</td>\n",
       "    </tr>\n",
       "    <tr>\n",
       "      <th>3</th>\n",
       "      <td>PUL0004</td>\n",
       "      <td>4.A.1,GH1</td>\n",
       "      <td>glucose,cellobiose,maltose</td>\n",
       "      <td>multiple_substrates</td>\n",
       "      <td>2016</td>\n",
       "    </tr>\n",
       "    <tr>\n",
       "      <th>4</th>\n",
       "      <td>PUL0005</td>\n",
       "      <td>GH94,GH3</td>\n",
       "      <td>beta-glucan,sophorose,laminaribiose</td>\n",
       "      <td>multiple_substrates</td>\n",
       "      <td>2016</td>\n",
       "    </tr>\n",
       "    <tr>\n",
       "      <th>...</th>\n",
       "      <td>...</td>\n",
       "      <td>...</td>\n",
       "      <td>...</td>\n",
       "      <td>...</td>\n",
       "      <td>...</td>\n",
       "    </tr>\n",
       "    <tr>\n",
       "      <th>649</th>\n",
       "      <td>PUL0652</td>\n",
       "      <td>GH2,2.A.21,3.D.1,GH96,GH96,2.A.1,GH50,GH50,GH5...</td>\n",
       "      <td>agar</td>\n",
       "      <td>algal glycans</td>\n",
       "      <td>2021</td>\n",
       "    </tr>\n",
       "    <tr>\n",
       "      <th>650</th>\n",
       "      <td>PUL0653</td>\n",
       "      <td>GH16_16,HTH_8,PfkB,GH2,GH117|GH117,3.A.1,3.A.1...</td>\n",
       "      <td>agar</td>\n",
       "      <td>algal glycans</td>\n",
       "      <td>2021</td>\n",
       "    </tr>\n",
       "    <tr>\n",
       "      <th>651</th>\n",
       "      <td>PUL0654</td>\n",
       "      <td>GerE,1.B.14,GH144,GH144,CE1,GH3,BLUF,PL6|PL6_1...</td>\n",
       "      <td>alginate</td>\n",
       "      <td>algal glycans</td>\n",
       "      <td>2021</td>\n",
       "    </tr>\n",
       "    <tr>\n",
       "      <th>652</th>\n",
       "      <td>PUL0655</td>\n",
       "      <td>1.B.14,PL7,PL7,GntR</td>\n",
       "      <td>alginate</td>\n",
       "      <td>algal glycans</td>\n",
       "      <td>2021</td>\n",
       "    </tr>\n",
       "    <tr>\n",
       "      <th>653</th>\n",
       "      <td>PUL0656</td>\n",
       "      <td>GH166,GT4,2.A.66</td>\n",
       "      <td>exopolysaccharide</td>\n",
       "      <td>exopolysaccharide</td>\n",
       "      <td>2020</td>\n",
       "    </tr>\n",
       "  </tbody>\n",
       "</table>\n",
       "<p>654 rows × 5 columns</p>\n",
       "</div>"
      ],
      "text/plain": [
       "       PULid                                       sig_gene_seq  \\\n",
       "0    PUL0001  GH1,8.A.49,CE2,GH130,GH130,3.A.1,3.A.1,SBP_bac...   \n",
       "1    PUL0002                                               GH16   \n",
       "2    PUL0003                                GH30_8,GH43_16|CBM6   \n",
       "3    PUL0004                                          4.A.1,GH1   \n",
       "4    PUL0005                                           GH94,GH3   \n",
       "..       ...                                                ...   \n",
       "649  PUL0652  GH2,2.A.21,3.D.1,GH96,GH96,2.A.1,GH50,GH50,GH5...   \n",
       "650  PUL0653  GH16_16,HTH_8,PfkB,GH2,GH117|GH117,3.A.1,3.A.1...   \n",
       "651  PUL0654  GerE,1.B.14,GH144,GH144,CE1,GH3,BLUF,PL6|PL6_1...   \n",
       "652  PUL0655                                1.B.14,PL7,PL7,GntR   \n",
       "653  PUL0656                                   GH166,GT4,2.A.66   \n",
       "\n",
       "                        low_level_substr    high_level_substr Pub_year  \n",
       "0                            beta-mannan          beta-mannan     2019  \n",
       "1                               lichenan         beta-glucan      1996  \n",
       "2                                  xylan                xylan     2016  \n",
       "3             glucose,cellobiose,maltose  multiple_substrates     2016  \n",
       "4    beta-glucan,sophorose,laminaribiose  multiple_substrates     2016  \n",
       "..                                   ...                  ...      ...  \n",
       "649                                 agar        algal glycans     2021  \n",
       "650                                 agar        algal glycans     2021  \n",
       "651                             alginate        algal glycans     2021  \n",
       "652                             alginate        algal glycans     2021  \n",
       "653                    exopolysaccharide    exopolysaccharide     2020  \n",
       "\n",
       "[654 rows x 5 columns]"
      ]
     },
     "execution_count": 49,
     "metadata": {},
     "output_type": "execute_result"
    }
   ],
   "source": [
    "supervised_data"
   ]
  },
  {
   "cell_type": "code",
   "execution_count": 50,
   "id": "5e78bd07",
   "metadata": {},
   "outputs": [
    {
     "data": {
      "text/html": [
       "<div>\n",
       "<style scoped>\n",
       "    .dataframe tbody tr th:only-of-type {\n",
       "        vertical-align: middle;\n",
       "    }\n",
       "\n",
       "    .dataframe tbody tr th {\n",
       "        vertical-align: top;\n",
       "    }\n",
       "\n",
       "    .dataframe thead th {\n",
       "        text-align: right;\n",
       "    }\n",
       "</style>\n",
       "<table border=\"1\" class=\"dataframe\">\n",
       "  <thead>\n",
       "    <tr style=\"text-align: right;\">\n",
       "      <th></th>\n",
       "      <th>PULid</th>\n",
       "      <th>sig_gene_seq</th>\n",
       "      <th>low_level_substr</th>\n",
       "      <th>high_level_substr</th>\n",
       "      <th>Pub_year</th>\n",
       "    </tr>\n",
       "  </thead>\n",
       "  <tbody>\n",
       "  </tbody>\n",
       "</table>\n",
       "</div>"
      ],
      "text/plain": [
       "Empty DataFrame\n",
       "Columns: [PULid, sig_gene_seq, low_level_substr, high_level_substr, Pub_year]\n",
       "Index: []"
      ]
     },
     "execution_count": 50,
     "metadata": {},
     "output_type": "execute_result"
    }
   ],
   "source": [
    "supervised_data[supervised_data.duplicated(keep=False)]"
   ]
  },
  {
   "cell_type": "code",
   "execution_count": 51,
   "id": "83c17f11",
   "metadata": {},
   "outputs": [],
   "source": [
    "# supervised_data[supervised_data[\"high_level_substr\"].isin([\"alpha-glucan\", \"beta-mannan\"])]"
   ]
  },
  {
   "cell_type": "code",
   "execution_count": 52,
   "id": "1e8e5bd0",
   "metadata": {},
   "outputs": [
    {
     "data": {
      "text/plain": [
       "O-glycan,N-glycan                                                21\n",
       "mucin,O-glycan                                                    6\n",
       "lactose,host glycan                                               6\n",
       "carboxymethylcellulose,xylan,beta-glucan,lichenan                 6\n",
       "sucrose,kestose,nystose                                           5\n",
       "                                                                 ..\n",
       "beta-glucan,sophorose,laminaribiose                               1\n",
       "cellulose,xylan,xyloglucan,pectin,mannan                          1\n",
       "xylan,glucomannan,plant polysaccharide                            1\n",
       "O-antigen,unknown polysaccharide                                  1\n",
       "unsaturated hyaluronate disaccharide,chondroitin disaccharide     1\n",
       "Name: low_level_substr, Length: 73, dtype: int64"
      ]
     },
     "execution_count": 52,
     "metadata": {},
     "output_type": "execute_result"
    }
   ],
   "source": [
    "supervised_data[supervised_data[\"high_level_substr\"] == \"multiple_substrates\"][\"low_level_substr\"].value_counts()"
   ]
  },
  {
   "cell_type": "code",
   "execution_count": 53,
   "id": "6397203c",
   "metadata": {},
   "outputs": [
    {
     "data": {
      "text/plain": [
       "capsule polysaccharide                               60\n",
       "O-antigen                                            37\n",
       "pectin                                               28\n",
       "xylan                                                25\n",
       "alginate                                             21\n",
       "O-glycan,N-glycan                                    21\n",
       "cellobiose                                           14\n",
       "chitin                                               14\n",
       "beta-glucan                                          12\n",
       "cellulose                                            12\n",
       "N-glycan                                             12\n",
       "sucrose                                              12\n",
       "lactose                                              11\n",
       "galactan                                             10\n",
       "arabinan                                             10\n",
       "exopolysaccharide                                     9\n",
       "alpha-mannan                                          8\n",
       "carrageenan                                           8\n",
       "beta-mannan                                           8\n",
       "starch                                                8\n",
       "xyloglucan                                            7\n",
       "host glycan                                           7\n",
       "N-acetylglucosamine                                   7\n",
       "galactooligosaccharide                                7\n",
       "mucin,O-glycan                                        6\n",
       "carboxymethylcellulose,xylan,beta-glucan,lichenan     6\n",
       "lactose,host glycan                                   6\n",
       "lignocellulose                                        6\n",
       "plant polysaccharide                                  6\n",
       "galactomannan                                         6\n",
       "arabinoxylan                                          6\n",
       "glycosaminoglycan                                     6\n",
       "mucin                                                 6\n",
       "arabinogalactan                                       5\n",
       "xylan,beta-glucan,lichenan                            5\n",
       "hemicellulose                                         5\n",
       "laminarin                                             5\n",
       "sucrose,kestose,nystose                               5\n",
       "rhamnogalacturonan                                    5\n",
       "raffinose                                             5\n",
       "Name: low_level_substr, dtype: int64"
      ]
     },
     "execution_count": 53,
     "metadata": {},
     "output_type": "execute_result"
    }
   ],
   "source": [
    "supervised_data[\"low_level_substr\"].value_counts()[:40]"
   ]
  },
  {
   "cell_type": "code",
   "execution_count": 54,
   "id": "9868c75a",
   "metadata": {},
   "outputs": [],
   "source": [
    "supervised_strings = supervised_data[\"sig_gene_seq\"]"
   ]
  },
  {
   "cell_type": "code",
   "execution_count": 55,
   "id": "9f952dbc",
   "metadata": {},
   "outputs": [],
   "source": [
    "a, b = supervised_strings[0], supervised_strings[1]"
   ]
  },
  {
   "cell_type": "code",
   "execution_count": 56,
   "id": "34155b7d",
   "metadata": {},
   "outputs": [
    {
     "data": {
      "text/plain": [
       "['GH1',\n",
       " '8.A.49',\n",
       " 'CE2',\n",
       " 'GH130',\n",
       " 'GH130',\n",
       " '3.A.1',\n",
       " '3.A.1',\n",
       " 'SBP_bac_1',\n",
       " 'LacI',\n",
       " 'GH36',\n",
       " 'GH113']"
      ]
     },
     "execution_count": 56,
     "metadata": {},
     "output_type": "execute_result"
    }
   ],
   "source": [
    "a.split(\",\")"
   ]
  },
  {
   "cell_type": "code",
   "execution_count": 57,
   "id": "d3037465",
   "metadata": {},
   "outputs": [],
   "source": [
    "def pair_sim(a, b): \n",
    "    me = MongeElkan()\n",
    "    split_a = a.split(\",\")\n",
    "    split_b = b.split(\",\")\n",
    "    score = me.get_raw_score(split_a, split_b)\n",
    "    return score"
   ]
  },
  {
   "cell_type": "code",
   "execution_count": 58,
   "id": "53b4c5bc",
   "metadata": {},
   "outputs": [
    {
     "data": {
      "text/plain": [
       "0.3957575830546292"
      ]
     },
     "execution_count": 58,
     "metadata": {},
     "output_type": "execute_result"
    }
   ],
   "source": [
    "pair_sim(a,b)"
   ]
  },
  {
   "cell_type": "code",
   "execution_count": 59,
   "id": "c32386e7",
   "metadata": {},
   "outputs": [],
   "source": [
    "from joblib import Parallel, delayed"
   ]
  },
  {
   "cell_type": "code",
   "execution_count": 60,
   "id": "d44b730b",
   "metadata": {},
   "outputs": [
    {
     "data": {
      "text/plain": [
       "array(['GH1,8.A.49,CE2,GH130,GH130,3.A.1,3.A.1,SBP_bac_1,LacI,GH36,GH113',\n",
       "       'GH16', 'GH30_8,GH43_16|CBM6', '4.A.1,GH1', 'GH94,GH3'],\n",
       "      dtype=object)"
      ]
     },
     "execution_count": 60,
     "metadata": {},
     "output_type": "execute_result"
    }
   ],
   "source": [
    "supervised_strings[:5].values"
   ]
  },
  {
   "cell_type": "code",
   "execution_count": 61,
   "id": "4cae3f33",
   "metadata": {},
   "outputs": [],
   "source": [
    "positions = [[i,j] for i in range(0,len(supervised_strings)) for j in range(0,len(supervised_strings))]"
   ]
  },
  {
   "cell_type": "code",
   "execution_count": 62,
   "id": "7b642b90",
   "metadata": {},
   "outputs": [
    {
     "name": "stderr",
     "output_type": "stream",
     "text": [
      "[Parallel(n_jobs=6)]: Using backend LokyBackend with 6 concurrent workers.\n",
      "[Parallel(n_jobs=6)]: Done   6 tasks      | elapsed:    0.0s\n",
      "[Parallel(n_jobs=6)]: Done 372 tasks      | elapsed:    0.0s\n",
      "[Parallel(n_jobs=6)]: Done 27636 tasks      | elapsed:    2.1s\n",
      "[Parallel(n_jobs=6)]: Done 92148 tasks      | elapsed:    7.3s\n",
      "[Parallel(n_jobs=6)]: Done 175092 tasks      | elapsed:   13.3s\n",
      "[Parallel(n_jobs=6)]: Done 276468 tasks      | elapsed:   20.8s\n",
      "[Parallel(n_jobs=6)]: Done 396276 tasks      | elapsed:   29.7s\n",
      "[Parallel(n_jobs=6)]: Done 427716 out of 427716 | elapsed:   32.2s finished\n"
     ]
    }
   ],
   "source": [
    "similarities = Parallel(n_jobs=6, verbose = 5)(delayed(pair_sim)(i, j) for i in supervised_strings for j in supervised_strings)"
   ]
  },
  {
   "cell_type": "code",
   "execution_count": 63,
   "id": "5fa06d9a",
   "metadata": {},
   "outputs": [],
   "source": [
    "import numpy as np"
   ]
  },
  {
   "cell_type": "code",
   "execution_count": 64,
   "id": "5ba7bbd4",
   "metadata": {},
   "outputs": [],
   "source": [
    "similarities_matrix = np.array(similarities).reshape(654,654)"
   ]
  },
  {
   "cell_type": "code",
   "execution_count": 65,
   "id": "1d6bd165",
   "metadata": {},
   "outputs": [
    {
     "data": {
      "text/plain": [
       "array([[1.        , 0.39575758, 0.5476936 , ..., 0.8629798 , 0.53170033,\n",
       "        0.61272728],\n",
       "       [0.94166666, 1.        , 0.82222223, ..., 0.84833336, 0.55000001,\n",
       "        0.95999998],\n",
       "       [0.84      , 0.75555557, 1.        , ..., 0.84166667, 0.51249999,\n",
       "        0.71555558],\n",
       "       ...,\n",
       "       [0.67099916, 0.3686633 , 0.43025589, ..., 1.        , 0.63345118,\n",
       "        0.48720034],\n",
       "       [0.58263889, 0.25555556, 0.21458333, ..., 0.90303031, 1.        ,\n",
       "        0.28263889],\n",
       "       [0.73555557, 0.66907406, 0.61185184, ..., 0.80888889, 0.55518518,\n",
       "        1.        ]])"
      ]
     },
     "execution_count": 65,
     "metadata": {},
     "output_type": "execute_result"
    }
   ],
   "source": [
    "similarities_matrix"
   ]
  },
  {
   "cell_type": "code",
   "execution_count": 66,
   "id": "d9a59985",
   "metadata": {},
   "outputs": [],
   "source": [
    "from sklearn.manifold import TSNE"
   ]
  },
  {
   "cell_type": "code",
   "execution_count": 67,
   "id": "883574c3",
   "metadata": {},
   "outputs": [
    {
     "name": "stderr",
     "output_type": "stream",
     "text": [
      "C:\\Users\\vedpi\\anaconda3\\envs\\newone\\lib\\site-packages\\sklearn\\manifold\\_t_sne.py:780: FutureWarning:\n",
      "\n",
      "The default initialization in TSNE will change from 'random' to 'pca' in 1.2.\n",
      "\n"
     ]
    }
   ],
   "source": [
    "X_embedded = TSNE(n_components=3, learning_rate='auto').fit_transform(similarities_matrix)"
   ]
  },
  {
   "cell_type": "code",
   "execution_count": 68,
   "id": "95868219",
   "metadata": {},
   "outputs": [
    {
     "data": {
      "text/plain": [
       "(654, 3)"
      ]
     },
     "execution_count": 68,
     "metadata": {},
     "output_type": "execute_result"
    }
   ],
   "source": [
    "X_embedded.shape"
   ]
  },
  {
   "cell_type": "code",
   "execution_count": 69,
   "id": "d41d245c",
   "metadata": {},
   "outputs": [
    {
     "name": "stderr",
     "output_type": "stream",
     "text": [
      "C:\\Users\\vedpi\\AppData\\Local\\Temp/ipykernel_18312/1079212839.py:1: FutureWarning:\n",
      "\n",
      "In a future version of pandas all arguments of concat except for the argument 'objs' will be keyword-only\n",
      "\n"
     ]
    }
   ],
   "source": [
    "tsne_data = pd.concat([pd.DataFrame(X_embedded), pd.DataFrame(supervised_data[\"high_level_substr\"])],1)"
   ]
  },
  {
   "cell_type": "code",
   "execution_count": 70,
   "id": "5c1b5cc0",
   "metadata": {},
   "outputs": [],
   "source": [
    "tsne_data.to_csv(\"tsne_3d.csv\", index = False)"
   ]
  },
  {
   "cell_type": "code",
   "execution_count": 71,
   "id": "d176c261",
   "metadata": {},
   "outputs": [],
   "source": [
    "import plotly.express as px"
   ]
  },
  {
   "cell_type": "code",
   "execution_count": 72,
   "id": "3b53e1a1",
   "metadata": {
    "scrolled": false
   },
   "outputs": [
    {
     "data": {
      "application/vnd.plotly.v1+json": {
       "config": {
        "plotlyServerURL": "https://plot.ly"
       },
       "data": [
        {
         "hovertemplate": "high_level_substr=multiple_substrates<br>0=%{x}<br>1=%{y}<br>2=%{z}<extra></extra>",
         "legendgroup": "multiple_substrates",
         "marker": {
          "color": "#636efa",
          "size": 8,
          "symbol": "circle"
         },
         "mode": "markers",
         "name": "multiple_substrates",
         "scene": "scene",
         "showlegend": true,
         "type": "scatter3d",
         "x": [
          -6.946595668792725,
          2.807426929473877,
          -10.345065116882324,
          -5.590843677520752,
          3.4123857021331787,
          -2.0377962589263916,
          -1.7234513759613037,
          6.31543493270874,
          6.31543493270874,
          -6.485604763031006,
          6.613007068634033,
          6.613007068634033,
          -4.479976177215576,
          -6.7420501708984375,
          -1.6119333505630493,
          1.0231826305389404,
          0.7847440242767334,
          2.7338037490844727,
          1.769987940788269,
          -1.6673173904418945,
          -1.8200310468673706,
          -2.126758098602295,
          -0.5445877313613892,
          0.3237929344177246,
          -0.8517615795135498,
          -0.9611549377441406,
          0.17724885046482086,
          0.40721395611763,
          -7.141810894012451,
          0.40263330936431885,
          0.2868105471134186,
          0.28676000237464905,
          0.37666335701942444,
          -6.7384562492370605,
          4.47418737411499,
          4.003728866577148,
          -0.9040353894233704,
          -0.8242017030715942,
          -2.8839499950408936,
          -6.555210590362549,
          -3.269787311553955,
          -5.505204200744629,
          0.9153205752372742,
          -4.612951278686523,
          -0.34903329610824585,
          2.926769971847534,
          2.321218729019165,
          -1.211951494216919,
          4.315241813659668,
          -2.8624253273010254,
          -6.211708068847656,
          6.081629753112793,
          10.68362045288086,
          10.040473937988281,
          2.2723746299743652,
          1.0425797700881958,
          -3.191692590713501,
          0.3141263723373413,
          -1.2922639846801758,
          2.140979051589966,
          0.25320133566856384,
          -1.8725712299346924,
          -1.5434412956237793,
          -0.35174888372421265,
          -0.8314504027366638,
          1.8112783432006836,
          -4.435912609100342,
          -4.902329921722412,
          4.847329139709473,
          4.709349632263184,
          1.8360023498535156,
          2.4068779945373535,
          3.4772562980651855,
          -2.687839984893799,
          3.9110169410705566,
          1.6421887874603271,
          2.443305253982544,
          -6.92663049697876,
          -1.9972162246704102,
          -2.382474660873413,
          3.1589672565460205,
          4.824387073516846,
          2.8128623962402344,
          4.913848400115967,
          2.7629990577697754,
          -4.082432270050049,
          -5.083487510681152,
          -1.0546329021453857,
          2.2345798015594482,
          -2.696248769760132,
          4.686300277709961,
          4.2343597412109375,
          8.61512279510498,
          -3.146778106689453,
          3.5438060760498047,
          0.97383713722229,
          4.069446086883545,
          4.312777519226074,
          -0.064066082239151,
          1.2667433023452759,
          1.2749885320663452,
          4.138564109802246,
          3.0551517009735107,
          -6.874032020568848,
          2.641033887863159,
          -2.851602077484131,
          -6.29316520690918,
          -3.64559006690979,
          1.3921619653701782,
          2.9683990478515625,
          1.342982292175293,
          0.5445693135261536,
          -0.16110387444496155,
          -2.5970847606658936,
          1.9500861167907715,
          1.257574200630188,
          0.6726493239402771,
          1.4841581583023071,
          -1.4391337633132935,
          -7.1657395362854,
          -3.3396427631378174,
          -7.757344722747803,
          -5.6926589012146,
          -5.291960716247559,
          -9.03351879119873,
          -7.889291763305664,
          -6.293080806732178,
          -3.252699613571167,
          -3.6086668968200684,
          -3.6086668968200684,
          -4.08235502243042,
          2.2319555282592773,
          -8.480206489562988,
          -4.447803497314453,
          -3.3768670558929443,
          -1.313941240310669,
          -3.869316816329956,
          -0.7283155918121338,
          -1.9009971618652344
         ],
         "y": [
          7.291576385498047,
          9.642059326171875,
          3.584345579147339,
          0.14969828724861145,
          9.63871955871582,
          -0.8830233216285706,
          10.328210830688477,
          -8.677469253540039,
          -8.677469253540039,
          -6.652466297149658,
          -8.689388275146484,
          -8.689388275146484,
          -7.150249481201172,
          1.5182420015335083,
          7.618907928466797,
          12.895302772521973,
          -0.9337310791015625,
          13.35507869720459,
          13.958303451538086,
          7.742408752441406,
          7.6819891929626465,
          -1.6709372997283936,
          1.25596022605896,
          -0.050833068788051605,
          -2.797353744506836,
          -2.6557350158691406,
          0.09536618739366531,
          0.9296127557754517,
          -1.3683167695999146,
          -1.645746111869812,
          -1.923407793045044,
          -1.9234592914581299,
          0.9015440344810486,
          0.7591687440872192,
          10.830768585205078,
          -4.82181453704834,
          11.451457977294922,
          -11.96114730834961,
          -8.438911437988281,
          2.591298818588257,
          -3.4514241218566895,
          -3.9034838676452637,
          1.2591038942337036,
          9.327414512634277,
          0.1817820966243744,
          0.5869861245155334,
          8.24674129486084,
          -5.254476547241211,
          -2.425071954727173,
          -4.906490325927734,
          -0.2899240553379059,
          -6.884626865386963,
          -9.376681327819824,
          -10.042223930358887,
          15.672521591186523,
          4.241056442260742,
          13.579751968383789,
          3.3794145584106445,
          3.6464719772338867,
          -0.10652431100606918,
          -0.8575108051300049,
          0.7411050796508789,
          0.20732146501541138,
          -0.92876136302948,
          4.121772766113281,
          -8.273759841918945,
          -4.36821174621582,
          -5.339770793914795,
          -4.541566848754883,
          -1.3481351137161255,
          7.554676532745361,
          8.056679725646973,
          -5.023717403411865,
          -1.8159809112548828,
          7.944211483001709,
          6.876884937286377,
          14.19677734375,
          1.8074321746826172,
          -7.76601505279541,
          -7.477945804595947,
          8.866172790527344,
          -1.0912115573883057,
          -3.9506726264953613,
          -4.702836990356445,
          -3.326108455657959,
          -8.459969520568848,
          0.35317492485046387,
          2.975173234939575,
          14.286053657531738,
          4.22800874710083,
          -1.1331157684326172,
          -5.160682678222656,
          -6.334301948547363,
          -0.5523872375488281,
          -4.4448418617248535,
          10.095410346984863,
          -3.4322571754455566,
          -3.4667623043060303,
          -8.286136627197266,
          14.86318302154541,
          -0.49612441658973694,
          -2.440134048461914,
          10.409345626831055,
          -6.068177223205566,
          3.226304531097412,
          6.6442551612854,
          -5.010309219360352,
          3.8590567111968994,
          2.514277458190918,
          8.692234992980957,
          9.770928382873535,
          2.7540574073791504,
          3.462149143218994,
          -3.100278615951538,
          10.86496353149414,
          8.751191139221191,
          13.980490684509277,
          7.709650993347168,
          9.009525299072266,
          -2.700547456741333,
          7.1888427734375,
          1.4168615341186523,
          1.273714303970337,
          -2.734658718109131,
          -0.6260332465171814,
          -0.4598102271556854,
          -5.010338306427002,
          -1.603327751159668,
          -9.653360366821289,
          -9.653360366821289,
          -8.459917068481445,
          4.38162088394165,
          2.0007288455963135,
          -7.134079933166504,
          -9.7218017578125,
          -7.232863426208496,
          -2.80889892578125,
          -11.345907211303711,
          -4.730230331420898
         ],
         "z": [
          -3.8090455532073975,
          5.105578899383545,
          -1.5767518281936646,
          -4.187632083892822,
          4.610234260559082,
          -3.2419252395629883,
          2.807164192199707,
          3.8540568351745605,
          3.8540568351745605,
          -4.3088531494140625,
          4.616479396820068,
          4.616479396820068,
          -5.690460205078125,
          -6.757943630218506,
          4.803462028503418,
          3.796191453933716,
          -1.648531436920166,
          3.154900074005127,
          3.2768142223358154,
          3.8451573848724365,
          3.845280647277832,
          -0.6216711401939392,
          -0.6109590530395508,
          0.25785622000694275,
          -1.5250967741012573,
          -1.4043869972229004,
          -0.2215803563594818,
          3.1224207878112793,
          -6.320966720581055,
          -2.84502911567688,
          -2.978412628173828,
          -2.9783852100372314,
          3.0563127994537354,
          -6.837039470672607,
          0.954751193523407,
          -3.618212938308716,
          4.036668300628662,
          0.8635621666908264,
          0.0400780588388443,
          -7.9654035568237305,
          0.8494632244110107,
          -7.930805683135986,
          -1.693668246269226,
          0.8761599659919739,
          1.325473427772522,
          2.03796648979187,
          -3.553326368331909,
          -6.720849514007568,
          7.600244045257568,
          -6.143620491027832,
          -4.297251224517822,
          7.4329047203063965,
          9.963342666625977,
          9.767281532287598,
          -1.1812567710876465,
          2.1784448623657227,
          1.7737619876861572,
          0.7014681100845337,
          -1.5719611644744873,
          0.42171511054039,
          -0.5229669809341431,
          -1.895015835762024,
          -1.8773870468139648,
          -0.8549163937568665,
          -0.6558731198310852,
          0.9113391637802124,
          -4.694024085998535,
          -4.554702281951904,
          -2.7891972064971924,
          -3.1177585124969482,
          -0.27681204676628113,
          -2.406609058380127,
          -3.590353488922119,
          3.5144684314727783,
          2.455812931060791,
          3.4581258296966553,
          2.3585996627807617,
          -7.693766117095947,
          3.939563035964966,
          3.177809238433838,
          -3.3351857662200928,
          -3.1233856678009033,
          -2.7667906284332275,
          -2.803618907928467,
          2.096195697784424,
          -4.969715595245361,
          -5.623650550842285,
          -3.8830173015594482,
          3.171006679534912,
          1.9918373823165894,
          -3.1744918823242188,
          6.881503582000732,
          6.927660942077637,
          0.5820969343185425,
          -4.440854072570801,
          -3.2917850017547607,
          -2.8130760192871094,
          -2.5480048656463623,
          1.254151701927185,
          -0.5416627526283264,
          -0.24896173179149628,
          -3.042424440383911,
          1.2960050106048584,
          -5.9923481941223145,
          0.3657929301261902,
          2.789409875869751,
          -8.33561897277832,
          -7.482787609100342,
          -1.6389936208724976,
          -2.93451189994812,
          -3.5284528732299805,
          0.49559587240219116,
          2.598785161972046,
          1.8309892416000366,
          2.239576578140259,
          0.29808488488197327,
          -1.0983091592788696,
          1.0216636657714844,
          0.7097252607345581,
          -8.026081085205078,
          -1.1444443464279175,
          -8.664848327636719,
          -7.2777934074401855,
          0.7613627314567566,
          -7.301938056945801,
          -7.003764629364014,
          -8.335550308227539,
          1.2035129070281982,
          -4.7568864822387695,
          -4.7568864822387695,
          -4.969675540924072,
          3.711099624633789,
          -6.881870746612549,
          -5.700804233551025,
          -4.587276935577393,
          -8.385976791381836,
          -2.9991602897644043,
          1.4664522409439087,
          -5.055093765258789
         ]
        },
        {
         "hovertemplate": "high_level_substr=mono/di/trisaccharide<br>0=%{x}<br>1=%{y}<br>2=%{z}<extra></extra>",
         "legendgroup": "mono/di/trisaccharide",
         "marker": {
          "color": "#EF553B",
          "size": 8,
          "symbol": "circle"
         },
         "mode": "markers",
         "name": "mono/di/trisaccharide",
         "scene": "scene",
         "showlegend": true,
         "type": "scatter3d",
         "x": [
          -0.2324296087026596,
          -9.452292442321777,
          -6.010253429412842,
          -9.478983879089355,
          -8.966806411743164,
          -6.236103534698486,
          -2.4569990634918213,
          -3.436387538909912,
          -3.3713316917419434,
          -6.836542129516602,
          -6.8763885498046875,
          -2.2769248485565186,
          -4.6153669357299805,
          -1.2857978343963623,
          -9.805412292480469,
          -1.0710022449493408,
          5.194972038269043,
          -4.830389976501465,
          -3.3803341388702393,
          -2.7627460956573486,
          -1.5386139154434204,
          -6.498647212982178,
          -3.0161592960357666,
          -3.436387538909912,
          -7.85031795501709,
          -8.153815269470215,
          -9.320079803466797,
          0.4746159613132477,
          -8.153815269470215,
          -9.384637832641602,
          0.47476980090141296,
          -3.1219894886016846,
          -6.004891395568848,
          -9.233671188354492,
          -10.632095336914062,
          -5.92278528213501,
          -3.1227355003356934,
          -7.456117153167725,
          -7.027674198150635,
          3.4009697437286377,
          -9.098095893859863,
          -4.6649651527404785,
          -5.660315990447998,
          -0.8024711012840271,
          -4.354690074920654,
          1.9961909055709839,
          -10.213823318481445,
          -10.84382152557373,
          0.6660082936286926,
          -4.652782917022705,
          -2.4569990634918213,
          -2.7150866985321045,
          -6.8510422706604,
          -6.8510422706604,
          -3.3318021297454834,
          -2.6052513122558594,
          -9.119184494018555,
          -4.885565757751465,
          -8.350944519042969,
          5.148118019104004,
          3.4361774921417236,
          -3.4364428520202637,
          -5.121197700500488,
          -5.263154983520508,
          -8.860764503479004,
          -5.70332670211792,
          -1.2595243453979492,
          5.002814769744873,
          -3.3789613246917725,
          -3.3769664764404297,
          -6.8763885498046875,
          -5.313342571258545,
          -8.153826713562012,
          -2.2576780319213867,
          -4.6546173095703125,
          -9.233708381652832,
          1.7989509105682373,
          3.1120657920837402
         ],
         "y": [
          -9.338308334350586,
          4.172762870788574,
          -3.055349588394165,
          3.4964025020599365,
          5.338655471801758,
          -3.3335771560668945,
          -8.85423755645752,
          -9.694524765014648,
          -9.64375114440918,
          0.9552959203720093,
          7.306097507476807,
          -10.745150566101074,
          3.157806634902954,
          -7.344423770904541,
          4.210103988647461,
          3.0224051475524902,
          5.0335798263549805,
          -1.7438989877700806,
          -4.393191337585449,
          -0.05298909544944763,
          -9.67875862121582,
          -6.653136730194092,
          -4.958314895629883,
          -9.694524765014648,
          -1.4192094802856445,
          6.43145751953125,
          5.430244445800781,
          11.104254722595215,
          6.43145751953125,
          5.628888130187988,
          11.104179382324219,
          3.6342294216156006,
          -1.3284187316894531,
          3.5794999599456787,
          4.660964488983154,
          -4.661275386810303,
          13.539522171020508,
          2.092477798461914,
          -1.2119678258895874,
          15.086270332336426,
          2.557774066925049,
          1.5871297121047974,
          -0.21060925722122192,
          0.3836331069469452,
          -2.889482259750366,
          10.279489517211914,
          4.658776760101318,
          2.0661048889160156,
          10.995796203613281,
          3.2853894233703613,
          -8.85423755645752,
          -10.2631254196167,
          7.186595439910889,
          7.186595439910889,
          -8.95088005065918,
          -9.393856048583984,
          5.278706073760986,
          2.3355650901794434,
          0.11981576681137085,
          13.66672134399414,
          -3.8326871395111084,
          -9.694377899169922,
          1.5029420852661133,
          -5.1414713859558105,
          4.281859397888184,
          -2.7606704235076904,
          9.473214149475098,
          -1.259948492050171,
          9.840363502502441,
          -9.721755027770996,
          7.306097507476807,
          -2.078965187072754,
          6.431516170501709,
          -7.831039905548096,
          -3.58388614654541,
          3.579505681991577,
          8.438143730163574,
          4.958144664764404
         ],
         "z": [
          4.126065254211426,
          -1.7085329294204712,
          -3.427502393722534,
          -1.9789445400238037,
          -2.604872465133667,
          1.36184823513031,
          -8.258248329162598,
          -7.9700822830200195,
          -7.27274227142334,
          -6.293079853057861,
          -3.6682333946228027,
          -6.707724571228027,
          -1.2405669689178467,
          -8.417947769165039,
          -0.9985511898994446,
          -3.892247438430786,
          1.0253429412841797,
          -4.554632186889648,
          -4.1525092124938965,
          -6.066047668457031,
          -8.728378295898438,
          -6.363076210021973,
          -6.2903361320495605,
          -7.9700822830200195,
          -6.581024169921875,
          -3.0290539264678955,
          -2.896592855453491,
          6.625661373138428,
          -3.0290539264678955,
          -2.5824942588806152,
          6.625598430633545,
          -3.754636526107788,
          -7.003328800201416,
          -2.3159985542297363,
          -3.481783390045166,
          -7.301027297973633,
          1.7778308391571045,
          -8.445963859558105,
          -4.620408535003662,
          2.484947919845581,
          -0.5589117407798767,
          -4.367878437042236,
          -5.167224884033203,
          -2.394228458404541,
          0.5048956871032715,
          5.348208904266357,
          -2.180220603942871,
          -2.5157694816589355,
          5.297131061553955,
          -1.2597147226333618,
          -8.258248329162598,
          -8.177236557006836,
          -3.7719340324401855,
          -3.7719340324401855,
          -4.17227029800415,
          -7.698774337768555,
          -2.906709671020508,
          -0.6245911121368408,
          -5.821187496185303,
          1.3795757293701172,
          -2.945784330368042,
          -7.970026969909668,
          -5.098124027252197,
          -7.395219802856445,
          -1.5340595245361328,
          1.0843477249145508,
          1.400876760482788,
          -3.0320396423339844,
          0.8866310715675354,
          -4.587289333343506,
          -3.6682333946228027,
          -7.713326454162598,
          -3.028974771499634,
          4.678936958312988,
          -6.903614044189453,
          -2.316025733947754,
          5.957632064819336,
          4.707986831665039
         ]
        },
        {
         "hovertemplate": "high_level_substr=capsule polysaccharide<br>0=%{x}<br>1=%{y}<br>2=%{z}<extra></extra>",
         "legendgroup": "capsule polysaccharide",
         "marker": {
          "color": "#00cc96",
          "size": 8,
          "symbol": "circle"
         },
         "mode": "markers",
         "name": "capsule polysaccharide",
         "scene": "scene",
         "showlegend": true,
         "type": "scatter3d",
         "x": [
          6.813335418701172,
          4.892394542694092,
          6.597689151763916,
          6.521204471588135,
          6.6837286949157715,
          4.212512016296387,
          4.581214427947998,
          4.34719705581665,
          4.212518215179443,
          3.976675510406494,
          5.446034908294678,
          6.108800411224365,
          5.4999518394470215,
          3.7971911430358887,
          4.324850559234619,
          8.091240882873535,
          4.9541239738464355,
          -0.0767369493842125,
          6.078136444091797,
          6.143490791320801,
          8.430416107177734,
          10.675459861755371,
          9.011362075805664,
          7.16050910949707,
          4.785236835479736,
          6.440080165863037,
          0.3565939962863922,
          4.013002872467041,
          5.994693279266357,
          4.227519512176514,
          7.192975997924805,
          5.012957572937012,
          8.406217575073242,
          7.151612281799316,
          8.620031356811523,
          9.405704498291016,
          7.591650485992432,
          8.311891555786133,
          7.952507495880127,
          7.346928596496582,
          9.494790077209473,
          8.006254196166992,
          -3.7788217067718506,
          7.028040409088135,
          8.275440216064453,
          9.056598663330078,
          7.601248264312744,
          8.311891555786133,
          5.994693279266357,
          7.738946437835693,
          8.119527816772461,
          7.5688629150390625,
          4.437417030334473,
          7.684460639953613,
          9.247161865234375,
          9.328756332397461,
          5.057772159576416,
          5.9921112060546875,
          5.057771682739258,
          4.538933753967285
         ],
         "y": [
          -5.3408331871032715,
          -0.46957331895828247,
          -4.189632415771484,
          -5.163741111755371,
          -4.613475799560547,
          -2.19557523727417,
          -3.6836161613464355,
          -3.463465452194214,
          -2.195577621459961,
          -1.5158082246780396,
          -3.344972848892212,
          -3.7596123218536377,
          -1.1534205675125122,
          -0.4178624749183655,
          -4.290831089019775,
          -8.45460033416748,
          -2.19901180267334,
          -7.957496166229248,
          -1.3775454759597778,
          -9.038064002990723,
          -6.962740898132324,
          -8.254676818847656,
          -7.674121379852295,
          -5.739596843719482,
          -2.3583433628082275,
          -8.297611236572266,
          -9.25847053527832,
          -4.688144207000732,
          -1.0035054683685303,
          -4.484722137451172,
          -7.9757866859436035,
          -5.260222434997559,
          -8.027972221374512,
          -8.410553932189941,
          -7.489559650421143,
          -8.435442924499512,
          -4.946812152862549,
          -7.206766128540039,
          -7.918704032897949,
          -6.799266815185547,
          -7.61782693862915,
          -5.899219512939453,
          -5.969488620758057,
          -8.75062084197998,
          -8.875289916992188,
          -7.360140800476074,
          -7.37723445892334,
          -7.206766128540039,
          -1.0035054683685303,
          -5.511692047119141,
          -6.404343128204346,
          -8.197042465209961,
          -5.216550827026367,
          -8.444332122802734,
          -7.836384296417236,
          -8.30392837524414,
          -0.9830776453018188,
          -2.1786229610443115,
          -0.9830774664878845,
          -0.7691036462783813
         ],
         "z": [
          10.362555503845215,
          10.104446411132812,
          10.385405540466309,
          8.905098915100098,
          10.590567588806152,
          9.906129837036133,
          8.839231491088867,
          9.079751014709473,
          9.906136512756348,
          10.173192977905273,
          10.484725952148438,
          10.456286430358887,
          9.655339241027832,
          10.19205093383789,
          6.9918975830078125,
          8.351783752441406,
          8.188825607299805,
          3.804823398590088,
          9.071390151977539,
          6.827969551086426,
          10.809181213378906,
          6.315303802490234,
          8.599791526794434,
          9.628993034362793,
          7.885188102722168,
          7.256105899810791,
          4.1599345207214355,
          8.2072114944458,
          9.024840354919434,
          8.80574893951416,
          8.258538246154785,
          7.892087459564209,
          9.963553428649902,
          9.487789154052734,
          7.649393081665039,
          9.785941123962402,
          9.808852195739746,
          9.212298393249512,
          6.688234329223633,
          10.185223579406738,
          8.070262908935547,
          10.562936782836914,
          0.9843419790267944,
          8.090008735656738,
          8.019105911254883,
          10.280341148376465,
          10.6851224899292,
          9.212298393249512,
          9.024840354919434,
          8.615497589111328,
          10.5613374710083,
          7.112728595733643,
          8.371659278869629,
          9.220839500427246,
          7.215771198272705,
          9.259459495544434,
          10.776622772216797,
          10.77797794342041,
          10.776622772216797,
          10.906966209411621
         ]
        },
        {
         "hovertemplate": "high_level_substr=algal glycans<br>0=%{x}<br>1=%{y}<br>2=%{z}<extra></extra>",
         "legendgroup": "algal glycans",
         "marker": {
          "color": "#ab63fa",
          "size": 8,
          "symbol": "circle"
         },
         "mode": "markers",
         "name": "algal glycans",
         "scene": "scene",
         "showlegend": true,
         "type": "scatter3d",
         "x": [
          -1.3368940353393555,
          -3.0496113300323486,
          -2.06040096282959,
          -2.9324111938476562,
          -1.5711299180984497,
          -2.610499858856201,
          -2.1963448524475098,
          -3.8254523277282715,
          -2.8734734058380127,
          -0.7480180859565735,
          3.728221893310547,
          -2.0650668144226074,
          -1.832142949104309,
          -3.3490545749664307,
          -8.726933479309082,
          -1.1406291723251343,
          -6.306446075439453,
          1.5588293075561523,
          0.16014136373996735,
          4.3468403816223145,
          -1.263525366783142,
          -3.050422430038452,
          -2.3892822265625,
          -0.8984410166740417,
          3.7208776473999023,
          2.954011917114258,
          -1.6057604551315308,
          -0.993021547794342,
          -0.4157390296459198,
          -6.60037088394165,
          -2.5543596744537354,
          -3.6257376670837402,
          -4.11917781829834,
          0.6656978130340576,
          -5.879831790924072,
          1.4218838214874268,
          -3.5680999755859375,
          -2.5652384757995605,
          -0.9677345156669617,
          -1.8394221067428589
         ],
         "y": [
          -10.687962532043457,
          -5.630648136138916,
          -8.599513053894043,
          -9.604708671569824,
          -9.927040100097656,
          -6.1295037269592285,
          -7.584174156188965,
          2.6882247924804688,
          2.9935481548309326,
          10.528619766235352,
          15.399565696716309,
          -8.520576477050781,
          -9.156305313110352,
          -8.498932838439941,
          -1.3977700471878052,
          -10.827038764953613,
          -7.484241485595703,
          12.602997779846191,
          9.583057403564453,
          11.640448570251465,
          -11.302078247070312,
          2.868285894393921,
          -0.953778088092804,
          -12.041902542114258,
          -6.077589511871338,
          -2.335923910140991,
          -9.4946870803833,
          -1.8740495443344116,
          -2.408381223678589,
          -7.277171611785889,
          2.4592702388763428,
          0.6009412407875061,
          -5.839087963104248,
          10.026384353637695,
          -6.22960901260376,
          -1.165669322013855,
          0.47940555214881897,
          -3.541560411453247,
          -8.17384147644043,
          -11.298222541809082
         ],
         "z": [
          -1.0779452323913574,
          0.6645394563674927,
          0.39791592955589294,
          0.12874078750610352,
          0.129859060049057,
          0.5981063842773438,
          -0.13362941145896912,
          -0.6300127506256104,
          -0.42992064356803894,
          1.7265262603759766,
          0.059775784611701965,
          0.15607376396656036,
          0.2742674648761749,
          1.0208159685134888,
          -6.708575248718262,
          0.30628499388694763,
          -4.799386501312256,
          0.10329772531986237,
          2.1859054565429688,
          0.4300900995731354,
          0.5254663228988647,
          -0.49926331639289856,
          3.7904486656188965,
          0.014518833719193935,
          1.2154287099838257,
          0.41668787598609924,
          0.08084391802549362,
          -6.1880269050598145,
          -6.059079170227051,
          -5.362368583679199,
          -0.5363391041755676,
          -2.5869011878967285,
          -0.004022069741040468,
          1.4126124382019043,
          -3.117213010787964,
          -0.5976900458335876,
          -2.5803728103637695,
          -5.393359184265137,
          0.578269898891449,
          0.5850456953048706
         ]
        },
        {
         "hovertemplate": "high_level_substr=pectin<br>0=%{x}<br>1=%{y}<br>2=%{z}<extra></extra>",
         "legendgroup": "pectin",
         "marker": {
          "color": "#FFA15A",
          "size": 8,
          "symbol": "circle"
         },
         "mode": "markers",
         "name": "pectin",
         "scene": "scene",
         "showlegend": true,
         "type": "scatter3d",
         "x": [
          -2.1853179931640625,
          2.236098527908325,
          -9.258720397949219,
          -1.7243783473968506,
          -0.4843164384365082,
          -0.47325217723846436,
          -0.7867956757545471,
          1.6055927276611328,
          1.5870118141174316,
          0.3882605731487274,
          -0.25556063652038574,
          -1.81048583984375,
          -1.847407579421997,
          0.41269493103027344,
          -0.4843164384365082,
          0.6634209752082825,
          -0.47813886404037476,
          -0.6831631660461426,
          -3.866605281829834,
          0.2791394591331482,
          2.0907158851623535,
          0.6657593846321106,
          3.113135814666748,
          0.4543362259864807,
          1.7459626197814941,
          1.370628833770752,
          2.193558931350708,
          1.6893281936645508,
          1.4841194152832031,
          2.0534067153930664,
          1.4178482294082642,
          1.094933032989502,
          -3.539135694503784,
          3.4040005207061768,
          -3.454007625579834,
          -2.6011502742767334,
          1.8675435781478882,
          4.213833808898926
         ],
         "y": [
          -3.970632791519165,
          -8.351365089416504,
          -1.4213069677352905,
          -9.197807312011719,
          -5.691250324249268,
          -5.318850517272949,
          -5.022113800048828,
          2.138404369354248,
          2.9007742404937744,
          -7.606384754180908,
          3.271557569503784,
          3.162550210952759,
          -4.245193958282471,
          -6.962695598602295,
          -5.691250324249268,
          -8.930081367492676,
          -5.726503372192383,
          -10.277772903442383,
          10.09631633758545,
          9.909327507019043,
          1.611660361289978,
          10.334646224975586,
          1.850162386894226,
          -7.179197788238525,
          1.6805386543273926,
          12.588848114013672,
          8.222854614257812,
          2.199125289916992,
          7.7096123695373535,
          -0.2942775785923004,
          10.226943969726562,
          -3.913910388946533,
          -0.4202169179916382,
          15.352096557617188,
          -0.43796050548553467,
          2.151172637939453,
          7.616898536682129,
          16.36425018310547
         ],
         "z": [
          -1.9666863679885864,
          -2.288947105407715,
          -7.459954261779785,
          0.7128037214279175,
          0.09798090904951096,
          0.3046940267086029,
          0.41519680619239807,
          1.7095433473587036,
          -1.8245640993118286,
          -0.5895267128944397,
          2.4664525985717773,
          3.0319390296936035,
          -0.7491043210029602,
          -0.7303968667984009,
          0.09798090904951096,
          -1.319347620010376,
          0.43645668029785156,
          -0.4292996823787689,
          -0.6795814633369446,
          4.5427141189575195,
          1.366572618484497,
          2.386721611022949,
          -0.9597964882850647,
          -0.6846522688865662,
          0.7121564149856567,
          0.34001532196998596,
          -3.676323652267456,
          0.8221707940101624,
          1.0216381549835205,
          0.8010715246200562,
          -1.1952333450317383,
          0.2895571291446686,
          4.344732284545898,
          3.0901405811309814,
          4.328460216522217,
          3.492044687271118,
          2.157383680343628,
          1.0178546905517578
         ]
        },
        {
         "hovertemplate": "high_level_substr=xylan<br>0=%{x}<br>1=%{y}<br>2=%{z}<extra></extra>",
         "legendgroup": "xylan",
         "marker": {
          "color": "#19d3f3",
          "size": 8,
          "symbol": "circle"
         },
         "mode": "markers",
         "name": "xylan",
         "scene": "scene",
         "showlegend": true,
         "type": "scatter3d",
         "x": [
          4.185384750366211,
          -4.946199893951416,
          2.4331047534942627,
          -0.40796685218811035,
          -3.7004122734069824,
          2.1233136653900146,
          -4.7094573974609375,
          -3.4025583267211914,
          0.05525478720664978,
          2.5539135932922363,
          2.8022401332855225,
          1.0539543628692627,
          0.003059930866584182,
          -3.0392305850982666,
          -7.3669023513793945,
          -2.9671788215637207,
          -1.8640960454940796,
          -4.522587299346924,
          0.4015612006187439,
          -3.695469617843628,
          -3.505993127822876,
          3.097182035446167,
          -5.1626434326171875,
          -3.4285829067230225,
          -5.946634292602539,
          -3.793505907058716,
          3.6751410961151123,
          -0.6587331295013428,
          1.2170512676239014,
          1.9804160594940186,
          -2.1160695552825928,
          2.981796979904175,
          2.6476547718048096,
          -0.8110292553901672,
          3.061229705810547,
          3.2399442195892334,
          2.1713452339172363,
          1.7189512252807617
         ],
         "y": [
          7.819899559020996,
          -0.4060615599155426,
          6.840240478515625,
          9.213685989379883,
          2.9064137935638428,
          6.489329814910889,
          -2.7061655521392822,
          -2.6415340900421143,
          12.514265060424805,
          2.824742078781128,
          3.044818639755249,
          4.2606730461120605,
          9.0045747756958,
          10.117898941040039,
          -0.7227914929389954,
          0.021926958113908768,
          12.342365264892578,
          -2.2311482429504395,
          8.562612533569336,
          3.8364195823669434,
          -1.6825823783874512,
          7.028012752532959,
          1.845314860343933,
          1.3044853210449219,
          -3.0153167247772217,
          -1.1304081678390503,
          -2.7872612476348877,
          10.682632446289062,
          14.786686897277832,
          15.711884498596191,
          2.9259464740753174,
          15.574509620666504,
          6.358330726623535,
          11.090439796447754,
          -0.21915960311889648,
          -0.6484138369560242,
          4.744442939758301,
          3.590937852859497
         ],
         "z": [
          2.1735336780548096,
          -4.814441680908203,
          0.6570550203323364,
          -0.7530993819236755,
          -4.058382511138916,
          -0.02352859079837799,
          -7.5668463706970215,
          -6.700446128845215,
          1.0753226280212402,
          -1.720409631729126,
          1.8563896417617798,
          0.12802711129188538,
          -0.7643005847930908,
          -0.17695440351963043,
          -6.218196868896484,
          -0.3188106119632721,
          2.007449150085449,
          -3.736544370651245,
          -2.243194580078125,
          -7.502200603485107,
          -3.1713027954101562,
          1.3659720420837402,
          -5.785887241363525,
          -4.680479049682617,
          -3.7930920124053955,
          -3.4409310817718506,
          -2.6420419216156006,
          -0.27839457988739014,
          -2.0268192291259766,
          0.07883607596158981,
          3.168175220489502,
          0.5569507479667664,
          0.7968434691429138,
          -0.5591354370117188,
          2.2560460567474365,
          2.451334238052368,
          0.11889225244522095,
          0.04518879950046539
         ]
        },
        {
         "hovertemplate": "high_level_substr=O-antigen<br>0=%{x}<br>1=%{y}<br>2=%{z}<extra></extra>",
         "legendgroup": "O-antigen",
         "marker": {
          "color": "#FF6692",
          "size": 8,
          "symbol": "circle"
         },
         "mode": "markers",
         "name": "O-antigen",
         "scene": "scene",
         "showlegend": true,
         "type": "scatter3d",
         "x": [
          10.426745414733887,
          2.7126636505126953,
          10.675459861755371,
          9.160245895385742,
          9.239094734191895,
          2.375532627105713,
          2.7285807132720947,
          4.082596302032471,
          4.438222408294678,
          4.525993824005127,
          4.0875725746154785,
          10.413272857666016,
          10.861198425292969,
          10.675459861755371,
          4.157537460327148,
          9.272841453552246,
          10.51620101928711,
          9.160245895385742,
          4.0875725746154785,
          5.270689010620117,
          8.283470153808594,
          9.754764556884766,
          5.933334827423096,
          10.626812934875488,
          3.2362849712371826,
          9.518415451049805,
          6.068783760070801,
          3.320692539215088,
          7.683692455291748,
          3.247154951095581,
          8.9893217086792,
          5.893700122833252,
          3.7016279697418213,
          5.969765663146973,
          3.701601505279541,
          7.949552059173584,
          10.374019622802734
         ],
         "y": [
          -10.142227172851562,
          -5.245575904846191,
          -8.254676818847656,
          -5.648979663848877,
          -6.700171947479248,
          -5.135678291320801,
          -5.5748772621154785,
          -3.575003147125244,
          -9.53764533996582,
          -3.231659412384033,
          -9.663763046264648,
          -10.071490287780762,
          -9.804040908813477,
          -8.254676818847656,
          -5.151233196258545,
          -6.623020648956299,
          -9.48941707611084,
          -5.648979663848877,
          -9.663763046264648,
          -5.058495998382568,
          -6.03883171081543,
          -9.654210090637207,
          -9.066878318786621,
          -8.852152824401855,
          -10.030765533447266,
          -6.713909149169922,
          -6.499511241912842,
          -5.9979023933410645,
          -4.893678188323975,
          -10.02392292022705,
          -6.859816551208496,
          -9.270718574523926,
          -1.7803235054016113,
          -2.780123233795166,
          -1.7803912162780762,
          -5.298858165740967,
          -9.344196319580078
         ],
         "z": [
          9.67099666595459,
          7.568239688873291,
          6.315303802490234,
          11.687498092651367,
          7.119986534118652,
          7.51516580581665,
          6.488701820373535,
          11.836451530456543,
          5.379385948181152,
          10.620870590209961,
          5.202391624450684,
          10.34048843383789,
          9.809187889099121,
          6.315303802490234,
          8.511526107788086,
          11.259814262390137,
          10.365588188171387,
          11.687498092651367,
          5.202391624450684,
          8.894181251525879,
          6.964596748352051,
          10.254045486450195,
          6.606801986694336,
          7.441056728363037,
          4.741461753845215,
          9.798445701599121,
          10.355643272399902,
          8.010066032409668,
          8.818195343017578,
          4.740937232971191,
          8.0470552444458,
          7.152003288269043,
          11.57460880279541,
          10.189397811889648,
          11.574533462524414,
          7.8851752281188965,
          8.854804039001465
         ]
        },
        {
         "hovertemplate": "high_level_substr=galactan<br>0=%{x}<br>1=%{y}<br>2=%{z}<extra></extra>",
         "legendgroup": "galactan",
         "marker": {
          "color": "#B6E880",
          "size": 8,
          "symbol": "circle"
         },
         "mode": "markers",
         "name": "galactan",
         "scene": "scene",
         "showlegend": true,
         "type": "scatter3d",
         "x": [
          -7.1914381980896,
          -0.9329807758331299,
          -4.16349983215332,
          -3.9117159843444824,
          -6.156484603881836,
          -5.134860515594482,
          -0.4636004567146301,
          -4.660043716430664,
          1.63119375705719,
          -1.4073115587234497,
          -6.732580661773682,
          -6.7990498542785645,
          -5.658449649810791,
          -1.5386139154434204,
          -6.732550144195557,
          -1.4375686645507812,
          -1.611992597579956,
          -3.8882672786712646,
          -5.138444423675537,
          1.448506474494934,
          1.4201525449752808,
          1.4178476333618164,
          -4.705143928527832,
          -5.7407450675964355,
          -6.554908752441406,
          -1.7683391571044922,
          -0.7883562445640564,
          -7.656337261199951,
          2.9353723526000977,
          2.1638031005859375,
          -1.2983152866363525,
          1.877371072769165,
          0.7715639472007751,
          -1.4073115587234497,
          -3.2692151069641113,
          -3.6210744380950928
         ],
         "y": [
          -0.40976786613464355,
          -8.110795021057129,
          -0.6930572390556335,
          -1.5233988761901855,
          -3.076032876968384,
          -5.916829586029053,
          -9.170525550842285,
          -5.427614212036133,
          8.011674880981445,
          -9.703739166259766,
          -5.2549285888671875,
          -4.221667766571045,
          -4.33604621887207,
          -9.67875862121582,
          -5.255033016204834,
          6.611189842224121,
          1.622467279434204,
          -6.335981845855713,
          -6.464298725128174,
          2.797797203063965,
          10.239912986755371,
          10.226948738098145,
          1.4688655138015747,
          -2.22794246673584,
          1.826797604560852,
          1.8742561340332031,
          -8.120241165161133,
          1.4507997035980225,
          8.795400619506836,
          4.940910816192627,
          -2.2773027420043945,
          2.50738787651062,
          10.001139640808105,
          -9.703739166259766,
          7.17380952835083,
          -6.440150260925293
         ],
         "z": [
          -5.938591003417969,
          -8.65236759185791,
          -3.9801597595214844,
          -6.391156196594238,
          -7.598262786865234,
          -5.38560676574707,
          -8.7030029296875,
          -6.386725902557373,
          -1.1686221361160278,
          -8.430974006652832,
          -7.756699085235596,
          -7.386541843414307,
          -7.654591083526611,
          -8.728378295898438,
          -7.75669002532959,
          -1.3674558401107788,
          -2.9953694343566895,
          -5.817822456359863,
          -5.576230049133301,
          -1.5663244724273682,
          -1.6888278722763062,
          -1.195275068283081,
          -6.438371181488037,
          -7.89820671081543,
          -8.557927131652832,
          2.2356116771698,
          -8.81120491027832,
          -8.704140663146973,
          -3.3161001205444336,
          0.2636381685733795,
          1.8980876207351685,
          -0.3832515776157379,
          0.9480004906654358,
          -8.430974006652832,
          -1.156331181526184,
          -5.676863193511963
         ]
        },
        {
         "hovertemplate": "high_level_substr=alpha-glucan<br>0=%{x}<br>1=%{y}<br>2=%{z}<extra></extra>",
         "legendgroup": "alpha-glucan",
         "marker": {
          "color": "#FF97FF",
          "size": 8,
          "symbol": "circle"
         },
         "mode": "markers",
         "name": "alpha-glucan",
         "scene": "scene",
         "showlegend": true,
         "type": "scatter3d",
         "x": [
          4.621578216552734,
          -0.08071471750736237,
          5.0689311027526855,
          -6.2781195640563965,
          2.8976004123687744,
          2.685427665710449,
          -7.886574745178223,
          -7.1864142417907715,
          -9.101540565490723,
          -0.6299570202827454,
          -8.046173095703125,
          2.721674680709839,
          5.998594284057617,
          2.984773635864258,
          0.5430284738540649,
          3.0820775032043457,
          -7.1657395362854,
          -1.3566416501998901,
          1.18580162525177,
          -6.93071985244751,
          4.554723739624023,
          2.855031967163086,
          -0.6688317656517029
         ],
         "y": [
          -6.0683488845825195,
          -3.961423873901367,
          6.2975544929504395,
          -4.5908522605896,
          2.665861129760742,
          -3.2807347774505615,
          -1.3884611129760742,
          -4.491771221160889,
          -0.42208564281463623,
          -2.653286933898926,
          1.3624502420425415,
          13.529025077819824,
          17.333261489868164,
          12.25168228149414,
          13.594182014465332,
          12.700522422790527,
          -2.700547456741333,
          -10.458669662475586,
          -9.099165916442871,
          -2.1018667221069336,
          -6.021732330322266,
          2.726745843887329,
          -3.7541446685791016
         ],
         "z": [
          4.290556907653809,
          -5.475933074951172,
          1.2174946069717407,
          -6.328324317932129,
          -3.002493381500244,
          0.5322037935256958,
          -6.63404655456543,
          -6.4019060134887695,
          -7.1209635734558105,
          -5.928388595581055,
          -8.065206527709961,
          0.28681689500808716,
          1.6991705894470215,
          0.3241482377052307,
          -0.4906337559223175,
          0.3901247978210449,
          -8.026081085205078,
          -6.757675647735596,
          0.8513920903205872,
          -4.522601127624512,
          4.253682613372803,
          -2.890882730484009,
          -5.169972896575928
         ]
        },
        {
         "hovertemplate": "high_level_substr=beta-mannan<br>0=%{x}<br>1=%{y}<br>2=%{z}<extra></extra>",
         "legendgroup": "beta-mannan",
         "marker": {
          "color": "#FECB52",
          "size": 8,
          "symbol": "circle"
         },
         "mode": "markers",
         "name": "beta-mannan",
         "scene": "scene",
         "showlegend": true,
         "type": "scatter3d",
         "x": [
          -2.2935290336608887,
          -2.412522077560425,
          3.5412371158599854,
          0.13658639788627625,
          -1.1150028705596924,
          -0.9288943409919739,
          -1.4391264915466309,
          1.4585756063461304,
          -1.4391776323318481,
          -0.008602514863014221,
          -1.873500108718872,
          -10.615286827087402,
          -3.1584384441375732,
          -0.47229427099227905,
          2.183901786804199,
          -0.8930673599243164,
          -4.326095104217529,
          -9.20474910736084,
          -1.5103849172592163
         ],
         "y": [
          -3.3136394023895264,
          -5.902714729309082,
          9.099365234375,
          2.645915985107422,
          8.145441055297852,
          8.902681350708008,
          9.009444236755371,
          9.520036697387695,
          9.009490966796875,
          1.8046691417694092,
          1.6402924060821533,
          4.295787811279297,
          9.949722290039062,
          -4.1379075050354,
          8.028158187866211,
          8.585841178894043,
          1.0375534296035767,
          5.5876007080078125,
          -7.187756538391113
         ],
         "z": [
          -5.364184379577637,
          -4.970006942749023,
          3.964900255203247,
          0.442060649394989,
          2.911273717880249,
          2.0013458728790283,
          0.7097012400627136,
          4.607512474060059,
          0.7096606492996216,
          0.49031344056129456,
          -2.2623586654663086,
          -1.9277429580688477,
          0.40976202487945557,
          -5.230113506317139,
          -3.526137590408325,
          2.018263578414917,
          -4.1348395347595215,
          -2.4114224910736084,
          -8.15038013458252
         ]
        },
        {
         "hovertemplate": "high_level_substr=cellulose<br>0=%{x}<br>1=%{y}<br>2=%{z}<extra></extra>",
         "legendgroup": "cellulose",
         "marker": {
          "color": "#636efa",
          "size": 8,
          "symbol": "circle"
         },
         "mode": "markers",
         "name": "cellulose",
         "scene": "scene",
         "showlegend": true,
         "type": "scatter3d",
         "x": [
          4.788768291473389,
          4.359485626220703,
          4.629330635070801,
          5.041592121124268,
          1.7007800340652466,
          0.45264869928359985,
          5.7271904945373535,
          3.9988396167755127,
          0.5667988061904907,
          3.1227664947509766,
          4.997951984405518,
          0.5003312826156616,
          -0.024310316890478134,
          2.369967460632324,
          0.1337835192680359,
          0.4557718336582184,
          6.7437896728515625,
          4.5384602546691895
         ],
         "y": [
          3.4672460556030273,
          4.667916297912598,
          4.045940399169922,
          4.534853935241699,
          9.463375091552734,
          -9.522086143493652,
          4.349743843078613,
          6.51982307434082,
          14.226234436035156,
          14.151920318603516,
          4.808932304382324,
          2.7812817096710205,
          13.305527687072754,
          7.720401763916016,
          12.952635765075684,
          9.09776496887207,
          -3.3345515727996826,
          4.209095001220703
         ],
         "z": [
          2.8482584953308105,
          2.8643789291381836,
          2.735255241394043,
          1.0053651332855225,
          5.911934852600098,
          -1.1861894130706787,
          1.857844591140747,
          2.8991854190826416,
          -1.228895902633667,
          2.0269336700439453,
          0.9922143816947937,
          0.45468252897262573,
          0.6995787620544434,
          -1.9700939655303955,
          0.62935870885849,
          -2.1140174865722656,
          12.417586326599121,
          2.770979404449463
         ]
        },
        {
         "hovertemplate": "high_level_substr=chitin<br>0=%{x}<br>1=%{y}<br>2=%{z}<extra></extra>",
         "legendgroup": "chitin",
         "marker": {
          "color": "#EF553B",
          "size": 8,
          "symbol": "circle"
         },
         "mode": "markers",
         "name": "chitin",
         "scene": "scene",
         "showlegend": true,
         "type": "scatter3d",
         "x": [
          -5.634487628936768,
          -5.428881645202637,
          5.314121246337891,
          -2.4575982093811035,
          2.002736806869507,
          -6.074069023132324,
          -0.7019965648651123,
          -2.689707040786743,
          -11.192462921142578,
          -2.6127164363861084,
          5.3169426918029785,
          5.314121246337891,
          -9.805485725402832,
          1.6032027006149292,
          -7.319501876831055
         ],
         "y": [
          1.3484959602355957,
          -3.74458384513855,
          1.6414767503738403,
          -4.387962341308594,
          -1.8117692470550537,
          -5.720096111297607,
          -1.7406811714172363,
          -1.9027900695800781,
          3.2237045764923096,
          -1.9002031087875366,
          1.651132583618164,
          1.6414767503738403,
          4.21005392074585,
          13.83324146270752,
          2.1605489253997803
         ],
         "z": [
          -7.286113739013672,
          -4.748251914978027,
          0.6018103361129761,
          -2.5393826961517334,
          -1.2183135747909546,
          -3.0595948696136475,
          0.04755864664912224,
          0.6643206477165222,
          -1.0578066110610962,
          0.7557563781738281,
          0.5925360321998596,
          0.6018103361129761,
          -0.9985185861587524,
          4.720031261444092,
          -8.580899238586426
         ]
        },
        {
         "hovertemplate": "high_level_substr=glycosaminoglycan<br>0=%{x}<br>1=%{y}<br>2=%{z}<extra></extra>",
         "legendgroup": "glycosaminoglycan",
         "marker": {
          "color": "#00cc96",
          "size": 8,
          "symbol": "circle"
         },
         "mode": "markers",
         "name": "glycosaminoglycan",
         "scene": "scene",
         "showlegend": true,
         "type": "scatter3d",
         "x": [
          -4.955869197845459,
          -2.672842264175415,
          -2.3377997875213623,
          -2.080995798110962,
          -3.2486348152160645,
          -2.4147555828094482,
          -0.2508843243122101,
          -0.6180346608161926,
          4.9225664138793945,
          1.0610567331314087,
          0.7922958135604858,
          0.0408698245882988,
          1.4904649257659912,
          1.490236759185791
         ],
         "y": [
          -9.043116569519043,
          -7.187849044799805,
          -7.709262847900391,
          -7.762044906616211,
          -3.3480052947998047,
          -3.276120185852051,
          -10.55166244506836,
          -8.590629577636719,
          16.87935447692871,
          15.749044418334961,
          -6.957788944244385,
          -10.55236530303955,
          -10.858701705932617,
          -10.858059883117676
         ],
         "z": [
          -4.534573078155518,
          2.8838858604431152,
          2.112710952758789,
          2.4996132850646973,
          0.8957695960998535,
          0.8155118227005005,
          2.3266818523406982,
          3.5000433921813965,
          1.1717562675476074,
          3.0441203117370605,
          -0.9055119752883911,
          2.4453697204589844,
          2.905210018157959,
          2.9070589542388916
         ]
        },
        {
         "hovertemplate": "high_level_substr=beta-glucan <br>0=%{x}<br>1=%{y}<br>2=%{z}<extra></extra>",
         "legendgroup": "beta-glucan ",
         "marker": {
          "color": "#ab63fa",
          "size": 8,
          "symbol": "circle"
         },
         "mode": "markers",
         "name": "beta-glucan ",
         "scene": "scene",
         "showlegend": true,
         "type": "scatter3d",
         "x": [
          -3.191692590713501,
          2.330730438232422,
          2.578632354736328,
          -6.376476764678955,
          3.3126273155212402,
          0.5275756120681763,
          1.7175776958465576,
          -2.5725605487823486,
          4.5722198486328125,
          0.5279267430305481,
          2.5788276195526123,
          3.065646171569824,
          4.5397562980651855
         ],
         "y": [
          13.579751968383789,
          10.064985275268555,
          10.289420127868652,
          0.7657643556594849,
          14.147834777832031,
          13.651371002197266,
          -3.860574722290039,
          -2.4567744731903076,
          11.924948692321777,
          13.65140151977539,
          10.289462089538574,
          9.168557167053223,
          10.84632682800293
         ],
         "z": [
          1.7737619876861572,
          -1.570192575454712,
          -0.7007038593292236,
          -5.678925037384033,
          0.5374378561973572,
          -2.0778145790100098,
          -2.250201940536499,
          -5.6892991065979,
          0.2439168244600296,
          -2.0780985355377197,
          -0.7004923224449158,
          0.1496984213590622,
          0.945931077003479
         ]
        },
        {
         "hovertemplate": "high_level_substr=N-glycan<br>0=%{x}<br>1=%{y}<br>2=%{z}<extra></extra>",
         "legendgroup": "N-glycan",
         "marker": {
          "color": "#FFA15A",
          "size": 8,
          "symbol": "circle"
         },
         "mode": "markers",
         "name": "N-glycan",
         "scene": "scene",
         "showlegend": true,
         "type": "scatter3d",
         "x": [
          0.7444961667060852,
          3.774266481399536,
          -3.336514472961426,
          6.220318794250488,
          4.058919429779053,
          1.1021519899368286,
          -9.066887855529785,
          -2.657637357711792,
          0.9052817821502686,
          2.4335811138153076,
          0.5017824172973633,
          4.059024333953857
         ],
         "y": [
          10.914772987365723,
          -6.066893577575684,
          0.22718900442123413,
          5.078130722045898,
          -4.280205249786377,
          10.493712425231934,
          2.428438186645508,
          -7.301210880279541,
          10.587467193603516,
          13.88365650177002,
          4.523200511932373,
          -4.2801289558410645
         ],
         "z": [
          6.165419101715088,
          1.230863094329834,
          0.4707450866699219,
          0.7566283941268921,
          -3.7750020027160645,
          5.613864898681641,
          -0.4762541353702545,
          2.6352651119232178,
          4.969867706298828,
          0.6873500943183899,
          2.3968305587768555,
          -3.7750895023345947
         ]
        },
        {
         "hovertemplate": "high_level_substr=exopolysaccharide<br>0=%{x}<br>1=%{y}<br>2=%{z}<extra></extra>",
         "legendgroup": "exopolysaccharide",
         "marker": {
          "color": "#19d3f3",
          "size": 8,
          "symbol": "circle"
         },
         "mode": "markers",
         "name": "exopolysaccharide",
         "scene": "scene",
         "showlegend": true,
         "type": "scatter3d",
         "x": [
          3.41400146484375,
          5.7538652420043945,
          1.1945140361785889,
          5.998594284057617,
          2.8541924953460693,
          5.209095478057861,
          -3.5413715839385986,
          3.0683817863464355,
          0.24113766849040985,
          8.395084381103516
         ],
         "y": [
          -3.9923698902130127,
          -4.009558200836182,
          13.441842079162598,
          17.333261489868164,
          13.429628372192383,
          -2.8786120414733887,
          -8.308575630187988,
          -5.686472415924072,
          -8.395564079284668,
          -3.999354124069214
         ],
         "z": [
          9.177413940429688,
          10.882993698120117,
          2.751451253890991,
          1.6991705894470215,
          0.09865236282348633,
          9.222214698791504,
          -0.6442594528198242,
          5.941380023956299,
          2.892709255218506,
          10.181336402893066
         ]
        },
        {
         "hovertemplate": "high_level_substr=-<br>0=%{x}<br>1=%{y}<br>2=%{z}<extra></extra>",
         "legendgroup": "-",
         "marker": {
          "color": "#FF6692",
          "size": 8,
          "symbol": "circle"
         },
         "mode": "markers",
         "name": "-",
         "scene": "scene",
         "showlegend": true,
         "type": "scatter3d",
         "x": [
          3.49407696723938,
          -5.1626434326171875,
          -10.829232215881348,
          2.7659780979156494,
          2.7548975944519043,
          -0.831799328327179,
          -8.301398277282715,
          2.214216470718384,
          2.57102370262146
         ],
         "y": [
          -1.99289071559906,
          1.845314860343933,
          2.1148288249969482,
          -3.335935592651367,
          -3.5316355228424072,
          -2.635171890258789,
          -0.44265076518058777,
          -2.695725679397583,
          -3.418405055999756
         ],
         "z": [
          9.260855674743652,
          -5.785887241363525,
          -2.475799322128296,
          2.106038808822632,
          2.2654151916503906,
          -2.244971990585327,
          -4.798360824584961,
          2.5986409187316895,
          0.5130935907363892
         ]
        },
        {
         "hovertemplate": "high_level_substr=fructan<br>0=%{x}<br>1=%{y}<br>2=%{z}<extra></extra>",
         "legendgroup": "fructan",
         "marker": {
          "color": "#B6E880",
          "size": 8,
          "symbol": "circle"
         },
         "mode": "markers",
         "name": "fructan",
         "scene": "scene",
         "showlegend": true,
         "type": "scatter3d",
         "x": [
          -2.730807065963745,
          -4.356358051300049,
          2.0556554794311523,
          -2.524383544921875,
          -5.6112189292907715,
          -5.6112189292907715,
          -3.745846748352051,
          1.2846364974975586
         ],
         "y": [
          4.204390525817871,
          -3.5391955375671387,
          15.691478729248047,
          -8.762502670288086,
          -5.848007678985596,
          -5.848007678985596,
          9.621063232421875,
          2.102682590484619
         ],
         "z": [
          1.949526309967041,
          -6.314448833465576,
          -0.13336899876594543,
          -7.594476222991943,
          -6.9990997314453125,
          -6.9990997314453125,
          0.9145767092704773,
          3.801244020462036
         ]
        },
        {
         "hovertemplate": "high_level_substr=alpha-mannan<br>0=%{x}<br>1=%{y}<br>2=%{z}<extra></extra>",
         "legendgroup": "alpha-mannan",
         "marker": {
          "color": "#FF97FF",
          "size": 8,
          "symbol": "circle"
         },
         "mode": "markers",
         "name": "alpha-mannan",
         "scene": "scene",
         "showlegend": true,
         "type": "scatter3d",
         "x": [
          -2.6994409561157227,
          0.17814843356609344,
          0.24322940409183502,
          0.4862416684627533,
          0.8202403783798218,
          0.4862416088581085,
          0.042394474148750305,
          0.4461457133293152
         ],
         "y": [
          6.8116021156311035,
          7.383068561553955,
          15.036829948425293,
          8.367622375488281,
          6.390635967254639,
          8.367622375488281,
          14.7546968460083,
          7.340435028076172
         ],
         "z": [
          2.818100690841675,
          2.7640483379364014,
          2.0036771297454834,
          4.001320838928223,
          3.088521718978882,
          4.0013203620910645,
          1.9213138818740845,
          3.0616567134857178
         ]
        },
        {
         "hovertemplate": "high_level_substr=host glycan<br>0=%{x}<br>1=%{y}<br>2=%{z}<extra></extra>",
         "legendgroup": "host glycan",
         "marker": {
          "color": "#FECB52",
          "size": 8,
          "symbol": "circle"
         },
         "mode": "markers",
         "name": "host glycan",
         "scene": "scene",
         "showlegend": true,
         "type": "scatter3d",
         "x": [
          -1.0113130807876587,
          4.078789710998535,
          3.1090290546417236,
          -0.21404269337654114,
          0.41556939482688904,
          -0.34552204608917236,
          -1.9576784372329712
         ],
         "y": [
          -8.546584129333496,
          15.945773124694824,
          14.74301528930664,
          -5.584742069244385,
          11.802590370178223,
          9.375016212463379,
          -1.7263336181640625
         ],
         "z": [
          -0.8073538541793823,
          0.7745592594146729,
          0.7641493678092957,
          -1.0104142427444458,
          4.491755962371826,
          2.455312967300415,
          1.880185842514038
         ]
        },
        {
         "hovertemplate": "high_level_substr=xyloglucan<br>0=%{x}<br>1=%{y}<br>2=%{z}<extra></extra>",
         "legendgroup": "xyloglucan",
         "marker": {
          "color": "#636efa",
          "size": 8,
          "symbol": "circle"
         },
         "mode": "markers",
         "name": "xyloglucan",
         "scene": "scene",
         "showlegend": true,
         "type": "scatter3d",
         "x": [
          2.5642013549804688,
          1.9016571044921875,
          1.9880558252334595,
          2.3071205615997314,
          1.9880558252334595,
          -0.09873826801776886,
          2.193079710006714
         ],
         "y": [
          8.913278579711914,
          3.87404203414917,
          9.229722023010254,
          8.843396186828613,
          9.229722023010254,
          13.467878341674805,
          8.31585693359375
         ],
         "z": [
          2.502760648727417,
          1.7661492824554443,
          1.1559542417526245,
          2.0207107067108154,
          1.1559542417526245,
          -0.8409028053283691,
          1.5734634399414062
         ]
        },
        {
         "hovertemplate": "high_level_substr=plant polysaccharide<br>0=%{x}<br>1=%{y}<br>2=%{z}<extra></extra>",
         "legendgroup": "plant polysaccharide",
         "marker": {
          "color": "#EF553B",
          "size": 8,
          "symbol": "circle"
         },
         "mode": "markers",
         "name": "plant polysaccharide",
         "scene": "scene",
         "showlegend": true,
         "type": "scatter3d",
         "x": [
          -4.419728755950928,
          -4.465268135070801,
          2.229779005050659,
          -0.21016788482666016,
          3.5917720794677734,
          3.632131576538086
         ],
         "y": [
          -2.9803102016448975,
          -3.036261558532715,
          -8.362581253051758,
          4.540421485900879,
          14.352075576782227,
          14.559063911437988
         ],
         "z": [
          4.434613227844238,
          4.443803310394287,
          -2.2853798866271973,
          0.0987115129828453,
          0.8910393714904785,
          1.0406596660614014
         ]
        },
        {
         "hovertemplate": "high_level_substr=glycoprotein<br>0=%{x}<br>1=%{y}<br>2=%{z}<extra></extra>",
         "legendgroup": "glycoprotein",
         "marker": {
          "color": "#00cc96",
          "size": 8,
          "symbol": "circle"
         },
         "mode": "markers",
         "name": "glycoprotein",
         "scene": "scene",
         "showlegend": true,
         "type": "scatter3d",
         "x": [
          -2.0490312576293945,
          1.0610567331314087,
          4.058404445648193,
          3.0764734745025635,
          -0.9934784173965454,
          -0.035137347877025604
         ],
         "y": [
          -3.8977556228637695,
          15.749044418334961,
          -4.280588626861572,
          -4.9697113037109375,
          9.40422534942627,
          4.797098159790039
         ],
         "z": [
          -2.202209234237671,
          3.0441203117370605,
          -3.774456262588501,
          -4.0824503898620605,
          4.181775093078613,
          1.3003332614898682
         ]
        },
        {
         "hovertemplate": "high_level_substr=human milk oligosaccharide<br>0=%{x}<br>1=%{y}<br>2=%{z}<extra></extra>",
         "legendgroup": "human milk oligosaccharide",
         "marker": {
          "color": "#ab63fa",
          "size": 8,
          "symbol": "circle"
         },
         "mode": "markers",
         "name": "human milk oligosaccharide",
         "scene": "scene",
         "showlegend": true,
         "type": "scatter3d",
         "x": [
          -1.3121578693389893,
          -3.616072654724121,
          -6.010056495666504,
          -6.3640336990356445,
          -4.116291522979736
         ],
         "y": [
          -8.080513954162598,
          -6.161146640777588,
          -2.977620840072632,
          1.5678682327270508,
          0.735704779624939
         ],
         "z": [
          3.7570433616638184,
          -5.939204216003418,
          -3.2537741661071777,
          -5.408169269561768,
          -3.9264822006225586
         ]
        },
        {
         "hovertemplate": "high_level_substr=hemicellulose<br>0=%{x}<br>1=%{y}<br>2=%{z}<extra></extra>",
         "legendgroup": "hemicellulose",
         "marker": {
          "color": "#FFA15A",
          "size": 8,
          "symbol": "circle"
         },
         "mode": "markers",
         "name": "hemicellulose",
         "scene": "scene",
         "showlegend": true,
         "type": "scatter3d",
         "x": [
          -3.9117159843444824,
          -1.9049519300460815,
          5.162398338317871,
          -0.6846321225166321,
          2.064661979675293
         ],
         "y": [
          -1.5233988761901855,
          -0.9910947680473328,
          5.017645835876465,
          9.337879180908203,
          10.149688720703125
         ],
         "z": [
          -6.391156196594238,
          2.8874025344848633,
          0.9807820916175842,
          -0.3758315145969391,
          0.19645410776138306
         ]
        },
        {
         "hovertemplate": "high_level_substr=O-glycan<br>0=%{x}<br>1=%{y}<br>2=%{z}<extra></extra>",
         "legendgroup": "O-glycan",
         "marker": {
          "color": "#19d3f3",
          "size": 8,
          "symbol": "circle"
         },
         "mode": "markers",
         "name": "O-glycan",
         "scene": "scene",
         "showlegend": true,
         "type": "scatter3d",
         "x": [
          10.129034042358398,
          10.129034042358398,
          10.437976837158203
         ],
         "y": [
          -8.75965404510498,
          -8.75965404510498,
          -8.329736709594727
         ],
         "z": [
          6.891772270202637,
          6.891772270202637,
          7.347850799560547
         ]
        }
       ],
       "layout": {
        "legend": {
         "title": {
          "text": "high_level_substr"
         },
         "tracegroupgap": 0
        },
        "margin": {
         "t": 60
        },
        "scene": {
         "domain": {
          "x": [
           0,
           1
          ],
          "y": [
           0,
           1
          ]
         },
         "xaxis": {
          "title": {
           "text": "0"
          }
         },
         "yaxis": {
          "title": {
           "text": "1"
          }
         },
         "zaxis": {
          "title": {
           "text": "2"
          }
         }
        },
        "template": {
         "data": {
          "bar": [
           {
            "error_x": {
             "color": "#2a3f5f"
            },
            "error_y": {
             "color": "#2a3f5f"
            },
            "marker": {
             "line": {
              "color": "#E5ECF6",
              "width": 0.5
             },
             "pattern": {
              "fillmode": "overlay",
              "size": 10,
              "solidity": 0.2
             }
            },
            "type": "bar"
           }
          ],
          "barpolar": [
           {
            "marker": {
             "line": {
              "color": "#E5ECF6",
              "width": 0.5
             },
             "pattern": {
              "fillmode": "overlay",
              "size": 10,
              "solidity": 0.2
             }
            },
            "type": "barpolar"
           }
          ],
          "carpet": [
           {
            "aaxis": {
             "endlinecolor": "#2a3f5f",
             "gridcolor": "white",
             "linecolor": "white",
             "minorgridcolor": "white",
             "startlinecolor": "#2a3f5f"
            },
            "baxis": {
             "endlinecolor": "#2a3f5f",
             "gridcolor": "white",
             "linecolor": "white",
             "minorgridcolor": "white",
             "startlinecolor": "#2a3f5f"
            },
            "type": "carpet"
           }
          ],
          "choropleth": [
           {
            "colorbar": {
             "outlinewidth": 0,
             "ticks": ""
            },
            "type": "choropleth"
           }
          ],
          "contour": [
           {
            "colorbar": {
             "outlinewidth": 0,
             "ticks": ""
            },
            "colorscale": [
             [
              0,
              "#0d0887"
             ],
             [
              0.1111111111111111,
              "#46039f"
             ],
             [
              0.2222222222222222,
              "#7201a8"
             ],
             [
              0.3333333333333333,
              "#9c179e"
             ],
             [
              0.4444444444444444,
              "#bd3786"
             ],
             [
              0.5555555555555556,
              "#d8576b"
             ],
             [
              0.6666666666666666,
              "#ed7953"
             ],
             [
              0.7777777777777778,
              "#fb9f3a"
             ],
             [
              0.8888888888888888,
              "#fdca26"
             ],
             [
              1,
              "#f0f921"
             ]
            ],
            "type": "contour"
           }
          ],
          "contourcarpet": [
           {
            "colorbar": {
             "outlinewidth": 0,
             "ticks": ""
            },
            "type": "contourcarpet"
           }
          ],
          "heatmap": [
           {
            "colorbar": {
             "outlinewidth": 0,
             "ticks": ""
            },
            "colorscale": [
             [
              0,
              "#0d0887"
             ],
             [
              0.1111111111111111,
              "#46039f"
             ],
             [
              0.2222222222222222,
              "#7201a8"
             ],
             [
              0.3333333333333333,
              "#9c179e"
             ],
             [
              0.4444444444444444,
              "#bd3786"
             ],
             [
              0.5555555555555556,
              "#d8576b"
             ],
             [
              0.6666666666666666,
              "#ed7953"
             ],
             [
              0.7777777777777778,
              "#fb9f3a"
             ],
             [
              0.8888888888888888,
              "#fdca26"
             ],
             [
              1,
              "#f0f921"
             ]
            ],
            "type": "heatmap"
           }
          ],
          "heatmapgl": [
           {
            "colorbar": {
             "outlinewidth": 0,
             "ticks": ""
            },
            "colorscale": [
             [
              0,
              "#0d0887"
             ],
             [
              0.1111111111111111,
              "#46039f"
             ],
             [
              0.2222222222222222,
              "#7201a8"
             ],
             [
              0.3333333333333333,
              "#9c179e"
             ],
             [
              0.4444444444444444,
              "#bd3786"
             ],
             [
              0.5555555555555556,
              "#d8576b"
             ],
             [
              0.6666666666666666,
              "#ed7953"
             ],
             [
              0.7777777777777778,
              "#fb9f3a"
             ],
             [
              0.8888888888888888,
              "#fdca26"
             ],
             [
              1,
              "#f0f921"
             ]
            ],
            "type": "heatmapgl"
           }
          ],
          "histogram": [
           {
            "marker": {
             "pattern": {
              "fillmode": "overlay",
              "size": 10,
              "solidity": 0.2
             }
            },
            "type": "histogram"
           }
          ],
          "histogram2d": [
           {
            "colorbar": {
             "outlinewidth": 0,
             "ticks": ""
            },
            "colorscale": [
             [
              0,
              "#0d0887"
             ],
             [
              0.1111111111111111,
              "#46039f"
             ],
             [
              0.2222222222222222,
              "#7201a8"
             ],
             [
              0.3333333333333333,
              "#9c179e"
             ],
             [
              0.4444444444444444,
              "#bd3786"
             ],
             [
              0.5555555555555556,
              "#d8576b"
             ],
             [
              0.6666666666666666,
              "#ed7953"
             ],
             [
              0.7777777777777778,
              "#fb9f3a"
             ],
             [
              0.8888888888888888,
              "#fdca26"
             ],
             [
              1,
              "#f0f921"
             ]
            ],
            "type": "histogram2d"
           }
          ],
          "histogram2dcontour": [
           {
            "colorbar": {
             "outlinewidth": 0,
             "ticks": ""
            },
            "colorscale": [
             [
              0,
              "#0d0887"
             ],
             [
              0.1111111111111111,
              "#46039f"
             ],
             [
              0.2222222222222222,
              "#7201a8"
             ],
             [
              0.3333333333333333,
              "#9c179e"
             ],
             [
              0.4444444444444444,
              "#bd3786"
             ],
             [
              0.5555555555555556,
              "#d8576b"
             ],
             [
              0.6666666666666666,
              "#ed7953"
             ],
             [
              0.7777777777777778,
              "#fb9f3a"
             ],
             [
              0.8888888888888888,
              "#fdca26"
             ],
             [
              1,
              "#f0f921"
             ]
            ],
            "type": "histogram2dcontour"
           }
          ],
          "mesh3d": [
           {
            "colorbar": {
             "outlinewidth": 0,
             "ticks": ""
            },
            "type": "mesh3d"
           }
          ],
          "parcoords": [
           {
            "line": {
             "colorbar": {
              "outlinewidth": 0,
              "ticks": ""
             }
            },
            "type": "parcoords"
           }
          ],
          "pie": [
           {
            "automargin": true,
            "type": "pie"
           }
          ],
          "scatter": [
           {
            "marker": {
             "colorbar": {
              "outlinewidth": 0,
              "ticks": ""
             }
            },
            "type": "scatter"
           }
          ],
          "scatter3d": [
           {
            "line": {
             "colorbar": {
              "outlinewidth": 0,
              "ticks": ""
             }
            },
            "marker": {
             "colorbar": {
              "outlinewidth": 0,
              "ticks": ""
             }
            },
            "type": "scatter3d"
           }
          ],
          "scattercarpet": [
           {
            "marker": {
             "colorbar": {
              "outlinewidth": 0,
              "ticks": ""
             }
            },
            "type": "scattercarpet"
           }
          ],
          "scattergeo": [
           {
            "marker": {
             "colorbar": {
              "outlinewidth": 0,
              "ticks": ""
             }
            },
            "type": "scattergeo"
           }
          ],
          "scattergl": [
           {
            "marker": {
             "colorbar": {
              "outlinewidth": 0,
              "ticks": ""
             }
            },
            "type": "scattergl"
           }
          ],
          "scattermapbox": [
           {
            "marker": {
             "colorbar": {
              "outlinewidth": 0,
              "ticks": ""
             }
            },
            "type": "scattermapbox"
           }
          ],
          "scatterpolar": [
           {
            "marker": {
             "colorbar": {
              "outlinewidth": 0,
              "ticks": ""
             }
            },
            "type": "scatterpolar"
           }
          ],
          "scatterpolargl": [
           {
            "marker": {
             "colorbar": {
              "outlinewidth": 0,
              "ticks": ""
             }
            },
            "type": "scatterpolargl"
           }
          ],
          "scatterternary": [
           {
            "marker": {
             "colorbar": {
              "outlinewidth": 0,
              "ticks": ""
             }
            },
            "type": "scatterternary"
           }
          ],
          "surface": [
           {
            "colorbar": {
             "outlinewidth": 0,
             "ticks": ""
            },
            "colorscale": [
             [
              0,
              "#0d0887"
             ],
             [
              0.1111111111111111,
              "#46039f"
             ],
             [
              0.2222222222222222,
              "#7201a8"
             ],
             [
              0.3333333333333333,
              "#9c179e"
             ],
             [
              0.4444444444444444,
              "#bd3786"
             ],
             [
              0.5555555555555556,
              "#d8576b"
             ],
             [
              0.6666666666666666,
              "#ed7953"
             ],
             [
              0.7777777777777778,
              "#fb9f3a"
             ],
             [
              0.8888888888888888,
              "#fdca26"
             ],
             [
              1,
              "#f0f921"
             ]
            ],
            "type": "surface"
           }
          ],
          "table": [
           {
            "cells": {
             "fill": {
              "color": "#EBF0F8"
             },
             "line": {
              "color": "white"
             }
            },
            "header": {
             "fill": {
              "color": "#C8D4E3"
             },
             "line": {
              "color": "white"
             }
            },
            "type": "table"
           }
          ]
         },
         "layout": {
          "annotationdefaults": {
           "arrowcolor": "#2a3f5f",
           "arrowhead": 0,
           "arrowwidth": 1
          },
          "autotypenumbers": "strict",
          "coloraxis": {
           "colorbar": {
            "outlinewidth": 0,
            "ticks": ""
           }
          },
          "colorscale": {
           "diverging": [
            [
             0,
             "#8e0152"
            ],
            [
             0.1,
             "#c51b7d"
            ],
            [
             0.2,
             "#de77ae"
            ],
            [
             0.3,
             "#f1b6da"
            ],
            [
             0.4,
             "#fde0ef"
            ],
            [
             0.5,
             "#f7f7f7"
            ],
            [
             0.6,
             "#e6f5d0"
            ],
            [
             0.7,
             "#b8e186"
            ],
            [
             0.8,
             "#7fbc41"
            ],
            [
             0.9,
             "#4d9221"
            ],
            [
             1,
             "#276419"
            ]
           ],
           "sequential": [
            [
             0,
             "#0d0887"
            ],
            [
             0.1111111111111111,
             "#46039f"
            ],
            [
             0.2222222222222222,
             "#7201a8"
            ],
            [
             0.3333333333333333,
             "#9c179e"
            ],
            [
             0.4444444444444444,
             "#bd3786"
            ],
            [
             0.5555555555555556,
             "#d8576b"
            ],
            [
             0.6666666666666666,
             "#ed7953"
            ],
            [
             0.7777777777777778,
             "#fb9f3a"
            ],
            [
             0.8888888888888888,
             "#fdca26"
            ],
            [
             1,
             "#f0f921"
            ]
           ],
           "sequentialminus": [
            [
             0,
             "#0d0887"
            ],
            [
             0.1111111111111111,
             "#46039f"
            ],
            [
             0.2222222222222222,
             "#7201a8"
            ],
            [
             0.3333333333333333,
             "#9c179e"
            ],
            [
             0.4444444444444444,
             "#bd3786"
            ],
            [
             0.5555555555555556,
             "#d8576b"
            ],
            [
             0.6666666666666666,
             "#ed7953"
            ],
            [
             0.7777777777777778,
             "#fb9f3a"
            ],
            [
             0.8888888888888888,
             "#fdca26"
            ],
            [
             1,
             "#f0f921"
            ]
           ]
          },
          "colorway": [
           "#636efa",
           "#EF553B",
           "#00cc96",
           "#ab63fa",
           "#FFA15A",
           "#19d3f3",
           "#FF6692",
           "#B6E880",
           "#FF97FF",
           "#FECB52"
          ],
          "font": {
           "color": "#2a3f5f"
          },
          "geo": {
           "bgcolor": "white",
           "lakecolor": "white",
           "landcolor": "#E5ECF6",
           "showlakes": true,
           "showland": true,
           "subunitcolor": "white"
          },
          "hoverlabel": {
           "align": "left"
          },
          "hovermode": "closest",
          "mapbox": {
           "style": "light"
          },
          "paper_bgcolor": "white",
          "plot_bgcolor": "#E5ECF6",
          "polar": {
           "angularaxis": {
            "gridcolor": "white",
            "linecolor": "white",
            "ticks": ""
           },
           "bgcolor": "#E5ECF6",
           "radialaxis": {
            "gridcolor": "white",
            "linecolor": "white",
            "ticks": ""
           }
          },
          "scene": {
           "xaxis": {
            "backgroundcolor": "#E5ECF6",
            "gridcolor": "white",
            "gridwidth": 2,
            "linecolor": "white",
            "showbackground": true,
            "ticks": "",
            "zerolinecolor": "white"
           },
           "yaxis": {
            "backgroundcolor": "#E5ECF6",
            "gridcolor": "white",
            "gridwidth": 2,
            "linecolor": "white",
            "showbackground": true,
            "ticks": "",
            "zerolinecolor": "white"
           },
           "zaxis": {
            "backgroundcolor": "#E5ECF6",
            "gridcolor": "white",
            "gridwidth": 2,
            "linecolor": "white",
            "showbackground": true,
            "ticks": "",
            "zerolinecolor": "white"
           }
          },
          "shapedefaults": {
           "line": {
            "color": "#2a3f5f"
           }
          },
          "ternary": {
           "aaxis": {
            "gridcolor": "white",
            "linecolor": "white",
            "ticks": ""
           },
           "baxis": {
            "gridcolor": "white",
            "linecolor": "white",
            "ticks": ""
           },
           "bgcolor": "#E5ECF6",
           "caxis": {
            "gridcolor": "white",
            "linecolor": "white",
            "ticks": ""
           }
          },
          "title": {
           "x": 0.05
          },
          "xaxis": {
           "automargin": true,
           "gridcolor": "white",
           "linecolor": "white",
           "ticks": "",
           "title": {
            "standoff": 15
           },
           "zerolinecolor": "white",
           "zerolinewidth": 2
          },
          "yaxis": {
           "automargin": true,
           "gridcolor": "white",
           "linecolor": "white",
           "ticks": "",
           "title": {
            "standoff": 15
           },
           "zerolinecolor": "white",
           "zerolinewidth": 2
          }
         }
        }
       }
      },
      "text/html": [
       "<div>                            <div id=\"2bcd95c2-2542-498c-9063-45d7a0ce58c4\" class=\"plotly-graph-div\" style=\"height:525px; width:100%;\"></div>            <script type=\"text/javascript\">                require([\"plotly\"], function(Plotly) {                    window.PLOTLYENV=window.PLOTLYENV || {};                                    if (document.getElementById(\"2bcd95c2-2542-498c-9063-45d7a0ce58c4\")) {                    Plotly.newPlot(                        \"2bcd95c2-2542-498c-9063-45d7a0ce58c4\",                        [{\"hovertemplate\":\"high_level_substr=multiple_substrates<br>0=%{x}<br>1=%{y}<br>2=%{z}<extra></extra>\",\"legendgroup\":\"multiple_substrates\",\"marker\":{\"color\":\"#636efa\",\"symbol\":\"circle\",\"size\":8},\"mode\":\"markers\",\"name\":\"multiple_substrates\",\"scene\":\"scene\",\"showlegend\":true,\"x\":[-6.946595668792725,2.807426929473877,-10.345065116882324,-5.590843677520752,3.4123857021331787,-2.0377962589263916,-1.7234513759613037,6.31543493270874,6.31543493270874,-6.485604763031006,6.613007068634033,6.613007068634033,-4.479976177215576,-6.7420501708984375,-1.6119333505630493,1.0231826305389404,0.7847440242767334,2.7338037490844727,1.769987940788269,-1.6673173904418945,-1.8200310468673706,-2.126758098602295,-0.5445877313613892,0.3237929344177246,-0.8517615795135498,-0.9611549377441406,0.17724885046482086,0.40721395611763,-7.141810894012451,0.40263330936431885,0.2868105471134186,0.28676000237464905,0.37666335701942444,-6.7384562492370605,4.47418737411499,4.003728866577148,-0.9040353894233704,-0.8242017030715942,-2.8839499950408936,-6.555210590362549,-3.269787311553955,-5.505204200744629,0.9153205752372742,-4.612951278686523,-0.34903329610824585,2.926769971847534,2.321218729019165,-1.211951494216919,4.315241813659668,-2.8624253273010254,-6.211708068847656,6.081629753112793,10.68362045288086,10.040473937988281,2.2723746299743652,1.0425797700881958,-3.191692590713501,0.3141263723373413,-1.2922639846801758,2.140979051589966,0.25320133566856384,-1.8725712299346924,-1.5434412956237793,-0.35174888372421265,-0.8314504027366638,1.8112783432006836,-4.435912609100342,-4.902329921722412,4.847329139709473,4.709349632263184,1.8360023498535156,2.4068779945373535,3.4772562980651855,-2.687839984893799,3.9110169410705566,1.6421887874603271,2.443305253982544,-6.92663049697876,-1.9972162246704102,-2.382474660873413,3.1589672565460205,4.824387073516846,2.8128623962402344,4.913848400115967,2.7629990577697754,-4.082432270050049,-5.083487510681152,-1.0546329021453857,2.2345798015594482,-2.696248769760132,4.686300277709961,4.2343597412109375,8.61512279510498,-3.146778106689453,3.5438060760498047,0.97383713722229,4.069446086883545,4.312777519226074,-0.064066082239151,1.2667433023452759,1.2749885320663452,4.138564109802246,3.0551517009735107,-6.874032020568848,2.641033887863159,-2.851602077484131,-6.29316520690918,-3.64559006690979,1.3921619653701782,2.9683990478515625,1.342982292175293,0.5445693135261536,-0.16110387444496155,-2.5970847606658936,1.9500861167907715,1.257574200630188,0.6726493239402771,1.4841581583023071,-1.4391337633132935,-7.1657395362854,-3.3396427631378174,-7.757344722747803,-5.6926589012146,-5.291960716247559,-9.03351879119873,-7.889291763305664,-6.293080806732178,-3.252699613571167,-3.6086668968200684,-3.6086668968200684,-4.08235502243042,2.2319555282592773,-8.480206489562988,-4.447803497314453,-3.3768670558929443,-1.313941240310669,-3.869316816329956,-0.7283155918121338,-1.9009971618652344],\"y\":[7.291576385498047,9.642059326171875,3.584345579147339,0.14969828724861145,9.63871955871582,-0.8830233216285706,10.328210830688477,-8.677469253540039,-8.677469253540039,-6.652466297149658,-8.689388275146484,-8.689388275146484,-7.150249481201172,1.5182420015335083,7.618907928466797,12.895302772521973,-0.9337310791015625,13.35507869720459,13.958303451538086,7.742408752441406,7.6819891929626465,-1.6709372997283936,1.25596022605896,-0.050833068788051605,-2.797353744506836,-2.6557350158691406,0.09536618739366531,0.9296127557754517,-1.3683167695999146,-1.645746111869812,-1.923407793045044,-1.9234592914581299,0.9015440344810486,0.7591687440872192,10.830768585205078,-4.82181453704834,11.451457977294922,-11.96114730834961,-8.438911437988281,2.591298818588257,-3.4514241218566895,-3.9034838676452637,1.2591038942337036,9.327414512634277,0.1817820966243744,0.5869861245155334,8.24674129486084,-5.254476547241211,-2.425071954727173,-4.906490325927734,-0.2899240553379059,-6.884626865386963,-9.376681327819824,-10.042223930358887,15.672521591186523,4.241056442260742,13.579751968383789,3.3794145584106445,3.6464719772338867,-0.10652431100606918,-0.8575108051300049,0.7411050796508789,0.20732146501541138,-0.92876136302948,4.121772766113281,-8.273759841918945,-4.36821174621582,-5.339770793914795,-4.541566848754883,-1.3481351137161255,7.554676532745361,8.056679725646973,-5.023717403411865,-1.8159809112548828,7.944211483001709,6.876884937286377,14.19677734375,1.8074321746826172,-7.76601505279541,-7.477945804595947,8.866172790527344,-1.0912115573883057,-3.9506726264953613,-4.702836990356445,-3.326108455657959,-8.459969520568848,0.35317492485046387,2.975173234939575,14.286053657531738,4.22800874710083,-1.1331157684326172,-5.160682678222656,-6.334301948547363,-0.5523872375488281,-4.4448418617248535,10.095410346984863,-3.4322571754455566,-3.4667623043060303,-8.286136627197266,14.86318302154541,-0.49612441658973694,-2.440134048461914,10.409345626831055,-6.068177223205566,3.226304531097412,6.6442551612854,-5.010309219360352,3.8590567111968994,2.514277458190918,8.692234992980957,9.770928382873535,2.7540574073791504,3.462149143218994,-3.100278615951538,10.86496353149414,8.751191139221191,13.980490684509277,7.709650993347168,9.009525299072266,-2.700547456741333,7.1888427734375,1.4168615341186523,1.273714303970337,-2.734658718109131,-0.6260332465171814,-0.4598102271556854,-5.010338306427002,-1.603327751159668,-9.653360366821289,-9.653360366821289,-8.459917068481445,4.38162088394165,2.0007288455963135,-7.134079933166504,-9.7218017578125,-7.232863426208496,-2.80889892578125,-11.345907211303711,-4.730230331420898],\"z\":[-3.8090455532073975,5.105578899383545,-1.5767518281936646,-4.187632083892822,4.610234260559082,-3.2419252395629883,2.807164192199707,3.8540568351745605,3.8540568351745605,-4.3088531494140625,4.616479396820068,4.616479396820068,-5.690460205078125,-6.757943630218506,4.803462028503418,3.796191453933716,-1.648531436920166,3.154900074005127,3.2768142223358154,3.8451573848724365,3.845280647277832,-0.6216711401939392,-0.6109590530395508,0.25785622000694275,-1.5250967741012573,-1.4043869972229004,-0.2215803563594818,3.1224207878112793,-6.320966720581055,-2.84502911567688,-2.978412628173828,-2.9783852100372314,3.0563127994537354,-6.837039470672607,0.954751193523407,-3.618212938308716,4.036668300628662,0.8635621666908264,0.0400780588388443,-7.9654035568237305,0.8494632244110107,-7.930805683135986,-1.693668246269226,0.8761599659919739,1.325473427772522,2.03796648979187,-3.553326368331909,-6.720849514007568,7.600244045257568,-6.143620491027832,-4.297251224517822,7.4329047203063965,9.963342666625977,9.767281532287598,-1.1812567710876465,2.1784448623657227,1.7737619876861572,0.7014681100845337,-1.5719611644744873,0.42171511054039,-0.5229669809341431,-1.895015835762024,-1.8773870468139648,-0.8549163937568665,-0.6558731198310852,0.9113391637802124,-4.694024085998535,-4.554702281951904,-2.7891972064971924,-3.1177585124969482,-0.27681204676628113,-2.406609058380127,-3.590353488922119,3.5144684314727783,2.455812931060791,3.4581258296966553,2.3585996627807617,-7.693766117095947,3.939563035964966,3.177809238433838,-3.3351857662200928,-3.1233856678009033,-2.7667906284332275,-2.803618907928467,2.096195697784424,-4.969715595245361,-5.623650550842285,-3.8830173015594482,3.171006679534912,1.9918373823165894,-3.1744918823242188,6.881503582000732,6.927660942077637,0.5820969343185425,-4.440854072570801,-3.2917850017547607,-2.8130760192871094,-2.5480048656463623,1.254151701927185,-0.5416627526283264,-0.24896173179149628,-3.042424440383911,1.2960050106048584,-5.9923481941223145,0.3657929301261902,2.789409875869751,-8.33561897277832,-7.482787609100342,-1.6389936208724976,-2.93451189994812,-3.5284528732299805,0.49559587240219116,2.598785161972046,1.8309892416000366,2.239576578140259,0.29808488488197327,-1.0983091592788696,1.0216636657714844,0.7097252607345581,-8.026081085205078,-1.1444443464279175,-8.664848327636719,-7.2777934074401855,0.7613627314567566,-7.301938056945801,-7.003764629364014,-8.335550308227539,1.2035129070281982,-4.7568864822387695,-4.7568864822387695,-4.969675540924072,3.711099624633789,-6.881870746612549,-5.700804233551025,-4.587276935577393,-8.385976791381836,-2.9991602897644043,1.4664522409439087,-5.055093765258789],\"type\":\"scatter3d\"},{\"hovertemplate\":\"high_level_substr=mono/di/trisaccharide<br>0=%{x}<br>1=%{y}<br>2=%{z}<extra></extra>\",\"legendgroup\":\"mono/di/trisaccharide\",\"marker\":{\"color\":\"#EF553B\",\"symbol\":\"circle\",\"size\":8},\"mode\":\"markers\",\"name\":\"mono/di/trisaccharide\",\"scene\":\"scene\",\"showlegend\":true,\"x\":[-0.2324296087026596,-9.452292442321777,-6.010253429412842,-9.478983879089355,-8.966806411743164,-6.236103534698486,-2.4569990634918213,-3.436387538909912,-3.3713316917419434,-6.836542129516602,-6.8763885498046875,-2.2769248485565186,-4.6153669357299805,-1.2857978343963623,-9.805412292480469,-1.0710022449493408,5.194972038269043,-4.830389976501465,-3.3803341388702393,-2.7627460956573486,-1.5386139154434204,-6.498647212982178,-3.0161592960357666,-3.436387538909912,-7.85031795501709,-8.153815269470215,-9.320079803466797,0.4746159613132477,-8.153815269470215,-9.384637832641602,0.47476980090141296,-3.1219894886016846,-6.004891395568848,-9.233671188354492,-10.632095336914062,-5.92278528213501,-3.1227355003356934,-7.456117153167725,-7.027674198150635,3.4009697437286377,-9.098095893859863,-4.6649651527404785,-5.660315990447998,-0.8024711012840271,-4.354690074920654,1.9961909055709839,-10.213823318481445,-10.84382152557373,0.6660082936286926,-4.652782917022705,-2.4569990634918213,-2.7150866985321045,-6.8510422706604,-6.8510422706604,-3.3318021297454834,-2.6052513122558594,-9.119184494018555,-4.885565757751465,-8.350944519042969,5.148118019104004,3.4361774921417236,-3.4364428520202637,-5.121197700500488,-5.263154983520508,-8.860764503479004,-5.70332670211792,-1.2595243453979492,5.002814769744873,-3.3789613246917725,-3.3769664764404297,-6.8763885498046875,-5.313342571258545,-8.153826713562012,-2.2576780319213867,-4.6546173095703125,-9.233708381652832,1.7989509105682373,3.1120657920837402],\"y\":[-9.338308334350586,4.172762870788574,-3.055349588394165,3.4964025020599365,5.338655471801758,-3.3335771560668945,-8.85423755645752,-9.694524765014648,-9.64375114440918,0.9552959203720093,7.306097507476807,-10.745150566101074,3.157806634902954,-7.344423770904541,4.210103988647461,3.0224051475524902,5.0335798263549805,-1.7438989877700806,-4.393191337585449,-0.05298909544944763,-9.67875862121582,-6.653136730194092,-4.958314895629883,-9.694524765014648,-1.4192094802856445,6.43145751953125,5.430244445800781,11.104254722595215,6.43145751953125,5.628888130187988,11.104179382324219,3.6342294216156006,-1.3284187316894531,3.5794999599456787,4.660964488983154,-4.661275386810303,13.539522171020508,2.092477798461914,-1.2119678258895874,15.086270332336426,2.557774066925049,1.5871297121047974,-0.21060925722122192,0.3836331069469452,-2.889482259750366,10.279489517211914,4.658776760101318,2.0661048889160156,10.995796203613281,3.2853894233703613,-8.85423755645752,-10.2631254196167,7.186595439910889,7.186595439910889,-8.95088005065918,-9.393856048583984,5.278706073760986,2.3355650901794434,0.11981576681137085,13.66672134399414,-3.8326871395111084,-9.694377899169922,1.5029420852661133,-5.1414713859558105,4.281859397888184,-2.7606704235076904,9.473214149475098,-1.259948492050171,9.840363502502441,-9.721755027770996,7.306097507476807,-2.078965187072754,6.431516170501709,-7.831039905548096,-3.58388614654541,3.579505681991577,8.438143730163574,4.958144664764404],\"z\":[4.126065254211426,-1.7085329294204712,-3.427502393722534,-1.9789445400238037,-2.604872465133667,1.36184823513031,-8.258248329162598,-7.9700822830200195,-7.27274227142334,-6.293079853057861,-3.6682333946228027,-6.707724571228027,-1.2405669689178467,-8.417947769165039,-0.9985511898994446,-3.892247438430786,1.0253429412841797,-4.554632186889648,-4.1525092124938965,-6.066047668457031,-8.728378295898438,-6.363076210021973,-6.2903361320495605,-7.9700822830200195,-6.581024169921875,-3.0290539264678955,-2.896592855453491,6.625661373138428,-3.0290539264678955,-2.5824942588806152,6.625598430633545,-3.754636526107788,-7.003328800201416,-2.3159985542297363,-3.481783390045166,-7.301027297973633,1.7778308391571045,-8.445963859558105,-4.620408535003662,2.484947919845581,-0.5589117407798767,-4.367878437042236,-5.167224884033203,-2.394228458404541,0.5048956871032715,5.348208904266357,-2.180220603942871,-2.5157694816589355,5.297131061553955,-1.2597147226333618,-8.258248329162598,-8.177236557006836,-3.7719340324401855,-3.7719340324401855,-4.17227029800415,-7.698774337768555,-2.906709671020508,-0.6245911121368408,-5.821187496185303,1.3795757293701172,-2.945784330368042,-7.970026969909668,-5.098124027252197,-7.395219802856445,-1.5340595245361328,1.0843477249145508,1.400876760482788,-3.0320396423339844,0.8866310715675354,-4.587289333343506,-3.6682333946228027,-7.713326454162598,-3.028974771499634,4.678936958312988,-6.903614044189453,-2.316025733947754,5.957632064819336,4.707986831665039],\"type\":\"scatter3d\"},{\"hovertemplate\":\"high_level_substr=capsule polysaccharide<br>0=%{x}<br>1=%{y}<br>2=%{z}<extra></extra>\",\"legendgroup\":\"capsule polysaccharide\",\"marker\":{\"color\":\"#00cc96\",\"symbol\":\"circle\",\"size\":8},\"mode\":\"markers\",\"name\":\"capsule polysaccharide\",\"scene\":\"scene\",\"showlegend\":true,\"x\":[6.813335418701172,4.892394542694092,6.597689151763916,6.521204471588135,6.6837286949157715,4.212512016296387,4.581214427947998,4.34719705581665,4.212518215179443,3.976675510406494,5.446034908294678,6.108800411224365,5.4999518394470215,3.7971911430358887,4.324850559234619,8.091240882873535,4.9541239738464355,-0.0767369493842125,6.078136444091797,6.143490791320801,8.430416107177734,10.675459861755371,9.011362075805664,7.16050910949707,4.785236835479736,6.440080165863037,0.3565939962863922,4.013002872467041,5.994693279266357,4.227519512176514,7.192975997924805,5.012957572937012,8.406217575073242,7.151612281799316,8.620031356811523,9.405704498291016,7.591650485992432,8.311891555786133,7.952507495880127,7.346928596496582,9.494790077209473,8.006254196166992,-3.7788217067718506,7.028040409088135,8.275440216064453,9.056598663330078,7.601248264312744,8.311891555786133,5.994693279266357,7.738946437835693,8.119527816772461,7.5688629150390625,4.437417030334473,7.684460639953613,9.247161865234375,9.328756332397461,5.057772159576416,5.9921112060546875,5.057771682739258,4.538933753967285],\"y\":[-5.3408331871032715,-0.46957331895828247,-4.189632415771484,-5.163741111755371,-4.613475799560547,-2.19557523727417,-3.6836161613464355,-3.463465452194214,-2.195577621459961,-1.5158082246780396,-3.344972848892212,-3.7596123218536377,-1.1534205675125122,-0.4178624749183655,-4.290831089019775,-8.45460033416748,-2.19901180267334,-7.957496166229248,-1.3775454759597778,-9.038064002990723,-6.962740898132324,-8.254676818847656,-7.674121379852295,-5.739596843719482,-2.3583433628082275,-8.297611236572266,-9.25847053527832,-4.688144207000732,-1.0035054683685303,-4.484722137451172,-7.9757866859436035,-5.260222434997559,-8.027972221374512,-8.410553932189941,-7.489559650421143,-8.435442924499512,-4.946812152862549,-7.206766128540039,-7.918704032897949,-6.799266815185547,-7.61782693862915,-5.899219512939453,-5.969488620758057,-8.75062084197998,-8.875289916992188,-7.360140800476074,-7.37723445892334,-7.206766128540039,-1.0035054683685303,-5.511692047119141,-6.404343128204346,-8.197042465209961,-5.216550827026367,-8.444332122802734,-7.836384296417236,-8.30392837524414,-0.9830776453018188,-2.1786229610443115,-0.9830774664878845,-0.7691036462783813],\"z\":[10.362555503845215,10.104446411132812,10.385405540466309,8.905098915100098,10.590567588806152,9.906129837036133,8.839231491088867,9.079751014709473,9.906136512756348,10.173192977905273,10.484725952148438,10.456286430358887,9.655339241027832,10.19205093383789,6.9918975830078125,8.351783752441406,8.188825607299805,3.804823398590088,9.071390151977539,6.827969551086426,10.809181213378906,6.315303802490234,8.599791526794434,9.628993034362793,7.885188102722168,7.256105899810791,4.1599345207214355,8.2072114944458,9.024840354919434,8.80574893951416,8.258538246154785,7.892087459564209,9.963553428649902,9.487789154052734,7.649393081665039,9.785941123962402,9.808852195739746,9.212298393249512,6.688234329223633,10.185223579406738,8.070262908935547,10.562936782836914,0.9843419790267944,8.090008735656738,8.019105911254883,10.280341148376465,10.6851224899292,9.212298393249512,9.024840354919434,8.615497589111328,10.5613374710083,7.112728595733643,8.371659278869629,9.220839500427246,7.215771198272705,9.259459495544434,10.776622772216797,10.77797794342041,10.776622772216797,10.906966209411621],\"type\":\"scatter3d\"},{\"hovertemplate\":\"high_level_substr=algal glycans<br>0=%{x}<br>1=%{y}<br>2=%{z}<extra></extra>\",\"legendgroup\":\"algal glycans\",\"marker\":{\"color\":\"#ab63fa\",\"symbol\":\"circle\",\"size\":8},\"mode\":\"markers\",\"name\":\"algal glycans\",\"scene\":\"scene\",\"showlegend\":true,\"x\":[-1.3368940353393555,-3.0496113300323486,-2.06040096282959,-2.9324111938476562,-1.5711299180984497,-2.610499858856201,-2.1963448524475098,-3.8254523277282715,-2.8734734058380127,-0.7480180859565735,3.728221893310547,-2.0650668144226074,-1.832142949104309,-3.3490545749664307,-8.726933479309082,-1.1406291723251343,-6.306446075439453,1.5588293075561523,0.16014136373996735,4.3468403816223145,-1.263525366783142,-3.050422430038452,-2.3892822265625,-0.8984410166740417,3.7208776473999023,2.954011917114258,-1.6057604551315308,-0.993021547794342,-0.4157390296459198,-6.60037088394165,-2.5543596744537354,-3.6257376670837402,-4.11917781829834,0.6656978130340576,-5.879831790924072,1.4218838214874268,-3.5680999755859375,-2.5652384757995605,-0.9677345156669617,-1.8394221067428589],\"y\":[-10.687962532043457,-5.630648136138916,-8.599513053894043,-9.604708671569824,-9.927040100097656,-6.1295037269592285,-7.584174156188965,2.6882247924804688,2.9935481548309326,10.528619766235352,15.399565696716309,-8.520576477050781,-9.156305313110352,-8.498932838439941,-1.3977700471878052,-10.827038764953613,-7.484241485595703,12.602997779846191,9.583057403564453,11.640448570251465,-11.302078247070312,2.868285894393921,-0.953778088092804,-12.041902542114258,-6.077589511871338,-2.335923910140991,-9.4946870803833,-1.8740495443344116,-2.408381223678589,-7.277171611785889,2.4592702388763428,0.6009412407875061,-5.839087963104248,10.026384353637695,-6.22960901260376,-1.165669322013855,0.47940555214881897,-3.541560411453247,-8.17384147644043,-11.298222541809082],\"z\":[-1.0779452323913574,0.6645394563674927,0.39791592955589294,0.12874078750610352,0.129859060049057,0.5981063842773438,-0.13362941145896912,-0.6300127506256104,-0.42992064356803894,1.7265262603759766,0.059775784611701965,0.15607376396656036,0.2742674648761749,1.0208159685134888,-6.708575248718262,0.30628499388694763,-4.799386501312256,0.10329772531986237,2.1859054565429688,0.4300900995731354,0.5254663228988647,-0.49926331639289856,3.7904486656188965,0.014518833719193935,1.2154287099838257,0.41668787598609924,0.08084391802549362,-6.1880269050598145,-6.059079170227051,-5.362368583679199,-0.5363391041755676,-2.5869011878967285,-0.004022069741040468,1.4126124382019043,-3.117213010787964,-0.5976900458335876,-2.5803728103637695,-5.393359184265137,0.578269898891449,0.5850456953048706],\"type\":\"scatter3d\"},{\"hovertemplate\":\"high_level_substr=pectin<br>0=%{x}<br>1=%{y}<br>2=%{z}<extra></extra>\",\"legendgroup\":\"pectin\",\"marker\":{\"color\":\"#FFA15A\",\"symbol\":\"circle\",\"size\":8},\"mode\":\"markers\",\"name\":\"pectin\",\"scene\":\"scene\",\"showlegend\":true,\"x\":[-2.1853179931640625,2.236098527908325,-9.258720397949219,-1.7243783473968506,-0.4843164384365082,-0.47325217723846436,-0.7867956757545471,1.6055927276611328,1.5870118141174316,0.3882605731487274,-0.25556063652038574,-1.81048583984375,-1.847407579421997,0.41269493103027344,-0.4843164384365082,0.6634209752082825,-0.47813886404037476,-0.6831631660461426,-3.866605281829834,0.2791394591331482,2.0907158851623535,0.6657593846321106,3.113135814666748,0.4543362259864807,1.7459626197814941,1.370628833770752,2.193558931350708,1.6893281936645508,1.4841194152832031,2.0534067153930664,1.4178482294082642,1.094933032989502,-3.539135694503784,3.4040005207061768,-3.454007625579834,-2.6011502742767334,1.8675435781478882,4.213833808898926],\"y\":[-3.970632791519165,-8.351365089416504,-1.4213069677352905,-9.197807312011719,-5.691250324249268,-5.318850517272949,-5.022113800048828,2.138404369354248,2.9007742404937744,-7.606384754180908,3.271557569503784,3.162550210952759,-4.245193958282471,-6.962695598602295,-5.691250324249268,-8.930081367492676,-5.726503372192383,-10.277772903442383,10.09631633758545,9.909327507019043,1.611660361289978,10.334646224975586,1.850162386894226,-7.179197788238525,1.6805386543273926,12.588848114013672,8.222854614257812,2.199125289916992,7.7096123695373535,-0.2942775785923004,10.226943969726562,-3.913910388946533,-0.4202169179916382,15.352096557617188,-0.43796050548553467,2.151172637939453,7.616898536682129,16.36425018310547],\"z\":[-1.9666863679885864,-2.288947105407715,-7.459954261779785,0.7128037214279175,0.09798090904951096,0.3046940267086029,0.41519680619239807,1.7095433473587036,-1.8245640993118286,-0.5895267128944397,2.4664525985717773,3.0319390296936035,-0.7491043210029602,-0.7303968667984009,0.09798090904951096,-1.319347620010376,0.43645668029785156,-0.4292996823787689,-0.6795814633369446,4.5427141189575195,1.366572618484497,2.386721611022949,-0.9597964882850647,-0.6846522688865662,0.7121564149856567,0.34001532196998596,-3.676323652267456,0.8221707940101624,1.0216381549835205,0.8010715246200562,-1.1952333450317383,0.2895571291446686,4.344732284545898,3.0901405811309814,4.328460216522217,3.492044687271118,2.157383680343628,1.0178546905517578],\"type\":\"scatter3d\"},{\"hovertemplate\":\"high_level_substr=xylan<br>0=%{x}<br>1=%{y}<br>2=%{z}<extra></extra>\",\"legendgroup\":\"xylan\",\"marker\":{\"color\":\"#19d3f3\",\"symbol\":\"circle\",\"size\":8},\"mode\":\"markers\",\"name\":\"xylan\",\"scene\":\"scene\",\"showlegend\":true,\"x\":[4.185384750366211,-4.946199893951416,2.4331047534942627,-0.40796685218811035,-3.7004122734069824,2.1233136653900146,-4.7094573974609375,-3.4025583267211914,0.05525478720664978,2.5539135932922363,2.8022401332855225,1.0539543628692627,0.003059930866584182,-3.0392305850982666,-7.3669023513793945,-2.9671788215637207,-1.8640960454940796,-4.522587299346924,0.4015612006187439,-3.695469617843628,-3.505993127822876,3.097182035446167,-5.1626434326171875,-3.4285829067230225,-5.946634292602539,-3.793505907058716,3.6751410961151123,-0.6587331295013428,1.2170512676239014,1.9804160594940186,-2.1160695552825928,2.981796979904175,2.6476547718048096,-0.8110292553901672,3.061229705810547,3.2399442195892334,2.1713452339172363,1.7189512252807617],\"y\":[7.819899559020996,-0.4060615599155426,6.840240478515625,9.213685989379883,2.9064137935638428,6.489329814910889,-2.7061655521392822,-2.6415340900421143,12.514265060424805,2.824742078781128,3.044818639755249,4.2606730461120605,9.0045747756958,10.117898941040039,-0.7227914929389954,0.021926958113908768,12.342365264892578,-2.2311482429504395,8.562612533569336,3.8364195823669434,-1.6825823783874512,7.028012752532959,1.845314860343933,1.3044853210449219,-3.0153167247772217,-1.1304081678390503,-2.7872612476348877,10.682632446289062,14.786686897277832,15.711884498596191,2.9259464740753174,15.574509620666504,6.358330726623535,11.090439796447754,-0.21915960311889648,-0.6484138369560242,4.744442939758301,3.590937852859497],\"z\":[2.1735336780548096,-4.814441680908203,0.6570550203323364,-0.7530993819236755,-4.058382511138916,-0.02352859079837799,-7.5668463706970215,-6.700446128845215,1.0753226280212402,-1.720409631729126,1.8563896417617798,0.12802711129188538,-0.7643005847930908,-0.17695440351963043,-6.218196868896484,-0.3188106119632721,2.007449150085449,-3.736544370651245,-2.243194580078125,-7.502200603485107,-3.1713027954101562,1.3659720420837402,-5.785887241363525,-4.680479049682617,-3.7930920124053955,-3.4409310817718506,-2.6420419216156006,-0.27839457988739014,-2.0268192291259766,0.07883607596158981,3.168175220489502,0.5569507479667664,0.7968434691429138,-0.5591354370117188,2.2560460567474365,2.451334238052368,0.11889225244522095,0.04518879950046539],\"type\":\"scatter3d\"},{\"hovertemplate\":\"high_level_substr=O-antigen<br>0=%{x}<br>1=%{y}<br>2=%{z}<extra></extra>\",\"legendgroup\":\"O-antigen\",\"marker\":{\"color\":\"#FF6692\",\"symbol\":\"circle\",\"size\":8},\"mode\":\"markers\",\"name\":\"O-antigen\",\"scene\":\"scene\",\"showlegend\":true,\"x\":[10.426745414733887,2.7126636505126953,10.675459861755371,9.160245895385742,9.239094734191895,2.375532627105713,2.7285807132720947,4.082596302032471,4.438222408294678,4.525993824005127,4.0875725746154785,10.413272857666016,10.861198425292969,10.675459861755371,4.157537460327148,9.272841453552246,10.51620101928711,9.160245895385742,4.0875725746154785,5.270689010620117,8.283470153808594,9.754764556884766,5.933334827423096,10.626812934875488,3.2362849712371826,9.518415451049805,6.068783760070801,3.320692539215088,7.683692455291748,3.247154951095581,8.9893217086792,5.893700122833252,3.7016279697418213,5.969765663146973,3.701601505279541,7.949552059173584,10.374019622802734],\"y\":[-10.142227172851562,-5.245575904846191,-8.254676818847656,-5.648979663848877,-6.700171947479248,-5.135678291320801,-5.5748772621154785,-3.575003147125244,-9.53764533996582,-3.231659412384033,-9.663763046264648,-10.071490287780762,-9.804040908813477,-8.254676818847656,-5.151233196258545,-6.623020648956299,-9.48941707611084,-5.648979663848877,-9.663763046264648,-5.058495998382568,-6.03883171081543,-9.654210090637207,-9.066878318786621,-8.852152824401855,-10.030765533447266,-6.713909149169922,-6.499511241912842,-5.9979023933410645,-4.893678188323975,-10.02392292022705,-6.859816551208496,-9.270718574523926,-1.7803235054016113,-2.780123233795166,-1.7803912162780762,-5.298858165740967,-9.344196319580078],\"z\":[9.67099666595459,7.568239688873291,6.315303802490234,11.687498092651367,7.119986534118652,7.51516580581665,6.488701820373535,11.836451530456543,5.379385948181152,10.620870590209961,5.202391624450684,10.34048843383789,9.809187889099121,6.315303802490234,8.511526107788086,11.259814262390137,10.365588188171387,11.687498092651367,5.202391624450684,8.894181251525879,6.964596748352051,10.254045486450195,6.606801986694336,7.441056728363037,4.741461753845215,9.798445701599121,10.355643272399902,8.010066032409668,8.818195343017578,4.740937232971191,8.0470552444458,7.152003288269043,11.57460880279541,10.189397811889648,11.574533462524414,7.8851752281188965,8.854804039001465],\"type\":\"scatter3d\"},{\"hovertemplate\":\"high_level_substr=galactan<br>0=%{x}<br>1=%{y}<br>2=%{z}<extra></extra>\",\"legendgroup\":\"galactan\",\"marker\":{\"color\":\"#B6E880\",\"symbol\":\"circle\",\"size\":8},\"mode\":\"markers\",\"name\":\"galactan\",\"scene\":\"scene\",\"showlegend\":true,\"x\":[-7.1914381980896,-0.9329807758331299,-4.16349983215332,-3.9117159843444824,-6.156484603881836,-5.134860515594482,-0.4636004567146301,-4.660043716430664,1.63119375705719,-1.4073115587234497,-6.732580661773682,-6.7990498542785645,-5.658449649810791,-1.5386139154434204,-6.732550144195557,-1.4375686645507812,-1.611992597579956,-3.8882672786712646,-5.138444423675537,1.448506474494934,1.4201525449752808,1.4178476333618164,-4.705143928527832,-5.7407450675964355,-6.554908752441406,-1.7683391571044922,-0.7883562445640564,-7.656337261199951,2.9353723526000977,2.1638031005859375,-1.2983152866363525,1.877371072769165,0.7715639472007751,-1.4073115587234497,-3.2692151069641113,-3.6210744380950928],\"y\":[-0.40976786613464355,-8.110795021057129,-0.6930572390556335,-1.5233988761901855,-3.076032876968384,-5.916829586029053,-9.170525550842285,-5.427614212036133,8.011674880981445,-9.703739166259766,-5.2549285888671875,-4.221667766571045,-4.33604621887207,-9.67875862121582,-5.255033016204834,6.611189842224121,1.622467279434204,-6.335981845855713,-6.464298725128174,2.797797203063965,10.239912986755371,10.226948738098145,1.4688655138015747,-2.22794246673584,1.826797604560852,1.8742561340332031,-8.120241165161133,1.4507997035980225,8.795400619506836,4.940910816192627,-2.2773027420043945,2.50738787651062,10.001139640808105,-9.703739166259766,7.17380952835083,-6.440150260925293],\"z\":[-5.938591003417969,-8.65236759185791,-3.9801597595214844,-6.391156196594238,-7.598262786865234,-5.38560676574707,-8.7030029296875,-6.386725902557373,-1.1686221361160278,-8.430974006652832,-7.756699085235596,-7.386541843414307,-7.654591083526611,-8.728378295898438,-7.75669002532959,-1.3674558401107788,-2.9953694343566895,-5.817822456359863,-5.576230049133301,-1.5663244724273682,-1.6888278722763062,-1.195275068283081,-6.438371181488037,-7.89820671081543,-8.557927131652832,2.2356116771698,-8.81120491027832,-8.704140663146973,-3.3161001205444336,0.2636381685733795,1.8980876207351685,-0.3832515776157379,0.9480004906654358,-8.430974006652832,-1.156331181526184,-5.676863193511963],\"type\":\"scatter3d\"},{\"hovertemplate\":\"high_level_substr=alpha-glucan<br>0=%{x}<br>1=%{y}<br>2=%{z}<extra></extra>\",\"legendgroup\":\"alpha-glucan\",\"marker\":{\"color\":\"#FF97FF\",\"symbol\":\"circle\",\"size\":8},\"mode\":\"markers\",\"name\":\"alpha-glucan\",\"scene\":\"scene\",\"showlegend\":true,\"x\":[4.621578216552734,-0.08071471750736237,5.0689311027526855,-6.2781195640563965,2.8976004123687744,2.685427665710449,-7.886574745178223,-7.1864142417907715,-9.101540565490723,-0.6299570202827454,-8.046173095703125,2.721674680709839,5.998594284057617,2.984773635864258,0.5430284738540649,3.0820775032043457,-7.1657395362854,-1.3566416501998901,1.18580162525177,-6.93071985244751,4.554723739624023,2.855031967163086,-0.6688317656517029],\"y\":[-6.0683488845825195,-3.961423873901367,6.2975544929504395,-4.5908522605896,2.665861129760742,-3.2807347774505615,-1.3884611129760742,-4.491771221160889,-0.42208564281463623,-2.653286933898926,1.3624502420425415,13.529025077819824,17.333261489868164,12.25168228149414,13.594182014465332,12.700522422790527,-2.700547456741333,-10.458669662475586,-9.099165916442871,-2.1018667221069336,-6.021732330322266,2.726745843887329,-3.7541446685791016],\"z\":[4.290556907653809,-5.475933074951172,1.2174946069717407,-6.328324317932129,-3.002493381500244,0.5322037935256958,-6.63404655456543,-6.4019060134887695,-7.1209635734558105,-5.928388595581055,-8.065206527709961,0.28681689500808716,1.6991705894470215,0.3241482377052307,-0.4906337559223175,0.3901247978210449,-8.026081085205078,-6.757675647735596,0.8513920903205872,-4.522601127624512,4.253682613372803,-2.890882730484009,-5.169972896575928],\"type\":\"scatter3d\"},{\"hovertemplate\":\"high_level_substr=beta-mannan<br>0=%{x}<br>1=%{y}<br>2=%{z}<extra></extra>\",\"legendgroup\":\"beta-mannan\",\"marker\":{\"color\":\"#FECB52\",\"symbol\":\"circle\",\"size\":8},\"mode\":\"markers\",\"name\":\"beta-mannan\",\"scene\":\"scene\",\"showlegend\":true,\"x\":[-2.2935290336608887,-2.412522077560425,3.5412371158599854,0.13658639788627625,-1.1150028705596924,-0.9288943409919739,-1.4391264915466309,1.4585756063461304,-1.4391776323318481,-0.008602514863014221,-1.873500108718872,-10.615286827087402,-3.1584384441375732,-0.47229427099227905,2.183901786804199,-0.8930673599243164,-4.326095104217529,-9.20474910736084,-1.5103849172592163],\"y\":[-3.3136394023895264,-5.902714729309082,9.099365234375,2.645915985107422,8.145441055297852,8.902681350708008,9.009444236755371,9.520036697387695,9.009490966796875,1.8046691417694092,1.6402924060821533,4.295787811279297,9.949722290039062,-4.1379075050354,8.028158187866211,8.585841178894043,1.0375534296035767,5.5876007080078125,-7.187756538391113],\"z\":[-5.364184379577637,-4.970006942749023,3.964900255203247,0.442060649394989,2.911273717880249,2.0013458728790283,0.7097012400627136,4.607512474060059,0.7096606492996216,0.49031344056129456,-2.2623586654663086,-1.9277429580688477,0.40976202487945557,-5.230113506317139,-3.526137590408325,2.018263578414917,-4.1348395347595215,-2.4114224910736084,-8.15038013458252],\"type\":\"scatter3d\"},{\"hovertemplate\":\"high_level_substr=cellulose<br>0=%{x}<br>1=%{y}<br>2=%{z}<extra></extra>\",\"legendgroup\":\"cellulose\",\"marker\":{\"color\":\"#636efa\",\"symbol\":\"circle\",\"size\":8},\"mode\":\"markers\",\"name\":\"cellulose\",\"scene\":\"scene\",\"showlegend\":true,\"x\":[4.788768291473389,4.359485626220703,4.629330635070801,5.041592121124268,1.7007800340652466,0.45264869928359985,5.7271904945373535,3.9988396167755127,0.5667988061904907,3.1227664947509766,4.997951984405518,0.5003312826156616,-0.024310316890478134,2.369967460632324,0.1337835192680359,0.4557718336582184,6.7437896728515625,4.5384602546691895],\"y\":[3.4672460556030273,4.667916297912598,4.045940399169922,4.534853935241699,9.463375091552734,-9.522086143493652,4.349743843078613,6.51982307434082,14.226234436035156,14.151920318603516,4.808932304382324,2.7812817096710205,13.305527687072754,7.720401763916016,12.952635765075684,9.09776496887207,-3.3345515727996826,4.209095001220703],\"z\":[2.8482584953308105,2.8643789291381836,2.735255241394043,1.0053651332855225,5.911934852600098,-1.1861894130706787,1.857844591140747,2.8991854190826416,-1.228895902633667,2.0269336700439453,0.9922143816947937,0.45468252897262573,0.6995787620544434,-1.9700939655303955,0.62935870885849,-2.1140174865722656,12.417586326599121,2.770979404449463],\"type\":\"scatter3d\"},{\"hovertemplate\":\"high_level_substr=chitin<br>0=%{x}<br>1=%{y}<br>2=%{z}<extra></extra>\",\"legendgroup\":\"chitin\",\"marker\":{\"color\":\"#EF553B\",\"symbol\":\"circle\",\"size\":8},\"mode\":\"markers\",\"name\":\"chitin\",\"scene\":\"scene\",\"showlegend\":true,\"x\":[-5.634487628936768,-5.428881645202637,5.314121246337891,-2.4575982093811035,2.002736806869507,-6.074069023132324,-0.7019965648651123,-2.689707040786743,-11.192462921142578,-2.6127164363861084,5.3169426918029785,5.314121246337891,-9.805485725402832,1.6032027006149292,-7.319501876831055],\"y\":[1.3484959602355957,-3.74458384513855,1.6414767503738403,-4.387962341308594,-1.8117692470550537,-5.720096111297607,-1.7406811714172363,-1.9027900695800781,3.2237045764923096,-1.9002031087875366,1.651132583618164,1.6414767503738403,4.21005392074585,13.83324146270752,2.1605489253997803],\"z\":[-7.286113739013672,-4.748251914978027,0.6018103361129761,-2.5393826961517334,-1.2183135747909546,-3.0595948696136475,0.04755864664912224,0.6643206477165222,-1.0578066110610962,0.7557563781738281,0.5925360321998596,0.6018103361129761,-0.9985185861587524,4.720031261444092,-8.580899238586426],\"type\":\"scatter3d\"},{\"hovertemplate\":\"high_level_substr=glycosaminoglycan<br>0=%{x}<br>1=%{y}<br>2=%{z}<extra></extra>\",\"legendgroup\":\"glycosaminoglycan\",\"marker\":{\"color\":\"#00cc96\",\"symbol\":\"circle\",\"size\":8},\"mode\":\"markers\",\"name\":\"glycosaminoglycan\",\"scene\":\"scene\",\"showlegend\":true,\"x\":[-4.955869197845459,-2.672842264175415,-2.3377997875213623,-2.080995798110962,-3.2486348152160645,-2.4147555828094482,-0.2508843243122101,-0.6180346608161926,4.9225664138793945,1.0610567331314087,0.7922958135604858,0.0408698245882988,1.4904649257659912,1.490236759185791],\"y\":[-9.043116569519043,-7.187849044799805,-7.709262847900391,-7.762044906616211,-3.3480052947998047,-3.276120185852051,-10.55166244506836,-8.590629577636719,16.87935447692871,15.749044418334961,-6.957788944244385,-10.55236530303955,-10.858701705932617,-10.858059883117676],\"z\":[-4.534573078155518,2.8838858604431152,2.112710952758789,2.4996132850646973,0.8957695960998535,0.8155118227005005,2.3266818523406982,3.5000433921813965,1.1717562675476074,3.0441203117370605,-0.9055119752883911,2.4453697204589844,2.905210018157959,2.9070589542388916],\"type\":\"scatter3d\"},{\"hovertemplate\":\"high_level_substr=beta-glucan <br>0=%{x}<br>1=%{y}<br>2=%{z}<extra></extra>\",\"legendgroup\":\"beta-glucan \",\"marker\":{\"color\":\"#ab63fa\",\"symbol\":\"circle\",\"size\":8},\"mode\":\"markers\",\"name\":\"beta-glucan \",\"scene\":\"scene\",\"showlegend\":true,\"x\":[-3.191692590713501,2.330730438232422,2.578632354736328,-6.376476764678955,3.3126273155212402,0.5275756120681763,1.7175776958465576,-2.5725605487823486,4.5722198486328125,0.5279267430305481,2.5788276195526123,3.065646171569824,4.5397562980651855],\"y\":[13.579751968383789,10.064985275268555,10.289420127868652,0.7657643556594849,14.147834777832031,13.651371002197266,-3.860574722290039,-2.4567744731903076,11.924948692321777,13.65140151977539,10.289462089538574,9.168557167053223,10.84632682800293],\"z\":[1.7737619876861572,-1.570192575454712,-0.7007038593292236,-5.678925037384033,0.5374378561973572,-2.0778145790100098,-2.250201940536499,-5.6892991065979,0.2439168244600296,-2.0780985355377197,-0.7004923224449158,0.1496984213590622,0.945931077003479],\"type\":\"scatter3d\"},{\"hovertemplate\":\"high_level_substr=N-glycan<br>0=%{x}<br>1=%{y}<br>2=%{z}<extra></extra>\",\"legendgroup\":\"N-glycan\",\"marker\":{\"color\":\"#FFA15A\",\"symbol\":\"circle\",\"size\":8},\"mode\":\"markers\",\"name\":\"N-glycan\",\"scene\":\"scene\",\"showlegend\":true,\"x\":[0.7444961667060852,3.774266481399536,-3.336514472961426,6.220318794250488,4.058919429779053,1.1021519899368286,-9.066887855529785,-2.657637357711792,0.9052817821502686,2.4335811138153076,0.5017824172973633,4.059024333953857],\"y\":[10.914772987365723,-6.066893577575684,0.22718900442123413,5.078130722045898,-4.280205249786377,10.493712425231934,2.428438186645508,-7.301210880279541,10.587467193603516,13.88365650177002,4.523200511932373,-4.2801289558410645],\"z\":[6.165419101715088,1.230863094329834,0.4707450866699219,0.7566283941268921,-3.7750020027160645,5.613864898681641,-0.4762541353702545,2.6352651119232178,4.969867706298828,0.6873500943183899,2.3968305587768555,-3.7750895023345947],\"type\":\"scatter3d\"},{\"hovertemplate\":\"high_level_substr=exopolysaccharide<br>0=%{x}<br>1=%{y}<br>2=%{z}<extra></extra>\",\"legendgroup\":\"exopolysaccharide\",\"marker\":{\"color\":\"#19d3f3\",\"symbol\":\"circle\",\"size\":8},\"mode\":\"markers\",\"name\":\"exopolysaccharide\",\"scene\":\"scene\",\"showlegend\":true,\"x\":[3.41400146484375,5.7538652420043945,1.1945140361785889,5.998594284057617,2.8541924953460693,5.209095478057861,-3.5413715839385986,3.0683817863464355,0.24113766849040985,8.395084381103516],\"y\":[-3.9923698902130127,-4.009558200836182,13.441842079162598,17.333261489868164,13.429628372192383,-2.8786120414733887,-8.308575630187988,-5.686472415924072,-8.395564079284668,-3.999354124069214],\"z\":[9.177413940429688,10.882993698120117,2.751451253890991,1.6991705894470215,0.09865236282348633,9.222214698791504,-0.6442594528198242,5.941380023956299,2.892709255218506,10.181336402893066],\"type\":\"scatter3d\"},{\"hovertemplate\":\"high_level_substr=-<br>0=%{x}<br>1=%{y}<br>2=%{z}<extra></extra>\",\"legendgroup\":\"-\",\"marker\":{\"color\":\"#FF6692\",\"symbol\":\"circle\",\"size\":8},\"mode\":\"markers\",\"name\":\"-\",\"scene\":\"scene\",\"showlegend\":true,\"x\":[3.49407696723938,-5.1626434326171875,-10.829232215881348,2.7659780979156494,2.7548975944519043,-0.831799328327179,-8.301398277282715,2.214216470718384,2.57102370262146],\"y\":[-1.99289071559906,1.845314860343933,2.1148288249969482,-3.335935592651367,-3.5316355228424072,-2.635171890258789,-0.44265076518058777,-2.695725679397583,-3.418405055999756],\"z\":[9.260855674743652,-5.785887241363525,-2.475799322128296,2.106038808822632,2.2654151916503906,-2.244971990585327,-4.798360824584961,2.5986409187316895,0.5130935907363892],\"type\":\"scatter3d\"},{\"hovertemplate\":\"high_level_substr=fructan<br>0=%{x}<br>1=%{y}<br>2=%{z}<extra></extra>\",\"legendgroup\":\"fructan\",\"marker\":{\"color\":\"#B6E880\",\"symbol\":\"circle\",\"size\":8},\"mode\":\"markers\",\"name\":\"fructan\",\"scene\":\"scene\",\"showlegend\":true,\"x\":[-2.730807065963745,-4.356358051300049,2.0556554794311523,-2.524383544921875,-5.6112189292907715,-5.6112189292907715,-3.745846748352051,1.2846364974975586],\"y\":[4.204390525817871,-3.5391955375671387,15.691478729248047,-8.762502670288086,-5.848007678985596,-5.848007678985596,9.621063232421875,2.102682590484619],\"z\":[1.949526309967041,-6.314448833465576,-0.13336899876594543,-7.594476222991943,-6.9990997314453125,-6.9990997314453125,0.9145767092704773,3.801244020462036],\"type\":\"scatter3d\"},{\"hovertemplate\":\"high_level_substr=alpha-mannan<br>0=%{x}<br>1=%{y}<br>2=%{z}<extra></extra>\",\"legendgroup\":\"alpha-mannan\",\"marker\":{\"color\":\"#FF97FF\",\"symbol\":\"circle\",\"size\":8},\"mode\":\"markers\",\"name\":\"alpha-mannan\",\"scene\":\"scene\",\"showlegend\":true,\"x\":[-2.6994409561157227,0.17814843356609344,0.24322940409183502,0.4862416684627533,0.8202403783798218,0.4862416088581085,0.042394474148750305,0.4461457133293152],\"y\":[6.8116021156311035,7.383068561553955,15.036829948425293,8.367622375488281,6.390635967254639,8.367622375488281,14.7546968460083,7.340435028076172],\"z\":[2.818100690841675,2.7640483379364014,2.0036771297454834,4.001320838928223,3.088521718978882,4.0013203620910645,1.9213138818740845,3.0616567134857178],\"type\":\"scatter3d\"},{\"hovertemplate\":\"high_level_substr=host glycan<br>0=%{x}<br>1=%{y}<br>2=%{z}<extra></extra>\",\"legendgroup\":\"host glycan\",\"marker\":{\"color\":\"#FECB52\",\"symbol\":\"circle\",\"size\":8},\"mode\":\"markers\",\"name\":\"host glycan\",\"scene\":\"scene\",\"showlegend\":true,\"x\":[-1.0113130807876587,4.078789710998535,3.1090290546417236,-0.21404269337654114,0.41556939482688904,-0.34552204608917236,-1.9576784372329712],\"y\":[-8.546584129333496,15.945773124694824,14.74301528930664,-5.584742069244385,11.802590370178223,9.375016212463379,-1.7263336181640625],\"z\":[-0.8073538541793823,0.7745592594146729,0.7641493678092957,-1.0104142427444458,4.491755962371826,2.455312967300415,1.880185842514038],\"type\":\"scatter3d\"},{\"hovertemplate\":\"high_level_substr=xyloglucan<br>0=%{x}<br>1=%{y}<br>2=%{z}<extra></extra>\",\"legendgroup\":\"xyloglucan\",\"marker\":{\"color\":\"#636efa\",\"symbol\":\"circle\",\"size\":8},\"mode\":\"markers\",\"name\":\"xyloglucan\",\"scene\":\"scene\",\"showlegend\":true,\"x\":[2.5642013549804688,1.9016571044921875,1.9880558252334595,2.3071205615997314,1.9880558252334595,-0.09873826801776886,2.193079710006714],\"y\":[8.913278579711914,3.87404203414917,9.229722023010254,8.843396186828613,9.229722023010254,13.467878341674805,8.31585693359375],\"z\":[2.502760648727417,1.7661492824554443,1.1559542417526245,2.0207107067108154,1.1559542417526245,-0.8409028053283691,1.5734634399414062],\"type\":\"scatter3d\"},{\"hovertemplate\":\"high_level_substr=plant polysaccharide<br>0=%{x}<br>1=%{y}<br>2=%{z}<extra></extra>\",\"legendgroup\":\"plant polysaccharide\",\"marker\":{\"color\":\"#EF553B\",\"symbol\":\"circle\",\"size\":8},\"mode\":\"markers\",\"name\":\"plant polysaccharide\",\"scene\":\"scene\",\"showlegend\":true,\"x\":[-4.419728755950928,-4.465268135070801,2.229779005050659,-0.21016788482666016,3.5917720794677734,3.632131576538086],\"y\":[-2.9803102016448975,-3.036261558532715,-8.362581253051758,4.540421485900879,14.352075576782227,14.559063911437988],\"z\":[4.434613227844238,4.443803310394287,-2.2853798866271973,0.0987115129828453,0.8910393714904785,1.0406596660614014],\"type\":\"scatter3d\"},{\"hovertemplate\":\"high_level_substr=glycoprotein<br>0=%{x}<br>1=%{y}<br>2=%{z}<extra></extra>\",\"legendgroup\":\"glycoprotein\",\"marker\":{\"color\":\"#00cc96\",\"symbol\":\"circle\",\"size\":8},\"mode\":\"markers\",\"name\":\"glycoprotein\",\"scene\":\"scene\",\"showlegend\":true,\"x\":[-2.0490312576293945,1.0610567331314087,4.058404445648193,3.0764734745025635,-0.9934784173965454,-0.035137347877025604],\"y\":[-3.8977556228637695,15.749044418334961,-4.280588626861572,-4.9697113037109375,9.40422534942627,4.797098159790039],\"z\":[-2.202209234237671,3.0441203117370605,-3.774456262588501,-4.0824503898620605,4.181775093078613,1.3003332614898682],\"type\":\"scatter3d\"},{\"hovertemplate\":\"high_level_substr=human milk oligosaccharide<br>0=%{x}<br>1=%{y}<br>2=%{z}<extra></extra>\",\"legendgroup\":\"human milk oligosaccharide\",\"marker\":{\"color\":\"#ab63fa\",\"symbol\":\"circle\",\"size\":8},\"mode\":\"markers\",\"name\":\"human milk oligosaccharide\",\"scene\":\"scene\",\"showlegend\":true,\"x\":[-1.3121578693389893,-3.616072654724121,-6.010056495666504,-6.3640336990356445,-4.116291522979736],\"y\":[-8.080513954162598,-6.161146640777588,-2.977620840072632,1.5678682327270508,0.735704779624939],\"z\":[3.7570433616638184,-5.939204216003418,-3.2537741661071777,-5.408169269561768,-3.9264822006225586],\"type\":\"scatter3d\"},{\"hovertemplate\":\"high_level_substr=hemicellulose<br>0=%{x}<br>1=%{y}<br>2=%{z}<extra></extra>\",\"legendgroup\":\"hemicellulose\",\"marker\":{\"color\":\"#FFA15A\",\"symbol\":\"circle\",\"size\":8},\"mode\":\"markers\",\"name\":\"hemicellulose\",\"scene\":\"scene\",\"showlegend\":true,\"x\":[-3.9117159843444824,-1.9049519300460815,5.162398338317871,-0.6846321225166321,2.064661979675293],\"y\":[-1.5233988761901855,-0.9910947680473328,5.017645835876465,9.337879180908203,10.149688720703125],\"z\":[-6.391156196594238,2.8874025344848633,0.9807820916175842,-0.3758315145969391,0.19645410776138306],\"type\":\"scatter3d\"},{\"hovertemplate\":\"high_level_substr=O-glycan<br>0=%{x}<br>1=%{y}<br>2=%{z}<extra></extra>\",\"legendgroup\":\"O-glycan\",\"marker\":{\"color\":\"#19d3f3\",\"symbol\":\"circle\",\"size\":8},\"mode\":\"markers\",\"name\":\"O-glycan\",\"scene\":\"scene\",\"showlegend\":true,\"x\":[10.129034042358398,10.129034042358398,10.437976837158203],\"y\":[-8.75965404510498,-8.75965404510498,-8.329736709594727],\"z\":[6.891772270202637,6.891772270202637,7.347850799560547],\"type\":\"scatter3d\"}],                        {\"template\":{\"data\":{\"bar\":[{\"error_x\":{\"color\":\"#2a3f5f\"},\"error_y\":{\"color\":\"#2a3f5f\"},\"marker\":{\"line\":{\"color\":\"#E5ECF6\",\"width\":0.5},\"pattern\":{\"fillmode\":\"overlay\",\"size\":10,\"solidity\":0.2}},\"type\":\"bar\"}],\"barpolar\":[{\"marker\":{\"line\":{\"color\":\"#E5ECF6\",\"width\":0.5},\"pattern\":{\"fillmode\":\"overlay\",\"size\":10,\"solidity\":0.2}},\"type\":\"barpolar\"}],\"carpet\":[{\"aaxis\":{\"endlinecolor\":\"#2a3f5f\",\"gridcolor\":\"white\",\"linecolor\":\"white\",\"minorgridcolor\":\"white\",\"startlinecolor\":\"#2a3f5f\"},\"baxis\":{\"endlinecolor\":\"#2a3f5f\",\"gridcolor\":\"white\",\"linecolor\":\"white\",\"minorgridcolor\":\"white\",\"startlinecolor\":\"#2a3f5f\"},\"type\":\"carpet\"}],\"choropleth\":[{\"colorbar\":{\"outlinewidth\":0,\"ticks\":\"\"},\"type\":\"choropleth\"}],\"contour\":[{\"colorbar\":{\"outlinewidth\":0,\"ticks\":\"\"},\"colorscale\":[[0.0,\"#0d0887\"],[0.1111111111111111,\"#46039f\"],[0.2222222222222222,\"#7201a8\"],[0.3333333333333333,\"#9c179e\"],[0.4444444444444444,\"#bd3786\"],[0.5555555555555556,\"#d8576b\"],[0.6666666666666666,\"#ed7953\"],[0.7777777777777778,\"#fb9f3a\"],[0.8888888888888888,\"#fdca26\"],[1.0,\"#f0f921\"]],\"type\":\"contour\"}],\"contourcarpet\":[{\"colorbar\":{\"outlinewidth\":0,\"ticks\":\"\"},\"type\":\"contourcarpet\"}],\"heatmap\":[{\"colorbar\":{\"outlinewidth\":0,\"ticks\":\"\"},\"colorscale\":[[0.0,\"#0d0887\"],[0.1111111111111111,\"#46039f\"],[0.2222222222222222,\"#7201a8\"],[0.3333333333333333,\"#9c179e\"],[0.4444444444444444,\"#bd3786\"],[0.5555555555555556,\"#d8576b\"],[0.6666666666666666,\"#ed7953\"],[0.7777777777777778,\"#fb9f3a\"],[0.8888888888888888,\"#fdca26\"],[1.0,\"#f0f921\"]],\"type\":\"heatmap\"}],\"heatmapgl\":[{\"colorbar\":{\"outlinewidth\":0,\"ticks\":\"\"},\"colorscale\":[[0.0,\"#0d0887\"],[0.1111111111111111,\"#46039f\"],[0.2222222222222222,\"#7201a8\"],[0.3333333333333333,\"#9c179e\"],[0.4444444444444444,\"#bd3786\"],[0.5555555555555556,\"#d8576b\"],[0.6666666666666666,\"#ed7953\"],[0.7777777777777778,\"#fb9f3a\"],[0.8888888888888888,\"#fdca26\"],[1.0,\"#f0f921\"]],\"type\":\"heatmapgl\"}],\"histogram\":[{\"marker\":{\"pattern\":{\"fillmode\":\"overlay\",\"size\":10,\"solidity\":0.2}},\"type\":\"histogram\"}],\"histogram2d\":[{\"colorbar\":{\"outlinewidth\":0,\"ticks\":\"\"},\"colorscale\":[[0.0,\"#0d0887\"],[0.1111111111111111,\"#46039f\"],[0.2222222222222222,\"#7201a8\"],[0.3333333333333333,\"#9c179e\"],[0.4444444444444444,\"#bd3786\"],[0.5555555555555556,\"#d8576b\"],[0.6666666666666666,\"#ed7953\"],[0.7777777777777778,\"#fb9f3a\"],[0.8888888888888888,\"#fdca26\"],[1.0,\"#f0f921\"]],\"type\":\"histogram2d\"}],\"histogram2dcontour\":[{\"colorbar\":{\"outlinewidth\":0,\"ticks\":\"\"},\"colorscale\":[[0.0,\"#0d0887\"],[0.1111111111111111,\"#46039f\"],[0.2222222222222222,\"#7201a8\"],[0.3333333333333333,\"#9c179e\"],[0.4444444444444444,\"#bd3786\"],[0.5555555555555556,\"#d8576b\"],[0.6666666666666666,\"#ed7953\"],[0.7777777777777778,\"#fb9f3a\"],[0.8888888888888888,\"#fdca26\"],[1.0,\"#f0f921\"]],\"type\":\"histogram2dcontour\"}],\"mesh3d\":[{\"colorbar\":{\"outlinewidth\":0,\"ticks\":\"\"},\"type\":\"mesh3d\"}],\"parcoords\":[{\"line\":{\"colorbar\":{\"outlinewidth\":0,\"ticks\":\"\"}},\"type\":\"parcoords\"}],\"pie\":[{\"automargin\":true,\"type\":\"pie\"}],\"scatter\":[{\"marker\":{\"colorbar\":{\"outlinewidth\":0,\"ticks\":\"\"}},\"type\":\"scatter\"}],\"scatter3d\":[{\"line\":{\"colorbar\":{\"outlinewidth\":0,\"ticks\":\"\"}},\"marker\":{\"colorbar\":{\"outlinewidth\":0,\"ticks\":\"\"}},\"type\":\"scatter3d\"}],\"scattercarpet\":[{\"marker\":{\"colorbar\":{\"outlinewidth\":0,\"ticks\":\"\"}},\"type\":\"scattercarpet\"}],\"scattergeo\":[{\"marker\":{\"colorbar\":{\"outlinewidth\":0,\"ticks\":\"\"}},\"type\":\"scattergeo\"}],\"scattergl\":[{\"marker\":{\"colorbar\":{\"outlinewidth\":0,\"ticks\":\"\"}},\"type\":\"scattergl\"}],\"scattermapbox\":[{\"marker\":{\"colorbar\":{\"outlinewidth\":0,\"ticks\":\"\"}},\"type\":\"scattermapbox\"}],\"scatterpolar\":[{\"marker\":{\"colorbar\":{\"outlinewidth\":0,\"ticks\":\"\"}},\"type\":\"scatterpolar\"}],\"scatterpolargl\":[{\"marker\":{\"colorbar\":{\"outlinewidth\":0,\"ticks\":\"\"}},\"type\":\"scatterpolargl\"}],\"scatterternary\":[{\"marker\":{\"colorbar\":{\"outlinewidth\":0,\"ticks\":\"\"}},\"type\":\"scatterternary\"}],\"surface\":[{\"colorbar\":{\"outlinewidth\":0,\"ticks\":\"\"},\"colorscale\":[[0.0,\"#0d0887\"],[0.1111111111111111,\"#46039f\"],[0.2222222222222222,\"#7201a8\"],[0.3333333333333333,\"#9c179e\"],[0.4444444444444444,\"#bd3786\"],[0.5555555555555556,\"#d8576b\"],[0.6666666666666666,\"#ed7953\"],[0.7777777777777778,\"#fb9f3a\"],[0.8888888888888888,\"#fdca26\"],[1.0,\"#f0f921\"]],\"type\":\"surface\"}],\"table\":[{\"cells\":{\"fill\":{\"color\":\"#EBF0F8\"},\"line\":{\"color\":\"white\"}},\"header\":{\"fill\":{\"color\":\"#C8D4E3\"},\"line\":{\"color\":\"white\"}},\"type\":\"table\"}]},\"layout\":{\"annotationdefaults\":{\"arrowcolor\":\"#2a3f5f\",\"arrowhead\":0,\"arrowwidth\":1},\"autotypenumbers\":\"strict\",\"coloraxis\":{\"colorbar\":{\"outlinewidth\":0,\"ticks\":\"\"}},\"colorscale\":{\"diverging\":[[0,\"#8e0152\"],[0.1,\"#c51b7d\"],[0.2,\"#de77ae\"],[0.3,\"#f1b6da\"],[0.4,\"#fde0ef\"],[0.5,\"#f7f7f7\"],[0.6,\"#e6f5d0\"],[0.7,\"#b8e186\"],[0.8,\"#7fbc41\"],[0.9,\"#4d9221\"],[1,\"#276419\"]],\"sequential\":[[0.0,\"#0d0887\"],[0.1111111111111111,\"#46039f\"],[0.2222222222222222,\"#7201a8\"],[0.3333333333333333,\"#9c179e\"],[0.4444444444444444,\"#bd3786\"],[0.5555555555555556,\"#d8576b\"],[0.6666666666666666,\"#ed7953\"],[0.7777777777777778,\"#fb9f3a\"],[0.8888888888888888,\"#fdca26\"],[1.0,\"#f0f921\"]],\"sequentialminus\":[[0.0,\"#0d0887\"],[0.1111111111111111,\"#46039f\"],[0.2222222222222222,\"#7201a8\"],[0.3333333333333333,\"#9c179e\"],[0.4444444444444444,\"#bd3786\"],[0.5555555555555556,\"#d8576b\"],[0.6666666666666666,\"#ed7953\"],[0.7777777777777778,\"#fb9f3a\"],[0.8888888888888888,\"#fdca26\"],[1.0,\"#f0f921\"]]},\"colorway\":[\"#636efa\",\"#EF553B\",\"#00cc96\",\"#ab63fa\",\"#FFA15A\",\"#19d3f3\",\"#FF6692\",\"#B6E880\",\"#FF97FF\",\"#FECB52\"],\"font\":{\"color\":\"#2a3f5f\"},\"geo\":{\"bgcolor\":\"white\",\"lakecolor\":\"white\",\"landcolor\":\"#E5ECF6\",\"showlakes\":true,\"showland\":true,\"subunitcolor\":\"white\"},\"hoverlabel\":{\"align\":\"left\"},\"hovermode\":\"closest\",\"mapbox\":{\"style\":\"light\"},\"paper_bgcolor\":\"white\",\"plot_bgcolor\":\"#E5ECF6\",\"polar\":{\"angularaxis\":{\"gridcolor\":\"white\",\"linecolor\":\"white\",\"ticks\":\"\"},\"bgcolor\":\"#E5ECF6\",\"radialaxis\":{\"gridcolor\":\"white\",\"linecolor\":\"white\",\"ticks\":\"\"}},\"scene\":{\"xaxis\":{\"backgroundcolor\":\"#E5ECF6\",\"gridcolor\":\"white\",\"gridwidth\":2,\"linecolor\":\"white\",\"showbackground\":true,\"ticks\":\"\",\"zerolinecolor\":\"white\"},\"yaxis\":{\"backgroundcolor\":\"#E5ECF6\",\"gridcolor\":\"white\",\"gridwidth\":2,\"linecolor\":\"white\",\"showbackground\":true,\"ticks\":\"\",\"zerolinecolor\":\"white\"},\"zaxis\":{\"backgroundcolor\":\"#E5ECF6\",\"gridcolor\":\"white\",\"gridwidth\":2,\"linecolor\":\"white\",\"showbackground\":true,\"ticks\":\"\",\"zerolinecolor\":\"white\"}},\"shapedefaults\":{\"line\":{\"color\":\"#2a3f5f\"}},\"ternary\":{\"aaxis\":{\"gridcolor\":\"white\",\"linecolor\":\"white\",\"ticks\":\"\"},\"baxis\":{\"gridcolor\":\"white\",\"linecolor\":\"white\",\"ticks\":\"\"},\"bgcolor\":\"#E5ECF6\",\"caxis\":{\"gridcolor\":\"white\",\"linecolor\":\"white\",\"ticks\":\"\"}},\"title\":{\"x\":0.05},\"xaxis\":{\"automargin\":true,\"gridcolor\":\"white\",\"linecolor\":\"white\",\"ticks\":\"\",\"title\":{\"standoff\":15},\"zerolinecolor\":\"white\",\"zerolinewidth\":2},\"yaxis\":{\"automargin\":true,\"gridcolor\":\"white\",\"linecolor\":\"white\",\"ticks\":\"\",\"title\":{\"standoff\":15},\"zerolinecolor\":\"white\",\"zerolinewidth\":2}}},\"scene\":{\"domain\":{\"x\":[0.0,1.0],\"y\":[0.0,1.0]},\"xaxis\":{\"title\":{\"text\":\"0\"}},\"yaxis\":{\"title\":{\"text\":\"1\"}},\"zaxis\":{\"title\":{\"text\":\"2\"}}},\"legend\":{\"title\":{\"text\":\"high_level_substr\"},\"tracegroupgap\":0},\"margin\":{\"t\":60}},                        {\"responsive\": true}                    ).then(function(){\n",
       "                            \n",
       "var gd = document.getElementById('2bcd95c2-2542-498c-9063-45d7a0ce58c4');\n",
       "var x = new MutationObserver(function (mutations, observer) {{\n",
       "        var display = window.getComputedStyle(gd).display;\n",
       "        if (!display || display === 'none') {{\n",
       "            console.log([gd, 'removed!']);\n",
       "            Plotly.purge(gd);\n",
       "            observer.disconnect();\n",
       "        }}\n",
       "}});\n",
       "\n",
       "// Listen for the removal of the full notebook cells\n",
       "var notebookContainer = gd.closest('#notebook-container');\n",
       "if (notebookContainer) {{\n",
       "    x.observe(notebookContainer, {childList: true});\n",
       "}}\n",
       "\n",
       "// Listen for the clearing of the current output cell\n",
       "var outputEl = gd.closest('.output');\n",
       "if (outputEl) {{\n",
       "    x.observe(outputEl, {childList: true});\n",
       "}}\n",
       "\n",
       "                        })                };                });            </script>        </div>"
      ]
     },
     "metadata": {},
     "output_type": "display_data"
    }
   ],
   "source": [
    "fig = px.scatter_3d(tsne_data, x=0, y=1, z=2, color = \"high_level_substr\",\n",
    "#                     color_discrete_map={'pectin':'red' , 'beta-mannan':'darkgreen' , 'galactan':'yellow' , \n",
    "#                                         'chitin':'blue', 'beta-glucan':'blueviolet', 'other':'brown', \n",
    "#                                         'starch':'coral', 'cellulose':'darkcyan', 'fructan':'hotpink', \n",
    "#                                         'cellooligosaccharide':'indigo', 'alpha-mannan':'lightseagreen', 'rare':'fuchsia' }, \n",
    "                   category_orders={\"high_level_substr\":supervised_data[\"high_level_substr\"].value_counts().keys().tolist()})\n",
    "fig.update_traces(marker_size=8)\n",
    "fig.write_html(\"mongeElkan_3D.html\")\n",
    "fig.show()"
   ]
  },
  {
   "cell_type": "code",
   "execution_count": 73,
   "id": "116e0599",
   "metadata": {},
   "outputs": [
    {
     "data": {
      "text/plain": [
       "multiple_substrates           139\n",
       "mono/di/trisaccharide          78\n",
       "capsule polysaccharide         60\n",
       "algal glycans                  40\n",
       "pectin                         38\n",
       "xylan                          38\n",
       "O-antigen                      37\n",
       "galactan                       36\n",
       "alpha-glucan                   23\n",
       "beta-mannan                    19\n",
       "cellulose                      18\n",
       "chitin                         15\n",
       "glycosaminoglycan              14\n",
       "beta-glucan                    13\n",
       "N-glycan                       12\n",
       "exopolysaccharide              10\n",
       "-                               9\n",
       "fructan                         8\n",
       "alpha-mannan                    8\n",
       "host glycan                     7\n",
       "xyloglucan                      7\n",
       "plant polysaccharide            6\n",
       "glycoprotein                    6\n",
       "human milk oligosaccharide      5\n",
       "hemicellulose                   5\n",
       "O-glycan                        3\n",
       "Name: high_level_substr, dtype: int64"
      ]
     },
     "execution_count": 73,
     "metadata": {},
     "output_type": "execute_result"
    }
   ],
   "source": [
    "supervised_data[\"high_level_substr\"].value_counts()"
   ]
  },
  {
   "cell_type": "code",
   "execution_count": 74,
   "id": "874981ae",
   "metadata": {},
   "outputs": [
    {
     "name": "stderr",
     "output_type": "stream",
     "text": [
      "C:\\Users\\vedpi\\anaconda3\\envs\\newone\\lib\\site-packages\\sklearn\\manifold\\_t_sne.py:780: FutureWarning:\n",
      "\n",
      "The default initialization in TSNE will change from 'random' to 'pca' in 1.2.\n",
      "\n",
      "C:\\Users\\vedpi\\AppData\\Local\\Temp/ipykernel_18312/1695015536.py:5: FutureWarning:\n",
      "\n",
      "In a future version of pandas all arguments of concat except for the argument 'objs' will be keyword-only\n",
      "\n"
     ]
    }
   ],
   "source": [
    "X_embedded = TSNE(n_components=2, learning_rate='auto').fit_transform(similarities_matrix)\n",
    "\n",
    "# X_embedded.shape\n",
    "\n",
    "tsne_data = pd.concat([pd.DataFrame(X_embedded), pd.DataFrame(supervised_data[\"high_level_substr\"])],1)"
   ]
  },
  {
   "cell_type": "code",
   "execution_count": 75,
   "id": "78023e07",
   "metadata": {},
   "outputs": [
    {
     "data": {
      "application/vnd.plotly.v1+json": {
       "config": {
        "plotlyServerURL": "https://plot.ly"
       },
       "data": [
        {
         "hovertemplate": "high_level_substr=multiple_substrates<br>0=%{x}<br>1=%{y}<extra></extra>",
         "legendgroup": "multiple_substrates",
         "marker": {
          "color": "#636efa",
          "size": 9,
          "symbol": "circle"
         },
         "mode": "markers",
         "name": "multiple_substrates",
         "orientation": "v",
         "showlegend": true,
         "type": "scatter",
         "x": [
          -25.56864356994629,
          -23.270341873168945,
          -22.73408317565918,
          -8.06686782836914,
          -22.262062072753906,
          -3.2134439945220947,
          -22.483844757080078,
          34.198829650878906,
          34.198829650878906,
          2.308835506439209,
          34.470237731933594,
          34.47024154663086,
          3.3255748748779297,
          -12.274359703063965,
          -6.453700542449951,
          -17.8577823638916,
          2.0468928813934326,
          -15.567706108093262,
          -16.42943572998047,
          -21.505191802978516,
          -21.729209899902344,
          1.4997973442077637,
          -2.6737616062164307,
          0.39860594272613525,
          5.70292329788208,
          5.543330192565918,
          0.18613630533218384,
          -2.115190029144287,
          -8.46406364440918,
          2.5823934078216553,
          3.1066572666168213,
          3.1068074703216553,
          -2.0714592933654785,
          -11.61901569366455,
          -11.657057762145996,
          12.965790748596191,
          -24.251487731933594,
          23.081253051757812,
          17.026460647583008,
          -14.485245704650879,
          3.48948073387146,
          -3.687943696975708,
          -0.8332933783531189,
          -25.054574966430664,
          -0.34563207626342773,
          0.5497295260429382,
          -13.561376571655273,
          4.183664321899414,
          23.37334442138672,
          2.031111717224121,
          -7.62177038192749,
          32.177833557128906,
          41.44101333618164,
          40.98670196533203,
          -9.244643211364746,
          -6.087433338165283,
          -28.642528533935547,
          -4.551027774810791,
          -9.786100387573242,
          1.5860329866409302,
          0.9202562570571899,
          -3.452458381652832,
          -2.954829216003418,
          0.9031136631965637,
          -9.442981719970703,
          19.014509201049805,
          0.18214508891105652,
          1.0045738220214844,
          13.080253601074219,
          9.459797859191895,
          -11.961688995361328,
          -13.117145538330078,
          12.889121055603027,
          6.924997806549072,
          -9.534698486328125,
          -10.947608947753906,
          -14.63440990447998,
          -13.656487464904785,
          13.65888500213623,
          13.51594352722168,
          -12.199050903320312,
          9.164080619812012,
          10.2955322265625,
          13.617806434631348,
          14.817585945129395,
          5.929316997528076,
          -9.363094329833984,
          -12.068880081176758,
          -15.52957534790039,
          -11.59140396118164,
          8.954532623291016,
          26.233295440673828,
          33.76643753051758,
          0.4318524897098541,
          11.636810302734375,
          -16.972448348999023,
          11.347227096557617,
          11.773365020751953,
          19.49912452697754,
          -14.619010925292969,
          1.7412735223770142,
          10.291994094848633,
          -12.497760772705078,
          -0.5466903448104858,
          -2.9005041122436523,
          -16.050708770751953,
          -3.3709447383880615,
          -15.195258140563965,
          -4.946249485015869,
          -12.45217514038086,
          -14.853458404541016,
          -3.6127099990844727,
          -6.887625217437744,
          4.8646016120910645,
          -13.687678337097168,
          -15.956446647644043,
          -16.107280731201172,
          -12.235941886901855,
          -19.886600494384766,
          -6.864452362060547,
          -21.383331298828125,
          -14.704632759094238,
          -12.693498611450195,
          0.4088677763938904,
          -11.25658130645752,
          -10.447986602783203,
          -3.2574353218078613,
          2.0094640254974365,
          7.442704677581787,
          7.442704677581787,
          5.929059028625488,
          -4.722599029541016,
          -12.65022087097168,
          2.893223762512207,
          8.169549942016602,
          3.9043829441070557,
          -2.3014633655548096,
          22.862293243408203,
          2.810213088989258
         ],
         "xaxis": "x",
         "y": [
          -5.963451385498047,
          22.265409469604492,
          -13.258708000183105,
          -15.049314498901367,
          22.563879013061523,
          -10.677846908569336,
          14.859053611755371,
          0.14481142163276672,
          0.14481142163276672,
          -26.727310180664062,
          1.2940747737884521,
          1.2940748929977417,
          -24.956106185913086,
          -17.547367095947266,
          19.80201530456543,
          28.06965446472168,
          -1.3814822435379028,
          28.034639358520508,
          28.877302169799805,
          16.827678680419922,
          16.782304763793945,
          -7.160749435424805,
          -1.4384502172470093,
          0.17161643505096436,
          -10.509257316589355,
          -10.28407096862793,
          -0.5025090575218201,
          0.5376039147377014,
          -20.57358741760254,
          -11.487937927246094,
          -11.818915367126465,
          -11.819070816040039,
          0.4428040683269501,
          -17.99057388305664,
          20.248437881469727,
          -4.970694541931152,
          15.969402313232422,
          -17.01049041748047,
          -17.21879768371582,
          -17.074420928955078,
          -8.048941612243652,
          -23.769704818725586,
          -2.4697530269622803,
          11.421168327331543,
          1.7763622999191284,
          4.81437873840332,
          8.943222999572754,
          -19.32578468322754,
          11.395478248596191,
          -20.88068199157715,
          -16.37615966796875,
          6.867527484893799,
          12.70838451385498,
          12.066057205200195,
          27.0534610748291,
          8.855385780334473,
          15.55618953704834,
          4.76308536529541,
          0.2315039485692978,
          1.919221043586731,
          -1.9345115423202515,
          -5.461845397949219,
          -5.2249555587768555,
          -2.757694959640503,
          1.8574724197387695,
          -10.07358169555664,
          -21.273914337158203,
          -22.796010971069336,
          -3.286355495452881,
          -0.7335500717163086,
          13.178621292114258,
          10.242664337158203,
          -5.750730514526367,
          2.313565492630005,
          16.956422805786133,
          15.83642292022705,
          28.475284576416016,
          -18.028888702392578,
          -20.20058250427246,
          -19.063232421875,
          8.831588745117188,
          -0.20044896006584167,
          -4.617537021636963,
          -3.6052215099334717,
          1.636983036994934,
          -26.04645347595215,
          -15.333983421325684,
          -3.7291665077209473,
          29.22305679321289,
          4.157670497894287,
          -0.6116946935653687,
          8.207900047302246,
          8.425676345825195,
          -5.514338970184326,
          -5.6478776931762695,
          13.850700378417969,
          -3.155534029006958,
          -2.686471700668335,
          -12.262737274169922,
          24.646114349365234,
          -0.10488739609718323,
          -2.0198514461517334,
          18.62028694152832,
          -27.2695369720459,
          7.070500373840332,
          3.9550116062164307,
          -26.444828033447266,
          -11.622465133666992,
          1.2360211610794067,
          9.477266311645508,
          10.33577823638916,
          4.451487064361572,
          5.606569766998291,
          -6.557567596435547,
          19.343334197998047,
          14.858156204223633,
          24.137968063354492,
          14.797039985656738,
          13.428960800170898,
          -23.781402587890625,
          6.6665496826171875,
          -19.842851638793945,
          -16.383859634399414,
          -9.276540756225586,
          -22.269899368286133,
          -20.848125457763672,
          -25.922515869140625,
          -5.756800651550293,
          -27.075796127319336,
          -27.075796127319336,
          -26.046396255493164,
          10.92577838897705,
          -19.536075592041016,
          -24.969934463500977,
          -27.05463981628418,
          -33.9571533203125,
          -13.912111282348633,
          -15.882286071777344,
          -19.088964462280273
         ],
         "yaxis": "y"
        },
        {
         "hovertemplate": "high_level_substr=mono/di/trisaccharide<br>0=%{x}<br>1=%{y}<extra></extra>",
         "legendgroup": "mono/di/trisaccharide",
         "marker": {
          "color": "#EF553B",
          "size": 9,
          "symbol": "circle"
         },
         "mode": "markers",
         "name": "mono/di/trisaccharide",
         "orientation": "v",
         "showlegend": true,
         "type": "scatter",
         "x": [
          23.616443634033203,
          -23.58296775817871,
          -3.443779468536377,
          -23.711761474609375,
          -25.496065139770508,
          14.347983360290527,
          6.171614646911621,
          7.499465465545654,
          6.493189811706543,
          -11.042285919189453,
          -26.33428955078125,
          9.651914596557617,
          -8.431045532226562,
          4.233104228973389,
          -22.59454917907715,
          -12.087028503417969,
          -3.4493770599365234,
          -5.256160736083984,
          2.454714775085449,
          -11.823724746704102,
          7.04780912399292,
          0.27521300315856934,
          1.9038138389587402,
          7.499465465545654,
          -9.231956481933594,
          -25.463096618652344,
          -24.65762710571289,
          -26.568815231323242,
          -25.463096618652344,
          -24.956806182861328,
          -26.572120666503906,
          -11.503218650817871,
          -6.963305473327637,
          -24.37947654724121,
          -26.402631759643555,
          -2.618224620819092,
          -28.532617568969727,
          -14.527536392211914,
          -7.308640003204346,
          -13.290306091308594,
          -20.583955764770508,
          -9.153854370117188,
          -8.503512382507324,
          -3.2559235095977783,
          1.6891469955444336,
          -23.834043502807617,
          -23.32852554321289,
          -23.347177505493164,
          -24.776878356933594,
          -8.621601104736328,
          6.171614646911621,
          8.010846138000488,
          -25.74026870727539,
          -25.74026870727539,
          7.591078758239746,
          6.951317310333252,
          -24.65762710571289,
          -7.479709148406982,
          -10.781159400939941,
          -8.965481758117676,
          11.019874572753906,
          6.982224464416504,
          -10.118343353271484,
          -1.7278813123703003,
          -24.1541805267334,
          -0.06773367524147034,
          -19.985055923461914,
          9.810556411743164,
          -23.38826560974121,
          8.099879264831543,
          -26.33428955078125,
          -5.38397216796875,
          -26.00986671447754,
          13.356877326965332,
          -2.7909765243530273,
          -24.379581451416016,
          -25.178447723388672,
          0.1507282853126526
         ],
         "xaxis": "x",
         "y": [
          -11.332452774047852,
          -12.00550651550293,
          -16.688833236694336,
          -13.050948143005371,
          -9.830032348632812,
          -14.640765190124512,
          -32.542720794677734,
          -30.959836959838867,
          -30.5194091796875,
          -17.55080795288086,
          -5.788082122802734,
          -31.319700241088867,
          -4.772616863250732,
          -34.066062927246094,
          -12.264114379882812,
          -3.741027355194092,
          14.826692581176758,
          -15.437255859375,
          -17.565670013427734,
          -10.955540657043457,
          -33.80147171020508,
          -26.713260650634766,
          -21.23880958557129,
          -30.959836959838867,
          -21.333335876464844,
          -7.94766092300415,
          -9.780949592590332,
          20.02930450439453,
          -7.94766092300415,
          -10.477272033691406,
          20.129793167114258,
          -6.917984962463379,
          -21.068748474121094,
          -12.853765487670898,
          -12.113115310668945,
          -24.9111270904541,
          16.06450080871582,
          -18.811067581176758,
          -17.833534240722656,
          29.487524032592773,
          -11.640599250793457,
          -13.392375946044922,
          -16.118371963500977,
          -3.8750133514404297,
          -8.748844146728516,
          21.109926223754883,
          -10.771697044372559,
          -15.727265357971191,
          19.40256118774414,
          -4.673351287841797,
          -32.542720794677734,
          -32.01975631713867,
          -5.3156890869140625,
          -5.3156890869140625,
          -25.72161293029785,
          -32.004005432128906,
          -9.780949592590332,
          -5.578033924102783,
          -19.649368286132812,
          24.131799697875977,
          -4.056849002838135,
          -31.06820297241211,
          -14.069230079650879,
          -24.82539176940918,
          -11.761123657226562,
          -9.06196117401123,
          14.435771942138672,
          -0.14259913563728333,
          12.465707778930664,
          -26.69225311279297,
          -5.788082122802734,
          -21.851638793945312,
          -8.090091705322266,
          -21.273942947387695,
          -22.316570281982422,
          -12.853765487670898,
          23.171449661254883,
          16.26701545715332
         ],
         "yaxis": "y"
        },
        {
         "hovertemplate": "high_level_substr=capsule polysaccharide<br>0=%{x}<br>1=%{y}<extra></extra>",
         "legendgroup": "capsule polysaccharide",
         "marker": {
          "color": "#00cc96",
          "size": 9,
          "symbol": "circle"
         },
         "mode": "markers",
         "name": "capsule polysaccharide",
         "orientation": "v",
         "showlegend": true,
         "type": "scatter",
         "x": [
          31.130977630615234,
          24.21038055419922,
          29.38240623474121,
          30.283472061157227,
          30.132585525512695,
          24.420183181762695,
          26.19563865661621,
          25.7326717376709,
          24.420259475708008,
          23.665782928466797,
          27.30934715270996,
          28.30949592590332,
          25.487781524658203,
          22.77756690979004,
          25.066694259643555,
          36.15327453613281,
          24.210168838500977,
          22.00182342529297,
          26.483312606811523,
          34.501251220703125,
          35.537109375,
          40.647056579589844,
          37.360267639160156,
          32.501644134521484,
          23.909093856811523,
          34.31496047973633,
          23.705421447753906,
          26.35433578491211,
          26.225378036499023,
          26.645959854125977,
          35.174415588378906,
          28.139944076538086,
          37.0162353515625,
          34.890628814697266,
          37.32149124145508,
          38.44774627685547,
          31.457788467407227,
          36.29344177246094,
          36.63142013549805,
          34.193138122558594,
          38.37516403198242,
          33.83625793457031,
          10.965913772583008,
          34.99045944213867,
          36.391639709472656,
          36.5114860534668,
          35.17123794555664,
          36.29344177246094,
          26.225378036499023,
          32.24111557006836,
          34.63235855102539,
          35.8343620300293,
          27.487110137939453,
          35.63481140136719,
          38.401371002197266,
          38.26369857788086,
          24.224040985107422,
          27.459609985351562,
          24.224040985107422,
          23.41330909729004
         ],
         "xaxis": "x",
         "y": [
          13.153100967407227,
          17.533342361450195,
          13.238094329833984,
          11.160256385803223,
          13.621145248413086,
          14.45784854888916,
          11.593749046325684,
          11.889806747436523,
          14.457903861999512,
          15.217519760131836,
          13.632376670837402,
          13.403738975524902,
          16.42049789428711,
          17.467180252075195,
          8.810491561889648,
          8.62413501739502,
          12.489594459533691,
          -10.355584144592285,
          16.60304069519043,
          4.6323161125183105,
          12.954085350036621,
          6.3335466384887695,
          9.747176170349121,
          12.028740882873535,
          11.972979545593262,
          5.867391109466553,
          -10.605485916137695,
          9.518293380737305,
          17.36832618713379,
          10.503643035888672,
          8.204554557800293,
          8.934072494506836,
          11.26866340637207,
          9.994684219360352,
          8.111563682556152,
          11.503725051879883,
          12.21070384979248,
          10.64328384399414,
          6.162868499755859,
          11.810771942138672,
          8.972675323486328,
          13.140645027160645,
          -16.368118286132812,
          7.087253093719482,
          7.7369794845581055,
          12.319449424743652,
          11.91060733795166,
          10.64328384399414,
          17.36832618713379,
          10.664284706115723,
          12.937631607055664,
          6.496923446655273,
          9.462386131286621,
          9.600798606872559,
          7.818249702453613,
          10.675741195678711,
          16.54545021057129,
          15.438658714294434,
          16.54545021057129,
          16.493661880493164
         ],
         "yaxis": "y"
        },
        {
         "hovertemplate": "high_level_substr=algal glycans<br>0=%{x}<br>1=%{y}<extra></extra>",
         "legendgroup": "algal glycans",
         "marker": {
          "color": "#ab63fa",
          "size": 9,
          "symbol": "circle"
         },
         "mode": "markers",
         "name": "algal glycans",
         "orientation": "v",
         "showlegend": true,
         "type": "scatter",
         "x": [
          20.20418357849121,
          11.425155639648438,
          17.421104431152344,
          18.28449058532715,
          19.548664093017578,
          12.193282127380371,
          16.06925392150879,
          -7.22926139831543,
          -6.940983295440674,
          -18.152385711669922,
          -11.150535583496094,
          17.142423629760742,
          18.227333068847656,
          16.062822341918945,
          -9.99903392791748,
          21.115564346313477,
          2.2788729667663574,
          -14.159849166870117,
          -17.938858032226562,
          -11.404388427734375,
          21.88336753845215,
          -6.8884196281433105,
          6.5931596755981445,
          22.731245040893555,
          20.05115509033203,
          17.662540435791016,
          18.98607063293457,
          0.4985804855823517,
          1.6004655361175537,
          1.2181332111358643,
          -5.882123947143555,
          -6.031303882598877,
          9.90334701538086,
          -16.3359432220459,
          7.377948760986328,
          2.6280059814453125,
          -5.836690425872803,
          0.6633211970329285,
          17.278202056884766,
          21.531156539916992
         ],
         "xaxis": "x",
         "y": [
          -18.089902877807617,
          -15.404557228088379,
          -16.138059616088867,
          -17.536975860595703,
          -16.51412010192871,
          -15.185118675231934,
          -15.671038627624512,
          -3.8387792110443115,
          -2.3979241847991943,
          14.983065605163574,
          28.254257202148438,
          -16.063247680664062,
          -16.236398696899414,
          -17.704105377197266,
          -22.333829879760742,
          -16.516685485839844,
          -27.64680290222168,
          22.62750816345215,
          16.79708480834961,
          21.553302764892578,
          -16.924522399902344,
          -2.7405223846435547,
          3.5945072174072266,
          -18.089202880859375,
          -2.19209885597229,
          0.9519814848899841,
          -16.131135940551758,
          -15.189355850219727,
          -14.988472938537598,
          -27.730667114257812,
          -2.4573802947998047,
          -9.94016170501709,
          -17.06304931640625,
          16.981420516967773,
          -21.299898147583008,
          -0.6567106246948242,
          -9.961122512817383,
          -18.86307716369629,
          -14.684526443481445,
          -17.440988540649414
         ],
         "yaxis": "y"
        },
        {
         "hovertemplate": "high_level_substr=pectin<br>0=%{x}<br>1=%{y}<extra></extra>",
         "legendgroup": "pectin",
         "marker": {
          "color": "#FFA15A",
          "size": 9,
          "symbol": "circle"
         },
         "mode": "markers",
         "name": "pectin",
         "orientation": "v",
         "showlegend": true,
         "type": "scatter",
         "x": [
          6.835512638092041,
          16.291484832763672,
          -10.793405532836914,
          18.440837860107422,
          12.179242134094238,
          11.420448303222656,
          10.829557418823242,
          -2.0363638401031494,
          -5.580907821655273,
          15.610350608825684,
          -6.802004337310791,
          -9.89374828338623,
          8.28496265411377,
          14.552359580993652,
          12.179242134094238,
          16.991962432861328,
          12.045703887939453,
          20.390796661376953,
          -23.499177932739258,
          -22.847890853881836,
          -1.3360151052474976,
          -17.196863174438477,
          -6.152848720550537,
          15.022318840026855,
          -1.8207721710205078,
          -14.543773651123047,
          -13.646180152893066,
          -2.357414722442627,
          -12.235910415649414,
          2.2599918842315674,
          -15.985090255737305,
          6.319097995758057,
          7.894163608551025,
          -13.560675621032715,
          7.7857770919799805,
          5.161024570465088,
          -12.283422470092773,
          -10.159096717834473
         ],
         "xaxis": "x",
         "y": [
          -12.580426216125488,
          -8.482784271240234,
          -23.281373977661133,
          -15.574963569641113,
          -12.102593421936035,
          -12.204893112182617,
          -12.495094299316406,
          5.985714912414551,
          1.4153004884719849,
          -11.979241371154785,
          5.326338768005371,
          5.682342052459717,
          -11.8156099319458,
          -11.618514060974121,
          -12.102593421936035,
          -11.83582878112793,
          -12.744820594787598,
          -15.654593467712402,
          10.044096946716309,
          18.87765884399414,
          5.49256706237793,
          17.774919509887695,
          3.526254177093506,
          -11.650253295898438,
          4.537021636962891,
          22.31558609008789,
          8.283333778381348,
          4.912032604217529,
          14.79701042175293,
          1.6579225063323975,
          12.635058403015137,
          -2.2350194454193115,
          5.016138076782227,
          30.429121017456055,
          4.961610317230225,
          5.981440544128418,
          16.2614688873291,
          29.866165161132812
         ],
         "yaxis": "y"
        },
        {
         "hovertemplate": "high_level_substr=xylan<br>0=%{x}<br>1=%{y}<extra></extra>",
         "legendgroup": "xylan",
         "marker": {
          "color": "#19d3f3",
          "size": 9,
          "symbol": "circle"
         },
         "mode": "markers",
         "name": "xylan",
         "orientation": "v",
         "showlegend": true,
         "type": "scatter",
         "x": [
          -8.986272811889648,
          -7.117653846740723,
          -10.367533683776855,
          -18.271451950073242,
          -11.07800006866455,
          -10.452465057373047,
          -4.223538875579834,
          -2.6066882610321045,
          -16.63158416748047,
          -6.291412353515625,
          -2.4855403900146484,
          -5.278294563293457,
          -18.229257583618164,
          -22.456083297729492,
          -9.363126754760742,
          -1.3751565217971802,
          -15.303600311279297,
          -3.9928996562957764,
          -16.187929153442383,
          -15.196209907531738,
          -3.6434905529022217,
          -9.6242094039917,
          -11.149263381958008,
          -9.222146034240723,
          -3.8755202293395996,
          -4.576018810272217,
          10.441353797912598,
          -19.71218490600586,
          -16.215871810913086,
          -10.588041305541992,
          -10.010820388793945,
          -11.087061882019043,
          -9.49923324584961,
          -20.18485450744629,
          1.6955487728118896,
          2.4357879161834717,
          -4.408994674682617,
          -3.9830901622772217
         ],
         "xaxis": "x",
         "y": [
          16.89634895324707,
          -15.043174743652344,
          13.705284118652344,
          11.315617561340332,
          -8.055115699768066,
          12.537888526916504,
          -21.937517166137695,
          -19.749147415161133,
          21.00368309020996,
          2.3564741611480713,
          8.751978874206543,
          6.12744665145874,
          10.691192626953125,
          11.00279712677002,
          -20.046653747558594,
          -6.0541791915893555,
          18.84791374206543,
          -14.79443073272705,
          9.124408721923828,
          -11.735088348388672,
          -13.009474754333496,
          14.762335777282715,
          -14.661470413208008,
          -11.865070343017578,
          -17.045534133911133,
          -13.086613655090332,
          -2.7992823123931885,
          11.131136894226074,
          25.80361557006836,
          26.050046920776367,
          5.523548603057861,
          27.45555305480957,
          13.614625930786133,
          10.648162841796875,
          4.391288757324219,
          4.380629062652588,
          7.285910129547119,
          5.993096351623535
         ],
         "yaxis": "y"
        },
        {
         "hovertemplate": "high_level_substr=O-antigen<br>0=%{x}<br>1=%{y}<extra></extra>",
         "legendgroup": "O-antigen",
         "marker": {
          "color": "#FF6692",
          "size": 9,
          "symbol": "circle"
         },
         "mode": "markers",
         "name": "O-antigen",
         "orientation": "v",
         "showlegend": true,
         "type": "scatter",
         "x": [
          40.808265686035156,
          25.275943756103516,
          40.647056579589844,
          34.955806732177734,
          37.91541290283203,
          24.788000106811523,
          24.954904556274414,
          20.35550880432129,
          31.40572738647461,
          25.770483016967773,
          31.07380485534668,
          41.58643341064453,
          40.612159729003906,
          40.647056579589844,
          27.049951553344727,
          36.019229888916016,
          41.867191314697266,
          34.955806732177734,
          31.073833465576172,
          28.27017593383789,
          32.96221160888672,
          40.048667907714844,
          34.283817291259766,
          40.687171936035156,
          30.437129974365234,
          37.17302703857422,
          32.451534271240234,
          26.810110092163086,
          31.4603214263916,
          30.464500427246094,
          37.52229690551758,
          33.64187240600586,
          21.925355911254883,
          26.905384063720703,
          21.925722122192383,
          31.948148727416992,
          40.60883712768555
         ],
         "xaxis": "x",
         "y": [
          11.45036792755127,
          6.80820369720459,
          6.3335466384887695,
          15.268827438354492,
          6.923790454864502,
          6.698902130126953,
          5.348050117492676,
          14.051020622253418,
          -1.3484857082366943,
          13.942708015441895,
          -1.9513133764266968,
          11.31467342376709,
          12.74353313446045,
          6.3335466384887695,
          9.578827857971191,
          14.191405296325684,
          12.011250495910645,
          15.268827438354492,
          -1.95133638381958,
          10.583779335021973,
          8.330283164978027,
          11.97159481048584,
          4.097311973571777,
          8.25445556640625,
          -3.2629218101501465,
          12.834725379943848,
          13.439008712768555,
          6.885647296905518,
          10.970579147338867,
          -3.2359859943389893,
          8.91910171508789,
          4.636585712432861,
          15.671174049377441,
          14.514784812927246,
          15.671298027038574,
          9.679344177246094,
          10.24799919128418
         ],
         "yaxis": "y"
        },
        {
         "hovertemplate": "high_level_substr=galactan<br>0=%{x}<br>1=%{y}<extra></extra>",
         "legendgroup": "galactan",
         "marker": {
          "color": "#B6E880",
          "size": 9,
          "symbol": "circle"
         },
         "mode": "markers",
         "name": "galactan",
         "orientation": "v",
         "showlegend": true,
         "type": "scatter",
         "x": [
          -9.551006317138672,
          5.250968933105469,
          -5.728499889373779,
          -4.228440284729004,
          -5.108933448791504,
          1.1071513891220093,
          6.790046691894531,
          -0.08749482035636902,
          -12.144000053405762,
          7.748061180114746,
          -2.4393374919891357,
          -4.201462745666504,
          -3.2125604152679443,
          7.04780912399292,
          -2.49015474319458,
          -18.958786010742188,
          -4.839812278747559,
          2.5033812522888184,
          1.6210435628890991,
          -5.133240222930908,
          -15.874319076538086,
          -15.985017776489258,
          -12.221692085266113,
          -5.786690711975098,
          -15.033920288085938,
          -8.400167465209961,
          5.240410804748535,
          -15.091196060180664,
          -12.607687950134277,
          -4.642148494720459,
          4.4854960441589355,
          -3.655700206756592,
          -15.677960395812988,
          7.748061180114746,
          -21.283811569213867,
          3.16479229927063
         ],
         "xaxis": "x",
         "y": [
          -19.211238861083984,
          -34.48448181152344,
          -13.638145446777344,
          -19.52193260192871,
          -23.639883041381836,
          -24.354610443115234,
          -35.15220642089844,
          -23.846281051635742,
          11.807971954345703,
          -33.702430725097656,
          -26.112581253051758,
          -25.09864616394043,
          -24.471681594848633,
          -33.80147171020508,
          -26.584867477416992,
          6.216872692108154,
          -6.2406463623046875,
          -23.789318084716797,
          -25.029644012451172,
          1.6154030561447144,
          11.830204963684082,
          12.634976387023926,
          -14.521932601928711,
          -22.496002197265625,
          -17.826921463012695,
          4.47620964050293,
          -34.947052001953125,
          -19.586545944213867,
          8.73921012878418,
          7.55870246887207,
          -4.392773151397705,
          2.3298099040985107,
          17.078989028930664,
          -33.702430725097656,
          6.650144100189209,
          -23.550003051757812
         ],
         "yaxis": "y"
        },
        {
         "hovertemplate": "high_level_substr=alpha-glucan<br>0=%{x}<br>1=%{y}<extra></extra>",
         "legendgroup": "alpha-glucan",
         "marker": {
          "color": "#FF97FF",
          "size": 9,
          "symbol": "circle"
         },
         "mode": "markers",
         "name": "alpha-glucan",
         "orientation": "v",
         "showlegend": true,
         "type": "scatter",
         "x": [
          27.478660583496094,
          3.7658774852752686,
          -5.078050136566162,
          -2.0962769985198975,
          -7.53938627243042,
          16.73874855041504,
          -9.365041732788086,
          -4.932106018066406,
          -11.5289888381958,
          1.696191430091858,
          -13.87124252319336,
          -12.456544876098633,
          -7.058375835418701,
          -12.494157791137695,
          -15.785775184631348,
          -12.386178970336914,
          -6.864452362060547,
          9.922865867614746,
          20.34163475036621,
          -6.24122953414917,
          27.328317642211914,
          -7.572893142700195,
          2.97524094581604
         ],
         "xaxis": "x",
         "y": [
          1.976090669631958,
          -16.094905853271484,
          15.36929702758789,
          -23.844907760620117,
          1.0067768096923828,
          0.31396177411079407,
          -21.365625381469727,
          -25.919387817382812,
          -21.922992706298828,
          -15.641207695007324,
          -19.8199520111084,
          25.1748104095459,
          31.21118927001953,
          23.205244064331055,
          23.30394744873047,
          23.915468215942383,
          -23.781402587890625,
          -32.628143310546875,
          -13.647294998168945,
          -18.120973587036133,
          1.9447451829910278,
          1.228901743888855,
          -16.502559661865234
         ],
         "yaxis": "y"
        },
        {
         "hovertemplate": "high_level_substr=beta-mannan<br>0=%{x}<br>1=%{y}<extra></extra>",
         "legendgroup": "beta-mannan",
         "marker": {
          "color": "#FECB52",
          "size": 9,
          "symbol": "circle"
         },
         "mode": "markers",
         "name": "beta-mannan",
         "orientation": "v",
         "showlegend": true,
         "type": "scatter",
         "x": [
          0.5957655906677246,
          3.804854393005371,
          -21.348411560058594,
          -3.684666633605957,
          -20.41200065612793,
          -19.485403060913086,
          -19.5528564453125,
          -22.721572875976562,
          -19.55293083190918,
          -2.2093238830566406,
          -4.585107803344727,
          -22.487506866455078,
          -22.847103118896484,
          3.797978639602661,
          -14.003387451171875,
          -19.500764846801758,
          -8.200187683105469,
          -25.530994415283203,
          4.057860374450684
         ],
         "xaxis": "x",
         "y": [
          -18.211828231811523,
          -21.56656837463379,
          22.38927459716797,
          3.825624704360962,
          16.35133171081543,
          15.383646965026855,
          13.4794282913208,
          20.294191360473633,
          13.478798866271973,
          2.998105525970459,
          -5.390391826629639,
          -11.040070533752441,
          11.827836036682129,
          -16.787612915039062,
          8.708109855651855,
          15.586028099060059,
          -12.820924758911133,
          -10.426876068115234,
          -33.34305191040039
         ],
         "yaxis": "y"
        },
        {
         "hovertemplate": "high_level_substr=cellulose<br>0=%{x}<br>1=%{y}<extra></extra>",
         "legendgroup": "cellulose",
         "marker": {
          "color": "#636efa",
          "size": 9,
          "symbol": "circle"
         },
         "mode": "markers",
         "name": "cellulose",
         "orientation": "v",
         "showlegend": true,
         "type": "scatter",
         "x": [
          -0.7948262691497803,
          -2.490604877471924,
          -1.59006667137146,
          -2.9316091537475586,
          -24.786869049072266,
          17.65489387512207,
          -1.778700828552246,
          -7.727844715118408,
          -16.086471557617188,
          -13.728446006774902,
          -3.455667734146118,
          -3.6636648178100586,
          -16.879911422729492,
          -13.167651176452637,
          -16.361316680908203,
          -16.347230911254883,
          18.922168731689453,
          -1.8811064958572388
         ],
         "xaxis": "x",
         "y": [
          12.20676040649414,
          12.143601417541504,
          12.478169441223145,
          14.15807819366455,
          21.936912536621094,
          -12.253496170043945,
          14.241180419921875,
          15.408361434936523,
          24.576221466064453,
          28.21259880065918,
          14.218205451965332,
          4.491084098815918,
          22.113567352294922,
          10.994900703430176,
          21.78866195678711,
          9.917699813842773,
          9.846034049987793,
          12.289344787597656
         ],
         "yaxis": "y"
        },
        {
         "hovertemplate": "high_level_substr=chitin<br>0=%{x}<br>1=%{y}<extra></extra>",
         "legendgroup": "chitin",
         "marker": {
          "color": "#EF553B",
          "size": 9,
          "symbol": "circle"
         },
         "mode": "markers",
         "name": "chitin",
         "orientation": "v",
         "showlegend": true,
         "type": "scatter",
         "x": [
          -12.818359375,
          -0.8557416200637817,
          2.1094300746917725,
          6.516604900360107,
          3.9954535961151123,
          6.698019504547119,
          1.7913107872009277,
          2.633867025375366,
          -21.713741302490234,
          2.8196892738342285,
          1.916829228401184,
          2.1094300746917725,
          -22.594789505004883,
          -19.914838790893555,
          -15.131547927856445
         ],
         "xaxis": "x",
         "y": [
          -16.19622802734375,
          -20.733394622802734,
          9.941015243530273,
          -13.716962814331055,
          -1.494316816329956,
          -21.69688606262207,
          -3.626415967941284,
          -6.400655269622803,
          -14.132505416870117,
          -6.186095237731934,
          10.139104843139648,
          9.941015243530273,
          -12.264628410339355,
          27.410337448120117,
          -18.665346145629883
         ],
         "yaxis": "y"
        },
        {
         "hovertemplate": "high_level_substr=glycosaminoglycan<br>0=%{x}<br>1=%{y}<extra></extra>",
         "legendgroup": "glycosaminoglycan",
         "marker": {
          "color": "#00cc96",
          "size": 9,
          "symbol": "circle"
         },
         "mode": "markers",
         "name": "glycosaminoglycan",
         "orientation": "v",
         "showlegend": true,
         "type": "scatter",
         "x": [
          5.658874034881592,
          13.00860595703125,
          14.25979995727539,
          14.33560562133789,
          3.4669129848480225,
          4.079717636108398,
          23.20644760131836,
          22.40592384338379,
          -8.907835960388184,
          -16.34473991394043,
          14.801871299743652,
          23.714080810546875,
          25.775800704956055,
          25.780742645263672
         ],
         "xaxis": "x",
         "y": [
          -27.274816513061523,
          -18.502073287963867,
          -17.624961853027344,
          -18.283794403076172,
          -7.935615539550781,
          -7.036556243896484,
          -14.147686958312988,
          -12.044147491455078,
          30.554370880126953,
          31.17267608642578,
          -10.950241088867188,
          -13.919610023498535,
          -13.107101440429688,
          -13.098050117492676
         ],
         "yaxis": "y"
        },
        {
         "hovertemplate": "high_level_substr=beta-glucan <br>0=%{x}<br>1=%{y}<extra></extra>",
         "legendgroup": "beta-glucan ",
         "marker": {
          "color": "#ab63fa",
          "size": 9,
          "symbol": "circle"
         },
         "mode": "markers",
         "name": "beta-glucan ",
         "orientation": "v",
         "showlegend": true,
         "type": "scatter",
         "x": [
          -28.64252471923828,
          -14.811254501342773,
          -14.711588859558105,
          -10.16386604309082,
          -13.125893592834473,
          -17.483394622802734,
          8.572216033935547,
          -0.5560958981513977,
          -10.943221092224121,
          -17.48296546936035,
          -14.711959838867188,
          -13.831613540649414,
          -11.500402450561523
         ],
         "xaxis": "x",
         "y": [
          15.55618953704834,
          12.002859115600586,
          13.343608856201172,
          -16.90688705444336,
          26.630502700805664,
          24.706222534179688,
          -5.0795698165893555,
          -17.905120849609375,
          21.923370361328125,
          24.706621170043945,
          13.34497356414795,
          14.341461181640625,
          20.28216552734375
         ],
         "yaxis": "y"
        },
        {
         "hovertemplate": "high_level_substr=N-glycan<br>0=%{x}<br>1=%{y}<extra></extra>",
         "legendgroup": "N-glycan",
         "marker": {
          "color": "#FFA15A",
          "size": 9,
          "symbol": "circle"
         },
         "mode": "markers",
         "name": "N-glycan",
         "orientation": "v",
         "showlegend": true,
         "type": "scatter",
         "x": [
          -25.686887741088867,
          20.107206344604492,
          -0.6580802202224731,
          -2.99556827545166,
          12.072712898254395,
          -24.71466827392578,
          -20.36882781982422,
          13.347123146057129,
          -23.96303367614746,
          -12.903973579406738,
          -7.252845287322998,
          12.117045402526855
         ],
         "xaxis": "x",
         "y": [
          20.084135055541992,
          -2.127777099609375,
          -5.469232082366943,
          16.062145233154297,
          -4.848816394805908,
          20.369449615478516,
          -11.56061840057373,
          -18.135696411132812,
          19.71208953857422,
          25.81266212463379,
          8.795562744140625,
          -4.47482967376709
         ],
         "yaxis": "y"
        },
        {
         "hovertemplate": "high_level_substr=exopolysaccharide<br>0=%{x}<br>1=%{y}<extra></extra>",
         "legendgroup": "exopolysaccharide",
         "marker": {
          "color": "#19d3f3",
          "size": 9,
          "symbol": "circle"
         },
         "mode": "markers",
         "name": "exopolysaccharide",
         "orientation": "v",
         "showlegend": true,
         "type": "scatter",
         "x": [
          25.4190616607666,
          28.64149284362793,
          -16.95836639404297,
          -7.058375358581543,
          -12.99862003326416,
          25.938220977783203,
          17.23715591430664,
          24.971210479736328,
          21.538602828979492,
          31.685853958129883
         ],
         "xaxis": "x",
         "y": [
          10.6075439453125,
          14.11575698852539,
          27.76982307434082,
          31.211179733276367,
          24.842397689819336,
          13.035135269165039,
          -18.684406280517578,
          4.496071815490723,
          -11.569746971130371,
          15.359743118286133
         ],
         "yaxis": "y"
        },
        {
         "hovertemplate": "high_level_substr=-<br>0=%{x}<br>1=%{y}<extra></extra>",
         "legendgroup": "-",
         "marker": {
          "color": "#FF6692",
          "size": 9,
          "symbol": "circle"
         },
         "mode": "markers",
         "name": "-",
         "orientation": "v",
         "showlegend": true,
         "type": "scatter",
         "x": [
          23.362812042236328,
          -11.149263381958008,
          -23.32174301147461,
          14.804230690002441,
          14.496458053588867,
          4.792970180511475,
          -8.327105522155762,
          13.697932243347168,
          16.395238876342773
         ],
         "xaxis": "x",
         "y": [
          13.72188663482666,
          -14.661470413208008,
          -15.630488395690918,
          1.6230303049087524,
          1.3082524538040161,
          -11.269862174987793,
          -18.720670700073242,
          2.528984308242798,
          0.17111536860466003
         ],
         "yaxis": "y"
        },
        {
         "hovertemplate": "high_level_substr=fructan<br>0=%{x}<br>1=%{y}<extra></extra>",
         "legendgroup": "fructan",
         "marker": {
          "color": "#B6E880",
          "size": 9,
          "symbol": "circle"
         },
         "mode": "markers",
         "name": "fructan",
         "orientation": "v",
         "showlegend": true,
         "type": "scatter",
         "x": [
          -11.656745910644531,
          -2.174201011657715,
          -10.404179573059082,
          5.741960048675537,
          -0.7697689533233643,
          -0.7697689533233643,
          -23.984346389770508,
          -0.41026490926742554
         ],
         "xaxis": "x",
         "y": [
          4.055446147918701,
          -21.698488235473633,
          26.498764038085938,
          -31.737760543823242,
          -25.384990692138672,
          -25.384990692138672,
          12.104557037353516,
          7.208488464355469
         ],
         "yaxis": "y"
        },
        {
         "hovertemplate": "high_level_substr=alpha-mannan<br>0=%{x}<br>1=%{y}<extra></extra>",
         "legendgroup": "alpha-mannan",
         "marker": {
          "color": "#FF97FF",
          "size": 9,
          "symbol": "circle"
         },
         "mode": "markers",
         "name": "alpha-mannan",
         "orientation": "v",
         "showlegend": true,
         "type": "scatter",
         "x": [
          -16.2391414642334,
          -19.142541885375977,
          -18.05164337158203,
          -20.704219818115234,
          -6.60111141204834,
          -20.704219818115234,
          -18.415096282958984,
          -19.192895889282227
         ],
         "xaxis": "x",
         "y": [
          4.173475742340088,
          17.31484031677246,
          30.374431610107422,
          18.805498123168945,
          11.459426879882812,
          18.805498123168945,
          30.08486557006836,
          17.87353515625
         ],
         "yaxis": "y"
        },
        {
         "hovertemplate": "high_level_substr=host glycan<br>0=%{x}<br>1=%{y}<extra></extra>",
         "legendgroup": "host glycan",
         "marker": {
          "color": "#FECB52",
          "size": 9,
          "symbol": "circle"
         },
         "mode": "markers",
         "name": "host glycan",
         "orientation": "v",
         "showlegend": true,
         "type": "scatter",
         "x": [
          18.30683135986328,
          -10.58061408996582,
          -12.063346862792969,
          12.44768238067627,
          -24.459064483642578,
          -18.016096115112305,
          3.710270881652832
         ],
         "xaxis": "x",
         "y": [
          -14.114930152893066,
          29.144636154174805,
          26.975357055664062,
          -10.765103340148926,
          18.24847412109375,
          15.856794357299805,
          -5.068164348602295
         ],
         "yaxis": "y"
        },
        {
         "hovertemplate": "high_level_substr=xyloglucan<br>0=%{x}<br>1=%{y}<extra></extra>",
         "legendgroup": "xyloglucan",
         "marker": {
          "color": "#636efa",
          "size": 9,
          "symbol": "circle"
         },
         "mode": "markers",
         "name": "xyloglucan",
         "orientation": "v",
         "showlegend": true,
         "type": "scatter",
         "x": [
          -13.967753410339355,
          -4.42904806137085,
          -14.482034683227539,
          -13.911796569824219,
          -14.482034683227539,
          -17.008941650390625,
          -13.16256332397461
         ],
         "xaxis": "x",
         "y": [
          17.243202209472656,
          8.960003852844238,
          15.885668754577637,
          16.705644607543945,
          15.885668754577637,
          23.268404006958008,
          16.029014587402344
         ],
         "yaxis": "y"
        },
        {
         "hovertemplate": "high_level_substr=plant polysaccharide<br>0=%{x}<br>1=%{y}<extra></extra>",
         "legendgroup": "plant polysaccharide",
         "marker": {
          "color": "#EF553B",
          "size": 9,
          "symbol": "circle"
         },
         "mode": "markers",
         "name": "plant polysaccharide",
         "orientation": "v",
         "showlegend": true,
         "type": "scatter",
         "x": [
          7.821466445922852,
          7.8341546058654785,
          16.311519622802734,
          -7.723735809326172,
          -12.79504108428955,
          -12.434645652770996
         ],
         "xaxis": "x",
         "y": [
          -8.129257202148438,
          -8.197298049926758,
          -8.492268562316895,
          6.763463020324707,
          27.217784881591797,
          27.679067611694336
         ],
         "yaxis": "y"
        },
        {
         "hovertemplate": "high_level_substr=glycoprotein<br>0=%{x}<br>1=%{y}<extra></extra>",
         "legendgroup": "glycoprotein",
         "marker": {
          "color": "#00cc96",
          "size": 9,
          "symbol": "circle"
         },
         "mode": "markers",
         "name": "glycoprotein",
         "orientation": "v",
         "showlegend": true,
         "type": "scatter",
         "x": [
          6.335996150970459,
          -16.34473991394043,
          12.495570182800293,
          12.165933609008789,
          -19.11290168762207,
          -6.574730396270752
         ],
         "xaxis": "x",
         "y": [
          -12.726076126098633,
          31.17267608642578,
          -4.465424537658691,
          -6.349196910858154,
          19.609350204467773,
          7.3746137619018555
         ],
         "yaxis": "y"
        },
        {
         "hovertemplate": "high_level_substr=human milk oligosaccharide<br>0=%{x}<br>1=%{y}<extra></extra>",
         "legendgroup": "human milk oligosaccharide",
         "marker": {
          "color": "#ab63fa",
          "size": 9,
          "symbol": "circle"
         },
         "mode": "markers",
         "name": "human milk oligosaccharide",
         "orientation": "v",
         "showlegend": true,
         "type": "scatter",
         "x": [
          14.317697525024414,
          2.5379841327667236,
          -3.079383134841919,
          -10.69461441040039,
          -7.55417013168335
         ],
         "xaxis": "x",
         "y": [
          -19.980770111083984,
          -23.07792091369629,
          -16.368934631347656,
          -16.156070709228516,
          -12.509231567382812
         ],
         "yaxis": "y"
        },
        {
         "hovertemplate": "high_level_substr=hemicellulose<br>0=%{x}<br>1=%{y}<extra></extra>",
         "legendgroup": "hemicellulose",
         "marker": {
          "color": "#FFA15A",
          "size": 9,
          "symbol": "circle"
         },
         "mode": "markers",
         "name": "hemicellulose",
         "orientation": "v",
         "showlegend": true,
         "type": "scatter",
         "x": [
          -4.228440284729004,
          5.442681312561035,
          -3.493305206298828,
          -18.3992862701416,
          -14.63260555267334
         ],
         "xaxis": "x",
         "y": [
          -19.52193260192871,
          2.8988707065582275,
          14.802180290222168,
          12.217150688171387,
          14.80674934387207
         ],
         "yaxis": "y"
        },
        {
         "hovertemplate": "high_level_substr=O-glycan<br>0=%{x}<br>1=%{y}<extra></extra>",
         "legendgroup": "O-glycan",
         "marker": {
          "color": "#19d3f3",
          "size": 9,
          "symbol": "circle"
         },
         "mode": "markers",
         "name": "O-glycan",
         "orientation": "v",
         "showlegend": true,
         "type": "scatter",
         "x": [
          39.7690315246582,
          40.613704681396484,
          39.878997802734375
         ],
         "xaxis": "x",
         "y": [
          7.11727237701416,
          7.485137939453125,
          7.883275508880615
         ],
         "yaxis": "y"
        }
       ],
       "layout": {
        "legend": {
         "title": {
          "text": "high_level_substr"
         },
         "tracegroupgap": 0
        },
        "margin": {
         "t": 60
        },
        "template": {
         "data": {
          "bar": [
           {
            "error_x": {
             "color": "#2a3f5f"
            },
            "error_y": {
             "color": "#2a3f5f"
            },
            "marker": {
             "line": {
              "color": "#E5ECF6",
              "width": 0.5
             },
             "pattern": {
              "fillmode": "overlay",
              "size": 10,
              "solidity": 0.2
             }
            },
            "type": "bar"
           }
          ],
          "barpolar": [
           {
            "marker": {
             "line": {
              "color": "#E5ECF6",
              "width": 0.5
             },
             "pattern": {
              "fillmode": "overlay",
              "size": 10,
              "solidity": 0.2
             }
            },
            "type": "barpolar"
           }
          ],
          "carpet": [
           {
            "aaxis": {
             "endlinecolor": "#2a3f5f",
             "gridcolor": "white",
             "linecolor": "white",
             "minorgridcolor": "white",
             "startlinecolor": "#2a3f5f"
            },
            "baxis": {
             "endlinecolor": "#2a3f5f",
             "gridcolor": "white",
             "linecolor": "white",
             "minorgridcolor": "white",
             "startlinecolor": "#2a3f5f"
            },
            "type": "carpet"
           }
          ],
          "choropleth": [
           {
            "colorbar": {
             "outlinewidth": 0,
             "ticks": ""
            },
            "type": "choropleth"
           }
          ],
          "contour": [
           {
            "colorbar": {
             "outlinewidth": 0,
             "ticks": ""
            },
            "colorscale": [
             [
              0,
              "#0d0887"
             ],
             [
              0.1111111111111111,
              "#46039f"
             ],
             [
              0.2222222222222222,
              "#7201a8"
             ],
             [
              0.3333333333333333,
              "#9c179e"
             ],
             [
              0.4444444444444444,
              "#bd3786"
             ],
             [
              0.5555555555555556,
              "#d8576b"
             ],
             [
              0.6666666666666666,
              "#ed7953"
             ],
             [
              0.7777777777777778,
              "#fb9f3a"
             ],
             [
              0.8888888888888888,
              "#fdca26"
             ],
             [
              1,
              "#f0f921"
             ]
            ],
            "type": "contour"
           }
          ],
          "contourcarpet": [
           {
            "colorbar": {
             "outlinewidth": 0,
             "ticks": ""
            },
            "type": "contourcarpet"
           }
          ],
          "heatmap": [
           {
            "colorbar": {
             "outlinewidth": 0,
             "ticks": ""
            },
            "colorscale": [
             [
              0,
              "#0d0887"
             ],
             [
              0.1111111111111111,
              "#46039f"
             ],
             [
              0.2222222222222222,
              "#7201a8"
             ],
             [
              0.3333333333333333,
              "#9c179e"
             ],
             [
              0.4444444444444444,
              "#bd3786"
             ],
             [
              0.5555555555555556,
              "#d8576b"
             ],
             [
              0.6666666666666666,
              "#ed7953"
             ],
             [
              0.7777777777777778,
              "#fb9f3a"
             ],
             [
              0.8888888888888888,
              "#fdca26"
             ],
             [
              1,
              "#f0f921"
             ]
            ],
            "type": "heatmap"
           }
          ],
          "heatmapgl": [
           {
            "colorbar": {
             "outlinewidth": 0,
             "ticks": ""
            },
            "colorscale": [
             [
              0,
              "#0d0887"
             ],
             [
              0.1111111111111111,
              "#46039f"
             ],
             [
              0.2222222222222222,
              "#7201a8"
             ],
             [
              0.3333333333333333,
              "#9c179e"
             ],
             [
              0.4444444444444444,
              "#bd3786"
             ],
             [
              0.5555555555555556,
              "#d8576b"
             ],
             [
              0.6666666666666666,
              "#ed7953"
             ],
             [
              0.7777777777777778,
              "#fb9f3a"
             ],
             [
              0.8888888888888888,
              "#fdca26"
             ],
             [
              1,
              "#f0f921"
             ]
            ],
            "type": "heatmapgl"
           }
          ],
          "histogram": [
           {
            "marker": {
             "pattern": {
              "fillmode": "overlay",
              "size": 10,
              "solidity": 0.2
             }
            },
            "type": "histogram"
           }
          ],
          "histogram2d": [
           {
            "colorbar": {
             "outlinewidth": 0,
             "ticks": ""
            },
            "colorscale": [
             [
              0,
              "#0d0887"
             ],
             [
              0.1111111111111111,
              "#46039f"
             ],
             [
              0.2222222222222222,
              "#7201a8"
             ],
             [
              0.3333333333333333,
              "#9c179e"
             ],
             [
              0.4444444444444444,
              "#bd3786"
             ],
             [
              0.5555555555555556,
              "#d8576b"
             ],
             [
              0.6666666666666666,
              "#ed7953"
             ],
             [
              0.7777777777777778,
              "#fb9f3a"
             ],
             [
              0.8888888888888888,
              "#fdca26"
             ],
             [
              1,
              "#f0f921"
             ]
            ],
            "type": "histogram2d"
           }
          ],
          "histogram2dcontour": [
           {
            "colorbar": {
             "outlinewidth": 0,
             "ticks": ""
            },
            "colorscale": [
             [
              0,
              "#0d0887"
             ],
             [
              0.1111111111111111,
              "#46039f"
             ],
             [
              0.2222222222222222,
              "#7201a8"
             ],
             [
              0.3333333333333333,
              "#9c179e"
             ],
             [
              0.4444444444444444,
              "#bd3786"
             ],
             [
              0.5555555555555556,
              "#d8576b"
             ],
             [
              0.6666666666666666,
              "#ed7953"
             ],
             [
              0.7777777777777778,
              "#fb9f3a"
             ],
             [
              0.8888888888888888,
              "#fdca26"
             ],
             [
              1,
              "#f0f921"
             ]
            ],
            "type": "histogram2dcontour"
           }
          ],
          "mesh3d": [
           {
            "colorbar": {
             "outlinewidth": 0,
             "ticks": ""
            },
            "type": "mesh3d"
           }
          ],
          "parcoords": [
           {
            "line": {
             "colorbar": {
              "outlinewidth": 0,
              "ticks": ""
             }
            },
            "type": "parcoords"
           }
          ],
          "pie": [
           {
            "automargin": true,
            "type": "pie"
           }
          ],
          "scatter": [
           {
            "marker": {
             "colorbar": {
              "outlinewidth": 0,
              "ticks": ""
             }
            },
            "type": "scatter"
           }
          ],
          "scatter3d": [
           {
            "line": {
             "colorbar": {
              "outlinewidth": 0,
              "ticks": ""
             }
            },
            "marker": {
             "colorbar": {
              "outlinewidth": 0,
              "ticks": ""
             }
            },
            "type": "scatter3d"
           }
          ],
          "scattercarpet": [
           {
            "marker": {
             "colorbar": {
              "outlinewidth": 0,
              "ticks": ""
             }
            },
            "type": "scattercarpet"
           }
          ],
          "scattergeo": [
           {
            "marker": {
             "colorbar": {
              "outlinewidth": 0,
              "ticks": ""
             }
            },
            "type": "scattergeo"
           }
          ],
          "scattergl": [
           {
            "marker": {
             "colorbar": {
              "outlinewidth": 0,
              "ticks": ""
             }
            },
            "type": "scattergl"
           }
          ],
          "scattermapbox": [
           {
            "marker": {
             "colorbar": {
              "outlinewidth": 0,
              "ticks": ""
             }
            },
            "type": "scattermapbox"
           }
          ],
          "scatterpolar": [
           {
            "marker": {
             "colorbar": {
              "outlinewidth": 0,
              "ticks": ""
             }
            },
            "type": "scatterpolar"
           }
          ],
          "scatterpolargl": [
           {
            "marker": {
             "colorbar": {
              "outlinewidth": 0,
              "ticks": ""
             }
            },
            "type": "scatterpolargl"
           }
          ],
          "scatterternary": [
           {
            "marker": {
             "colorbar": {
              "outlinewidth": 0,
              "ticks": ""
             }
            },
            "type": "scatterternary"
           }
          ],
          "surface": [
           {
            "colorbar": {
             "outlinewidth": 0,
             "ticks": ""
            },
            "colorscale": [
             [
              0,
              "#0d0887"
             ],
             [
              0.1111111111111111,
              "#46039f"
             ],
             [
              0.2222222222222222,
              "#7201a8"
             ],
             [
              0.3333333333333333,
              "#9c179e"
             ],
             [
              0.4444444444444444,
              "#bd3786"
             ],
             [
              0.5555555555555556,
              "#d8576b"
             ],
             [
              0.6666666666666666,
              "#ed7953"
             ],
             [
              0.7777777777777778,
              "#fb9f3a"
             ],
             [
              0.8888888888888888,
              "#fdca26"
             ],
             [
              1,
              "#f0f921"
             ]
            ],
            "type": "surface"
           }
          ],
          "table": [
           {
            "cells": {
             "fill": {
              "color": "#EBF0F8"
             },
             "line": {
              "color": "white"
             }
            },
            "header": {
             "fill": {
              "color": "#C8D4E3"
             },
             "line": {
              "color": "white"
             }
            },
            "type": "table"
           }
          ]
         },
         "layout": {
          "annotationdefaults": {
           "arrowcolor": "#2a3f5f",
           "arrowhead": 0,
           "arrowwidth": 1
          },
          "autotypenumbers": "strict",
          "coloraxis": {
           "colorbar": {
            "outlinewidth": 0,
            "ticks": ""
           }
          },
          "colorscale": {
           "diverging": [
            [
             0,
             "#8e0152"
            ],
            [
             0.1,
             "#c51b7d"
            ],
            [
             0.2,
             "#de77ae"
            ],
            [
             0.3,
             "#f1b6da"
            ],
            [
             0.4,
             "#fde0ef"
            ],
            [
             0.5,
             "#f7f7f7"
            ],
            [
             0.6,
             "#e6f5d0"
            ],
            [
             0.7,
             "#b8e186"
            ],
            [
             0.8,
             "#7fbc41"
            ],
            [
             0.9,
             "#4d9221"
            ],
            [
             1,
             "#276419"
            ]
           ],
           "sequential": [
            [
             0,
             "#0d0887"
            ],
            [
             0.1111111111111111,
             "#46039f"
            ],
            [
             0.2222222222222222,
             "#7201a8"
            ],
            [
             0.3333333333333333,
             "#9c179e"
            ],
            [
             0.4444444444444444,
             "#bd3786"
            ],
            [
             0.5555555555555556,
             "#d8576b"
            ],
            [
             0.6666666666666666,
             "#ed7953"
            ],
            [
             0.7777777777777778,
             "#fb9f3a"
            ],
            [
             0.8888888888888888,
             "#fdca26"
            ],
            [
             1,
             "#f0f921"
            ]
           ],
           "sequentialminus": [
            [
             0,
             "#0d0887"
            ],
            [
             0.1111111111111111,
             "#46039f"
            ],
            [
             0.2222222222222222,
             "#7201a8"
            ],
            [
             0.3333333333333333,
             "#9c179e"
            ],
            [
             0.4444444444444444,
             "#bd3786"
            ],
            [
             0.5555555555555556,
             "#d8576b"
            ],
            [
             0.6666666666666666,
             "#ed7953"
            ],
            [
             0.7777777777777778,
             "#fb9f3a"
            ],
            [
             0.8888888888888888,
             "#fdca26"
            ],
            [
             1,
             "#f0f921"
            ]
           ]
          },
          "colorway": [
           "#636efa",
           "#EF553B",
           "#00cc96",
           "#ab63fa",
           "#FFA15A",
           "#19d3f3",
           "#FF6692",
           "#B6E880",
           "#FF97FF",
           "#FECB52"
          ],
          "font": {
           "color": "#2a3f5f"
          },
          "geo": {
           "bgcolor": "white",
           "lakecolor": "white",
           "landcolor": "#E5ECF6",
           "showlakes": true,
           "showland": true,
           "subunitcolor": "white"
          },
          "hoverlabel": {
           "align": "left"
          },
          "hovermode": "closest",
          "mapbox": {
           "style": "light"
          },
          "paper_bgcolor": "white",
          "plot_bgcolor": "#E5ECF6",
          "polar": {
           "angularaxis": {
            "gridcolor": "white",
            "linecolor": "white",
            "ticks": ""
           },
           "bgcolor": "#E5ECF6",
           "radialaxis": {
            "gridcolor": "white",
            "linecolor": "white",
            "ticks": ""
           }
          },
          "scene": {
           "xaxis": {
            "backgroundcolor": "#E5ECF6",
            "gridcolor": "white",
            "gridwidth": 2,
            "linecolor": "white",
            "showbackground": true,
            "ticks": "",
            "zerolinecolor": "white"
           },
           "yaxis": {
            "backgroundcolor": "#E5ECF6",
            "gridcolor": "white",
            "gridwidth": 2,
            "linecolor": "white",
            "showbackground": true,
            "ticks": "",
            "zerolinecolor": "white"
           },
           "zaxis": {
            "backgroundcolor": "#E5ECF6",
            "gridcolor": "white",
            "gridwidth": 2,
            "linecolor": "white",
            "showbackground": true,
            "ticks": "",
            "zerolinecolor": "white"
           }
          },
          "shapedefaults": {
           "line": {
            "color": "#2a3f5f"
           }
          },
          "ternary": {
           "aaxis": {
            "gridcolor": "white",
            "linecolor": "white",
            "ticks": ""
           },
           "baxis": {
            "gridcolor": "white",
            "linecolor": "white",
            "ticks": ""
           },
           "bgcolor": "#E5ECF6",
           "caxis": {
            "gridcolor": "white",
            "linecolor": "white",
            "ticks": ""
           }
          },
          "title": {
           "x": 0.05
          },
          "xaxis": {
           "automargin": true,
           "gridcolor": "white",
           "linecolor": "white",
           "ticks": "",
           "title": {
            "standoff": 15
           },
           "zerolinecolor": "white",
           "zerolinewidth": 2
          },
          "yaxis": {
           "automargin": true,
           "gridcolor": "white",
           "linecolor": "white",
           "ticks": "",
           "title": {
            "standoff": 15
           },
           "zerolinecolor": "white",
           "zerolinewidth": 2
          }
         }
        },
        "xaxis": {
         "anchor": "y",
         "domain": [
          0,
          1
         ],
         "title": {
          "text": "0"
         }
        },
        "yaxis": {
         "anchor": "x",
         "domain": [
          0,
          1
         ],
         "title": {
          "text": "1"
         }
        }
       }
      },
      "text/html": [
       "<div>                            <div id=\"d3cd2195-15cd-402a-906a-dc4dcae92cd3\" class=\"plotly-graph-div\" style=\"height:525px; width:100%;\"></div>            <script type=\"text/javascript\">                require([\"plotly\"], function(Plotly) {                    window.PLOTLYENV=window.PLOTLYENV || {};                                    if (document.getElementById(\"d3cd2195-15cd-402a-906a-dc4dcae92cd3\")) {                    Plotly.newPlot(                        \"d3cd2195-15cd-402a-906a-dc4dcae92cd3\",                        [{\"hovertemplate\":\"high_level_substr=multiple_substrates<br>0=%{x}<br>1=%{y}<extra></extra>\",\"legendgroup\":\"multiple_substrates\",\"marker\":{\"color\":\"#636efa\",\"symbol\":\"circle\",\"size\":9},\"mode\":\"markers\",\"name\":\"multiple_substrates\",\"orientation\":\"v\",\"showlegend\":true,\"x\":[-25.56864356994629,-23.270341873168945,-22.73408317565918,-8.06686782836914,-22.262062072753906,-3.2134439945220947,-22.483844757080078,34.198829650878906,34.198829650878906,2.308835506439209,34.470237731933594,34.47024154663086,3.3255748748779297,-12.274359703063965,-6.453700542449951,-17.8577823638916,2.0468928813934326,-15.567706108093262,-16.42943572998047,-21.505191802978516,-21.729209899902344,1.4997973442077637,-2.6737616062164307,0.39860594272613525,5.70292329788208,5.543330192565918,0.18613630533218384,-2.115190029144287,-8.46406364440918,2.5823934078216553,3.1066572666168213,3.1068074703216553,-2.0714592933654785,-11.61901569366455,-11.657057762145996,12.965790748596191,-24.251487731933594,23.081253051757812,17.026460647583008,-14.485245704650879,3.48948073387146,-3.687943696975708,-0.8332933783531189,-25.054574966430664,-0.34563207626342773,0.5497295260429382,-13.561376571655273,4.183664321899414,23.37334442138672,2.031111717224121,-7.62177038192749,32.177833557128906,41.44101333618164,40.98670196533203,-9.244643211364746,-6.087433338165283,-28.642528533935547,-4.551027774810791,-9.786100387573242,1.5860329866409302,0.9202562570571899,-3.452458381652832,-2.954829216003418,0.9031136631965637,-9.442981719970703,19.014509201049805,0.18214508891105652,1.0045738220214844,13.080253601074219,9.459797859191895,-11.961688995361328,-13.117145538330078,12.889121055603027,6.924997806549072,-9.534698486328125,-10.947608947753906,-14.63440990447998,-13.656487464904785,13.65888500213623,13.51594352722168,-12.199050903320312,9.164080619812012,10.2955322265625,13.617806434631348,14.817585945129395,5.929316997528076,-9.363094329833984,-12.068880081176758,-15.52957534790039,-11.59140396118164,8.954532623291016,26.233295440673828,33.76643753051758,0.4318524897098541,11.636810302734375,-16.972448348999023,11.347227096557617,11.773365020751953,19.49912452697754,-14.619010925292969,1.7412735223770142,10.291994094848633,-12.497760772705078,-0.5466903448104858,-2.9005041122436523,-16.050708770751953,-3.3709447383880615,-15.195258140563965,-4.946249485015869,-12.45217514038086,-14.853458404541016,-3.6127099990844727,-6.887625217437744,4.8646016120910645,-13.687678337097168,-15.956446647644043,-16.107280731201172,-12.235941886901855,-19.886600494384766,-6.864452362060547,-21.383331298828125,-14.704632759094238,-12.693498611450195,0.4088677763938904,-11.25658130645752,-10.447986602783203,-3.2574353218078613,2.0094640254974365,7.442704677581787,7.442704677581787,5.929059028625488,-4.722599029541016,-12.65022087097168,2.893223762512207,8.169549942016602,3.9043829441070557,-2.3014633655548096,22.862293243408203,2.810213088989258],\"xaxis\":\"x\",\"y\":[-5.963451385498047,22.265409469604492,-13.258708000183105,-15.049314498901367,22.563879013061523,-10.677846908569336,14.859053611755371,0.14481142163276672,0.14481142163276672,-26.727310180664062,1.2940747737884521,1.2940748929977417,-24.956106185913086,-17.547367095947266,19.80201530456543,28.06965446472168,-1.3814822435379028,28.034639358520508,28.877302169799805,16.827678680419922,16.782304763793945,-7.160749435424805,-1.4384502172470093,0.17161643505096436,-10.509257316589355,-10.28407096862793,-0.5025090575218201,0.5376039147377014,-20.57358741760254,-11.487937927246094,-11.818915367126465,-11.819070816040039,0.4428040683269501,-17.99057388305664,20.248437881469727,-4.970694541931152,15.969402313232422,-17.01049041748047,-17.21879768371582,-17.074420928955078,-8.048941612243652,-23.769704818725586,-2.4697530269622803,11.421168327331543,1.7763622999191284,4.81437873840332,8.943222999572754,-19.32578468322754,11.395478248596191,-20.88068199157715,-16.37615966796875,6.867527484893799,12.70838451385498,12.066057205200195,27.0534610748291,8.855385780334473,15.55618953704834,4.76308536529541,0.2315039485692978,1.919221043586731,-1.9345115423202515,-5.461845397949219,-5.2249555587768555,-2.757694959640503,1.8574724197387695,-10.07358169555664,-21.273914337158203,-22.796010971069336,-3.286355495452881,-0.7335500717163086,13.178621292114258,10.242664337158203,-5.750730514526367,2.313565492630005,16.956422805786133,15.83642292022705,28.475284576416016,-18.028888702392578,-20.20058250427246,-19.063232421875,8.831588745117188,-0.20044896006584167,-4.617537021636963,-3.6052215099334717,1.636983036994934,-26.04645347595215,-15.333983421325684,-3.7291665077209473,29.22305679321289,4.157670497894287,-0.6116946935653687,8.207900047302246,8.425676345825195,-5.514338970184326,-5.6478776931762695,13.850700378417969,-3.155534029006958,-2.686471700668335,-12.262737274169922,24.646114349365234,-0.10488739609718323,-2.0198514461517334,18.62028694152832,-27.2695369720459,7.070500373840332,3.9550116062164307,-26.444828033447266,-11.622465133666992,1.2360211610794067,9.477266311645508,10.33577823638916,4.451487064361572,5.606569766998291,-6.557567596435547,19.343334197998047,14.858156204223633,24.137968063354492,14.797039985656738,13.428960800170898,-23.781402587890625,6.6665496826171875,-19.842851638793945,-16.383859634399414,-9.276540756225586,-22.269899368286133,-20.848125457763672,-25.922515869140625,-5.756800651550293,-27.075796127319336,-27.075796127319336,-26.046396255493164,10.92577838897705,-19.536075592041016,-24.969934463500977,-27.05463981628418,-33.9571533203125,-13.912111282348633,-15.882286071777344,-19.088964462280273],\"yaxis\":\"y\",\"type\":\"scatter\"},{\"hovertemplate\":\"high_level_substr=mono/di/trisaccharide<br>0=%{x}<br>1=%{y}<extra></extra>\",\"legendgroup\":\"mono/di/trisaccharide\",\"marker\":{\"color\":\"#EF553B\",\"symbol\":\"circle\",\"size\":9},\"mode\":\"markers\",\"name\":\"mono/di/trisaccharide\",\"orientation\":\"v\",\"showlegend\":true,\"x\":[23.616443634033203,-23.58296775817871,-3.443779468536377,-23.711761474609375,-25.496065139770508,14.347983360290527,6.171614646911621,7.499465465545654,6.493189811706543,-11.042285919189453,-26.33428955078125,9.651914596557617,-8.431045532226562,4.233104228973389,-22.59454917907715,-12.087028503417969,-3.4493770599365234,-5.256160736083984,2.454714775085449,-11.823724746704102,7.04780912399292,0.27521300315856934,1.9038138389587402,7.499465465545654,-9.231956481933594,-25.463096618652344,-24.65762710571289,-26.568815231323242,-25.463096618652344,-24.956806182861328,-26.572120666503906,-11.503218650817871,-6.963305473327637,-24.37947654724121,-26.402631759643555,-2.618224620819092,-28.532617568969727,-14.527536392211914,-7.308640003204346,-13.290306091308594,-20.583955764770508,-9.153854370117188,-8.503512382507324,-3.2559235095977783,1.6891469955444336,-23.834043502807617,-23.32852554321289,-23.347177505493164,-24.776878356933594,-8.621601104736328,6.171614646911621,8.010846138000488,-25.74026870727539,-25.74026870727539,7.591078758239746,6.951317310333252,-24.65762710571289,-7.479709148406982,-10.781159400939941,-8.965481758117676,11.019874572753906,6.982224464416504,-10.118343353271484,-1.7278813123703003,-24.1541805267334,-0.06773367524147034,-19.985055923461914,9.810556411743164,-23.38826560974121,8.099879264831543,-26.33428955078125,-5.38397216796875,-26.00986671447754,13.356877326965332,-2.7909765243530273,-24.379581451416016,-25.178447723388672,0.1507282853126526],\"xaxis\":\"x\",\"y\":[-11.332452774047852,-12.00550651550293,-16.688833236694336,-13.050948143005371,-9.830032348632812,-14.640765190124512,-32.542720794677734,-30.959836959838867,-30.5194091796875,-17.55080795288086,-5.788082122802734,-31.319700241088867,-4.772616863250732,-34.066062927246094,-12.264114379882812,-3.741027355194092,14.826692581176758,-15.437255859375,-17.565670013427734,-10.955540657043457,-33.80147171020508,-26.713260650634766,-21.23880958557129,-30.959836959838867,-21.333335876464844,-7.94766092300415,-9.780949592590332,20.02930450439453,-7.94766092300415,-10.477272033691406,20.129793167114258,-6.917984962463379,-21.068748474121094,-12.853765487670898,-12.113115310668945,-24.9111270904541,16.06450080871582,-18.811067581176758,-17.833534240722656,29.487524032592773,-11.640599250793457,-13.392375946044922,-16.118371963500977,-3.8750133514404297,-8.748844146728516,21.109926223754883,-10.771697044372559,-15.727265357971191,19.40256118774414,-4.673351287841797,-32.542720794677734,-32.01975631713867,-5.3156890869140625,-5.3156890869140625,-25.72161293029785,-32.004005432128906,-9.780949592590332,-5.578033924102783,-19.649368286132812,24.131799697875977,-4.056849002838135,-31.06820297241211,-14.069230079650879,-24.82539176940918,-11.761123657226562,-9.06196117401123,14.435771942138672,-0.14259913563728333,12.465707778930664,-26.69225311279297,-5.788082122802734,-21.851638793945312,-8.090091705322266,-21.273942947387695,-22.316570281982422,-12.853765487670898,23.171449661254883,16.26701545715332],\"yaxis\":\"y\",\"type\":\"scatter\"},{\"hovertemplate\":\"high_level_substr=capsule polysaccharide<br>0=%{x}<br>1=%{y}<extra></extra>\",\"legendgroup\":\"capsule polysaccharide\",\"marker\":{\"color\":\"#00cc96\",\"symbol\":\"circle\",\"size\":9},\"mode\":\"markers\",\"name\":\"capsule polysaccharide\",\"orientation\":\"v\",\"showlegend\":true,\"x\":[31.130977630615234,24.21038055419922,29.38240623474121,30.283472061157227,30.132585525512695,24.420183181762695,26.19563865661621,25.7326717376709,24.420259475708008,23.665782928466797,27.30934715270996,28.30949592590332,25.487781524658203,22.77756690979004,25.066694259643555,36.15327453613281,24.210168838500977,22.00182342529297,26.483312606811523,34.501251220703125,35.537109375,40.647056579589844,37.360267639160156,32.501644134521484,23.909093856811523,34.31496047973633,23.705421447753906,26.35433578491211,26.225378036499023,26.645959854125977,35.174415588378906,28.139944076538086,37.0162353515625,34.890628814697266,37.32149124145508,38.44774627685547,31.457788467407227,36.29344177246094,36.63142013549805,34.193138122558594,38.37516403198242,33.83625793457031,10.965913772583008,34.99045944213867,36.391639709472656,36.5114860534668,35.17123794555664,36.29344177246094,26.225378036499023,32.24111557006836,34.63235855102539,35.8343620300293,27.487110137939453,35.63481140136719,38.401371002197266,38.26369857788086,24.224040985107422,27.459609985351562,24.224040985107422,23.41330909729004],\"xaxis\":\"x\",\"y\":[13.153100967407227,17.533342361450195,13.238094329833984,11.160256385803223,13.621145248413086,14.45784854888916,11.593749046325684,11.889806747436523,14.457903861999512,15.217519760131836,13.632376670837402,13.403738975524902,16.42049789428711,17.467180252075195,8.810491561889648,8.62413501739502,12.489594459533691,-10.355584144592285,16.60304069519043,4.6323161125183105,12.954085350036621,6.3335466384887695,9.747176170349121,12.028740882873535,11.972979545593262,5.867391109466553,-10.605485916137695,9.518293380737305,17.36832618713379,10.503643035888672,8.204554557800293,8.934072494506836,11.26866340637207,9.994684219360352,8.111563682556152,11.503725051879883,12.21070384979248,10.64328384399414,6.162868499755859,11.810771942138672,8.972675323486328,13.140645027160645,-16.368118286132812,7.087253093719482,7.7369794845581055,12.319449424743652,11.91060733795166,10.64328384399414,17.36832618713379,10.664284706115723,12.937631607055664,6.496923446655273,9.462386131286621,9.600798606872559,7.818249702453613,10.675741195678711,16.54545021057129,15.438658714294434,16.54545021057129,16.493661880493164],\"yaxis\":\"y\",\"type\":\"scatter\"},{\"hovertemplate\":\"high_level_substr=algal glycans<br>0=%{x}<br>1=%{y}<extra></extra>\",\"legendgroup\":\"algal glycans\",\"marker\":{\"color\":\"#ab63fa\",\"symbol\":\"circle\",\"size\":9},\"mode\":\"markers\",\"name\":\"algal glycans\",\"orientation\":\"v\",\"showlegend\":true,\"x\":[20.20418357849121,11.425155639648438,17.421104431152344,18.28449058532715,19.548664093017578,12.193282127380371,16.06925392150879,-7.22926139831543,-6.940983295440674,-18.152385711669922,-11.150535583496094,17.142423629760742,18.227333068847656,16.062822341918945,-9.99903392791748,21.115564346313477,2.2788729667663574,-14.159849166870117,-17.938858032226562,-11.404388427734375,21.88336753845215,-6.8884196281433105,6.5931596755981445,22.731245040893555,20.05115509033203,17.662540435791016,18.98607063293457,0.4985804855823517,1.6004655361175537,1.2181332111358643,-5.882123947143555,-6.031303882598877,9.90334701538086,-16.3359432220459,7.377948760986328,2.6280059814453125,-5.836690425872803,0.6633211970329285,17.278202056884766,21.531156539916992],\"xaxis\":\"x\",\"y\":[-18.089902877807617,-15.404557228088379,-16.138059616088867,-17.536975860595703,-16.51412010192871,-15.185118675231934,-15.671038627624512,-3.8387792110443115,-2.3979241847991943,14.983065605163574,28.254257202148438,-16.063247680664062,-16.236398696899414,-17.704105377197266,-22.333829879760742,-16.516685485839844,-27.64680290222168,22.62750816345215,16.79708480834961,21.553302764892578,-16.924522399902344,-2.7405223846435547,3.5945072174072266,-18.089202880859375,-2.19209885597229,0.9519814848899841,-16.131135940551758,-15.189355850219727,-14.988472938537598,-27.730667114257812,-2.4573802947998047,-9.94016170501709,-17.06304931640625,16.981420516967773,-21.299898147583008,-0.6567106246948242,-9.961122512817383,-18.86307716369629,-14.684526443481445,-17.440988540649414],\"yaxis\":\"y\",\"type\":\"scatter\"},{\"hovertemplate\":\"high_level_substr=pectin<br>0=%{x}<br>1=%{y}<extra></extra>\",\"legendgroup\":\"pectin\",\"marker\":{\"color\":\"#FFA15A\",\"symbol\":\"circle\",\"size\":9},\"mode\":\"markers\",\"name\":\"pectin\",\"orientation\":\"v\",\"showlegend\":true,\"x\":[6.835512638092041,16.291484832763672,-10.793405532836914,18.440837860107422,12.179242134094238,11.420448303222656,10.829557418823242,-2.0363638401031494,-5.580907821655273,15.610350608825684,-6.802004337310791,-9.89374828338623,8.28496265411377,14.552359580993652,12.179242134094238,16.991962432861328,12.045703887939453,20.390796661376953,-23.499177932739258,-22.847890853881836,-1.3360151052474976,-17.196863174438477,-6.152848720550537,15.022318840026855,-1.8207721710205078,-14.543773651123047,-13.646180152893066,-2.357414722442627,-12.235910415649414,2.2599918842315674,-15.985090255737305,6.319097995758057,7.894163608551025,-13.560675621032715,7.7857770919799805,5.161024570465088,-12.283422470092773,-10.159096717834473],\"xaxis\":\"x\",\"y\":[-12.580426216125488,-8.482784271240234,-23.281373977661133,-15.574963569641113,-12.102593421936035,-12.204893112182617,-12.495094299316406,5.985714912414551,1.4153004884719849,-11.979241371154785,5.326338768005371,5.682342052459717,-11.8156099319458,-11.618514060974121,-12.102593421936035,-11.83582878112793,-12.744820594787598,-15.654593467712402,10.044096946716309,18.87765884399414,5.49256706237793,17.774919509887695,3.526254177093506,-11.650253295898438,4.537021636962891,22.31558609008789,8.283333778381348,4.912032604217529,14.79701042175293,1.6579225063323975,12.635058403015137,-2.2350194454193115,5.016138076782227,30.429121017456055,4.961610317230225,5.981440544128418,16.2614688873291,29.866165161132812],\"yaxis\":\"y\",\"type\":\"scatter\"},{\"hovertemplate\":\"high_level_substr=xylan<br>0=%{x}<br>1=%{y}<extra></extra>\",\"legendgroup\":\"xylan\",\"marker\":{\"color\":\"#19d3f3\",\"symbol\":\"circle\",\"size\":9},\"mode\":\"markers\",\"name\":\"xylan\",\"orientation\":\"v\",\"showlegend\":true,\"x\":[-8.986272811889648,-7.117653846740723,-10.367533683776855,-18.271451950073242,-11.07800006866455,-10.452465057373047,-4.223538875579834,-2.6066882610321045,-16.63158416748047,-6.291412353515625,-2.4855403900146484,-5.278294563293457,-18.229257583618164,-22.456083297729492,-9.363126754760742,-1.3751565217971802,-15.303600311279297,-3.9928996562957764,-16.187929153442383,-15.196209907531738,-3.6434905529022217,-9.6242094039917,-11.149263381958008,-9.222146034240723,-3.8755202293395996,-4.576018810272217,10.441353797912598,-19.71218490600586,-16.215871810913086,-10.588041305541992,-10.010820388793945,-11.087061882019043,-9.49923324584961,-20.18485450744629,1.6955487728118896,2.4357879161834717,-4.408994674682617,-3.9830901622772217],\"xaxis\":\"x\",\"y\":[16.89634895324707,-15.043174743652344,13.705284118652344,11.315617561340332,-8.055115699768066,12.537888526916504,-21.937517166137695,-19.749147415161133,21.00368309020996,2.3564741611480713,8.751978874206543,6.12744665145874,10.691192626953125,11.00279712677002,-20.046653747558594,-6.0541791915893555,18.84791374206543,-14.79443073272705,9.124408721923828,-11.735088348388672,-13.009474754333496,14.762335777282715,-14.661470413208008,-11.865070343017578,-17.045534133911133,-13.086613655090332,-2.7992823123931885,11.131136894226074,25.80361557006836,26.050046920776367,5.523548603057861,27.45555305480957,13.614625930786133,10.648162841796875,4.391288757324219,4.380629062652588,7.285910129547119,5.993096351623535],\"yaxis\":\"y\",\"type\":\"scatter\"},{\"hovertemplate\":\"high_level_substr=O-antigen<br>0=%{x}<br>1=%{y}<extra></extra>\",\"legendgroup\":\"O-antigen\",\"marker\":{\"color\":\"#FF6692\",\"symbol\":\"circle\",\"size\":9},\"mode\":\"markers\",\"name\":\"O-antigen\",\"orientation\":\"v\",\"showlegend\":true,\"x\":[40.808265686035156,25.275943756103516,40.647056579589844,34.955806732177734,37.91541290283203,24.788000106811523,24.954904556274414,20.35550880432129,31.40572738647461,25.770483016967773,31.07380485534668,41.58643341064453,40.612159729003906,40.647056579589844,27.049951553344727,36.019229888916016,41.867191314697266,34.955806732177734,31.073833465576172,28.27017593383789,32.96221160888672,40.048667907714844,34.283817291259766,40.687171936035156,30.437129974365234,37.17302703857422,32.451534271240234,26.810110092163086,31.4603214263916,30.464500427246094,37.52229690551758,33.64187240600586,21.925355911254883,26.905384063720703,21.925722122192383,31.948148727416992,40.60883712768555],\"xaxis\":\"x\",\"y\":[11.45036792755127,6.80820369720459,6.3335466384887695,15.268827438354492,6.923790454864502,6.698902130126953,5.348050117492676,14.051020622253418,-1.3484857082366943,13.942708015441895,-1.9513133764266968,11.31467342376709,12.74353313446045,6.3335466384887695,9.578827857971191,14.191405296325684,12.011250495910645,15.268827438354492,-1.95133638381958,10.583779335021973,8.330283164978027,11.97159481048584,4.097311973571777,8.25445556640625,-3.2629218101501465,12.834725379943848,13.439008712768555,6.885647296905518,10.970579147338867,-3.2359859943389893,8.91910171508789,4.636585712432861,15.671174049377441,14.514784812927246,15.671298027038574,9.679344177246094,10.24799919128418],\"yaxis\":\"y\",\"type\":\"scatter\"},{\"hovertemplate\":\"high_level_substr=galactan<br>0=%{x}<br>1=%{y}<extra></extra>\",\"legendgroup\":\"galactan\",\"marker\":{\"color\":\"#B6E880\",\"symbol\":\"circle\",\"size\":9},\"mode\":\"markers\",\"name\":\"galactan\",\"orientation\":\"v\",\"showlegend\":true,\"x\":[-9.551006317138672,5.250968933105469,-5.728499889373779,-4.228440284729004,-5.108933448791504,1.1071513891220093,6.790046691894531,-0.08749482035636902,-12.144000053405762,7.748061180114746,-2.4393374919891357,-4.201462745666504,-3.2125604152679443,7.04780912399292,-2.49015474319458,-18.958786010742188,-4.839812278747559,2.5033812522888184,1.6210435628890991,-5.133240222930908,-15.874319076538086,-15.985017776489258,-12.221692085266113,-5.786690711975098,-15.033920288085938,-8.400167465209961,5.240410804748535,-15.091196060180664,-12.607687950134277,-4.642148494720459,4.4854960441589355,-3.655700206756592,-15.677960395812988,7.748061180114746,-21.283811569213867,3.16479229927063],\"xaxis\":\"x\",\"y\":[-19.211238861083984,-34.48448181152344,-13.638145446777344,-19.52193260192871,-23.639883041381836,-24.354610443115234,-35.15220642089844,-23.846281051635742,11.807971954345703,-33.702430725097656,-26.112581253051758,-25.09864616394043,-24.471681594848633,-33.80147171020508,-26.584867477416992,6.216872692108154,-6.2406463623046875,-23.789318084716797,-25.029644012451172,1.6154030561447144,11.830204963684082,12.634976387023926,-14.521932601928711,-22.496002197265625,-17.826921463012695,4.47620964050293,-34.947052001953125,-19.586545944213867,8.73921012878418,7.55870246887207,-4.392773151397705,2.3298099040985107,17.078989028930664,-33.702430725097656,6.650144100189209,-23.550003051757812],\"yaxis\":\"y\",\"type\":\"scatter\"},{\"hovertemplate\":\"high_level_substr=alpha-glucan<br>0=%{x}<br>1=%{y}<extra></extra>\",\"legendgroup\":\"alpha-glucan\",\"marker\":{\"color\":\"#FF97FF\",\"symbol\":\"circle\",\"size\":9},\"mode\":\"markers\",\"name\":\"alpha-glucan\",\"orientation\":\"v\",\"showlegend\":true,\"x\":[27.478660583496094,3.7658774852752686,-5.078050136566162,-2.0962769985198975,-7.53938627243042,16.73874855041504,-9.365041732788086,-4.932106018066406,-11.5289888381958,1.696191430091858,-13.87124252319336,-12.456544876098633,-7.058375835418701,-12.494157791137695,-15.785775184631348,-12.386178970336914,-6.864452362060547,9.922865867614746,20.34163475036621,-6.24122953414917,27.328317642211914,-7.572893142700195,2.97524094581604],\"xaxis\":\"x\",\"y\":[1.976090669631958,-16.094905853271484,15.36929702758789,-23.844907760620117,1.0067768096923828,0.31396177411079407,-21.365625381469727,-25.919387817382812,-21.922992706298828,-15.641207695007324,-19.8199520111084,25.1748104095459,31.21118927001953,23.205244064331055,23.30394744873047,23.915468215942383,-23.781402587890625,-32.628143310546875,-13.647294998168945,-18.120973587036133,1.9447451829910278,1.228901743888855,-16.502559661865234],\"yaxis\":\"y\",\"type\":\"scatter\"},{\"hovertemplate\":\"high_level_substr=beta-mannan<br>0=%{x}<br>1=%{y}<extra></extra>\",\"legendgroup\":\"beta-mannan\",\"marker\":{\"color\":\"#FECB52\",\"symbol\":\"circle\",\"size\":9},\"mode\":\"markers\",\"name\":\"beta-mannan\",\"orientation\":\"v\",\"showlegend\":true,\"x\":[0.5957655906677246,3.804854393005371,-21.348411560058594,-3.684666633605957,-20.41200065612793,-19.485403060913086,-19.5528564453125,-22.721572875976562,-19.55293083190918,-2.2093238830566406,-4.585107803344727,-22.487506866455078,-22.847103118896484,3.797978639602661,-14.003387451171875,-19.500764846801758,-8.200187683105469,-25.530994415283203,4.057860374450684],\"xaxis\":\"x\",\"y\":[-18.211828231811523,-21.56656837463379,22.38927459716797,3.825624704360962,16.35133171081543,15.383646965026855,13.4794282913208,20.294191360473633,13.478798866271973,2.998105525970459,-5.390391826629639,-11.040070533752441,11.827836036682129,-16.787612915039062,8.708109855651855,15.586028099060059,-12.820924758911133,-10.426876068115234,-33.34305191040039],\"yaxis\":\"y\",\"type\":\"scatter\"},{\"hovertemplate\":\"high_level_substr=cellulose<br>0=%{x}<br>1=%{y}<extra></extra>\",\"legendgroup\":\"cellulose\",\"marker\":{\"color\":\"#636efa\",\"symbol\":\"circle\",\"size\":9},\"mode\":\"markers\",\"name\":\"cellulose\",\"orientation\":\"v\",\"showlegend\":true,\"x\":[-0.7948262691497803,-2.490604877471924,-1.59006667137146,-2.9316091537475586,-24.786869049072266,17.65489387512207,-1.778700828552246,-7.727844715118408,-16.086471557617188,-13.728446006774902,-3.455667734146118,-3.6636648178100586,-16.879911422729492,-13.167651176452637,-16.361316680908203,-16.347230911254883,18.922168731689453,-1.8811064958572388],\"xaxis\":\"x\",\"y\":[12.20676040649414,12.143601417541504,12.478169441223145,14.15807819366455,21.936912536621094,-12.253496170043945,14.241180419921875,15.408361434936523,24.576221466064453,28.21259880065918,14.218205451965332,4.491084098815918,22.113567352294922,10.994900703430176,21.78866195678711,9.917699813842773,9.846034049987793,12.289344787597656],\"yaxis\":\"y\",\"type\":\"scatter\"},{\"hovertemplate\":\"high_level_substr=chitin<br>0=%{x}<br>1=%{y}<extra></extra>\",\"legendgroup\":\"chitin\",\"marker\":{\"color\":\"#EF553B\",\"symbol\":\"circle\",\"size\":9},\"mode\":\"markers\",\"name\":\"chitin\",\"orientation\":\"v\",\"showlegend\":true,\"x\":[-12.818359375,-0.8557416200637817,2.1094300746917725,6.516604900360107,3.9954535961151123,6.698019504547119,1.7913107872009277,2.633867025375366,-21.713741302490234,2.8196892738342285,1.916829228401184,2.1094300746917725,-22.594789505004883,-19.914838790893555,-15.131547927856445],\"xaxis\":\"x\",\"y\":[-16.19622802734375,-20.733394622802734,9.941015243530273,-13.716962814331055,-1.494316816329956,-21.69688606262207,-3.626415967941284,-6.400655269622803,-14.132505416870117,-6.186095237731934,10.139104843139648,9.941015243530273,-12.264628410339355,27.410337448120117,-18.665346145629883],\"yaxis\":\"y\",\"type\":\"scatter\"},{\"hovertemplate\":\"high_level_substr=glycosaminoglycan<br>0=%{x}<br>1=%{y}<extra></extra>\",\"legendgroup\":\"glycosaminoglycan\",\"marker\":{\"color\":\"#00cc96\",\"symbol\":\"circle\",\"size\":9},\"mode\":\"markers\",\"name\":\"glycosaminoglycan\",\"orientation\":\"v\",\"showlegend\":true,\"x\":[5.658874034881592,13.00860595703125,14.25979995727539,14.33560562133789,3.4669129848480225,4.079717636108398,23.20644760131836,22.40592384338379,-8.907835960388184,-16.34473991394043,14.801871299743652,23.714080810546875,25.775800704956055,25.780742645263672],\"xaxis\":\"x\",\"y\":[-27.274816513061523,-18.502073287963867,-17.624961853027344,-18.283794403076172,-7.935615539550781,-7.036556243896484,-14.147686958312988,-12.044147491455078,30.554370880126953,31.17267608642578,-10.950241088867188,-13.919610023498535,-13.107101440429688,-13.098050117492676],\"yaxis\":\"y\",\"type\":\"scatter\"},{\"hovertemplate\":\"high_level_substr=beta-glucan <br>0=%{x}<br>1=%{y}<extra></extra>\",\"legendgroup\":\"beta-glucan \",\"marker\":{\"color\":\"#ab63fa\",\"symbol\":\"circle\",\"size\":9},\"mode\":\"markers\",\"name\":\"beta-glucan \",\"orientation\":\"v\",\"showlegend\":true,\"x\":[-28.64252471923828,-14.811254501342773,-14.711588859558105,-10.16386604309082,-13.125893592834473,-17.483394622802734,8.572216033935547,-0.5560958981513977,-10.943221092224121,-17.48296546936035,-14.711959838867188,-13.831613540649414,-11.500402450561523],\"xaxis\":\"x\",\"y\":[15.55618953704834,12.002859115600586,13.343608856201172,-16.90688705444336,26.630502700805664,24.706222534179688,-5.0795698165893555,-17.905120849609375,21.923370361328125,24.706621170043945,13.34497356414795,14.341461181640625,20.28216552734375],\"yaxis\":\"y\",\"type\":\"scatter\"},{\"hovertemplate\":\"high_level_substr=N-glycan<br>0=%{x}<br>1=%{y}<extra></extra>\",\"legendgroup\":\"N-glycan\",\"marker\":{\"color\":\"#FFA15A\",\"symbol\":\"circle\",\"size\":9},\"mode\":\"markers\",\"name\":\"N-glycan\",\"orientation\":\"v\",\"showlegend\":true,\"x\":[-25.686887741088867,20.107206344604492,-0.6580802202224731,-2.99556827545166,12.072712898254395,-24.71466827392578,-20.36882781982422,13.347123146057129,-23.96303367614746,-12.903973579406738,-7.252845287322998,12.117045402526855],\"xaxis\":\"x\",\"y\":[20.084135055541992,-2.127777099609375,-5.469232082366943,16.062145233154297,-4.848816394805908,20.369449615478516,-11.56061840057373,-18.135696411132812,19.71208953857422,25.81266212463379,8.795562744140625,-4.47482967376709],\"yaxis\":\"y\",\"type\":\"scatter\"},{\"hovertemplate\":\"high_level_substr=exopolysaccharide<br>0=%{x}<br>1=%{y}<extra></extra>\",\"legendgroup\":\"exopolysaccharide\",\"marker\":{\"color\":\"#19d3f3\",\"symbol\":\"circle\",\"size\":9},\"mode\":\"markers\",\"name\":\"exopolysaccharide\",\"orientation\":\"v\",\"showlegend\":true,\"x\":[25.4190616607666,28.64149284362793,-16.95836639404297,-7.058375358581543,-12.99862003326416,25.938220977783203,17.23715591430664,24.971210479736328,21.538602828979492,31.685853958129883],\"xaxis\":\"x\",\"y\":[10.6075439453125,14.11575698852539,27.76982307434082,31.211179733276367,24.842397689819336,13.035135269165039,-18.684406280517578,4.496071815490723,-11.569746971130371,15.359743118286133],\"yaxis\":\"y\",\"type\":\"scatter\"},{\"hovertemplate\":\"high_level_substr=-<br>0=%{x}<br>1=%{y}<extra></extra>\",\"legendgroup\":\"-\",\"marker\":{\"color\":\"#FF6692\",\"symbol\":\"circle\",\"size\":9},\"mode\":\"markers\",\"name\":\"-\",\"orientation\":\"v\",\"showlegend\":true,\"x\":[23.362812042236328,-11.149263381958008,-23.32174301147461,14.804230690002441,14.496458053588867,4.792970180511475,-8.327105522155762,13.697932243347168,16.395238876342773],\"xaxis\":\"x\",\"y\":[13.72188663482666,-14.661470413208008,-15.630488395690918,1.6230303049087524,1.3082524538040161,-11.269862174987793,-18.720670700073242,2.528984308242798,0.17111536860466003],\"yaxis\":\"y\",\"type\":\"scatter\"},{\"hovertemplate\":\"high_level_substr=fructan<br>0=%{x}<br>1=%{y}<extra></extra>\",\"legendgroup\":\"fructan\",\"marker\":{\"color\":\"#B6E880\",\"symbol\":\"circle\",\"size\":9},\"mode\":\"markers\",\"name\":\"fructan\",\"orientation\":\"v\",\"showlegend\":true,\"x\":[-11.656745910644531,-2.174201011657715,-10.404179573059082,5.741960048675537,-0.7697689533233643,-0.7697689533233643,-23.984346389770508,-0.41026490926742554],\"xaxis\":\"x\",\"y\":[4.055446147918701,-21.698488235473633,26.498764038085938,-31.737760543823242,-25.384990692138672,-25.384990692138672,12.104557037353516,7.208488464355469],\"yaxis\":\"y\",\"type\":\"scatter\"},{\"hovertemplate\":\"high_level_substr=alpha-mannan<br>0=%{x}<br>1=%{y}<extra></extra>\",\"legendgroup\":\"alpha-mannan\",\"marker\":{\"color\":\"#FF97FF\",\"symbol\":\"circle\",\"size\":9},\"mode\":\"markers\",\"name\":\"alpha-mannan\",\"orientation\":\"v\",\"showlegend\":true,\"x\":[-16.2391414642334,-19.142541885375977,-18.05164337158203,-20.704219818115234,-6.60111141204834,-20.704219818115234,-18.415096282958984,-19.192895889282227],\"xaxis\":\"x\",\"y\":[4.173475742340088,17.31484031677246,30.374431610107422,18.805498123168945,11.459426879882812,18.805498123168945,30.08486557006836,17.87353515625],\"yaxis\":\"y\",\"type\":\"scatter\"},{\"hovertemplate\":\"high_level_substr=host glycan<br>0=%{x}<br>1=%{y}<extra></extra>\",\"legendgroup\":\"host glycan\",\"marker\":{\"color\":\"#FECB52\",\"symbol\":\"circle\",\"size\":9},\"mode\":\"markers\",\"name\":\"host glycan\",\"orientation\":\"v\",\"showlegend\":true,\"x\":[18.30683135986328,-10.58061408996582,-12.063346862792969,12.44768238067627,-24.459064483642578,-18.016096115112305,3.710270881652832],\"xaxis\":\"x\",\"y\":[-14.114930152893066,29.144636154174805,26.975357055664062,-10.765103340148926,18.24847412109375,15.856794357299805,-5.068164348602295],\"yaxis\":\"y\",\"type\":\"scatter\"},{\"hovertemplate\":\"high_level_substr=xyloglucan<br>0=%{x}<br>1=%{y}<extra></extra>\",\"legendgroup\":\"xyloglucan\",\"marker\":{\"color\":\"#636efa\",\"symbol\":\"circle\",\"size\":9},\"mode\":\"markers\",\"name\":\"xyloglucan\",\"orientation\":\"v\",\"showlegend\":true,\"x\":[-13.967753410339355,-4.42904806137085,-14.482034683227539,-13.911796569824219,-14.482034683227539,-17.008941650390625,-13.16256332397461],\"xaxis\":\"x\",\"y\":[17.243202209472656,8.960003852844238,15.885668754577637,16.705644607543945,15.885668754577637,23.268404006958008,16.029014587402344],\"yaxis\":\"y\",\"type\":\"scatter\"},{\"hovertemplate\":\"high_level_substr=plant polysaccharide<br>0=%{x}<br>1=%{y}<extra></extra>\",\"legendgroup\":\"plant polysaccharide\",\"marker\":{\"color\":\"#EF553B\",\"symbol\":\"circle\",\"size\":9},\"mode\":\"markers\",\"name\":\"plant polysaccharide\",\"orientation\":\"v\",\"showlegend\":true,\"x\":[7.821466445922852,7.8341546058654785,16.311519622802734,-7.723735809326172,-12.79504108428955,-12.434645652770996],\"xaxis\":\"x\",\"y\":[-8.129257202148438,-8.197298049926758,-8.492268562316895,6.763463020324707,27.217784881591797,27.679067611694336],\"yaxis\":\"y\",\"type\":\"scatter\"},{\"hovertemplate\":\"high_level_substr=glycoprotein<br>0=%{x}<br>1=%{y}<extra></extra>\",\"legendgroup\":\"glycoprotein\",\"marker\":{\"color\":\"#00cc96\",\"symbol\":\"circle\",\"size\":9},\"mode\":\"markers\",\"name\":\"glycoprotein\",\"orientation\":\"v\",\"showlegend\":true,\"x\":[6.335996150970459,-16.34473991394043,12.495570182800293,12.165933609008789,-19.11290168762207,-6.574730396270752],\"xaxis\":\"x\",\"y\":[-12.726076126098633,31.17267608642578,-4.465424537658691,-6.349196910858154,19.609350204467773,7.3746137619018555],\"yaxis\":\"y\",\"type\":\"scatter\"},{\"hovertemplate\":\"high_level_substr=human milk oligosaccharide<br>0=%{x}<br>1=%{y}<extra></extra>\",\"legendgroup\":\"human milk oligosaccharide\",\"marker\":{\"color\":\"#ab63fa\",\"symbol\":\"circle\",\"size\":9},\"mode\":\"markers\",\"name\":\"human milk oligosaccharide\",\"orientation\":\"v\",\"showlegend\":true,\"x\":[14.317697525024414,2.5379841327667236,-3.079383134841919,-10.69461441040039,-7.55417013168335],\"xaxis\":\"x\",\"y\":[-19.980770111083984,-23.07792091369629,-16.368934631347656,-16.156070709228516,-12.509231567382812],\"yaxis\":\"y\",\"type\":\"scatter\"},{\"hovertemplate\":\"high_level_substr=hemicellulose<br>0=%{x}<br>1=%{y}<extra></extra>\",\"legendgroup\":\"hemicellulose\",\"marker\":{\"color\":\"#FFA15A\",\"symbol\":\"circle\",\"size\":9},\"mode\":\"markers\",\"name\":\"hemicellulose\",\"orientation\":\"v\",\"showlegend\":true,\"x\":[-4.228440284729004,5.442681312561035,-3.493305206298828,-18.3992862701416,-14.63260555267334],\"xaxis\":\"x\",\"y\":[-19.52193260192871,2.8988707065582275,14.802180290222168,12.217150688171387,14.80674934387207],\"yaxis\":\"y\",\"type\":\"scatter\"},{\"hovertemplate\":\"high_level_substr=O-glycan<br>0=%{x}<br>1=%{y}<extra></extra>\",\"legendgroup\":\"O-glycan\",\"marker\":{\"color\":\"#19d3f3\",\"symbol\":\"circle\",\"size\":9},\"mode\":\"markers\",\"name\":\"O-glycan\",\"orientation\":\"v\",\"showlegend\":true,\"x\":[39.7690315246582,40.613704681396484,39.878997802734375],\"xaxis\":\"x\",\"y\":[7.11727237701416,7.485137939453125,7.883275508880615],\"yaxis\":\"y\",\"type\":\"scatter\"}],                        {\"template\":{\"data\":{\"bar\":[{\"error_x\":{\"color\":\"#2a3f5f\"},\"error_y\":{\"color\":\"#2a3f5f\"},\"marker\":{\"line\":{\"color\":\"#E5ECF6\",\"width\":0.5},\"pattern\":{\"fillmode\":\"overlay\",\"size\":10,\"solidity\":0.2}},\"type\":\"bar\"}],\"barpolar\":[{\"marker\":{\"line\":{\"color\":\"#E5ECF6\",\"width\":0.5},\"pattern\":{\"fillmode\":\"overlay\",\"size\":10,\"solidity\":0.2}},\"type\":\"barpolar\"}],\"carpet\":[{\"aaxis\":{\"endlinecolor\":\"#2a3f5f\",\"gridcolor\":\"white\",\"linecolor\":\"white\",\"minorgridcolor\":\"white\",\"startlinecolor\":\"#2a3f5f\"},\"baxis\":{\"endlinecolor\":\"#2a3f5f\",\"gridcolor\":\"white\",\"linecolor\":\"white\",\"minorgridcolor\":\"white\",\"startlinecolor\":\"#2a3f5f\"},\"type\":\"carpet\"}],\"choropleth\":[{\"colorbar\":{\"outlinewidth\":0,\"ticks\":\"\"},\"type\":\"choropleth\"}],\"contour\":[{\"colorbar\":{\"outlinewidth\":0,\"ticks\":\"\"},\"colorscale\":[[0.0,\"#0d0887\"],[0.1111111111111111,\"#46039f\"],[0.2222222222222222,\"#7201a8\"],[0.3333333333333333,\"#9c179e\"],[0.4444444444444444,\"#bd3786\"],[0.5555555555555556,\"#d8576b\"],[0.6666666666666666,\"#ed7953\"],[0.7777777777777778,\"#fb9f3a\"],[0.8888888888888888,\"#fdca26\"],[1.0,\"#f0f921\"]],\"type\":\"contour\"}],\"contourcarpet\":[{\"colorbar\":{\"outlinewidth\":0,\"ticks\":\"\"},\"type\":\"contourcarpet\"}],\"heatmap\":[{\"colorbar\":{\"outlinewidth\":0,\"ticks\":\"\"},\"colorscale\":[[0.0,\"#0d0887\"],[0.1111111111111111,\"#46039f\"],[0.2222222222222222,\"#7201a8\"],[0.3333333333333333,\"#9c179e\"],[0.4444444444444444,\"#bd3786\"],[0.5555555555555556,\"#d8576b\"],[0.6666666666666666,\"#ed7953\"],[0.7777777777777778,\"#fb9f3a\"],[0.8888888888888888,\"#fdca26\"],[1.0,\"#f0f921\"]],\"type\":\"heatmap\"}],\"heatmapgl\":[{\"colorbar\":{\"outlinewidth\":0,\"ticks\":\"\"},\"colorscale\":[[0.0,\"#0d0887\"],[0.1111111111111111,\"#46039f\"],[0.2222222222222222,\"#7201a8\"],[0.3333333333333333,\"#9c179e\"],[0.4444444444444444,\"#bd3786\"],[0.5555555555555556,\"#d8576b\"],[0.6666666666666666,\"#ed7953\"],[0.7777777777777778,\"#fb9f3a\"],[0.8888888888888888,\"#fdca26\"],[1.0,\"#f0f921\"]],\"type\":\"heatmapgl\"}],\"histogram\":[{\"marker\":{\"pattern\":{\"fillmode\":\"overlay\",\"size\":10,\"solidity\":0.2}},\"type\":\"histogram\"}],\"histogram2d\":[{\"colorbar\":{\"outlinewidth\":0,\"ticks\":\"\"},\"colorscale\":[[0.0,\"#0d0887\"],[0.1111111111111111,\"#46039f\"],[0.2222222222222222,\"#7201a8\"],[0.3333333333333333,\"#9c179e\"],[0.4444444444444444,\"#bd3786\"],[0.5555555555555556,\"#d8576b\"],[0.6666666666666666,\"#ed7953\"],[0.7777777777777778,\"#fb9f3a\"],[0.8888888888888888,\"#fdca26\"],[1.0,\"#f0f921\"]],\"type\":\"histogram2d\"}],\"histogram2dcontour\":[{\"colorbar\":{\"outlinewidth\":0,\"ticks\":\"\"},\"colorscale\":[[0.0,\"#0d0887\"],[0.1111111111111111,\"#46039f\"],[0.2222222222222222,\"#7201a8\"],[0.3333333333333333,\"#9c179e\"],[0.4444444444444444,\"#bd3786\"],[0.5555555555555556,\"#d8576b\"],[0.6666666666666666,\"#ed7953\"],[0.7777777777777778,\"#fb9f3a\"],[0.8888888888888888,\"#fdca26\"],[1.0,\"#f0f921\"]],\"type\":\"histogram2dcontour\"}],\"mesh3d\":[{\"colorbar\":{\"outlinewidth\":0,\"ticks\":\"\"},\"type\":\"mesh3d\"}],\"parcoords\":[{\"line\":{\"colorbar\":{\"outlinewidth\":0,\"ticks\":\"\"}},\"type\":\"parcoords\"}],\"pie\":[{\"automargin\":true,\"type\":\"pie\"}],\"scatter\":[{\"marker\":{\"colorbar\":{\"outlinewidth\":0,\"ticks\":\"\"}},\"type\":\"scatter\"}],\"scatter3d\":[{\"line\":{\"colorbar\":{\"outlinewidth\":0,\"ticks\":\"\"}},\"marker\":{\"colorbar\":{\"outlinewidth\":0,\"ticks\":\"\"}},\"type\":\"scatter3d\"}],\"scattercarpet\":[{\"marker\":{\"colorbar\":{\"outlinewidth\":0,\"ticks\":\"\"}},\"type\":\"scattercarpet\"}],\"scattergeo\":[{\"marker\":{\"colorbar\":{\"outlinewidth\":0,\"ticks\":\"\"}},\"type\":\"scattergeo\"}],\"scattergl\":[{\"marker\":{\"colorbar\":{\"outlinewidth\":0,\"ticks\":\"\"}},\"type\":\"scattergl\"}],\"scattermapbox\":[{\"marker\":{\"colorbar\":{\"outlinewidth\":0,\"ticks\":\"\"}},\"type\":\"scattermapbox\"}],\"scatterpolar\":[{\"marker\":{\"colorbar\":{\"outlinewidth\":0,\"ticks\":\"\"}},\"type\":\"scatterpolar\"}],\"scatterpolargl\":[{\"marker\":{\"colorbar\":{\"outlinewidth\":0,\"ticks\":\"\"}},\"type\":\"scatterpolargl\"}],\"scatterternary\":[{\"marker\":{\"colorbar\":{\"outlinewidth\":0,\"ticks\":\"\"}},\"type\":\"scatterternary\"}],\"surface\":[{\"colorbar\":{\"outlinewidth\":0,\"ticks\":\"\"},\"colorscale\":[[0.0,\"#0d0887\"],[0.1111111111111111,\"#46039f\"],[0.2222222222222222,\"#7201a8\"],[0.3333333333333333,\"#9c179e\"],[0.4444444444444444,\"#bd3786\"],[0.5555555555555556,\"#d8576b\"],[0.6666666666666666,\"#ed7953\"],[0.7777777777777778,\"#fb9f3a\"],[0.8888888888888888,\"#fdca26\"],[1.0,\"#f0f921\"]],\"type\":\"surface\"}],\"table\":[{\"cells\":{\"fill\":{\"color\":\"#EBF0F8\"},\"line\":{\"color\":\"white\"}},\"header\":{\"fill\":{\"color\":\"#C8D4E3\"},\"line\":{\"color\":\"white\"}},\"type\":\"table\"}]},\"layout\":{\"annotationdefaults\":{\"arrowcolor\":\"#2a3f5f\",\"arrowhead\":0,\"arrowwidth\":1},\"autotypenumbers\":\"strict\",\"coloraxis\":{\"colorbar\":{\"outlinewidth\":0,\"ticks\":\"\"}},\"colorscale\":{\"diverging\":[[0,\"#8e0152\"],[0.1,\"#c51b7d\"],[0.2,\"#de77ae\"],[0.3,\"#f1b6da\"],[0.4,\"#fde0ef\"],[0.5,\"#f7f7f7\"],[0.6,\"#e6f5d0\"],[0.7,\"#b8e186\"],[0.8,\"#7fbc41\"],[0.9,\"#4d9221\"],[1,\"#276419\"]],\"sequential\":[[0.0,\"#0d0887\"],[0.1111111111111111,\"#46039f\"],[0.2222222222222222,\"#7201a8\"],[0.3333333333333333,\"#9c179e\"],[0.4444444444444444,\"#bd3786\"],[0.5555555555555556,\"#d8576b\"],[0.6666666666666666,\"#ed7953\"],[0.7777777777777778,\"#fb9f3a\"],[0.8888888888888888,\"#fdca26\"],[1.0,\"#f0f921\"]],\"sequentialminus\":[[0.0,\"#0d0887\"],[0.1111111111111111,\"#46039f\"],[0.2222222222222222,\"#7201a8\"],[0.3333333333333333,\"#9c179e\"],[0.4444444444444444,\"#bd3786\"],[0.5555555555555556,\"#d8576b\"],[0.6666666666666666,\"#ed7953\"],[0.7777777777777778,\"#fb9f3a\"],[0.8888888888888888,\"#fdca26\"],[1.0,\"#f0f921\"]]},\"colorway\":[\"#636efa\",\"#EF553B\",\"#00cc96\",\"#ab63fa\",\"#FFA15A\",\"#19d3f3\",\"#FF6692\",\"#B6E880\",\"#FF97FF\",\"#FECB52\"],\"font\":{\"color\":\"#2a3f5f\"},\"geo\":{\"bgcolor\":\"white\",\"lakecolor\":\"white\",\"landcolor\":\"#E5ECF6\",\"showlakes\":true,\"showland\":true,\"subunitcolor\":\"white\"},\"hoverlabel\":{\"align\":\"left\"},\"hovermode\":\"closest\",\"mapbox\":{\"style\":\"light\"},\"paper_bgcolor\":\"white\",\"plot_bgcolor\":\"#E5ECF6\",\"polar\":{\"angularaxis\":{\"gridcolor\":\"white\",\"linecolor\":\"white\",\"ticks\":\"\"},\"bgcolor\":\"#E5ECF6\",\"radialaxis\":{\"gridcolor\":\"white\",\"linecolor\":\"white\",\"ticks\":\"\"}},\"scene\":{\"xaxis\":{\"backgroundcolor\":\"#E5ECF6\",\"gridcolor\":\"white\",\"gridwidth\":2,\"linecolor\":\"white\",\"showbackground\":true,\"ticks\":\"\",\"zerolinecolor\":\"white\"},\"yaxis\":{\"backgroundcolor\":\"#E5ECF6\",\"gridcolor\":\"white\",\"gridwidth\":2,\"linecolor\":\"white\",\"showbackground\":true,\"ticks\":\"\",\"zerolinecolor\":\"white\"},\"zaxis\":{\"backgroundcolor\":\"#E5ECF6\",\"gridcolor\":\"white\",\"gridwidth\":2,\"linecolor\":\"white\",\"showbackground\":true,\"ticks\":\"\",\"zerolinecolor\":\"white\"}},\"shapedefaults\":{\"line\":{\"color\":\"#2a3f5f\"}},\"ternary\":{\"aaxis\":{\"gridcolor\":\"white\",\"linecolor\":\"white\",\"ticks\":\"\"},\"baxis\":{\"gridcolor\":\"white\",\"linecolor\":\"white\",\"ticks\":\"\"},\"bgcolor\":\"#E5ECF6\",\"caxis\":{\"gridcolor\":\"white\",\"linecolor\":\"white\",\"ticks\":\"\"}},\"title\":{\"x\":0.05},\"xaxis\":{\"automargin\":true,\"gridcolor\":\"white\",\"linecolor\":\"white\",\"ticks\":\"\",\"title\":{\"standoff\":15},\"zerolinecolor\":\"white\",\"zerolinewidth\":2},\"yaxis\":{\"automargin\":true,\"gridcolor\":\"white\",\"linecolor\":\"white\",\"ticks\":\"\",\"title\":{\"standoff\":15},\"zerolinecolor\":\"white\",\"zerolinewidth\":2}}},\"xaxis\":{\"anchor\":\"y\",\"domain\":[0.0,1.0],\"title\":{\"text\":\"0\"}},\"yaxis\":{\"anchor\":\"x\",\"domain\":[0.0,1.0],\"title\":{\"text\":\"1\"}},\"legend\":{\"title\":{\"text\":\"high_level_substr\"},\"tracegroupgap\":0},\"margin\":{\"t\":60}},                        {\"responsive\": true}                    ).then(function(){\n",
       "                            \n",
       "var gd = document.getElementById('d3cd2195-15cd-402a-906a-dc4dcae92cd3');\n",
       "var x = new MutationObserver(function (mutations, observer) {{\n",
       "        var display = window.getComputedStyle(gd).display;\n",
       "        if (!display || display === 'none') {{\n",
       "            console.log([gd, 'removed!']);\n",
       "            Plotly.purge(gd);\n",
       "            observer.disconnect();\n",
       "        }}\n",
       "}});\n",
       "\n",
       "// Listen for the removal of the full notebook cells\n",
       "var notebookContainer = gd.closest('#notebook-container');\n",
       "if (notebookContainer) {{\n",
       "    x.observe(notebookContainer, {childList: true});\n",
       "}}\n",
       "\n",
       "// Listen for the clearing of the current output cell\n",
       "var outputEl = gd.closest('.output');\n",
       "if (outputEl) {{\n",
       "    x.observe(outputEl, {childList: true});\n",
       "}}\n",
       "\n",
       "                        })                };                });            </script>        </div>"
      ]
     },
     "metadata": {},
     "output_type": "display_data"
    }
   ],
   "source": [
    "fig = px.scatter(tsne_data, x=0, y=1, color = \"high_level_substr\", \n",
    "                 category_orders={\"high_level_substr\":supervised_data[\"high_level_substr\"].value_counts().keys().tolist()})\n",
    "fig.update_traces(marker_size=9)\n",
    "fig.write_html(\"mongeElkan_2D.html\")\n",
    "fig.show()"
   ]
  }
 ],
 "metadata": {
  "kernelspec": {
   "display_name": "newone",
   "language": "python",
   "name": "newone"
  },
  "language_info": {
   "codemirror_mode": {
    "name": "ipython",
    "version": 3
   },
   "file_extension": ".py",
   "mimetype": "text/x-python",
   "name": "python",
   "nbconvert_exporter": "python",
   "pygments_lexer": "ipython3",
   "version": "3.9.7"
  }
 },
 "nbformat": 4,
 "nbformat_minor": 5
}
