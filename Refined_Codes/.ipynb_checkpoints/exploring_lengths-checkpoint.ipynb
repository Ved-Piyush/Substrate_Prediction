{
 "cells": [
  {
   "cell_type": "code",
   "execution_count": 1,
   "id": "cbeb5286",
   "metadata": {},
   "outputs": [],
   "source": [
    "# set the directory to where the data is\n",
    "import os\n",
    "\n",
    "os.chdir(r\"D:\\Gene_Project\")"
   ]
  },
  {
   "cell_type": "code",
   "execution_count": 2,
   "id": "48d6f6d2",
   "metadata": {},
   "outputs": [],
   "source": [
    "# pandas for dealing with the data\n",
    "import pandas as pd\n",
    "# setting for seeing the entire string\n",
    "pd.options.display.max_colwidth = None\n",
    "pd.set_option('display.max_rows', 500)"
   ]
  },
  {
   "cell_type": "code",
   "execution_count": 3,
   "id": "ce7a300b",
   "metadata": {},
   "outputs": [],
   "source": [
    "# load the data - new data that was provided\n",
    "data = pd.read_csv(r\"pul_seq_low_high_substr_year_corrected.csv\")"
   ]
  },
  {
   "cell_type": "code",
   "execution_count": 4,
   "id": "fb5de260",
   "metadata": {},
   "outputs": [
    {
     "data": {
      "text/html": [
       "<div>\n",
       "<style scoped>\n",
       "    .dataframe tbody tr th:only-of-type {\n",
       "        vertical-align: middle;\n",
       "    }\n",
       "\n",
       "    .dataframe tbody tr th {\n",
       "        vertical-align: top;\n",
       "    }\n",
       "\n",
       "    .dataframe thead th {\n",
       "        text-align: right;\n",
       "    }\n",
       "</style>\n",
       "<table border=\"1\" class=\"dataframe\">\n",
       "  <thead>\n",
       "    <tr style=\"text-align: right;\">\n",
       "      <th></th>\n",
       "      <th>PULid</th>\n",
       "      <th>sig_gene_seq</th>\n",
       "      <th>low_level_substr</th>\n",
       "      <th>high_level_substr</th>\n",
       "      <th>Pub_year</th>\n",
       "    </tr>\n",
       "  </thead>\n",
       "  <tbody>\n",
       "    <tr>\n",
       "      <th>0</th>\n",
       "      <td>PUL0001</td>\n",
       "      <td>GH1,8.A.49,CE2,GH130,GH130,3.A.1,3.A.1,SBP_bac_1,LacI,GH36,GH113</td>\n",
       "      <td>beta-mannan</td>\n",
       "      <td>beta-mannan</td>\n",
       "      <td>2019</td>\n",
       "    </tr>\n",
       "    <tr>\n",
       "      <th>1</th>\n",
       "      <td>PUL0002</td>\n",
       "      <td>GH16</td>\n",
       "      <td>lichenan</td>\n",
       "      <td>beta-glucan</td>\n",
       "      <td>1996</td>\n",
       "    </tr>\n",
       "    <tr>\n",
       "      <th>2</th>\n",
       "      <td>PUL0003</td>\n",
       "      <td>GH30_8,GH43_16|CBM6</td>\n",
       "      <td>xylan</td>\n",
       "      <td>xylan</td>\n",
       "      <td>2016</td>\n",
       "    </tr>\n",
       "    <tr>\n",
       "      <th>3</th>\n",
       "      <td>PUL0004</td>\n",
       "      <td>4.A.1,GH1</td>\n",
       "      <td>glucose,cellobiose,maltose</td>\n",
       "      <td>multiple_substrates</td>\n",
       "      <td>2016</td>\n",
       "    </tr>\n",
       "    <tr>\n",
       "      <th>4</th>\n",
       "      <td>PUL0005</td>\n",
       "      <td>GH94,GH3</td>\n",
       "      <td>beta-glucan,sophorose,laminaribiose</td>\n",
       "      <td>multiple_substrates</td>\n",
       "      <td>2016</td>\n",
       "    </tr>\n",
       "  </tbody>\n",
       "</table>\n",
       "</div>"
      ],
      "text/plain": [
       "     PULid                                                      sig_gene_seq  \\\n",
       "0  PUL0001  GH1,8.A.49,CE2,GH130,GH130,3.A.1,3.A.1,SBP_bac_1,LacI,GH36,GH113   \n",
       "1  PUL0002                                                              GH16   \n",
       "2  PUL0003                                               GH30_8,GH43_16|CBM6   \n",
       "3  PUL0004                                                         4.A.1,GH1   \n",
       "4  PUL0005                                                          GH94,GH3   \n",
       "\n",
       "                      low_level_substr    high_level_substr Pub_year  \n",
       "0                          beta-mannan          beta-mannan     2019  \n",
       "1                             lichenan         beta-glucan      1996  \n",
       "2                                xylan                xylan     2016  \n",
       "3           glucose,cellobiose,maltose  multiple_substrates     2016  \n",
       "4  beta-glucan,sophorose,laminaribiose  multiple_substrates     2016  "
      ]
     },
     "execution_count": 4,
     "metadata": {},
     "output_type": "execute_result"
    }
   ],
   "source": [
    "data.head()"
   ]
  },
  {
   "cell_type": "code",
   "execution_count": 8,
   "id": "901754d1",
   "metadata": {},
   "outputs": [],
   "source": [
    "data[\"lengths\"] = [len(seq.replace(\"|\", \",\").split(\",\")) for seq in data[\"sig_gene_seq\"]]"
   ]
  },
  {
   "cell_type": "code",
   "execution_count": 9,
   "id": "ed8d3c77",
   "metadata": {},
   "outputs": [],
   "source": [
    "selected_classes_high_level = ['capsule polysaccharide', 'algal glycans', 'xylan']"
   ]
  },
  {
   "cell_type": "code",
   "execution_count": 10,
   "id": "c71fe45a",
   "metadata": {},
   "outputs": [],
   "source": [
    "# selected_classes_low_level = [\"O-glycan,N-glycan\"]"
   ]
  },
  {
   "cell_type": "code",
   "execution_count": 11,
   "id": "beab96db",
   "metadata": {},
   "outputs": [],
   "source": [
    "selected_data_high_level = data[data[\"high_level_substr\"].isin(selected_classes_high_level)]"
   ]
  },
  {
   "cell_type": "code",
   "execution_count": 12,
   "id": "e2993534",
   "metadata": {},
   "outputs": [
    {
     "name": "stderr",
     "output_type": "stream",
     "text": [
      "C:\\Users\\vedpi\\AppData\\Local\\Temp/ipykernel_12160/3548921859.py:1: SettingWithCopyWarning: \n",
      "A value is trying to be set on a copy of a slice from a DataFrame.\n",
      "Try using .loc[row_indexer,col_indexer] = value instead\n",
      "\n",
      "See the caveats in the documentation: https://pandas.pydata.org/pandas-docs/stable/user_guide/indexing.html#returning-a-view-versus-a-copy\n",
      "  selected_data_high_level[\"high_level_substr\"] = \"known\"\n"
     ]
    }
   ],
   "source": [
    "selected_data_high_level[\"high_level_substr\"] = \"known\""
   ]
  },
  {
   "cell_type": "code",
   "execution_count": 13,
   "id": "11e7ffba",
   "metadata": {},
   "outputs": [],
   "source": [
    "# selected_data_low_level = data[data[\"low_level_substr\"].isin(selected_classes_low_level)]"
   ]
  },
  {
   "cell_type": "code",
   "execution_count": 14,
   "id": "c3de6577",
   "metadata": {},
   "outputs": [],
   "source": [
    "part1 = selected_data_high_level[[\"lengths\", \"high_level_substr\"]]"
   ]
  },
  {
   "cell_type": "code",
   "execution_count": 16,
   "id": "48f24455",
   "metadata": {},
   "outputs": [],
   "source": [
    "# part2 = selected_data_low_level[[\"sig_gene_seq\", \"low_level_substr\"]]"
   ]
  },
  {
   "cell_type": "code",
   "execution_count": 17,
   "id": "33cfc017",
   "metadata": {},
   "outputs": [],
   "source": [
    "# part2.columns = [\"sig_gene_seq\", \"high_level_substr\"]"
   ]
  },
  {
   "cell_type": "code",
   "execution_count": 18,
   "id": "4aa8ebd3",
   "metadata": {},
   "outputs": [],
   "source": [
    "# part = pd.concat([part1, part2])"
   ]
  },
  {
   "cell_type": "code",
   "execution_count": 15,
   "id": "4f97464b",
   "metadata": {},
   "outputs": [],
   "source": [
    "other_part = data.iloc[~data.index.isin(part1.index.tolist())]"
   ]
  },
  {
   "cell_type": "code",
   "execution_count": 16,
   "id": "8b0384e3",
   "metadata": {},
   "outputs": [],
   "source": [
    "other_part = other_part[[\"lengths\", \"high_level_substr\"]]"
   ]
  },
  {
   "cell_type": "code",
   "execution_count": 17,
   "id": "ceef5a42",
   "metadata": {},
   "outputs": [],
   "source": [
    "other_part[\"high_level_substr\"] = \"others\""
   ]
  },
  {
   "cell_type": "code",
   "execution_count": 18,
   "id": "8d0477b8",
   "metadata": {},
   "outputs": [],
   "source": [
    "combo = pd.concat([part1, other_part]).sample(frac = 1.0)"
   ]
  },
  {
   "cell_type": "code",
   "execution_count": 19,
   "id": "ae982dc9",
   "metadata": {},
   "outputs": [
    {
     "data": {
      "text/plain": [
       "others    516\n",
       "known     138\n",
       "Name: high_level_substr, dtype: int64"
      ]
     },
     "execution_count": 19,
     "metadata": {},
     "output_type": "execute_result"
    }
   ],
   "source": [
    "combo[\"high_level_substr\"].value_counts()"
   ]
  },
  {
   "cell_type": "code",
   "execution_count": 20,
   "id": "0d539da6",
   "metadata": {},
   "outputs": [],
   "source": [
    "from sklearn.model_selection import StratifiedKFold"
   ]
  },
  {
   "cell_type": "code",
   "execution_count": 21,
   "id": "38fb8c17",
   "metadata": {},
   "outputs": [],
   "source": [
    "skf = StratifiedKFold(n_splits=10)"
   ]
  },
  {
   "cell_type": "code",
   "execution_count": 23,
   "id": "4feb654d",
   "metadata": {},
   "outputs": [],
   "source": [
    "from imblearn.ensemble import BalancedRandomForestClassifier"
   ]
  },
  {
   "cell_type": "code",
   "execution_count": 24,
   "id": "44d83e32",
   "metadata": {},
   "outputs": [],
   "source": [
    "brf = BalancedRandomForestClassifier()"
   ]
  },
  {
   "cell_type": "code",
   "execution_count": 25,
   "id": "a10c9f9e",
   "metadata": {},
   "outputs": [],
   "source": [
    "import numpy as np"
   ]
  },
  {
   "cell_type": "code",
   "execution_count": 26,
   "id": "d77a4b61",
   "metadata": {},
   "outputs": [],
   "source": [
    "length = len(combo[\"high_level_substr\"].value_counts())"
   ]
  },
  {
   "cell_type": "code",
   "execution_count": 27,
   "id": "b963222c",
   "metadata": {},
   "outputs": [],
   "source": [
    "from sklearn.metrics import confusion_matrix"
   ]
  },
  {
   "cell_type": "code",
   "execution_count": 29,
   "id": "102e01cc",
   "metadata": {
    "scrolled": false
   },
   "outputs": [
    {
     "name": "stderr",
     "output_type": "stream",
     "text": [
      "C:\\Users\\vedpi\\AppData\\Local\\Temp/ipykernel_12160/2732756012.py:8: DataConversionWarning: A column-vector y was passed when a 1d array was expected. Please change the shape of y to (n_samples,), for example using ravel().\n",
      "  brf.fit(X_train.values, y_train.values)\n",
      "C:\\Users\\vedpi\\AppData\\Local\\Temp/ipykernel_12160/2732756012.py:8: DataConversionWarning: A column-vector y was passed when a 1d array was expected. Please change the shape of y to (n_samples,), for example using ravel().\n",
      "  brf.fit(X_train.values, y_train.values)\n",
      "C:\\Users\\vedpi\\AppData\\Local\\Temp/ipykernel_12160/2732756012.py:8: DataConversionWarning: A column-vector y was passed when a 1d array was expected. Please change the shape of y to (n_samples,), for example using ravel().\n",
      "  brf.fit(X_train.values, y_train.values)\n",
      "C:\\Users\\vedpi\\AppData\\Local\\Temp/ipykernel_12160/2732756012.py:8: DataConversionWarning: A column-vector y was passed when a 1d array was expected. Please change the shape of y to (n_samples,), for example using ravel().\n",
      "  brf.fit(X_train.values, y_train.values)\n",
      "C:\\Users\\vedpi\\AppData\\Local\\Temp/ipykernel_12160/2732756012.py:8: DataConversionWarning: A column-vector y was passed when a 1d array was expected. Please change the shape of y to (n_samples,), for example using ravel().\n",
      "  brf.fit(X_train.values, y_train.values)\n",
      "C:\\Users\\vedpi\\AppData\\Local\\Temp/ipykernel_12160/2732756012.py:8: DataConversionWarning: A column-vector y was passed when a 1d array was expected. Please change the shape of y to (n_samples,), for example using ravel().\n",
      "  brf.fit(X_train.values, y_train.values)\n",
      "C:\\Users\\vedpi\\AppData\\Local\\Temp/ipykernel_12160/2732756012.py:8: DataConversionWarning: A column-vector y was passed when a 1d array was expected. Please change the shape of y to (n_samples,), for example using ravel().\n",
      "  brf.fit(X_train.values, y_train.values)\n",
      "C:\\Users\\vedpi\\AppData\\Local\\Temp/ipykernel_12160/2732756012.py:8: DataConversionWarning: A column-vector y was passed when a 1d array was expected. Please change the shape of y to (n_samples,), for example using ravel().\n",
      "  brf.fit(X_train.values, y_train.values)\n",
      "C:\\Users\\vedpi\\AppData\\Local\\Temp/ipykernel_12160/2732756012.py:8: DataConversionWarning: A column-vector y was passed when a 1d array was expected. Please change the shape of y to (n_samples,), for example using ravel().\n",
      "  brf.fit(X_train.values, y_train.values)\n",
      "C:\\Users\\vedpi\\AppData\\Local\\Temp/ipykernel_12160/2732756012.py:8: DataConversionWarning: A column-vector y was passed when a 1d array was expected. Please change the shape of y to (n_samples,), for example using ravel().\n",
      "  brf.fit(X_train.values, y_train.values)\n"
     ]
    }
   ],
   "source": [
    "cm1 = np.zeros((length, length))\n",
    "unraveled_positions = []\n",
    "for train_index, test_index in skf.split(combo[\"lengths\"], combo[\"high_level_substr\"]):\n",
    "    # fit the search\n",
    "#     search = GridSearchCV(clf, param_grid, n_jobs=6 , verbose = 3, cv = 5, scoring = \"balanced_accuracy\")\n",
    "    X_train, X_test = combo[[\"lengths\"]].iloc[train_index,:], combo[[\"lengths\"]].iloc[test_index,:]\n",
    "    y_train, y_test = combo[[\"high_level_substr\"]].iloc[train_index,:], combo[[\"high_level_substr\"]].iloc[test_index,:]\n",
    "    brf.fit(X_train.values, y_train.values)\n",
    "    y_pred_test = brf.predict(X_test.values)\n",
    "    # get the array oaf confusion matrix\n",
    "    cm = confusion_matrix(y_test, y_pred_test, normalize = 'true')\n",
    "    \n",
    "    unraveled_positions.append(cm.ravel().tolist())\n",
    "    \n",
    "    cm1 += cm  "
   ]
  },
  {
   "cell_type": "code",
   "execution_count": 30,
   "id": "0401cc72",
   "metadata": {},
   "outputs": [],
   "source": [
    "from sklearn.metrics import confusion_matrix"
   ]
  },
  {
   "cell_type": "code",
   "execution_count": 32,
   "id": "cb1536ec",
   "metadata": {},
   "outputs": [],
   "source": [
    "# get the array oaf confusion matrix\n",
    "cm = cm1/10\n",
    "\n",
    "# dataframe for confusion matrix\n",
    "df_cm = pd.DataFrame(cm, index = [i for i in brf.classes_],\n",
    "                  columns = [i for i in brf.classes_])"
   ]
  },
  {
   "cell_type": "code",
   "execution_count": 33,
   "id": "a97b1d5d",
   "metadata": {},
   "outputs": [],
   "source": [
    "# seaborn that helps with aesthetically pleasing plots\n",
    "import seaborn as sns\n",
    "\n",
    "import matplotlib.pyplot as plt"
   ]
  },
  {
   "cell_type": "code",
   "execution_count": 34,
   "id": "6a399de3",
   "metadata": {},
   "outputs": [
    {
     "data": {
      "image/png": "[encoded data removed]",
      "text/plain": [
       "<Figure size 720x720 with 2 Axes>"
      ]
     },
     "metadata": {
      "needs_background": "light"
     },
     "output_type": "display_data"
    }
   ],
   "source": [
    "# make the plot\n",
    "fig = plt.figure(figsize = (10, 10))\n",
    "sns.heatmap(df_cm, annot = True)\n",
    "plt.title(\"confusion matrix for the test set\", fontsize = 20)\n",
    "plt.xlabel(\"Predicted Label\", fontsize = 20)\n",
    "plt.ylabel(\"True Label\", fontsize = 20)\n",
    "plt.show()\n"
   ]
  },
  {
   "cell_type": "code",
   "execution_count": 36,
   "id": "c3619425",
   "metadata": {},
   "outputs": [],
   "source": [
    "flattened_confusion_matrices = pd.DataFrame(unraveled_positions)\n",
    "df_cm_std = np.array(flattened_confusion_matrices.std(0)).reshape(df_cm.shape[1],df_cm.shape[1])\n",
    "df_cm_std = pd.DataFrame(df_cm_std, index = [i for i in brf.classes_],\n",
    "                  columns = [i for i in brf.classes_])"
   ]
  },
  {
   "cell_type": "code",
   "execution_count": 37,
   "id": "1fde9225",
   "metadata": {},
   "outputs": [
    {
     "data": {
      "image/png": "[encoded data removed]",
      "text/plain": [
       "<Figure size 720x720 with 2 Axes>"
      ]
     },
     "metadata": {
      "needs_background": "light"
     },
     "output_type": "display_data"
    }
   ],
   "source": [
    "# make the plot\n",
    "fig = plt.figure(figsize = (10, 10))\n",
    "sns.heatmap(df_cm_std, annot = True)\n",
    "plt.title(\"Standard deviation for confusion matrix for the test set\", fontsize = 20)\n",
    "plt.xlabel(\"Predicted Label\", fontsize = 20)\n",
    "plt.ylabel(\"True Label\", fontsize = 20)\n",
    "plt.show()\n"
   ]
  },
  {
   "cell_type": "code",
   "execution_count": 38,
   "id": "b6633efd",
   "metadata": {},
   "outputs": [],
   "source": [
    "selected_data_high_level = data[data[\"high_level_substr\"].isin(selected_classes_high_level)]"
   ]
  },
  {
   "cell_type": "code",
   "execution_count": 38,
   "id": "4d0900d1",
   "metadata": {},
   "outputs": [],
   "source": [
    "brf = BalancedRandomForestClassifier()"
   ]
  },
  {
   "cell_type": "code",
   "execution_count": 39,
   "id": "052abb9f",
   "metadata": {},
   "outputs": [],
   "source": [
    "length = len(selected_data_high_level[\"high_level_substr\"].value_counts())"
   ]
  },
  {
   "cell_type": "code",
   "execution_count": 41,
   "id": "c58c95ff",
   "metadata": {},
   "outputs": [
    {
     "name": "stderr",
     "output_type": "stream",
     "text": [
      "C:\\Users\\vedpi\\AppData\\Local\\Temp/ipykernel_12160/2965003013.py:9: DataConversionWarning: A column-vector y was passed when a 1d array was expected. Please change the shape of y to (n_samples,), for example using ravel().\n",
      "  brf.fit(X_train.values, y_train.values)\n",
      "C:\\Users\\vedpi\\AppData\\Local\\Temp/ipykernel_12160/2965003013.py:9: DataConversionWarning: A column-vector y was passed when a 1d array was expected. Please change the shape of y to (n_samples,), for example using ravel().\n",
      "  brf.fit(X_train.values, y_train.values)\n",
      "C:\\Users\\vedpi\\AppData\\Local\\Temp/ipykernel_12160/2965003013.py:9: DataConversionWarning: A column-vector y was passed when a 1d array was expected. Please change the shape of y to (n_samples,), for example using ravel().\n",
      "  brf.fit(X_train.values, y_train.values)\n",
      "C:\\Users\\vedpi\\AppData\\Local\\Temp/ipykernel_12160/2965003013.py:9: DataConversionWarning: A column-vector y was passed when a 1d array was expected. Please change the shape of y to (n_samples,), for example using ravel().\n",
      "  brf.fit(X_train.values, y_train.values)\n",
      "C:\\Users\\vedpi\\AppData\\Local\\Temp/ipykernel_12160/2965003013.py:9: DataConversionWarning: A column-vector y was passed when a 1d array was expected. Please change the shape of y to (n_samples,), for example using ravel().\n",
      "  brf.fit(X_train.values, y_train.values)\n",
      "C:\\Users\\vedpi\\AppData\\Local\\Temp/ipykernel_12160/2965003013.py:9: DataConversionWarning: A column-vector y was passed when a 1d array was expected. Please change the shape of y to (n_samples,), for example using ravel().\n",
      "  brf.fit(X_train.values, y_train.values)\n",
      "C:\\Users\\vedpi\\AppData\\Local\\Temp/ipykernel_12160/2965003013.py:9: DataConversionWarning: A column-vector y was passed when a 1d array was expected. Please change the shape of y to (n_samples,), for example using ravel().\n",
      "  brf.fit(X_train.values, y_train.values)\n",
      "C:\\Users\\vedpi\\AppData\\Local\\Temp/ipykernel_12160/2965003013.py:9: DataConversionWarning: A column-vector y was passed when a 1d array was expected. Please change the shape of y to (n_samples,), for example using ravel().\n",
      "  brf.fit(X_train.values, y_train.values)\n",
      "C:\\Users\\vedpi\\AppData\\Local\\Temp/ipykernel_12160/2965003013.py:9: DataConversionWarning: A column-vector y was passed when a 1d array was expected. Please change the shape of y to (n_samples,), for example using ravel().\n",
      "  brf.fit(X_train.values, y_train.values)\n",
      "C:\\Users\\vedpi\\AppData\\Local\\Temp/ipykernel_12160/2965003013.py:9: DataConversionWarning: A column-vector y was passed when a 1d array was expected. Please change the shape of y to (n_samples,), for example using ravel().\n",
      "  brf.fit(X_train.values, y_train.values)\n"
     ]
    }
   ],
   "source": [
    "cm1 = np.zeros((length, length))\n",
    "unraveled_positions = []\n",
    "for train_index, test_index in skf.split(selected_data_high_level[\"sig_gene_seq\"], selected_data_high_level[\"high_level_substr\"]):\n",
    "    # fit the search\n",
    "#     search = GridSearchCV(clf, param_grid, n_jobs=6 , verbose = 3, cv = 5, scoring = \"balanced_accuracy\")\n",
    "    X_train, X_test = selected_data_high_level[[\"lengths\"]].iloc[train_index,:], selected_data_high_level[[\"lengths\"]].iloc[test_index,:]\n",
    "    y_train, y_test = selected_data_high_level[[\"high_level_substr\"]].iloc[train_index,:], \\\n",
    "                      selected_data_high_level[[\"high_level_substr\"]].iloc[test_index,:]\n",
    "    brf.fit(X_train.values, y_train.values)\n",
    "    y_pred_test = brf.predict(X_test.values)\n",
    "    # get the array oaf confusion matrix\n",
    "    cm = confusion_matrix(y_test, y_pred_test, normalize = 'true')\n",
    "    \n",
    "    unraveled_positions.append(cm.ravel().tolist())\n",
    "    \n",
    "    cm1 += cm  "
   ]
  },
  {
   "cell_type": "code",
   "execution_count": 43,
   "id": "8862bbdf",
   "metadata": {},
   "outputs": [
    {
     "data": {
      "image/png": "[encoded data removed]",
      "text/plain": [
       "<Figure size 720x720 with 2 Axes>"
      ]
     },
     "metadata": {
      "needs_background": "light"
     },
     "output_type": "display_data"
    }
   ],
   "source": [
    "# get the array oaf confusion matrix\n",
    "cm = cm1/10\n",
    "\n",
    "# dataframe for confusion matrix\n",
    "df_cm = pd.DataFrame(cm, index = [i for i in brf.classes_],\n",
    "                  columns = [i for i in brf.classes_])\n",
    "\n",
    "# make the plot\n",
    "fig = plt.figure(figsize = (10, 10))\n",
    "sns.heatmap(df_cm, annot = True)\n",
    "plt.title(\"confusion matrix for the test set\", fontsize = 20)\n",
    "plt.xlabel(\"Predicted Label\", fontsize = 20)\n",
    "plt.ylabel(\"True Label\", fontsize = 20)\n",
    "plt.show()\n"
   ]
  },
  {
   "cell_type": "code",
   "execution_count": 44,
   "id": "fe475494",
   "metadata": {},
   "outputs": [
    {
     "data": {
      "image/png": "[encoded data removed]",
      "text/plain": [
       "<Figure size 720x720 with 2 Axes>"
      ]
     },
     "metadata": {
      "needs_background": "light"
     },
     "output_type": "display_data"
    }
   ],
   "source": [
    "flattened_confusion_matrices = pd.DataFrame(unraveled_positions)\n",
    "df_cm_std = np.array(flattened_confusion_matrices.std(0)).reshape(df_cm.shape[1],df_cm.shape[1])\n",
    "df_cm_std = pd.DataFrame(df_cm_std, index = [i for i in brf.classes_],\n",
    "                  columns = [i for i in brf.classes_])\n",
    "\n",
    "# make the plot\n",
    "fig = plt.figure(figsize = (10, 10))\n",
    "sns.heatmap(df_cm_std, annot = True)\n",
    "plt.title(\"Standard deviation for confusion matrix for the test set\", fontsize = 20)\n",
    "plt.xlabel(\"Predicted Label\", fontsize = 20)\n",
    "plt.ylabel(\"True Label\", fontsize = 20)\n",
    "plt.show()\n"
   ]
  }
 ],
 "metadata": {
  "kernelspec": {
   "display_name": "Python 3 (ipykernel)",
   "language": "python",
   "name": "python3"
  },
  "language_info": {
   "codemirror_mode": {
    "name": "ipython",
    "version": 3
   },
   "file_extension": ".py",
   "mimetype": "text/x-python",
   "name": "python",
   "nbconvert_exporter": "python",
   "pygments_lexer": "ipython3",
   "version": "3.9.7"
  }
 },
 "nbformat": 4,
 "nbformat_minor": 5
}
