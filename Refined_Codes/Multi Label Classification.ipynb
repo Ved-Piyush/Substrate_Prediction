{
 "cells": [
  {
   "cell_type": "code",
   "execution_count": 13,
   "id": "cd58ff86",
   "metadata": {},
   "outputs": [],
   "source": [
    "# set the directory to where the data is\n",
    "import os\n",
    "\n",
    "os.chdir(r\"D:\\Gene_Project\")"
   ]
  },
  {
   "cell_type": "code",
   "execution_count": 14,
   "id": "11964368",
   "metadata": {},
   "outputs": [],
   "source": [
    "# pandas for dealing with the data\n",
    "import pandas as pd\n",
    "# setting for seeing the entire string\n",
    "pd.options.display.max_colwidth = None\n",
    "pd.set_option('display.max_rows', 500)"
   ]
  },
  {
   "cell_type": "code",
   "execution_count": 15,
   "id": "93164546",
   "metadata": {},
   "outputs": [],
   "source": [
    "# load the data - new data that was provided\n",
    "data = pd.read_csv(r\"pul_seq_low_high_substr_year_corrected.tsv\", sep = \"\\t\").dropna().sample(frac = 1.0)"
   ]
  },
  {
   "cell_type": "code",
   "execution_count": 16,
   "id": "67f6cf05",
   "metadata": {},
   "outputs": [
    {
     "data": {
      "text/html": [
       "<div>\n",
       "<style scoped>\n",
       "    .dataframe tbody tr th:only-of-type {\n",
       "        vertical-align: middle;\n",
       "    }\n",
       "\n",
       "    .dataframe tbody tr th {\n",
       "        vertical-align: top;\n",
       "    }\n",
       "\n",
       "    .dataframe thead th {\n",
       "        text-align: right;\n",
       "    }\n",
       "</style>\n",
       "<table border=\"1\" class=\"dataframe\">\n",
       "  <thead>\n",
       "    <tr style=\"text-align: right;\">\n",
       "      <th></th>\n",
       "      <th>PULid</th>\n",
       "      <th>sig_gene_seq</th>\n",
       "      <th>low_level_substr</th>\n",
       "      <th>high_level_substr</th>\n",
       "      <th>Pub_year</th>\n",
       "    </tr>\n",
       "  </thead>\n",
       "  <tbody>\n",
       "    <tr>\n",
       "      <th>562</th>\n",
       "      <td>PUL0565</td>\n",
       "      <td>2.A.2,GH130,GH36,GH26,GH26,1.B.14,HTH_AraC</td>\n",
       "      <td>galactomannan,glucomannan</td>\n",
       "      <td>multiple_substrates</td>\n",
       "      <td>2011,2017</td>\n",
       "    </tr>\n",
       "    <tr>\n",
       "      <th>409</th>\n",
       "      <td>PUL0412</td>\n",
       "      <td>GH28,2.A.1</td>\n",
       "      <td>polygalacturonic acid</td>\n",
       "      <td>pectin</td>\n",
       "      <td>2003</td>\n",
       "    </tr>\n",
       "    <tr>\n",
       "      <th>358</th>\n",
       "      <td>PUL0361</td>\n",
       "      <td>8.A.9,3.A.1,3.A.1,3.A.1,GH13_20,GH4</td>\n",
       "      <td>starch,maltodextrin</td>\n",
       "      <td>multiple_substrates</td>\n",
       "      <td>2000</td>\n",
       "    </tr>\n",
       "    <tr>\n",
       "      <th>422</th>\n",
       "      <td>PUL0425</td>\n",
       "      <td>PfkB,2.A.1,GH32,GH91,GH91,1.B.14,GH32</td>\n",
       "      <td>fructan,inulin</td>\n",
       "      <td>multiple_substrates</td>\n",
       "      <td>2011</td>\n",
       "    </tr>\n",
       "    <tr>\n",
       "      <th>459</th>\n",
       "      <td>PUL0462</td>\n",
       "      <td>GT2,GT4,GT2</td>\n",
       "      <td>O-antigen</td>\n",
       "      <td>O-antigen</td>\n",
       "      <td>2014</td>\n",
       "    </tr>\n",
       "  </tbody>\n",
       "</table>\n",
       "</div>"
      ],
      "text/plain": [
       "       PULid                                sig_gene_seq  \\\n",
       "562  PUL0565  2.A.2,GH130,GH36,GH26,GH26,1.B.14,HTH_AraC   \n",
       "409  PUL0412                                  GH28,2.A.1   \n",
       "358  PUL0361         8.A.9,3.A.1,3.A.1,3.A.1,GH13_20,GH4   \n",
       "422  PUL0425       PfkB,2.A.1,GH32,GH91,GH91,1.B.14,GH32   \n",
       "459  PUL0462                                 GT2,GT4,GT2   \n",
       "\n",
       "              low_level_substr    high_level_substr   Pub_year  \n",
       "562  galactomannan,glucomannan  multiple_substrates  2011,2017  \n",
       "409      polygalacturonic acid               pectin       2003  \n",
       "358        starch,maltodextrin  multiple_substrates       2000  \n",
       "422             fructan,inulin  multiple_substrates       2011  \n",
       "459                  O-antigen            O-antigen       2014  "
      ]
     },
     "execution_count": 16,
     "metadata": {},
     "output_type": "execute_result"
    }
   ],
   "source": [
    "data.head()"
   ]
  },
  {
   "cell_type": "code",
   "execution_count": 17,
   "id": "69617060",
   "metadata": {},
   "outputs": [],
   "source": [
    "from sklearn.ensemble import RandomForestClassifier"
   ]
  },
  {
   "cell_type": "code",
   "execution_count": 18,
   "id": "9cbb9316",
   "metadata": {},
   "outputs": [],
   "source": [
    "from sklearn.model_selection import train_test_split"
   ]
  },
  {
   "cell_type": "code",
   "execution_count": 19,
   "id": "2f517437",
   "metadata": {},
   "outputs": [],
   "source": [
    "# get the multiple substrates data\n",
    "multiple_substrates = data[data[\"high_level_substr\"] == \"multiple_substrates\"].reset_index(drop = True)"
   ]
  },
  {
   "cell_type": "code",
   "execution_count": 20,
   "id": "760923fd",
   "metadata": {},
   "outputs": [
    {
     "data": {
      "text/html": [
       "<div>\n",
       "<style scoped>\n",
       "    .dataframe tbody tr th:only-of-type {\n",
       "        vertical-align: middle;\n",
       "    }\n",
       "\n",
       "    .dataframe tbody tr th {\n",
       "        vertical-align: top;\n",
       "    }\n",
       "\n",
       "    .dataframe thead th {\n",
       "        text-align: right;\n",
       "    }\n",
       "</style>\n",
       "<table border=\"1\" class=\"dataframe\">\n",
       "  <thead>\n",
       "    <tr style=\"text-align: right;\">\n",
       "      <th></th>\n",
       "      <th>PULid</th>\n",
       "      <th>sig_gene_seq</th>\n",
       "      <th>low_level_substr</th>\n",
       "      <th>high_level_substr</th>\n",
       "      <th>Pub_year</th>\n",
       "    </tr>\n",
       "  </thead>\n",
       "  <tbody>\n",
       "    <tr>\n",
       "      <th>0</th>\n",
       "      <td>PUL0565</td>\n",
       "      <td>2.A.2,GH130,GH36,GH26,GH26,1.B.14,HTH_AraC</td>\n",
       "      <td>galactomannan,glucomannan</td>\n",
       "      <td>multiple_substrates</td>\n",
       "      <td>2011,2017</td>\n",
       "    </tr>\n",
       "    <tr>\n",
       "      <th>1</th>\n",
       "      <td>PUL0361</td>\n",
       "      <td>8.A.9,3.A.1,3.A.1,3.A.1,GH13_20,GH4</td>\n",
       "      <td>starch,maltodextrin</td>\n",
       "      <td>multiple_substrates</td>\n",
       "      <td>2000</td>\n",
       "    </tr>\n",
       "    <tr>\n",
       "      <th>2</th>\n",
       "      <td>PUL0425</td>\n",
       "      <td>PfkB,2.A.1,GH32,GH91,GH91,1.B.14,GH32</td>\n",
       "      <td>fructan,inulin</td>\n",
       "      <td>multiple_substrates</td>\n",
       "      <td>2011</td>\n",
       "    </tr>\n",
       "    <tr>\n",
       "      <th>3</th>\n",
       "      <td>PUL0097</td>\n",
       "      <td>1.B.14,8.A.46,GH33,GH20,GH2,GH20,GH20,GH92,GH2,CE9,3.A.1</td>\n",
       "      <td>O-glycan,N-glycan</td>\n",
       "      <td>multiple_substrates</td>\n",
       "      <td>2019</td>\n",
       "    </tr>\n",
       "    <tr>\n",
       "      <th>4</th>\n",
       "      <td>PUL0102</td>\n",
       "      <td>GH20,GH29,8.A.46,1.B.14,GH33,MarR,HTH_3,CBM67|GH78,HTH_AraC</td>\n",
       "      <td>O-glycan,N-glycan</td>\n",
       "      <td>multiple_substrates</td>\n",
       "      <td>2019</td>\n",
       "    </tr>\n",
       "  </tbody>\n",
       "</table>\n",
       "</div>"
      ],
      "text/plain": [
       "     PULid                                                 sig_gene_seq  \\\n",
       "0  PUL0565                   2.A.2,GH130,GH36,GH26,GH26,1.B.14,HTH_AraC   \n",
       "1  PUL0361                          8.A.9,3.A.1,3.A.1,3.A.1,GH13_20,GH4   \n",
       "2  PUL0425                        PfkB,2.A.1,GH32,GH91,GH91,1.B.14,GH32   \n",
       "3  PUL0097     1.B.14,8.A.46,GH33,GH20,GH2,GH20,GH20,GH92,GH2,CE9,3.A.1   \n",
       "4  PUL0102  GH20,GH29,8.A.46,1.B.14,GH33,MarR,HTH_3,CBM67|GH78,HTH_AraC   \n",
       "\n",
       "            low_level_substr    high_level_substr   Pub_year  \n",
       "0  galactomannan,glucomannan  multiple_substrates  2011,2017  \n",
       "1        starch,maltodextrin  multiple_substrates       2000  \n",
       "2             fructan,inulin  multiple_substrates       2011  \n",
       "3          O-glycan,N-glycan  multiple_substrates       2019  \n",
       "4          O-glycan,N-glycan  multiple_substrates       2019  "
      ]
     },
     "execution_count": 20,
     "metadata": {},
     "output_type": "execute_result"
    }
   ],
   "source": [
    "multiple_substrates.head()"
   ]
  },
  {
   "cell_type": "code",
   "execution_count": 21,
   "id": "35af67ee",
   "metadata": {},
   "outputs": [],
   "source": [
    "# get the low level frequencies\n",
    "multiple_substrates_low_level = multiple_substrates[\"low_level_substr\"]"
   ]
  },
  {
   "cell_type": "code",
   "execution_count": 22,
   "id": "2f3045fa",
   "metadata": {},
   "outputs": [],
   "source": [
    "multiple_substrates_low_level = [gene for seq in multiple_substrates_low_level for gene in str(seq).split(\",\")]"
   ]
  },
  {
   "cell_type": "code",
   "execution_count": 23,
   "id": "01ac4681",
   "metadata": {},
   "outputs": [],
   "source": [
    "from collections import Counter"
   ]
  },
  {
   "cell_type": "code",
   "execution_count": 24,
   "id": "4f11deb2",
   "metadata": {},
   "outputs": [],
   "source": [
    "freq_counts = Counter(multiple_substrates_low_level)"
   ]
  },
  {
   "cell_type": "code",
   "execution_count": 25,
   "id": "dc3066ee",
   "metadata": {},
   "outputs": [],
   "source": [
    "freq_counts=dict(sorted(freq_counts.items(),key= lambda x:x[1], reverse = True))"
   ]
  },
  {
   "cell_type": "code",
   "execution_count": 26,
   "id": "bd84a6d2",
   "metadata": {},
   "outputs": [
    {
     "data": {
      "text/plain": [
       "{'O-glycan': 28,\n",
       " 'N-glycan': 23,\n",
       " 'xylan': 22,\n",
       " 'beta-glucan': 17,\n",
       " 'glucomannan': 12,\n",
       " 'lichenan': 12,\n",
       " 'sucrose': 11,\n",
       " 'kestose': 11,\n",
       " 'galactomannan': 10,\n",
       " 'cellobiose': 9,\n",
       " 'mucin': 8,\n",
       " 'nystose': 8,\n",
       " 'melibiose': 7,\n",
       " 'glucose': 7,\n",
       " 'host glycan': 7,\n",
       " 'carboxymethylcellulose': 6,\n",
       " 'lactose': 6,\n",
       " 'arabinan': 6,\n",
       " 'pectin': 6,\n",
       " 'capsule polysaccharide': 5,\n",
       " 'fructan': 4,\n",
       " 'inulin': 4,\n",
       " 'raffinose': 4,\n",
       " 'arabinoxylan': 4,\n",
       " 'levan': 4,\n",
       " 'rhamnogalacturonan': 4,\n",
       " 'maltose': 4,\n",
       " 'agar': 4,\n",
       " 'starch': 3,\n",
       " 'alginate': 3,\n",
       " 'outer core capsule polysaccharide': 3,\n",
       " 'exopolysaccharide': 3,\n",
       " 'xylobiose': 3,\n",
       " 'cellulose': 3,\n",
       " 'laminarin': 3,\n",
       " 'fructooligosaccharide': 3,\n",
       " 'porphyran': 3,\n",
       " 'maltodextrin': 2,\n",
       " 'ulvan': 2,\n",
       " 'O-antigen': 2,\n",
       " 'N-acetyl-D-galactosamine': 2,\n",
       " 'lipopolysaccharide': 2,\n",
       " 'glucosamine': 2,\n",
       " 'galactose': 2,\n",
       " 'maltotriose': 2,\n",
       " 'xyloglucan': 2,\n",
       " 'stachyose': 2,\n",
       " 'alpha-glucan': 2,\n",
       " 'xylose': 2,\n",
       " 'arabinose': 2,\n",
       " 'isomaltotriose': 1,\n",
       " 'mannose': 1,\n",
       " 'glycosaminoglycan': 1,\n",
       " 'chondroitin sulfate': 1,\n",
       " 'human milk oligosaccharide': 1,\n",
       " 'd-galactosamine': 1,\n",
       " 'unsaturated hyaluronate disaccharide': 1,\n",
       " 'chondroitin disaccharide': 1,\n",
       " 'unknown polysaccharide': 1,\n",
       " 'sophorose': 1,\n",
       " 'laminaribiose': 1,\n",
       " 'chitin': 1,\n",
       " 'chitobiose': 1,\n",
       " 'xylodextrin': 1,\n",
       " 'alpha-mannoside': 1,\n",
       " 'alpha-galactoside': 1,\n",
       " 'beta-galactoside': 1,\n",
       " 'carrageenan': 1,\n",
       " 'mannan': 1,\n",
       " 'raffinose-oligosaccharide': 1,\n",
       " 'N-acetyl-D-glucosamine': 1,\n",
       " 'heparosan': 1,\n",
       " 'arabino-xylooligosaccharide': 1,\n",
       " 'xylotriose': 1,\n",
       " 'hemicellulose': 1,\n",
       " 'beta-glucoside': 1,\n",
       " 'cellooligosaccharide': 1,\n",
       " 'fucose': 1,\n",
       " 'galacturonic acid': 1,\n",
       " ' rhamnose': 1,\n",
       " 'plant polysaccharide': 1,\n",
       " 'isomaltose': 1,\n",
       " 'panose': 1,\n",
       " 'arabinogalactan': 1,\n",
       " 'xylooligosaccharide': 1,\n",
       " 'cellotriose': 1,\n",
       " 'chondrotin sulfate': 1}"
      ]
     },
     "execution_count": 26,
     "metadata": {},
     "output_type": "execute_result"
    }
   ],
   "source": [
    "freq_counts"
   ]
  },
  {
   "cell_type": "code",
   "execution_count": 29,
   "id": "f66751b9",
   "metadata": {},
   "outputs": [
    {
     "data": {
      "text/plain": [
       "{'N-glycan',\n",
       " 'O-antigen',\n",
       " 'O-glycan',\n",
       " 'alpha-glucan',\n",
       " 'capsule polysaccharide',\n",
       " 'cellulose',\n",
       " 'chitin',\n",
       " 'exopolysaccharide',\n",
       " 'fructan',\n",
       " 'glycosaminoglycan',\n",
       " 'hemicellulose',\n",
       " 'host glycan',\n",
       " 'human milk oligosaccharide',\n",
       " 'pectin',\n",
       " 'plant polysaccharide',\n",
       " 'xylan',\n",
       " 'xyloglucan'}"
      ]
     },
     "execution_count": 29,
     "metadata": {},
     "output_type": "execute_result"
    }
   ],
   "source": [
    "# get the class distributions\n",
    "set(data[\"high_level_substr\"].value_counts().keys()).intersection(freq_counts)"
   ]
  },
  {
   "cell_type": "code",
   "execution_count": null,
   "id": "405969ba",
   "metadata": {},
   "outputs": [],
   "source": [
    "keep_these = [gene for gene, freq in freq_counts.items() if freq >= 10]"
   ]
  },
  {
   "cell_type": "code",
   "execution_count": null,
   "id": "4d78028e",
   "metadata": {},
   "outputs": [],
   "source": [
    "catch = []\n",
    "\n",
    "for low_level_class in multiple_substrates[\"low_level_substr\"]: \n",
    "    split_list = low_level_class.split(\",\")\n",
    "    split_list = [inner_class if inner_class in keep_these else 'others'  for inner_class in split_list]\n",
    "#     new_low_level = \",\".join(split_list)\n",
    "    catch.append(split_list)"
   ]
  },
  {
   "cell_type": "code",
   "execution_count": null,
   "id": "6456ff46",
   "metadata": {},
   "outputs": [],
   "source": [
    "catch = [list(np.unique(list1)) for list1 in catch]"
   ]
  },
  {
   "cell_type": "code",
   "execution_count": null,
   "id": "cfe63a33",
   "metadata": {},
   "outputs": [],
   "source": [
    "vectorizer = CountVectorizer(tokenizer=lambda x: str(x).replace(\"|\", \",\").split(','), lowercase = False)"
   ]
  },
  {
   "cell_type": "code",
   "execution_count": 319,
   "id": "3cfc6367",
   "metadata": {},
   "outputs": [],
   "source": [
    "X_train, X_test, y_train, y_test = train_test_split(multiple_substrates[\"sig_gene_seq\"],\n",
    "                                                    catch, test_size=0.30, random_state=42)"
   ]
  },
  {
   "cell_type": "code",
   "execution_count": 320,
   "id": "d934d1a8",
   "metadata": {},
   "outputs": [],
   "source": [
    "one_hot = MultiLabelBinarizer()"
   ]
  },
  {
   "cell_type": "code",
   "execution_count": 321,
   "id": "1e60ba12",
   "metadata": {},
   "outputs": [
    {
     "data": {
      "text/plain": [
       "MultiLabelBinarizer()"
      ]
     },
     "execution_count": 321,
     "metadata": {},
     "output_type": "execute_result"
    }
   ],
   "source": [
    "one_hot.fit(y_train)"
   ]
  },
  {
   "cell_type": "code",
   "execution_count": 322,
   "id": "36875fd8",
   "metadata": {},
   "outputs": [
    {
     "data": {
      "text/plain": [
       "array(['N-glycan', 'O-glycan', 'beta-glucan', 'galactomannan',\n",
       "       'glucomannan', 'kestose', 'lichenan', 'others', 'sucrose', 'xylan'],\n",
       "      dtype=object)"
      ]
     },
     "execution_count": 322,
     "metadata": {},
     "output_type": "execute_result"
    }
   ],
   "source": [
    "one_hot.classes_"
   ]
  },
  {
   "cell_type": "code",
   "execution_count": 323,
   "id": "803c5fcf",
   "metadata": {},
   "outputs": [
    {
     "data": {
      "text/plain": [
       "10"
      ]
     },
     "execution_count": 323,
     "metadata": {},
     "output_type": "execute_result"
    }
   ],
   "source": [
    "len(one_hot.classes_)"
   ]
  },
  {
   "cell_type": "code",
   "execution_count": 324,
   "id": "0f04ccb0",
   "metadata": {},
   "outputs": [],
   "source": [
    "labels_train = one_hot.transform(y_train)"
   ]
  },
  {
   "cell_type": "code",
   "execution_count": 325,
   "id": "ba5fc548",
   "metadata": {},
   "outputs": [],
   "source": [
    "labels_test = one_hot.transform(y_test)"
   ]
  },
  {
   "cell_type": "code",
   "execution_count": 326,
   "id": "4e00971d",
   "metadata": {},
   "outputs": [],
   "source": [
    "from sklearn.feature_extraction.text import CountVectorizer"
   ]
  },
  {
   "cell_type": "code",
   "execution_count": 327,
   "id": "af015f82",
   "metadata": {},
   "outputs": [],
   "source": [
    "vectorizer = CountVectorizer(tokenizer=lambda x: str(x).replace(\"|\", \",\").split(','), lowercase = False)"
   ]
  },
  {
   "cell_type": "code",
   "execution_count": 328,
   "id": "ff9cc408",
   "metadata": {},
   "outputs": [
    {
     "name": "stderr",
     "output_type": "stream",
     "text": [
      "C:\\Users\\vedpi\\anaconda3\\envs\\newone\\lib\\site-packages\\sklearn\\feature_extraction\\text.py:516: UserWarning: The parameter 'token_pattern' will not be used since 'tokenizer' is not None'\n",
      "  warnings.warn(\n"
     ]
    },
    {
     "data": {
      "text/plain": [
       "CountVectorizer(lowercase=False,\n",
       "                tokenizer=<function <lambda> at 0x0000019CC88B2670>)"
      ]
     },
     "execution_count": 328,
     "metadata": {},
     "output_type": "execute_result"
    }
   ],
   "source": [
    "vectorizer.fit(X_train.values)"
   ]
  },
  {
   "cell_type": "code",
   "execution_count": 329,
   "id": "ab11ce67",
   "metadata": {},
   "outputs": [],
   "source": [
    "X_train = vectorizer.transform(X_train.values)"
   ]
  },
  {
   "cell_type": "code",
   "execution_count": 330,
   "id": "da3f9f89",
   "metadata": {},
   "outputs": [],
   "source": [
    "X_test = vectorizer.transform(X_test.values)"
   ]
  },
  {
   "cell_type": "code",
   "execution_count": 331,
   "id": "36be670b",
   "metadata": {},
   "outputs": [
    {
     "data": {
      "text/plain": [
       "<96x168 sparse matrix of type '<class 'numpy.int64'>'\n",
       "\twith 533 stored elements in Compressed Sparse Row format>"
      ]
     },
     "execution_count": 331,
     "metadata": {},
     "output_type": "execute_result"
    }
   ],
   "source": [
    "X_train"
   ]
  },
  {
   "cell_type": "code",
   "execution_count": 407,
   "id": "baedad97",
   "metadata": {},
   "outputs": [],
   "source": [
    "rf = RandomForestClassifier(n_jobs = 6)"
   ]
  },
  {
   "cell_type": "code",
   "execution_count": 384,
   "id": "c59ecb06",
   "metadata": {},
   "outputs": [],
   "source": [
    "# from imblearn.ensemble import BalancedRandomForestClassifier"
   ]
  },
  {
   "cell_type": "code",
   "execution_count": 377,
   "id": "abd39914",
   "metadata": {},
   "outputs": [],
   "source": [
    "# rf = BalancedRandomForestClassifier(n_jobs = 6)"
   ]
  },
  {
   "cell_type": "code",
   "execution_count": 408,
   "id": "d751a1fc",
   "metadata": {},
   "outputs": [
    {
     "data": {
      "text/plain": [
       "RandomForestClassifier(n_jobs=6)"
      ]
     },
     "execution_count": 408,
     "metadata": {},
     "output_type": "execute_result"
    }
   ],
   "source": [
    "rf.fit(X_train, labels_train)"
   ]
  },
  {
   "cell_type": "code",
   "execution_count": 409,
   "id": "147f031c",
   "metadata": {},
   "outputs": [],
   "source": [
    "y_test_pred = rf.predict(X_test)"
   ]
  },
  {
   "cell_type": "code",
   "execution_count": 410,
   "id": "e7a086f4",
   "metadata": {},
   "outputs": [
    {
     "data": {
      "text/plain": [
       "[['others'],\n",
       " ['others'],\n",
       " ['N-glycan', 'O-glycan'],\n",
       " ['others'],\n",
       " ['others'],\n",
       " ['others', 'xylan'],\n",
       " ['N-glycan', 'O-glycan'],\n",
       " ['others'],\n",
       " ['kestose', 'sucrose'],\n",
       " ['others'],\n",
       " ['beta-glucan', 'lichenan', 'xylan'],\n",
       " ['O-glycan', 'others'],\n",
       " ['kestose', 'others', 'sucrose'],\n",
       " ['others', 'xylan'],\n",
       " ['others', 'xylan'],\n",
       " ['N-glycan', 'others'],\n",
       " ['galactomannan', 'glucomannan', 'others'],\n",
       " ['others'],\n",
       " ['others'],\n",
       " ['others'],\n",
       " ['others'],\n",
       " ['glucomannan', 'others'],\n",
       " ['O-glycan', 'others'],\n",
       " ['beta-glucan', 'lichenan', 'xylan'],\n",
       " ['others', 'xylan'],\n",
       " ['others'],\n",
       " ['others'],\n",
       " ['N-glycan', 'O-glycan'],\n",
       " ['beta-glucan', 'lichenan', 'xylan'],\n",
       " ['N-glycan', 'O-glycan'],\n",
       " ['kestose', 'others', 'sucrose'],\n",
       " ['beta-glucan', 'lichenan', 'xylan'],\n",
       " ['others'],\n",
       " ['others'],\n",
       " ['others'],\n",
       " ['N-glycan', 'O-glycan'],\n",
       " ['others', 'xylan'],\n",
       " ['beta-glucan', 'lichenan', 'others', 'xylan'],\n",
       " ['N-glycan', 'O-glycan'],\n",
       " ['beta-glucan', 'others'],\n",
       " ['glucomannan', 'others'],\n",
       " ['O-glycan', 'others']]"
      ]
     },
     "execution_count": 410,
     "metadata": {},
     "output_type": "execute_result"
    }
   ],
   "source": [
    "y_test"
   ]
  },
  {
   "cell_type": "code",
   "execution_count": 411,
   "id": "e828dd50",
   "metadata": {},
   "outputs": [],
   "source": [
    "y_test_pred_labels = [list(one_hot.classes_[list(np.where(labels ==1)[0])]) for labels in y_test_pred]"
   ]
  },
  {
   "cell_type": "code",
   "execution_count": 412,
   "id": "4aaa54ac",
   "metadata": {},
   "outputs": [
    {
     "data": {
      "text/plain": [
       "[['others'],\n",
       " ['others'],\n",
       " ['others'],\n",
       " ['others'],\n",
       " ['others'],\n",
       " ['others'],\n",
       " ['N-glycan', 'O-glycan'],\n",
       " ['others'],\n",
       " ['kestose', 'sucrose'],\n",
       " ['others'],\n",
       " ['beta-glucan', 'others'],\n",
       " ['others'],\n",
       " ['kestose', 'others', 'sucrose'],\n",
       " ['others', 'xylan'],\n",
       " ['others'],\n",
       " ['others'],\n",
       " ['others'],\n",
       " ['others'],\n",
       " ['others'],\n",
       " ['others'],\n",
       " ['others'],\n",
       " ['others'],\n",
       " ['others'],\n",
       " ['beta-glucan'],\n",
       " ['O-glycan', 'others'],\n",
       " ['others'],\n",
       " ['others'],\n",
       " ['N-glycan', 'O-glycan'],\n",
       " ['beta-glucan', 'others'],\n",
       " ['N-glycan', 'O-glycan'],\n",
       " ['others'],\n",
       " ['beta-glucan', 'glucomannan', 'others'],\n",
       " ['others'],\n",
       " ['others'],\n",
       " ['others'],\n",
       " ['N-glycan', 'O-glycan'],\n",
       " ['others'],\n",
       " ['others'],\n",
       " ['N-glycan', 'O-glycan'],\n",
       " ['others'],\n",
       " ['O-glycan', 'others'],\n",
       " ['O-glycan', 'others']]"
      ]
     },
     "execution_count": 412,
     "metadata": {},
     "output_type": "execute_result"
    }
   ],
   "source": [
    "y_test_pred_labels"
   ]
  },
  {
   "cell_type": "code",
   "execution_count": 413,
   "id": "320c4a97",
   "metadata": {},
   "outputs": [],
   "source": [
    "accuracy_vectors = [len(set(n).intersection(y_test_pred_labels[i]))/len(n) for  i, n in enumerate(y_test)]"
   ]
  },
  {
   "cell_type": "code",
   "execution_count": 414,
   "id": "76bf95da",
   "metadata": {},
   "outputs": [
    {
     "data": {
      "text/plain": [
       "0.7440476190476191"
      ]
     },
     "execution_count": 414,
     "metadata": {},
     "output_type": "execute_result"
    }
   ],
   "source": [
    "np.mean(accuracy_vectors)"
   ]
  },
  {
   "cell_type": "code",
   "execution_count": 415,
   "id": "cf13bb66",
   "metadata": {},
   "outputs": [],
   "source": [
    "catch = []\n",
    "\n",
    "for class_label in one_hot.classes_:\n",
    "#     print(class_label)\n",
    "    inner_actual = []\n",
    "    inner_predicted = []\n",
    "    for index in range(0, len(y_test)): \n",
    "        actual = class_label in y_test[index]\n",
    "        pred = class_label in y_test_pred_labels[index]\n",
    "        if actual == True: \n",
    "            inner_actual.append(actual)\n",
    "            inner_predicted.append(pred)\n",
    "    dict1 = {\"Substrate\": class_label, \"accuracy\": np.mean(np.array(inner_actual) == np.array(inner_predicted)), \n",
    "            \"How_many\": len(inner_actual)}\n",
    "    catch.append(dict1)\n",
    "#     print(np.mean(np.array(inner_actual) == np.array(inner_predicted)))\n",
    "    \n",
    "    "
   ]
  },
  {
   "cell_type": "code",
   "execution_count": 416,
   "id": "01a3e04a",
   "metadata": {},
   "outputs": [],
   "source": [
    "test_data_df = pd.DataFrame(catch)"
   ]
  },
  {
   "cell_type": "code",
   "execution_count": 417,
   "id": "7dedb3a4",
   "metadata": {},
   "outputs": [
    {
     "data": {
      "text/html": [
       "<div>\n",
       "<style scoped>\n",
       "    .dataframe tbody tr th:only-of-type {\n",
       "        vertical-align: middle;\n",
       "    }\n",
       "\n",
       "    .dataframe tbody tr th {\n",
       "        vertical-align: top;\n",
       "    }\n",
       "\n",
       "    .dataframe thead th {\n",
       "        text-align: right;\n",
       "    }\n",
       "</style>\n",
       "<table border=\"1\" class=\"dataframe\">\n",
       "  <thead>\n",
       "    <tr style=\"text-align: right;\">\n",
       "      <th></th>\n",
       "      <th>Substrate</th>\n",
       "      <th>accuracy</th>\n",
       "      <th>How_many</th>\n",
       "    </tr>\n",
       "  </thead>\n",
       "  <tbody>\n",
       "    <tr>\n",
       "      <th>0</th>\n",
       "      <td>others</td>\n",
       "      <td>1.000000</td>\n",
       "      <td>31</td>\n",
       "    </tr>\n",
       "    <tr>\n",
       "      <th>1</th>\n",
       "      <td>N-glycan</td>\n",
       "      <td>0.714286</td>\n",
       "      <td>7</td>\n",
       "    </tr>\n",
       "    <tr>\n",
       "      <th>2</th>\n",
       "      <td>O-glycan</td>\n",
       "      <td>0.666667</td>\n",
       "      <td>9</td>\n",
       "    </tr>\n",
       "    <tr>\n",
       "      <th>3</th>\n",
       "      <td>beta-glucan</td>\n",
       "      <td>0.666667</td>\n",
       "      <td>6</td>\n",
       "    </tr>\n",
       "    <tr>\n",
       "      <th>4</th>\n",
       "      <td>kestose</td>\n",
       "      <td>0.666667</td>\n",
       "      <td>3</td>\n",
       "    </tr>\n",
       "    <tr>\n",
       "      <th>5</th>\n",
       "      <td>sucrose</td>\n",
       "      <td>0.666667</td>\n",
       "      <td>3</td>\n",
       "    </tr>\n",
       "    <tr>\n",
       "      <th>6</th>\n",
       "      <td>xylan</td>\n",
       "      <td>0.100000</td>\n",
       "      <td>10</td>\n",
       "    </tr>\n",
       "    <tr>\n",
       "      <th>7</th>\n",
       "      <td>galactomannan</td>\n",
       "      <td>0.000000</td>\n",
       "      <td>1</td>\n",
       "    </tr>\n",
       "    <tr>\n",
       "      <th>8</th>\n",
       "      <td>glucomannan</td>\n",
       "      <td>0.000000</td>\n",
       "      <td>3</td>\n",
       "    </tr>\n",
       "    <tr>\n",
       "      <th>9</th>\n",
       "      <td>lichenan</td>\n",
       "      <td>0.000000</td>\n",
       "      <td>5</td>\n",
       "    </tr>\n",
       "  </tbody>\n",
       "</table>\n",
       "</div>"
      ],
      "text/plain": [
       "       Substrate  accuracy  How_many\n",
       "0         others  1.000000        31\n",
       "1       N-glycan  0.714286         7\n",
       "2       O-glycan  0.666667         9\n",
       "3    beta-glucan  0.666667         6\n",
       "4        kestose  0.666667         3\n",
       "5        sucrose  0.666667         3\n",
       "6          xylan  0.100000        10\n",
       "7  galactomannan  0.000000         1\n",
       "8    glucomannan  0.000000         3\n",
       "9       lichenan  0.000000         5"
      ]
     },
     "execution_count": 417,
     "metadata": {},
     "output_type": "execute_result"
    }
   ],
   "source": [
    "test_data_df.sort_values(\"accuracy\", ascending = False).reset_index(drop = True)"
   ]
  }
 ],
 "metadata": {
  "kernelspec": {
   "display_name": "newone",
   "language": "python",
   "name": "newone"
  },
  "language_info": {
   "codemirror_mode": {
    "name": "ipython",
    "version": 3
   },
   "file_extension": ".py",
   "mimetype": "text/x-python",
   "name": "python",
   "nbconvert_exporter": "python",
   "pygments_lexer": "ipython3",
   "version": "3.9.7"
  }
 },
 "nbformat": 4,
 "nbformat_minor": 5
}
