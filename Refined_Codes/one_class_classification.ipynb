{
 "cells": [
  {
   "cell_type": "code",
   "execution_count": 32,
   "id": "cbeb5286",
   "metadata": {},
   "outputs": [],
   "source": [
    "# set the directory to where the data is\n",
    "import os\n",
    "\n",
    "os.chdir(r\"D:\\Gene_Project\")"
   ]
  },
  {
   "cell_type": "code",
   "execution_count": 33,
   "id": "48d6f6d2",
   "metadata": {},
   "outputs": [],
   "source": [
    "# pandas for dealing with the data\n",
    "import pandas as pd\n",
    "# setting for seeing the entire string\n",
    "pd.options.display.max_colwidth = None\n",
    "pd.set_option('display.max_rows', 500)"
   ]
  },
  {
   "cell_type": "code",
   "execution_count": 34,
   "id": "ce7a300b",
   "metadata": {},
   "outputs": [],
   "source": [
    "# load the data - new data that was provided\n",
    "data = pd.read_csv(r\"pul_seq_low_high_substr_year_corrected.csv\")"
   ]
  },
  {
   "cell_type": "code",
   "execution_count": 35,
   "id": "fb5de260",
   "metadata": {},
   "outputs": [
    {
     "data": {
      "text/html": [
       "<div>\n",
       "<style scoped>\n",
       "    .dataframe tbody tr th:only-of-type {\n",
       "        vertical-align: middle;\n",
       "    }\n",
       "\n",
       "    .dataframe tbody tr th {\n",
       "        vertical-align: top;\n",
       "    }\n",
       "\n",
       "    .dataframe thead th {\n",
       "        text-align: right;\n",
       "    }\n",
       "</style>\n",
       "<table border=\"1\" class=\"dataframe\">\n",
       "  <thead>\n",
       "    <tr style=\"text-align: right;\">\n",
       "      <th></th>\n",
       "      <th>PULid</th>\n",
       "      <th>sig_gene_seq</th>\n",
       "      <th>low_level_substr</th>\n",
       "      <th>high_level_substr</th>\n",
       "      <th>Pub_year</th>\n",
       "    </tr>\n",
       "  </thead>\n",
       "  <tbody>\n",
       "    <tr>\n",
       "      <th>0</th>\n",
       "      <td>PUL0001</td>\n",
       "      <td>GH1,8.A.49,CE2,GH130,GH130,3.A.1,3.A.1,SBP_bac_1,LacI,GH36,GH113</td>\n",
       "      <td>beta-mannan</td>\n",
       "      <td>beta-mannan</td>\n",
       "      <td>2019</td>\n",
       "    </tr>\n",
       "    <tr>\n",
       "      <th>1</th>\n",
       "      <td>PUL0002</td>\n",
       "      <td>GH16</td>\n",
       "      <td>lichenan</td>\n",
       "      <td>beta-glucan</td>\n",
       "      <td>1996</td>\n",
       "    </tr>\n",
       "    <tr>\n",
       "      <th>2</th>\n",
       "      <td>PUL0003</td>\n",
       "      <td>GH30_8,GH43_16|CBM6</td>\n",
       "      <td>xylan</td>\n",
       "      <td>xylan</td>\n",
       "      <td>2016</td>\n",
       "    </tr>\n",
       "    <tr>\n",
       "      <th>3</th>\n",
       "      <td>PUL0004</td>\n",
       "      <td>4.A.1,GH1</td>\n",
       "      <td>glucose,cellobiose,maltose</td>\n",
       "      <td>multiple_substrates</td>\n",
       "      <td>2016</td>\n",
       "    </tr>\n",
       "    <tr>\n",
       "      <th>4</th>\n",
       "      <td>PUL0005</td>\n",
       "      <td>GH94,GH3</td>\n",
       "      <td>beta-glucan,sophorose,laminaribiose</td>\n",
       "      <td>multiple_substrates</td>\n",
       "      <td>2016</td>\n",
       "    </tr>\n",
       "  </tbody>\n",
       "</table>\n",
       "</div>"
      ],
      "text/plain": [
       "     PULid                                                      sig_gene_seq  \\\n",
       "0  PUL0001  GH1,8.A.49,CE2,GH130,GH130,3.A.1,3.A.1,SBP_bac_1,LacI,GH36,GH113   \n",
       "1  PUL0002                                                              GH16   \n",
       "2  PUL0003                                               GH30_8,GH43_16|CBM6   \n",
       "3  PUL0004                                                         4.A.1,GH1   \n",
       "4  PUL0005                                                          GH94,GH3   \n",
       "\n",
       "                      low_level_substr    high_level_substr Pub_year  \n",
       "0                          beta-mannan          beta-mannan     2019  \n",
       "1                             lichenan         beta-glucan      1996  \n",
       "2                                xylan                xylan     2016  \n",
       "3           glucose,cellobiose,maltose  multiple_substrates     2016  \n",
       "4  beta-glucan,sophorose,laminaribiose  multiple_substrates     2016  "
      ]
     },
     "execution_count": 35,
     "metadata": {},
     "output_type": "execute_result"
    }
   ],
   "source": [
    "data.head()"
   ]
  },
  {
   "cell_type": "code",
   "execution_count": 36,
   "id": "f96d7098",
   "metadata": {},
   "outputs": [],
   "source": [
    "from sklearn.pipeline import Pipeline"
   ]
  },
  {
   "cell_type": "code",
   "execution_count": 37,
   "id": "99300daf",
   "metadata": {},
   "outputs": [],
   "source": [
    "from sklearn.feature_extraction.text import CountVectorizer"
   ]
  },
  {
   "cell_type": "code",
   "execution_count": 38,
   "id": "60e53c73",
   "metadata": {},
   "outputs": [],
   "source": [
    "vectorizer_word = CountVectorizer(tokenizer=lambda x: str(x).replace(\"|\", \",\").split(','), lowercase = False, \n",
    "                                 ngram_range=(1,2))"
   ]
  },
  {
   "cell_type": "code",
   "execution_count": 39,
   "id": "3c0f1038",
   "metadata": {},
   "outputs": [],
   "source": [
    "from sklearn.model_selection import GridSearchCV"
   ]
  },
  {
   "cell_type": "code",
   "execution_count": 40,
   "id": "39a72083",
   "metadata": {},
   "outputs": [
    {
     "data": {
      "text/plain": [
       "multiple_substrates           139\n",
       "mono/di/trisaccharide          78\n",
       "capsule polysaccharide         60\n",
       "algal glycans                  40\n",
       "pectin                         38\n",
       "xylan                          38\n",
       "O-antigen                      37\n",
       "galactan                       36\n",
       "alpha-glucan                   23\n",
       "beta-mannan                    19\n",
       "cellulose                      18\n",
       "chitin                         15\n",
       "glycosaminoglycan              14\n",
       "beta-glucan                    13\n",
       "N-glycan                       12\n",
       "exopolysaccharide              10\n",
       "-                               9\n",
       "fructan                         8\n",
       "alpha-mannan                    8\n",
       "host glycan                     7\n",
       "xyloglucan                      7\n",
       "plant polysaccharide            6\n",
       "glycoprotein                    6\n",
       "human milk oligosaccharide      5\n",
       "hemicellulose                   5\n",
       "O-glycan                        3\n",
       "Name: high_level_substr, dtype: int64"
      ]
     },
     "execution_count": 40,
     "metadata": {},
     "output_type": "execute_result"
    }
   ],
   "source": [
    "data[\"high_level_substr\"].value_counts()"
   ]
  },
  {
   "cell_type": "code",
   "execution_count": 41,
   "id": "ed8d3c77",
   "metadata": {},
   "outputs": [],
   "source": [
    "# selected_classes_high_level = ['capsule polysaccharide', 'algal glycans', 'xylan', 'pectin']"
   ]
  },
  {
   "cell_type": "code",
   "execution_count": 42,
   "id": "77d1a3f4",
   "metadata": {},
   "outputs": [],
   "source": [
    "selected_classes_high_level = ['algal glycans']"
   ]
  },
  {
   "cell_type": "code",
   "execution_count": 43,
   "id": "82024160",
   "metadata": {},
   "outputs": [],
   "source": [
    "# class_proportions = data[\"high_level_substr\"].value_counts()/data[\"high_level_substr\"].value_counts().sum()"
   ]
  },
  {
   "cell_type": "code",
   "execution_count": 44,
   "id": "e4628a49",
   "metadata": {},
   "outputs": [],
   "source": [
    "data_model = data.copy()"
   ]
  },
  {
   "cell_type": "code",
   "execution_count": 45,
   "id": "371edef7",
   "metadata": {},
   "outputs": [],
   "source": [
    "from sklearn.model_selection import train_test_split"
   ]
  },
  {
   "cell_type": "code",
   "execution_count": 46,
   "id": "c71fe45a",
   "metadata": {},
   "outputs": [],
   "source": [
    "# selected_classes_low_level = [\"O-glycan,N-glycan\"]"
   ]
  },
  {
   "cell_type": "code",
   "execution_count": 47,
   "id": "2509b373",
   "metadata": {},
   "outputs": [],
   "source": [
    "from sklearn.svm import OneClassSVM"
   ]
  },
  {
   "cell_type": "code",
   "execution_count": 48,
   "id": "a1895aa8",
   "metadata": {},
   "outputs": [],
   "source": [
    "from sklearn.preprocessing import FunctionTransformer"
   ]
  },
  {
   "cell_type": "code",
   "execution_count": 49,
   "id": "27ca4cd2",
   "metadata": {},
   "outputs": [],
   "source": [
    "# from metric_learn import NCA"
   ]
  },
  {
   "cell_type": "code",
   "execution_count": 50,
   "id": "ee352b23",
   "metadata": {},
   "outputs": [],
   "source": [
    "from sklearn.ensemble import IsolationForest"
   ]
  },
  {
   "cell_type": "code",
   "execution_count": 51,
   "id": "103d71fc",
   "metadata": {},
   "outputs": [],
   "source": [
    "from sklearn.neighbors import LocalOutlierFactor"
   ]
  },
  {
   "cell_type": "code",
   "execution_count": 52,
   "id": "064fb2a0",
   "metadata": {},
   "outputs": [],
   "source": [
    "from sklearn.covariance import EllipticEnvelope"
   ]
  },
  {
   "cell_type": "code",
   "execution_count": 53,
   "id": "b65dd218",
   "metadata": {},
   "outputs": [],
   "source": [
    "from imblearn.ensemble import BalancedRandomForestClassifier"
   ]
  },
  {
   "cell_type": "code",
   "execution_count": 54,
   "id": "4246d764",
   "metadata": {},
   "outputs": [],
   "source": [
    "from sklearn.metrics import make_scorer, f1_score, classification_report, confusion_matrix"
   ]
  },
  {
   "cell_type": "code",
   "execution_count": 55,
   "id": "bd72c3d9",
   "metadata": {},
   "outputs": [],
   "source": [
    "import numpy as np"
   ]
  },
  {
   "cell_type": "code",
   "execution_count": 56,
   "id": "48609d33",
   "metadata": {},
   "outputs": [],
   "source": [
    "f1 = make_scorer(f1_score, pos_label = -1)"
   ]
  },
  {
   "cell_type": "code",
   "execution_count": 57,
   "id": "3f4a20e5",
   "metadata": {},
   "outputs": [],
   "source": [
    "def run_one_class(method_type, param_grid, selected_classes_high_level, inlier_outlier):\n",
    "    data_model = data.copy()\n",
    "    clf = Pipeline([('vectorizer',CountVectorizer(tokenizer=lambda x: str(x).replace(\"|\", \",\").split(','), lowercase = False, \n",
    "                                             ngram_range=(1,2))),\n",
    "                 ('ft', FunctionTransformer(lambda x: x.toarray(), accept_sparse=True)), \n",
    "#                 ('nca',NCA()), \n",
    "                ('brf',method_type)\n",
    "               ])\n",
    "    if inlier_outlier == -1:\n",
    "        data_model[\"inlier_outlier\"] = [-1 if classes in selected_classes_high_level else 1 for classes in data_model[\"high_level_substr\"]]\n",
    "        f1 = make_scorer(f1_score, pos_label = -1)\n",
    "    else:\n",
    "        data_model[\"inlier_outlier\"] = [1 if classes in selected_classes_high_level else -1 for classes in data_model[\"high_level_substr\"]]\n",
    "        f1 = make_scorer(f1_score, pos_label = 1)\n",
    "#     data_model[\"inlier_outlier\"] = [-1 if classes in selected_classes_high_level else 1 for classes in data_model[\"high_level_substr\"]]\n",
    "    X_train, X_test, y_train, y_test = train_test_split(data_model[\"sig_gene_seq\"],\n",
    "                                                    data_model[\"inlier_outlier\"], test_size=0.3,\n",
    "                                                    stratify=data_model[\"inlier_outlier\"], \n",
    "                                                       random_state = 42)\n",
    "    train_data = pd.concat([X_train, y_train],1)\n",
    "    test_data = pd.concat([X_test, y_test],1)\n",
    "    gsearch = GridSearchCV(clf, param_grid, cv = 5, n_jobs = 6, scoring = f1, verbose =2)\n",
    "    gsearch.fit(train_data[\"sig_gene_seq\"].values, train_data[\"inlier_outlier\"].values)\n",
    "    print(\"best score\")\n",
    "    print(gsearch.best_score_)\n",
    "    y_test_pred = gsearch.predict(test_data[\"sig_gene_seq\"].values)\n",
    "    print(\"classification report\")\n",
    "    print(classification_report(y_test, y_test_pred))\n",
    "    print(\"confusion matrix for test\")\n",
    "    print(confusion_matrix(y_test, y_test_pred, normalize  = 'true'))"
   ]
  },
  {
   "cell_type": "code",
   "execution_count": 58,
   "id": "9ebafcfa",
   "metadata": {},
   "outputs": [
    {
     "name": "stderr",
     "output_type": "stream",
     "text": [
      "C:\\Users\\vedpi\\AppData\\Local\\Temp/ipykernel_13612/4125007718.py:20: FutureWarning: In a future version of pandas all arguments of concat except for the argument 'objs' will be keyword-only\n",
      "  train_data = pd.concat([X_train, y_train],1)\n",
      "C:\\Users\\vedpi\\AppData\\Local\\Temp/ipykernel_13612/4125007718.py:21: FutureWarning: In a future version of pandas all arguments of concat except for the argument 'objs' will be keyword-only\n",
      "  test_data = pd.concat([X_test, y_test],1)\n"
     ]
    },
    {
     "name": "stdout",
     "output_type": "stream",
     "text": [
      "Fitting 5 folds for each of 19 candidates, totalling 95 fits\n",
      "best score\n",
      "0.175448129204935\n",
      "classification report\n",
      "              precision    recall  f1-score   support\n",
      "\n",
      "          -1       0.82      0.10      0.18       179\n",
      "           1       0.08      0.78      0.15        18\n",
      "\n",
      "    accuracy                           0.16       197\n",
      "   macro avg       0.45      0.44      0.16       197\n",
      "weighted avg       0.75      0.16      0.18       197\n",
      "\n",
      "confusion matrix for test\n",
      "[[0.10055866 0.89944134]\n",
      " [0.22222222 0.77777778]]\n"
     ]
    },
    {
     "name": "stderr",
     "output_type": "stream",
     "text": [
      "C:\\Users\\vedpi\\anaconda3\\envs\\newone\\lib\\site-packages\\sklearn\\model_selection\\_validation.py:372: FitFailedWarning: \n",
      "5 fits failed out of a total of 95.\n",
      "The score on these train-test partitions for these parameters will be set to nan.\n",
      "If these failures are not expected, you can try to debug them by setting error_score='raise'.\n",
      "\n",
      "Below are more details about the failures:\n",
      "--------------------------------------------------------------------------------\n",
      "5 fits failed with the following error:\n",
      "Traceback (most recent call last):\n",
      "  File \"C:\\Users\\vedpi\\anaconda3\\envs\\newone\\lib\\site-packages\\sklearn\\model_selection\\_validation.py\", line 681, in _fit_and_score\n",
      "    estimator.fit(X_train, y_train, **fit_params)\n",
      "  File \"C:\\Users\\vedpi\\anaconda3\\envs\\newone\\lib\\site-packages\\sklearn\\pipeline.py\", line 394, in fit\n",
      "    self._final_estimator.fit(Xt, y, **fit_params_last_step)\n",
      "  File \"C:\\Users\\vedpi\\anaconda3\\envs\\newone\\lib\\site-packages\\sklearn\\svm\\_classes.py\", line 1631, in fit\n",
      "    super().fit(X, np.ones(_num_samples(X)), sample_weight=sample_weight)\n",
      "  File \"C:\\Users\\vedpi\\anaconda3\\envs\\newone\\lib\\site-packages\\sklearn\\svm\\_base.py\", line 255, in fit\n",
      "    fit(X, y, sample_weight, solver_type, kernel, random_seed=seed)\n",
      "  File \"C:\\Users\\vedpi\\anaconda3\\envs\\newone\\lib\\site-packages\\sklearn\\svm\\_base.py\", line 315, in _dense_fit\n",
      "    ) = libsvm.fit(\n",
      "  File \"sklearn\\svm\\_libsvm.pyx\", line 192, in sklearn.svm._libsvm.fit\n",
      "ValueError: nu <= 0 or nu > 1\n",
      "\n",
      "  warnings.warn(some_fits_failed_message, FitFailedWarning)\n",
      "C:\\Users\\vedpi\\anaconda3\\envs\\newone\\lib\\site-packages\\sklearn\\model_selection\\_search.py:969: UserWarning: One or more of the test scores are non-finite: [0.17544813 0.16989763 0.16202965 0.15640061 0.15165736 0.14381946\n",
      " 0.14875791 0.117484   0.09311301 0.07798167 0.0858233  0.06366234\n",
      " 0.05345948 0.06195616 0.05328997 0.03130904 0.02426471 0.03333333\n",
      "        nan]\n",
      "  warnings.warn(\n"
     ]
    }
   ],
   "source": [
    "run_one_class(OneClassSVM(), {\"brf__nu\": np.arange(0.1,1.04,0.05)}, \"capsule polysaccharide\", 1)"
   ]
  },
  {
   "cell_type": "code",
   "execution_count": 59,
   "id": "9bd009e6",
   "metadata": {
    "scrolled": false
   },
   "outputs": [
    {
     "name": "stderr",
     "output_type": "stream",
     "text": [
      "C:\\Users\\vedpi\\AppData\\Local\\Temp/ipykernel_13612/4125007718.py:20: FutureWarning: In a future version of pandas all arguments of concat except for the argument 'objs' will be keyword-only\n",
      "  train_data = pd.concat([X_train, y_train],1)\n",
      "C:\\Users\\vedpi\\AppData\\Local\\Temp/ipykernel_13612/4125007718.py:21: FutureWarning: In a future version of pandas all arguments of concat except for the argument 'objs' will be keyword-only\n",
      "  test_data = pd.concat([X_test, y_test],1)\n"
     ]
    },
    {
     "name": "stdout",
     "output_type": "stream",
     "text": [
      "Fitting 5 folds for each of 3 candidates, totalling 15 fits\n",
      "best score\n",
      "0.16755920271667415\n",
      "classification report\n",
      "              precision    recall  f1-score   support\n",
      "\n",
      "          -1       0.00      0.00      0.00       179\n",
      "           1       0.09      1.00      0.17        18\n",
      "\n",
      "    accuracy                           0.09       197\n",
      "   macro avg       0.05      0.50      0.08       197\n",
      "weighted avg       0.01      0.09      0.02       197\n",
      "\n",
      "confusion matrix for test\n",
      "[[0. 1.]\n",
      " [0. 1.]]\n"
     ]
    },
    {
     "name": "stderr",
     "output_type": "stream",
     "text": [
      "C:\\Users\\vedpi\\anaconda3\\envs\\newone\\lib\\site-packages\\sklearn\\metrics\\_classification.py:1308: UndefinedMetricWarning: Precision and F-score are ill-defined and being set to 0.0 in labels with no predicted samples. Use `zero_division` parameter to control this behavior.\n",
      "  _warn_prf(average, modifier, msg_start, len(result))\n",
      "C:\\Users\\vedpi\\anaconda3\\envs\\newone\\lib\\site-packages\\sklearn\\metrics\\_classification.py:1308: UndefinedMetricWarning: Precision and F-score are ill-defined and being set to 0.0 in labels with no predicted samples. Use `zero_division` parameter to control this behavior.\n",
      "  _warn_prf(average, modifier, msg_start, len(result))\n",
      "C:\\Users\\vedpi\\anaconda3\\envs\\newone\\lib\\site-packages\\sklearn\\metrics\\_classification.py:1308: UndefinedMetricWarning: Precision and F-score are ill-defined and being set to 0.0 in labels with no predicted samples. Use `zero_division` parameter to control this behavior.\n",
      "  _warn_prf(average, modifier, msg_start, len(result))\n"
     ]
    }
   ],
   "source": [
    "run_one_class(IsolationForest(), {\"brf__n_estimators\": [100,300,500]}, \"capsule polysaccharide\", 1)"
   ]
  },
  {
   "cell_type": "code",
   "execution_count": 60,
   "id": "05bb18c7",
   "metadata": {},
   "outputs": [
    {
     "name": "stdout",
     "output_type": "stream",
     "text": [
      "Fitting 5 folds for each of 4 candidates, totalling 20 fits\n"
     ]
    },
    {
     "name": "stderr",
     "output_type": "stream",
     "text": [
      "C:\\Users\\vedpi\\AppData\\Local\\Temp/ipykernel_13612/4125007718.py:20: FutureWarning: In a future version of pandas all arguments of concat except for the argument 'objs' will be keyword-only\n",
      "  train_data = pd.concat([X_train, y_train],1)\n",
      "C:\\Users\\vedpi\\AppData\\Local\\Temp/ipykernel_13612/4125007718.py:21: FutureWarning: In a future version of pandas all arguments of concat except for the argument 'objs' will be keyword-only\n",
      "  test_data = pd.concat([X_test, y_test],1)\n"
     ]
    },
    {
     "name": "stdout",
     "output_type": "stream",
     "text": [
      "best score\n",
      "0.22554243203424526\n",
      "classification report\n",
      "              precision    recall  f1-score   support\n",
      "\n",
      "          -1       0.90      0.26      0.40       179\n",
      "           1       0.09      0.72      0.16        18\n",
      "\n",
      "    accuracy                           0.30       197\n",
      "   macro avg       0.50      0.49      0.28       197\n",
      "weighted avg       0.83      0.30      0.38       197\n",
      "\n",
      "confusion matrix for test\n",
      "[[0.25698324 0.74301676]\n",
      " [0.27777778 0.72222222]]\n"
     ]
    }
   ],
   "source": [
    "run_one_class(LocalOutlierFactor(novelty = True), {\"brf__n_neighbors\": [2,5,10,20]}, \"capsule polysaccharide\", 1)"
   ]
  },
  {
   "cell_type": "code",
   "execution_count": 61,
   "id": "0b5362dc",
   "metadata": {},
   "outputs": [
    {
     "name": "stdout",
     "output_type": "stream",
     "text": [
      "Fitting 5 folds for each of 1 candidates, totalling 5 fits\n"
     ]
    },
    {
     "name": "stderr",
     "output_type": "stream",
     "text": [
      "C:\\Users\\vedpi\\AppData\\Local\\Temp/ipykernel_13612/4125007718.py:20: FutureWarning: In a future version of pandas all arguments of concat except for the argument 'objs' will be keyword-only\n",
      "  train_data = pd.concat([X_train, y_train],1)\n",
      "C:\\Users\\vedpi\\AppData\\Local\\Temp/ipykernel_13612/4125007718.py:21: FutureWarning: In a future version of pandas all arguments of concat except for the argument 'objs' will be keyword-only\n",
      "  test_data = pd.concat([X_test, y_test],1)\n",
      "C:\\Users\\vedpi\\anaconda3\\envs\\newone\\lib\\site-packages\\sklearn\\covariance\\_robust_covariance.py:738: UserWarning: The covariance matrix associated to your dataset is not full rank\n",
      "  warnings.warn(\n"
     ]
    },
    {
     "name": "stdout",
     "output_type": "stream",
     "text": [
      "best score\n",
      "0.031895253682487724\n",
      "classification report\n",
      "              precision    recall  f1-score   support\n",
      "\n",
      "          -1       0.85      0.47      0.60       179\n",
      "           1       0.03      0.17      0.05        18\n",
      "\n",
      "    accuracy                           0.44       197\n",
      "   macro avg       0.44      0.32      0.33       197\n",
      "weighted avg       0.77      0.44      0.55       197\n",
      "\n",
      "confusion matrix for test\n",
      "[[0.46927374 0.53072626]\n",
      " [0.83333333 0.16666667]]\n"
     ]
    }
   ],
   "source": [
    "run_one_class(EllipticEnvelope(), {\"brf__assume_centered\": [False]}, \"capsule polysaccharide\",1)"
   ]
  },
  {
   "cell_type": "code",
   "execution_count": 62,
   "id": "9f752af5",
   "metadata": {},
   "outputs": [
    {
     "name": "stdout",
     "output_type": "stream",
     "text": [
      "Fitting 5 folds for each of 3 candidates, totalling 15 fits\n"
     ]
    },
    {
     "name": "stderr",
     "output_type": "stream",
     "text": [
      "C:\\Users\\vedpi\\AppData\\Local\\Temp/ipykernel_13612/4125007718.py:20: FutureWarning: In a future version of pandas all arguments of concat except for the argument 'objs' will be keyword-only\n",
      "  train_data = pd.concat([X_train, y_train],1)\n",
      "C:\\Users\\vedpi\\AppData\\Local\\Temp/ipykernel_13612/4125007718.py:21: FutureWarning: In a future version of pandas all arguments of concat except for the argument 'objs' will be keyword-only\n",
      "  test_data = pd.concat([X_test, y_test],1)\n"
     ]
    },
    {
     "name": "stdout",
     "output_type": "stream",
     "text": [
      "best score\n",
      "0.7577415761626287\n",
      "classification report\n",
      "              precision    recall  f1-score   support\n",
      "\n",
      "          -1       1.00      0.91      0.95       179\n",
      "           1       0.51      1.00      0.68        18\n",
      "\n",
      "    accuracy                           0.91       197\n",
      "   macro avg       0.76      0.95      0.81       197\n",
      "weighted avg       0.96      0.91      0.93       197\n",
      "\n",
      "confusion matrix for test\n",
      "[[0.90502793 0.09497207]\n",
      " [0.         1.        ]]\n"
     ]
    }
   ],
   "source": [
    "run_one_class(BalancedRandomForestClassifier(), \n",
    "              {\"brf__n_estimators\": [100,300,500]}, \"capsule polysaccharide\",1)"
   ]
  },
  {
   "cell_type": "code",
   "execution_count": 63,
   "id": "7273be45",
   "metadata": {},
   "outputs": [
    {
     "name": "stderr",
     "output_type": "stream",
     "text": [
      "C:\\Users\\vedpi\\AppData\\Local\\Temp/ipykernel_13612/4125007718.py:20: FutureWarning: In a future version of pandas all arguments of concat except for the argument 'objs' will be keyword-only\n",
      "  train_data = pd.concat([X_train, y_train],1)\n",
      "C:\\Users\\vedpi\\AppData\\Local\\Temp/ipykernel_13612/4125007718.py:21: FutureWarning: In a future version of pandas all arguments of concat except for the argument 'objs' will be keyword-only\n",
      "  test_data = pd.concat([X_test, y_test],1)\n"
     ]
    },
    {
     "name": "stdout",
     "output_type": "stream",
     "text": [
      "Fitting 5 folds for each of 3 candidates, totalling 15 fits\n",
      "best score\n",
      "0.4934046345811051\n",
      "classification report\n",
      "              precision    recall  f1-score   support\n",
      "\n",
      "          -1       0.98      0.98      0.98       186\n",
      "           1       0.67      0.73      0.70        11\n",
      "\n",
      "    accuracy                           0.96       197\n",
      "   macro avg       0.83      0.85      0.84       197\n",
      "weighted avg       0.97      0.96      0.97       197\n",
      "\n",
      "confusion matrix for test\n",
      "[[0.97849462 0.02150538]\n",
      " [0.27272727 0.72727273]]\n"
     ]
    }
   ],
   "source": [
    "run_one_class(BalancedRandomForestClassifier(), \n",
    "              {\"brf__n_estimators\": [100,300,500]}, \"xylan\",1)"
   ]
  },
  {
   "cell_type": "code",
   "execution_count": 64,
   "id": "0001ee19",
   "metadata": {},
   "outputs": [
    {
     "name": "stderr",
     "output_type": "stream",
     "text": [
      "C:\\Users\\vedpi\\AppData\\Local\\Temp/ipykernel_13612/4125007718.py:20: FutureWarning: In a future version of pandas all arguments of concat except for the argument 'objs' will be keyword-only\n",
      "  train_data = pd.concat([X_train, y_train],1)\n",
      "C:\\Users\\vedpi\\AppData\\Local\\Temp/ipykernel_13612/4125007718.py:21: FutureWarning: In a future version of pandas all arguments of concat except for the argument 'objs' will be keyword-only\n",
      "  test_data = pd.concat([X_test, y_test],1)\n"
     ]
    },
    {
     "name": "stdout",
     "output_type": "stream",
     "text": [
      "Fitting 5 folds for each of 3 candidates, totalling 15 fits\n",
      "best score\n",
      "0.38259876997907094\n",
      "classification report\n",
      "              precision    recall  f1-score   support\n",
      "\n",
      "          -1       0.99      0.91      0.95       186\n",
      "           1       0.38      0.91      0.54        11\n",
      "\n",
      "    accuracy                           0.91       197\n",
      "   macro avg       0.69      0.91      0.75       197\n",
      "weighted avg       0.96      0.91      0.93       197\n",
      "\n",
      "confusion matrix for test\n",
      "[[0.91397849 0.08602151]\n",
      " [0.09090909 0.90909091]]\n"
     ]
    }
   ],
   "source": [
    "run_one_class(BalancedRandomForestClassifier(), \n",
    "              {\"brf__n_estimators\": [100,300,500]}, \"pectin\",1)"
   ]
  },
  {
   "cell_type": "code",
   "execution_count": 65,
   "id": "e2807b83",
   "metadata": {},
   "outputs": [
    {
     "name": "stderr",
     "output_type": "stream",
     "text": [
      "C:\\Users\\vedpi\\AppData\\Local\\Temp/ipykernel_13612/4125007718.py:20: FutureWarning: In a future version of pandas all arguments of concat except for the argument 'objs' will be keyword-only\n",
      "  train_data = pd.concat([X_train, y_train],1)\n",
      "C:\\Users\\vedpi\\AppData\\Local\\Temp/ipykernel_13612/4125007718.py:21: FutureWarning: In a future version of pandas all arguments of concat except for the argument 'objs' will be keyword-only\n",
      "  test_data = pd.concat([X_test, y_test],1)\n"
     ]
    },
    {
     "name": "stdout",
     "output_type": "stream",
     "text": [
      "Fitting 5 folds for each of 3 candidates, totalling 15 fits\n",
      "best score\n",
      "0.32147186147186146\n",
      "classification report\n",
      "              precision    recall  f1-score   support\n",
      "\n",
      "          -1       1.00      0.75      0.86       183\n",
      "           1       0.23      1.00      0.38        14\n",
      "\n",
      "    accuracy                           0.77       197\n",
      "   macro avg       0.62      0.87      0.62       197\n",
      "weighted avg       0.95      0.77      0.82       197\n",
      "\n",
      "confusion matrix for test\n",
      "[[0.74863388 0.25136612]\n",
      " [0.         1.        ]]\n"
     ]
    }
   ],
   "source": [
    "run_one_class(BalancedRandomForestClassifier(), \n",
    "              {\"brf__n_estimators\": [100,300,500]}, \"O-antigen\",1)"
   ]
  }
 ],
 "metadata": {
  "kernelspec": {
   "display_name": "Python 3 (ipykernel)",
   "language": "python",
   "name": "python3"
  },
  "language_info": {
   "codemirror_mode": {
    "name": "ipython",
    "version": 3
   },
   "file_extension": ".py",
   "mimetype": "text/x-python",
   "name": "python",
   "nbconvert_exporter": "python",
   "pygments_lexer": "ipython3",
   "version": "3.9.7"
  }
 },
 "nbformat": 4,
 "nbformat_minor": 5
}
