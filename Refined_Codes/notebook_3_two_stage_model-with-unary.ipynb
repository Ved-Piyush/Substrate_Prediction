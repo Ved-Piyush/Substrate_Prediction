{
 "cells": [
  {
   "cell_type": "code",
   "execution_count": 39,
   "id": "cbeb5286",
   "metadata": {},
   "outputs": [],
   "source": [
    "# set the directory to where the data is\n",
    "import os\n",
    "\n",
    "os.chdir(r\"D:\\Gene_Project\")"
   ]
  },
  {
   "cell_type": "code",
   "execution_count": 40,
   "id": "48d6f6d2",
   "metadata": {},
   "outputs": [],
   "source": [
    "# pandas for dealing with the data\n",
    "import pandas as pd\n",
    "# setting for seeing the entire string\n",
    "pd.options.display.max_colwidth = None\n",
    "pd.set_option('display.max_rows', 500)"
   ]
  },
  {
   "cell_type": "code",
   "execution_count": 41,
   "id": "ce7a300b",
   "metadata": {},
   "outputs": [],
   "source": [
    "# load the data - new data that was provided\n",
    "data = pd.read_csv(r\"pul_seq_low_high_substr_year_corrected.csv\")"
   ]
  },
  {
   "cell_type": "code",
   "execution_count": 42,
   "id": "fb5de260",
   "metadata": {},
   "outputs": [
    {
     "data": {
      "text/html": [
       "<div>\n",
       "<style scoped>\n",
       "    .dataframe tbody tr th:only-of-type {\n",
       "        vertical-align: middle;\n",
       "    }\n",
       "\n",
       "    .dataframe tbody tr th {\n",
       "        vertical-align: top;\n",
       "    }\n",
       "\n",
       "    .dataframe thead th {\n",
       "        text-align: right;\n",
       "    }\n",
       "</style>\n",
       "<table border=\"1\" class=\"dataframe\">\n",
       "  <thead>\n",
       "    <tr style=\"text-align: right;\">\n",
       "      <th></th>\n",
       "      <th>PULid</th>\n",
       "      <th>sig_gene_seq</th>\n",
       "      <th>low_level_substr</th>\n",
       "      <th>high_level_substr</th>\n",
       "      <th>Pub_year</th>\n",
       "    </tr>\n",
       "  </thead>\n",
       "  <tbody>\n",
       "    <tr>\n",
       "      <th>0</th>\n",
       "      <td>PUL0001</td>\n",
       "      <td>GH1,8.A.49,CE2,GH130,GH130,3.A.1,3.A.1,SBP_bac_1,LacI,GH36,GH113</td>\n",
       "      <td>beta-mannan</td>\n",
       "      <td>beta-mannan</td>\n",
       "      <td>2019</td>\n",
       "    </tr>\n",
       "    <tr>\n",
       "      <th>1</th>\n",
       "      <td>PUL0002</td>\n",
       "      <td>GH16</td>\n",
       "      <td>lichenan</td>\n",
       "      <td>beta-glucan</td>\n",
       "      <td>1996</td>\n",
       "    </tr>\n",
       "    <tr>\n",
       "      <th>2</th>\n",
       "      <td>PUL0003</td>\n",
       "      <td>GH30_8,GH43_16|CBM6</td>\n",
       "      <td>xylan</td>\n",
       "      <td>xylan</td>\n",
       "      <td>2016</td>\n",
       "    </tr>\n",
       "    <tr>\n",
       "      <th>3</th>\n",
       "      <td>PUL0004</td>\n",
       "      <td>4.A.1,GH1</td>\n",
       "      <td>glucose,cellobiose,maltose</td>\n",
       "      <td>multiple_substrates</td>\n",
       "      <td>2016</td>\n",
       "    </tr>\n",
       "    <tr>\n",
       "      <th>4</th>\n",
       "      <td>PUL0005</td>\n",
       "      <td>GH94,GH3</td>\n",
       "      <td>beta-glucan,sophorose,laminaribiose</td>\n",
       "      <td>multiple_substrates</td>\n",
       "      <td>2016</td>\n",
       "    </tr>\n",
       "  </tbody>\n",
       "</table>\n",
       "</div>"
      ],
      "text/plain": [
       "     PULid                                                      sig_gene_seq  \\\n",
       "0  PUL0001  GH1,8.A.49,CE2,GH130,GH130,3.A.1,3.A.1,SBP_bac_1,LacI,GH36,GH113   \n",
       "1  PUL0002                                                              GH16   \n",
       "2  PUL0003                                               GH30_8,GH43_16|CBM6   \n",
       "3  PUL0004                                                         4.A.1,GH1   \n",
       "4  PUL0005                                                          GH94,GH3   \n",
       "\n",
       "                      low_level_substr    high_level_substr Pub_year  \n",
       "0                          beta-mannan          beta-mannan     2019  \n",
       "1                             lichenan         beta-glucan      1996  \n",
       "2                                xylan                xylan     2016  \n",
       "3           glucose,cellobiose,maltose  multiple_substrates     2016  \n",
       "4  beta-glucan,sophorose,laminaribiose  multiple_substrates     2016  "
      ]
     },
     "execution_count": 42,
     "metadata": {},
     "output_type": "execute_result"
    }
   ],
   "source": [
    "data.head()"
   ]
  },
  {
   "cell_type": "code",
   "execution_count": 43,
   "id": "f96d7098",
   "metadata": {},
   "outputs": [],
   "source": [
    "from sklearn.pipeline import Pipeline"
   ]
  },
  {
   "cell_type": "code",
   "execution_count": 44,
   "id": "99300daf",
   "metadata": {},
   "outputs": [],
   "source": [
    "from sklearn.feature_extraction.text import CountVectorizer"
   ]
  },
  {
   "cell_type": "code",
   "execution_count": 45,
   "id": "60e53c73",
   "metadata": {},
   "outputs": [],
   "source": [
    "vectorizer_word = CountVectorizer(tokenizer=lambda x: str(x).replace(\"|\", \",\").split(','), lowercase = False)"
   ]
  },
  {
   "cell_type": "code",
   "execution_count": 46,
   "id": "3c0f1038",
   "metadata": {},
   "outputs": [],
   "source": [
    "from sklearn.model_selection import GridSearchCV"
   ]
  },
  {
   "cell_type": "code",
   "execution_count": 47,
   "id": "91ac51b6",
   "metadata": {},
   "outputs": [],
   "source": [
    "from imblearn.ensemble import BalancedRandomForestClassifier"
   ]
  },
  {
   "cell_type": "code",
   "execution_count": 48,
   "id": "ed8d3c77",
   "metadata": {},
   "outputs": [],
   "source": [
    "selected_classes_high_level = ['capsule polysaccharide', 'algal glycans', 'xylan', 'pectin']"
   ]
  },
  {
   "cell_type": "code",
   "execution_count": 49,
   "id": "c71fe45a",
   "metadata": {},
   "outputs": [],
   "source": [
    "# selected_classes_low_level = [\"O-glycan,N-glycan\"]"
   ]
  },
  {
   "cell_type": "code",
   "execution_count": 50,
   "id": "beab96db",
   "metadata": {},
   "outputs": [],
   "source": [
    "selected_data_high_level = data[data[\"high_level_substr\"].isin(selected_classes_high_level)]"
   ]
  },
  {
   "cell_type": "code",
   "execution_count": 51,
   "id": "cae6131b",
   "metadata": {},
   "outputs": [],
   "source": [
    "# selected_data_high_level[\"high_level_substr\"] = \"known\""
   ]
  },
  {
   "cell_type": "code",
   "execution_count": 52,
   "id": "11e7ffba",
   "metadata": {},
   "outputs": [],
   "source": [
    "# selected_data_low_level = data[data[\"low_level_substr\"].isin(selected_classes_low_level)]"
   ]
  },
  {
   "cell_type": "code",
   "execution_count": 53,
   "id": "c3de6577",
   "metadata": {},
   "outputs": [],
   "source": [
    "part1 = selected_data_high_level[[\"sig_gene_seq\", \"high_level_substr\"]]"
   ]
  },
  {
   "cell_type": "code",
   "execution_count": 54,
   "id": "48f24455",
   "metadata": {},
   "outputs": [],
   "source": [
    "# part2 = selected_data_low_level[[\"sig_gene_seq\", \"low_level_substr\"]]"
   ]
  },
  {
   "cell_type": "code",
   "execution_count": 55,
   "id": "33cfc017",
   "metadata": {},
   "outputs": [],
   "source": [
    "# part2.columns = [\"sig_gene_seq\", \"high_level_substr\"]"
   ]
  },
  {
   "cell_type": "code",
   "execution_count": 56,
   "id": "4aa8ebd3",
   "metadata": {},
   "outputs": [],
   "source": [
    "# part = pd.concat([part1, part2])"
   ]
  },
  {
   "cell_type": "code",
   "execution_count": 57,
   "id": "4f97464b",
   "metadata": {},
   "outputs": [],
   "source": [
    "other_part = data.iloc[~data.index.isin(part1.index.tolist())]"
   ]
  },
  {
   "cell_type": "code",
   "execution_count": 58,
   "id": "8b0384e3",
   "metadata": {},
   "outputs": [],
   "source": [
    "other_part = other_part[[\"sig_gene_seq\", \"high_level_substr\"]]"
   ]
  },
  {
   "cell_type": "code",
   "execution_count": 59,
   "id": "ceef5a42",
   "metadata": {},
   "outputs": [],
   "source": [
    "other_part[\"high_level_substr\"] = \"others\""
   ]
  },
  {
   "cell_type": "code",
   "execution_count": 60,
   "id": "8d0477b8",
   "metadata": {},
   "outputs": [],
   "source": [
    "combo = pd.concat([part1, other_part]).sample(frac = 1.0)"
   ]
  },
  {
   "cell_type": "code",
   "execution_count": 61,
   "id": "ae982dc9",
   "metadata": {},
   "outputs": [
    {
     "data": {
      "text/plain": [
       "others                    478\n",
       "capsule polysaccharide     60\n",
       "algal glycans              40\n",
       "xylan                      38\n",
       "pectin                     38\n",
       "Name: high_level_substr, dtype: int64"
      ]
     },
     "execution_count": 61,
     "metadata": {},
     "output_type": "execute_result"
    }
   ],
   "source": [
    "combo[\"high_level_substr\"].value_counts()"
   ]
  },
  {
   "cell_type": "code",
   "execution_count": 62,
   "id": "0d539da6",
   "metadata": {},
   "outputs": [],
   "source": [
    "from sklearn.model_selection import StratifiedKFold"
   ]
  },
  {
   "cell_type": "code",
   "execution_count": 63,
   "id": "38fb8c17",
   "metadata": {},
   "outputs": [],
   "source": [
    "skf = StratifiedKFold(n_splits=10)"
   ]
  },
  {
   "cell_type": "code",
   "execution_count": 64,
   "id": "a10c9f9e",
   "metadata": {},
   "outputs": [],
   "source": [
    "import numpy as np"
   ]
  },
  {
   "cell_type": "code",
   "execution_count": 65,
   "id": "d77a4b61",
   "metadata": {},
   "outputs": [],
   "source": [
    "length = len(combo[\"high_level_substr\"].value_counts())"
   ]
  },
  {
   "cell_type": "code",
   "execution_count": 66,
   "id": "b963222c",
   "metadata": {},
   "outputs": [],
   "source": [
    "from sklearn.metrics import confusion_matrix"
   ]
  },
  {
   "cell_type": "code",
   "execution_count": 67,
   "id": "6f93bc38",
   "metadata": {},
   "outputs": [],
   "source": [
    "from sklearn.preprocessing import FunctionTransformer"
   ]
  },
  {
   "cell_type": "code",
   "execution_count": 68,
   "id": "3f6ed242",
   "metadata": {},
   "outputs": [],
   "source": [
    "from sklearn.metrics import make_scorer, f1_score, classification_report, confusion_matrix"
   ]
  },
  {
   "cell_type": "code",
   "execution_count": 69,
   "id": "f22145cf",
   "metadata": {},
   "outputs": [],
   "source": [
    "from sklearn.model_selection import train_test_split"
   ]
  },
  {
   "cell_type": "code",
   "execution_count": 70,
   "id": "102e01cc",
   "metadata": {
    "scrolled": false
   },
   "outputs": [
    {
     "name": "stderr",
     "output_type": "stream",
     "text": [
      "C:\\Users\\vedpi\\AppData\\Local\\Temp/ipykernel_9544/1997360951.py:10: FutureWarning: In a future version of pandas all arguments of concat except for the argument 'objs' will be keyword-only\n",
      "  train_data = pd.concat([X_train, y_train],1).reset_index(drop = True)\n",
      "C:\\Users\\vedpi\\AppData\\Local\\Temp/ipykernel_9544/1997360951.py:11: FutureWarning: In a future version of pandas all arguments of concat except for the argument 'objs' will be keyword-only\n",
      "  test_data = pd.concat([X_test, y_test],1).reset_index(drop = True)\n",
      "C:\\Users\\vedpi\\AppData\\Local\\Temp/ipykernel_9544/1997360951.py:10: FutureWarning: In a future version of pandas all arguments of concat except for the argument 'objs' will be keyword-only\n",
      "  train_data = pd.concat([X_train, y_train],1).reset_index(drop = True)\n",
      "C:\\Users\\vedpi\\AppData\\Local\\Temp/ipykernel_9544/1997360951.py:11: FutureWarning: In a future version of pandas all arguments of concat except for the argument 'objs' will be keyword-only\n",
      "  test_data = pd.concat([X_test, y_test],1).reset_index(drop = True)\n",
      "C:\\Users\\vedpi\\AppData\\Local\\Temp/ipykernel_9544/1997360951.py:10: FutureWarning: In a future version of pandas all arguments of concat except for the argument 'objs' will be keyword-only\n",
      "  train_data = pd.concat([X_train, y_train],1).reset_index(drop = True)\n",
      "C:\\Users\\vedpi\\AppData\\Local\\Temp/ipykernel_9544/1997360951.py:11: FutureWarning: In a future version of pandas all arguments of concat except for the argument 'objs' will be keyword-only\n",
      "  test_data = pd.concat([X_test, y_test],1).reset_index(drop = True)\n",
      "C:\\Users\\vedpi\\AppData\\Local\\Temp/ipykernel_9544/1997360951.py:10: FutureWarning: In a future version of pandas all arguments of concat except for the argument 'objs' will be keyword-only\n",
      "  train_data = pd.concat([X_train, y_train],1).reset_index(drop = True)\n",
      "C:\\Users\\vedpi\\AppData\\Local\\Temp/ipykernel_9544/1997360951.py:11: FutureWarning: In a future version of pandas all arguments of concat except for the argument 'objs' will be keyword-only\n",
      "  test_data = pd.concat([X_test, y_test],1).reset_index(drop = True)\n",
      "C:\\Users\\vedpi\\AppData\\Local\\Temp/ipykernel_9544/1997360951.py:10: FutureWarning: In a future version of pandas all arguments of concat except for the argument 'objs' will be keyword-only\n",
      "  train_data = pd.concat([X_train, y_train],1).reset_index(drop = True)\n",
      "C:\\Users\\vedpi\\AppData\\Local\\Temp/ipykernel_9544/1997360951.py:11: FutureWarning: In a future version of pandas all arguments of concat except for the argument 'objs' will be keyword-only\n",
      "  test_data = pd.concat([X_test, y_test],1).reset_index(drop = True)\n",
      "C:\\Users\\vedpi\\AppData\\Local\\Temp/ipykernel_9544/1997360951.py:10: FutureWarning: In a future version of pandas all arguments of concat except for the argument 'objs' will be keyword-only\n",
      "  train_data = pd.concat([X_train, y_train],1).reset_index(drop = True)\n",
      "C:\\Users\\vedpi\\AppData\\Local\\Temp/ipykernel_9544/1997360951.py:11: FutureWarning: In a future version of pandas all arguments of concat except for the argument 'objs' will be keyword-only\n",
      "  test_data = pd.concat([X_test, y_test],1).reset_index(drop = True)\n",
      "C:\\Users\\vedpi\\AppData\\Local\\Temp/ipykernel_9544/1997360951.py:10: FutureWarning: In a future version of pandas all arguments of concat except for the argument 'objs' will be keyword-only\n",
      "  train_data = pd.concat([X_train, y_train],1).reset_index(drop = True)\n",
      "C:\\Users\\vedpi\\AppData\\Local\\Temp/ipykernel_9544/1997360951.py:11: FutureWarning: In a future version of pandas all arguments of concat except for the argument 'objs' will be keyword-only\n",
      "  test_data = pd.concat([X_test, y_test],1).reset_index(drop = True)\n",
      "C:\\Users\\vedpi\\AppData\\Local\\Temp/ipykernel_9544/1997360951.py:10: FutureWarning: In a future version of pandas all arguments of concat except for the argument 'objs' will be keyword-only\n",
      "  train_data = pd.concat([X_train, y_train],1).reset_index(drop = True)\n",
      "C:\\Users\\vedpi\\AppData\\Local\\Temp/ipykernel_9544/1997360951.py:11: FutureWarning: In a future version of pandas all arguments of concat except for the argument 'objs' will be keyword-only\n",
      "  test_data = pd.concat([X_test, y_test],1).reset_index(drop = True)\n",
      "C:\\Users\\vedpi\\AppData\\Local\\Temp/ipykernel_9544/1997360951.py:10: FutureWarning: In a future version of pandas all arguments of concat except for the argument 'objs' will be keyword-only\n",
      "  train_data = pd.concat([X_train, y_train],1).reset_index(drop = True)\n",
      "C:\\Users\\vedpi\\AppData\\Local\\Temp/ipykernel_9544/1997360951.py:11: FutureWarning: In a future version of pandas all arguments of concat except for the argument 'objs' will be keyword-only\n",
      "  test_data = pd.concat([X_test, y_test],1).reset_index(drop = True)\n",
      "C:\\Users\\vedpi\\AppData\\Local\\Temp/ipykernel_9544/1997360951.py:10: FutureWarning: In a future version of pandas all arguments of concat except for the argument 'objs' will be keyword-only\n",
      "  train_data = pd.concat([X_train, y_train],1).reset_index(drop = True)\n",
      "C:\\Users\\vedpi\\AppData\\Local\\Temp/ipykernel_9544/1997360951.py:11: FutureWarning: In a future version of pandas all arguments of concat except for the argument 'objs' will be keyword-only\n",
      "  test_data = pd.concat([X_test, y_test],1).reset_index(drop = True)\n"
     ]
    }
   ],
   "source": [
    "cm1 = np.zeros((length, length))\n",
    "unraveled_positions = []\n",
    "for train_index, test_index in skf.split(combo[\"sig_gene_seq\"], combo[\"high_level_substr\"]):\n",
    "    \n",
    "    # fit the search\n",
    "#     search = GridSearchCV(clf, param_grid, n_jobs=6 , verbose = 3, cv = 5, scoring = \"balanced_accuracy\")\n",
    "    X_train, X_test = combo[[\"sig_gene_seq\"]].iloc[train_index,:], combo[[\"sig_gene_seq\"]].iloc[test_index,:]\n",
    "    y_train, y_test = combo[[\"high_level_substr\"]].iloc[train_index,:], combo[[\"high_level_substr\"]].iloc[test_index,:]\n",
    "    \n",
    "    train_data = pd.concat([X_train, y_train],1).reset_index(drop = True)\n",
    "    test_data = pd.concat([X_test, y_test],1).reset_index(drop = True)\n",
    "    \n",
    "    whole_classes = []\n",
    "    whole_classes_proba = []\n",
    "    for classes in np.unique(combo[[\"high_level_substr\"]]):\n",
    "        if classes != \"others\":\n",
    "            clf = Pipeline([('vectorizer',CountVectorizer(tokenizer=lambda x: str(x).replace(\"|\", \",\").split(','), lowercase = False, \n",
    "                                             ngram_range=(1,2))),\n",
    "                ('ft', FunctionTransformer(lambda x: x.toarray(), accept_sparse=True)), \n",
    "#                 ('nca',NCA()), \n",
    "            ('brf',BalancedRandomForestClassifier())\n",
    "            ])\n",
    "            \n",
    "            train_data_inner = train_data.copy()\n",
    "#             test_data_inner = test_data.copy()\n",
    "                           \n",
    "            train_data_inner[\"high_level_substr\"] = [1 if substr == classes else 0 for substr in train_data_inner[\"high_level_substr\"]]\n",
    "            clf.fit(train_data_inner[\"sig_gene_seq\"], train_data_inner[\"high_level_substr\"])               \n",
    "        \n",
    "            y_pred = clf.predict(test_data[\"sig_gene_seq\"])\n",
    "            y_pred_proba = clf.predict_proba(test_data[\"sig_gene_seq\"])\n",
    "#             test_data_inner[\"y_pred_\" + classes] = y_pred\n",
    "            test_data[\"y_pred_\" + classes] = y_pred\n",
    "            whole_classes.append(\"y_pred_\" + classes)\n",
    "            test_data[\"y_pred_\" + classes + \"_proba\"] = y_pred_proba[:,1]\n",
    "            whole_classes_proba.append(\"y_pred_\" + classes + \"_proba\")\n",
    "            test_data[\"pred_class_sum\"] = test_data[whole_classes].sum(axis = 1)\n",
    "            test_data[\"final_pred\"] = [whole_classes[item].split(\"_\")[-1] for item in test_data[whole_classes_proba].values.argmax(1).tolist()]\n",
    "            test_data[\"pred_high_level_substr\"] = [\"others\" if n == 0 else test_data[\"final_pred\"][i] for i, n in enumerate(test_data[\"pred_class_sum\"])]\n",
    "\n",
    "\n",
    "    cm = confusion_matrix(test_data[\"high_level_substr\"],\n",
    "                                  test_data[\"pred_high_level_substr\"], normalize = 'true', \n",
    "                                 labels = np.unique(combo[[\"high_level_substr\"]]).tolist())\n",
    "#             df_cm = pd.DataFrame(cm, index = [i for i in np.unique(combo[[\"high_level_substr\"]]).tolist()],\n",
    "#                   columns = [i for i in np.unique(combo[[\"high_level_substr\"]]).tolist()])\n",
    "    \n",
    "    unraveled_positions.append(cm.ravel().tolist())\n",
    "    \n",
    "    cm1 += cm  "
   ]
  },
  {
   "cell_type": "code",
   "execution_count": 71,
   "id": "0401cc72",
   "metadata": {},
   "outputs": [],
   "source": [
    "from sklearn.metrics import confusion_matrix"
   ]
  },
  {
   "cell_type": "code",
   "execution_count": 72,
   "id": "cb1536ec",
   "metadata": {},
   "outputs": [],
   "source": [
    "# get the array oaf confusion matrix\n",
    "cm = cm1/10\n",
    "\n",
    "# dataframe for confusion matrix\n",
    "df_cm = pd.DataFrame(cm, index = [i for i in combo[\"high_level_substr\"].value_counts().keys().tolist()],\n",
    "                  columns = [i for i in combo[\"high_level_substr\"].value_counts().keys().tolist()])"
   ]
  },
  {
   "cell_type": "code",
   "execution_count": 80,
   "id": "94eff5c0",
   "metadata": {},
   "outputs": [
    {
     "data": {
      "text/plain": [
       "0.7489716312056738"
      ]
     },
     "execution_count": 80,
     "metadata": {},
     "output_type": "execute_result"
    }
   ],
   "source": [
    "# average accuracy averaged over the classes\n",
    "np.diag(df_cm).mean()"
   ]
  },
  {
   "cell_type": "code",
   "execution_count": 73,
   "id": "a97b1d5d",
   "metadata": {},
   "outputs": [],
   "source": [
    "# seaborn that helps with aesthetically pleasing plots\n",
    "import seaborn as sns\n",
    "\n",
    "import matplotlib.pyplot as plt"
   ]
  },
  {
   "cell_type": "code",
   "execution_count": 74,
   "id": "6a399de3",
   "metadata": {},
   "outputs": [
    {
     "data": {
      "image/png": "[encoded data removed]",
      "text/plain": [
       "<Figure size 720x720 with 2 Axes>"
      ]
     },
     "metadata": {
      "needs_background": "light"
     },
     "output_type": "display_data"
    }
   ],
   "source": [
    "# make the plot\n",
    "fig = plt.figure(figsize = (10, 10))\n",
    "sns.heatmap(df_cm, annot = True)\n",
    "plt.title(\"confusion matrix for the test set\", fontsize = 20)\n",
    "plt.xlabel(\"Predicted Label\", fontsize = 20)\n",
    "plt.ylabel(\"True Label\", fontsize = 20)\n",
    "plt.show()\n"
   ]
  },
  {
   "cell_type": "code",
   "execution_count": 75,
   "id": "c3619425",
   "metadata": {},
   "outputs": [],
   "source": [
    "flattened_confusion_matrices = pd.DataFrame(unraveled_positions)\n",
    "df_cm_std = np.array(flattened_confusion_matrices.std(0)).reshape(df_cm.shape[1],df_cm.shape[1])/np.sqrt(10)\n",
    "df_cm_std = pd.DataFrame(df_cm_std, index = [i for i in combo[\"high_level_substr\"].value_counts().keys().tolist()],\n",
    "                  columns = [i for i in combo[\"high_level_substr\"].value_counts().keys().tolist()])"
   ]
  },
  {
   "cell_type": "code",
   "execution_count": 76,
   "id": "1fde9225",
   "metadata": {},
   "outputs": [
    {
     "data": {
      "image/png": "[encoded data removed]",
      "text/plain": [
       "<Figure size 720x720 with 2 Axes>"
      ]
     },
     "metadata": {
      "needs_background": "light"
     },
     "output_type": "display_data"
    }
   ],
   "source": [
    "# make the plot\n",
    "fig = plt.figure(figsize = (10, 10))\n",
    "sns.heatmap(df_cm_std, annot = True)\n",
    "plt.title(\"Standard deviation for confusion matrix for the test set\", fontsize = 20)\n",
    "plt.xlabel(\"Predicted Label\", fontsize = 20)\n",
    "plt.ylabel(\"True Label\", fontsize = 20)\n",
    "plt.show()\n"
   ]
  },
  {
   "cell_type": "code",
   "execution_count": 81,
   "id": "e4a0aa08",
   "metadata": {},
   "outputs": [
    {
     "data": {
      "text/plain": [
       "0.05331679059002199"
      ]
     },
     "execution_count": 81,
     "metadata": {},
     "output_type": "execute_result"
    }
   ],
   "source": [
    "# average standard errors\n",
    "np.diag(df_cm_std).mean()"
   ]
  },
  {
   "cell_type": "code",
   "execution_count": 82,
   "id": "5c2088e7",
   "metadata": {},
   "outputs": [
    {
     "data": {
      "text/plain": [
       "0.75"
      ]
     },
     "execution_count": 82,
     "metadata": {},
     "output_type": "execute_result"
    }
   ],
   "source": [
    "np.diag(df_cm).mean().round(2)"
   ]
  },
  {
   "cell_type": "code",
   "execution_count": 90,
   "id": "914d0d73",
   "metadata": {},
   "outputs": [],
   "source": [
    "overall_df = pd.DataFrame({\"Balanced_Accuracy\": np.diag(df_cm).mean().round(2), \n",
    "                          \"Balanced_Std_Error\": np.diag(df_cm_std).mean().round(2)}, index = [0])"
   ]
  },
  {
   "cell_type": "code",
   "execution_count": 91,
   "id": "6912cb98",
   "metadata": {},
   "outputs": [
    {
     "data": {
      "text/html": [
       "<div>\n",
       "<style scoped>\n",
       "    .dataframe tbody tr th:only-of-type {\n",
       "        vertical-align: middle;\n",
       "    }\n",
       "\n",
       "    .dataframe tbody tr th {\n",
       "        vertical-align: top;\n",
       "    }\n",
       "\n",
       "    .dataframe thead th {\n",
       "        text-align: right;\n",
       "    }\n",
       "</style>\n",
       "<table border=\"1\" class=\"dataframe\">\n",
       "  <thead>\n",
       "    <tr style=\"text-align: right;\">\n",
       "      <th></th>\n",
       "      <th>Balanced_Accuracy</th>\n",
       "      <th>Balanced_Std_Error</th>\n",
       "    </tr>\n",
       "  </thead>\n",
       "  <tbody>\n",
       "    <tr>\n",
       "      <th>0</th>\n",
       "      <td>0.75</td>\n",
       "      <td>0.05</td>\n",
       "    </tr>\n",
       "  </tbody>\n",
       "</table>\n",
       "</div>"
      ],
      "text/plain": [
       "   Balanced_Accuracy  Balanced_Std_Error\n",
       "0               0.75                0.05"
      ]
     },
     "execution_count": 91,
     "metadata": {},
     "output_type": "execute_result"
    }
   ],
   "source": [
    "overall_df"
   ]
  },
  {
   "cell_type": "code",
   "execution_count": 78,
   "id": "1758df52",
   "metadata": {},
   "outputs": [
    {
     "data": {
      "text/html": [
       "<div>\n",
       "<style scoped>\n",
       "    .dataframe tbody tr th:only-of-type {\n",
       "        vertical-align: middle;\n",
       "    }\n",
       "\n",
       "    .dataframe tbody tr th {\n",
       "        vertical-align: top;\n",
       "    }\n",
       "\n",
       "    .dataframe thead th {\n",
       "        text-align: right;\n",
       "    }\n",
       "</style>\n",
       "<table border=\"1\" class=\"dataframe\">\n",
       "  <thead>\n",
       "    <tr style=\"text-align: right;\">\n",
       "      <th></th>\n",
       "      <th>sig_gene_seq</th>\n",
       "      <th>high_level_substr</th>\n",
       "    </tr>\n",
       "  </thead>\n",
       "  <tbody>\n",
       "    <tr>\n",
       "      <th>0</th>\n",
       "      <td>GH1,8.A.49,CE2,GH130,GH130,3.A.1,3.A.1,SBP_bac_1,LacI,GH36,GH113</td>\n",
       "      <td>others</td>\n",
       "    </tr>\n",
       "    <tr>\n",
       "      <th>1</th>\n",
       "      <td>GH16</td>\n",
       "      <td>others</td>\n",
       "    </tr>\n",
       "    <tr>\n",
       "      <th>2</th>\n",
       "      <td>GH30_8,GH43_16|CBM6</td>\n",
       "      <td>xylan</td>\n",
       "    </tr>\n",
       "    <tr>\n",
       "      <th>3</th>\n",
       "      <td>4.A.1,GH1</td>\n",
       "      <td>others</td>\n",
       "    </tr>\n",
       "    <tr>\n",
       "      <th>4</th>\n",
       "      <td>GH94,GH3</td>\n",
       "      <td>others</td>\n",
       "    </tr>\n",
       "    <tr>\n",
       "      <th>...</th>\n",
       "      <td>...</td>\n",
       "      <td>...</td>\n",
       "    </tr>\n",
       "    <tr>\n",
       "      <th>649</th>\n",
       "      <td>GH2,2.A.21,3.D.1,GH96,GH96,2.A.1,GH50,GH50,GH50,GH29,SBP_bac_1,TrmB,1.B.14,GntR,GH50,1.B.14,GH86,3.A.1,3.A.1,3.A.1,3.A.1,PfkB,GH117|GH117,Pyr_redox_2</td>\n",
       "      <td>algal glycans</td>\n",
       "    </tr>\n",
       "    <tr>\n",
       "      <th>650</th>\n",
       "      <td>GH16_16,HTH_8,PfkB,GH2,GH117|GH117,3.A.1,3.A.1,3.A.1,LacI,GH50</td>\n",
       "      <td>algal glycans</td>\n",
       "    </tr>\n",
       "    <tr>\n",
       "      <th>651</th>\n",
       "      <td>GerE,1.B.14,GH144,GH144,CE1,GH3,BLUF,PL6|PL6_1,PL12,PL6|PL6_1,PL17_2|PL17,AraC_binding,1.B.14,8.A.46,GntR,2.A.1,LacI,PfkB,TPR_2,Response_reg</td>\n",
       "      <td>algal glycans</td>\n",
       "    </tr>\n",
       "    <tr>\n",
       "      <th>652</th>\n",
       "      <td>1.B.14,PL7,PL7,GntR</td>\n",
       "      <td>algal glycans</td>\n",
       "    </tr>\n",
       "    <tr>\n",
       "      <th>653</th>\n",
       "      <td>GH166,GT4,2.A.66</td>\n",
       "      <td>others</td>\n",
       "    </tr>\n",
       "  </tbody>\n",
       "</table>\n",
       "<p>654 rows × 2 columns</p>\n",
       "</div>"
      ],
      "text/plain": [
       "                                                                                                                                              sig_gene_seq  \\\n",
       "0                                                                                         GH1,8.A.49,CE2,GH130,GH130,3.A.1,3.A.1,SBP_bac_1,LacI,GH36,GH113   \n",
       "1                                                                                                                                                     GH16   \n",
       "2                                                                                                                                      GH30_8,GH43_16|CBM6   \n",
       "3                                                                                                                                                4.A.1,GH1   \n",
       "4                                                                                                                                                 GH94,GH3   \n",
       "..                                                                                                                                                     ...   \n",
       "649  GH2,2.A.21,3.D.1,GH96,GH96,2.A.1,GH50,GH50,GH50,GH29,SBP_bac_1,TrmB,1.B.14,GntR,GH50,1.B.14,GH86,3.A.1,3.A.1,3.A.1,3.A.1,PfkB,GH117|GH117,Pyr_redox_2   \n",
       "650                                                                                         GH16_16,HTH_8,PfkB,GH2,GH117|GH117,3.A.1,3.A.1,3.A.1,LacI,GH50   \n",
       "651           GerE,1.B.14,GH144,GH144,CE1,GH3,BLUF,PL6|PL6_1,PL12,PL6|PL6_1,PL17_2|PL17,AraC_binding,1.B.14,8.A.46,GntR,2.A.1,LacI,PfkB,TPR_2,Response_reg   \n",
       "652                                                                                                                                    1.B.14,PL7,PL7,GntR   \n",
       "653                                                                                                                                       GH166,GT4,2.A.66   \n",
       "\n",
       "    high_level_substr  \n",
       "0              others  \n",
       "1              others  \n",
       "2               xylan  \n",
       "3              others  \n",
       "4              others  \n",
       "..                ...  \n",
       "649     algal glycans  \n",
       "650     algal glycans  \n",
       "651     algal glycans  \n",
       "652     algal glycans  \n",
       "653            others  \n",
       "\n",
       "[654 rows x 2 columns]"
      ]
     },
     "execution_count": 78,
     "metadata": {},
     "output_type": "execute_result"
    }
   ],
   "source": [
    "combo.reindex(data.index)"
   ]
  }
 ],
 "metadata": {
  "kernelspec": {
   "display_name": "Python 3 (ipykernel)",
   "language": "python",
   "name": "python3"
  },
  "language_info": {
   "codemirror_mode": {
    "name": "ipython",
    "version": 3
   },
   "file_extension": ".py",
   "mimetype": "text/x-python",
   "name": "python",
   "nbconvert_exporter": "python",
   "pygments_lexer": "ipython3",
   "version": "3.9.7"
  }
 },
 "nbformat": 4,
 "nbformat_minor": 5
}
